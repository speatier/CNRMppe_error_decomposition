{
 "cells": [
  {
   "cell_type": "markdown",
   "metadata": {},
   "source": [
    "# Import Module"
   ]
  },
  {
   "cell_type": "code",
   "execution_count": 1,
   "metadata": {},
   "outputs": [],
   "source": [
    "# Computational modules \n",
    "%matplotlib inline\n",
    "import xarray as xr\n",
    "import glob\n",
    "import os\n",
    "import numpy as np\n",
    "import netCDF4\n",
    "from netCDF4 import Dataset\n",
    "import pandas as pd\n",
    "import re\n",
    "from array import array\n",
    "from pylab import *\n",
    "#import geopandas\n",
    "from eofs.xarray import Eof\n",
    "from eofs.multivariate.standard import MultivariateEof\n",
    "\n",
    "# Plotting modules \n",
    "import matplotlib.pyplot as plt\n",
    "from mpl_toolkits.basemap import Basemap\n",
    "import pandas.plotting\n",
    "import matplotlib.ticker as ticker\n",
    "import seaborn as sns\n",
    "import cartopy.crs as ccrs\n",
    "import cartopy.feature as cfeature\n",
    "from matplotlib.colors import BoundaryNorm\n",
    "\n",
    "# Scikit-learn\n",
    "from sklearn import linear_model\n",
    "from sklearn.linear_model import LassoCV, LassoLarsCV, LassoLarsIC\n",
    "from sklearn.linear_model import Lasso\n",
    "from sklearn.metrics import r2_score\n",
    "from sklearn import preprocessing\n",
    "from sklearn import tree\n",
    "from sklearn.ensemble import RandomForestClassifier\n",
    "from sklearn.metrics import confusion_matrix\n",
    "from sklearn import metrics\n",
    "from sklearn.neural_network import MLPRegressor\n",
    "from scipy.optimize import minimize\n",
    "from scipy.optimize import dual_annealing\n",
    "from sklearn.decomposition import PCA"
   ]
  },
  {
   "cell_type": "markdown",
   "metadata": {},
   "source": [
    "# Settings"
   ]
  },
  {
   "cell_type": "markdown",
   "metadata": {},
   "source": [
    "### Variables"
   ]
  },
  {
   "cell_type": "code",
   "execution_count": 2,
   "metadata": {},
   "outputs": [],
   "source": [
    "variables = ['rsut', 'rsdt']\n",
    "variable = 'SW'\n",
    "TITLE = 'Short Wave fluxes'\n",
    "ylabel = '$E_{SW}$ ($W.m^{-2}.K^{-1}$)'"
   ]
  },
  {
   "cell_type": "markdown",
   "metadata": {},
   "source": [
    "### Paths"
   ]
  },
  {
   "cell_type": "code",
   "execution_count": 3,
   "metadata": {},
   "outputs": [],
   "source": [
    "path_official='/data/scratch/globc/peatier/CMIP6/CNRM-CM6-1/CFMIP/amip/'\n",
    "path_PPE='/data/scratch/globc/peatier/CNRM-CM6-1_PPE/'\n",
    "path_files='/data/home/globc/peatier/CNRMppe/PPE/ENSEMBLE2/files/'"
   ]
  },
  {
   "cell_type": "markdown",
   "metadata": {},
   "source": [
    "### List of members"
   ]
  },
  {
   "cell_type": "code",
   "execution_count": 4,
   "metadata": {},
   "outputs": [
    {
     "data": {
      "text/plain": [
       "102"
      ]
     },
     "execution_count": 4,
     "metadata": {},
     "output_type": "execute_result"
    }
   ],
   "source": [
    "nb_p_list = ['p311', 'p312', 'p314', 'p316',\n",
    "                    'p317', 'p319', 'p320', 'p321', 'p322', 'p324', 'p325', 'p326', \n",
    "                    'p329', 'p330', 'p331', 'p332', 'p335', 'p336', 'p337' ,'p338', \n",
    "                    'p340', 'p341', 'p343', 'p344', 'p346', 'p347', 'p348', 'p349', \n",
    "                    'p350', 'p353', 'p355', 'p357', 'p359', 'p360', \n",
    "                    'p361', 'p363', 'p365', 'p367', 'p368', 'p369', \n",
    "                    'p372', 'p373', 'p374', 'p375', 'p376', 'p378', 'p381', 'p382', \n",
    "                    'p384', 'p386', 'p388', 'p389', 'p391', 'p392', 'p393', \n",
    "                    'p394', 'p395', 'p396', 'p398', 'p399', 'p400', 'p404', \n",
    "                    'p406', 'p407', 'p409', 'p410', 'p411', 'p412',\n",
    "                    'p414','p416',\n",
    "                    'p413','p419','p424','p426','p428','p421','p423',\n",
    "                    'p425','p427','p429','p430','p436','p438','p431','p433',\n",
    "                    'p442','p446','p443','p445','p447',\n",
    "                    'p452','p454','p456','p458','p457','p459',\n",
    "                    'p460','p465','p467','p469',\n",
    "                    'p470','p471']\n",
    "\n",
    "len(nb_p_list)"
   ]
  },
  {
   "cell_type": "markdown",
   "metadata": {},
   "source": [
    "# Functions"
   ]
  },
  {
   "cell_type": "code",
   "execution_count": 5,
   "metadata": {},
   "outputs": [],
   "source": [
    "def get_3D_SW_xarr(path, filename, variables):\n",
    "\n",
    "    # First step : download the data into dataframe\n",
    "    file = xr.open_mfdataset(path+filename,combine='by_coords')\n",
    "    \n",
    "    # Second step : compute the annual average \n",
    "    df = file[variables].mean('time', keep_attrs=True)\n",
    "    SW = df['rsdt'] - df['rsut']\n",
    "    \n",
    "    return SW"
   ]
  },
  {
   "cell_type": "code",
   "execution_count": 6,
   "metadata": {},
   "outputs": [],
   "source": [
    "def load_monthly_clim(path, filename, variables) :\n",
    "    \n",
    "    file = xr.open_mfdataset(path+filename,combine='by_coords')\n",
    "    df=file[variables].to_dataframe()\n",
    "    \n",
    "    # Compute Climatological Annual Cycle :\n",
    "    df1=df.reset_index(level=['time', 'lat', 'lon'])\n",
    "    df1['year']=pd.DatetimeIndex(df1['time']).year\n",
    "    df1['month']=pd.DatetimeIndex(df1['time']).month\n",
    "    \n",
    "    #list_ind = []\n",
    "    #cpt=0\n",
    "    #for i in df1['year'] : \n",
    "    #    if i>1981 :\n",
    "    #        list_ind.append(cpt)\n",
    "    #        cpt+=1\n",
    "    #    else : \n",
    "    #        cpt+=1\n",
    "            \n",
    "    #df2 = df1.drop(list_ind)\n",
    "    df_mean=df1.groupby(['month', 'lat', 'lon']).mean()\n",
    "    df_mean=df_mean.drop(columns='year')\n",
    "    \n",
    "    return df_mean"
   ]
  },
  {
   "cell_type": "markdown",
   "metadata": {},
   "source": [
    "# Get data : obs, PPE, p1"
   ]
  },
  {
   "cell_type": "code",
   "execution_count": 7,
   "metadata": {},
   "outputs": [],
   "source": [
    "path_observation = '/data/scratch/globc/peatier/obs_data/CERES/'\n",
    "filename = 'CERES_EBAF-TOA_Ed4.1_Subset_200003-201910_regrid.nc'"
   ]
  },
  {
   "cell_type": "code",
   "execution_count": 8,
   "metadata": {},
   "outputs": [
    {
     "data": {
      "text/html": [
       "<div>\n",
       "<style scoped>\n",
       "    .dataframe tbody tr th:only-of-type {\n",
       "        vertical-align: middle;\n",
       "    }\n",
       "\n",
       "    .dataframe tbody tr th {\n",
       "        vertical-align: top;\n",
       "    }\n",
       "\n",
       "    .dataframe thead th {\n",
       "        text-align: right;\n",
       "    }\n",
       "</style>\n",
       "<table border=\"1\" class=\"dataframe\">\n",
       "  <thead>\n",
       "    <tr style=\"text-align: right;\">\n",
       "      <th></th>\n",
       "      <th></th>\n",
       "      <th></th>\n",
       "      <th>toa_sw_all_mon</th>\n",
       "      <th>toa_lw_all_mon</th>\n",
       "      <th>toa_net_all_mon</th>\n",
       "    </tr>\n",
       "    <tr>\n",
       "      <th>month</th>\n",
       "      <th>lat</th>\n",
       "      <th>lon</th>\n",
       "      <th></th>\n",
       "      <th></th>\n",
       "      <th></th>\n",
       "    </tr>\n",
       "  </thead>\n",
       "  <tbody>\n",
       "    <tr>\n",
       "      <th rowspan=\"5\" valign=\"top\">1</th>\n",
       "      <th rowspan=\"5\" valign=\"top\">-88.927735</th>\n",
       "      <th>0.00000</th>\n",
       "      <td>344.953522</td>\n",
       "      <td>189.246185</td>\n",
       "      <td>-38.599289</td>\n",
       "    </tr>\n",
       "    <tr>\n",
       "      <th>1.40625</th>\n",
       "      <td>344.953522</td>\n",
       "      <td>189.246185</td>\n",
       "      <td>-38.599289</td>\n",
       "    </tr>\n",
       "    <tr>\n",
       "      <th>2.81250</th>\n",
       "      <td>344.953522</td>\n",
       "      <td>189.246185</td>\n",
       "      <td>-38.599289</td>\n",
       "    </tr>\n",
       "    <tr>\n",
       "      <th>4.21875</th>\n",
       "      <td>344.992493</td>\n",
       "      <td>189.144440</td>\n",
       "      <td>-38.531315</td>\n",
       "    </tr>\n",
       "    <tr>\n",
       "      <th>5.62500</th>\n",
       "      <td>345.007721</td>\n",
       "      <td>189.104630</td>\n",
       "      <td>-38.504715</td>\n",
       "    </tr>\n",
       "    <tr>\n",
       "      <th>...</th>\n",
       "      <th>...</th>\n",
       "      <th>...</th>\n",
       "      <td>...</td>\n",
       "      <td>...</td>\n",
       "      <td>...</td>\n",
       "    </tr>\n",
       "    <tr>\n",
       "      <th rowspan=\"5\" valign=\"top\">12</th>\n",
       "      <th rowspan=\"5\" valign=\"top\">88.927735</th>\n",
       "      <th>352.96875</th>\n",
       "      <td>0.000000</td>\n",
       "      <td>171.476639</td>\n",
       "      <td>-171.476639</td>\n",
       "    </tr>\n",
       "    <tr>\n",
       "      <th>354.37500</th>\n",
       "      <td>0.000000</td>\n",
       "      <td>171.476639</td>\n",
       "      <td>-171.476639</td>\n",
       "    </tr>\n",
       "    <tr>\n",
       "      <th>355.78125</th>\n",
       "      <td>0.000000</td>\n",
       "      <td>171.500351</td>\n",
       "      <td>-171.500351</td>\n",
       "    </tr>\n",
       "    <tr>\n",
       "      <th>357.18750</th>\n",
       "      <td>0.000000</td>\n",
       "      <td>171.560974</td>\n",
       "      <td>-171.560974</td>\n",
       "    </tr>\n",
       "    <tr>\n",
       "      <th>358.59375</th>\n",
       "      <td>0.000000</td>\n",
       "      <td>171.560974</td>\n",
       "      <td>-171.560974</td>\n",
       "    </tr>\n",
       "  </tbody>\n",
       "</table>\n",
       "<p>393216 rows × 3 columns</p>\n",
       "</div>"
      ],
      "text/plain": [
       "                            toa_sw_all_mon  toa_lw_all_mon  toa_net_all_mon\n",
       "month lat        lon                                                       \n",
       "1     -88.927735 0.00000        344.953522      189.246185       -38.599289\n",
       "                 1.40625        344.953522      189.246185       -38.599289\n",
       "                 2.81250        344.953522      189.246185       -38.599289\n",
       "                 4.21875        344.992493      189.144440       -38.531315\n",
       "                 5.62500        345.007721      189.104630       -38.504715\n",
       "...                                    ...             ...              ...\n",
       "12     88.927735 352.96875        0.000000      171.476639      -171.476639\n",
       "                 354.37500        0.000000      171.476639      -171.476639\n",
       "                 355.78125        0.000000      171.500351      -171.500351\n",
       "                 357.18750        0.000000      171.560974      -171.560974\n",
       "                 358.59375        0.000000      171.560974      -171.560974\n",
       "\n",
       "[393216 rows x 3 columns]"
      ]
     },
     "execution_count": 8,
     "metadata": {},
     "output_type": "execute_result"
    }
   ],
   "source": [
    "# Load data and compute Annual Cycle :\n",
    "file = xr.open_mfdataset(path_observation+filename,combine='by_coords')\n",
    "#file\n",
    "variables = ['toa_sw_all_mon','toa_lw_all_mon', 'toa_net_all_mon']\n",
    "df_obs = load_monthly_clim(path_observation, filename, variables)\n",
    "df_obs"
   ]
  },
  {
   "cell_type": "code",
   "execution_count": 9,
   "metadata": {},
   "outputs": [
    {
     "data": {
      "text/html": [
       "<pre>&lt;xarray.Dataset&gt;\n",
       "Dimensions:          (lat: 128, lon: 256)\n",
       "Coordinates:\n",
       "  * lat              (lat) float64 -88.93 -87.54 -86.14 ... 86.14 87.54 88.93\n",
       "  * lon              (lon) float64 0.0 1.406 2.812 4.219 ... 355.8 357.2 358.6\n",
       "Data variables:\n",
       "    toa_sw_all_mon   (lat, lon) float32 121.35958 121.35958 ... 103.85324\n",
       "    toa_lw_all_mon   (lat, lon) float32 142.8201 142.8201 ... 194.14125\n",
       "    toa_net_all_mon  (lat, lon) float32 -91.40278 -91.40278 ... -126.49493\n",
       "    SW               (lat, lon) float32 51.417324 51.417324 ... 67.64632</pre>"
      ],
      "text/plain": [
       "<xarray.Dataset>\n",
       "Dimensions:          (lat: 128, lon: 256)\n",
       "Coordinates:\n",
       "  * lat              (lat) float64 -88.93 -87.54 -86.14 ... 86.14 87.54 88.93\n",
       "  * lon              (lon) float64 0.0 1.406 2.812 4.219 ... 355.8 357.2 358.6\n",
       "Data variables:\n",
       "    toa_sw_all_mon   (lat, lon) float32 121.35958 121.35958 ... 103.85324\n",
       "    toa_lw_all_mon   (lat, lon) float32 142.8201 142.8201 ... 194.14125\n",
       "    toa_net_all_mon  (lat, lon) float32 -91.40278 -91.40278 ... -126.49493\n",
       "    SW               (lat, lon) float32 51.417324 51.417324 ... 67.64632"
      ]
     },
     "execution_count": 9,
     "metadata": {},
     "output_type": "execute_result"
    }
   ],
   "source": [
    "df_obs['SW'] =  df_obs['toa_net_all_mon'] + df_obs['toa_lw_all_mon']\n",
    "obs = df_obs.groupby(['lat','lon']).mean().to_xarray()\n",
    "obs"
   ]
  },
  {
   "cell_type": "code",
   "execution_count": 11,
   "metadata": {},
   "outputs": [],
   "source": [
    "variables = ['rsut', 'rsdt']\n",
    "# Default simulation\n",
    "path = path_PPE+'ENSEMBLE1/CNRM-CM6-1_amip_PPE/CNRM-CM6-1_amip_r1i1p1f2/'\n",
    "filename = '*_CNRM-CM6-1_amip_*.nc'\n",
    "p1_amip = get_3D_SW_xarr(path, filename, variables)"
   ]
  },
  {
   "cell_type": "code",
   "execution_count": 12,
   "metadata": {},
   "outputs": [],
   "source": [
    "# PPE amip simulations \n",
    "filename='*_amip_*.nc'\n",
    "\n",
    "N=len(nb_p_list)\n",
    "amip={}\n",
    "i = 0\n",
    "while i<N:\n",
    "    nb_p = nb_p_list[i]\n",
    "    #print(nb_p)\n",
    "    path=path_PPE+'ENSEMBLE2/CNRM-CM6-1_amip_LHS500_PPE/CNRM-CM6-1_amip_r1i1'+str(nb_p)+'f2/'\n",
    "    amip[str(nb_p)] = get_3D_SW_xarr(path, filename, variables)\n",
    "    i=i+1"
   ]
  },
  {
   "cell_type": "code",
   "execution_count": 13,
   "metadata": {},
   "outputs": [],
   "source": [
    "amip['p1'] = p1_amip"
   ]
  },
  {
   "cell_type": "markdown",
   "metadata": {},
   "source": [
    "# Calcule full RMSE (ej)"
   ]
  },
  {
   "cell_type": "code",
   "execution_count": 14,
   "metadata": {},
   "outputs": [
    {
     "data": {
      "text/plain": [
       "12.160200795975266"
      ]
     },
     "execution_count": 14,
     "metadata": {},
     "output_type": "execute_result"
    }
   ],
   "source": [
    "# Reference p1\n",
    "diff = (amip['p1'].values - obs[variable].values)**2\n",
    "diff_p1 = sqrt(sum(diff)/(128*256))\n",
    "diff_p1"
   ]
  },
  {
   "cell_type": "code",
   "execution_count": 15,
   "metadata": {},
   "outputs": [],
   "source": [
    "ej = {}\n",
    "#ej['p1'] = diff_p1\n",
    "\n",
    "for p in nb_p_list :\n",
    "    diff_tmp = (amip[p] - obs[variable])**2\n",
    "    diff = sqrt(diff_tmp.sum(dim=['lat', 'lon'])/(128*256))\n",
    "    ej[p] = diff\n"
   ]
  },
  {
   "cell_type": "markdown",
   "metadata": {},
   "source": [
    "### Save"
   ]
  },
  {
   "cell_type": "code",
   "execution_count": 16,
   "metadata": {},
   "outputs": [],
   "source": [
    "np.save(path_files+'npy/CNRMppe_decomposition_ej_'+str(variable)+'.npy', ej)"
   ]
  },
  {
   "cell_type": "markdown",
   "metadata": {},
   "source": [
    "# EOF + truncated RMSE (rj)"
   ]
  },
  {
   "cell_type": "markdown",
   "metadata": {},
   "source": [
    "## EOF"
   ]
  },
  {
   "cell_type": "code",
   "execution_count": 17,
   "metadata": {},
   "outputs": [],
   "source": [
    "n=len(nb_p_list)\n",
    "amip_list=[0]*(n+1)\n",
    "\n",
    "amip_list[0] = amip['p1']\n",
    "\n",
    "i = 0\n",
    "while i<n:\n",
    "    nb_p = nb_p_list[i]\n",
    "    #print(nb_p)\n",
    "    tmp = amip[str(nb_p)]\n",
    "    amip_list[i+1] = tmp\n",
    "    i+=1"
   ]
  },
  {
   "cell_type": "code",
   "execution_count": 18,
   "metadata": {},
   "outputs": [],
   "source": [
    "matrix = xr.combine_nested(amip_list, concat_dim=['time'])"
   ]
  },
  {
   "cell_type": "code",
   "execution_count": 19,
   "metadata": {},
   "outputs": [],
   "source": [
    "# Mean wheigted with cos(lat) : \n",
    "lats = matrix['lat'][:]\n",
    "coslat = np.cos(np.deg2rad(lats)).clip(0., 1.)\n",
    "wgts = np.sqrt(coslat).drop(labels='height').values\n",
    "W =wgts[np.newaxis,:,np.newaxis]\n",
    "#W"
   ]
  },
  {
   "cell_type": "code",
   "execution_count": 20,
   "metadata": {
    "scrolled": true
   },
   "outputs": [],
   "source": [
    "# Compute anomalies by removing the ensemble-mean.\n",
    "mean = matrix.mean(axis=0)\n",
    "anom = matrix - mean"
   ]
  },
  {
   "cell_type": "code",
   "execution_count": 21,
   "metadata": {},
   "outputs": [],
   "source": [
    "# Create an EOF solver to do the EOF analysis. \n",
    "solver = Eof(anom, center=False)"
   ]
  },
  {
   "cell_type": "code",
   "execution_count": 56,
   "metadata": {},
   "outputs": [],
   "source": [
    "eof = solver.eofsAsCovariance(pcscaling=1)\n",
    "pc = solver.pcs(pcscaling=0)"
   ]
  },
  {
   "cell_type": "code",
   "execution_count": 57,
   "metadata": {},
   "outputs": [],
   "source": [
    "varFrac = solver.varianceFraction()"
   ]
  },
  {
   "cell_type": "markdown",
   "metadata": {},
   "source": [
    "### Save"
   ]
  },
  {
   "cell_type": "code",
   "execution_count": 58,
   "metadata": {},
   "outputs": [],
   "source": [
    "for i in range(0,len(eof),1) : \n",
    "    j = i+1\n",
    "    # EOFmap\n",
    "    EOF_df = eof[i].to_dataframe().drop(labels = 'mode', axis=1)\n",
    "    EOF_df.to_pickle(path_files+\"npy/CNRMppe_decomposition_EOFmap\"+str(j)+\"_\"+str(variable)+\".npy\")\n",
    "    \n",
    "    #EOFpc\n",
    "    pc_p1 = pc[0, i]\n",
    "    pc_mb = pc[1:, i]\n",
    "    np.save(path_files+'npy/CNRMppe_decomposition_p1_EOF'+str(j)+'pc_'+str(variable)+'.npy', pc_p1)\n",
    "    np.save(path_files+'npy/CNRMppe_decomposition_EOF'+str(j)+'pc_'+str(variable)+'.npy', pc_mb)"
   ]
  },
  {
   "cell_type": "code",
   "execution_count": 59,
   "metadata": {},
   "outputs": [],
   "source": [
    "mean_df = mean.to_dataframe(name=str(variable)+'mean').drop(labels = 'height', axis=1)\n",
    "mean_df.to_pickle(path_files+'npy/CNRMppe_decomposition_mean_'+str(variable)+'.npy')"
   ]
  },
  {
   "cell_type": "markdown",
   "metadata": {},
   "source": [
    "## Get the observations"
   ]
  },
  {
   "cell_type": "code",
   "execution_count": 60,
   "metadata": {},
   "outputs": [
    {
     "data": {
      "text/html": [
       "<pre>&lt;xarray.DataArray (lat: 128, lon: 256)&gt;\n",
       "array([[ 5.2070236,  5.2070236,  5.2070236, ...,  5.226471 ,  5.2070236,\n",
       "         5.2070236],\n",
       "       [ 1.2220192,  1.2220192,  1.2220192, ...,  1.2446327,  1.2220192,\n",
       "         1.2220192],\n",
       "       [ 4.9539795,  4.9539795,  4.9539795, ...,  5.0742836,  4.9539795,\n",
       "         4.9539795],\n",
       "       ...,\n",
       "       [11.637173 , 11.637173 , 11.637173 , ..., 11.104774 , 11.637173 ,\n",
       "        11.637173 ],\n",
       "       [11.558968 , 11.558968 , 11.558968 , ..., 11.514648 , 11.558968 ,\n",
       "        11.558968 ],\n",
       "       [11.797485 , 11.797485 , 11.797485 , ..., 11.795776 , 11.797485 ,\n",
       "        11.797485 ]], dtype=float32)\n",
       "Coordinates:\n",
       "  * lat      (lat) float64 -88.93 -87.54 -86.14 -84.74 ... 86.14 87.54 88.93\n",
       "  * lon      (lon) float64 0.0 1.406 2.812 4.219 ... 354.4 355.8 357.2 358.6\n",
       "    mode     &lt;U6 &#x27;SWmean&#x27;</pre>"
      ],
      "text/plain": [
       "<xarray.DataArray (lat: 128, lon: 256)>\n",
       "array([[ 5.2070236,  5.2070236,  5.2070236, ...,  5.226471 ,  5.2070236,\n",
       "         5.2070236],\n",
       "       [ 1.2220192,  1.2220192,  1.2220192, ...,  1.2446327,  1.2220192,\n",
       "         1.2220192],\n",
       "       [ 4.9539795,  4.9539795,  4.9539795, ...,  5.0742836,  4.9539795,\n",
       "         4.9539795],\n",
       "       ...,\n",
       "       [11.637173 , 11.637173 , 11.637173 , ..., 11.104774 , 11.637173 ,\n",
       "        11.637173 ],\n",
       "       [11.558968 , 11.558968 , 11.558968 , ..., 11.514648 , 11.558968 ,\n",
       "        11.558968 ],\n",
       "       [11.797485 , 11.797485 , 11.797485 , ..., 11.795776 , 11.797485 ,\n",
       "        11.797485 ]], dtype=float32)\n",
       "Coordinates:\n",
       "  * lat      (lat) float64 -88.93 -87.54 -86.14 -84.74 ... 86.14 87.54 88.93\n",
       "  * lon      (lon) float64 0.0 1.406 2.812 4.219 ... 354.4 355.8 357.2 358.6\n",
       "    mode     <U6 'SWmean'"
      ]
     },
     "execution_count": 60,
     "metadata": {},
     "output_type": "execute_result"
    }
   ],
   "source": [
    "Mean =  pd.read_pickle(path_files+'npy/CNRMppe_decomposition_mean_'+str(variable)+'.npy').to_xarray().to_array()\n",
    "Mean = Mean[0,:,:].rename({'variable':'mode'})\n",
    "X_obs = obs[variable] - Mean\n",
    "#X_obs = obs.expand_dims(dim={'dummy':range(0,102,1)})\n",
    "#X_obs = obs.fillna(0.0)\n",
    "X_obs"
   ]
  },
  {
   "cell_type": "code",
   "execution_count": 61,
   "metadata": {},
   "outputs": [],
   "source": [
    "def Error_rj(cpt, U_obs, variable):\n",
    "    rj_list = []\n",
    "    for i in range(0,len(U_obs),1) :\n",
    "        j=i+1\n",
    "        pc = np.load(path_files+'npy/CNRMppe_decomposition_EOF'+str(j)+'pc_'+str(variable)+'.npy')\n",
    "        diff = (pc[cpt]-U_obs[i])**2\n",
    "        rj_list.append(diff)\n",
    "        #print(pc[cpt])\n",
    "        #print(U_obs[i])\n",
    "        #print(diff)\n",
    "    rj_E = sqrt(sum(rj_list)/(128*256))\n",
    "    return rj_E"
   ]
  },
  {
   "cell_type": "markdown",
   "metadata": {},
   "source": [
    "## Emulation"
   ]
  },
  {
   "cell_type": "code",
   "execution_count": 70,
   "metadata": {},
   "outputs": [],
   "source": [
    "def MultiLinReg(limit_train, EOF_nb, x, variable) :\n",
    "    X = np.load(file=\"/data/home/globc/peatier/CNRMppe/PPE/ENSEMBLE2/files/npy/X_EmulateurFeedbacksN.npy\")\n",
    "    y = np.load(file=path_files+'npy/CNRMppe_decomposition_EOF'+str(EOF_nb)+'pc_'+str(variable)+'.npy')\n",
    "    param_names = np.load(file=\"/data/home/globc/peatier/CNRMppe/PPE/ENSEMBLE2/files/npy/LHS_paramNames.npy\")\n",
    "    \n",
    "    # Let's use the model equation : \n",
    "\n",
    "    X_df = pd.DataFrame(data=X)\n",
    "    regr = linear_model.LinearRegression()\n",
    "    regr.fit(X[0:limit_train], y[0:limit_train])\n",
    "    R = regr.intercept_\n",
    "    Coeffs = pd.DataFrame([regr.coef_]*30, columns=param_names).iloc[0]\n",
    "  \n",
    "    tmp = Coeffs.values*x\n",
    "    y_pred = tmp.sum()+R\n",
    "    \n",
    "    return y_pred"
   ]
  },
  {
   "cell_type": "code",
   "execution_count": 71,
   "metadata": {},
   "outputs": [],
   "source": [
    "X = np.load(file=\"/data/home/globc/peatier/CNRMppe/PPE/ENSEMBLE2/files/npy/X_EmulateurFeedbacksN.npy\")\n",
    "pc_OS={}\n",
    "pc={}\n",
    "\n",
    "\n",
    "def predict_OS(X, EOF_nb) :\n",
    "    tmp_list = []\n",
    "    for x in X[80:] :\n",
    "        tmp = MultiLinReg(80, EOF_nb, x, variable)\n",
    "        tmp_list.append(tmp)\n",
    "    return tmp_list\n",
    "\n",
    "def predict_train(X, EOF_nb) :\n",
    "    tmp_list = []\n",
    "    for x in X[:80] :\n",
    "        tmp = MultiLinReg(80, EOF_nb, x, variable)\n",
    "        tmp_list.append(tmp)\n",
    "    return tmp_list\n",
    "    \n",
    "for i in range(1,(len(U_obs)+1),1) : \n",
    "    pc_OS['modes_'+str(i)] = predict_OS(X, i)\n",
    "    pc['modes_'+str(i)] = predict_train(X,i)\n",
    "\n",
    "#pc_pred"
   ]
  },
  {
   "cell_type": "code",
   "execution_count": 72,
   "metadata": {},
   "outputs": [],
   "source": [
    "df_pc_OS = pd.DataFrame(pc_OS['modes_1'], columns=['modes_1'])\n",
    "df_pc = pd.DataFrame(pc['modes_1'], columns=['modes_1'])\n",
    "for i in range(1,(len(U_obs)+1),1) :\n",
    "    df_pc_OS['modes_'+str(i)] = pc_OS['modes_'+str(i)]\n",
    "    df_pc['modes_'+str(i)] = pc['modes_'+str(i)]"
   ]
  },
  {
   "cell_type": "code",
   "execution_count": 73,
   "metadata": {},
   "outputs": [],
   "source": [
    "def Error_rj_pred(df_pc_pred, U_obs, variable, p):\n",
    "    rj_pred_list = []\n",
    "    for i in range(0,len(U_obs),1) :\n",
    "        j=i+1\n",
    "        pc_pred = df_pc_pred['modes_'+str(i+1)] \n",
    "        diff = (pc_pred[p]-U_obs[i])**2\n",
    "        rj_pred_list.append(diff)\n",
    "        \n",
    "    rj_pred = sqrt(sum(rj_pred_list)/(128*256))\n",
    "    return rj_pred"
   ]
  },
  {
   "cell_type": "markdown",
   "metadata": {},
   "source": [
    "# 4, 10 and 100 modes considered"
   ]
  },
  {
   "cell_type": "code",
   "execution_count": 74,
   "metadata": {},
   "outputs": [],
   "source": [
    "ej_list = []\n",
    "for p in nb_p_list :\n",
    "    ej_tmp = ej[p]\n",
    "    ej_list.append(ej_tmp)"
   ]
  },
  {
   "cell_type": "code",
   "execution_count": 95,
   "metadata": {},
   "outputs": [
    {
     "data": {
      "text/html": [
       "<pre>&lt;xarray.DataArray &#x27;pseudo_pcs&#x27; (mode: 10)&gt;\n",
       "array([  923.1411  , -1032.1937  ,  -561.6581  ,   336.58038 ,\n",
       "          87.928345,   350.57147 ,  -445.214   ,   246.45778 ,\n",
       "         268.6562  ,   532.81494 ], dtype=float32)\n",
       "Coordinates:\n",
       "  * mode     (mode) int64 0 1 2 3 4 5 6 7 8 9\n",
       "Attributes:\n",
       "    long_name:  None_pseudo_pcs</pre>"
      ],
      "text/plain": [
       "<xarray.DataArray 'pseudo_pcs' (mode: 10)>\n",
       "array([  923.1411  , -1032.1937  ,  -561.6581  ,   336.58038 ,\n",
       "          87.928345,   350.57147 ,  -445.214   ,   246.45778 ,\n",
       "         268.6562  ,   532.81494 ], dtype=float32)\n",
       "Coordinates:\n",
       "  * mode     (mode) int64 0 1 2 3 4 5 6 7 8 9\n",
       "Attributes:\n",
       "    long_name:  None_pseudo_pcs"
      ]
     },
     "execution_count": 95,
     "metadata": {},
     "output_type": "execute_result"
    }
   ],
   "source": [
    "neofs = 10\n",
    "U_obs = solver.projectField(X_obs, neofs=neofs, weighted=False, eofscaling=0)\n",
    "#U_obs = U_obs[0:4]\n",
    "U_obs"
   ]
  },
  {
   "cell_type": "code",
   "execution_count": 96,
   "metadata": {},
   "outputs": [],
   "source": [
    "df_fig = pd.DataFrame(ej_list, columns=['ej'])\n",
    "df_fig_pred = pd.DataFrame(ej_list[:80], columns=['ej'])\n",
    "df_fig_pred_OS = pd.DataFrame(ej_list[80:], columns=['ej'])\n",
    "\n",
    "  \n",
    "rj_list=[]\n",
    "cpt=0\n",
    "for p in nb_p_list:\n",
    "    tmp = Error_rj(cpt, U_obs, variable)\n",
    "    rj_list.append(tmp)\n",
    "    cpt+=1\n",
    "        \n",
    "df_fig['rj'] = rj_list\n",
    "df_fig['frac'] = abs(df_fig['rj']-df_fig['ej'])   \n",
    "        \n",
    "rj_pred_OS_list = []\n",
    "for p in range(0,22,1) : \n",
    "    tmp = Error_rj_pred(df_pc_OS, U_obs, variable, p)\n",
    "    rj_pred_OS_list.append(tmp)   \n",
    "    \n",
    "df_fig_pred_OS['rj_pred'] = rj_pred_OS_list\n",
    "\n",
    "rj_pred_list = []\n",
    "for p in range(0,80,1) : \n",
    "    tmp = Error_rj_pred(df_pc, U_obs, variable, p)\n",
    "    rj_pred_list.append(tmp)   \n",
    "    \n",
    "df_fig_pred['rj_pred'] = rj_pred_list"
   ]
  },
  {
   "cell_type": "code",
   "execution_count": 97,
   "metadata": {},
   "outputs": [
    {
     "data": {
      "text/plain": [
       "8.029045307038718"
      ]
     },
     "execution_count": 97,
     "metadata": {},
     "output_type": "execute_result"
    }
   ],
   "source": [
    "rj_list = []\n",
    "for i in range(0,len(U_obs),1) :\n",
    "    j=i+1\n",
    "    pc = np.load(path_files+'npy/CNRMppe_decomposition_p1_EOF'+str(j)+'pc_'+str(variable)+'.npy')\n",
    "    diff = (U_obs[i]-pc)**2\n",
    "    rj_list.append(diff)\n",
    "p1_rj = sqrt(sum(rj_list)/(128*256))#/10\n",
    "p1_rj"
   ]
  },
  {
   "cell_type": "code",
   "execution_count": 98,
   "metadata": {},
   "outputs": [
    {
     "data": {
      "text/plain": [
       "[12.160200795975266, 8.029045307038718]"
      ]
     },
     "execution_count": 98,
     "metadata": {},
     "output_type": "execute_result"
    }
   ],
   "source": [
    "#p1_vec={}\n",
    "#p1_vec['ej'] = diff_p1\n",
    "#p1_vec['rj'] = p1_rj\n",
    "p1_vec = []\n",
    "p1_vec.append(diff_p1)\n",
    "p1_vec.append(p1_rj)\n",
    "p1_vec"
   ]
  },
  {
   "cell_type": "code",
   "execution_count": 99,
   "metadata": {},
   "outputs": [],
   "source": [
    "Unresolved = df_fig['frac'][0:neofs].mean()\n",
    "Unresolved_std = df_fig['frac'][0:neofs].std()"
   ]
  },
  {
   "cell_type": "code",
   "execution_count": 100,
   "metadata": {},
   "outputs": [],
   "source": [
    "df_fig['test'] = df_fig['rj'] + Unresolved\n",
    "df_fig_pred['test'] = df_fig_pred['rj_pred'] + Unresolved\n",
    "df_fig_pred_OS['test'] = df_fig_pred_OS['rj_pred'] + Unresolved"
   ]
  },
  {
   "cell_type": "code",
   "execution_count": 101,
   "metadata": {},
   "outputs": [],
   "source": [
    "p1_vec[1] = p1_vec[1] + Unresolved"
   ]
  },
  {
   "cell_type": "code",
   "execution_count": 102,
   "metadata": {},
   "outputs": [],
   "source": [
    "regr = linear_model.LinearRegression()\n",
    "regr = regr.fit(np.array(df_fig['test']).reshape(-1, 1), df_fig['ej'])\n",
    "x_line= np.arange(0,1000,1)\n",
    "y_line = regr.predict(x_line.reshape(-1, 1))"
   ]
  },
  {
   "cell_type": "markdown",
   "metadata": {},
   "source": [
    "# Figure"
   ]
  },
  {
   "cell_type": "code",
   "execution_count": 94,
   "metadata": {},
   "outputs": [
    {
     "data": {
      "image/png": "[encoded data removed]",
      "text/plain": [
       "<Figure size 576x360 with 1 Axes>"
      ]
     },
     "metadata": {
      "needs_background": "light"
     },
     "output_type": "display_data"
    }
   ],
   "source": [
    "plt.figure(figsize=(8, 5))   \n",
    "\n",
    "ax = plt.gca()\n",
    "#ax2 = ax.twinx()\n",
    "\n",
    "ax.axvspan(0, Unresolved, alpha=0.3, color='gray')\n",
    "ax.axvspan((Unresolved-Unresolved_std), (Unresolved+Unresolved_std), alpha=0.3, color='cornflowerblue')\n",
    "ax.axvline(x=Unresolved, ymin=0, ymax=100, color='teal')\n",
    "ax.plot(x_line, y_line, linestyle=\"-.\", alpha=0.7,  color='black')\n",
    "# ------- PLOT p1 sur la figure : work in progress --------\n",
    "ax.plot(p1_vec[1], p1_vec[0], marker='o', color='white', markeredgecolor='black', markeredgewidth=4, \n",
    "        markersize=20)\n",
    "#---------------------------\n",
    "df_fig.plot(kind='scatter', x='test', y='ej', color = 'black', alpha=1, ax=ax)\n",
    "df_fig_pred.plot(kind='scatter', x='test', y='ej', color = 'forestgreen', alpha=1, ax=ax)\n",
    "df_fig_pred_OS.plot(kind='scatter', x='test', y='ej', color = 'coral', alpha=1, ax=ax)\n",
    "\n",
    "#ax.axhline(0, color='k', alpha=0.5)\n",
    "#ax.set_ylim(0, 1.1)\n",
    "ax.set_xlabel('Reconstruction : $e_j(\\\\theta _i) = p_j(\\\\theta _i) + u_{j,mean}$', size = 20)\n",
    "ax.set_ylabel('RMSE ($W.m^{-2}$)', size = 20)\n",
    "ax.set_title('Short Wave fluxes - ($q = '+str(neofs)+'$)', fontsize=20, \n",
    "             fontweight = 'bold')\n",
    "#ax.set_xscale('log')\n",
    "ax.tick_params(axis='y', which='major', labelsize=20)\n",
    "ax.tick_params(axis='x', which='major', labelsize=20)\n",
    "\n",
    "plt.xlim([0, 40])\n",
    "plt.ylim([0, 40])\n",
    "\n",
    "# Legend .................\n",
    "\n",
    "#legend = [ 'Correlation', 'Unresolved fraction']\n",
    "#ax.get_legend().remove()\n",
    "#ax.legend(legend, fontsize=25, bbox_to_anchor=(1.65, 0.83)) #bbox_to_anchor=(1.05, 1)\n",
    "#fig.subplots_adjust(right=0.8)\n",
    "\n",
    "# Grid .................\n",
    "#ax.grid(True, which=\"both\", axis='x')\n",
    "\n",
    "# Save la figure .................\n",
    "plt.savefig(\"/data/home/globc/peatier/figures/Fig3_\"+variable+\"_\"+str(neofs)+\"modes.png\", \n",
    "            orientation='portrait', bbox_inches='tight', pad_inches=0.1)\n",
    "\n",
    "# Show la figure .................\n",
    "plt.show()"
   ]
  },
  {
   "cell_type": "code",
   "execution_count": 103,
   "metadata": {},
   "outputs": [
    {
     "data": {
      "image/png": "[encoded data removed]",
      "text/plain": [
       "<Figure size 576x360 with 1 Axes>"
      ]
     },
     "metadata": {
      "needs_background": "light"
     },
     "output_type": "display_data"
    }
   ],
   "source": [
    "plt.figure(figsize=(8, 5))   \n",
    "\n",
    "ax = plt.gca()\n",
    "#ax2 = ax.twinx()\n",
    "\n",
    "ax.axvspan(0, Unresolved, alpha=0.3, color='gray')\n",
    "ax.axvspan((Unresolved-Unresolved_std), (Unresolved+Unresolved_std), alpha=0.3, color='cornflowerblue')\n",
    "ax.axvline(x=Unresolved, ymin=0, ymax=100, color='teal')\n",
    "ax.plot(x_line, y_line, linestyle=\"-.\", alpha=0.7,  color='black')\n",
    "# ------- PLOT p1 sur la figure : work in progress --------\n",
    "ax.plot(p1_vec[1], p1_vec[0], marker='o', color='white', markeredgecolor='black', markeredgewidth=4, \n",
    "        markersize=20)\n",
    "#---------------------------\n",
    "df_fig.plot(kind='scatter', x='test', y='ej', color = 'black', alpha=1, ax=ax)\n",
    "df_fig_pred.plot(kind='scatter', x='test', y='ej', color = 'forestgreen', alpha=1, ax=ax)\n",
    "df_fig_pred_OS.plot(kind='scatter', x='test', y='ej', color = 'coral', alpha=1, ax=ax)\n",
    "\n",
    "#ax.axhline(0, color='k', alpha=0.5)\n",
    "#ax.set_ylim(0, 1.1)\n",
    "ax.set_xlabel('Reconstruction : $e_j(\\\\theta _i) = p_j(\\\\theta _i) + u_{j,mean}$', size = 20)\n",
    "ax.set_ylabel('RMSE ($W.m^{-2}$)', size = 20)\n",
    "ax.set_title('Short Wave fluxes - ($q = '+str(neofs)+'$)', fontsize=20, \n",
    "             fontweight = 'bold')\n",
    "#ax.set_xscale('log')\n",
    "ax.tick_params(axis='y', which='major', labelsize=20)\n",
    "ax.tick_params(axis='x', which='major', labelsize=20)\n",
    "\n",
    "plt.xlim([0, 40])\n",
    "plt.ylim([0, 40])\n",
    "\n",
    "# Legend .................\n",
    "\n",
    "#legend = [ 'Correlation', 'Unresolved fraction']\n",
    "#ax.get_legend().remove()\n",
    "#ax.legend(legend, fontsize=25, bbox_to_anchor=(1.65, 0.83)) #bbox_to_anchor=(1.05, 1)\n",
    "#fig.subplots_adjust(right=0.8)\n",
    "\n",
    "# Grid .................\n",
    "#ax.grid(True, which=\"both\", axis='x')\n",
    "\n",
    "# Save la figure .................\n",
    "plt.savefig(\"/data/home/globc/peatier/figures/Fig3_\"+variable+\"_\"+str(neofs)+\"modes.png\", \n",
    "            orientation='portrait', bbox_inches='tight', pad_inches=0.1)\n",
    "\n",
    "# Show la figure .................\n",
    "plt.show()"
   ]
  },
  {
   "cell_type": "code",
   "execution_count": 85,
   "metadata": {},
   "outputs": [
    {
     "data": {
      "image/png": "[encoded data removed]",
      "text/plain": [
       "<Figure size 576x360 with 1 Axes>"
      ]
     },
     "metadata": {
      "needs_background": "light"
     },
     "output_type": "display_data"
    }
   ],
   "source": [
    "plt.figure(figsize=(8, 5))   \n",
    "\n",
    "ax = plt.gca()\n",
    "#ax2 = ax.twinx()\n",
    "\n",
    "ax.axvspan(0, Unresolved, alpha=0.3, color='gray')\n",
    "ax.axvspan((Unresolved-Unresolved_std), (Unresolved+Unresolved_std), alpha=0.3, color='cornflowerblue')\n",
    "ax.axvline(x=Unresolved, ymin=0, ymax=100, color='teal')\n",
    "ax.plot(x_line, y_line, linestyle=\"-.\", alpha=0.7,  color='black')\n",
    "# ------- PLOT p1 sur la figure : work in progress --------\n",
    "ax.plot(p1_vec[1], p1_vec[0], marker='o', color='white', markeredgecolor='black', markeredgewidth=4, \n",
    "        markersize=20)\n",
    "#---------------------------\n",
    "df_fig.plot(kind='scatter', x='test', y='ej', color = 'black', alpha=1, ax=ax)\n",
    "df_fig_pred.plot(kind='scatter', x='test', y='ej', color = 'forestgreen', alpha=1, ax=ax)\n",
    "df_fig_pred_OS.plot(kind='scatter', x='test', y='ej', color = 'coral', alpha=1, ax=ax)\n",
    "\n",
    "#ax.axhline(0, color='k', alpha=0.5)\n",
    "#ax.set_ylim(0, 1.1)\n",
    "ax.set_xlabel('Reconstruction : $e_j(\\\\theta _i) = p_j(\\\\theta _i) + u_{j,mean}$', size = 20)\n",
    "ax.set_ylabel('RMSE ($W.m^{-2}$)', size = 20)\n",
    "ax.set_title('Short Wave fluxes - ($q = '+str(neofs-1)+'$)', fontsize=20, \n",
    "             fontweight = 'bold')\n",
    "#ax.set_xscale('log')\n",
    "ax.tick_params(axis='y', which='major', labelsize=20)\n",
    "ax.tick_params(axis='x', which='major', labelsize=20)\n",
    "\n",
    "plt.xlim([0, 40])\n",
    "plt.ylim([0, 40])\n",
    "\n",
    "# Legend .................\n",
    "\n",
    "#legend = [ 'Correlation', 'Unresolved fraction']\n",
    "#ax.get_legend().remove()\n",
    "#ax.legend(legend, fontsize=25, bbox_to_anchor=(1.65, 0.83)) #bbox_to_anchor=(1.05, 1)\n",
    "#fig.subplots_adjust(right=0.8)\n",
    "\n",
    "# Grid .................\n",
    "#ax.grid(True, which=\"both\", axis='x')\n",
    "\n",
    "# Save la figure .................\n",
    "plt.savefig(\"/data/home/globc/peatier/figures/Fig3_\"+variable+\"_\"+str(neofs)+\"modes.png\", \n",
    "            orientation='portrait', bbox_inches='tight', pad_inches=0.1)\n",
    "\n",
    "# Show la figure .................\n",
    "plt.show()"
   ]
  },
  {
   "cell_type": "code",
   "execution_count": null,
   "metadata": {},
   "outputs": [],
   "source": []
  }
 ],
 "metadata": {
  "kernelspec": {
   "display_name": "Python 3",
   "language": "python",
   "name": "python3"
  },
  "language_info": {
   "codemirror_mode": {
    "name": "ipython",
    "version": 3
   },
   "file_extension": ".py",
   "mimetype": "text/x-python",
   "name": "python",
   "nbconvert_exporter": "python",
   "pygments_lexer": "ipython3",
   "version": "3.7.6"
  }
 },
 "nbformat": 4,
 "nbformat_minor": 2
}
