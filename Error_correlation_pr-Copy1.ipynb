{
 "cells": [
  {
   "cell_type": "markdown",
   "metadata": {},
   "source": [
    "# Import Module"
   ]
  },
  {
   "cell_type": "code",
   "execution_count": 42,
   "metadata": {},
   "outputs": [],
   "source": [
    "# Computational modules \n",
    "%matplotlib inline\n",
    "import xarray as xr\n",
    "import glob\n",
    "import os\n",
    "import numpy as np\n",
    "import netCDF4\n",
    "from netCDF4 import Dataset\n",
    "import pandas as pd\n",
    "import re\n",
    "from array import array\n",
    "from pylab import *\n",
    "#import geopandas\n",
    "from eofs.xarray import Eof\n",
    "from eofs.multivariate.standard import MultivariateEof\n",
    "\n",
    "# Plotting modules \n",
    "import matplotlib.pyplot as plt\n",
    "from mpl_toolkits.basemap import Basemap\n",
    "import pandas.plotting\n",
    "import matplotlib.ticker as ticker\n",
    "import seaborn as sns\n",
    "import cartopy.crs as ccrs\n",
    "import cartopy.feature as cfeature\n",
    "from matplotlib.colors import BoundaryNorm\n",
    "\n",
    "# Scikit-learn\n",
    "from sklearn import linear_model\n",
    "from sklearn.linear_model import LassoCV, LassoLarsCV, LassoLarsIC\n",
    "from sklearn.linear_model import Lasso\n",
    "from sklearn.metrics import r2_score\n",
    "from sklearn import preprocessing\n",
    "from sklearn import tree\n",
    "from sklearn.ensemble import RandomForestClassifier\n",
    "from sklearn.metrics import confusion_matrix\n",
    "from sklearn import metrics\n",
    "from sklearn.neural_network import MLPRegressor\n",
    "from scipy.optimize import minimize\n",
    "from scipy.optimize import dual_annealing\n",
    "from scipy import stats\n",
    "from sklearn.decomposition import PCA"
   ]
  },
  {
   "cell_type": "markdown",
   "metadata": {},
   "source": [
    "# Settings"
   ]
  },
  {
   "cell_type": "markdown",
   "metadata": {},
   "source": [
    "### Variables"
   ]
  },
  {
   "cell_type": "code",
   "execution_count": 43,
   "metadata": {},
   "outputs": [],
   "source": [
    "variables = ['psl']\n",
    "variable = 'psl'\n",
    "TITLE = 'Sea Level Pressure'\n",
    "ylabel = '$E_{psl}$ ($Pa$)'"
   ]
  },
  {
   "cell_type": "markdown",
   "metadata": {},
   "source": [
    "### Paths"
   ]
  },
  {
   "cell_type": "code",
   "execution_count": 44,
   "metadata": {},
   "outputs": [],
   "source": [
    "path_PPE='/data/scratch/globc/peatier/CNRM-CM6-1_PPE/'\n",
    "#'/data/scratch/globc/peatier/CNRM-CM6-1_PPE/ENSEMBLE2/CNRM-CM6-1_amip_PPE_regrid/'\n",
    "group_name='CNRM-CM6-1_amip_LHS500_PPE/' #'CNRM-CM6-1_amip_PPE_regrid/'\n",
    "path_files='/data/home/globc/peatier/CNRMppe_error_decomposition/files/'"
   ]
  },
  {
   "cell_type": "markdown",
   "metadata": {},
   "source": [
    "### List of members"
   ]
  },
  {
   "cell_type": "code",
   "execution_count": 45,
   "metadata": {},
   "outputs": [
    {
     "data": {
      "text/plain": [
       "102"
      ]
     },
     "execution_count": 45,
     "metadata": {},
     "output_type": "execute_result"
    }
   ],
   "source": [
    "nb_p_list = ['p311', 'p312', 'p314', 'p316',\n",
    "                    'p317', 'p319', 'p320', 'p321', 'p322', 'p324', 'p325', 'p326', \n",
    "                    'p329', 'p330', 'p331', 'p332', 'p335', 'p336', 'p337' ,'p338', \n",
    "                    'p340', 'p341', 'p343', 'p344', 'p346', 'p347', 'p348', 'p349', \n",
    "                    'p350', 'p353', 'p355', 'p357', 'p359', 'p360', \n",
    "                    'p361', 'p363', 'p365', 'p367', 'p368', 'p369', \n",
    "                    'p372', 'p373', 'p374', 'p375', 'p376', 'p378', 'p381', 'p382', \n",
    "                    'p384', 'p386', 'p388', 'p389', 'p391', 'p392', 'p393', \n",
    "                    'p394', 'p395', 'p396', 'p398', 'p399', 'p400', 'p404', \n",
    "                    'p406', 'p407', 'p409', 'p410', 'p411', 'p412',\n",
    "                    'p414','p416',\n",
    "                    'p413','p419','p424','p426','p428','p421','p423',\n",
    "                    'p425','p427','p429','p430','p436','p438','p431','p433',\n",
    "                    'p442','p446','p443','p445','p447',\n",
    "                    'p452','p454','p456','p458','p457','p459',\n",
    "                    'p460','p465','p467','p469',\n",
    "                    'p470','p471']\n",
    "\n",
    "len(nb_p_list)"
   ]
  },
  {
   "cell_type": "markdown",
   "metadata": {},
   "source": [
    "# Functions"
   ]
  },
  {
   "cell_type": "code",
   "execution_count": 46,
   "metadata": {},
   "outputs": [],
   "source": [
    "def MSE(mod, obs, W_rmse_2D) :\n",
    "    diff_tmp = (mod - obs)**2 * W_rmse_2D\n",
    "    diff = (diff_tmp.sum(['lat', 'lon']))\n",
    "    return diff"
   ]
  },
  {
   "cell_type": "code",
   "execution_count": 47,
   "metadata": {},
   "outputs": [],
   "source": [
    "def reconstruct_X(eofs_combined, pc, nb_dims) :\n",
    "    X_rec_tmp = np.dot(eofs_combined.transpose(),pc)\n",
    "    if nb_dims == 3 :\n",
    "        X_rec = xr.DataArray(X_rec_tmp, \n",
    "                        dims=[\"lon\", \"lat\", \"time\"]).transpose('time', 'lat', 'lon')\n",
    "    if nb_dims == 2 :\n",
    "        X_rec = xr.DataArray(X_rec_tmp, \n",
    "                        dims=[\"lon\", \"lat\"]).transpose('lat', 'lon')\n",
    "    \n",
    "    X_rec['lat'] = eofs_combined['lat']\n",
    "    X_rec['lon'] = eofs_combined['lon']\n",
    "    return X_rec"
   ]
  },
  {
   "cell_type": "code",
   "execution_count": 48,
   "metadata": {},
   "outputs": [],
   "source": [
    "def MSE_rec(rec_anom_mod_w, rec_anom_obs_w, Mean, W_rmse_2D) :\n",
    "    mod = rec_anom_mod_w/W_eof_2D + Mean\n",
    "    obs = rec_anom_obs_w/W_eof_2D + Mean\n",
    "    diff = MSE(mod, obs, W_rmse_2D)\n",
    "    return diff"
   ]
  },
  {
   "cell_type": "code",
   "execution_count": 49,
   "metadata": {},
   "outputs": [],
   "source": [
    "def get_3D_psl_xarr(path, filename, variables):\n",
    "\n",
    "    # First step : download the data into dataframe\n",
    "    file = xr.open_mfdataset(path+filename,combine='by_coords')\n",
    "    \n",
    "    # Second step : compute the annual average \n",
    "    df = file[variables].mean('time', keep_attrs=True)\n",
    "    psl = df['psl']\n",
    "    \n",
    "    return psl"
   ]
  },
  {
   "cell_type": "code",
   "execution_count": 50,
   "metadata": {},
   "outputs": [],
   "source": [
    "def load_monthly_clim(path, filename, variables) :\n",
    "    \n",
    "    file = xr.open_mfdataset(path+filename,combine='by_coords')\n",
    "    df=file[variables].to_dataframe()\n",
    "    \n",
    "    # Compute Climatological Annual Cycle :\n",
    "    df1=df.reset_index(level=['time', 'lat', 'lon'])\n",
    "    df1['year']=pd.DatetimeIndex(df1['time']).year\n",
    "    df1['month']=pd.DatetimeIndex(df1['time']).month\n",
    "    \n",
    "    #list_ind = []\n",
    "    #cpt=0\n",
    "    #for i in df1['year'] : \n",
    "    #    if i>1981 :\n",
    "    #        list_ind.append(cpt)\n",
    "    #        cpt+=1\n",
    "    #    else : \n",
    "    #        cpt+=1\n",
    "            \n",
    "    #df2 = df1.drop(list_ind)\n",
    "    df_mean=df1.groupby(['month', 'lat', 'lon']).mean()\n",
    "    df_mean=df_mean.drop(columns='year')\n",
    "    \n",
    "    return df_mean"
   ]
  },
  {
   "cell_type": "markdown",
   "metadata": {},
   "source": [
    "# Get data : obs, PPE, p1"
   ]
  },
  {
   "cell_type": "code",
   "execution_count": 51,
   "metadata": {},
   "outputs": [],
   "source": [
    "path_observation = '/data/scratch/globc/peatier/obs_data/NCEP/regrid_CNRM/'  #path_PPE\n",
    "filename_obs = 'psl_1m_1979-1981_NCEP_regrid.nc' #'psl_1m_1979-1981_NCEP.nc'"
   ]
  },
  {
   "cell_type": "code",
   "execution_count": 76,
   "metadata": {},
   "outputs": [
    {
     "data": {
      "text/html": [
       "<div>\n",
       "<style scoped>\n",
       "    .dataframe tbody tr th:only-of-type {\n",
       "        vertical-align: middle;\n",
       "    }\n",
       "\n",
       "    .dataframe tbody tr th {\n",
       "        vertical-align: top;\n",
       "    }\n",
       "\n",
       "    .dataframe thead th {\n",
       "        text-align: right;\n",
       "    }\n",
       "</style>\n",
       "<table border=\"1\" class=\"dataframe\">\n",
       "  <thead>\n",
       "    <tr style=\"text-align: right;\">\n",
       "      <th></th>\n",
       "      <th></th>\n",
       "      <th></th>\n",
       "      <th>psl</th>\n",
       "    </tr>\n",
       "    <tr>\n",
       "      <th>month</th>\n",
       "      <th>lat</th>\n",
       "      <th>lon</th>\n",
       "      <th></th>\n",
       "    </tr>\n",
       "  </thead>\n",
       "  <tbody>\n",
       "    <tr>\n",
       "      <th rowspan=\"5\" valign=\"top\">1</th>\n",
       "      <th rowspan=\"5\" valign=\"top\">-88.927735</th>\n",
       "      <th>0.00000</th>\n",
       "      <td>99413.804688</td>\n",
       "    </tr>\n",
       "    <tr>\n",
       "      <th>1.40625</th>\n",
       "      <td>99413.843750</td>\n",
       "    </tr>\n",
       "    <tr>\n",
       "      <th>2.81250</th>\n",
       "      <td>99413.851562</td>\n",
       "    </tr>\n",
       "    <tr>\n",
       "      <th>4.21875</th>\n",
       "      <td>99413.757812</td>\n",
       "    </tr>\n",
       "    <tr>\n",
       "      <th>5.62500</th>\n",
       "      <td>99413.578125</td>\n",
       "    </tr>\n",
       "    <tr>\n",
       "      <th>...</th>\n",
       "      <th>...</th>\n",
       "      <th>...</th>\n",
       "      <td>...</td>\n",
       "    </tr>\n",
       "    <tr>\n",
       "      <th rowspan=\"5\" valign=\"top\">12</th>\n",
       "      <th rowspan=\"5\" valign=\"top\">88.927735</th>\n",
       "      <th>352.96875</th>\n",
       "      <td>101209.882812</td>\n",
       "    </tr>\n",
       "    <tr>\n",
       "      <th>354.37500</th>\n",
       "      <td>101209.617188</td>\n",
       "    </tr>\n",
       "    <tr>\n",
       "      <th>355.78125</th>\n",
       "      <td>101209.382812</td>\n",
       "    </tr>\n",
       "    <tr>\n",
       "      <th>357.18750</th>\n",
       "      <td>101209.171875</td>\n",
       "    </tr>\n",
       "    <tr>\n",
       "      <th>358.59375</th>\n",
       "      <td>101208.929688</td>\n",
       "    </tr>\n",
       "  </tbody>\n",
       "</table>\n",
       "<p>393216 rows × 1 columns</p>\n",
       "</div>"
      ],
      "text/plain": [
       "                                      psl\n",
       "month lat        lon                     \n",
       "1     -88.927735 0.00000     99413.804688\n",
       "                 1.40625     99413.843750\n",
       "                 2.81250     99413.851562\n",
       "                 4.21875     99413.757812\n",
       "                 5.62500     99413.578125\n",
       "...                                   ...\n",
       "12     88.927735 352.96875  101209.882812\n",
       "                 354.37500  101209.617188\n",
       "                 355.78125  101209.382812\n",
       "                 357.18750  101209.171875\n",
       "                 358.59375  101208.929688\n",
       "\n",
       "[393216 rows x 1 columns]"
      ]
     },
     "execution_count": 76,
     "metadata": {},
     "output_type": "execute_result"
    }
   ],
   "source": [
    "variables = [variable]\n",
    "df_obs = load_monthly_clim(path_observation, filename_obs, variables)\n",
    "df_obs"
   ]
  },
  {
   "cell_type": "code",
   "execution_count": 77,
   "metadata": {},
   "outputs": [
    {
     "data": {
      "text/html": [
       "<pre>&lt;xarray.Dataset&gt;\n",
       "Dimensions:  (lat: 128, lon: 256)\n",
       "Coordinates:\n",
       "  * lat      (lat) float64 -88.93 -87.54 -86.14 -84.74 ... 86.14 87.54 88.93\n",
       "  * lon      (lon) float64 0.0 1.406 2.812 4.219 ... 354.4 355.8 357.2 358.6\n",
       "Data variables:\n",
       "    psl      (lat, lon) float32 1024.1908 1024.2943 ... 1015.0329 1015.0366</pre>"
      ],
      "text/plain": [
       "<xarray.Dataset>\n",
       "Dimensions:  (lat: 128, lon: 256)\n",
       "Coordinates:\n",
       "  * lat      (lat) float64 -88.93 -87.54 -86.14 -84.74 ... 86.14 87.54 88.93\n",
       "  * lon      (lon) float64 0.0 1.406 2.812 4.219 ... 354.4 355.8 357.2 358.6\n",
       "Data variables:\n",
       "    psl      (lat, lon) float32 1024.1908 1024.2943 ... 1015.0329 1015.0366"
      ]
     },
     "execution_count": 77,
     "metadata": {},
     "output_type": "execute_result"
    }
   ],
   "source": [
    "X_obs = df_obs.groupby(['lat','lon']).mean().to_xarray()*0.01\n",
    "X_obs"
   ]
  },
  {
   "cell_type": "code",
   "execution_count": 78,
   "metadata": {},
   "outputs": [],
   "source": [
    "# Default simulation\n",
    "path_official=path_PPE+'ENSEMBLE1/CNRM-CM6-1_amip_PPE/CNRM-CM6-1_amip_r1i1p1f2/'\n",
    "#path_PPE+'reference/CNRM-CM6-1_amip_r1i1p1f2/'\n",
    "filename = variable+'*_CNRM-CM6-1_amip_*.nc'\n",
    "p1_amip = get_3D_psl_xarr(path_official, filename, variables)*0.01"
   ]
  },
  {
   "cell_type": "code",
   "execution_count": 79,
   "metadata": {},
   "outputs": [],
   "source": [
    "# PPE amip simulations \n",
    "filename=variable+'*_amip_*.nc'\n",
    "\n",
    "N=len(nb_p_list)\n",
    "amip={}\n",
    "i = 0\n",
    "while i<N:\n",
    "    nb_p = nb_p_list[i]\n",
    "    #print(nb_p)\n",
    "    path=path_PPE+'ENSEMBLE2/CNRM-CM6-1_amip_LHS500_PPE/CNRM-CM6-1_amip_r1i1'+str(nb_p)+'f2/'\n",
    "    #path_PPE+'CNRM-CM6-1_amip_r1i1'+str(nb_p)+'f2/'\n",
    "    amip[str(nb_p)] = get_3D_psl_xarr(path, filename, variables)*0.01\n",
    "    i=i+1"
   ]
  },
  {
   "cell_type": "code",
   "execution_count": 80,
   "metadata": {},
   "outputs": [],
   "source": [
    "amip['p1'] = p1_amip"
   ]
  },
  {
   "cell_type": "markdown",
   "metadata": {},
   "source": [
    "# Calcule full MSE (ej)"
   ]
  },
  {
   "cell_type": "code",
   "execution_count": 81,
   "metadata": {},
   "outputs": [],
   "source": [
    "n=len(nb_p_list)\n",
    "amip_list=[0]*(n+1)\n",
    "\n",
    "amip_list[0] = amip['p1']\n",
    "\n",
    "i = 0\n",
    "while i<n:\n",
    "    nb_p = nb_p_list[i]\n",
    "    #print(nb_p)\n",
    "    tmp = amip[str(nb_p)]\n",
    "    amip_list[i+1] = tmp\n",
    "    i+=1"
   ]
  },
  {
   "cell_type": "code",
   "execution_count": 82,
   "metadata": {},
   "outputs": [],
   "source": [
    "matrix = xr.combine_nested(amip_list, concat_dim=['time'])"
   ]
  },
  {
   "cell_type": "code",
   "execution_count": 83,
   "metadata": {},
   "outputs": [],
   "source": [
    "## --Get weights : \n",
    "lats = matrix['lat'].values\n",
    "\n",
    "wgts = np.cos(np.deg2rad(lats))\n",
    "W_eof_2D = sqrt(abs(wgts))[:,np.newaxis] ## --Wqts before EOF analysis - 2D (lat x lon)\n",
    "W_eof_3D = sqrt(abs(wgts))[np.newaxis,:,np.newaxis] ## --Wqts before EOF analysis - 3D (time x lat x lon)\n",
    "\n",
    "S = wgts.sum()*256  #*144 ## --Sum of wgts over the whole grid\n",
    "wgts_sum = wgts/S\n",
    "W_rmse_2D = wgts_sum[:,np.newaxis] ## -- Wgts before RMSE, divided by sum of wgts - 2D (lat x lon)"
   ]
  },
  {
   "cell_type": "code",
   "execution_count": 84,
   "metadata": {},
   "outputs": [],
   "source": [
    "variable_obs='psl'"
   ]
  },
  {
   "cell_type": "code",
   "execution_count": 85,
   "metadata": {},
   "outputs": [],
   "source": [
    "# Reference p1\n",
    "mod = amip['p1']\n",
    "obs = X_obs[variable]\n",
    "diff_p1 = MSE(mod, obs, W_rmse_2D)"
   ]
  },
  {
   "cell_type": "code",
   "execution_count": 86,
   "metadata": {},
   "outputs": [],
   "source": [
    "ej_list = []\n",
    "#ej['p1'] = diff_p1\n",
    "\n",
    "for p in nb_p_list :\n",
    "    mod = amip[p]\n",
    "    obs = X_obs[variable_obs]\n",
    "    diff = MSE(mod, obs, W_rmse_2D)\n",
    "    ej_list.append(diff)\n"
   ]
  },
  {
   "cell_type": "markdown",
   "metadata": {},
   "source": [
    "### Save"
   ]
  },
  {
   "cell_type": "code",
   "execution_count": 87,
   "metadata": {},
   "outputs": [],
   "source": [
    "np.save(path_files+'npy/CNRMppe_decomposition_ej_'+str(variable)+'.npy', ej_list)"
   ]
  },
  {
   "cell_type": "markdown",
   "metadata": {},
   "source": [
    "# EOF + truncated RMSE (rj)"
   ]
  },
  {
   "cell_type": "markdown",
   "metadata": {},
   "source": [
    "## EOF"
   ]
  },
  {
   "cell_type": "code",
   "execution_count": 88,
   "metadata": {},
   "outputs": [
    {
     "data": {
      "text/html": [
       "<pre>&lt;xarray.DataArray &#x27;psl&#x27; (time: 103, lat: 128, lon: 256)&gt;\n",
       "dask.array&lt;sub, shape=(103, 128, 256), dtype=float32, chunksize=(1, 128, 256), chunktype=numpy.ndarray&gt;\n",
       "Coordinates:\n",
       "  * lat      (lat) float64 -88.93 -87.54 -86.14 -84.74 ... 86.14 87.54 88.93\n",
       "  * lon      (lon) float64 0.0 1.406 2.812 4.219 ... 354.4 355.8 357.2 358.6\n",
       "Dimensions without coordinates: time</pre>"
      ],
      "text/plain": [
       "<xarray.DataArray 'psl' (time: 103, lat: 128, lon: 256)>\n",
       "dask.array<sub, shape=(103, 128, 256), dtype=float32, chunksize=(1, 128, 256), chunktype=numpy.ndarray>\n",
       "Coordinates:\n",
       "  * lat      (lat) float64 -88.93 -87.54 -86.14 -84.74 ... 86.14 87.54 88.93\n",
       "  * lon      (lon) float64 0.0 1.406 2.812 4.219 ... 354.4 355.8 357.2 358.6\n",
       "Dimensions without coordinates: time"
      ]
     },
     "execution_count": 88,
     "metadata": {},
     "output_type": "execute_result"
    }
   ],
   "source": [
    "# Compute anomalies by removing the time-mean.\n",
    "mean = matrix.mean(axis=0)\n",
    "anom = matrix - mean\n",
    "anom"
   ]
  },
  {
   "cell_type": "code",
   "execution_count": 89,
   "metadata": {},
   "outputs": [
    {
     "data": {
      "text/html": [
       "<pre>&lt;xarray.DataArray &#x27;psl&#x27; (time: 103, lat: 128, lon: 256)&gt;\n",
       "dask.array&lt;mul, shape=(103, 128, 256), dtype=float64, chunksize=(1, 128, 256), chunktype=numpy.ndarray&gt;\n",
       "Coordinates:\n",
       "  * lat      (lat) float64 -88.93 -87.54 -86.14 -84.74 ... 86.14 87.54 88.93\n",
       "  * lon      (lon) float64 0.0 1.406 2.812 4.219 ... 354.4 355.8 357.2 358.6\n",
       "Dimensions without coordinates: time</pre>"
      ],
      "text/plain": [
       "<xarray.DataArray 'psl' (time: 103, lat: 128, lon: 256)>\n",
       "dask.array<mul, shape=(103, 128, 256), dtype=float64, chunksize=(1, 128, 256), chunktype=numpy.ndarray>\n",
       "Coordinates:\n",
       "  * lat      (lat) float64 -88.93 -87.54 -86.14 -84.74 ... 86.14 87.54 88.93\n",
       "  * lon      (lon) float64 0.0 1.406 2.812 4.219 ... 354.4 355.8 357.2 358.6\n",
       "Dimensions without coordinates: time"
      ]
     },
     "execution_count": 89,
     "metadata": {},
     "output_type": "execute_result"
    }
   ],
   "source": [
    "anom_w = (anom*W_eof_3D)#.to_array()\n",
    "anom_w"
   ]
  },
  {
   "cell_type": "code",
   "execution_count": 90,
   "metadata": {},
   "outputs": [],
   "source": [
    "# Create an EOF solver to do the EOF analysis. \n",
    "solver = Eof(anom_w, center=False, weights=None)"
   ]
  },
  {
   "cell_type": "code",
   "execution_count": 91,
   "metadata": {},
   "outputs": [],
   "source": [
    "eof = solver.eofsAsCovariance(neofs=102, pcscaling=1)\n",
    "pc = solver.pcs(npcs=102, pcscaling=1)"
   ]
  },
  {
   "cell_type": "code",
   "execution_count": 92,
   "metadata": {},
   "outputs": [],
   "source": [
    "varFrac = solver.varianceFraction(neigs=102)\n",
    "#varFrac"
   ]
  },
  {
   "cell_type": "markdown",
   "metadata": {},
   "source": [
    "### Save"
   ]
  },
  {
   "cell_type": "code",
   "execution_count": 93,
   "metadata": {},
   "outputs": [],
   "source": [
    "for i in range(0,len(eof),1) : \n",
    "    j = i+1\n",
    "    # EOFmap\n",
    "    EOF_df = eof[i].to_dataframe().drop(labels = 'mode', axis=1)\n",
    "    EOF_df.to_pickle(path_files+\"npy/CNRMppe_decomposition_EOFmap\"+str(j)+\"_\"+str(variable)+\".npy\")"
   ]
  },
  {
   "cell_type": "code",
   "execution_count": 94,
   "metadata": {},
   "outputs": [],
   "source": [
    "## --Save the pc_p1 and pc_PPE in a .nc files\n",
    "path_file = path_files+'nc/'\n",
    "filename = 'CNRMppe_decomposition_p1_EOFpc_'+str(variable)+'.nc'\n",
    "pc[0, :].to_netcdf(path=path_file+filename)\n",
    "filename = 'CNRMppe_decomposition_EOFpc_'+str(variable)+'.nc'\n",
    "pc[1:, :].to_netcdf(path=path_file+filename)"
   ]
  },
  {
   "cell_type": "code",
   "execution_count": 95,
   "metadata": {},
   "outputs": [],
   "source": [
    "mean_df = mean.to_dataframe(name=str(variable)+'mean')#.drop(labels = 'height', axis=1)\n",
    "mean_df.to_pickle(path_files+'npy/CNRMppe_decomposition_mean_'+str(variable)+'.npy')"
   ]
  },
  {
   "cell_type": "markdown",
   "metadata": {},
   "source": [
    "## Get the observations"
   ]
  },
  {
   "cell_type": "code",
   "execution_count": 96,
   "metadata": {},
   "outputs": [
    {
     "data": {
      "text/html": [
       "<pre>&lt;xarray.DataArray (lat: 128, lon: 256)&gt;\n",
       "array([[ 4.020569 ,  4.1240845,  4.226013 , ...,  3.677124 ,  3.7960205,\n",
       "         3.9091187],\n",
       "       [ 5.607361 ,  5.845215 ,  6.0790405, ...,  4.819092 ,  5.092041 ,\n",
       "         5.3516846],\n",
       "       [ 5.6016846,  5.7980957,  5.9853516, ...,  5.2158203,  5.0930176,\n",
       "         5.354126 ],\n",
       "       ...,\n",
       "       [-2.481079 , -2.4942627, -2.5076904, ..., -2.4955444, -2.4577026,\n",
       "        -2.4691772],\n",
       "       [-2.1868896, -2.1795044, -2.1722412, ..., -2.2124023, -2.2039185,\n",
       "        -2.1953735],\n",
       "       [-2.8145142, -2.8112793, -2.8081055, ..., -2.8256836, -2.8218994,\n",
       "        -2.8181763]], dtype=float32)\n",
       "Coordinates:\n",
       "  * lat      (lat) float64 -88.93 -87.54 -86.14 -84.74 ... 86.14 87.54 88.93\n",
       "  * lon      (lon) float64 0.0 1.406 2.812 4.219 ... 354.4 355.8 357.2 358.6\n",
       "    mode     &lt;U7 &#x27;pslmean&#x27;</pre>"
      ],
      "text/plain": [
       "<xarray.DataArray (lat: 128, lon: 256)>\n",
       "array([[ 4.020569 ,  4.1240845,  4.226013 , ...,  3.677124 ,  3.7960205,\n",
       "         3.9091187],\n",
       "       [ 5.607361 ,  5.845215 ,  6.0790405, ...,  4.819092 ,  5.092041 ,\n",
       "         5.3516846],\n",
       "       [ 5.6016846,  5.7980957,  5.9853516, ...,  5.2158203,  5.0930176,\n",
       "         5.354126 ],\n",
       "       ...,\n",
       "       [-2.481079 , -2.4942627, -2.5076904, ..., -2.4955444, -2.4577026,\n",
       "        -2.4691772],\n",
       "       [-2.1868896, -2.1795044, -2.1722412, ..., -2.2124023, -2.2039185,\n",
       "        -2.1953735],\n",
       "       [-2.8145142, -2.8112793, -2.8081055, ..., -2.8256836, -2.8218994,\n",
       "        -2.8181763]], dtype=float32)\n",
       "Coordinates:\n",
       "  * lat      (lat) float64 -88.93 -87.54 -86.14 -84.74 ... 86.14 87.54 88.93\n",
       "  * lon      (lon) float64 0.0 1.406 2.812 4.219 ... 354.4 355.8 357.2 358.6\n",
       "    mode     <U7 'pslmean'"
      ]
     },
     "execution_count": 96,
     "metadata": {},
     "output_type": "execute_result"
    }
   ],
   "source": [
    "Mean =  pd.read_pickle(path_files+'npy/CNRMppe_decomposition_mean_'+str(variable)+'.npy').to_xarray().to_array()\n",
    "Mean = Mean[0,:,:].rename({'variable':'mode'})\n",
    "X_obs_anom = X_obs[variable_obs] - Mean\n",
    "X_obs_anom"
   ]
  },
  {
   "cell_type": "markdown",
   "metadata": {},
   "source": [
    "## Parametric component of the error for different q"
   ]
  },
  {
   "cell_type": "code",
   "execution_count": 97,
   "metadata": {},
   "outputs": [],
   "source": [
    "def Error_PPE_param_component(path_files, variable, Mean, W_eof_2D, W_rmse_2D, q) :\n",
    "    ## --Get the eofs\n",
    "    eofs=[]\n",
    "    for j in range(1,q+1,1) :\n",
    "        eof_tmp = pd.read_pickle(path_files+\"npy/CNRMppe_decomposition_EOFmap\"+str(j)+\"_\"+str(variable)+\".npy\").to_xarray().to_array()\n",
    "        eof_tmp = eof_tmp[0,:,:].rename({'variable':'mode'})\n",
    "        eofs.append(eof_tmp)      \n",
    "    ## --Combine the modes for reconstruction\n",
    "    eofs_combined = xr.combine_nested(eofs, concat_dim='eofs')\n",
    "    \n",
    "    ## --Get the pc_PPE\n",
    "    path_file = path_files+'nc/'\n",
    "    filename = 'CNRMppe_decomposition_EOFpc_'+str(variable)+'.nc'\n",
    "    pc_PPE = xr.open_dataset(path_file+filename)\n",
    "    pc_PPE_trunc = pc_PPE['pcs'][:,0:q]\n",
    "\n",
    "    ## -- Project the observations :\n",
    "    X_obs_W = X_obs_anom*W_eof_2D\n",
    "    U_obs = solver.projectField(X_obs_W, neofs=q, weighted=False, eofscaling=1)\n",
    "\n",
    "    ## -- reconstruct X_obs_rec : \n",
    "    pc=U_obs\n",
    "    nb_dims = 2\n",
    "    X_obs_rec = reconstruct_X(eofs_combined, pc, nb_dims)\n",
    "    ## -- reconstruct X_mod_rec : \n",
    "    pc=pc_PPE_trunc\n",
    "    nb_dims = 3\n",
    "    X_mod_rec = reconstruct_X(eofs_combined, pc.transpose(), nb_dims)\n",
    "\n",
    "    pj_list = MSE_rec(X_mod_rec, X_obs_rec, Mean, W_rmse_2D)\n",
    "\n",
    "    return pj_list"
   ]
  },
  {
   "cell_type": "code",
   "execution_count": 98,
   "metadata": {},
   "outputs": [],
   "source": [
    "df_fig = pd.DataFrame(ej_list, columns=['ej'])\n",
    "\n",
    "## -- 5 modes :\n",
    "q = 5\n",
    "pj_list = Error_PPE_param_component(path_files, variable, Mean, W_eof_2D, W_rmse_2D, q)\n",
    "df_fig['pj ' +str(q)+' modes'] = pj_list\n",
    "df_fig['uj ' +str(q)+' modes'] = abs(df_fig['ej'] - df_fig['pj ' +str(q)+' modes'])\n",
    "\n",
    "## -- 20 modes :\n",
    "q = 20\n",
    "pj_list = Error_PPE_param_component(path_files, variable, Mean, W_eof_2D, W_rmse_2D, q)\n",
    "df_fig['pj ' +str(q)+' modes'] = pj_list\n",
    "df_fig['uj ' +str(q)+' modes'] = abs(df_fig['ej'] - df_fig['pj ' +str(q)+' modes'])\n",
    "\n",
    "## -- 50 modes :\n",
    "q = 50\n",
    "pj_list = Error_PPE_param_component(path_files, variable, Mean, W_eof_2D, W_rmse_2D, q)\n",
    "df_fig['pj ' +str(q)+' modes'] = pj_list\n",
    "df_fig['uj ' +str(q)+' modes'] = abs(df_fig['ej'] - df_fig['pj ' +str(q)+' modes'])\n",
    "\n",
    "## -- 102 modes :\n",
    "q = 102\n",
    "pj_list = Error_PPE_param_component(path_files, variable, Mean, W_eof_2D, W_rmse_2D, q)\n",
    "df_fig['pj ' +str(q)+' modes'] = pj_list\n",
    "df_fig['uj ' +str(q)+' modes'] = abs(df_fig['ej'] - df_fig['pj ' +str(q)+' modes'])\n",
    "\n",
    "#df_fig"
   ]
  },
  {
   "cell_type": "code",
   "execution_count": 99,
   "metadata": {},
   "outputs": [
    {
     "data": {
      "text/html": [
       "<div>\n",
       "<style scoped>\n",
       "    .dataframe tbody tr th:only-of-type {\n",
       "        vertical-align: middle;\n",
       "    }\n",
       "\n",
       "    .dataframe tbody tr th {\n",
       "        vertical-align: top;\n",
       "    }\n",
       "\n",
       "    .dataframe thead th {\n",
       "        text-align: right;\n",
       "    }\n",
       "</style>\n",
       "<table border=\"1\" class=\"dataframe\">\n",
       "  <thead>\n",
       "    <tr style=\"text-align: right;\">\n",
       "      <th></th>\n",
       "      <th>ej</th>\n",
       "      <th>pj 5 modes</th>\n",
       "      <th>uj 5 modes</th>\n",
       "      <th>pj 20 modes</th>\n",
       "      <th>uj 20 modes</th>\n",
       "      <th>pj 50 modes</th>\n",
       "      <th>uj 50 modes</th>\n",
       "      <th>pj 102 modes</th>\n",
       "      <th>uj 102 modes</th>\n",
       "      <th>members</th>\n",
       "    </tr>\n",
       "  </thead>\n",
       "  <tbody>\n",
       "    <tr>\n",
       "      <th>87</th>\n",
       "      <td>2.722579</td>\n",
       "      <td>0.436610</td>\n",
       "      <td>2.285969</td>\n",
       "      <td>0.806565</td>\n",
       "      <td>1.916014</td>\n",
       "      <td>1.432831</td>\n",
       "      <td>1.289748</td>\n",
       "      <td>1.810512</td>\n",
       "      <td>0.912067</td>\n",
       "      <td>1</td>\n",
       "    </tr>\n",
       "    <tr>\n",
       "      <th>39</th>\n",
       "      <td>2.878916</td>\n",
       "      <td>0.486384</td>\n",
       "      <td>2.392531</td>\n",
       "      <td>0.821555</td>\n",
       "      <td>2.057360</td>\n",
       "      <td>1.586640</td>\n",
       "      <td>1.292276</td>\n",
       "      <td>1.966848</td>\n",
       "      <td>0.912067</td>\n",
       "      <td>2</td>\n",
       "    </tr>\n",
       "    <tr>\n",
       "      <th>59</th>\n",
       "      <td>2.953164</td>\n",
       "      <td>0.332918</td>\n",
       "      <td>2.620247</td>\n",
       "      <td>0.946487</td>\n",
       "      <td>2.006678</td>\n",
       "      <td>1.668623</td>\n",
       "      <td>1.284541</td>\n",
       "      <td>2.041097</td>\n",
       "      <td>0.912067</td>\n",
       "      <td>3</td>\n",
       "    </tr>\n",
       "    <tr>\n",
       "      <th>60</th>\n",
       "      <td>2.982733</td>\n",
       "      <td>0.641333</td>\n",
       "      <td>2.341400</td>\n",
       "      <td>1.035790</td>\n",
       "      <td>1.946943</td>\n",
       "      <td>1.734297</td>\n",
       "      <td>1.248437</td>\n",
       "      <td>2.070666</td>\n",
       "      <td>0.912067</td>\n",
       "      <td>4</td>\n",
       "    </tr>\n",
       "    <tr>\n",
       "      <th>17</th>\n",
       "      <td>3.015877</td>\n",
       "      <td>0.275550</td>\n",
       "      <td>2.740327</td>\n",
       "      <td>0.994916</td>\n",
       "      <td>2.020961</td>\n",
       "      <td>1.757471</td>\n",
       "      <td>1.258407</td>\n",
       "      <td>2.103810</td>\n",
       "      <td>0.912067</td>\n",
       "      <td>5</td>\n",
       "    </tr>\n",
       "    <tr>\n",
       "      <th>...</th>\n",
       "      <td>...</td>\n",
       "      <td>...</td>\n",
       "      <td>...</td>\n",
       "      <td>...</td>\n",
       "      <td>...</td>\n",
       "      <td>...</td>\n",
       "      <td>...</td>\n",
       "      <td>...</td>\n",
       "      <td>...</td>\n",
       "      <td>...</td>\n",
       "    </tr>\n",
       "    <tr>\n",
       "      <th>36</th>\n",
       "      <td>14.283990</td>\n",
       "      <td>11.913981</td>\n",
       "      <td>2.370009</td>\n",
       "      <td>12.316508</td>\n",
       "      <td>1.967482</td>\n",
       "      <td>13.025964</td>\n",
       "      <td>1.258026</td>\n",
       "      <td>13.371923</td>\n",
       "      <td>0.912067</td>\n",
       "      <td>98</td>\n",
       "    </tr>\n",
       "    <tr>\n",
       "      <th>48</th>\n",
       "      <td>16.083698</td>\n",
       "      <td>13.172106</td>\n",
       "      <td>2.911591</td>\n",
       "      <td>13.879360</td>\n",
       "      <td>2.204338</td>\n",
       "      <td>14.759680</td>\n",
       "      <td>1.324017</td>\n",
       "      <td>15.171630</td>\n",
       "      <td>0.912067</td>\n",
       "      <td>99</td>\n",
       "    </tr>\n",
       "    <tr>\n",
       "      <th>11</th>\n",
       "      <td>19.403896</td>\n",
       "      <td>17.165451</td>\n",
       "      <td>2.238445</td>\n",
       "      <td>17.488369</td>\n",
       "      <td>1.915527</td>\n",
       "      <td>18.167849</td>\n",
       "      <td>1.236047</td>\n",
       "      <td>18.491829</td>\n",
       "      <td>0.912067</td>\n",
       "      <td>100</td>\n",
       "    </tr>\n",
       "    <tr>\n",
       "      <th>62</th>\n",
       "      <td>19.838268</td>\n",
       "      <td>17.480800</td>\n",
       "      <td>2.357468</td>\n",
       "      <td>17.667072</td>\n",
       "      <td>2.171196</td>\n",
       "      <td>18.546308</td>\n",
       "      <td>1.291960</td>\n",
       "      <td>18.926201</td>\n",
       "      <td>0.912067</td>\n",
       "      <td>101</td>\n",
       "    </tr>\n",
       "    <tr>\n",
       "      <th>78</th>\n",
       "      <td>24.466842</td>\n",
       "      <td>21.514188</td>\n",
       "      <td>2.952654</td>\n",
       "      <td>22.269370</td>\n",
       "      <td>2.197472</td>\n",
       "      <td>23.194680</td>\n",
       "      <td>1.272162</td>\n",
       "      <td>23.554775</td>\n",
       "      <td>0.912067</td>\n",
       "      <td>102</td>\n",
       "    </tr>\n",
       "  </tbody>\n",
       "</table>\n",
       "<p>102 rows × 10 columns</p>\n",
       "</div>"
      ],
      "text/plain": [
       "           ej  pj 5 modes  uj 5 modes  pj 20 modes  uj 20 modes  pj 50 modes  \\\n",
       "87   2.722579    0.436610    2.285969     0.806565     1.916014     1.432831   \n",
       "39   2.878916    0.486384    2.392531     0.821555     2.057360     1.586640   \n",
       "59   2.953164    0.332918    2.620247     0.946487     2.006678     1.668623   \n",
       "60   2.982733    0.641333    2.341400     1.035790     1.946943     1.734297   \n",
       "17   3.015877    0.275550    2.740327     0.994916     2.020961     1.757471   \n",
       "..        ...         ...         ...          ...          ...          ...   \n",
       "36  14.283990   11.913981    2.370009    12.316508     1.967482    13.025964   \n",
       "48  16.083698   13.172106    2.911591    13.879360     2.204338    14.759680   \n",
       "11  19.403896   17.165451    2.238445    17.488369     1.915527    18.167849   \n",
       "62  19.838268   17.480800    2.357468    17.667072     2.171196    18.546308   \n",
       "78  24.466842   21.514188    2.952654    22.269370     2.197472    23.194680   \n",
       "\n",
       "    uj 50 modes  pj 102 modes  uj 102 modes  members  \n",
       "87     1.289748      1.810512      0.912067        1  \n",
       "39     1.292276      1.966848      0.912067        2  \n",
       "59     1.284541      2.041097      0.912067        3  \n",
       "60     1.248437      2.070666      0.912067        4  \n",
       "17     1.258407      2.103810      0.912067        5  \n",
       "..          ...           ...           ...      ...  \n",
       "36     1.258026     13.371923      0.912067       98  \n",
       "48     1.324017     15.171630      0.912067       99  \n",
       "11     1.236047     18.491829      0.912067      100  \n",
       "62     1.291960     18.926201      0.912067      101  \n",
       "78     1.272162     23.554775      0.912067      102  \n",
       "\n",
       "[102 rows x 10 columns]"
      ]
     },
     "execution_count": 99,
     "metadata": {},
     "output_type": "execute_result"
    }
   ],
   "source": [
    "df_fig_sort = df_fig.sort_values(by='ej')\n",
    "df_fig_sort['members'] = range(1, len(ej_list)+1,1)\n",
    "df_fig_sort"
   ]
  },
  {
   "cell_type": "markdown",
   "metadata": {},
   "source": [
    "## Error components ratio"
   ]
  },
  {
   "cell_type": "code",
   "execution_count": 100,
   "metadata": {},
   "outputs": [],
   "source": [
    "q_list = [5,20,50,102]\n",
    "ratio_p = {}\n",
    "ratio_u = {}\n",
    "for q in q_list :\n",
    "    ratio_p[str(q)+' modes'] = (df_fig['pj ' +str(q)+' modes'].mean()/df_fig['ej'].mean())*100\n",
    "    ratio_u[str(q)+' modes'] = (df_fig['uj ' +str(q)+' modes'].mean()/df_fig['ej'].mean())*100"
   ]
  },
  {
   "cell_type": "code",
   "execution_count": 101,
   "metadata": {},
   "outputs": [
    {
     "data": {
      "text/plain": [
       "{'5 modes': 62.46518161535456,\n",
       " '20 modes': 70.43238423622674,\n",
       " '50 modes': 82.14919566013093,\n",
       " '102 modes': 87.15793641315604}"
      ]
     },
     "execution_count": 101,
     "metadata": {},
     "output_type": "execute_result"
    }
   ],
   "source": [
    "ratio_p"
   ]
  },
  {
   "cell_type": "code",
   "execution_count": 102,
   "metadata": {},
   "outputs": [
    {
     "data": {
      "text/plain": [
       "{'5 modes': 37.534818384645405,\n",
       " '20 modes': 29.567615763773237,\n",
       " '50 modes': 17.85080433986905,\n",
       " '102 modes': 12.842063586843933}"
      ]
     },
     "execution_count": 102,
     "metadata": {},
     "output_type": "execute_result"
    }
   ],
   "source": [
    "ratio_u"
   ]
  },
  {
   "cell_type": "markdown",
   "metadata": {},
   "source": [
    "# Figure - error decomposition"
   ]
  },
  {
   "cell_type": "code",
   "execution_count": 103,
   "metadata": {},
   "outputs": [
    {
     "data": {
      "image/png": "[encoded data removed]",
      "text/plain": [
       "<Figure size 864x720 with 1 Axes>"
      ]
     },
     "metadata": {
      "needs_background": "light"
     },
     "output_type": "display_data"
    }
   ],
   "source": [
    "fig, ax = plt.subplots(figsize=(12,10))\n",
    "\n",
    "df_fig_sort.plot(kind='scatter', x='members', y='ej', \n",
    "                           color='black', alpha=1, marker='o', ax = ax)\n",
    "\n",
    "\n",
    "df_fig_sort.plot(kind='scatter', x='members', y='pj 5 modes', \n",
    "                           color='darkred', alpha=1, marker='o', ax = ax)  \n",
    "\n",
    "df_fig_sort.plot(kind='scatter', x='members', y='pj 20 modes', \n",
    "                           color='teal', alpha=1, marker='o', ax = ax) \n",
    "\n",
    "df_fig_sort.plot(kind='scatter', x='members', y='pj 50 modes', \n",
    "                           color='plum', alpha=1, marker='o', ax = ax) \n",
    "\n",
    "df_fig_sort.plot(kind='scatter', x='members', y='pj 102 modes', \n",
    "                           color='coral', alpha=1, marker='o', ax = ax) \n",
    "    \n",
    "cpt=1\n",
    "for i in df_fig_sort['ej'] : \n",
    "    plt.vlines(cpt,ymin = 0,ymax = i, colors='gray',\n",
    "           linestyles='dashed')\n",
    "    cpt+=1\n",
    "\n",
    " \n",
    "cpt=1\n",
    "for i in df_fig_sort['pj 102 modes'] : \n",
    "    plt.vlines(cpt,ymin = 0,ymax = i, colors='coral', label='_nolegend_',\n",
    "           linestyles='dashed')\n",
    "    cpt+=1\n",
    "\n",
    "cpt=1\n",
    "for i in df_fig_sort['pj 50 modes'] : \n",
    "    plt.vlines(cpt,ymin = 0,ymax = i, colors='plum', label='_nolegend_',\n",
    "           linestyles='dashed')\n",
    "    cpt+=1\n",
    "    \n",
    "cpt=1\n",
    "for i in df_fig_sort['pj 20 modes'] : \n",
    "    plt.vlines(cpt,ymin = 0,ymax = i, colors='teal', label='_nolegend_',\n",
    "           linestyles='dashed')\n",
    "    cpt+=1\n",
    "    \n",
    "cpt=1\n",
    "for i in df_fig_sort['pj 5 modes'] : \n",
    "    plt.vlines(cpt,ymin = 0,ymax = i, colors='darkred', label='_nolegend_',\n",
    "           linestyles='dashed')\n",
    "    cpt+=1\n",
    "\n",
    "legend=['Full error $e_{tas}(\\\\theta_i)$', \n",
    "        'Param. error $p_{tas}(\\\\theta_i)$ ($q=5$)', \n",
    "        'Param. error $p_{tas}(\\\\theta_i)$ ($q=20$)',\n",
    "        'Param. error $p_{tas}(\\\\theta_i)$ ($q=50$)',\n",
    "        'Param. error $p_{tas}(\\\\theta_i)$ ($q=102$)',\n",
    "        'Non-param. error $u_{tas}$ ($q=102$)']\n",
    "ax.tick_params(axis='both', which='major', labelsize=15)\n",
    "plt.legend(legend, fontsize=18, loc='upper left') #, bbox_to_anchor=(1.5, 1.02))\n",
    "plt.title('Precipitation ($mm/day$)', fontsize = 25)\n",
    "plt.xlabel('Models - ranked from best to worst',fontsize=20)\n",
    "plt.ylabel('Integrative model error (RMSE)', fontsize=20)\n",
    "ax.tick_params(axis='both', which='major', labelsize=15)\n",
    "plt.legend(legend, fontsize=16, loc='upper left') #, bbox_to_anchor=(1.5, 1.02))\n",
    "plt.title('Surface pressure ($Pa$)', fontsize = 25)\n",
    "plt.xlabel('PPE members $f(\\\\theta_i)$ - ranked from best to worst',fontsize=20)\n",
    "plt.ylabel('Integrative model error (MSE)', fontsize=20)\n",
    "\n",
    "# Enregistrer la figure ...........\n",
    "\n",
    "plt.savefig(\"/data/home/globc/peatier/figures/PPE_ej_decompo_example_\"+variable+\".png\", \n",
    "        orientation='portrait', bbox_inches='tight', pad_inches=0.1)\n",
    "\n",
    "# Display the figure \n",
    "plt.show()"
   ]
  },
  {
   "cell_type": "markdown",
   "metadata": {},
   "source": [
    "# Figure - correlation"
   ]
  },
  {
   "cell_type": "code",
   "execution_count": 104,
   "metadata": {},
   "outputs": [],
   "source": [
    "def correlation(df_fig, q) :\n",
    "    res = stats.linregress(df_fig['pj '+str(q)+' modes'], df_fig['ej'])\n",
    "    x = np.arange(0.2,5.8,0.02)\n",
    "    line = res.intercept + res.slope*x\n",
    "    \n",
    "    r = res.rvalue\n",
    "    r_round = round(r,3)\n",
    "    \n",
    "    return [line, r_round]"
   ]
  },
  {
   "cell_type": "code",
   "execution_count": 105,
   "metadata": {},
   "outputs": [],
   "source": [
    "corr = {}\n",
    "## -- 5 modes :\n",
    "q = 5\n",
    "corr[str(q)+' modes'] = correlation(df_fig, q)\n",
    "\n",
    "## -- 20 modes :\n",
    "q = 20\n",
    "corr[str(q)+' modes'] = correlation(df_fig, q)\n",
    "\n",
    "## -- 50 modes :\n",
    "q = 50\n",
    "corr[str(q)+' modes'] = correlation(df_fig, q)\n",
    "\n",
    "## -- 102 modes :\n",
    "q = 102\n",
    "corr[str(q)+' modes'] = correlation(df_fig, q)"
   ]
  },
  {
   "cell_type": "code",
   "execution_count": 106,
   "metadata": {},
   "outputs": [
    {
     "data": {
      "image/png": "[encoded data removed]",
      "text/plain": [
       "<Figure size 864x720 with 1 Axes>"
      ]
     },
     "metadata": {
      "needs_background": "light"
     },
     "output_type": "display_data"
    }
   ],
   "source": [
    "fig, ax = plt.subplots(figsize=(12,10))\n",
    "\n",
    "## -- Regression line for different q\n",
    "q=5\n",
    "ax.plot(np.arange(0.2,5.8,0.02), corr[str(q)+' modes'][0], \n",
    "        linestyle='--', alpha=0.5,  color='darkred', \n",
    "        label='_nolegend_', zorder =20)\n",
    "q=20\n",
    "ax.plot(np.arange(0.2,5.8,0.02), corr[str(q)+' modes'][0], \n",
    "        linestyle='--', alpha=0.5,  color='teal', \n",
    "        label='_nolegend_', zorder =20)\n",
    "q=50\n",
    "ax.plot(np.arange(0.2,5.8,0.02), corr[str(q)+' modes'][0], linestyle='--', alpha=0.5,  \n",
    "        color='plum', \n",
    "        label='_nolegend_', zorder =20)\n",
    "q=102\n",
    "ax.plot(np.arange(0.2,5.8,0.02), corr[str(q)+' modes'][0], linestyle='--', alpha=0.5,  \n",
    "        color='coral', \n",
    "        label='_nolegend_', zorder =20)\n",
    "\n",
    "## -- Scatter plot for different q\n",
    "q=5\n",
    "df_fig_sort.plot(kind='scatter', x='pj 5 modes', y='ej', \n",
    "                           color='darkred', alpha=1, marker='o', ax = ax, zorder =1)\n",
    "q=20\n",
    "df_fig_sort.plot(kind='scatter', x='pj 20 modes', y='ej', \n",
    "                           color='teal', alpha=1, marker='o', ax = ax, zorder =1)\n",
    "q=50\n",
    "df_fig_sort.plot(kind='scatter', x='pj 50 modes', y='ej', \n",
    "                           color='plum', alpha=1, marker='o', ax = ax, zorder =1)\n",
    "q=102\n",
    "df_fig_sort.plot(kind='scatter', x='pj 102 modes', y='ej', \n",
    "                           color='coral', alpha=1, marker='o', ax = ax, zorder =1)\n",
    "\n",
    "\n",
    "\n",
    "## -- Regression line for the diagonal (0,0)\n",
    "ax.plot(np.arange(0.0,10.0,0.02), np.arange(0.0,10.0,0.02), \n",
    "        linestyle=\"-\", alpha=0.3,  color='gray', \n",
    "        label='_nolegend_')\n",
    "\n",
    "## -- Legend and settings\n",
    "legend=['5 EOF modes retained ($q=5$)', \n",
    "        '20 EOF modes retained ($q=20$)', \n",
    "        '50 EOF modes retained ($q=50$)', \n",
    "        '102 EOF modes retained ($q=102$)']\n",
    "#ax.text(x=1.6, y=0.7, s='Pearson correlation coefficients :', fontsize=16)\n",
    "ax.text(x=0.05, y=7.0, s='$r = $'+str(corr['5 modes'][1]), fontsize=16, \n",
    "        color='darkred', fontweight='bold')\n",
    "ax.text(x=0.05, y=6.7, s='$r = $'+str(corr['20 modes'][1]), fontsize=16, \n",
    "        color='teal', fontweight='bold')\n",
    "ax.text(x=0.05, y=6.4, s='$r = $'+str(corr['50 modes'][1]), fontsize=16, \n",
    "        color='plum', fontweight='bold')\n",
    "ax.text(x=0.05, y=6.1, s='$r = $'+str(corr['102 modes'][1]), fontsize=16, \n",
    "        color='coral', fontweight='bold')\n",
    "ax.tick_params(axis='both', which='major', labelsize=15)\n",
    "plt.legend(legend, fontsize=18, loc='lower right') #, bbox_to_anchor=(1.5, 1.02))\n",
    "plt.title('Precipitation ($mm/day$)', fontsize = 25)\n",
    "plt.xlabel('Parametric component of the error $p_{tas}(\\\\theta_i)$',fontsize=20)\n",
    "plt.ylabel('Full error $e_{tas}(\\\\theta_i)$',fontsize=20)\n",
    "plt.ylim(0,7.2)\n",
    "plt.xlim(0,7.2)\n",
    "\n",
    "# Enregistrer la figure ...........\n",
    "\n",
    "plt.savefig(\"/data/home/globc/peatier/figures/Corr_decompo_example_\"+variable+\".png\", \n",
    "        orientation='portrait', bbox_inches='tight', pad_inches=0.1)\n",
    "\n",
    "# Display the figure \n",
    "plt.show()"
   ]
  },
  {
   "cell_type": "code",
   "execution_count": null,
   "metadata": {},
   "outputs": [],
   "source": []
  },
  {
   "cell_type": "code",
   "execution_count": null,
   "metadata": {},
   "outputs": [],
   "source": []
  },
  {
   "cell_type": "code",
   "execution_count": null,
   "metadata": {},
   "outputs": [],
   "source": []
  },
  {
   "cell_type": "code",
   "execution_count": null,
   "metadata": {},
   "outputs": [],
   "source": []
  }
 ],
 "metadata": {
  "kernelspec": {
   "display_name": "Python 3",
   "language": "python",
   "name": "python3"
  },
  "language_info": {
   "codemirror_mode": {
    "name": "ipython",
    "version": 3
   },
   "file_extension": ".py",
   "mimetype": "text/x-python",
   "name": "python",
   "nbconvert_exporter": "python",
   "pygments_lexer": "ipython3",
   "version": "3.7.6"
  }
 },
 "nbformat": 4,
 "nbformat_minor": 2
}
