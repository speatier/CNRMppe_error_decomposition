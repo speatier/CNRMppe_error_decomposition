{
 "cells": [
  {
   "cell_type": "markdown",
   "metadata": {},
   "source": [
    "# Clustering for uni-variate temperature \n",
    "Step of the codes :\n",
    "- Import modules \n",
    "- Define settings \n",
    "- Define functions \n",
    "- Download pc pred optim, pc_p1 and pc_obs\n",
    "- Merge pc PPE and pc pred together \n",
    "- Cluster merged matrice \n",
    "- project observations and p1 - which cluster ? \n",
    "- test sensitivity and plots "
   ]
  },
  {
   "cell_type": "markdown",
   "metadata": {},
   "source": [
    "# Import Module"
   ]
  },
  {
   "cell_type": "code",
   "execution_count": 1,
   "metadata": {},
   "outputs": [
    {
     "name": "stderr",
     "output_type": "stream",
     "text": [
      "/data/scratch/globc/peatier/conda/lib/python3.7/site-packages/statsmodels/tools/_testing.py:19: FutureWarning: pandas.util.testing is deprecated. Use the functions in the public API at pandas.testing instead.\n",
      "  import pandas.util.testing as tm\n"
     ]
    }
   ],
   "source": [
    "# Computational modules \n",
    "%matplotlib inline\n",
    "import xarray as xr\n",
    "import glob\n",
    "import os\n",
    "import numpy as np\n",
    "import netCDF4\n",
    "from netCDF4 import Dataset\n",
    "import pandas as pd\n",
    "import re\n",
    "from array import array\n",
    "from pylab import *\n",
    "#import geopandas\n",
    "from eofs.xarray import Eof\n",
    "from eofs.multivariate.standard import MultivariateEof\n",
    "import random\n",
    "\n",
    "# Plotting modules \n",
    "import matplotlib.pyplot as plt\n",
    "#from mpl_toolkits.basemap import Basemap\n",
    "import pandas.plotting\n",
    "import matplotlib.ticker as ticker\n",
    "import seaborn as sns\n",
    "import cartopy.crs as ccrs\n",
    "import cartopy.feature as cfeature\n",
    "from matplotlib.colors import BoundaryNorm\n",
    "from cartopy.util import add_cyclic_point\n",
    "\n",
    "# Scikit-learn\n",
    "from sklearn import linear_model\n",
    "from sklearn.linear_model import LassoCV, LassoLarsCV, LassoLarsIC\n",
    "from sklearn.linear_model import Lasso\n",
    "from sklearn.metrics import r2_score\n",
    "from sklearn import preprocessing\n",
    "from sklearn import tree\n",
    "from sklearn.ensemble import RandomForestClassifier\n",
    "from sklearn.metrics import confusion_matrix\n",
    "from sklearn import metrics\n",
    "from sklearn.neural_network import MLPRegressor\n",
    "from scipy.optimize import minimize\n",
    "from scipy.optimize import dual_annealing\n",
    "from sklearn.decomposition import PCA\n",
    "\n",
    "## Clustering \n",
    "from sklearn.cluster import KMeans\n",
    "from pyclustering.cluster.kmedians import kmedians"
   ]
  },
  {
   "cell_type": "markdown",
   "metadata": {},
   "source": [
    "# Settings"
   ]
  },
  {
   "cell_type": "markdown",
   "metadata": {},
   "source": [
    "### Variables"
   ]
  },
  {
   "cell_type": "code",
   "execution_count": 2,
   "metadata": {},
   "outputs": [],
   "source": [
    "variables = ['tas']\n",
    "var = 'tas'\n",
    "TITLE = 'Surface Temperature'\n",
    "ylabel = '$E_{tas}$ ($K$)'\n",
    "trunc = 18"
   ]
  },
  {
   "cell_type": "markdown",
   "metadata": {},
   "source": [
    "### Paths"
   ]
  },
  {
   "cell_type": "code",
   "execution_count": 3,
   "metadata": {},
   "outputs": [],
   "source": [
    "path_official='/data/scratch/globc/peatier/CMIP6/CNRM-CM6-1/CFMIP/amip/'\n",
    "path_PPE='/data/scratch/globc/peatier/PPE/CNRM-CM6-1_PPE/'\n",
    "path_files='/data/home/globc/peatier/PPE/CNRMppe_error_decomposition/files/'\n",
    "path_file_npy = '/data/home/globc/peatier/PPE/CNRMppe_save/PPE/ENSEMBLE2/files/npy/'"
   ]
  },
  {
   "cell_type": "markdown",
   "metadata": {},
   "source": [
    "# Functions"
   ]
  },
  {
   "cell_type": "code",
   "execution_count": 4,
   "metadata": {},
   "outputs": [],
   "source": [
    "def get_3D_tas_xarr(path, filename, variables):\n",
    "#    “”\"\n",
    "#    This function read the netCDF file of monthly data, compute the radiative budget, perform a yearly mean and \n",
    "#    return a dataframe\n",
    "#    “”\"\n",
    "    # First step : download the data into dataframe\n",
    "    file = xr.open_mfdataset(path+filename,combine='by_coords')\n",
    "    #\n",
    "    # Second step : compute the annual average \n",
    "    df = file[variables].mean('time', keep_attrs=True)\n",
    "    tas = df['tas']\n",
    "    #\n",
    "    return tas"
   ]
  },
  {
   "cell_type": "code",
   "execution_count": 5,
   "metadata": {},
   "outputs": [],
   "source": [
    "def MSE(mod, obs, W_rmse_2D) :\n",
    "    diff_tmp = (mod - obs)**2 * W_rmse_2D\n",
    "    diff = (diff_tmp.sum(['lat', 'lon']))\n",
    "    return diff"
   ]
  },
  {
   "cell_type": "code",
   "execution_count": 6,
   "metadata": {},
   "outputs": [],
   "source": [
    "def reconstruct_X(eofs_combined, pc, nb_dims) :\n",
    "    X_rec_tmp = np.dot(eofs_combined.transpose(),pc)\n",
    "    if nb_dims == 3 :\n",
    "        X_rec = xr.DataArray(X_rec_tmp, \n",
    "                        dims=[\"lon\", \"lat\", \"time\"]).transpose('time', 'lat', 'lon')\n",
    "    if nb_dims == 2 :\n",
    "        X_rec = xr.DataArray(X_rec_tmp, \n",
    "                        dims=[\"lon\", \"lat\"]).transpose('lat', 'lon')\n",
    "    \n",
    "    X_rec['lat'] = eofs_combined['lat']\n",
    "    X_rec['lon'] = eofs_combined['lon']\n",
    "    return X_rec"
   ]
  },
  {
   "cell_type": "code",
   "execution_count": 7,
   "metadata": {},
   "outputs": [],
   "source": [
    "def MSE_rec(rec_anom_mod_w, rec_anom_obs_w, Mean, W_rmse_2D) :\n",
    "    mod = rec_anom_mod_w/W_eof_2D + Mean\n",
    "    obs = rec_anom_obs_w/W_eof_2D + Mean\n",
    "    diff = MSE(mod, obs, W_rmse_2D)\n",
    "    return diff"
   ]
  },
  {
   "cell_type": "markdown",
   "metadata": {},
   "source": [
    "# Download PCs"
   ]
  },
  {
   "cell_type": "code",
   "execution_count": 8,
   "metadata": {},
   "outputs": [],
   "source": [
    "path_files = '/data/home/globc/peatier/PPE/CNRMppe_error_decomposition/files/'\n",
    "\n",
    "## PPE\n",
    "path = path_files+'nc/'\n",
    "filename = 'pc_PPE_'+var+'.nc'\n",
    "pc_PPE = xr.open_mfdataset(path+filename,combine='by_coords')\n",
    "dims_dict = {'time' : 'members', 'mode' : 'modes'}\n",
    "pc_PPE = pc_PPE.rename_dims(dims_dict)\n",
    "    \n",
    "## observations\n",
    "path = path_files+'nc/'\n",
    "filename = 'pc_obs_'+var+'.nc'\n",
    "pc_obs = xr.open_mfdataset(path+filename,combine='by_coords')\n",
    "    \n",
    "## p1 - the first line of pc_PPE\n",
    "    \n",
    "## predictions\n",
    "path = path_files+'nc/'\n",
    "filename = 'pc_pred_'+var+'.nc'\n",
    "pc_pred = xr.open_mfdataset(path+filename,combine='by_coords')\n",
    "pc_pred = pc_pred.rename({'__xarray_dataarray_variable__' : 'pcs'})"
   ]
  },
  {
   "cell_type": "code",
   "execution_count": 9,
   "metadata": {},
   "outputs": [],
   "source": [
    "path_files = '/data/home/globc/peatier/PPE/CNRMppe_error_decomposition/files/'\n",
    "path = path_files+'nc/'\n",
    "filename = 'optim_pc_PPE_'+var+'.nc'\n",
    "pc_optim = xr.open_mfdataset(path+filename,combine='by_coords')"
   ]
  },
  {
   "cell_type": "code",
   "execution_count": 10,
   "metadata": {},
   "outputs": [],
   "source": [
    "df_optim = pd.DataFrame()\n",
    "for i in range(1,18,1) :\n",
    "    df_optim['EOF '+str(i)] = pc_optim['EOF '+str(i)].values\n",
    "df_optim['LHS index'] = pc_optim['LHS index'].values"
   ]
  },
  {
   "cell_type": "code",
   "execution_count": 11,
   "metadata": {},
   "outputs": [
    {
     "data": {
      "text/html": [
       "<div>\n",
       "<style scoped>\n",
       "    .dataframe tbody tr th:only-of-type {\n",
       "        vertical-align: middle;\n",
       "    }\n",
       "\n",
       "    .dataframe tbody tr th {\n",
       "        vertical-align: top;\n",
       "    }\n",
       "\n",
       "    .dataframe thead th {\n",
       "        text-align: right;\n",
       "    }\n",
       "</style>\n",
       "<table border=\"1\" class=\"dataframe\">\n",
       "  <thead>\n",
       "    <tr style=\"text-align: right;\">\n",
       "      <th></th>\n",
       "      <th>EOF 1</th>\n",
       "      <th>EOF 2</th>\n",
       "      <th>EOF 3</th>\n",
       "      <th>EOF 4</th>\n",
       "      <th>EOF 5</th>\n",
       "      <th>EOF 6</th>\n",
       "      <th>EOF 7</th>\n",
       "      <th>EOF 8</th>\n",
       "      <th>EOF 9</th>\n",
       "      <th>EOF 10</th>\n",
       "      <th>EOF 11</th>\n",
       "      <th>EOF 12</th>\n",
       "      <th>EOF 13</th>\n",
       "      <th>EOF 14</th>\n",
       "      <th>EOF 15</th>\n",
       "      <th>EOF 16</th>\n",
       "      <th>EOF 17</th>\n",
       "      <th>LHS index</th>\n",
       "    </tr>\n",
       "  </thead>\n",
       "  <tbody>\n",
       "    <tr>\n",
       "      <th>0</th>\n",
       "      <td>0.053160</td>\n",
       "      <td>0.591416</td>\n",
       "      <td>0.177104</td>\n",
       "      <td>0.866376</td>\n",
       "      <td>-0.718467</td>\n",
       "      <td>-0.659540</td>\n",
       "      <td>-0.043037</td>\n",
       "      <td>0.556143</td>\n",
       "      <td>0.368302</td>\n",
       "      <td>-1.033655</td>\n",
       "      <td>0.433413</td>\n",
       "      <td>1.109543</td>\n",
       "      <td>0.321662</td>\n",
       "      <td>1.513375</td>\n",
       "      <td>0.452024</td>\n",
       "      <td>-0.274896</td>\n",
       "      <td>-0.594091</td>\n",
       "      <td>0</td>\n",
       "    </tr>\n",
       "    <tr>\n",
       "      <th>1</th>\n",
       "      <td>-0.657846</td>\n",
       "      <td>-0.100945</td>\n",
       "      <td>2.477285</td>\n",
       "      <td>-0.208477</td>\n",
       "      <td>0.485037</td>\n",
       "      <td>0.204115</td>\n",
       "      <td>-0.430936</td>\n",
       "      <td>-0.878425</td>\n",
       "      <td>0.267369</td>\n",
       "      <td>-0.884294</td>\n",
       "      <td>0.385899</td>\n",
       "      <td>1.002614</td>\n",
       "      <td>0.633994</td>\n",
       "      <td>1.667335</td>\n",
       "      <td>0.034571</td>\n",
       "      <td>-0.438587</td>\n",
       "      <td>-0.113232</td>\n",
       "      <td>4</td>\n",
       "    </tr>\n",
       "    <tr>\n",
       "      <th>2</th>\n",
       "      <td>-1.469691</td>\n",
       "      <td>-0.875863</td>\n",
       "      <td>1.867064</td>\n",
       "      <td>0.317734</td>\n",
       "      <td>-0.117693</td>\n",
       "      <td>0.040501</td>\n",
       "      <td>0.693874</td>\n",
       "      <td>-0.572920</td>\n",
       "      <td>0.494803</td>\n",
       "      <td>-0.681906</td>\n",
       "      <td>-0.965773</td>\n",
       "      <td>-0.335607</td>\n",
       "      <td>-0.420781</td>\n",
       "      <td>-0.830582</td>\n",
       "      <td>-0.770457</td>\n",
       "      <td>-0.512788</td>\n",
       "      <td>0.183501</td>\n",
       "      <td>5</td>\n",
       "    </tr>\n",
       "    <tr>\n",
       "      <th>3</th>\n",
       "      <td>-0.680900</td>\n",
       "      <td>-1.489689</td>\n",
       "      <td>-0.527394</td>\n",
       "      <td>1.221240</td>\n",
       "      <td>-0.160196</td>\n",
       "      <td>0.208807</td>\n",
       "      <td>-1.040138</td>\n",
       "      <td>0.537645</td>\n",
       "      <td>-1.246971</td>\n",
       "      <td>0.123964</td>\n",
       "      <td>-0.249919</td>\n",
       "      <td>-0.070425</td>\n",
       "      <td>0.553692</td>\n",
       "      <td>0.984405</td>\n",
       "      <td>-0.090978</td>\n",
       "      <td>-0.765706</td>\n",
       "      <td>1.268793</td>\n",
       "      <td>7</td>\n",
       "    </tr>\n",
       "    <tr>\n",
       "      <th>4</th>\n",
       "      <td>0.272092</td>\n",
       "      <td>-0.762280</td>\n",
       "      <td>1.690819</td>\n",
       "      <td>-1.126358</td>\n",
       "      <td>-0.707616</td>\n",
       "      <td>1.384625</td>\n",
       "      <td>-1.228676</td>\n",
       "      <td>-1.250914</td>\n",
       "      <td>0.390563</td>\n",
       "      <td>1.171336</td>\n",
       "      <td>0.627476</td>\n",
       "      <td>-1.795416</td>\n",
       "      <td>-1.621383</td>\n",
       "      <td>-1.177932</td>\n",
       "      <td>-0.507721</td>\n",
       "      <td>-0.073076</td>\n",
       "      <td>0.019042</td>\n",
       "      <td>8</td>\n",
       "    </tr>\n",
       "    <tr>\n",
       "      <th>...</th>\n",
       "      <td>...</td>\n",
       "      <td>...</td>\n",
       "      <td>...</td>\n",
       "      <td>...</td>\n",
       "      <td>...</td>\n",
       "      <td>...</td>\n",
       "      <td>...</td>\n",
       "      <td>...</td>\n",
       "      <td>...</td>\n",
       "      <td>...</td>\n",
       "      <td>...</td>\n",
       "      <td>...</td>\n",
       "      <td>...</td>\n",
       "      <td>...</td>\n",
       "      <td>...</td>\n",
       "      <td>...</td>\n",
       "      <td>...</td>\n",
       "      <td>...</td>\n",
       "    </tr>\n",
       "    <tr>\n",
       "      <th>27039</th>\n",
       "      <td>-0.098217</td>\n",
       "      <td>0.735165</td>\n",
       "      <td>0.579784</td>\n",
       "      <td>-0.356114</td>\n",
       "      <td>0.113721</td>\n",
       "      <td>0.339570</td>\n",
       "      <td>0.282826</td>\n",
       "      <td>0.587459</td>\n",
       "      <td>0.728209</td>\n",
       "      <td>-0.162594</td>\n",
       "      <td>-0.135067</td>\n",
       "      <td>-0.845899</td>\n",
       "      <td>0.242420</td>\n",
       "      <td>0.680693</td>\n",
       "      <td>-0.674631</td>\n",
       "      <td>-0.947836</td>\n",
       "      <td>-1.431510</td>\n",
       "      <td>99988</td>\n",
       "    </tr>\n",
       "    <tr>\n",
       "      <th>27040</th>\n",
       "      <td>-0.149039</td>\n",
       "      <td>-0.725431</td>\n",
       "      <td>0.610171</td>\n",
       "      <td>-0.045447</td>\n",
       "      <td>0.002070</td>\n",
       "      <td>0.256868</td>\n",
       "      <td>0.127133</td>\n",
       "      <td>1.105932</td>\n",
       "      <td>0.464851</td>\n",
       "      <td>-0.849792</td>\n",
       "      <td>0.272097</td>\n",
       "      <td>0.785348</td>\n",
       "      <td>0.092108</td>\n",
       "      <td>1.290775</td>\n",
       "      <td>1.655337</td>\n",
       "      <td>1.314121</td>\n",
       "      <td>-0.300648</td>\n",
       "      <td>99989</td>\n",
       "    </tr>\n",
       "    <tr>\n",
       "      <th>27041</th>\n",
       "      <td>0.260802</td>\n",
       "      <td>-0.619722</td>\n",
       "      <td>1.692303</td>\n",
       "      <td>0.659605</td>\n",
       "      <td>-0.656065</td>\n",
       "      <td>-0.420272</td>\n",
       "      <td>1.021974</td>\n",
       "      <td>-0.146405</td>\n",
       "      <td>0.256291</td>\n",
       "      <td>-0.410115</td>\n",
       "      <td>1.157031</td>\n",
       "      <td>0.030987</td>\n",
       "      <td>-1.149404</td>\n",
       "      <td>-0.878397</td>\n",
       "      <td>1.373247</td>\n",
       "      <td>0.333857</td>\n",
       "      <td>0.346994</td>\n",
       "      <td>99990</td>\n",
       "    </tr>\n",
       "    <tr>\n",
       "      <th>27042</th>\n",
       "      <td>0.143116</td>\n",
       "      <td>-0.908388</td>\n",
       "      <td>0.486532</td>\n",
       "      <td>0.129072</td>\n",
       "      <td>0.657171</td>\n",
       "      <td>0.388476</td>\n",
       "      <td>-0.295390</td>\n",
       "      <td>-0.084206</td>\n",
       "      <td>-0.310382</td>\n",
       "      <td>1.312090</td>\n",
       "      <td>-0.336693</td>\n",
       "      <td>-0.187981</td>\n",
       "      <td>-0.483243</td>\n",
       "      <td>0.600137</td>\n",
       "      <td>-1.563443</td>\n",
       "      <td>0.047189</td>\n",
       "      <td>-0.411096</td>\n",
       "      <td>99994</td>\n",
       "    </tr>\n",
       "    <tr>\n",
       "      <th>27043</th>\n",
       "      <td>0.215085</td>\n",
       "      <td>-0.876168</td>\n",
       "      <td>0.095835</td>\n",
       "      <td>-1.244400</td>\n",
       "      <td>-1.377520</td>\n",
       "      <td>-0.435242</td>\n",
       "      <td>0.023417</td>\n",
       "      <td>0.754573</td>\n",
       "      <td>0.550383</td>\n",
       "      <td>-0.200962</td>\n",
       "      <td>-0.853964</td>\n",
       "      <td>-1.462664</td>\n",
       "      <td>-1.414263</td>\n",
       "      <td>0.910494</td>\n",
       "      <td>-0.592439</td>\n",
       "      <td>1.195326</td>\n",
       "      <td>-1.538608</td>\n",
       "      <td>99999</td>\n",
       "    </tr>\n",
       "  </tbody>\n",
       "</table>\n",
       "<p>27044 rows × 18 columns</p>\n",
       "</div>"
      ],
      "text/plain": [
       "          EOF 1     EOF 2     EOF 3     EOF 4     EOF 5     EOF 6     EOF 7  \\\n",
       "0      0.053160  0.591416  0.177104  0.866376 -0.718467 -0.659540 -0.043037   \n",
       "1     -0.657846 -0.100945  2.477285 -0.208477  0.485037  0.204115 -0.430936   \n",
       "2     -1.469691 -0.875863  1.867064  0.317734 -0.117693  0.040501  0.693874   \n",
       "3     -0.680900 -1.489689 -0.527394  1.221240 -0.160196  0.208807 -1.040138   \n",
       "4      0.272092 -0.762280  1.690819 -1.126358 -0.707616  1.384625 -1.228676   \n",
       "...         ...       ...       ...       ...       ...       ...       ...   \n",
       "27039 -0.098217  0.735165  0.579784 -0.356114  0.113721  0.339570  0.282826   \n",
       "27040 -0.149039 -0.725431  0.610171 -0.045447  0.002070  0.256868  0.127133   \n",
       "27041  0.260802 -0.619722  1.692303  0.659605 -0.656065 -0.420272  1.021974   \n",
       "27042  0.143116 -0.908388  0.486532  0.129072  0.657171  0.388476 -0.295390   \n",
       "27043  0.215085 -0.876168  0.095835 -1.244400 -1.377520 -0.435242  0.023417   \n",
       "\n",
       "          EOF 8     EOF 9    EOF 10    EOF 11    EOF 12    EOF 13    EOF 14  \\\n",
       "0      0.556143  0.368302 -1.033655  0.433413  1.109543  0.321662  1.513375   \n",
       "1     -0.878425  0.267369 -0.884294  0.385899  1.002614  0.633994  1.667335   \n",
       "2     -0.572920  0.494803 -0.681906 -0.965773 -0.335607 -0.420781 -0.830582   \n",
       "3      0.537645 -1.246971  0.123964 -0.249919 -0.070425  0.553692  0.984405   \n",
       "4     -1.250914  0.390563  1.171336  0.627476 -1.795416 -1.621383 -1.177932   \n",
       "...         ...       ...       ...       ...       ...       ...       ...   \n",
       "27039  0.587459  0.728209 -0.162594 -0.135067 -0.845899  0.242420  0.680693   \n",
       "27040  1.105932  0.464851 -0.849792  0.272097  0.785348  0.092108  1.290775   \n",
       "27041 -0.146405  0.256291 -0.410115  1.157031  0.030987 -1.149404 -0.878397   \n",
       "27042 -0.084206 -0.310382  1.312090 -0.336693 -0.187981 -0.483243  0.600137   \n",
       "27043  0.754573  0.550383 -0.200962 -0.853964 -1.462664 -1.414263  0.910494   \n",
       "\n",
       "         EOF 15    EOF 16    EOF 17  LHS index  \n",
       "0      0.452024 -0.274896 -0.594091          0  \n",
       "1      0.034571 -0.438587 -0.113232          4  \n",
       "2     -0.770457 -0.512788  0.183501          5  \n",
       "3     -0.090978 -0.765706  1.268793          7  \n",
       "4     -0.507721 -0.073076  0.019042          8  \n",
       "...         ...       ...       ...        ...  \n",
       "27039 -0.674631 -0.947836 -1.431510      99988  \n",
       "27040  1.655337  1.314121 -0.300648      99989  \n",
       "27041  1.373247  0.333857  0.346994      99990  \n",
       "27042 -1.563443  0.047189 -0.411096      99994  \n",
       "27043 -0.592439  1.195326 -1.538608      99999  \n",
       "\n",
       "[27044 rows x 18 columns]"
      ]
     },
     "execution_count": 11,
     "metadata": {},
     "output_type": "execute_result"
    }
   ],
   "source": [
    "df_optim"
   ]
  },
  {
   "cell_type": "markdown",
   "metadata": {},
   "source": [
    "# Download EOF solvers"
   ]
  },
  {
   "cell_type": "code",
   "execution_count": 12,
   "metadata": {},
   "outputs": [],
   "source": [
    "import pickle\n",
    "path = path_files+'pkl/'\n",
    "\n",
    "# open a file, where you stored the pickled data\n",
    "file = open(path+'solver_'+var+'.pkl', 'rb')\n",
    "\n",
    "# dump information to that file\n",
    "solver = pickle.load(file)\n",
    "\n",
    "# close the file\n",
    "file.close()"
   ]
  },
  {
   "cell_type": "code",
   "execution_count": 13,
   "metadata": {},
   "outputs": [],
   "source": [
    "eofs = {}\n",
    "variances = {}\n",
    "eofs = solver.eofsAsCovariance(pcscaling=1)\n",
    "variances = solver.varianceFraction() "
   ]
  },
  {
   "cell_type": "code",
   "execution_count": 14,
   "metadata": {},
   "outputs": [],
   "source": [
    "# Reference simulation\n",
    "path = path_PPE+'ENSEMBLE1/CNRM-CM6-1_amip_PPE/CNRM-CM6-1_amip_r1i1p1f2/'\n",
    "filename = 'tas_*_CNRM-CM6-1_amip_*.nc'\n",
    "p1_amip = get_3D_tas_xarr(path, filename, ['tas'])"
   ]
  },
  {
   "cell_type": "code",
   "execution_count": 15,
   "metadata": {},
   "outputs": [],
   "source": [
    "lat = p1_amip['lat']\n",
    "lon = p1_amip['lon']\n",
    "eofs_nb = arange(1,104,1)\n",
    "eofs_xr = {}\n",
    "eofs_combined = {}\n",
    "\n",
    "eofs_xr = xr.DataArray(eofs, \n",
    "                   coords={'eofs': eofs_nb,'lat': lat,'lon': lon}, \n",
    "                   dims=[\"eofs\", \"lat\", \"lon\"])#.to_dataset(name=var)\n",
    "## --Combine the modes for reconstruction\n",
    "eofs_combined = eofs_xr"
   ]
  },
  {
   "cell_type": "markdown",
   "metadata": {},
   "source": [
    "# Clustering analysis"
   ]
  },
  {
   "cell_type": "markdown",
   "metadata": {},
   "source": [
    "### K-medians with py-clustering "
   ]
  },
  {
   "cell_type": "code",
   "execution_count": null,
   "metadata": {},
   "outputs": [],
   "source": [
    "list_index = []\n",
    "for i in range(1,18,1) :\n",
    "    tmp = 'EOF '+str(i)\n",
    "    list_index.append(tmp)\n",
    "sample = df_optim[list_index].values\n",
    "tmp = df_optim[list_index].transpose().reset_index().drop(['index'], axis=1)\n",
    "#tmp.to_xarray()"
   ]
  },
  {
   "cell_type": "code",
   "execution_count": null,
   "metadata": {},
   "outputs": [],
   "source": [
    "tmp_r = tmp.transpose()\n",
    "n_clusters = 8\n",
    "initial_medians = []\n",
    "for i in range(0,n_clusters,1) : \n",
    "    init = tmp_r.sample()\n",
    "    initial_medians.append(init)"
   ]
  },
  {
   "cell_type": "code",
   "execution_count": null,
   "metadata": {},
   "outputs": [],
   "source": [
    "# Create instance of K-Medians algorithm.\n",
    "kmedians_instance = kmedians(tmp_r, initial_medians)\n",
    "# Run cluster analysis and obtain results.\n",
    "kmedians_instance.process()\n",
    "#clusters = kmedians_instance.get_clusters()\n",
    "#medians = kmedians_instance.get_medians()"
   ]
  },
  {
   "cell_type": "markdown",
   "metadata": {},
   "source": [
    "### K-means with scikit-learn"
   ]
  },
  {
   "cell_type": "code",
   "execution_count": 16,
   "metadata": {},
   "outputs": [],
   "source": [
    "list_index = []\n",
    "for i in range(1,18,1) :\n",
    "    tmp = 'EOF '+str(i)\n",
    "    list_index.append(tmp)\n",
    "    \n",
    "sample = df_optim[list_index].values\n",
    "tmp = df_optim[list_index].transpose().reset_index().drop(['index'], axis=1)\n",
    "tmp_r = tmp.transpose()"
   ]
  },
  {
   "cell_type": "code",
   "execution_count": 17,
   "metadata": {},
   "outputs": [],
   "source": [
    "#pc_PPE = pc_PPE['pcs'][:,0:trunc].reset_coords()\n",
    "#X = xr.concat([pc_PPE['pcs'], pc_pred['pcs'][0:trunc, :]], dim='members')\n",
    "#X\n",
    "\n",
    "cluster_list = []\n",
    "centers_list = []\n",
    "intertia_list = []\n",
    "inter_cluster_list = []\n",
    "Dunn_list = []\n",
    "for n_clusters in range(2,30,1) :\n",
    "    kmean = KMeans(n_clusters).fit(tmp_r)\n",
    "\n",
    "    cluster = kmean.labels_\n",
    "    centers = kmean.cluster_centers_"
   ]
  },
  {
   "cell_type": "code",
   "execution_count": 18,
   "metadata": {},
   "outputs": [],
   "source": [
    "kmean = KMeans(3).fit(tmp_r)\n",
    "centers = kmean.cluster_centers_"
   ]
  },
  {
   "cell_type": "code",
   "execution_count": 19,
   "metadata": {},
   "outputs": [
    {
     "data": {
      "text/plain": [
       "array([[-0.50139178, -0.35607851,  0.86971722, -0.35655084, -0.10176239,\n",
       "         0.50842798, -0.11719213, -0.40513667,  0.24009108, -0.0944294 ,\n",
       "         0.22140436, -0.31616037, -0.3667687 , -0.26903352, -0.27980623,\n",
       "        -0.12403859,  0.05227659],\n",
       "       [-0.5480046 , -0.25962511,  0.02152715,  0.38330772, -0.41818169,\n",
       "        -0.00160519,  0.08951711,  0.17581504, -0.07827564, -0.00337515,\n",
       "         0.19532451,  0.32837674,  0.31537492,  0.4059958 , -0.09221053,\n",
       "        -0.25371043,  0.23155525],\n",
       "       [-0.46862629, -0.25997873,  0.16572944, -0.57562912, -0.61807187,\n",
       "         0.24370076,  0.22655942,  0.68153521, -0.05224502,  0.36538841,\n",
       "        -0.21384389,  0.03405242, -0.34653446,  0.01898888,  0.17363753,\n",
       "         0.59071359, -0.58472569]])"
      ]
     },
     "execution_count": 19,
     "metadata": {},
     "output_type": "execute_result"
    }
   ],
   "source": [
    "centers"
   ]
  },
  {
   "cell_type": "markdown",
   "metadata": {},
   "source": [
    "#### Test variance "
   ]
  },
  {
   "cell_type": "code",
   "execution_count": 167,
   "metadata": {},
   "outputs": [],
   "source": [
    "list_index = []\n",
    "for i in range(1,18,1) :\n",
    "    tmp = 'EOF '+str(i)\n",
    "    list_index.append(tmp)\n",
    "    \n",
    "sample = df_optim[list_index].values\n",
    "tmp = df_optim[list_index].transpose().reset_index().drop(['index'], axis=1)\n",
    "tmp_r = tmp.transpose()"
   ]
  },
  {
   "cell_type": "code",
   "execution_count": 179,
   "metadata": {},
   "outputs": [
    {
     "name": "stdout",
     "output_type": "stream",
     "text": [
      "2\n",
      "3\n",
      "4\n",
      "5\n",
      "6\n",
      "7\n",
      "8\n",
      "9\n",
      "10\n",
      "11\n",
      "12\n",
      "13\n",
      "14\n",
      "15\n",
      "16\n",
      "17\n",
      "18\n",
      "19\n",
      "20\n",
      "21\n",
      "22\n",
      "23\n",
      "24\n",
      "25\n",
      "26\n",
      "27\n",
      "28\n",
      "29\n"
     ]
    }
   ],
   "source": [
    "cluster = {}\n",
    "centers = {}\n",
    "intra_var = {}\n",
    "inter_var = {}\n",
    "ratio = {}\n",
    "\n",
    "for n_clusters in range(2,30,1) :\n",
    "    print(n_clusters)\n",
    "    kmean = KMeans(n_clusters).fit(tmp_r)\n",
    "    cluster['n_clusters = '+str(n_clusters)] = kmean.labels_\n",
    "    centers['n_clusters = '+str(n_clusters)]  = kmean.cluster_centers_\n",
    "    \n",
    "    df = df_optim[list_index]\n",
    "    df['clusters'] = cluster['n_clusters = '+str(n_clusters)]\n",
    "    test = df.set_index('clusters')\n",
    "    df_centers = pd.DataFrame(centers['n_clusters = '+str(n_clusters)])\n",
    "\n",
    "    intra_var_list = []\n",
    "    for i in range(0,n_clusters,1) :\n",
    "        intra = test.loc[i].values.var()\n",
    "        intra_var_list.append(intra)\n",
    "        \n",
    "    intra_var['n_clusters = '+str(n_clusters)] = mean(intra_var_list)\n",
    "    inter_var['n_clusters = '+str(n_clusters)] = df_centers.values.var()\n",
    "    ratio['n_clusters = '+str(n_clusters)] = inter_var['n_clusters = '+str(n_clusters)]/intra_var['n_clusters = '+str(n_clusters)]"
   ]
  },
  {
   "cell_type": "code",
   "execution_count": 174,
   "metadata": {},
   "outputs": [
    {
     "data": {
      "text/plain": [
       "170"
      ]
     },
     "execution_count": 174,
     "metadata": {},
     "output_type": "execute_result"
    }
   ],
   "source": [
    "len(ratio)"
   ]
  },
  {
   "cell_type": "markdown",
   "metadata": {},
   "source": [
    "#### Save data "
   ]
  },
  {
   "cell_type": "code",
   "execution_count": 180,
   "metadata": {},
   "outputs": [],
   "source": [
    "ratio_list = []\n",
    "inter_var_list = []\n",
    "intra_var_list = []\n",
    "for n_clusters in range(2,30,1) :\n",
    "    tmp = ratio['n_clusters = '+str(n_clusters)]\n",
    "    ratio_list.append(tmp)\n",
    "    \n",
    "    tmp = inter_var['n_clusters = '+str(n_clusters)]\n",
    "    inter_var_list.append(tmp)\n",
    "    \n",
    "    tmp = intra_var['n_clusters = '+str(n_clusters)]\n",
    "    intra_var_list.append(tmp)"
   ]
  },
  {
   "cell_type": "code",
   "execution_count": null,
   "metadata": {},
   "outputs": [],
   "source": [
    "filename = 'inter_var_list.npy'\n",
    "path = path_files+'npy/'+filename\n",
    "np.save(path, inter_var_list)\n",
    "\n",
    "filename = 'intra_var_list.npy'\n",
    "path = path_files+'npy/'+filename\n",
    "np.save(path, intra_var_list)\n",
    "\n",
    "filename = 'ratio_list.npy'\n",
    "path = path_files+'npy/'+filename\n",
    "np.save(path, ratio_list)"
   ]
  },
  {
   "cell_type": "markdown",
   "metadata": {},
   "source": [
    "### K-means with removal of points "
   ]
  },
  {
   "cell_type": "code",
   "execution_count": 106,
   "metadata": {},
   "outputs": [],
   "source": [
    "def distances_per_cluster(kmean, tmp_r) :\n",
    "    dist = kmean.transform(tmp_r)\n",
    "    df_dist = pd.DataFrame(dist)\n",
    "    std = df_dist.std()\n",
    "    mean = df_dist.mean()\n",
    "    #df_dist.plot.hist(bins=30, alpha=0.5)\n",
    "    \n",
    "    return(df_dist)\n",
    "    \n",
    "def distances_mean(df_dist, perc1_nb, perc2_nb, max_model_nb) :\n",
    "    df_dist_mean = (df_dist[0]+df_dist[1])/2\n",
    "    std_m = df_dist_mean.std()\n",
    "    mean_m = df_dist_mean.mean()\n",
    "    perc1 = np.percentile(df_dist_mean, perc1_nb, axis=0) \n",
    "    perc2 = np.percentile(df_dist_mean, perc2_nb, axis=0) \n",
    "    median = np.percentile(df_dist_mean, 50, axis=0) \n",
    "\n",
    "    #df_dist_mean.plot.hist(bins=30, alpha=0.5)\n",
    "    #plt.vlines(mean_m, 0, max_model_nb, color='navy', linestyle='-', linewidth=3.5, alpha = 0.9)\n",
    "    #plt.vlines((mean_m+std_m), 0, max_model_nb, color='navy', linestyle='-', linewidth=1.0)\n",
    "    #plt.vlines((mean_m-std_m), 0, max_model_nb, color='navy', linestyle='-', linewidth=1.0)\n",
    "    #plt.vlines(perc1, 0, max_model_nb, color='black', linestyle='--', linewidth=2.5)\n",
    "    #plt.vlines(perc2, 0, max_model_nb, color='black', linestyle='--', linewidth=2.5)\n",
    "    #plt.vlines(median, 0, max_model_nb, color='black', linestyle='--', linewidth=1)\n",
    "    \n",
    "    return(df_dist_mean, perc1, perc2)"
   ]
  },
  {
   "cell_type": "code",
   "execution_count": 142,
   "metadata": {},
   "outputs": [],
   "source": [
    "list_index = []\n",
    "for i in range(1,18,1) :\n",
    "    tmp = 'EOF '+str(i)\n",
    "    list_index.append(tmp)\n",
    "    \n",
    "sample = df_optim[list_index].values\n",
    "tmp = df_optim[list_index].transpose().reset_index().drop(['index'], axis=1)\n",
    "tmp_r = tmp.transpose()\n",
    "\n",
    "n_clusters = 2\n",
    "kmean = KMeans(n_clusters).fit(tmp_r)"
   ]
  },
  {
   "cell_type": "code",
   "execution_count": 145,
   "metadata": {},
   "outputs": [
    {
     "data": {
      "text/html": [
       "<div>\n",
       "<style scoped>\n",
       "    .dataframe tbody tr th:only-of-type {\n",
       "        vertical-align: middle;\n",
       "    }\n",
       "\n",
       "    .dataframe tbody tr th {\n",
       "        vertical-align: top;\n",
       "    }\n",
       "\n",
       "    .dataframe thead th {\n",
       "        text-align: right;\n",
       "    }\n",
       "</style>\n",
       "<table border=\"1\" class=\"dataframe\">\n",
       "  <thead>\n",
       "    <tr style=\"text-align: right;\">\n",
       "      <th></th>\n",
       "      <th>0</th>\n",
       "      <th>1</th>\n",
       "      <th>2</th>\n",
       "      <th>3</th>\n",
       "      <th>4</th>\n",
       "      <th>5</th>\n",
       "      <th>6</th>\n",
       "      <th>7</th>\n",
       "      <th>8</th>\n",
       "      <th>9</th>\n",
       "      <th>10</th>\n",
       "      <th>11</th>\n",
       "      <th>12</th>\n",
       "      <th>13</th>\n",
       "      <th>14</th>\n",
       "      <th>15</th>\n",
       "      <th>16</th>\n",
       "    </tr>\n",
       "  </thead>\n",
       "  <tbody>\n",
       "    <tr>\n",
       "      <th>0</th>\n",
       "      <td>0.053160</td>\n",
       "      <td>0.591416</td>\n",
       "      <td>0.177104</td>\n",
       "      <td>0.866376</td>\n",
       "      <td>-0.718467</td>\n",
       "      <td>-0.659540</td>\n",
       "      <td>-0.043037</td>\n",
       "      <td>0.556143</td>\n",
       "      <td>0.368302</td>\n",
       "      <td>-1.033655</td>\n",
       "      <td>0.433413</td>\n",
       "      <td>1.109543</td>\n",
       "      <td>0.321662</td>\n",
       "      <td>1.513375</td>\n",
       "      <td>0.452024</td>\n",
       "      <td>-0.274896</td>\n",
       "      <td>-0.594091</td>\n",
       "    </tr>\n",
       "    <tr>\n",
       "      <th>1</th>\n",
       "      <td>-0.657846</td>\n",
       "      <td>-0.100945</td>\n",
       "      <td>2.477285</td>\n",
       "      <td>-0.208477</td>\n",
       "      <td>0.485037</td>\n",
       "      <td>0.204115</td>\n",
       "      <td>-0.430936</td>\n",
       "      <td>-0.878425</td>\n",
       "      <td>0.267369</td>\n",
       "      <td>-0.884294</td>\n",
       "      <td>0.385899</td>\n",
       "      <td>1.002614</td>\n",
       "      <td>0.633994</td>\n",
       "      <td>1.667335</td>\n",
       "      <td>0.034571</td>\n",
       "      <td>-0.438587</td>\n",
       "      <td>-0.113232</td>\n",
       "    </tr>\n",
       "    <tr>\n",
       "      <th>2</th>\n",
       "      <td>-1.469691</td>\n",
       "      <td>-0.875863</td>\n",
       "      <td>1.867064</td>\n",
       "      <td>0.317734</td>\n",
       "      <td>-0.117693</td>\n",
       "      <td>0.040501</td>\n",
       "      <td>0.693874</td>\n",
       "      <td>-0.572920</td>\n",
       "      <td>0.494803</td>\n",
       "      <td>-0.681906</td>\n",
       "      <td>-0.965773</td>\n",
       "      <td>-0.335607</td>\n",
       "      <td>-0.420781</td>\n",
       "      <td>-0.830582</td>\n",
       "      <td>-0.770457</td>\n",
       "      <td>-0.512788</td>\n",
       "      <td>0.183501</td>\n",
       "    </tr>\n",
       "    <tr>\n",
       "      <th>3</th>\n",
       "      <td>-0.680900</td>\n",
       "      <td>-1.489689</td>\n",
       "      <td>-0.527394</td>\n",
       "      <td>1.221240</td>\n",
       "      <td>-0.160196</td>\n",
       "      <td>0.208807</td>\n",
       "      <td>-1.040138</td>\n",
       "      <td>0.537645</td>\n",
       "      <td>-1.246971</td>\n",
       "      <td>0.123964</td>\n",
       "      <td>-0.249919</td>\n",
       "      <td>-0.070425</td>\n",
       "      <td>0.553692</td>\n",
       "      <td>0.984405</td>\n",
       "      <td>-0.090978</td>\n",
       "      <td>-0.765706</td>\n",
       "      <td>1.268793</td>\n",
       "    </tr>\n",
       "    <tr>\n",
       "      <th>4</th>\n",
       "      <td>0.272092</td>\n",
       "      <td>-0.762280</td>\n",
       "      <td>1.690819</td>\n",
       "      <td>-1.126358</td>\n",
       "      <td>-0.707616</td>\n",
       "      <td>1.384625</td>\n",
       "      <td>-1.228676</td>\n",
       "      <td>-1.250914</td>\n",
       "      <td>0.390563</td>\n",
       "      <td>1.171336</td>\n",
       "      <td>0.627476</td>\n",
       "      <td>-1.795416</td>\n",
       "      <td>-1.621383</td>\n",
       "      <td>-1.177932</td>\n",
       "      <td>-0.507721</td>\n",
       "      <td>-0.073076</td>\n",
       "      <td>0.019042</td>\n",
       "    </tr>\n",
       "    <tr>\n",
       "      <th>...</th>\n",
       "      <td>...</td>\n",
       "      <td>...</td>\n",
       "      <td>...</td>\n",
       "      <td>...</td>\n",
       "      <td>...</td>\n",
       "      <td>...</td>\n",
       "      <td>...</td>\n",
       "      <td>...</td>\n",
       "      <td>...</td>\n",
       "      <td>...</td>\n",
       "      <td>...</td>\n",
       "      <td>...</td>\n",
       "      <td>...</td>\n",
       "      <td>...</td>\n",
       "      <td>...</td>\n",
       "      <td>...</td>\n",
       "      <td>...</td>\n",
       "    </tr>\n",
       "    <tr>\n",
       "      <th>27039</th>\n",
       "      <td>-0.098217</td>\n",
       "      <td>0.735165</td>\n",
       "      <td>0.579784</td>\n",
       "      <td>-0.356114</td>\n",
       "      <td>0.113721</td>\n",
       "      <td>0.339570</td>\n",
       "      <td>0.282826</td>\n",
       "      <td>0.587459</td>\n",
       "      <td>0.728209</td>\n",
       "      <td>-0.162594</td>\n",
       "      <td>-0.135067</td>\n",
       "      <td>-0.845899</td>\n",
       "      <td>0.242420</td>\n",
       "      <td>0.680693</td>\n",
       "      <td>-0.674631</td>\n",
       "      <td>-0.947836</td>\n",
       "      <td>-1.431510</td>\n",
       "    </tr>\n",
       "    <tr>\n",
       "      <th>27040</th>\n",
       "      <td>-0.149039</td>\n",
       "      <td>-0.725431</td>\n",
       "      <td>0.610171</td>\n",
       "      <td>-0.045447</td>\n",
       "      <td>0.002070</td>\n",
       "      <td>0.256868</td>\n",
       "      <td>0.127133</td>\n",
       "      <td>1.105932</td>\n",
       "      <td>0.464851</td>\n",
       "      <td>-0.849792</td>\n",
       "      <td>0.272097</td>\n",
       "      <td>0.785348</td>\n",
       "      <td>0.092108</td>\n",
       "      <td>1.290775</td>\n",
       "      <td>1.655337</td>\n",
       "      <td>1.314121</td>\n",
       "      <td>-0.300648</td>\n",
       "    </tr>\n",
       "    <tr>\n",
       "      <th>27041</th>\n",
       "      <td>0.260802</td>\n",
       "      <td>-0.619722</td>\n",
       "      <td>1.692303</td>\n",
       "      <td>0.659605</td>\n",
       "      <td>-0.656065</td>\n",
       "      <td>-0.420272</td>\n",
       "      <td>1.021974</td>\n",
       "      <td>-0.146405</td>\n",
       "      <td>0.256291</td>\n",
       "      <td>-0.410115</td>\n",
       "      <td>1.157031</td>\n",
       "      <td>0.030987</td>\n",
       "      <td>-1.149404</td>\n",
       "      <td>-0.878397</td>\n",
       "      <td>1.373247</td>\n",
       "      <td>0.333857</td>\n",
       "      <td>0.346994</td>\n",
       "    </tr>\n",
       "    <tr>\n",
       "      <th>27042</th>\n",
       "      <td>0.143116</td>\n",
       "      <td>-0.908388</td>\n",
       "      <td>0.486532</td>\n",
       "      <td>0.129072</td>\n",
       "      <td>0.657171</td>\n",
       "      <td>0.388476</td>\n",
       "      <td>-0.295390</td>\n",
       "      <td>-0.084206</td>\n",
       "      <td>-0.310382</td>\n",
       "      <td>1.312090</td>\n",
       "      <td>-0.336693</td>\n",
       "      <td>-0.187981</td>\n",
       "      <td>-0.483243</td>\n",
       "      <td>0.600137</td>\n",
       "      <td>-1.563443</td>\n",
       "      <td>0.047189</td>\n",
       "      <td>-0.411096</td>\n",
       "    </tr>\n",
       "    <tr>\n",
       "      <th>27043</th>\n",
       "      <td>0.215085</td>\n",
       "      <td>-0.876168</td>\n",
       "      <td>0.095835</td>\n",
       "      <td>-1.244400</td>\n",
       "      <td>-1.377520</td>\n",
       "      <td>-0.435242</td>\n",
       "      <td>0.023417</td>\n",
       "      <td>0.754573</td>\n",
       "      <td>0.550383</td>\n",
       "      <td>-0.200962</td>\n",
       "      <td>-0.853964</td>\n",
       "      <td>-1.462664</td>\n",
       "      <td>-1.414263</td>\n",
       "      <td>0.910494</td>\n",
       "      <td>-0.592439</td>\n",
       "      <td>1.195326</td>\n",
       "      <td>-1.538608</td>\n",
       "    </tr>\n",
       "  </tbody>\n",
       "</table>\n",
       "<p>27044 rows × 17 columns</p>\n",
       "</div>"
      ],
      "text/plain": [
       "             0         1         2         3         4         5         6   \\\n",
       "0      0.053160  0.591416  0.177104  0.866376 -0.718467 -0.659540 -0.043037   \n",
       "1     -0.657846 -0.100945  2.477285 -0.208477  0.485037  0.204115 -0.430936   \n",
       "2     -1.469691 -0.875863  1.867064  0.317734 -0.117693  0.040501  0.693874   \n",
       "3     -0.680900 -1.489689 -0.527394  1.221240 -0.160196  0.208807 -1.040138   \n",
       "4      0.272092 -0.762280  1.690819 -1.126358 -0.707616  1.384625 -1.228676   \n",
       "...         ...       ...       ...       ...       ...       ...       ...   \n",
       "27039 -0.098217  0.735165  0.579784 -0.356114  0.113721  0.339570  0.282826   \n",
       "27040 -0.149039 -0.725431  0.610171 -0.045447  0.002070  0.256868  0.127133   \n",
       "27041  0.260802 -0.619722  1.692303  0.659605 -0.656065 -0.420272  1.021974   \n",
       "27042  0.143116 -0.908388  0.486532  0.129072  0.657171  0.388476 -0.295390   \n",
       "27043  0.215085 -0.876168  0.095835 -1.244400 -1.377520 -0.435242  0.023417   \n",
       "\n",
       "             7         8         9         10        11        12        13  \\\n",
       "0      0.556143  0.368302 -1.033655  0.433413  1.109543  0.321662  1.513375   \n",
       "1     -0.878425  0.267369 -0.884294  0.385899  1.002614  0.633994  1.667335   \n",
       "2     -0.572920  0.494803 -0.681906 -0.965773 -0.335607 -0.420781 -0.830582   \n",
       "3      0.537645 -1.246971  0.123964 -0.249919 -0.070425  0.553692  0.984405   \n",
       "4     -1.250914  0.390563  1.171336  0.627476 -1.795416 -1.621383 -1.177932   \n",
       "...         ...       ...       ...       ...       ...       ...       ...   \n",
       "27039  0.587459  0.728209 -0.162594 -0.135067 -0.845899  0.242420  0.680693   \n",
       "27040  1.105932  0.464851 -0.849792  0.272097  0.785348  0.092108  1.290775   \n",
       "27041 -0.146405  0.256291 -0.410115  1.157031  0.030987 -1.149404 -0.878397   \n",
       "27042 -0.084206 -0.310382  1.312090 -0.336693 -0.187981 -0.483243  0.600137   \n",
       "27043  0.754573  0.550383 -0.200962 -0.853964 -1.462664 -1.414263  0.910494   \n",
       "\n",
       "             14        15        16  \n",
       "0      0.452024 -0.274896 -0.594091  \n",
       "1      0.034571 -0.438587 -0.113232  \n",
       "2     -0.770457 -0.512788  0.183501  \n",
       "3     -0.090978 -0.765706  1.268793  \n",
       "4     -0.507721 -0.073076  0.019042  \n",
       "...         ...       ...       ...  \n",
       "27039 -0.674631 -0.947836 -1.431510  \n",
       "27040  1.655337  1.314121 -0.300648  \n",
       "27041  1.373247  0.333857  0.346994  \n",
       "27042 -1.563443  0.047189 -0.411096  \n",
       "27043 -0.592439  1.195326 -1.538608  \n",
       "\n",
       "[27044 rows x 17 columns]"
      ]
     },
     "execution_count": 145,
     "metadata": {},
     "output_type": "execute_result"
    }
   ],
   "source": [
    "tmp_r"
   ]
  },
  {
   "cell_type": "code",
   "execution_count": 29,
   "metadata": {},
   "outputs": [
    {
     "data": {
      "image/png": "[encoded data removed]",
      "text/plain": [
       "<Figure size 432x288 with 1 Axes>"
      ]
     },
     "metadata": {
      "needs_background": "light"
     },
     "output_type": "display_data"
    }
   ],
   "source": [
    "df_dist = distances_per_cluster(kmean, tmp_r)"
   ]
  },
  {
   "cell_type": "code",
   "execution_count": 30,
   "metadata": {},
   "outputs": [
    {
     "data": {
      "image/png": "[encoded data removed]",
      "text/plain": [
       "<Figure size 432x288 with 1 Axes>"
      ]
     },
     "metadata": {
      "needs_background": "light"
     },
     "output_type": "display_data"
    }
   ],
   "source": [
    "perc1_nb = 10\n",
    "perc2_nb = 90\n",
    "df_dist_mean, perc1, perc2 = distances_mean(df_dist, perc1_nb, perc2_nb)"
   ]
  },
  {
   "cell_type": "code",
   "execution_count": 57,
   "metadata": {},
   "outputs": [
    {
     "data": {
      "text/plain": [
       "2.609173625637735"
      ]
     },
     "execution_count": 57,
     "metadata": {},
     "output_type": "execute_result"
    }
   ],
   "source": [
    "perc1"
   ]
  },
  {
   "cell_type": "code",
   "execution_count": 52,
   "metadata": {},
   "outputs": [],
   "source": [
    "cpt = 0\n",
    "list_remove = []\n",
    "for i in df_dist_mean :\n",
    "    if i < perc1 or i > perc2 :\n",
    "        list_remove.append(cpt)\n",
    "        cpt+=1\n",
    "    else :\n",
    "        cpt+=1 \n",
    "df_short = tmp_r.drop(list_remove)"
   ]
  },
  {
   "cell_type": "code",
   "execution_count": 56,
   "metadata": {},
   "outputs": [
    {
     "data": {
      "image/png": "[encoded data removed]",
      "text/plain": [
       "<Figure size 432x288 with 1 Axes>"
      ]
     },
     "metadata": {
      "needs_background": "light"
     },
     "output_type": "display_data"
    }
   ],
   "source": [
    "df_dist = distances_per_cluster(kmean, df_short)"
   ]
  },
  {
   "cell_type": "code",
   "execution_count": 60,
   "metadata": {},
   "outputs": [
    {
     "data": {
      "image/png": "[encoded data removed]",
      "text/plain": [
       "<Figure size 432x288 with 1 Axes>"
      ]
     },
     "metadata": {
      "needs_background": "light"
     },
     "output_type": "display_data"
    }
   ],
   "source": [
    "perc1_nb = 10\n",
    "perc2_nb = 90\n",
    "max_model_nb = 1000\n",
    "df_dist_mean, perc1, perc2 = distances_mean(df_dist, perc1_nb, perc2_nb, max_model_nb)"
   ]
  },
  {
   "cell_type": "markdown",
   "metadata": {},
   "source": [
    "### Automatic "
   ]
  },
  {
   "cell_type": "code",
   "execution_count": 146,
   "metadata": {},
   "outputs": [],
   "source": [
    "list_index = []\n",
    "for i in range(1,18,1) :\n",
    "    tmp = 'EOF '+str(i)\n",
    "    list_index.append(tmp)\n",
    "    \n",
    "sample = df_optim[list_index].values\n",
    "tmp = df_optim[list_index].transpose().reset_index().drop(['index'], axis=1)\n",
    "tmp_r = tmp.transpose()"
   ]
  },
  {
   "cell_type": "code",
   "execution_count": 156,
   "metadata": {
    "scrolled": false
   },
   "outputs": [],
   "source": [
    "inter_var_list = []\n",
    "intra_var_list = []\n",
    "for n_clusters in range(2,30,1) :\n",
    "    ## Clustering \n",
    "    kmean = KMeans(n_clusters).fit(tmp_r)\n",
    "    \n",
    "    ## Compute variance inter cluster\n",
    "    centers = kmean.cluster_centers_\n",
    "    df_centers = pd.DataFrame(centers)\n",
    "    inter_var_list.append(df_centers.values.var())\n",
    "    \n",
    "    cluster = kmean.labels_\n",
    "    df = tmp_r.copy()\n",
    "    df['clusters'] = cluster\n",
    "    test = df.set_index('clusters')\n",
    "    \n",
    "    intra_var = []\n",
    "    for i in range(1,n_clusters,1) :\n",
    "        intra = test.loc[i].values.var()\n",
    "        intra_var.append(intra)\n",
    "        \n",
    "    intra_var_list.append(mean(intra_var))\n",
    "    \n",
    "    ## Compute distances, mean and percentiles  \n",
    "    df_dist = distances_per_cluster(kmean, tmp_r)\n",
    "    perc1_nb = 5\n",
    "    perc2_nb = 95\n",
    "    max_model_nb = 3000\n",
    "    df_dist_mean, perc1, perc2 = distances_mean(df_dist, perc1_nb, perc2_nb, max_model_nb)\n",
    "    \n",
    "    ## Remove 20% of the further points\n",
    "    cpt = 0\n",
    "    list_remove = []\n",
    "    for i in df_dist_mean :\n",
    "        if i < perc1 or i > perc2 :\n",
    "            list_remove.append(cpt)\n",
    "            cpt+=1\n",
    "        else :\n",
    "            cpt+=1 \n",
    "    df_short = tmp_r.drop(list_remove)\n",
    "    \n",
    "    ## Prepare the next iteration \n",
    "    tmp_r = df_short.reset_index().drop('index', axis=1)\n",
    "    \n",
    "    "
   ]
  },
  {
   "cell_type": "code",
   "execution_count": 162,
   "metadata": {},
   "outputs": [
    {
     "data": {
      "text/plain": [
       "28"
      ]
     },
     "execution_count": 162,
     "metadata": {},
     "output_type": "execute_result"
    }
   ],
   "source": [
    "len(inter_var_list)"
   ]
  },
  {
   "cell_type": "code",
   "execution_count": 165,
   "metadata": {},
   "outputs": [
    {
     "data": {
      "image/png": "[encoded data removed]",
      "text/plain": [
       "<Figure size 432x288 with 1 Axes>"
      ]
     },
     "metadata": {
      "needs_background": "light"
     },
     "output_type": "display_data"
    }
   ],
   "source": [
    "cpt = 0\n",
    "ratio_list = []\n",
    "for i in inter_var_list : \n",
    "    j = intra_var_list[cpt]\n",
    "    ratio_list.append(i/j)\n",
    "    cpt+=1\n",
    "\n",
    "plot(range(2,30,1), inter_var_list, '-', color='red', linewidth=2)\n",
    "plot(range(2,30,1), intra_var_list, '-', color='navy', linewidth=2)\n",
    "#ratio_list = inter_var_list_mean/intra_var_list\n",
    "plot(range(2,30,1), ratio_list, '-', color='black', linewidth=3)\n",
    "plt.show()"
   ]
  },
  {
   "cell_type": "code",
   "execution_count": 140,
   "metadata": {
    "collapsed": true
   },
   "outputs": [
    {
     "name": "stdout",
     "output_type": "stream",
     "text": [
      "EOF mode1\n"
     ]
    },
    {
     "data": {
      "image/png": "[encoded data removed]",
      "text/plain": [
       "<Figure size 432x288 with 1 Axes>"
      ]
     },
     "metadata": {
      "needs_background": "light"
     },
     "output_type": "display_data"
    },
    {
     "name": "stdout",
     "output_type": "stream",
     "text": [
      "EOF mode2\n"
     ]
    },
    {
     "data": {
      "image/png": "[encoded data removed]",
      "text/plain": [
       "<Figure size 432x288 with 1 Axes>"
      ]
     },
     "metadata": {
      "needs_background": "light"
     },
     "output_type": "display_data"
    },
    {
     "name": "stdout",
     "output_type": "stream",
     "text": [
      "EOF mode3\n"
     ]
    },
    {
     "data": {
      "image/png": "[encoded data removed]",
      "text/plain": [
       "<Figure size 432x288 with 1 Axes>"
      ]
     },
     "metadata": {
      "needs_background": "light"
     },
     "output_type": "display_data"
    },
    {
     "name": "stdout",
     "output_type": "stream",
     "text": [
      "EOF mode4\n"
     ]
    },
    {
     "data": {
      "image/png": "[encoded data removed]",
      "text/plain": [
       "<Figure size 432x288 with 1 Axes>"
      ]
     },
     "metadata": {
      "needs_background": "light"
     },
     "output_type": "display_data"
    },
    {
     "name": "stdout",
     "output_type": "stream",
     "text": [
      "EOF mode5\n"
     ]
    },
    {
     "data": {
      "image/png": "[encoded data removed]",
      "text/plain": [
       "<Figure size 432x288 with 1 Axes>"
      ]
     },
     "metadata": {
      "needs_background": "light"
     },
     "output_type": "display_data"
    },
    {
     "name": "stdout",
     "output_type": "stream",
     "text": [
      "EOF mode6\n"
     ]
    },
    {
     "data": {
      "image/png": "[encoded data removed]",
      "text/plain": [
       "<Figure size 432x288 with 1 Axes>"
      ]
     },
     "metadata": {
      "needs_background": "light"
     },
     "output_type": "display_data"
    },
    {
     "name": "stdout",
     "output_type": "stream",
     "text": [
      "EOF mode7\n"
     ]
    },
    {
     "data": {
      "image/png": "[encoded data removed]",
      "text/plain": [
       "<Figure size 432x288 with 1 Axes>"
      ]
     },
     "metadata": {
      "needs_background": "light"
     },
     "output_type": "display_data"
    },
    {
     "name": "stdout",
     "output_type": "stream",
     "text": [
      "EOF mode8\n"
     ]
    },
    {
     "data": {
      "image/png": "[encoded data removed]",
      "text/plain": [
       "<Figure size 432x288 with 1 Axes>"
      ]
     },
     "metadata": {
      "needs_background": "light"
     },
     "output_type": "display_data"
    },
    {
     "name": "stdout",
     "output_type": "stream",
     "text": [
      "EOF mode9\n"
     ]
    },
    {
     "data": {
      "image/png": "[encoded data removed]",
      "text/plain": [
       "<Figure size 432x288 with 1 Axes>"
      ]
     },
     "metadata": {
      "needs_background": "light"
     },
     "output_type": "display_data"
    },
    {
     "name": "stdout",
     "output_type": "stream",
     "text": [
      "EOF mode10\n"
     ]
    },
    {
     "data": {
      "image/png": "[encoded data removed]",
      "text/plain": [
       "<Figure size 432x288 with 1 Axes>"
      ]
     },
     "metadata": {
      "needs_background": "light"
     },
     "output_type": "display_data"
    },
    {
     "name": "stdout",
     "output_type": "stream",
     "text": [
      "EOF mode11\n"
     ]
    },
    {
     "data": {
      "image/png": "[encoded data removed]",
      "text/plain": [
       "<Figure size 432x288 with 1 Axes>"
      ]
     },
     "metadata": {
      "needs_background": "light"
     },
     "output_type": "display_data"
    },
    {
     "name": "stdout",
     "output_type": "stream",
     "text": [
      "EOF mode12\n"
     ]
    },
    {
     "data": {
      "image/png": "[encoded data removed]",
      "text/plain": [
       "<Figure size 432x288 with 1 Axes>"
      ]
     },
     "metadata": {
      "needs_background": "light"
     },
     "output_type": "display_data"
    },
    {
     "name": "stdout",
     "output_type": "stream",
     "text": [
      "EOF mode13\n"
     ]
    },
    {
     "data": {
      "image/png": "[encoded data removed]",
      "text/plain": [
       "<Figure size 432x288 with 1 Axes>"
      ]
     },
     "metadata": {
      "needs_background": "light"
     },
     "output_type": "display_data"
    },
    {
     "name": "stdout",
     "output_type": "stream",
     "text": [
      "EOF mode14\n"
     ]
    },
    {
     "data": {
      "image/png": "[encoded data removed]",
      "text/plain": [
       "<Figure size 432x288 with 1 Axes>"
      ]
     },
     "metadata": {
      "needs_background": "light"
     },
     "output_type": "display_data"
    },
    {
     "name": "stdout",
     "output_type": "stream",
     "text": [
      "EOF mode15\n"
     ]
    },
    {
     "data": {
      "image/png": "[encoded data removed]",
      "text/plain": [
       "<Figure size 432x288 with 1 Axes>"
      ]
     },
     "metadata": {
      "needs_background": "light"
     },
     "output_type": "display_data"
    },
    {
     "name": "stdout",
     "output_type": "stream",
     "text": [
      "EOF mode16\n"
     ]
    },
    {
     "data": {
      "image/png": "[encoded data removed]",
      "text/plain": [
       "<Figure size 432x288 with 1 Axes>"
      ]
     },
     "metadata": {
      "needs_background": "light"
     },
     "output_type": "display_data"
    }
   ],
   "source": [
    "for nb_mode in range(0,16,1) :\n",
    "    inter_var_list_per_mode = []\n",
    "    inter_var_list_mean = []\n",
    "    for i in range(0,28,1) :\n",
    "        inter_var_list_per_mode.append(inter_var_list[i][nb_mode])\n",
    "    print('EOF mode'+str(nb_mode+1))\n",
    "    plot(range(2,30,1), inter_var_list_per_mode, '-', color='red', linewidth=3)\n",
    "    plt.show()\n",
    "    \n"
   ]
  },
  {
   "cell_type": "markdown",
   "metadata": {},
   "source": [
    "# Figures sensitivity test"
   ]
  },
  {
   "cell_type": "markdown",
   "metadata": {},
   "source": [
    "### Download data "
   ]
  },
  {
   "cell_type": "code",
   "execution_count": 19,
   "metadata": {},
   "outputs": [],
   "source": [
    "filename = 'inter_var_list.npy'\n",
    "path = path_files+'npy/'+filename\n",
    "inter_var_list = np.load(path)\n",
    "\n",
    "filename = 'intra_var_list.npy'\n",
    "path = path_files+'npy/'+filename\n",
    "intra_var_list = np.load(path)\n",
    "\n",
    "filename = 'ratio_list.npy'\n",
    "path = path_files+'npy/'+filename\n",
    "ratio_list = np.load(path)"
   ]
  },
  {
   "cell_type": "markdown",
   "metadata": {},
   "source": [
    "### Plot "
   ]
  },
  {
   "cell_type": "code",
   "execution_count": 169,
   "metadata": {},
   "outputs": [
    {
     "ename": "ValueError",
     "evalue": "Found array with 0 sample(s) (shape=(0, 1)) while a minimum of 1 is required.",
     "output_type": "error",
     "traceback": [
      "\u001b[0;31m---------------------------------------------------------------------------\u001b[0m",
      "\u001b[0;31mValueError\u001b[0m                                Traceback (most recent call last)",
      "\u001b[0;32m<ipython-input-169-3708580e3e07>\u001b[0m in \u001b[0;36m<module>\u001b[0;34m\u001b[0m\n\u001b[1;32m      3\u001b[0m \u001b[0mX\u001b[0m \u001b[0;34m=\u001b[0m \u001b[0marray\u001b[0m\u001b[0;34m(\u001b[0m\u001b[0mrange\u001b[0m\u001b[0;34m(\u001b[0m\u001b[0;36m80\u001b[0m\u001b[0;34m,\u001b[0m\u001b[0;36m150\u001b[0m\u001b[0;34m,\u001b[0m\u001b[0;36m1\u001b[0m\u001b[0;34m)\u001b[0m\u001b[0;34m)\u001b[0m\u001b[0;34m.\u001b[0m\u001b[0mreshape\u001b[0m\u001b[0;34m(\u001b[0m\u001b[0;34m-\u001b[0m\u001b[0;36m1\u001b[0m\u001b[0;34m,\u001b[0m\u001b[0;36m1\u001b[0m\u001b[0;34m)\u001b[0m\u001b[0;34m\u001b[0m\u001b[0;34m\u001b[0m\u001b[0m\n\u001b[1;32m      4\u001b[0m \u001b[0my\u001b[0m \u001b[0;34m=\u001b[0m \u001b[0marray\u001b[0m\u001b[0;34m(\u001b[0m\u001b[0mratio_list\u001b[0m\u001b[0;34m[\u001b[0m\u001b[0;36m80\u001b[0m\u001b[0;34m:\u001b[0m\u001b[0;36m150\u001b[0m\u001b[0;34m]\u001b[0m\u001b[0;34m)\u001b[0m\u001b[0;34m.\u001b[0m\u001b[0mreshape\u001b[0m\u001b[0;34m(\u001b[0m\u001b[0;34m-\u001b[0m\u001b[0;36m1\u001b[0m\u001b[0;34m,\u001b[0m\u001b[0;36m1\u001b[0m\u001b[0;34m)\u001b[0m\u001b[0;34m\u001b[0m\u001b[0;34m\u001b[0m\u001b[0m\n\u001b[0;32m----> 5\u001b[0;31m \u001b[0mreg1\u001b[0m \u001b[0;34m=\u001b[0m \u001b[0mLinearRegression\u001b[0m\u001b[0;34m(\u001b[0m\u001b[0;34m)\u001b[0m\u001b[0;34m.\u001b[0m\u001b[0mfit\u001b[0m\u001b[0;34m(\u001b[0m\u001b[0mX\u001b[0m\u001b[0;34m,\u001b[0m \u001b[0my\u001b[0m\u001b[0;34m)\u001b[0m\u001b[0;34m\u001b[0m\u001b[0;34m\u001b[0m\u001b[0m\n\u001b[0m\u001b[1;32m      6\u001b[0m \u001b[0;34m\u001b[0m\u001b[0m\n\u001b[1;32m      7\u001b[0m \u001b[0mX\u001b[0m \u001b[0;34m=\u001b[0m \u001b[0marray\u001b[0m\u001b[0;34m(\u001b[0m\u001b[0mrange\u001b[0m\u001b[0;34m(\u001b[0m\u001b[0;36m1\u001b[0m\u001b[0;34m,\u001b[0m\u001b[0;36m20\u001b[0m\u001b[0;34m,\u001b[0m\u001b[0;36m1\u001b[0m\u001b[0;34m)\u001b[0m\u001b[0;34m)\u001b[0m\u001b[0;34m\u001b[0m\u001b[0;34m\u001b[0m\u001b[0m\n",
      "\u001b[0;32m/data/scratch/globc/peatier/conda/lib/python3.7/site-packages/sklearn/linear_model/_base.py\u001b[0m in \u001b[0;36mfit\u001b[0;34m(self, X, y, sample_weight)\u001b[0m\n\u001b[1;32m    490\u001b[0m         \u001b[0mn_jobs_\u001b[0m \u001b[0;34m=\u001b[0m \u001b[0mself\u001b[0m\u001b[0;34m.\u001b[0m\u001b[0mn_jobs\u001b[0m\u001b[0;34m\u001b[0m\u001b[0;34m\u001b[0m\u001b[0m\n\u001b[1;32m    491\u001b[0m         X, y = check_X_y(X, y, accept_sparse=['csr', 'csc', 'coo'],\n\u001b[0;32m--> 492\u001b[0;31m                          y_numeric=True, multi_output=True)\n\u001b[0m\u001b[1;32m    493\u001b[0m \u001b[0;34m\u001b[0m\u001b[0m\n\u001b[1;32m    494\u001b[0m         \u001b[0;32mif\u001b[0m \u001b[0msample_weight\u001b[0m \u001b[0;32mis\u001b[0m \u001b[0;32mnot\u001b[0m \u001b[0;32mNone\u001b[0m\u001b[0;34m:\u001b[0m\u001b[0;34m\u001b[0m\u001b[0;34m\u001b[0m\u001b[0m\n",
      "\u001b[0;32m/data/scratch/globc/peatier/conda/lib/python3.7/site-packages/sklearn/utils/validation.py\u001b[0m in \u001b[0;36mcheck_X_y\u001b[0;34m(X, y, accept_sparse, accept_large_sparse, dtype, order, copy, force_all_finite, ensure_2d, allow_nd, multi_output, ensure_min_samples, ensure_min_features, y_numeric, warn_on_dtype, estimator)\u001b[0m\n\u001b[1;32m    756\u001b[0m     \u001b[0;32mif\u001b[0m \u001b[0mmulti_output\u001b[0m\u001b[0;34m:\u001b[0m\u001b[0;34m\u001b[0m\u001b[0;34m\u001b[0m\u001b[0m\n\u001b[1;32m    757\u001b[0m         y = check_array(y, 'csr', force_all_finite=True, ensure_2d=False,\n\u001b[0;32m--> 758\u001b[0;31m                         dtype=None)\n\u001b[0m\u001b[1;32m    759\u001b[0m     \u001b[0;32melse\u001b[0m\u001b[0;34m:\u001b[0m\u001b[0;34m\u001b[0m\u001b[0;34m\u001b[0m\u001b[0m\n\u001b[1;32m    760\u001b[0m         \u001b[0my\u001b[0m \u001b[0;34m=\u001b[0m \u001b[0mcolumn_or_1d\u001b[0m\u001b[0;34m(\u001b[0m\u001b[0my\u001b[0m\u001b[0;34m,\u001b[0m \u001b[0mwarn\u001b[0m\u001b[0;34m=\u001b[0m\u001b[0;32mTrue\u001b[0m\u001b[0;34m)\u001b[0m\u001b[0;34m\u001b[0m\u001b[0;34m\u001b[0m\u001b[0m\n",
      "\u001b[0;32m/data/scratch/globc/peatier/conda/lib/python3.7/site-packages/sklearn/utils/validation.py\u001b[0m in \u001b[0;36mcheck_array\u001b[0;34m(array, accept_sparse, accept_large_sparse, dtype, order, copy, force_all_finite, ensure_2d, allow_nd, ensure_min_samples, ensure_min_features, warn_on_dtype, estimator)\u001b[0m\n\u001b[1;32m    584\u001b[0m                              \u001b[0;34m\" minimum of %d is required%s.\"\u001b[0m\u001b[0;34m\u001b[0m\u001b[0;34m\u001b[0m\u001b[0m\n\u001b[1;32m    585\u001b[0m                              % (n_samples, array.shape, ensure_min_samples,\n\u001b[0;32m--> 586\u001b[0;31m                                 context))\n\u001b[0m\u001b[1;32m    587\u001b[0m \u001b[0;34m\u001b[0m\u001b[0m\n\u001b[1;32m    588\u001b[0m     \u001b[0;32mif\u001b[0m \u001b[0mensure_min_features\u001b[0m \u001b[0;34m>\u001b[0m \u001b[0;36m0\u001b[0m \u001b[0;32mand\u001b[0m \u001b[0marray\u001b[0m\u001b[0;34m.\u001b[0m\u001b[0mndim\u001b[0m \u001b[0;34m==\u001b[0m \u001b[0;36m2\u001b[0m\u001b[0;34m:\u001b[0m\u001b[0;34m\u001b[0m\u001b[0;34m\u001b[0m\u001b[0m\n",
      "\u001b[0;31mValueError\u001b[0m: Found array with 0 sample(s) (shape=(0, 1)) while a minimum of 1 is required."
     ]
    }
   ],
   "source": [
    "from sklearn.linear_model import LinearRegression\n",
    "\n",
    "X = array(range(80,150,1)).reshape(-1,1)\n",
    "y = array(ratio_list[80:150]).reshape(-1,1)\n",
    "reg1 = LinearRegression().fit(X, y)\n",
    "\n",
    "X = array(range(1,20,1))\n",
    "X = X.reshape(-1,1)\n",
    "y = array(ratio_list[1:20]).reshape(-1,1)\n",
    "reg2 = LinearRegression().fit(X, y)"
   ]
  },
  {
   "cell_type": "code",
   "execution_count": 183,
   "metadata": {},
   "outputs": [
    {
     "data": {
      "text/plain": [
       "(0, 0.5)"
      ]
     },
     "execution_count": 183,
     "metadata": {},
     "output_type": "execute_result"
    },
    {
     "data": {
      "image/png": "[encoded data removed]",
      "text/plain": [
       "<Figure size 432x288 with 1 Axes>"
      ]
     },
     "metadata": {
      "needs_background": "light"
     },
     "output_type": "display_data"
    }
   ],
   "source": [
    "#lin1 = reg1.predict(array(range(2,170,1)).reshape(-1,1))\n",
    "#lin2 = reg2.predict(array(range(2,170,1)).reshape(-1,1))\n",
    "plot(range(2,30,1), ratio_list, '-', color='red', linewidth=3)\n",
    "plot(range(2,30,1), inter_var_list, color='pink')\n",
    "plot(range(2,30,1), intra_var_list)\n",
    "#plot(range(2,170,1), lin1, '-', color='grey', linewidth=1.5)\n",
    "#plot(range(2,170,1), lin2, '-', color='grey', linewidth=1.5)\n",
    "#plt.vlines(30, 0, 1.2, color='green', linestyle='--', linewidth=1.5)\n",
    "#plt.vlines(15, 0, 1.2)\n",
    "plt.ylim(0,0.5)"
   ]
  },
  {
   "cell_type": "code",
   "execution_count": null,
   "metadata": {},
   "outputs": [],
   "source": []
  },
  {
   "cell_type": "code",
   "execution_count": 237,
   "metadata": {},
   "outputs": [],
   "source": []
  },
  {
   "cell_type": "code",
   "execution_count": 238,
   "metadata": {},
   "outputs": [],
   "source": []
  },
  {
   "cell_type": "code",
   "execution_count": 239,
   "metadata": {},
   "outputs": [],
   "source": []
  },
  {
   "cell_type": "code",
   "execution_count": null,
   "metadata": {},
   "outputs": [],
   "source": []
  },
  {
   "cell_type": "code",
   "execution_count": null,
   "metadata": {},
   "outputs": [],
   "source": []
  }
 ],
 "metadata": {
  "kernelspec": {
   "display_name": "basic_PPE",
   "language": "python",
   "name": "basic_ppe"
  },
  "language_info": {
   "codemirror_mode": {
    "name": "ipython",
    "version": 3
   },
   "file_extension": ".py",
   "mimetype": "text/x-python",
   "name": "python",
   "nbconvert_exporter": "python",
   "pygments_lexer": "ipython3",
   "version": "3.7.6"
  }
 },
 "nbformat": 4,
 "nbformat_minor": 2
}
