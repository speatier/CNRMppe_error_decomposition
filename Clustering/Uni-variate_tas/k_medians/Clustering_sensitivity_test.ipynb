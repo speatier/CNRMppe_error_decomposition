{
 "cells": [
  {
   "cell_type": "markdown",
   "metadata": {},
   "source": [
    "# Clustering sensitivity tests for *tas* in EOF space\n",
    "Step of the codes :\n",
    "- [Import modules](#modules)\n",
    "- Define [settings](#settings)\n",
    "- Download [pc_pred_optim](#download)\n",
    "- Define [functions](#functions) for sensitivity tests (Inertia and Dunn index) and point removal at each iterations\n",
    "- [Sensitivity test](#tests) with standard deviation estimate\n",
    "- [Plot](#plot) the indexes \n",
    "- Illustration of [point removal technique](#removal)"
   ]
  },
  {
   "cell_type": "markdown",
   "metadata": {},
   "source": [
    "# <a id='modules'>Import Modules</a>"
   ]
  },
  {
   "cell_type": "code",
   "execution_count": 1,
   "metadata": {},
   "outputs": [
    {
     "name": "stderr",
     "output_type": "stream",
     "text": [
      "/data/scratch/globc/peatier/conda/lib/python3.7/site-packages/statsmodels/tools/_testing.py:19: FutureWarning: pandas.util.testing is deprecated. Use the functions in the public API at pandas.testing instead.\n",
      "  import pandas.util.testing as tm\n"
     ]
    }
   ],
   "source": [
    "# Computational modules \n",
    "%matplotlib inline\n",
    "import xarray as xr\n",
    "import glob\n",
    "import os\n",
    "import numpy as np\n",
    "import netCDF4\n",
    "from netCDF4 import Dataset\n",
    "import pandas as pd\n",
    "import re\n",
    "from array import array\n",
    "from pylab import *\n",
    "#import geopandas\n",
    "from eofs.xarray import Eof\n",
    "from eofs.multivariate.standard import MultivariateEof\n",
    "import random\n",
    "\n",
    "# Plotting modules \n",
    "import matplotlib.pyplot as plt\n",
    "#from mpl_toolkits.basemap import Basemap\n",
    "import pandas.plotting\n",
    "import matplotlib.ticker as ticker\n",
    "import seaborn as sns\n",
    "import cartopy.crs as ccrs\n",
    "import cartopy.feature as cfeature\n",
    "from matplotlib.colors import BoundaryNorm\n",
    "from cartopy.util import add_cyclic_point\n",
    "\n",
    "# Scikit-learn\n",
    "from sklearn import linear_model\n",
    "from sklearn.linear_model import LassoCV, LassoLarsCV, LassoLarsIC\n",
    "from sklearn.linear_model import Lasso\n",
    "from sklearn.metrics import r2_score\n",
    "from sklearn import preprocessing\n",
    "from sklearn import tree\n",
    "from sklearn.ensemble import RandomForestClassifier\n",
    "from sklearn.metrics import confusion_matrix\n",
    "from sklearn import metrics\n",
    "from sklearn.neural_network import MLPRegressor\n",
    "from scipy.optimize import minimize\n",
    "from scipy.optimize import dual_annealing\n",
    "from sklearn.decomposition import PCA\n",
    "\n",
    "## Clustering \n",
    "from sklearn.cluster import KMeans\n",
    "from pyclustering.cluster.kmedians import kmedians\n",
    "from sklearn_extra.cluster import KMedoids\n",
    "\n",
    "# tqdm + Remove warnings\n",
    "from tqdm import tqdm \n",
    "import warnings\n",
    "warnings.filterwarnings('ignore')"
   ]
  },
  {
   "cell_type": "markdown",
   "metadata": {},
   "source": [
    "# <a id='settings'>Settings</a>"
   ]
  },
  {
   "cell_type": "markdown",
   "metadata": {},
   "source": [
    "### Variables"
   ]
  },
  {
   "cell_type": "code",
   "execution_count": 2,
   "metadata": {},
   "outputs": [],
   "source": [
    "variables = ['tas']\n",
    "var = 'tas'\n",
    "TITLE = 'Surface Temperature'\n",
    "ylabel = '$E_{tas}$ ($K$)'\n",
    "trunc = 18"
   ]
  },
  {
   "cell_type": "markdown",
   "metadata": {},
   "source": [
    "### Paths"
   ]
  },
  {
   "cell_type": "code",
   "execution_count": 3,
   "metadata": {},
   "outputs": [],
   "source": [
    "path_official='/data/scratch/globc/peatier/CMIP6/CNRM-CM6-1/CFMIP/amip/'\n",
    "path_PPE='/data/scratch/globc/peatier/PPE/CNRM-CM6-1_PPE/'\n",
    "path_files='/data/scratch/globc/peatier/HOME_files/PPE/CNRMppe_error_decomposition/files/'\n",
    "path_file_npy = '/data/scratch/globc/peatier/HOME_files/PPE/ENSEMBLE2/files/npy/'\n",
    "path_figures = '/data/home/globc/peatier/PPE/CNRMppe_error_decomposition/Clustering/figures/'"
   ]
  },
  {
   "cell_type": "markdown",
   "metadata": {},
   "source": [
    "# <a id='download'>Download PCs</a>"
   ]
  },
  {
   "cell_type": "code",
   "execution_count": 4,
   "metadata": {},
   "outputs": [],
   "source": [
    "## PPE\n",
    "path = path_files+'nc/'\n",
    "filename = 'pc_PPE_'+var+'.nc'\n",
    "pc_PPE = xr.open_mfdataset(path+filename,combine='by_coords')\n",
    "dims_dict = {'time' : 'members', 'mode' : 'modes'}\n",
    "pc_PPE = pc_PPE.rename_dims(dims_dict)\n",
    "    \n",
    "## observations\n",
    "path = path_files+'nc/'\n",
    "filename = 'pc_obs_'+var+'.nc'\n",
    "pc_obs = xr.open_mfdataset(path+filename,combine='by_coords')\n",
    "    \n",
    "## p1 - the first line of pc_PPE\n",
    "    \n",
    "## predictions\n",
    "path = path_files+'nc/'\n",
    "filename = 'pc_pred_'+var+'.nc'\n",
    "pc_pred = xr.open_mfdataset(path+filename,combine='by_coords')\n",
    "pc_pred = pc_pred.rename({'__xarray_dataarray_variable__' : 'pcs'})"
   ]
  },
  {
   "cell_type": "code",
   "execution_count": 5,
   "metadata": {},
   "outputs": [],
   "source": [
    "path = path_files+'nc/'\n",
    "filename = 'optim_pc_PPE_'+var+'.nc'\n",
    "pc_optim = xr.open_mfdataset(path+filename,combine='by_coords')"
   ]
  },
  {
   "cell_type": "code",
   "execution_count": 6,
   "metadata": {},
   "outputs": [],
   "source": [
    "df_optim = pd.DataFrame()\n",
    "for i in range(1,18,1) :\n",
    "    df_optim['EOF '+str(i)] = pc_optim['EOF '+str(i)].values\n",
    "df_optim['LHS index'] = pc_optim['LHS index'].values"
   ]
  },
  {
   "cell_type": "markdown",
   "metadata": {},
   "source": [
    "# Clustering analysis"
   ]
  },
  {
   "cell_type": "markdown",
   "metadata": {},
   "source": [
    "## <a id='functions'>Functions sensitivity</a>"
   ]
  },
  {
   "cell_type": "code",
   "execution_count": 7,
   "metadata": {},
   "outputs": [],
   "source": [
    "def distances_per_cluster(kmedoids, tmp_r) :\n",
    "    dist = kmedoids.transform(tmp_r)\n",
    "    df_dist = pd.DataFrame(dist)\n",
    "    std = df_dist.std()\n",
    "    mean = df_dist.mean()\n",
    "    #df_dist.plot.hist(bins=30, alpha=0.5)\n",
    "    \n",
    "    return(df_dist)\n",
    "    \n",
    "def distances_mean(df_dist, perc1_nb, perc2_nb, max_model_nb) :\n",
    "    df_dist_mean = (df_dist[0]+df_dist[1])/2\n",
    "    std_m = df_dist_mean.std()\n",
    "    mean_m = df_dist_mean.mean()\n",
    "    perc1 = np.percentile(df_dist_mean, perc1_nb, axis=0) \n",
    "    perc2 = np.percentile(df_dist_mean, perc2_nb, axis=0) \n",
    "    median = np.percentile(df_dist_mean, 50, axis=0) \n",
    "    return(df_dist_mean, perc1, perc2)"
   ]
  },
  {
   "cell_type": "code",
   "execution_count": 9,
   "metadata": {},
   "outputs": [],
   "source": [
    "def Clustering_sensitivity_tests(tmp_r, nb_clusters_max, step) :\n",
    "    cluster_list = []\n",
    "    centers_list = []\n",
    "    inertia_list = []\n",
    "    inter_cluster_list = []\n",
    "    intra_cluster_list = []\n",
    "    Dunn_list = []\n",
    "\n",
    "    for n_clusters in range(2,nb_clusters_max,step) :\n",
    "        #print(n_clusters)\n",
    "    \n",
    "        kmedoids = KMedoids(n_clusters).fit(tmp_r)\n",
    "        #kmean = KMeans(n_clusters).fit(tmp_r)\n",
    "\n",
    "        cluster = kmedoids.labels_\n",
    "        centers = kmedoids.cluster_centers_\n",
    "        inert = kmedoids.inertia_\n",
    "    \n",
    "        from scipy.spatial import distance\n",
    "        dist = distance.cdist(centers, centers, 'euclidean')\n",
    "        df_dist = pd.DataFrame(dist)\n",
    "        df_dist.replace(0, np.nan, inplace=True)\n",
    "        inter_cluster_min = df_dist.min().min()\n",
    "    \n",
    "        dist = kmedoids.transform(tmp_r)\n",
    "        intra_cluster_max = dist.max()\n",
    "    \n",
    "        Dunn = inter_cluster_min/intra_cluster_max\n",
    "    \n",
    "        cluster_list.append(cluster)\n",
    "        centers_list.append(centers)\n",
    "        inertia_list.append(inert)\n",
    "    \n",
    "        inter_cluster_list.append(inter_cluster_min)\n",
    "        intra_cluster_list.append(intra_cluster_max)\n",
    "        Dunn_list.append(Dunn)\n",
    "    \n",
    "        ## -------------------- Pour enlever des points au fur et à mesure ----------\n",
    "        ## Compute distances, mean and percentiles  \n",
    "        df_dist = distances_per_cluster(kmedoids, tmp_r)\n",
    "        perc1_nb = 5\n",
    "        perc2_nb = 95\n",
    "        max_model_nb = 3000\n",
    "        df_dist_mean, perc1, perc2 = distances_mean(df_dist, perc1_nb, perc2_nb, max_model_nb)\n",
    "    \n",
    "        ## Remove 20% of the further points\n",
    "        cpt = 0\n",
    "        list_remove = []\n",
    "        for i in df_dist_mean :\n",
    "            if i < perc1 or i > perc2 :\n",
    "                list_remove.append(cpt)\n",
    "                cpt+=1\n",
    "            else :\n",
    "                cpt+=1 \n",
    "        df_short = tmp_r.drop(list_remove)\n",
    "    \n",
    "        ## Prepare the next iteration \n",
    "        tmp_r = df_short.reset_index().drop('index', axis=1)\n",
    "    \n",
    "    return(inertia_list, Dunn_list, tmp_r)"
   ]
  },
  {
   "cell_type": "markdown",
   "metadata": {},
   "source": [
    "## <a id='tests'>Sensitivity tests</a>"
   ]
  },
  {
   "cell_type": "code",
   "execution_count": 10,
   "metadata": {},
   "outputs": [
    {
     "name": "stderr",
     "output_type": "stream",
     "text": [
      "100%|██████████| 10/10 [19:10<00:00, 115.03s/it]\n"
     ]
    }
   ],
   "source": [
    "inertia_list_mean = []\n",
    "Dunn_list_mean = []\n",
    "nb_clusters_max = 50\n",
    "step = 1\n",
    "\n",
    "## Create the initial matrix to cluster \n",
    "list_index = []\n",
    "for i in range(1,6,1) :\n",
    "    tmp = 'EOF '+str(i)\n",
    "    list_index.append(tmp)\n",
    "\n",
    "for cpt in tqdm(range(0,10,1)) :\n",
    "    \n",
    "    tmp = df_optim[list_index].transpose().reset_index().drop(['index'], axis=1)\n",
    "    tmp_r = tmp.transpose()\n",
    "    \n",
    "    ## Sensitivity test\n",
    "    inertia_list_mean_tmp, Dunn_list_mean_tmp, tmp_r = Clustering_sensitivity_tests(tmp_r, nb_clusters_max, step)\n",
    "    inertia_list_mean.append(inertia_list_mean_tmp)\n",
    "    Dunn_list_mean.append(Dunn_list_mean_tmp)"
   ]
  },
  {
   "cell_type": "code",
   "execution_count": 12,
   "metadata": {},
   "outputs": [],
   "source": [
    "xr_inertia_list_mean = xr.DataArray(inertia_list_mean).mean('dim_0')\n",
    "#xr_inertia_list_std = xr.DataArray(Dunn_list_std).mean('dim_0')\n",
    "xr_Dunn_list_mean = xr.DataArray(Dunn_list_mean).mean('dim_0')\n",
    "#xr_Dunn_list_std = xr.DataArray(Dunn_list_std).std('dim_0')"
   ]
  },
  {
   "cell_type": "code",
   "execution_count": 13,
   "metadata": {},
   "outputs": [
    {
     "data": {
      "text/plain": [
       "[<matplotlib.lines.Line2D at 0x2af42edb4350>]"
      ]
     },
     "execution_count": 13,
     "metadata": {},
     "output_type": "execute_result"
    },
    {
     "data": {
      "image/png": "[encoded data removed]",
      "text/plain": [
       "<Figure size 432x288 with 1 Axes>"
      ]
     },
     "metadata": {
      "needs_background": "light"
     },
     "output_type": "display_data"
    }
   ],
   "source": [
    "plot(range(2,50,1), xr_inertia_list_mean, '-o', color='black', linewidth=1.5)"
   ]
  },
  {
   "cell_type": "code",
   "execution_count": 14,
   "metadata": {},
   "outputs": [
    {
     "data": {
      "text/plain": [
       "{0: 'EOF 1', 1: 'EOF 2', 2: 'EOF 3', 3: 'EOF 4', 4: 'EOF 5'}"
      ]
     },
     "execution_count": 14,
     "metadata": {},
     "output_type": "execute_result"
    }
   ],
   "source": [
    "dict_index = {}\n",
    "cpt = 0\n",
    "for ind in list_index :\n",
    "    dict_index[cpt] = ind\n",
    "    cpt +=1 \n",
    "dict_index"
   ]
  },
  {
   "cell_type": "code",
   "execution_count": 15,
   "metadata": {},
   "outputs": [],
   "source": [
    "tmp_r = tmp_r.rename(dict_index, axis=1)\n",
    "xr_tmp_r = tmp_r.to_xarray()\n",
    "## Save file\n",
    "filename = 'df_optim_reducted_after_sensitivity_test_kmedian.nc'\n",
    "xr_tmp_r.to_netcdf(path_files+'nc/'+filename)"
   ]
  },
  {
   "cell_type": "markdown",
   "metadata": {},
   "source": [
    "## <a id='plot'>Plot indexes</a>"
   ]
  },
  {
   "cell_type": "code",
   "execution_count": 17,
   "metadata": {},
   "outputs": [],
   "source": [
    "inertia_list_mean_new = []\n",
    "inertia_list_stdplus_new = []\n",
    "inertia_list_stdmoins_new = []\n",
    "\n",
    "Dunn_list_mean_new = []\n",
    "Dunn_list_stdplus_new = []\n",
    "Dunn_list_stdmoins_new = []\n",
    "\n",
    "for i in range(0,48,2) : \n",
    "    inert_tmp_mean = xr_inertia_list_mean[i]\n",
    "    inertia_list_mean_new.append(inert_tmp_mean)\n",
    "    Dunn_tmp_mean = xr_Dunn_list_mean[i]\n",
    "    Dunn_list_mean_new.append(Dunn_tmp_mean)\n",
    "    \n",
    "    #tmp = xr_inertia_list_std[i]\n",
    "    #inertia_list_stdplus_new.append((inert_tmp_mean+tmp))\n",
    "    #inertia_list_stdmoins_new.append((inert_tmp_mean-tmp))\n",
    "    \n",
    "    #tmp = xr_Dunn_list_std[i]\n",
    "    #Dunn_list_stdplus_new.append((Dunn_tmp_mean+tmp))\n",
    "    #Dunn_list_stdmoins_new.append((Dunn_tmp_mean-tmp))"
   ]
  },
  {
   "cell_type": "code",
   "execution_count": 20,
   "metadata": {},
   "outputs": [
    {
     "data": {
      "image/png": "[encoded data removed]",
      "text/plain": [
       "<Figure size 576x432 with 1 Axes>"
      ]
     },
     "metadata": {
      "needs_background": "light"
     },
     "output_type": "display_data"
    }
   ],
   "source": [
    "plt.figure(figsize=(8,6))\n",
    "plot(range(2,50,2), inertia_list_mean_new, '-o', color='black', linewidth=1.5)\n",
    "#plot(range(2,50,2), inertia_list_stdplus_new, '-', \n",
    "#     color='grey', linewidth=1.5, alpha=0.2)\n",
    "#plot(range(2,50,2), inertia_list_stdmoins_new, '-', \n",
    "#     color='grey', linewidth=1.5, alpha=0.2)\n",
    "plt.vlines(12, -5000, 300000, linestyle = '--', color='green', linewidth=2.5)\n",
    "#plt.vlines(7, 0, 250000, linestyle = '-', color='green', linewidth=1.5)\n",
    "#plt.vlines(18, 0, 250000, linestyle = '-', color='green', linewidth=1.5)\n",
    "ax = plt.gca()\n",
    "ax.axvspan(10, 20, alpha=0.15, color='green')\n",
    "plt.ylim(-1000,45000)\n",
    "plt.ylabel('Inertia', fontsize=15)\n",
    "plt.xlabel('Nb of clusters', fontsize=15)\n",
    "plt.xticks(fontsize=14)\n",
    "plt.yticks(fontsize=14)\n",
    "filename = 'Sensitivity_test_inertia_tas_kmedian.png'\n",
    "plt.savefig(path_figures+filename, bbox_inches='tight' )\n",
    "plt.show()"
   ]
  },
  {
   "cell_type": "code",
   "execution_count": 22,
   "metadata": {},
   "outputs": [
    {
     "data": {
      "image/png": "[encoded data removed]",
      "text/plain": [
       "<Figure size 576x432 with 1 Axes>"
      ]
     },
     "metadata": {
      "needs_background": "light"
     },
     "output_type": "display_data"
    }
   ],
   "source": [
    "plt.figure(figsize=(8,6))\n",
    "plot(range(2,50,2), Dunn_list_mean_new, '-o', color='black', linewidth=1.5)\n",
    "#plot(range(2,50,2), Dunn_list_stdplus_new, '-', color='grey', linewidth=1.5, alpha=0.5)\n",
    "#plot(range(2,50,2), Dunn_list_stdmoins_new, '-', color='grey', linewidth=1.5, alpha=0.5)\n",
    "\n",
    "ax = plt.gca()\n",
    "ax.axvspan(10, 20, alpha=0.15, color='green')\n",
    "plt.vlines(12, 0.0, 0.6, linestyle = '--', color='green', linewidth=2.5)\n",
    "\n",
    "plt.ylabel('Dunn index', fontsize=15)\n",
    "plt.xlabel('Nb of clusters', fontsize=15)\n",
    "plt.xticks(fontsize=14)\n",
    "plt.yticks(fontsize=14)\n",
    "\n",
    "plt.ylim(0, 0.45)\n",
    "\n",
    "filename = 'Sensitivity_test_Dunn_tas_kmedian.png'\n",
    "plt.savefig(path_figures+filename, bbox_inches='tight' )\n",
    "\n",
    "plt.show()"
   ]
  },
  {
   "cell_type": "code",
   "execution_count": null,
   "metadata": {},
   "outputs": [],
   "source": []
  }
 ],
 "metadata": {
  "kernelspec": {
   "display_name": "basic_PPE",
   "language": "python",
   "name": "basic_ppe"
  },
  "language_info": {
   "codemirror_mode": {
    "name": "ipython",
    "version": 3
   },
   "file_extension": ".py",
   "mimetype": "text/x-python",
   "name": "python",
   "nbconvert_exporter": "python",
   "pygments_lexer": "ipython3",
   "version": "3.7.6"
  }
 },
 "nbformat": 4,
 "nbformat_minor": 2
}
