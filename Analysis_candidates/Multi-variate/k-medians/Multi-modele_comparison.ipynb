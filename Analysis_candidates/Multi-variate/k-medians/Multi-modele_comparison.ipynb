{
 "cells": [
  {
   "cell_type": "markdown",
   "metadata": {},
   "source": [
    "# Import Module"
   ]
  },
  {
   "cell_type": "code",
   "execution_count": 1,
   "metadata": {},
   "outputs": [
    {
     "name": "stderr",
     "output_type": "stream",
     "text": [
      "/data/scratch/globc/peatier/conda/lib/python3.7/site-packages/statsmodels/tools/_testing.py:19: FutureWarning: pandas.util.testing is deprecated. Use the functions in the public API at pandas.testing instead.\n",
      "  import pandas.util.testing as tm\n"
     ]
    }
   ],
   "source": [
    "# Computational modules \n",
    "%matplotlib inline\n",
    "import xarray as xr\n",
    "import glob\n",
    "import os\n",
    "import numpy as np\n",
    "import netCDF4\n",
    "from netCDF4 import Dataset\n",
    "import pandas as pd\n",
    "import re\n",
    "from array import array\n",
    "from pylab import *\n",
    "#import geopandas\n",
    "from eofs.xarray import Eof\n",
    "from eofs.multivariate.standard import MultivariateEof\n",
    "import random\n",
    "\n",
    "# Plotting modules \n",
    "import matplotlib.pyplot as plt\n",
    "#from mpl_toolkits.basemap import Basemap\n",
    "import pandas.plotting\n",
    "import matplotlib.ticker as ticker\n",
    "import seaborn as sns\n",
    "import cartopy.crs as ccrs\n",
    "import cartopy.feature as cfeature\n",
    "from matplotlib.colors import BoundaryNorm\n",
    "from cartopy.util import add_cyclic_point\n",
    "\n",
    "# Scikit-learn\n",
    "from sklearn import linear_model\n",
    "from sklearn.linear_model import LassoCV, LassoLarsCV, LassoLarsIC\n",
    "from sklearn.linear_model import Lasso\n",
    "from sklearn.metrics import r2_score\n",
    "from sklearn import preprocessing\n",
    "from sklearn import tree\n",
    "from sklearn.ensemble import RandomForestClassifier\n",
    "from sklearn.metrics import confusion_matrix\n",
    "from sklearn import metrics\n",
    "from sklearn.neural_network import MLPRegressor\n",
    "from scipy.optimize import minimize\n",
    "from scipy.optimize import dual_annealing\n",
    "from sklearn.decomposition import PCA\n",
    "from scipy.spatial.distance import pdist\n",
    "\n",
    "# tqdm + Remove warnings\n",
    "from tqdm import tqdm \n",
    "import warnings\n",
    "warnings.filterwarnings('ignore')"
   ]
  },
  {
   "cell_type": "markdown",
   "metadata": {},
   "source": [
    "# Settings"
   ]
  },
  {
   "cell_type": "markdown",
   "metadata": {},
   "source": [
    "### Variables"
   ]
  },
  {
   "cell_type": "code",
   "execution_count": 2,
   "metadata": {},
   "outputs": [],
   "source": [
    "variables = ['tas', 'pr', 'psl', 'SW', 'LW']\n",
    "var_ceres = ['rsdt','rsut', 'rlut']\n",
    "truncations = [18, 18, 8, 28, 22]\n",
    "TITLE = 'Multi-variate'\n",
    "ylabel = '$E_{tot}$'"
   ]
  },
  {
   "cell_type": "markdown",
   "metadata": {},
   "source": [
    "### Paths"
   ]
  },
  {
   "cell_type": "code",
   "execution_count": 3,
   "metadata": {},
   "outputs": [],
   "source": [
    "path_official='/data/scratch/globc/peatier/CMIP6/CNRM-CM6-1/CFMIP/amip/'\n",
    "path_PPE='/data/scratch/globc/peatier/PPE/CNRM-CM6-1_PPE/'\n",
    "path_files='/data/scratch/globc/peatier/HOME_files/PPE/CNRMppe_error_decomposition/files/'\n",
    "path_file_npy = '/data/scratch/globc/peatier/HOME_files/PPE/ENSEMBLE2/files/npy/'"
   ]
  },
  {
   "cell_type": "markdown",
   "metadata": {},
   "source": [
    "# Functions"
   ]
  },
  {
   "cell_type": "code",
   "execution_count": 4,
   "metadata": {},
   "outputs": [],
   "source": [
    "def get_3D_tas_xarr(path, filename, variables):\n",
    "#    “”\"\n",
    "#    This function read the netCDF file of monthly data, compute the radiative budget, perform a yearly mean and \n",
    "#    return a dataframe\n",
    "#    “”\"\n",
    "    # First step : download the data into dataframe\n",
    "    file = xr.open_mfdataset(path+filename,combine='by_coords')\n",
    "    #\n",
    "    # Second step : compute the annual average \n",
    "    df = file[variables].mean('time', keep_attrs=True)\n",
    "    tas = df['tas']\n",
    "    #\n",
    "    return tas"
   ]
  },
  {
   "cell_type": "code",
   "execution_count": 5,
   "metadata": {},
   "outputs": [],
   "source": [
    "def get_3D_pr_xarr(path, filename, variables):\n",
    "\n",
    "    # First step : download the data into dataframe\n",
    "    file = xr.open_mfdataset(path+filename,combine='by_coords')\n",
    "    #\n",
    "    # Second step : compute the annual average \n",
    "    df = file[variables].mean('time', keep_attrs=True)\n",
    "    pr = df['pr']*86400 \n",
    "    #\n",
    "    return pr"
   ]
  },
  {
   "cell_type": "code",
   "execution_count": 6,
   "metadata": {},
   "outputs": [],
   "source": [
    "def get_3D_psl_xarr(path, filename, variables):\n",
    "\n",
    "    # First step : download the data into dataframe\n",
    "    file = xr.open_mfdataset(path+filename,combine='by_coords')\n",
    "    \n",
    "    # Second step : compute the annual average \n",
    "    df = file[variables].mean('time', keep_attrs=True)\n",
    "    psl = df['psl']\n",
    "    \n",
    "    return psl"
   ]
  },
  {
   "cell_type": "code",
   "execution_count": 7,
   "metadata": {},
   "outputs": [],
   "source": [
    "def get_3D_LW_xarr(path, filename, variables):\n",
    "\n",
    "    # First step : download the data into dataframe\n",
    "    file = xr.open_mfdataset(path+filename,combine='by_coords')\n",
    "    \n",
    "    # Second step : compute the annual average \n",
    "    df = file[variables].mean('time', keep_attrs=True)\n",
    "    LW = df['rlut']\n",
    "    \n",
    "    return LW"
   ]
  },
  {
   "cell_type": "code",
   "execution_count": 8,
   "metadata": {},
   "outputs": [],
   "source": [
    "def get_3D_SW_xarr(path, filename, variables):\n",
    "\n",
    "    # First step : download the data into dataframe\n",
    "    file = xr.open_mfdataset(path+filename,combine='by_coords')\n",
    "    \n",
    "    # Second step : compute the annual average \n",
    "    df = file[variables].mean('time', keep_attrs=True)\n",
    "    SW = df['rsut']# - df['rsdt']\n",
    "    \n",
    "    return SW"
   ]
  },
  {
   "cell_type": "code",
   "execution_count": 9,
   "metadata": {},
   "outputs": [],
   "source": [
    "def load_monthly_clim(path, filename, variables) :\n",
    "    \n",
    "    file = xr.open_mfdataset(path+filename,combine='by_coords')\n",
    "    df=file[variables].to_dataframe()\n",
    "    \n",
    "    # Compute Climatological Annual Cycle :\n",
    "    df1=df.reset_index(level=['time', 'lat', 'lon'])\n",
    "    df1['year']=pd.DatetimeIndex(df1['time']).year\n",
    "    df1['month']=pd.DatetimeIndex(df1['time']).month\n",
    "    \n",
    "    #list_ind = []\n",
    "    #cpt=0\n",
    "    #for i in df1['year'] : \n",
    "    #    if i>1981 :\n",
    "    #        list_ind.append(cpt)\n",
    "    #        cpt+=1\n",
    "    #    else : \n",
    "    #        cpt+=1\n",
    "            \n",
    "    #df2 = df1.drop(list_ind)\n",
    "    df_mean=df1.groupby(['month', 'lat', 'lon']).mean()\n",
    "    df_mean=df_mean.drop(columns='year')\n",
    "    \n",
    "    return df_mean"
   ]
  },
  {
   "cell_type": "code",
   "execution_count": 10,
   "metadata": {},
   "outputs": [],
   "source": [
    "def MSE(mod, obs, W_rmse_2D) :\n",
    "    diff_tmp = (mod - obs)**2 * W_rmse_2D\n",
    "    diff = (diff_tmp.sum(['lat', 'lon']))\n",
    "    return diff"
   ]
  },
  {
   "cell_type": "code",
   "execution_count": 11,
   "metadata": {},
   "outputs": [],
   "source": [
    "def reconstruct_X(eofs_combined, pc, nb_dims) :\n",
    "    X_rec_tmp = np.dot(eofs_combined.transpose(),pc)\n",
    "    if nb_dims == 3 :\n",
    "        X_rec = xr.DataArray(X_rec_tmp, \n",
    "                        dims=[\"lon\", \"lat\", \"time\"]).transpose('time', 'lat', 'lon')\n",
    "    if nb_dims == 2 :\n",
    "        X_rec = xr.DataArray(X_rec_tmp, \n",
    "                        dims=[\"lon\", \"lat\"]).transpose('lat', 'lon')\n",
    "    \n",
    "    X_rec['lat'] = eofs_combined['lat']\n",
    "    X_rec['lon'] = eofs_combined['lon']\n",
    "    return X_rec"
   ]
  },
  {
   "cell_type": "code",
   "execution_count": 12,
   "metadata": {},
   "outputs": [],
   "source": [
    "def MSE_rec(rec_anom_mod_w, rec_anom_obs_w, Mean, W_rmse_2D) :\n",
    "    mod = rec_anom_mod_w/W_eof_2D + Mean\n",
    "    obs = rec_anom_obs_w/W_eof_2D + Mean\n",
    "    diff = MSE(mod, obs, W_rmse_2D)\n",
    "    return diff"
   ]
  },
  {
   "cell_type": "code",
   "execution_count": 13,
   "metadata": {},
   "outputs": [],
   "source": [
    "def MultiLinReg_pred(LHS, X ,y, param_names) :\n",
    "\n",
    "    LHS_df = pd.DataFrame(LHS)\n",
    "\n",
    "    lhs = LHS_df.values\n",
    "    #LHS_df\n",
    "\n",
    "    # Let's use the model equation : \n",
    "\n",
    "    X_df = pd.DataFrame(data=X)\n",
    "    regr = linear_model.LinearRegression()\n",
    "    regr.fit(X, y)\n",
    "    R = regr.intercept_\n",
    "    Coeffs = pd.DataFrame([regr.coef_]*30, columns=param_names).iloc[0]\n",
    "\n",
    "    N=len(LHS_df.values)\n",
    "    tmp = [0]*N\n",
    "    y_pred = [0]*N\n",
    "    i=0\n",
    "    Ycpt=0\n",
    "    while i<N:\n",
    "        \n",
    "        tmp[i] = Coeffs.values*LHS_df.iloc[i]\n",
    "        y_pred[i] = tmp[i].sum()+R\n",
    "        i+=1\n",
    "\n",
    "    #y_pred\n",
    "    #members = arange(102,100102,1)\n",
    "    #DFYpred = pd.DataFrame([y_pred, members], index=[\"y_pred\", \"members\"]).transpose()\n",
    "    return y_pred"
   ]
  },
  {
   "cell_type": "markdown",
   "metadata": {},
   "source": [
    "# Get data "
   ]
  },
  {
   "cell_type": "code",
   "execution_count": 14,
   "metadata": {},
   "outputs": [],
   "source": [
    "path_file = path_files+'npy/'\n",
    "Mean={}\n",
    "for var in variables :\n",
    "    filename = 'CNRMppe_decomposition_mean_'+str(var)+'.npy'\n",
    "    Mean_tmp =  pd.read_pickle(path_file+filename).to_xarray().to_array()\n",
    "    Mean[str(var)] = Mean_tmp[0,:,:].rename({'variable':'mode'})"
   ]
  },
  {
   "cell_type": "code",
   "execution_count": 15,
   "metadata": {},
   "outputs": [],
   "source": [
    "variable = 'tas'\n",
    "W_eof_2D = np.load(path_files+'npy/W_eof_2D_'+str(variable)+'.npy')\n",
    "W_eof_3D = np.load(path_files+'npy/W_eof_3D_'+str(variable)+'.npy')\n",
    "W_rmse_2D = np.load(path_files+'npy/W_rmse_2D_'+str(variable)+'.npy')"
   ]
  },
  {
   "cell_type": "markdown",
   "metadata": {},
   "source": [
    "### BEST observations - tas"
   ]
  },
  {
   "cell_type": "code",
   "execution_count": 16,
   "metadata": {},
   "outputs": [],
   "source": [
    "path_observation = '/data/scratch/globc/peatier/obs/BEST/'\n",
    "filename = 'Land_and_Ocean_LatLong1_regrid_1979-1981.nc'\n",
    "var = 'tas'"
   ]
  },
  {
   "cell_type": "code",
   "execution_count": 17,
   "metadata": {},
   "outputs": [],
   "source": [
    "# POUR LES OBSERVATIONS BEST ---- initial cells\n",
    "\n",
    "path = path_observation\n",
    "\n",
    "file =  xr.open_mfdataset(path+filename,combine='by_coords')\n",
    "clim = file['climatology'].to_dataframe()#.drop(columns='month_number')\n",
    "clim = pd.concat([clim, clim, clim]).reset_index('month_number')\n",
    "\n",
    "df_obs=file['temperature'].to_dataframe().reset_index('time')\n",
    "df_obs['clim'] = clim['climatology']\n",
    "df_obs['tas'] = df_obs['temperature']+df_obs['clim']+273.15\n",
    "variable_obs = 'ta'"
   ]
  },
  {
   "cell_type": "code",
   "execution_count": 18,
   "metadata": {},
   "outputs": [],
   "source": [
    "obs = {}\n",
    "obs[var] = df_obs[var].groupby(['lat','lon']).mean().to_xarray()"
   ]
  },
  {
   "cell_type": "markdown",
   "metadata": {},
   "source": [
    "### GPCP observations - pr"
   ]
  },
  {
   "cell_type": "code",
   "execution_count": 19,
   "metadata": {},
   "outputs": [],
   "source": [
    "path_observation = '/data/scratch/globc/peatier/obs/GPCP/regrid_CNRM/'\n",
    "filename_obs = 'pr_mon_mean_197901-198112_regrid.nc'\n",
    "var = 'pr'"
   ]
  },
  {
   "cell_type": "code",
   "execution_count": 20,
   "metadata": {},
   "outputs": [],
   "source": [
    "## --- Initial method\n",
    "path = path_observation\n",
    "df_obs = load_monthly_clim(path, filename_obs, var)\n",
    "obs[var] = df_obs[var].groupby(['lat','lon']).mean().to_xarray()"
   ]
  },
  {
   "cell_type": "markdown",
   "metadata": {},
   "source": [
    "### CERES observations"
   ]
  },
  {
   "cell_type": "code",
   "execution_count": 21,
   "metadata": {},
   "outputs": [],
   "source": [
    "path_observation = '/data/scratch/globc/peatier/obs/CERES/'\n",
    "filename = 'CERES_EBAF-TOA_Ed4.1_Subset_200003-201910_regrid.nc'"
   ]
  },
  {
   "cell_type": "code",
   "execution_count": 22,
   "metadata": {},
   "outputs": [
    {
     "data": {
      "text/html": [
       "<div>\n",
       "<style scoped>\n",
       "    .dataframe tbody tr th:only-of-type {\n",
       "        vertical-align: middle;\n",
       "    }\n",
       "\n",
       "    .dataframe tbody tr th {\n",
       "        vertical-align: top;\n",
       "    }\n",
       "\n",
       "    .dataframe thead th {\n",
       "        text-align: right;\n",
       "    }\n",
       "</style>\n",
       "<table border=\"1\" class=\"dataframe\">\n",
       "  <thead>\n",
       "    <tr style=\"text-align: right;\">\n",
       "      <th></th>\n",
       "      <th></th>\n",
       "      <th></th>\n",
       "      <th>toa_sw_all_mon</th>\n",
       "      <th>toa_lw_all_mon</th>\n",
       "      <th>toa_net_all_mon</th>\n",
       "    </tr>\n",
       "    <tr>\n",
       "      <th>month</th>\n",
       "      <th>lat</th>\n",
       "      <th>lon</th>\n",
       "      <th></th>\n",
       "      <th></th>\n",
       "      <th></th>\n",
       "    </tr>\n",
       "  </thead>\n",
       "  <tbody>\n",
       "    <tr>\n",
       "      <th rowspan=\"5\" valign=\"top\">1</th>\n",
       "      <th rowspan=\"5\" valign=\"top\">-88.927735</th>\n",
       "      <th>0.00000</th>\n",
       "      <td>344.953522</td>\n",
       "      <td>189.246185</td>\n",
       "      <td>-38.599289</td>\n",
       "    </tr>\n",
       "    <tr>\n",
       "      <th>1.40625</th>\n",
       "      <td>344.953522</td>\n",
       "      <td>189.246185</td>\n",
       "      <td>-38.599289</td>\n",
       "    </tr>\n",
       "    <tr>\n",
       "      <th>2.81250</th>\n",
       "      <td>344.953522</td>\n",
       "      <td>189.246185</td>\n",
       "      <td>-38.599289</td>\n",
       "    </tr>\n",
       "    <tr>\n",
       "      <th>4.21875</th>\n",
       "      <td>344.992493</td>\n",
       "      <td>189.144440</td>\n",
       "      <td>-38.531315</td>\n",
       "    </tr>\n",
       "    <tr>\n",
       "      <th>5.62500</th>\n",
       "      <td>345.007721</td>\n",
       "      <td>189.104630</td>\n",
       "      <td>-38.504715</td>\n",
       "    </tr>\n",
       "    <tr>\n",
       "      <th>...</th>\n",
       "      <th>...</th>\n",
       "      <th>...</th>\n",
       "      <td>...</td>\n",
       "      <td>...</td>\n",
       "      <td>...</td>\n",
       "    </tr>\n",
       "    <tr>\n",
       "      <th rowspan=\"5\" valign=\"top\">12</th>\n",
       "      <th rowspan=\"5\" valign=\"top\">88.927735</th>\n",
       "      <th>352.96875</th>\n",
       "      <td>0.000000</td>\n",
       "      <td>171.476639</td>\n",
       "      <td>-171.476639</td>\n",
       "    </tr>\n",
       "    <tr>\n",
       "      <th>354.37500</th>\n",
       "      <td>0.000000</td>\n",
       "      <td>171.476639</td>\n",
       "      <td>-171.476639</td>\n",
       "    </tr>\n",
       "    <tr>\n",
       "      <th>355.78125</th>\n",
       "      <td>0.000000</td>\n",
       "      <td>171.500351</td>\n",
       "      <td>-171.500351</td>\n",
       "    </tr>\n",
       "    <tr>\n",
       "      <th>357.18750</th>\n",
       "      <td>0.000000</td>\n",
       "      <td>171.560974</td>\n",
       "      <td>-171.560974</td>\n",
       "    </tr>\n",
       "    <tr>\n",
       "      <th>358.59375</th>\n",
       "      <td>0.000000</td>\n",
       "      <td>171.560974</td>\n",
       "      <td>-171.560974</td>\n",
       "    </tr>\n",
       "  </tbody>\n",
       "</table>\n",
       "<p>393216 rows × 3 columns</p>\n",
       "</div>"
      ],
      "text/plain": [
       "                            toa_sw_all_mon  toa_lw_all_mon  toa_net_all_mon\n",
       "month lat        lon                                                       \n",
       "1     -88.927735 0.00000        344.953522      189.246185       -38.599289\n",
       "                 1.40625        344.953522      189.246185       -38.599289\n",
       "                 2.81250        344.953522      189.246185       -38.599289\n",
       "                 4.21875        344.992493      189.144440       -38.531315\n",
       "                 5.62500        345.007721      189.104630       -38.504715\n",
       "...                                    ...             ...              ...\n",
       "12     88.927735 352.96875        0.000000      171.476639      -171.476639\n",
       "                 354.37500        0.000000      171.476639      -171.476639\n",
       "                 355.78125        0.000000      171.500351      -171.500351\n",
       "                 357.18750        0.000000      171.560974      -171.560974\n",
       "                 358.59375        0.000000      171.560974      -171.560974\n",
       "\n",
       "[393216 rows x 3 columns]"
      ]
     },
     "execution_count": 22,
     "metadata": {},
     "output_type": "execute_result"
    }
   ],
   "source": [
    "# Load data and compute Annual Cycle :\n",
    "file = xr.open_mfdataset(path_observation+filename,combine='by_coords')\n",
    "#file\n",
    "variables = ['toa_sw_all_mon','toa_lw_all_mon', 'toa_net_all_mon']\n",
    "df_obs = load_monthly_clim(path_observation, filename, variables)\n",
    "df_obs"
   ]
  },
  {
   "cell_type": "code",
   "execution_count": 23,
   "metadata": {},
   "outputs": [],
   "source": [
    "df_obs['SW'] =   df_obs['toa_sw_all_mon']# + df_obs['toa_lw_all_mon']\n",
    "obs['SW'] = df_obs.groupby(['lat','lon']).mean().to_xarray()\n",
    "\n",
    "df_obs['LW'] =  df_obs['toa_lw_all_mon']\n",
    "obs['LW'] = df_obs.groupby(['lat','lon']).mean().to_xarray()"
   ]
  },
  {
   "cell_type": "code",
   "execution_count": 24,
   "metadata": {},
   "outputs": [
    {
     "data": {
      "text/plain": [
       "month  lat         lon      \n",
       "1      -88.927735  0.00000      344.953522\n",
       "                   1.40625      344.953522\n",
       "                   2.81250      344.953522\n",
       "                   4.21875      344.992493\n",
       "                   5.62500      345.007721\n",
       "                                   ...    \n",
       "12      88.927735  352.96875      0.000000\n",
       "                   354.37500      0.000000\n",
       "                   355.78125      0.000000\n",
       "                   357.18750      0.000000\n",
       "                   358.59375      0.000000\n",
       "Name: SW, Length: 393216, dtype: float32"
      ]
     },
     "execution_count": 24,
     "metadata": {},
     "output_type": "execute_result"
    }
   ],
   "source": [
    "df_obs['SW']"
   ]
  },
  {
   "cell_type": "markdown",
   "metadata": {},
   "source": [
    "### NCEP observations"
   ]
  },
  {
   "cell_type": "code",
   "execution_count": 25,
   "metadata": {},
   "outputs": [],
   "source": [
    "path_observation =  '/data/scratch/globc/peatier/obs/NCEP/regrid_CNRM/'\n",
    "filename_obs = 'psl_1m_1979-1981_NCEP_regrid.nc'"
   ]
  },
  {
   "cell_type": "code",
   "execution_count": 26,
   "metadata": {},
   "outputs": [
    {
     "data": {
      "text/html": [
       "<div>\n",
       "<style scoped>\n",
       "    .dataframe tbody tr th:only-of-type {\n",
       "        vertical-align: middle;\n",
       "    }\n",
       "\n",
       "    .dataframe tbody tr th {\n",
       "        vertical-align: top;\n",
       "    }\n",
       "\n",
       "    .dataframe thead th {\n",
       "        text-align: right;\n",
       "    }\n",
       "</style>\n",
       "<table border=\"1\" class=\"dataframe\">\n",
       "  <thead>\n",
       "    <tr style=\"text-align: right;\">\n",
       "      <th></th>\n",
       "      <th></th>\n",
       "      <th></th>\n",
       "      <th>psl</th>\n",
       "    </tr>\n",
       "    <tr>\n",
       "      <th>month</th>\n",
       "      <th>lat</th>\n",
       "      <th>lon</th>\n",
       "      <th></th>\n",
       "    </tr>\n",
       "  </thead>\n",
       "  <tbody>\n",
       "    <tr>\n",
       "      <th rowspan=\"5\" valign=\"top\">1</th>\n",
       "      <th rowspan=\"5\" valign=\"top\">-88.927735</th>\n",
       "      <th>0.00000</th>\n",
       "      <td>99413.804688</td>\n",
       "    </tr>\n",
       "    <tr>\n",
       "      <th>1.40625</th>\n",
       "      <td>99413.843750</td>\n",
       "    </tr>\n",
       "    <tr>\n",
       "      <th>2.81250</th>\n",
       "      <td>99413.851562</td>\n",
       "    </tr>\n",
       "    <tr>\n",
       "      <th>4.21875</th>\n",
       "      <td>99413.757812</td>\n",
       "    </tr>\n",
       "    <tr>\n",
       "      <th>5.62500</th>\n",
       "      <td>99413.578125</td>\n",
       "    </tr>\n",
       "    <tr>\n",
       "      <th>...</th>\n",
       "      <th>...</th>\n",
       "      <th>...</th>\n",
       "      <td>...</td>\n",
       "    </tr>\n",
       "    <tr>\n",
       "      <th rowspan=\"5\" valign=\"top\">12</th>\n",
       "      <th rowspan=\"5\" valign=\"top\">88.927735</th>\n",
       "      <th>352.96875</th>\n",
       "      <td>101209.882812</td>\n",
       "    </tr>\n",
       "    <tr>\n",
       "      <th>354.37500</th>\n",
       "      <td>101209.617188</td>\n",
       "    </tr>\n",
       "    <tr>\n",
       "      <th>355.78125</th>\n",
       "      <td>101209.382812</td>\n",
       "    </tr>\n",
       "    <tr>\n",
       "      <th>357.18750</th>\n",
       "      <td>101209.171875</td>\n",
       "    </tr>\n",
       "    <tr>\n",
       "      <th>358.59375</th>\n",
       "      <td>101208.929688</td>\n",
       "    </tr>\n",
       "  </tbody>\n",
       "</table>\n",
       "<p>393216 rows × 1 columns</p>\n",
       "</div>"
      ],
      "text/plain": [
       "                                      psl\n",
       "month lat        lon                     \n",
       "1     -88.927735 0.00000     99413.804688\n",
       "                 1.40625     99413.843750\n",
       "                 2.81250     99413.851562\n",
       "                 4.21875     99413.757812\n",
       "                 5.62500     99413.578125\n",
       "...                                   ...\n",
       "12     88.927735 352.96875  101209.882812\n",
       "                 354.37500  101209.617188\n",
       "                 355.78125  101209.382812\n",
       "                 357.18750  101209.171875\n",
       "                 358.59375  101208.929688\n",
       "\n",
       "[393216 rows x 1 columns]"
      ]
     },
     "execution_count": 26,
     "metadata": {},
     "output_type": "execute_result"
    }
   ],
   "source": [
    "# Load data and compute Annual Cycle :\n",
    "file = xr.open_mfdataset(path_observation+filename_obs,combine='by_coords')\n",
    "#file\n",
    "variables = ['psl']\n",
    "df_obs = load_monthly_clim(path_observation, filename_obs, variables)\n",
    "df_obs"
   ]
  },
  {
   "cell_type": "code",
   "execution_count": 27,
   "metadata": {},
   "outputs": [],
   "source": [
    "obs['psl'] = df_obs.groupby(['lat','lon']).mean().to_xarray()"
   ]
  },
  {
   "cell_type": "markdown",
   "metadata": {},
   "source": [
    "### Weighted anomaly"
   ]
  },
  {
   "cell_type": "code",
   "execution_count": 28,
   "metadata": {},
   "outputs": [],
   "source": [
    "variables = ['tas', 'pr', 'psl', 'SW', 'LW']"
   ]
  },
  {
   "cell_type": "code",
   "execution_count": 29,
   "metadata": {},
   "outputs": [],
   "source": [
    "X_obs = dict()\n",
    "X_obs_w = dict()\n",
    "for var in variables :\n",
    "    W_eof_2D = np.load(path_files+'npy/W_eof_2D_'+str(var)+'.npy')\n",
    "    W_eof_3D = np.load(path_files+'npy/W_eof_3D_'+str(var)+'.npy')\n",
    "    W_rmse_2D = np.load(path_files+'npy/W_rmse_2D_'+str(var)+'.npy')\n",
    "\n",
    "    ## --Observations\n",
    "    X_obs[var] = obs[var] - Mean[var]\n",
    "    X_obs_w[var] = X_obs[var]*W_eof_2D"
   ]
  },
  {
   "cell_type": "markdown",
   "metadata": {},
   "source": [
    "### Download PCs"
   ]
  },
  {
   "cell_type": "code",
   "execution_count": 30,
   "metadata": {},
   "outputs": [
    {
     "name": "stderr",
     "output_type": "stream",
     "text": [
      "100%|██████████| 5/5 [00:00<00:00, 12.25it/s]\n"
     ]
    }
   ],
   "source": [
    "#path_files = '/data/home/globc/peatier/PPE/CNRMppe_error_decomposition/files/'\n",
    "pc_PPE = {}\n",
    "pc_p1 = {}\n",
    "pc_pred = {}\n",
    "pc_cand_emul = {}\n",
    "pc_obs = {}\n",
    "\n",
    "for var in tqdm(variables) :\n",
    "    ## PPE\n",
    "    path = path_files+'nc/'\n",
    "    filename = 'pc_PPE_'+var+'.nc'\n",
    "    pc_PPE[var] = xr.open_mfdataset(path+filename,combine='by_coords')\n",
    "    dims_dict = {'time' : 'members', 'mode' : 'modes'}\n",
    "    pc_PPE[var] = pc_PPE[var].rename_dims(dims_dict)\n",
    "    \n",
    "    ## observations\n",
    "    path = path_files+'nc/'\n",
    "    filename = 'pc_obs_'+var+'.nc'\n",
    "    pc_obs[var] = xr.open_mfdataset(path+filename,combine='by_coords')\n",
    "    \n",
    "    ## p1 - the first line of pc_PPE\n",
    "    pc_p1[var] = pc_PPE[var]['pcs'][0,:]\n",
    "    \n",
    "    ## predictions\n",
    "    path = path_files+'nc/'\n",
    "    filename = 'pc_pred_'+var+'.nc'\n",
    "    pc_pred[var] = xr.open_mfdataset(path+filename,combine='by_coords')\n",
    "    pc_pred[var] = pc_pred[var].rename({'__xarray_dataarray_variable__' : 'pcs'})\n",
    "\n",
    "    ## emulated candidates \n",
    "    path = path_files+'nc/'\n",
    "    filename = 'PC_candidates_multi_kmedian.nc'\n",
    "    pc_cand_emul_tmp = xr.open_mfdataset(path+filename,combine='by_coords')\n",
    "    pc_cand_emul_tmp = pc_cand_emul_tmp.rename({'__xarray_dataarray_variable__' : 'pcs'}) "
   ]
  },
  {
   "cell_type": "code",
   "execution_count": 31,
   "metadata": {},
   "outputs": [
    {
     "name": "stderr",
     "output_type": "stream",
     "text": [
      "100%|██████████| 5/5 [00:00<00:00, 3518.71it/s]\n"
     ]
    }
   ],
   "source": [
    "pc_cand_emul = {}\n",
    "cpt = 0\n",
    "cpt1 = 0\n",
    "for var in tqdm(variables) :\n",
    "    trunc = truncations[cpt]\n",
    "    cpt2 = cpt1+trunc\n",
    "    pc_cand_emul[var] = pc_cand_emul_tmp['pcs'][:,cpt1:cpt2]\n",
    "    cpt1 = cpt2\n",
    "    cpt += 1"
   ]
  },
  {
   "cell_type": "code",
   "execution_count": 32,
   "metadata": {},
   "outputs": [],
   "source": [
    "#path_files = '/data/home/globc/peatier/PPE/CNRMppe_error_decomposition/files/'\n",
    "path = path_files+'nc/'\n",
    "pc_optim = {}\n",
    "for var in variables :\n",
    "    filename = 'optim_pc_PPE_'+var+'_multi.nc'\n",
    "    pc_optim[var] = xr.open_mfdataset(path+filename,combine='by_coords')"
   ]
  },
  {
   "cell_type": "code",
   "execution_count": 33,
   "metadata": {},
   "outputs": [],
   "source": [
    "df_optim = {}\n",
    "cpt=0\n",
    "for var in variables :\n",
    "    df_optim[var] = pd.DataFrame()\n",
    "    trunc = truncations[cpt]\n",
    "    for i in range(1,trunc+1,1) :\n",
    "        df_optim[var]['EOF '+str(i)] = pc_optim[var]['EOF '+str(i)].values\n",
    "    df_optim[var]['LHS index'] = pc_optim[var]['LHS index'].values\n",
    "    cpt+=1"
   ]
  },
  {
   "cell_type": "markdown",
   "metadata": {},
   "source": [
    "### EOF solver can be loaded from here "
   ]
  },
  {
   "cell_type": "code",
   "execution_count": 34,
   "metadata": {},
   "outputs": [
    {
     "name": "stdout",
     "output_type": "stream",
     "text": [
      "tas\n",
      "pr\n",
      "psl\n",
      "SW\n",
      "LW\n"
     ]
    }
   ],
   "source": [
    "import pickle\n",
    "path = path_files+'pkl/'\n",
    "solver = {}\n",
    "for var in variables :\n",
    "    print(var)\n",
    "\n",
    "    # open a file, where you stored the pickled data\n",
    "    file = open(path+'solver_'+var+'.pkl', 'rb')\n",
    "\n",
    "    # dump information to that file\n",
    "    solver[var] = pickle.load(file)\n",
    "\n",
    "    # close the file\n",
    "    file.close()"
   ]
  },
  {
   "cell_type": "code",
   "execution_count": 35,
   "metadata": {},
   "outputs": [],
   "source": [
    "eofs = {}\n",
    "variances = {}\n",
    "for var in variables :\n",
    "    eofs[var] = solver[var].eofsAsCovariance(pcscaling=1)\n",
    "    variances[var] = solver[var].varianceFraction() "
   ]
  },
  {
   "cell_type": "code",
   "execution_count": 36,
   "metadata": {},
   "outputs": [
    {
     "name": "stdout",
     "output_type": "stream",
     "text": [
      "tas\n",
      "18\n",
      "0.9453142157053153\n",
      "pr\n",
      "18\n",
      "0.8541554866051219\n",
      "psl\n",
      "8\n",
      "0.9206052424899763\n",
      "SW\n",
      "28\n",
      "0.9734259676271958\n",
      "LW\n",
      "22\n",
      "0.9628472925788145\n"
     ]
    }
   ],
   "source": [
    "cpt = 0\n",
    "for var in variables :\n",
    "    print(var)\n",
    "    trunc = truncations[cpt]\n",
    "    print(trunc)\n",
    "    v = variances[var][0:trunc].sum()\n",
    "    print(float(v))\n",
    "    cpt+=1"
   ]
  },
  {
   "cell_type": "code",
   "execution_count": 37,
   "metadata": {},
   "outputs": [
    {
     "name": "stdout",
     "output_type": "stream",
     "text": [
      "tas\n",
      "psl\n",
      "SW\n",
      "LW\n",
      "pr\n"
     ]
    }
   ],
   "source": [
    "# Reference simulation\n",
    "path = path_PPE+'ENSEMBLE1/CNRM-CM6-1_amip_PPE/CNRM-CM6-1_amip_r1i1p1f2/'\n",
    "filename = '*_CNRM-CM6-1_amip_*.nc'\n",
    "\n",
    "p1_amip = dict()\n",
    "diff_p1 = dict()\n",
    "X_p1_w = dict()\n",
    "\n",
    "for var in ['tas', 'psl'] :\n",
    "    print(var)\n",
    "    p1_amip[var] = load_monthly_clim(path, filename, var).groupby(['lat','lon']).mean().to_xarray()\n",
    "    \n",
    "    ## --Full error e(\\theta_0)\n",
    "    mod = p1_amip[var]\n",
    "    observation = obs[var]\n",
    "    diff_p1[var] = MSE(mod, observation, W_rmse_2D)\n",
    "    \n",
    "    ## --Anom and weight\n",
    "    W_eof_2D = np.load(path_files+'npy/W_eof_2D_'+str(var)+'.npy')\n",
    "    X_p1 = p1_amip[var] - Mean[var]\n",
    "    X_p1_w[var] = X_p1*W_eof_2D\n",
    "    \n",
    "### --- CERES data\n",
    "\n",
    "df_ceres = load_monthly_clim(path, filename, var_ceres)\n",
    "\n",
    "df_ceres['SW'] = df_ceres['rsut']# - df_ceres['rsdt']\n",
    "p1_amip['SW'] = df_ceres.groupby(['lat','lon']).mean().to_xarray()\n",
    "\n",
    "df_ceres['LW'] =  df_ceres['rlut']\n",
    "p1_amip['LW'] = df_ceres.groupby(['lat','lon']).mean().to_xarray()\n",
    "\n",
    "for var in ['SW', 'LW'] :\n",
    "    print(var)\n",
    "    \n",
    "    ## --Full error e(\\theta_0)\n",
    "    mod = p1_amip[var]\n",
    "    observation = obs[var]\n",
    "    diff_p1[var] = MSE(mod, observation, W_rmse_2D)\n",
    "    \n",
    "    ## --Anom and weight\n",
    "    W_eof_2D = np.load(path_files+'npy/W_eof_2D_'+str(var)+'.npy')\n",
    "    X_p1 = p1_amip[var] - Mean[var]\n",
    "    X_p1_w[var] = X_p1*W_eof_2D\n",
    " \n",
    "### --- Precipitation pr \n",
    "\n",
    "var = 'pr'\n",
    "print(var)\n",
    "p1_amip[var] = load_monthly_clim(path, filename, var).groupby(['lat','lon']).mean().to_xarray()\n",
    "    \n",
    "## --Full error e(\\theta_0)\n",
    "mod = p1_amip[var]*86400\n",
    "observation = obs[var]\n",
    "diff_p1[var] = MSE(mod, observation, W_rmse_2D)\n",
    "    \n",
    "## --Anom and weight\n",
    "W_eof_2D = np.load(path_files+'npy/W_eof_2D_'+str(var)+'.npy')\n",
    "X_p1 = p1_amip[var]*86400 - Mean[var]\n",
    "X_p1_w[var] = X_p1*W_eof_2D\n",
    " "
   ]
  },
  {
   "cell_type": "code",
   "execution_count": 38,
   "metadata": {},
   "outputs": [
    {
     "name": "stderr",
     "output_type": "stream",
     "text": [
      "100%|██████████| 5/5 [00:00<00:00, 1970.45it/s]\n"
     ]
    }
   ],
   "source": [
    "lat = X_p1_w['tas']['lat']\n",
    "lon = X_p1_w['tas']['lon']\n",
    "eofs_nb = arange(1,104,1)\n",
    "eofs_xr = {}\n",
    "eofs_combined = {}\n",
    "\n",
    "for var in tqdm(variables) :\n",
    "    eofs_xr[var] = xr.DataArray(eofs[var], \n",
    "                   coords={'eofs': eofs_nb,'lat': lat,'lon': lon}, \n",
    "                   dims=[\"eofs\", \"lat\", \"lon\"])#.to_dataset(name=var)\n",
    "    ## --Combine the modes for reconstruction\n",
    "    eofs_combined[var] = eofs_xr[var]"
   ]
  },
  {
   "cell_type": "markdown",
   "metadata": {},
   "source": [
    "## Analysis of CNRM-CM candidates runs"
   ]
  },
  {
   "cell_type": "code",
   "execution_count": 39,
   "metadata": {},
   "outputs": [],
   "source": [
    "def get_3D_tas_xarr(path, filename, variables):\n",
    "#    “”\"\n",
    "#    This function read the netCDF file of monthly data, compute the radiative budget, perform a yearly mean and \n",
    "#    return a dataframe\n",
    "#    “”\"\n",
    "    # First step : download the data into dataframe\n",
    "    file = xr.open_mfdataset(path+filename,combine='by_coords')\n",
    "    #\n",
    "    # Second step : compute the annual average \n",
    "    df = file[variables].mean('time', keep_attrs=True)\n",
    "    tas = df['tas']\n",
    "    #\n",
    "    return tas"
   ]
  },
  {
   "cell_type": "code",
   "execution_count": 40,
   "metadata": {},
   "outputs": [],
   "source": [
    "def reconstruct_X(eofs_combined, pc, nb_dims) :\n",
    "    X_rec_tmp = np.dot(eofs_combined.transpose(),pc)\n",
    "    if nb_dims == 3 :\n",
    "        X_rec = xr.DataArray(X_rec_tmp, \n",
    "                        dims=[\"lon\", \"lat\", \"time\"]).transpose('time', 'lat', 'lon')\n",
    "    if nb_dims == 2 :\n",
    "        X_rec = xr.DataArray(X_rec_tmp, \n",
    "                        dims=[\"lon\", \"lat\"]).transpose('lat', 'lon')\n",
    "    ## -- Because ARPEGE on Belenos does not have exactly the same grid as ARPEGE on Beaufix \n",
    "    X_rec['lat'] = eofs_combined['lat']\n",
    "    X_rec['lon'] = eofs_combined['lon']\n",
    "    return X_rec"
   ]
  },
  {
   "cell_type": "code",
   "execution_count": 41,
   "metadata": {},
   "outputs": [],
   "source": [
    "nb_p_select = ['p985', 'p986', 'p987', 'p988',\n",
    "              'p989', 'p990', 'p991', 'p992',\n",
    "               'p995', 'p996']"
   ]
  },
  {
   "cell_type": "code",
   "execution_count": 42,
   "metadata": {},
   "outputs": [],
   "source": [
    "# Change Dataset into DataArray\n",
    "\n",
    "obs['psl']= obs['psl']['psl'] \n",
    "obs['SW']= obs['SW']['SW'] \n",
    "obs['LW']= obs['LW']['LW'] "
   ]
  },
  {
   "cell_type": "code",
   "execution_count": 43,
   "metadata": {},
   "outputs": [
    {
     "name": "stderr",
     "output_type": "stream",
     "text": [
      "100%|██████████| 10/10 [00:06<00:00,  1.58it/s]\n"
     ]
    }
   ],
   "source": [
    "## -- CNRM-CM candidates simulations :\n",
    "filename='*_amip_*.nc'\n",
    "amip_select={}\n",
    "path_sel = path_PPE+'ENSEMBLE5/CNRM-CM6-1_amip_PPE_ENSEMBLE5/ESD_2024_select_k_median/select_multi/'\n",
    "\n",
    "for var in variables : \n",
    "    amip_select[var] = {}\n",
    "\n",
    "for p in tqdm(nb_p_select) :\n",
    "    #print(p)\n",
    "    \n",
    "    path=path_sel+'CNRM-CM6-1_amip_r1i1'+p+'f2/'\n",
    "    \n",
    "    ## -- tas \n",
    "    var=['tas']\n",
    "    amip_tmp = get_3D_tas_xarr(path, filename, var)\n",
    "    amip_select[var[0]][p] = amip_tmp\n",
    "    \n",
    "    ## -- pr \n",
    "    var=['pr']\n",
    "    amip_tmp = get_3D_pr_xarr(path, filename, var)\n",
    "    amip_select[var[0]][p] = amip_tmp\n",
    "    \n",
    "    ## -- psl\n",
    "    var=['psl']\n",
    "    amip_tmp = get_3D_psl_xarr(path, filename, var)\n",
    "    amip_select[var[0]][p] = amip_tmp\n",
    "    \n",
    "    ## -- SW \n",
    "    var=['rsdt', 'rsut']\n",
    "    amip_tmp = get_3D_SW_xarr(path, filename, var)\n",
    "    amip_select['SW'][p] = amip_tmp\n",
    "    \n",
    "    ## -- LW \n",
    "    var=['rlut']\n",
    "    amip_tmp = get_3D_LW_xarr(path, filename, var)\n",
    "    amip_select['LW'][p] = amip_tmp"
   ]
  },
  {
   "cell_type": "code",
   "execution_count": 44,
   "metadata": {},
   "outputs": [
    {
     "name": "stderr",
     "output_type": "stream",
     "text": [
      "100%|██████████| 5/5 [00:00<00:00, 20.12it/s]\n"
     ]
    }
   ],
   "source": [
    "## --Reconstruct observations \n",
    "X_obs_rec = {}\n",
    "U_obs = {}\n",
    "cpt=0\n",
    "for var in tqdm(variables) :\n",
    "    trunc = truncations[cpt]\n",
    "    \n",
    "    ## -- Project :\n",
    "    X_obs_w = (obs[var] - Mean[var])*W_eof_2D\n",
    "    U_obs[var] = solver[var].projectField(X_obs_w, weighted=False, \n",
    "                                             eofscaling=1)\n",
    "    \n",
    "    ## --Reconstruct :\n",
    "    X_obs_rec[var] = reconstruct_X(eofs_combined[var][0:trunc,:,:], pc=U_obs[var][0:trunc], \n",
    "                                      nb_dims=2)\n",
    "    cpt+=1"
   ]
  },
  {
   "cell_type": "code",
   "execution_count": 45,
   "metadata": {},
   "outputs": [
    {
     "name": "stderr",
     "output_type": "stream",
     "text": [
      "100%|██████████| 5/5 [00:04<00:00,  1.01it/s]\n"
     ]
    }
   ],
   "source": [
    "## --Analysis of the candidates  :\n",
    "e_sel = {}\n",
    "U_sel = {}\n",
    "X_sel_rec = {}\n",
    "p_sel = {}\n",
    "cpt=0\n",
    "\n",
    "for var in tqdm(variables) :\n",
    "    #print(var)\n",
    "\n",
    "    e_sel_list = []\n",
    "    U_sel_list = []\n",
    "    X_sel_rec_list = []\n",
    "    p_sel_list = []\n",
    "    \n",
    "    trunc = truncations[cpt]\n",
    "    \n",
    "    for p in nb_p_select :\n",
    "        \n",
    "        X_sel = amip_select[var][p]\n",
    "        #print(X_sel)\n",
    "        \n",
    "        ## -- Because ARPEGE on Belenos does not have exactly the same grid as ARPEGE on Beaufix :\n",
    "        X_sel['lat'] = eofs_combined[var]['lat']\n",
    "        X_sel['lon'] = eofs_combined[var]['lon']\n",
    "          \n",
    "        ## -- Full error MSE : \n",
    "        e_sel_tmp = MSE(X_sel, obs[var], W_rmse_2D)\n",
    "        e_sel_list.append(e_sel_tmp)\n",
    "    \n",
    "        ## -- Project the candidates :\n",
    "        X_sel_w = (X_sel - Mean[var])*W_eof_2D\n",
    "        U_sel_tmp = solver[var].projectField(X_sel_w, weighted=False, \n",
    "                                             eofscaling=1)\n",
    "        U_sel_list.append(U_sel_tmp)\n",
    "    \n",
    "        ## --Reconstruct the candidates :\n",
    "        X_sel_rec_tmp = reconstruct_X(eofs_combined[var][0:trunc,:,:], pc=U_sel_tmp[0:trunc], \n",
    "                                      nb_dims=2)\n",
    "        X_sel_rec_list.append(X_sel_rec_tmp)\n",
    "    \n",
    "        ## -- Parametric errors RMSE_rec : \n",
    "        p_sel_tmp = MSE_rec(X_sel_rec_tmp, X_obs_rec[var], Mean[var], W_rmse_2D)\n",
    "        p_sel_list.append(float(p_sel_tmp))\n",
    "        \n",
    "        ## -- Non-parametric error :\n",
    "    \n",
    "    e_sel[var] = e_sel_list\n",
    "    U_sel[var] = U_sel_list\n",
    "    X_sel_rec[var] = X_sel_rec_list\n",
    "    p_sel[var] = p_sel_list\n",
    "    cpt+=1"
   ]
  },
  {
   "cell_type": "code",
   "execution_count": 46,
   "metadata": {},
   "outputs": [
    {
     "name": "stderr",
     "output_type": "stream",
     "text": [
      "100%|██████████| 5/5 [00:00<00:00, 49.03it/s]\n"
     ]
    }
   ],
   "source": [
    "## -- Faire DataFrame :\n",
    "df_sel = {}\n",
    "cpt=0\n",
    "for var in tqdm(variables) :\n",
    "    df_sel[var] = pd.DataFrame([None]*len(p_sel[var]), columns= ['index'])\n",
    "    U_sel_list = {}\n",
    "    trunc = truncations[cpt]\n",
    "    for mode_nb in range(0,trunc,1) :\n",
    "        U_sel_list = []\n",
    "        for cand_nb in range(0,len(p_sel[var]),1) :\n",
    "            tmp = float(U_sel[var][cand_nb][mode_nb])\n",
    "            U_sel_list.append(tmp)\n",
    "        \n",
    "        df_sel[var]['EOF '+str(mode_nb+1)] = U_sel_list\n",
    "    \n",
    "    df_sel[var]['p'] = p_sel[var]\n",
    "    cpt+=1"
   ]
  },
  {
   "cell_type": "markdown",
   "metadata": {},
   "source": [
    "# Analysis CNRM-CM candidates"
   ]
  },
  {
   "cell_type": "code",
   "execution_count": 47,
   "metadata": {},
   "outputs": [],
   "source": [
    "def diff_3D_rec(rec_anom_mod_w, rec_anom_obs_w, Mean, W_rmse_2D) :\n",
    "    \n",
    "    mod = rec_anom_mod_w/W_eof_2D + Mean\n",
    "    obs = rec_anom_obs_w/W_eof_2D + Mean\n",
    "    diff = mod - obs\n",
    "    \n",
    "    return diff\n",
    "    "
   ]
  },
  {
   "cell_type": "code",
   "execution_count": 48,
   "metadata": {},
   "outputs": [
    {
     "name": "stderr",
     "output_type": "stream",
     "text": [
      "100%|██████████| 5/5 [00:09<00:00,  1.86s/it]\n"
     ]
    }
   ],
   "source": [
    "## --Analysis of the candidates  :\n",
    "e_diff = {}\n",
    "u_diff = {}\n",
    "p_diff = {}\n",
    "e_sel = {}\n",
    "u_sel = {}\n",
    "cpt=0\n",
    "\n",
    "for var in tqdm(variables) :\n",
    "    #print(var)\n",
    "\n",
    "    e_diff_list = []\n",
    "    u_diff_list = []\n",
    "    p_diff_list = []\n",
    "    e_sel_list = []\n",
    "    u_sel_list = []\n",
    "    \n",
    "    trunc = truncations[cpt]\n",
    "    \n",
    "    for p in nb_p_select :\n",
    "        \n",
    "        X_sel = amip_select[var][p]\n",
    "        #print(X_sel)\n",
    "        \n",
    "        ## -- Because ARPEGE on Belenos does not have exactly the same grid as ARPEGE on Beaufix :\n",
    "        X_sel['lat'] = eofs_combined[var]['lat']\n",
    "        X_sel['lon'] = eofs_combined[var]['lon']\n",
    "          \n",
    "        ## -- 3D full error [obs - mod]\n",
    "        e_diff_tmp = (X_sel - obs[var])\n",
    "        e_diff_list.append(e_diff_tmp)\n",
    "    \n",
    "         ## -- Project the candidates :\n",
    "        X_sel_w = (X_sel - Mean[var])*W_eof_2D\n",
    "            \n",
    "        U_sel = solver[var].projectField(X_sel_w, weighted=False, eofscaling=1)\n",
    "    \n",
    "        ## --Reconstruct the candidates :\n",
    "        X_sel_rec = reconstruct_X(eofs_combined[var][0:trunc,:,:], pc=U_sel[0:trunc], nb_dims=2)\n",
    "    \n",
    "        ## -- 3D p error [X_obs_rec - X_mod_rec]\n",
    "        p_diff_tmp = diff_3D_rec(X_sel_rec, X_obs_rec[var], Mean[var], W_rmse_2D)\n",
    "        p_diff_list.append(p_diff_tmp)\n",
    "    \n",
    "        ## -- 3D u error [e - p]\n",
    "        u_diff_tmp = (e_diff_tmp - p_diff_tmp)\n",
    "        u_diff_list.append(u_diff_tmp)\n",
    "        \n",
    "        ## -- Compute integrated metrics \n",
    "    \n",
    "        ## -- Compute RMSE \n",
    "        e = MSE(X_sel, obs[var], W_rmse_2D)\n",
    "        #print(float(e))\n",
    "        e_sel_list.append(float(e))\n",
    "        \n",
    "        ## - non-param. error u(\\theta_0)\n",
    "        diff = u_diff_tmp**2 * W_rmse_2D\n",
    "        u = (diff.sum(['lat', 'lon']))\n",
    "        u_sel_list.append(float(u))\n",
    "    \n",
    "    e_diff[var] = e_diff_list\n",
    "    #print(e_diff[var])\n",
    "    u_diff[var] = u_diff_list\n",
    "    p_diff[var] = p_diff_list\n",
    "    e_sel[var] = e_sel_list\n",
    "    u_sel[var] = u_sel_list\n",
    "    df_sel[var]['e'] = e_sel_list\n",
    "    df_sel[var]['u'] = u_sel_list\n",
    "    cpt+=1"
   ]
  },
  {
   "cell_type": "code",
   "execution_count": 49,
   "metadata": {},
   "outputs": [],
   "source": [
    "## -- p1 reference CNRM-CM6-1\n",
    "\n",
    "## -- convert p1_amip['pr'] en mm/day\n",
    "p1_amip['pr'] = p1_amip['pr']*86400"
   ]
  },
  {
   "cell_type": "code",
   "execution_count": 50,
   "metadata": {},
   "outputs": [
    {
     "name": "stderr",
     "output_type": "stream",
     "text": [
      "100%|██████████| 5/5 [00:00<00:00, 18.96it/s]\n"
     ]
    }
   ],
   "source": [
    "## -- p1 reference CNRM-CM6-1\n",
    "\n",
    "X_p1_rec = {}\n",
    "e_diff_p1 = {}\n",
    "e_p1 = {}\n",
    "p_p1 = {}\n",
    "u_p1 = {}\n",
    "U_p1 = {}\n",
    "p_diff_p1 = {}\n",
    "u_diff_p1 = {}\n",
    "cpt = 0\n",
    "\n",
    "for var in tqdm(variables) :\n",
    "    #print(var)\n",
    "    trunc = truncations[cpt]\n",
    "\n",
    "    ## -- 3D full error [obs - mod]\n",
    "    e_diff_p1[var] = (p1_amip[var] - obs[var])\n",
    "\n",
    "    ## -- Project \n",
    "    X_sel = p1_amip[var]\n",
    "    X_p1 = X_sel - Mean[var]\n",
    "    X_p1_w = X_p1*W_eof_2D\n",
    "    U_p1[var] = solver[var].projectField(X_p1_w[var], weighted=False, eofscaling=1)\n",
    "\n",
    "    ## --Reconstruct \n",
    "    X_p1_rec[var] = reconstruct_X(eofs_combined[var][0:trunc,:,:], pc=U_p1[var][0:trunc], \n",
    "                                  nb_dims=2)\n",
    "\n",
    "    ## -- 3D p error [X_obs_rec - X_mod_rec]\n",
    "    p_diff_p1[var] = diff_3D_rec(X_p1_rec[var], X_obs_rec[var], Mean[var], W_rmse_2D)\n",
    "\n",
    "    ## -- 3D u error [e - p]\n",
    "    u_diff_p1[var] = (e_diff_p1[var] - p_diff_p1[var])\n",
    "    \n",
    "    ## - integrated metric \n",
    "    e = MSE(X_sel, obs[var], W_rmse_2D)\n",
    "    e_p1[var] = float(e[var])\n",
    "\n",
    "    ## --Param. error p(\\theta_0)\n",
    "    p = MSE_rec(X_p1_rec[var], X_obs_rec[var], Mean[var], W_rmse_2D)\n",
    "    p_p1[var] = float(p)\n",
    "    #print(e_p1[var])\n",
    "    \n",
    "    ## - non-param. error u(\\theta_0)\n",
    "    diff = u_diff_p1[var]**2 * W_rmse_2D\n",
    "    u = (diff.sum(['lat', 'lon']))\n",
    "    u_p1[var] = float(u[var])\n",
    "    \n",
    "    cpt+=1"
   ]
  },
  {
   "cell_type": "code",
   "execution_count": 51,
   "metadata": {},
   "outputs": [
    {
     "data": {
      "text/plain": [
       "[1.5606254946422948,\n",
       " 1.0925449368280662,\n",
       " 1.3250530611876994,\n",
       " 1.4449206449947396,\n",
       " 1.0093784926894531,\n",
       " 1.100022182696187,\n",
       " 1.254197674881972,\n",
       " 1.395038343531611,\n",
       " 1.2910080511008961,\n",
       " 1.0554792716048138]"
      ]
     },
     "execution_count": 51,
     "metadata": {},
     "output_type": "execute_result"
    }
   ],
   "source": [
    "## -- e_tot\n",
    "e_tot = []\n",
    "for i in range(0,len(p_sel[var]), 1) :\n",
    "    s = 0\n",
    "    for var in variables :\n",
    "        s = s + e_sel[var][i]/e_p1[var] \n",
    "    e = s/len(variables)\n",
    "    e_tot.append(float(e))\n",
    "e_tot"
   ]
  },
  {
   "cell_type": "markdown",
   "metadata": {},
   "source": [
    "## GMMIP"
   ]
  },
  {
   "cell_type": "code",
   "execution_count": 52,
   "metadata": {},
   "outputs": [],
   "source": [
    "def get_3D_tas_xarr_gmmip(path, filename, variables):\n",
    "#    “”\"\n",
    "#    This function read the netCDF file of monthly data, compute the radiative budget, perform a yearly mean and \n",
    "#    return a dataframe\n",
    "#    “”\"\n",
    "    # First step : download the data into dataframe\n",
    "    file = xr.open_mfdataset(path+filename, combine='nested', concat_dim='member')\n",
    "    #\n",
    "    # Second step : compute the annual average \n",
    "    df = file[variables].mean('time', keep_attrs=True)#.rename({'member' : 'time'})\n",
    "    tas = df['tas']\n",
    "    #\n",
    "    return tas\n",
    "\n",
    "def get_3D_pr_xarr_gmmip(path, filename, variables):\n",
    "\n",
    "    # First step : download the data into dataframe\n",
    "    file = xr.open_mfdataset(path+filename, combine='nested', concat_dim='member')\n",
    "    #\n",
    "    # Second step : compute the annual average \n",
    "    df = file[variables].mean('time', keep_attrs=True)#.rename({'member' : 'time'})\n",
    "    pr = df['pr']*86400 \n",
    "    #\n",
    "    return pr\n",
    "\n",
    "def get_3D_psl_xarr_gmmip(path, filename, variables):\n",
    "\n",
    "    # First step : download the data into dataframe\n",
    "    file = xr.open_mfdataset(path+filename, combine='nested', concat_dim='member')\n",
    "    #\n",
    "    # Second step : compute the annual average \n",
    "    df = file[variables].mean('time', keep_attrs=True)#.rename({'member' : 'time'})\n",
    "    psl = df['psl']\n",
    "    \n",
    "    return psl\n",
    "\n",
    "def get_3D_LW_xarr_gmmip(path, filename, variables):\n",
    "\n",
    "    # First step : download the data into dataframe\n",
    "    file = xr.open_mfdataset(path+filename, combine='nested', concat_dim='member')\n",
    "    #\n",
    "    # Second step : compute the annual average \n",
    "    df = file[variables].mean('time', keep_attrs=True)#.rename({'member' : 'time'})\n",
    "    LW = df['rlut']\n",
    "    \n",
    "    return LW\n",
    "\n",
    "def get_3D_SW_xarr_gmmip(path, filename, variables):\n",
    "\n",
    "    # First step : download the data into dataframe\n",
    "    file = xr.open_mfdataset(path+filename, combine='nested', concat_dim='member')\n",
    "    #\n",
    "    # Second step : compute the annual average \n",
    "    df = file[variables].mean('time', keep_attrs=True)#.rename({'member' : 'time'})\n",
    "    SW = df[variables]\n",
    "    \n",
    "    return SW"
   ]
  },
  {
   "cell_type": "code",
   "execution_count": 53,
   "metadata": {
    "scrolled": true
   },
   "outputs": [],
   "source": [
    "## -- pour GMMIP\n",
    "path_CMIP6 = '/data/scratch/globc/peatier/CMIP/ESGF_download_wget/model_outputs/CMIP6/'\n",
    "path_GMMIP = path_CMIP6+'CNRM-CM6-1/GMMIP/CNRM/'\n",
    "filename = '*_Amon*.nc'\n",
    "gmmip = {}\n",
    "\n",
    "## -- tas \n",
    "variables=['tas']\n",
    "var ='tas'\n",
    "filename = var+'*_Amon*.nc'\n",
    "path = path_GMMIP+var+'/'\n",
    "gmmip[var] = get_3D_tas_xarr_gmmip(path, filename, variables)\n",
    "#print(gmmip[var])\n",
    "    \n",
    "## -- pr \n",
    "variables = ['pr']\n",
    "var = 'pr'\n",
    "filename = var+'*_Amon*.nc'\n",
    "path = path_GMMIP+var+'/'\n",
    "gmmip[var] = get_3D_pr_xarr_gmmip(path, filename, variables)\n",
    "#print(gmmip[var])\n",
    "    \n",
    "## -- psl\n",
    "variables = ['psl']\n",
    "var = 'psl'\n",
    "filename = var+'*_Amon*.nc'\n",
    "path = path_GMMIP+var+'/'\n",
    "gmmip[var] = get_3D_psl_xarr_gmmip(path, filename, variables)\n",
    "#print(gmmip[var])\n",
    "    \n",
    "## -- SW \n",
    "variables = ['rsdt', 'rsut']\n",
    "var = 'SW'\n",
    "path = path_GMMIP+var+'/'\n",
    "\n",
    "filename = variables[0]+'*_Amon*.nc'\n",
    "amip_tmp1 = get_3D_SW_xarr_gmmip(path, filename, [variables[0]])\n",
    "\n",
    "filename = variables[1]+'*_Amon*.nc'\n",
    "amip_tmp2 = get_3D_SW_xarr_gmmip(path, filename, [variables[1]])\n",
    "\n",
    "SW = amip_tmp2['rsut']# - amip_tmp1['rsdt']\n",
    "\n",
    "gmmip[var] = SW\n",
    "#print(gmmip[var])\n",
    "    \n",
    "## -- LW \n",
    "variables = ['rlut']\n",
    "var = 'LW'\n",
    "path = path_GMMIP+var+'/'\n",
    "filename = variables[0]+'*_Amon*.nc'\n",
    "gmmip[var] = get_3D_LW_xarr_gmmip(path, filename, variables)\n",
    "#print(gmmip[var])"
   ]
  },
  {
   "cell_type": "code",
   "execution_count": 54,
   "metadata": {},
   "outputs": [
    {
     "name": "stderr",
     "output_type": "stream",
     "text": [
      "100%|██████████| 5/5 [00:04<00:00,  1.18it/s]\n"
     ]
    }
   ],
   "source": [
    "## --Analysis of the candidates  :\n",
    "e_diff_gmmip = {}\n",
    "u_diff_gmmip = {}\n",
    "p_diff_gmmip = {}\n",
    "e_gmmip = {}\n",
    "u_gmmip = {}\n",
    "cpt=0\n",
    "\n",
    "variables = ['tas', 'pr', 'psl', 'SW', 'LW']\n",
    "\n",
    "for var in tqdm(variables) :\n",
    "    \n",
    "    #print(var)\n",
    "\n",
    "    e_diff_list = []\n",
    "    u_diff_list = []\n",
    "    p_diff_list = []\n",
    "    e_sel_list = []\n",
    "    u_sel_list = []\n",
    "    \n",
    "    trunc = truncations[cpt]\n",
    "    if var=='psl':\n",
    "        list_mb = [0,1,2,3,4,5,6,7]\n",
    "    else : \n",
    "        list_mb = [0,1,3,4,5,6,7,8]\n",
    "    \n",
    "    for i in list_mb :\n",
    "        \n",
    "        X_sel = gmmip[var][i,:,:]\n",
    "        #print(X_sel)\n",
    "        \n",
    "        ## -- Because ARPEGE on Belenos does not have exactly the same grid as ARPEGE on Beaufix :\n",
    "        X_sel['lat'] = eofs_combined[var]['lat']\n",
    "        X_sel['lon'] = eofs_combined[var]['lon']\n",
    "          \n",
    "        ## -- 3D full error [obs - mod]\n",
    "        e_diff_tmp = (X_sel - obs[var])\n",
    "        e_diff_list.append(e_diff_tmp)\n",
    "    \n",
    "         ## -- Project the candidates :\n",
    "        X_sel_w = (X_sel - Mean[var])*W_eof_2D\n",
    "        U_sel = solver[var].projectField(X_sel_w, weighted=False, eofscaling=1)\n",
    "    \n",
    "        ## --Reconstruct the candidates :\n",
    "        X_sel_rec = reconstruct_X(eofs_combined[var][0:trunc,:,:], pc=U_sel[0:trunc], nb_dims=2)\n",
    "    \n",
    "        ## -- 3D p error [X_obs_rec - X_mod_rec]\n",
    "        p_diff_tmp = diff_3D_rec(X_sel_rec, X_obs_rec[var], Mean[var], W_rmse_2D)\n",
    "        p_diff_list.append(p_diff_tmp)\n",
    "    \n",
    "        ## -- 3D u error [e - p]\n",
    "        u_diff_tmp = (e_diff_tmp - p_diff_tmp)\n",
    "        u_diff_list.append(u_diff_tmp)\n",
    "        \n",
    "        ## -- Compute integrated metrics \n",
    "    \n",
    "        ## -- Compute RMSE \n",
    "        e = MSE(X_sel, obs[var], W_rmse_2D)\n",
    "        #print(float(e))\n",
    "        e_sel_list.append(float(e))\n",
    "        \n",
    "        ## - non-param. error u(\\theta_0)\n",
    "        diff = u_diff_tmp**2 * W_rmse_2D\n",
    "        u = (diff.sum(['lat', 'lon']))\n",
    "        u_sel_list.append(float(u))\n",
    "    \n",
    "    e_diff_gmmip[var] = e_diff_list\n",
    "    #print(e_diff[var])\n",
    "    u_diff_gmmip[var] = u_diff_list\n",
    "    p_diff_gmmip[var] = p_diff_list\n",
    "    e_gmmip[var] = e_sel_list\n",
    "    u_gmmip[var] = u_sel_list\n",
    "    #df_gmmip[var]['e'] = e_sel_list\n",
    "    #df_gmmip[var]['u'] = u_sel_list\n",
    "    cpt+=1"
   ]
  },
  {
   "cell_type": "code",
   "execution_count": 55,
   "metadata": {},
   "outputs": [
    {
     "data": {
      "text/plain": [
       "[1.0770537818633361,\n",
       " 1.012959405692912,\n",
       " 1.0922857438637594,\n",
       " 1.0395857824558874,\n",
       " 1.03073560027723,\n",
       " 1.047179363858387,\n",
       " 1.0171217014676521,\n",
       " 1.0467938290808887]"
      ]
     },
     "execution_count": 55,
     "metadata": {},
     "output_type": "execute_result"
    }
   ],
   "source": [
    "## --- etot GMMIP \n",
    "\n",
    "e_tot_gmmip = []\n",
    "for i in [0,1,2,3,4,5,6,7] :\n",
    "    s = 0\n",
    "    for var in variables :\n",
    "        s = s + e_gmmip[var][i]/e_p1[var] \n",
    "    e = s/len(variables)\n",
    "    e_tot_gmmip.append(e)\n",
    "e_tot_gmmip"
   ]
  },
  {
   "cell_type": "markdown",
   "metadata": {},
   "source": [
    "## Full PPE"
   ]
  },
  {
   "cell_type": "code",
   "execution_count": 56,
   "metadata": {},
   "outputs": [
    {
     "data": {
      "text/plain": [
       "102"
      ]
     },
     "execution_count": 56,
     "metadata": {},
     "output_type": "execute_result"
    }
   ],
   "source": [
    "nb_p_list = ['p311', 'p312', 'p314', 'p316',\n",
    "                    'p317', 'p319', 'p320', 'p321', 'p322', 'p324', 'p325', 'p326', \n",
    "                    'p329', 'p330', 'p331', 'p332', 'p335', 'p336', 'p337' ,'p338', \n",
    "                    'p340', 'p341', 'p343', 'p344', 'p346', 'p347', 'p348', 'p349', \n",
    "                    'p350', 'p353', 'p355', 'p357', 'p359', 'p360', \n",
    "                    'p361', 'p363', 'p365', 'p367', 'p368', 'p369', \n",
    "                    'p372', 'p373', 'p374', 'p375', 'p376', 'p378', 'p381', 'p382', \n",
    "                    'p384', 'p386', 'p388', 'p389', 'p391', 'p392', 'p393', \n",
    "                    'p394', 'p395', 'p396', 'p398', 'p399', 'p400', 'p404', \n",
    "                    'p406', 'p407', 'p409', 'p410', 'p411', 'p412',\n",
    "                    'p414','p416',\n",
    "                    'p413','p419','p424','p426','p428','p421','p423',\n",
    "                    'p425','p427','p429','p430','p436','p438','p431','p433',\n",
    "                    'p442','p446','p443','p445','p447',\n",
    "                    'p452','p454','p456','p458','p457','p459',\n",
    "                    'p460','p465','p467','p469',\n",
    "                    'p470','p471']\n",
    "\n",
    "len(nb_p_list)"
   ]
  },
  {
   "cell_type": "code",
   "execution_count": 57,
   "metadata": {},
   "outputs": [
    {
     "name": "stderr",
     "output_type": "stream",
     "text": [
      "100%|██████████| 102/102 [07:19<00:00,  4.31s/it]\n"
     ]
    }
   ],
   "source": [
    "# PPE amip simulations \n",
    "filename='*_amip_*.nc'\n",
    "N=len(nb_p_list)\n",
    "amip_PPE = {}\n",
    "amip_tas = []\n",
    "amip_pr = []\n",
    "amip_psl = []\n",
    "amip_SW = []\n",
    "amip_LW = []\n",
    "\n",
    "for nb_p in tqdm(nb_p_list) :\n",
    "    #print(nb_p)\n",
    "    path = path_PPE+'ENSEMBLE2/CNRM-CM6-1_amip_LHS500_PPE/CNRM-CM6-1_amip_r1i1'+str(nb_p)+'f2/'\n",
    "    amip_tas.append(get_3D_tas_xarr(path, filename, ['tas']))\n",
    "    amip_pr.append(get_3D_pr_xarr(path, filename, ['pr']))\n",
    "    amip_psl.append(get_3D_psl_xarr(path, filename, ['psl']))\n",
    "    amip_SW.append(get_3D_SW_xarr(path, filename, var_ceres))\n",
    "    amip_LW.append(get_3D_LW_xarr(path, filename, var_ceres))\n",
    "\n",
    "amip_PPE[variables[0]] = amip_tas\n",
    "amip_PPE[variables[1]] = amip_pr\n",
    "amip_PPE[variables[2]] = amip_psl\n",
    "amip_PPE[variables[3]] = amip_SW\n",
    "amip_PPE[variables[4]] = amip_LW"
   ]
  },
  {
   "cell_type": "code",
   "execution_count": 58,
   "metadata": {},
   "outputs": [
    {
     "name": "stderr",
     "output_type": "stream",
     "text": [
      "100%|██████████| 5/5 [00:01<00:00,  4.82it/s]\n"
     ]
    }
   ],
   "source": [
    "matrix = {}\n",
    "\n",
    "for var in tqdm(variables) :\n",
    "    matrix[var] = xr.combine_nested(amip_PPE[var], concat_dim=['time'])"
   ]
  },
  {
   "cell_type": "code",
   "execution_count": 59,
   "metadata": {},
   "outputs": [
    {
     "name": "stderr",
     "output_type": "stream",
     "text": [
      "100%|██████████| 5/5 [01:51<00:00, 22.24s/it]\n"
     ]
    }
   ],
   "source": [
    "## --Analysis of the candidates  :\n",
    "e_diff_ppe = {}\n",
    "u_diff_ppe = {}\n",
    "p_diff_ppe = {}\n",
    "e_ppe = {}\n",
    "u_ppe = {}\n",
    "cpt=0\n",
    "\n",
    "variables = ['tas', 'pr', 'psl', 'SW', 'LW']\n",
    "\n",
    "for var in tqdm(variables) :\n",
    "    \n",
    "    #print(var)\n",
    "\n",
    "    e_diff_list = []\n",
    "    u_diff_list = []\n",
    "    p_diff_list = []\n",
    "    e_sel_list = []\n",
    "    u_sel_list = []\n",
    "    \n",
    "    trunc = truncations[cpt]\n",
    "\n",
    "    list_mb = range(0,102,1)\n",
    "    \n",
    "    for i in list_mb :\n",
    "        #print(i)\n",
    "        \n",
    "        X_sel = matrix[var][i,:,:]\n",
    "        #print(X_sel)\n",
    "        \n",
    "        ## -- Because ARPEGE on Belenos does not have exactly the same grid as ARPEGE on Beaufix :\n",
    "        X_sel['lat'] = eofs_combined[var]['lat']\n",
    "        X_sel['lon'] = eofs_combined[var]['lon']\n",
    "          \n",
    "        ## -- 3D full error [obs - mod]\n",
    "        e_diff_tmp = (X_sel - obs[var])\n",
    "        e_diff_list.append(e_diff_tmp)\n",
    "    \n",
    "         ## -- Project the candidates :\n",
    "        X_sel_w = (X_sel - Mean[var])*W_eof_2D\n",
    "        U_sel = solver[var].projectField(X_sel_w, weighted=False, eofscaling=1)\n",
    "    \n",
    "        ## --Reconstruct the candidates :\n",
    "        X_sel_rec = reconstruct_X(eofs_combined[var][0:trunc,:,:], pc=U_sel[0:trunc], nb_dims=2)\n",
    "    \n",
    "        ## -- 3D p error [X_obs_rec - X_mod_rec]\n",
    "        p_diff_tmp = diff_3D_rec(X_sel_rec, X_obs_rec[var], Mean[var], W_rmse_2D)\n",
    "        p_diff_list.append(p_diff_tmp)\n",
    "    \n",
    "        ## -- 3D u error [e - p]\n",
    "        u_diff_tmp = (e_diff_tmp - p_diff_tmp)\n",
    "        u_diff_list.append(u_diff_tmp)\n",
    "        \n",
    "        ## -- Compute integrated metrics \n",
    "    \n",
    "        ## -- Compute RMSE \n",
    "        e = MSE(X_sel, obs[var], W_rmse_2D)\n",
    "        #print(float(e))\n",
    "        e_sel_list.append(float(e))\n",
    "        \n",
    "        ## - non-param. error u(\\theta_0)\n",
    "        diff = u_diff_tmp**2 * W_rmse_2D\n",
    "        u = (diff.sum(['lat', 'lon']))\n",
    "        u_sel_list.append(float(u))\n",
    "    \n",
    "    e_diff_ppe[var] = e_diff_list\n",
    "    #print(e_diff[var])\n",
    "    u_diff_ppe[var] = u_diff_list\n",
    "    p_diff_ppe[var] = p_diff_list\n",
    "    e_ppe[var] = e_sel_list\n",
    "    u_ppe[var] = u_sel_list\n",
    "    #df_gmmip[var]['e'] = e_sel_list\n",
    "    #df_gmmip[var]['u'] = u_sel_list\n",
    "    cpt+=1"
   ]
  },
  {
   "cell_type": "code",
   "execution_count": 60,
   "metadata": {},
   "outputs": [],
   "source": [
    "## --- etot PPE\n",
    "list_mb = range(0,102,1)\n",
    "e_tot_ppe = []\n",
    "for i in list_mb :\n",
    "    s = 0\n",
    "    for var in variables :\n",
    "        s = s + e_ppe[var][i]/e_p1[var] \n",
    "    e = s/len(variables)\n",
    "    e_tot_ppe.append(e)\n",
    "#e_tot_ppe"
   ]
  },
  {
   "cell_type": "markdown",
   "metadata": {},
   "source": [
    "## Multi-model CMIP6"
   ]
  },
  {
   "cell_type": "code",
   "execution_count": 61,
   "metadata": {},
   "outputs": [],
   "source": [
    "mod_list=['GFDL-CM4', \n",
    "'GFDL-AM4', \n",
    "'GISS-E2-1-G', \n",
    "'IPSL-CM6A-LR', \n",
    "'MIROC6', \n",
    "'BCC-CSM2-MR', \n",
    "'BCC-ESM1', \n",
    "'CESM2', \n",
    "'CESM2-WACCM', \n",
    "'MRI-ESM2-0', \n",
    "'SAM0-UNICON', \n",
    "'FGOALS-f3-L', \n",
    "'CanESM5', \n",
    "'INM-CM4-8', \n",
    "'INM-CM5-0', \n",
    "'MPI-ESM-1-2-HAM', \n",
    "'CAMS-CSM1-0', \n",
    "'MPI-ESM1-2-HR', \n",
    "'NESM3', \n",
    "'KACE-1-0-G', \n",
    "'MPI-ESM1-2-LR', \n",
    "'NorESM2-LM', \n",
    "'E3SM-1-0', \n",
    "'NorCPM1',  \n",
    "'FGOALS-g3', \n",
    "'ACCESS-ESM1-5', \n",
    "'TaiESM1', \n",
    "'EC-Earth3',  \n",
    "'EC-Earth3-Veg', \n",
    "'CAS-ESM2-0',  \n",
    "'CIESM', \n",
    "'CMCC-CM2-SR5', \n",
    "'EC-Earth3-AerChem', \n",
    "'IITM-ESM',\n",
    "'CNRM-CM6-1',\n",
    "'CNRM-ESM2-1',\n",
    "'UKESM1-0-LL',\n",
    "'HadGEM3-GC31-MM', \n",
    "'GISS-E2-2-G', \n",
    "'HadGEM3-GC31-LL', \n",
    "'MIROC-ES2L']"
   ]
  },
  {
   "cell_type": "code",
   "execution_count": 62,
   "metadata": {},
   "outputs": [
    {
     "name": "stderr",
     "output_type": "stream",
     "text": [
      "100%|██████████| 41/41 [00:11<00:00,  3.70it/s]\n"
     ]
    }
   ],
   "source": [
    "## -- pour CMIP6\n",
    "path_CMIP = '/data/scratch/globc/peatier/CMIP/ESGF_download_wget/model_outputs/CMIP6/'\n",
    "filename = 'standard_*_regrid.nc'\n",
    "cmip = {}\n",
    "cmip_tas = []\n",
    "cmip_pr = []\n",
    "cmip_psl = []\n",
    "cmip_SW = []\n",
    "cmip_LW = []\n",
    "\n",
    "for mod in tqdm(mod_list) :\n",
    "    #print(mod)\n",
    "\n",
    "    ## -- tas \n",
    "    variables=['tas']\n",
    "    var ='tas'\n",
    "    path = path_CMIP+mod+'/'+var+'/'\n",
    "    x = get_3D_tas_xarr_gmmip(path, filename, variables)\n",
    "    cmip_tas.append(x)\n",
    "    \n",
    "    ## -- pr \n",
    "    variables = ['pr']\n",
    "    var = 'pr'\n",
    "    path = path_CMIP+mod+'/'+var+'/'\n",
    "    x = get_3D_pr_xarr_gmmip(path, filename, variables)\n",
    "    cmip_pr.append(x)\n",
    "    \n",
    "    ## -- psl\n",
    "    variables = ['psl']\n",
    "    var = 'psl'\n",
    "    path = path_CMIP+mod+'/'+var+'/'\n",
    "    x = get_3D_psl_xarr_gmmip(path, filename, variables)\n",
    "    cmip_psl.append(x)\n",
    "    \n",
    "    ## -- SW \n",
    "    variables = ['rsdt', 'rsut']\n",
    "    var = 'SW'\n",
    "\n",
    "    path = path_CMIP+mod+'/'+variables[0]+'/'\n",
    "    amip_tmp1 = get_3D_SW_xarr_gmmip(path, filename, [variables[0]])\n",
    "\n",
    "    path = path_CMIP+mod+'/'+variables[1]+'/'\n",
    "    amip_tmp2 = get_3D_SW_xarr_gmmip(path, filename, [variables[1]])\n",
    "\n",
    "    SW = amip_tmp2['rsut']# - amip_tmp1['rsdt']\n",
    "\n",
    "    cmip_SW.append(SW)\n",
    "    \n",
    "    ## -- LW \n",
    "    variables = ['rlut']\n",
    "    var = 'LW'\n",
    "    path = path_CMIP+mod+'/'+variables[0]+'/'\n",
    "    x = get_3D_LW_xarr_gmmip(path, filename, variables)\n",
    "    cmip_LW.append(x)\n",
    "\n",
    "cmip['tas'] = cmip_tas\n",
    "cmip['pr'] = cmip_pr\n",
    "cmip['psl'] = cmip_psl\n",
    "cmip['SW'] = cmip_SW\n",
    "cmip['LW'] = cmip_LW"
   ]
  },
  {
   "cell_type": "code",
   "execution_count": 63,
   "metadata": {},
   "outputs": [
    {
     "name": "stderr",
     "output_type": "stream",
     "text": [
      "100%|██████████| 5/5 [00:20<00:00,  4.04s/it]\n"
     ]
    }
   ],
   "source": [
    "## --Analysis of the CMIP6 models  :\n",
    "e_diff_cmip = {}\n",
    "u_diff_cmip = {}\n",
    "p_diff_cmip = {}\n",
    "e_cmip = {}\n",
    "u_cmip = {}\n",
    "cpt=0\n",
    "\n",
    "variables = ['tas', 'pr', 'psl', 'SW', 'LW']\n",
    "\n",
    "for var in tqdm(variables):\n",
    "    \n",
    "    #print(var)\n",
    "\n",
    "    e_diff_list = []\n",
    "    u_diff_list = []\n",
    "    p_diff_list = []\n",
    "    e_sel_list = []\n",
    "    u_sel_list = []\n",
    "    \n",
    "    trunc = truncations[cpt]\n",
    "    list_mb = range(0,len(mod_list),1)\n",
    "    \n",
    "    for i in list_mb :\n",
    "        \n",
    "        X_sel = cmip[var][i][0,:,:]\n",
    "        #print(X_sel)\n",
    "        \n",
    "        ## -- Because ARPEGE on Belenos does not have exactly the same grid as ARPEGE on Beaufix :\n",
    "        X_sel['lat'] = eofs_combined[var]['lat']\n",
    "        X_sel['lon'] = eofs_combined[var]['lon']\n",
    "          \n",
    "        ## -- 3D full error [obs - mod]\n",
    "        e_diff_tmp = (X_sel - obs[var])\n",
    "        e_diff_list.append(e_diff_tmp)\n",
    "    \n",
    "         ## -- Project the candidates :\n",
    "        X_sel_w = (X_sel - Mean[var])*W_eof_2D\n",
    "        U_sel = solver[var].projectField(X_sel_w, weighted=False, eofscaling=1)\n",
    "    \n",
    "        ## --Reconstruct the candidates :\n",
    "        X_sel_rec = reconstruct_X(eofs_combined[var][0:trunc,:,:], pc=U_sel[0:trunc], nb_dims=2)\n",
    "    \n",
    "        ## -- 3D p error [X_obs_rec - X_mod_rec]\n",
    "        p_diff_tmp = diff_3D_rec(X_sel_rec, X_obs_rec[var], Mean[var], W_rmse_2D)\n",
    "        p_diff_list.append(p_diff_tmp)\n",
    "    \n",
    "        ## -- 3D u error [e - p]\n",
    "        u_diff_tmp = (e_diff_tmp - p_diff_tmp)\n",
    "        u_diff_list.append(u_diff_tmp)\n",
    "        \n",
    "        ## -- Compute integrated metrics \n",
    "    \n",
    "        ## -- Compute RMSE \n",
    "        e = MSE(X_sel, obs[var], W_rmse_2D)\n",
    "        #print(float(e))\n",
    "        e_sel_list.append(float(e))\n",
    "        \n",
    "        ## - non-param. error u(\\theta_0)\n",
    "        diff = u_diff_tmp**2 * W_rmse_2D\n",
    "        u = (diff.sum(['lat', 'lon']))\n",
    "        u_sel_list.append(float(u))\n",
    "    \n",
    "    e_diff_cmip[var] = e_diff_list\n",
    "    #print(e_diff[var])\n",
    "    u_diff_cmip[var] = u_diff_list\n",
    "    p_diff_cmip[var] = p_diff_list\n",
    "    e_cmip[var] = e_sel_list\n",
    "    u_cmip[var] = u_sel_list\n",
    "    #df_gmmip[var]['e'] = e_sel_list\n",
    "    #df_gmmip[var]['u'] = u_sel_list\n",
    "    cpt+=1"
   ]
  },
  {
   "cell_type": "code",
   "execution_count": 64,
   "metadata": {},
   "outputs": [
    {
     "name": "stderr",
     "output_type": "stream",
     "text": [
      "100%|██████████| 41/41 [00:00<00:00, 192141.30it/s]\n"
     ]
    }
   ],
   "source": [
    "## --- etot CMIP6\n",
    "list_mb = range(0,len(mod_list),1)\n",
    "e_tot_cmip = []\n",
    "for i in tqdm(list_mb) :\n",
    "    s = 0\n",
    "    for var in variables :\n",
    "        s = s + e_cmip[var][i]/e_p1[var] \n",
    "    e = s/len(variables)\n",
    "    e_tot_cmip.append(e)\n",
    "#e_tot_ppe"
   ]
  },
  {
   "cell_type": "markdown",
   "metadata": {},
   "source": [
    "## Figure boxplot"
   ]
  },
  {
   "cell_type": "code",
   "execution_count": 71,
   "metadata": {},
   "outputs": [
    {
     "data": {
      "text/plain": [
       "[1.5606254946422948,\n",
       " 1.0925449368280662,\n",
       " 1.3250530611876994,\n",
       " 1.4449206449947396,\n",
       " 1.0093784926894531,\n",
       " 1.100022182696187,\n",
       " 1.254197674881972,\n",
       " 1.395038343531611,\n",
       " 1.2910080511008961,\n",
       " 1.0554792716048138]"
      ]
     },
     "execution_count": 71,
     "metadata": {},
     "output_type": "execute_result"
    }
   ],
   "source": [
    "e_tot"
   ]
  },
  {
   "cell_type": "code",
   "execution_count": 72,
   "metadata": {},
   "outputs": [
    {
     "data": {
      "image/png": "[encoded data removed]",
      "text/plain": [
       "<Figure size 504x432 with 1 Axes>"
      ]
     },
     "metadata": {
      "needs_background": "light"
     },
     "output_type": "display_data"
    }
   ],
   "source": [
    "#fig = plt.subplots(figsize=(7,6))\n",
    "plt.figure(figsize=(7,6))\n",
    "ax1 = plt.gca()\n",
    "ax1.set_title('Multi-variate error $e_{tot}$', fontsize=20)\n",
    "data = {}\n",
    "data = [e_tot_cmip, e_tot_ppe, e_tot, e_tot_gmmip]\n",
    "Xlabels = ['CMIP6 models', 'CNRM-CM PPE', 'CNRM-CM candidates', 'CNRM-CM6-1 GMMIP']\n",
    "\n",
    "ax1.set_xticks([1,1.5,2,2.5])\n",
    "ax1.set_xticklabels(Xlabels, fontsize=16, rotation=45)\n",
    "ax1.tick_params(axis='y', which='major', labelsize=15)\n",
    "\n",
    "ax1.set_xlim(0.5,3.0)\n",
    "plt.xlim(0.5,3.0)\n",
    "\n",
    "ax1.axhline(1.0, color='orange', linestyle='--')\n",
    "\n",
    "for i in e_tot_cmip :\n",
    "    plt.plot(1, i, marker='.', color='grey')\n",
    "    \n",
    "for i in e_tot_ppe :\n",
    "    plt.plot(1.5, i, marker='.', color='grey')\n",
    "\n",
    "for i in e_tot :\n",
    "    plt.plot(2, i, marker='.', color='skyblue', markeredgecolor='black', markersize=8)\n",
    "\n",
    "for i in e_tot_gmmip :\n",
    "    ax1.plot(2.5, i, marker='.', color='black', markersize=8)\n",
    "\n",
    "\n",
    "ax1.axvline(x=1.0, ymin=mean(e_tot_cmip)-std(e_tot_cmip), \n",
    "            ymax=mean(e_tot_cmip)+std(e_tot_cmip), \n",
    "            color='darkgreen', linestyle='-')\n",
    "\n",
    "ax1.plot(1, mean(e_tot_cmip)-std(e_tot_cmip), marker='_', color='darkgreen', markersize=25)\n",
    "ax1.plot(1, mean(e_tot_cmip), marker='o', color='darkgreen', markersize=8)\n",
    "ax1.plot(1, mean(e_tot_cmip)+std(e_tot_cmip), marker='_', color='darkgreen', markersize=25)\n",
    "\n",
    "ax1.plot(1.5, mean(e_tot_ppe)-std(e_tot_ppe), marker='_', color='darkred', markersize=25)\n",
    "ax1.plot(1.5, mean(e_tot_ppe), marker='o', color='darkred', markersize=8)\n",
    "ax1.plot(1.5, mean(e_tot_ppe)+std(e_tot_ppe), marker='_', color='darkred', markersize=25)\n",
    "\n",
    "ax1.axhspan((1 - std(e_tot_cmip)),(1+std(e_tot_cmip)), color = 'orange', alpha=0.2)\n",
    "plt.ylim(0.5,5)\n",
    "\n",
    "ax1.set_ylabel=('$e_tot$ (no units)')\n",
    "\n",
    "# Save figure ---------------\n",
    "name_fig='Fig_candidates_e_tot_rev.png'\n",
    "plt.savefig(\"/data/home/globc/peatier/PPE/figures/\"+name_fig, \n",
    "            orientation='portrait', bbox_inches='tight', pad_inches=0.1)\n",
    "#----------------------------\n",
    "\n",
    "plt.show()"
   ]
  },
  {
   "cell_type": "code",
   "execution_count": 113,
   "metadata": {},
   "outputs": [
    {
     "data": {
      "image/png": "[encoded data removed]",
      "text/plain": [
       "<Figure size 504x432 with 1 Axes>"
      ]
     },
     "metadata": {
      "needs_background": "light"
     },
     "output_type": "display_data"
    }
   ],
   "source": [
    "var='tas'\n",
    "\n",
    "plt.figure(figsize=(7,6))\n",
    "ax1 = plt.gca()\n",
    "ax1.set_title('Temperature error $e_{tas}$ (Kelvin)', fontsize=20)\n",
    "data = {}\n",
    "data = [e_cmip[var], e_ppe, e_tot, e_tot_gmmip]\n",
    "Xlabels = ['CMIP6 models', 'CNRM PPE', 'CNRM candidates', 'CNRM amip ens.']\n",
    "\n",
    "ax1.set_xticks([1,1.5,2,2.5])\n",
    "ax1.set_xticklabels(Xlabels, fontsize=16, rotation=45)\n",
    "ax1.tick_params(axis='y', which='major', labelsize=15)\n",
    "\n",
    "ax1.set_xlim(0.5,3.0)\n",
    "plt.xlim(0.5,3.0)\n",
    "\n",
    "ax1.axhline(e_p1[var], color='orange', linestyle='--')\n",
    "\n",
    "for i in e_cmip[var] :\n",
    "    ax1.plot(1, i, marker='.', color='grey')\n",
    "    \n",
    "for i in e_ppe[var] :\n",
    "    ax1.plot(1.5, i, marker='.', color='grey')\n",
    "\n",
    "for i in e_sel[var] :\n",
    "    ax1.plot(2, i, marker='.', color='blue', markersize=8)\n",
    "\n",
    "for i in e_gmmip[var] :\n",
    "    ax1.plot(2.5, i, marker='.', color='black', markersize=8)\n",
    "\n",
    "\n",
    "ax1.plot(1, mean(e_cmip[var])-std(e_cmip[var]), marker='_', color='darkgreen', markersize=25)\n",
    "ax1.plot(1, mean(e_cmip[var]), marker='o', color='darkgreen', markersize=8)\n",
    "ax1.plot(1, mean(e_cmip[var])+std(e_cmip[var]), marker='_', color='darkgreen', markersize=25)\n",
    "\n",
    "ax1.plot(1.5, mean(e_ppe[var])-std(e_ppe[var]), marker='_', color='darkred', markersize=25)\n",
    "ax1.plot(1.5, mean(e_ppe[var]), marker='o', color='darkred', markersize=8)\n",
    "ax1.plot(1.5, mean(e_ppe[var])+std(e_ppe[var]), marker='_', color='darkred', markersize=25)\n",
    "\n",
    "ax1.axhspan((e_p1[var] - std(e_cmip[var])),(e_p1[var]+std(e_cmip[var])), \n",
    "            color = 'orange', alpha=0.2)\n",
    "\n",
    "# Save figure ---------------\n",
    "name_fig='Fig_candidates_e_'+var+'_rev.png'\n",
    "plt.savefig(\"/data/home/globc/peatier/PPE/figures/\"+name_fig, \n",
    "            orientation='portrait', bbox_inches='tight', pad_inches=0.1)\n",
    "#----------------------------\n",
    "\n",
    "\n",
    "plt.show()"
   ]
  },
  {
   "cell_type": "code",
   "execution_count": 114,
   "metadata": {},
   "outputs": [
    {
     "data": {
      "image/png": "[encoded data removed]",
      "text/plain": [
       "<Figure size 504x432 with 1 Axes>"
      ]
     },
     "metadata": {
      "needs_background": "light"
     },
     "output_type": "display_data"
    }
   ],
   "source": [
    "var='pr'\n",
    "units = 'mm/day'\n",
    "\n",
    "plt.figure(figsize=(7,6))\n",
    "ax1 = plt.gca()\n",
    "ax1.set_title('Temperature error $e_{'+var+'}$ ('+units+')', fontsize=20)\n",
    "data = {}\n",
    "data = [e_cmip[var], e_ppe, e_tot, e_tot_gmmip]\n",
    "Xlabels = ['CMIP6 models', 'CNRM PPE', 'CNRM candidates', 'CNRM amip ens.']\n",
    "\n",
    "ax1.set_xticks([1,1.5,2,2.5])\n",
    "ax1.set_xticklabels(Xlabels, fontsize=16, rotation=45)\n",
    "ax1.tick_params(axis='y', which='major', labelsize=15)\n",
    "\n",
    "ax1.set_xlim(0.5,3.0)\n",
    "plt.xlim(0.5,3.0)\n",
    "\n",
    "ax1.axhline(e_p1[var], color='orange', linestyle='--')\n",
    "\n",
    "for i in e_cmip[var] :\n",
    "    ax1.plot(1, i, marker='.', color='grey')\n",
    "    \n",
    "for i in e_ppe[var] :\n",
    "    ax1.plot(1.5, i, marker='.', color='grey')\n",
    "\n",
    "for i in e_sel[var] :\n",
    "    ax1.plot(2, i, marker='.', color='blue', markersize=8)\n",
    "\n",
    "for i in e_gmmip[var] :\n",
    "    ax1.plot(2.5, i, marker='.', color='black', markersize=8)\n",
    "\n",
    "\n",
    "ax1.plot(1, mean(e_cmip[var])-std(e_cmip[var]), marker='_', color='darkgreen', markersize=25)\n",
    "ax1.plot(1, mean(e_cmip[var]), marker='o', color='darkgreen', markersize=8)\n",
    "ax1.plot(1, mean(e_cmip[var])+std(e_cmip[var]), marker='_', color='darkgreen', markersize=25)\n",
    "\n",
    "ax1.plot(1.5, mean(e_ppe[var])-std(e_ppe[var]), marker='_', color='darkred', markersize=25)\n",
    "ax1.plot(1.5, mean(e_ppe[var]), marker='o', color='darkred', markersize=8)\n",
    "ax1.plot(1.5, mean(e_ppe[var])+std(e_ppe[var]), marker='_', color='darkred', markersize=25)\n",
    "\n",
    "ax1.axhspan((e_p1[var] - std(e_cmip[var])),(e_p1[var]+std(e_cmip[var])), \n",
    "            color = 'orange', alpha=0.2)\n",
    "\n",
    "# Save figure ---------------\n",
    "name_fig='Fig_candidates_e_'+var+'_rev.png'\n",
    "plt.savefig(\"/data/home/globc/peatier/PPE/figures/\"+name_fig, \n",
    "            orientation='portrait', bbox_inches='tight', pad_inches=0.1)\n",
    "#----------------------------\n",
    "\n",
    "\n",
    "plt.show()"
   ]
  },
  {
   "cell_type": "code",
   "execution_count": 115,
   "metadata": {},
   "outputs": [
    {
     "data": {
      "image/png": "[encoded data removed]",
      "text/plain": [
       "<Figure size 504x432 with 1 Axes>"
      ]
     },
     "metadata": {
      "needs_background": "light"
     },
     "output_type": "display_data"
    }
   ],
   "source": [
    "var='psl'\n",
    "units = 'Pa'\n",
    "\n",
    "plt.figure(figsize=(7,6))\n",
    "ax1 = plt.gca()\n",
    "ax1.set_title('Temperature error $e_{'+var+'}$ ('+units+')', fontsize=20)\n",
    "data = {}\n",
    "data = [e_cmip[var], e_ppe, e_tot, e_tot_gmmip]\n",
    "Xlabels = ['CMIP6 models', 'CNRM PPE', 'CNRM candidates', 'CNRM amip ens.']\n",
    "\n",
    "ax1.set_xticks([1,1.5,2,2.5])\n",
    "ax1.set_xticklabels(Xlabels, fontsize=16, rotation=45)\n",
    "ax1.tick_params(axis='y', which='major', labelsize=15)\n",
    "\n",
    "ax1.set_xlim(0.5,3.0)\n",
    "plt.xlim(0.5,3.0)\n",
    "\n",
    "ax1.axhline(e_p1[var], color='orange', linestyle='--')\n",
    "\n",
    "for i in e_cmip[var] :\n",
    "    ax1.plot(1, i, marker='.', color='grey')\n",
    "    \n",
    "for i in e_ppe[var] :\n",
    "    ax1.plot(1.5, i, marker='.', color='grey')\n",
    "\n",
    "for i in e_sel[var] :\n",
    "    ax1.plot(2, i, marker='.', color='blue', markersize=8)\n",
    "\n",
    "for i in e_gmmip[var] :\n",
    "    ax1.plot(2.5, i, marker='.', color='black', markersize=8)\n",
    "\n",
    "\n",
    "ax1.plot(1, mean(e_cmip[var])-std(e_cmip[var]), marker='_', color='darkgreen', markersize=25)\n",
    "ax1.plot(1, mean(e_cmip[var]), marker='o', color='darkgreen', markersize=8)\n",
    "ax1.plot(1, mean(e_cmip[var])+std(e_cmip[var]), marker='_', color='darkgreen', markersize=25)\n",
    "\n",
    "ax1.plot(1.5, mean(e_ppe[var])-std(e_ppe[var]), marker='_', color='darkred', markersize=25)\n",
    "ax1.plot(1.5, mean(e_ppe[var]), marker='o', color='darkred', markersize=8)\n",
    "ax1.plot(1.5, mean(e_ppe[var])+std(e_ppe[var]), marker='_', color='darkred', markersize=25)\n",
    "\n",
    "ax1.axhspan((e_p1[var] - std(e_cmip[var])),(e_p1[var]+std(e_cmip[var])), \n",
    "            color = 'orange', alpha=0.2)\n",
    "\n",
    "# Save figure ---------------\n",
    "name_fig='Fig_candidates_e_'+var+'_rev.png'\n",
    "plt.savefig(\"/data/home/globc/peatier/PPE/figures/\"+name_fig, \n",
    "            orientation='portrait', bbox_inches='tight', pad_inches=0.1)\n",
    "#----------------------------\n",
    "\n",
    "\n",
    "plt.show()"
   ]
  },
  {
   "cell_type": "code",
   "execution_count": 116,
   "metadata": {},
   "outputs": [
    {
     "data": {
      "image/png": "[encoded data removed]",
      "text/plain": [
       "<Figure size 504x432 with 1 Axes>"
      ]
     },
     "metadata": {
      "needs_background": "light"
     },
     "output_type": "display_data"
    }
   ],
   "source": [
    "var='SW'\n",
    "units = '$W.m^{2}$'\n",
    "\n",
    "plt.figure(figsize=(7,6))\n",
    "ax1 = plt.gca()\n",
    "ax1.set_title('Temperature error $e_{'+var+'}$ ('+units+')', fontsize=20)\n",
    "data = {}\n",
    "data = [e_cmip[var], e_ppe, e_tot, e_tot_gmmip]\n",
    "Xlabels = ['CMIP6 models', 'CNRM PPE', 'CNRM candidates', 'CNRM amip ens.']\n",
    "\n",
    "ax1.set_xticks([1,1.5,2,2.5])\n",
    "ax1.set_xticklabels(Xlabels, fontsize=16, rotation=45)\n",
    "ax1.tick_params(axis='y', which='major', labelsize=15)\n",
    "\n",
    "ax1.set_xlim(0.5,3.0)\n",
    "plt.xlim(0.5,3.0)\n",
    "\n",
    "ax1.axhline(e_p1[var], color='orange', linestyle='--')\n",
    "\n",
    "for i in e_cmip[var] :\n",
    "    ax1.plot(1, i, marker='.', color='grey')\n",
    "    \n",
    "for i in e_ppe[var] :\n",
    "    ax1.plot(1.5, i, marker='.', color='grey')\n",
    "\n",
    "for i in e_sel[var] :\n",
    "    ax1.plot(2, i, marker='.', color='blue', markersize=8)\n",
    "\n",
    "for i in e_gmmip[var] :\n",
    "    ax1.plot(2.5, i, marker='.', color='black', markersize=8)\n",
    "\n",
    "\n",
    "ax1.plot(1, mean(e_cmip[var])-std(e_cmip[var]), marker='_', color='darkgreen', markersize=25)\n",
    "ax1.plot(1, mean(e_cmip[var]), marker='o', color='darkgreen', markersize=8)\n",
    "ax1.plot(1, mean(e_cmip[var])+std(e_cmip[var]), marker='_', color='darkgreen', markersize=25)\n",
    "\n",
    "ax1.plot(1.5, mean(e_ppe[var])-std(e_ppe[var]), marker='_', color='darkred', markersize=25)\n",
    "ax1.plot(1.5, mean(e_ppe[var]), marker='o', color='darkred', markersize=8)\n",
    "ax1.plot(1.5, mean(e_ppe[var])+std(e_ppe[var]), marker='_', color='darkred', markersize=25)\n",
    "\n",
    "ax1.axhspan((e_p1[var] - std(e_cmip[var])),(e_p1[var]+std(e_cmip[var])), \n",
    "            color = 'orange', alpha=0.2)\n",
    "\n",
    "# Save figure ---------------\n",
    "name_fig='Fig_candidates_e_'+var+'_rev.png'\n",
    "plt.savefig(\"/data/home/globc/peatier/PPE/figures/\"+name_fig, \n",
    "            orientation='portrait', bbox_inches='tight', pad_inches=0.1)\n",
    "#----------------------------\n",
    "\n",
    "\n",
    "plt.show()"
   ]
  },
  {
   "cell_type": "code",
   "execution_count": null,
   "metadata": {},
   "outputs": [],
   "source": []
  }
 ],
 "metadata": {
  "kernelspec": {
   "display_name": "basic_PPE",
   "language": "python",
   "name": "basic_ppe"
  },
  "language_info": {
   "codemirror_mode": {
    "name": "ipython",
    "version": 3
   },
   "file_extension": ".py",
   "mimetype": "text/x-python",
   "name": "python",
   "nbconvert_exporter": "python",
   "pygments_lexer": "ipython3",
   "version": "3.7.6"
  }
 },
 "nbformat": 4,
 "nbformat_minor": 2
}
