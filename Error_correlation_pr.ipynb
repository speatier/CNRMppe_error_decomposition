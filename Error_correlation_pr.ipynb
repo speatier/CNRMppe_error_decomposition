{
 "cells": [
  {
   "cell_type": "markdown",
   "metadata": {},
   "source": [
    "# Import Module"
   ]
  },
  {
   "cell_type": "code",
   "execution_count": 1,
   "metadata": {},
   "outputs": [],
   "source": [
    "# Computational modules \n",
    "%matplotlib inline\n",
    "import xarray as xr\n",
    "import glob\n",
    "import os\n",
    "import numpy as np\n",
    "import netCDF4\n",
    "from netCDF4 import Dataset\n",
    "import pandas as pd\n",
    "import re\n",
    "from array import array\n",
    "from pylab import *\n",
    "#import geopandas\n",
    "from eofs.xarray import Eof\n",
    "from eofs.multivariate.standard import MultivariateEof\n",
    "\n",
    "# Plotting modules \n",
    "import matplotlib.pyplot as plt\n",
    "from mpl_toolkits.basemap import Basemap\n",
    "import pandas.plotting\n",
    "import matplotlib.ticker as ticker\n",
    "import seaborn as sns\n",
    "import cartopy.crs as ccrs\n",
    "import cartopy.feature as cfeature\n",
    "from matplotlib.colors import BoundaryNorm\n",
    "\n",
    "# Scikit-learn\n",
    "from sklearn import linear_model\n",
    "from sklearn.linear_model import LassoCV, LassoLarsCV, LassoLarsIC\n",
    "from sklearn.linear_model import Lasso\n",
    "from sklearn.metrics import r2_score\n",
    "from sklearn import preprocessing\n",
    "from sklearn import tree\n",
    "from sklearn.ensemble import RandomForestClassifier\n",
    "from sklearn.metrics import confusion_matrix\n",
    "from sklearn import metrics\n",
    "from sklearn.neural_network import MLPRegressor\n",
    "from scipy.optimize import minimize\n",
    "from scipy.optimize import dual_annealing\n",
    "from scipy import stats\n",
    "from sklearn.decomposition import PCA"
   ]
  },
  {
   "cell_type": "markdown",
   "metadata": {},
   "source": [
    "# Settings"
   ]
  },
  {
   "cell_type": "markdown",
   "metadata": {},
   "source": [
    "### Variables"
   ]
  },
  {
   "cell_type": "code",
   "execution_count": 2,
   "metadata": {},
   "outputs": [],
   "source": [
    "variables = ['pr']\n",
    "variable = 'pr'\n",
    "TITLE = 'Precipitation'\n",
    "ylabel = '$E_{pr}$ ($mm/day$)'"
   ]
  },
  {
   "cell_type": "markdown",
   "metadata": {},
   "source": [
    "### Paths"
   ]
  },
  {
   "cell_type": "code",
   "execution_count": 3,
   "metadata": {},
   "outputs": [],
   "source": [
    "path_official='/data/scratch/globc/peatier/CMIP6/CNRM-CM6-1/CFMIP/amip/'\n",
    "path_PPE='/data/scratch/globc/peatier/CNRM-CM6-1_PPE/ENSEMBLE2/CNRM-CM6-1_amip_PPE_regrid/'  \n",
    "     #'/data/scratch/globc/peatier/CNRM-CM6-1_PPE/'\n",
    "path_files='/data/home/globc/peatier/CNRMppe_error_decomposition/files/'"
   ]
  },
  {
   "cell_type": "markdown",
   "metadata": {},
   "source": [
    "### List of members"
   ]
  },
  {
   "cell_type": "code",
   "execution_count": 4,
   "metadata": {},
   "outputs": [
    {
     "data": {
      "text/plain": [
       "102"
      ]
     },
     "execution_count": 4,
     "metadata": {},
     "output_type": "execute_result"
    }
   ],
   "source": [
    "nb_p_list = ['p311', 'p312', 'p314', 'p316',\n",
    "                    'p317', 'p319', 'p320', 'p321', 'p322', 'p324', 'p325', 'p326', \n",
    "                    'p329', 'p330', 'p331', 'p332', 'p335', 'p336', 'p337' ,'p338', \n",
    "                    'p340', 'p341', 'p343', 'p344', 'p346', 'p347', 'p348', 'p349', \n",
    "                    'p350', 'p353', 'p355', 'p357', 'p359', 'p360', \n",
    "                    'p361', 'p363', 'p365', 'p367', 'p368', 'p369', \n",
    "                    'p372', 'p373', 'p374', 'p375', 'p376', 'p378', 'p381', 'p382', \n",
    "                    'p384', 'p386', 'p388', 'p389', 'p391', 'p392', 'p393', \n",
    "                    'p394', 'p395', 'p396', 'p398', 'p399', 'p400', 'p404', \n",
    "                    'p406', 'p407', 'p409', 'p410', 'p411', 'p412',\n",
    "                    'p414','p416',\n",
    "                    'p413','p419','p424','p426','p428','p421','p423',\n",
    "                    'p425','p427','p429','p430','p436','p438','p431','p433',\n",
    "                    'p442','p446','p443','p445','p447',\n",
    "                    'p452','p454','p456','p458','p457','p459',\n",
    "                    'p460','p465','p467','p469',\n",
    "                    'p470','p471']\n",
    "\n",
    "len(nb_p_list)"
   ]
  },
  {
   "cell_type": "markdown",
   "metadata": {},
   "source": [
    "# Functions"
   ]
  },
  {
   "cell_type": "code",
   "execution_count": 5,
   "metadata": {},
   "outputs": [],
   "source": [
    "def MSE(mod, obs, W_rmse_2D) :\n",
    "    diff_tmp = (mod - obs)**2 * W_rmse_2D\n",
    "    diff = (diff_tmp.sum(['lat', 'lon']))\n",
    "    return diff"
   ]
  },
  {
   "cell_type": "code",
   "execution_count": 6,
   "metadata": {},
   "outputs": [],
   "source": [
    "def reconstruct_X(eofs_combined, pc, nb_dims) :\n",
    "    X_rec_tmp = np.dot(eofs_combined.transpose(),pc)\n",
    "    if nb_dims == 3 :\n",
    "        X_rec = xr.DataArray(X_rec_tmp, \n",
    "                        dims=[\"lon\", \"lat\", \"time\"]).transpose('time', 'lat', 'lon')\n",
    "    if nb_dims == 2 :\n",
    "        X_rec = xr.DataArray(X_rec_tmp, \n",
    "                        dims=[\"lon\", \"lat\"]).transpose('lat', 'lon')\n",
    "    \n",
    "    X_rec['lat'] = eofs_combined['lat']\n",
    "    X_rec['lon'] = eofs_combined['lon']\n",
    "    return X_rec"
   ]
  },
  {
   "cell_type": "code",
   "execution_count": 7,
   "metadata": {},
   "outputs": [],
   "source": [
    "def MSE_rec(rec_anom_mod_w, rec_anom_obs_w, Mean, W_rmse_2D) :\n",
    "    mod = rec_anom_mod_w/W_eof_2D + Mean\n",
    "    obs = rec_anom_obs_w/W_eof_2D + Mean\n",
    "    diff = MSE(mod, obs, W_rmse_2D)\n",
    "    return diff"
   ]
  },
  {
   "cell_type": "code",
   "execution_count": 8,
   "metadata": {},
   "outputs": [],
   "source": [
    "def get_3D_pr_xarr(path, filename, variables):\n",
    "\n",
    "    # First step : download the data into dataframe\n",
    "    file = xr.open_mfdataset(path+filename,combine='by_coords')\n",
    "    #\n",
    "    # Second step : compute the annual average \n",
    "    df = file[variables].mean('time', keep_attrs=True)\n",
    "    pr = df['pr']*86400 \n",
    "    #\n",
    "    return pr"
   ]
  },
  {
   "cell_type": "code",
   "execution_count": 9,
   "metadata": {},
   "outputs": [],
   "source": [
    "def load_monthly_clim(path, filename, variables) :\n",
    "    \n",
    "    file = xr.open_mfdataset(path+filename,combine='by_coords')\n",
    "    df=file[variables].to_dataframe()\n",
    "    \n",
    "    # Compute Climatological Annual Cycle :\n",
    "    df1=df.reset_index(level=['time', 'lat', 'lon'])\n",
    "    df1['year']=pd.DatetimeIndex(df1['time']).year\n",
    "    df1['month']=pd.DatetimeIndex(df1['time']).month\n",
    "    \n",
    "    #list_ind = []\n",
    "    #cpt=0\n",
    "    #for i in df1['year'] : \n",
    "    #    if i>1981 :\n",
    "    #        list_ind.append(cpt)\n",
    "    #        cpt+=1\n",
    "    #    else : \n",
    "    #        cpt+=1\n",
    "            \n",
    "    #df2 = df1.drop(list_ind)\n",
    "    df_mean=df1.groupby(['month', 'lat', 'lon']).mean()\n",
    "    df_mean=df_mean.drop(columns='year')\n",
    "    \n",
    "    return df_mean"
   ]
  },
  {
   "cell_type": "markdown",
   "metadata": {},
   "source": [
    "# Get data : obs, PPE, p1"
   ]
  },
  {
   "cell_type": "code",
   "execution_count": 15,
   "metadata": {},
   "outputs": [],
   "source": [
    "path_observation = path_PPE #'/data/scratch/globc/peatier/obs_data/GPCP/regrid_CNRM/'\n",
    "filename_obs = 'pr_mon_mean_1979-1981.nc'  #'pr_mon_mean_197901-198112_regrid.nc'"
   ]
  },
  {
   "cell_type": "code",
   "execution_count": 16,
   "metadata": {},
   "outputs": [
    {
     "data": {
      "text/html": [
       "<div>\n",
       "<style scoped>\n",
       "    .dataframe tbody tr th:only-of-type {\n",
       "        vertical-align: middle;\n",
       "    }\n",
       "\n",
       "    .dataframe tbody tr th {\n",
       "        vertical-align: top;\n",
       "    }\n",
       "\n",
       "    .dataframe thead th {\n",
       "        text-align: right;\n",
       "    }\n",
       "</style>\n",
       "<table border=\"1\" class=\"dataframe\">\n",
       "  <thead>\n",
       "    <tr style=\"text-align: right;\">\n",
       "      <th></th>\n",
       "      <th></th>\n",
       "      <th></th>\n",
       "      <th>pr</th>\n",
       "    </tr>\n",
       "    <tr>\n",
       "      <th>month</th>\n",
       "      <th>lat</th>\n",
       "      <th>lon</th>\n",
       "      <th></th>\n",
       "    </tr>\n",
       "  </thead>\n",
       "  <tbody>\n",
       "    <tr>\n",
       "      <th rowspan=\"5\" valign=\"top\">1</th>\n",
       "      <th rowspan=\"5\" valign=\"top\">-88.75</th>\n",
       "      <th>1.25</th>\n",
       "      <td>0.013676</td>\n",
       "    </tr>\n",
       "    <tr>\n",
       "      <th>3.75</th>\n",
       "      <td>0.022194</td>\n",
       "    </tr>\n",
       "    <tr>\n",
       "      <th>6.25</th>\n",
       "      <td>0.023741</td>\n",
       "    </tr>\n",
       "    <tr>\n",
       "      <th>8.75</th>\n",
       "      <td>0.019901</td>\n",
       "    </tr>\n",
       "    <tr>\n",
       "      <th>11.25</th>\n",
       "      <td>0.015669</td>\n",
       "    </tr>\n",
       "    <tr>\n",
       "      <th>...</th>\n",
       "      <th>...</th>\n",
       "      <th>...</th>\n",
       "      <td>...</td>\n",
       "    </tr>\n",
       "    <tr>\n",
       "      <th rowspan=\"5\" valign=\"top\">12</th>\n",
       "      <th rowspan=\"5\" valign=\"top\">88.75</th>\n",
       "      <th>348.75</th>\n",
       "      <td>0.518130</td>\n",
       "    </tr>\n",
       "    <tr>\n",
       "      <th>351.25</th>\n",
       "      <td>0.461248</td>\n",
       "    </tr>\n",
       "    <tr>\n",
       "      <th>353.75</th>\n",
       "      <td>0.439179</td>\n",
       "    </tr>\n",
       "    <tr>\n",
       "      <th>356.25</th>\n",
       "      <td>0.529565</td>\n",
       "    </tr>\n",
       "    <tr>\n",
       "      <th>358.75</th>\n",
       "      <td>0.434002</td>\n",
       "    </tr>\n",
       "  </tbody>\n",
       "</table>\n",
       "<p>124416 rows × 1 columns</p>\n",
       "</div>"
      ],
      "text/plain": [
       "                           pr\n",
       "month lat    lon             \n",
       "1     -88.75 1.25    0.013676\n",
       "             3.75    0.022194\n",
       "             6.25    0.023741\n",
       "             8.75    0.019901\n",
       "             11.25   0.015669\n",
       "...                       ...\n",
       "12     88.75 348.75  0.518130\n",
       "             351.25  0.461248\n",
       "             353.75  0.439179\n",
       "             356.25  0.529565\n",
       "             358.75  0.434002\n",
       "\n",
       "[124416 rows x 1 columns]"
      ]
     },
     "execution_count": 16,
     "metadata": {},
     "output_type": "execute_result"
    }
   ],
   "source": [
    "path = path_observation\n",
    "variables = [variable]\n",
    "df_obs = load_monthly_clim(path, filename_obs, variables)\n",
    "df_obs"
   ]
  },
  {
   "cell_type": "code",
   "execution_count": 17,
   "metadata": {},
   "outputs": [
    {
     "data": {
      "text/html": [
       "<pre>&lt;xarray.Dataset&gt;\n",
       "Dimensions:  (lat: 72, lon: 144)\n",
       "Coordinates:\n",
       "  * lat      (lat) float64 -88.75 -86.25 -83.75 -81.25 ... 83.75 86.25 88.75\n",
       "  * lon      (lon) float64 1.25 3.75 6.25 8.75 11.25 ... 351.2 353.8 356.2 358.8\n",
       "Data variables:\n",
       "    pr       (lat, lon) float32 0.36730492 0.36116093 ... 0.5035656 0.5032021</pre>"
      ],
      "text/plain": [
       "<xarray.Dataset>\n",
       "Dimensions:  (lat: 72, lon: 144)\n",
       "Coordinates:\n",
       "  * lat      (lat) float64 -88.75 -86.25 -83.75 -81.25 ... 83.75 86.25 88.75\n",
       "  * lon      (lon) float64 1.25 3.75 6.25 8.75 11.25 ... 351.2 353.8 356.2 358.8\n",
       "Data variables:\n",
       "    pr       (lat, lon) float32 0.36730492 0.36116093 ... 0.5035656 0.5032021"
      ]
     },
     "execution_count": 17,
     "metadata": {},
     "output_type": "execute_result"
    }
   ],
   "source": [
    "X_obs = df_obs.groupby(['lat','lon']).mean().to_xarray()\n",
    "X_obs"
   ]
  },
  {
   "cell_type": "code",
   "execution_count": 56,
   "metadata": {},
   "outputs": [],
   "source": [
    "# Default simulation\n",
    "path = path_PPE+'reference/CNRM-CM6-1_amip_r1i1p1f2/' #path_PPE+'ENSEMBLE1/CNRM-CM6-1_amip_PPE/CNRM-CM6-1_amip_r1i1p1f2/'\n",
    "filename = variable+'*_CNRM-CM6-1_amip_*.nc'\n",
    "p1_amip = get_3D_pr_xarr(path, filename, variables)"
   ]
  },
  {
   "cell_type": "code",
   "execution_count": 57,
   "metadata": {},
   "outputs": [],
   "source": [
    "# PPE amip simulations \n",
    "filename=variable+'*_amip_*.nc'\n",
    "\n",
    "N=len(nb_p_list)\n",
    "amip={}\n",
    "i = 0\n",
    "while i<N:\n",
    "    nb_p = nb_p_list[i]\n",
    "    #print(nb_p)\n",
    "    path=path_PPE+'CNRM-CM6-1_amip_r1i1'+str(nb_p)+'f2/'  #+'ENSEMBLE2/CNRM-CM6-1_amip_LHS500_PPE/CNRM-CM6-1_amip_r1i1'+str(nb_p)+'f2/'\n",
    "    amip[str(nb_p)] = get_3D_pr_xarr(path, filename, variables)\n",
    "    i=i+1"
   ]
  },
  {
   "cell_type": "code",
   "execution_count": 58,
   "metadata": {},
   "outputs": [],
   "source": [
    "amip['p1'] = p1_amip"
   ]
  },
  {
   "cell_type": "markdown",
   "metadata": {},
   "source": [
    "# Calcule full MSE (ej)"
   ]
  },
  {
   "cell_type": "code",
   "execution_count": 59,
   "metadata": {},
   "outputs": [],
   "source": [
    "n=len(nb_p_list)\n",
    "amip_list=[0]*(n+1)\n",
    "\n",
    "amip_list[0] = amip['p1']\n",
    "\n",
    "i = 0\n",
    "while i<n:\n",
    "    nb_p = nb_p_list[i]\n",
    "    #print(nb_p)\n",
    "    tmp = amip[str(nb_p)]\n",
    "    amip_list[i+1] = tmp\n",
    "    i+=1"
   ]
  },
  {
   "cell_type": "code",
   "execution_count": 60,
   "metadata": {},
   "outputs": [],
   "source": [
    "matrix = xr.combine_nested(amip_list, concat_dim=['time'])"
   ]
  },
  {
   "cell_type": "code",
   "execution_count": 61,
   "metadata": {},
   "outputs": [
    {
     "data": {
      "text/html": [
       "<pre>&lt;xarray.DataArray &#x27;pr&#x27; (time: 103, lat: 72, lon: 144)&gt;\n",
       "dask.array&lt;concatenate, shape=(103, 72, 144), dtype=float64, chunksize=(1, 72, 144), chunktype=numpy.ndarray&gt;\n",
       "Coordinates:\n",
       "  * lon      (lon) float32 1.25 3.75 6.25 8.75 ... 351.25 353.75 356.25 358.75\n",
       "  * lat      (lat) float32 -88.75 -86.25 -83.75 -81.25 ... 83.75 86.25 88.75\n",
       "Dimensions without coordinates: time</pre>"
      ],
      "text/plain": [
       "<xarray.DataArray 'pr' (time: 103, lat: 72, lon: 144)>\n",
       "dask.array<concatenate, shape=(103, 72, 144), dtype=float64, chunksize=(1, 72, 144), chunktype=numpy.ndarray>\n",
       "Coordinates:\n",
       "  * lon      (lon) float32 1.25 3.75 6.25 8.75 ... 351.25 353.75 356.25 358.75\n",
       "  * lat      (lat) float32 -88.75 -86.25 -83.75 -81.25 ... 83.75 86.25 88.75\n",
       "Dimensions without coordinates: time"
      ]
     },
     "execution_count": 61,
     "metadata": {},
     "output_type": "execute_result"
    }
   ],
   "source": [
    "matrix"
   ]
  },
  {
   "cell_type": "code",
   "execution_count": 62,
   "metadata": {},
   "outputs": [],
   "source": [
    "## --Get weights : \n",
    "lats = matrix['lat'].values\n",
    "\n",
    "wgts = np.cos(np.deg2rad(lats))\n",
    "W_eof_2D = sqrt(wgts)[:,np.newaxis] ## --Wqts before EOF analysis - 2D (lat x lon)\n",
    "W_eof_3D = sqrt(wgts)[np.newaxis,:,np.newaxis] ## --Wqts before EOF analysis - 3D (time x lat x lon)\n",
    "\n",
    "S = wgts.sum()*144 ## --Sum of wgts over the whole grid\n",
    "wgts_sum = wgts/S\n",
    "W_rmse_2D = wgts_sum[:,np.newaxis] ## -- Wgts before RMSE, divided by sum of wgts - 2D (lat x lon)"
   ]
  },
  {
   "cell_type": "code",
   "execution_count": 63,
   "metadata": {},
   "outputs": [
    {
     "data": {
      "text/html": [
       "<pre>&lt;xarray.DataArray &#x27;pr&#x27; (time: 103, lat: 72, lon: 144)&gt;\n",
       "dask.array&lt;concatenate, shape=(103, 72, 144), dtype=float64, chunksize=(1, 72, 144), chunktype=numpy.ndarray&gt;\n",
       "Coordinates:\n",
       "  * lon      (lon) float32 1.25 3.75 6.25 8.75 ... 351.25 353.75 356.25 358.75\n",
       "  * lat      (lat) float32 -88.75 -86.25 -83.75 -81.25 ... 83.75 86.25 88.75\n",
       "Dimensions without coordinates: time</pre>"
      ],
      "text/plain": [
       "<xarray.DataArray 'pr' (time: 103, lat: 72, lon: 144)>\n",
       "dask.array<concatenate, shape=(103, 72, 144), dtype=float64, chunksize=(1, 72, 144), chunktype=numpy.ndarray>\n",
       "Coordinates:\n",
       "  * lon      (lon) float32 1.25 3.75 6.25 8.75 ... 351.25 353.75 356.25 358.75\n",
       "  * lat      (lat) float32 -88.75 -86.25 -83.75 -81.25 ... 83.75 86.25 88.75\n",
       "Dimensions without coordinates: time"
      ]
     },
     "execution_count": 63,
     "metadata": {},
     "output_type": "execute_result"
    }
   ],
   "source": [
    "matrix"
   ]
  },
  {
   "cell_type": "code",
   "execution_count": 64,
   "metadata": {},
   "outputs": [],
   "source": [
    "variable_obs='pr'"
   ]
  },
  {
   "cell_type": "code",
   "execution_count": 65,
   "metadata": {},
   "outputs": [],
   "source": [
    "# Reference p1\n",
    "mod = amip['p1']\n",
    "obs = X_obs[variable]\n",
    "diff_p1 = MSE(mod, obs, W_rmse_2D)"
   ]
  },
  {
   "cell_type": "code",
   "execution_count": 66,
   "metadata": {},
   "outputs": [],
   "source": [
    "ej_list = []\n",
    "#ej['p1'] = diff_p1\n",
    "\n",
    "for p in nb_p_list :\n",
    "    mod = amip[p]\n",
    "    obs = X_obs[variable_obs]\n",
    "    diff = MSE(mod, obs, W_rmse_2D)\n",
    "    ej_list.append(diff)\n"
   ]
  },
  {
   "cell_type": "markdown",
   "metadata": {},
   "source": [
    "### Save"
   ]
  },
  {
   "cell_type": "code",
   "execution_count": 67,
   "metadata": {},
   "outputs": [],
   "source": [
    "np.save(path_files+'npy/CNRMppe_decomposition_ej_'+str(variable)+'.npy', ej_list)"
   ]
  },
  {
   "cell_type": "markdown",
   "metadata": {},
   "source": [
    "# EOF + truncated RMSE (rj)"
   ]
  },
  {
   "cell_type": "markdown",
   "metadata": {},
   "source": [
    "## EOF"
   ]
  },
  {
   "cell_type": "code",
   "execution_count": 68,
   "metadata": {},
   "outputs": [
    {
     "data": {
      "text/html": [
       "<pre>&lt;xarray.DataArray &#x27;pr&#x27; (time: 103, lat: 72, lon: 144)&gt;\n",
       "dask.array&lt;sub, shape=(103, 72, 144), dtype=float64, chunksize=(1, 72, 144), chunktype=numpy.ndarray&gt;\n",
       "Coordinates:\n",
       "  * lon      (lon) float32 1.25 3.75 6.25 8.75 ... 351.25 353.75 356.25 358.75\n",
       "  * lat      (lat) float32 -88.75 -86.25 -83.75 -81.25 ... 83.75 86.25 88.75\n",
       "Dimensions without coordinates: time</pre>"
      ],
      "text/plain": [
       "<xarray.DataArray 'pr' (time: 103, lat: 72, lon: 144)>\n",
       "dask.array<sub, shape=(103, 72, 144), dtype=float64, chunksize=(1, 72, 144), chunktype=numpy.ndarray>\n",
       "Coordinates:\n",
       "  * lon      (lon) float32 1.25 3.75 6.25 8.75 ... 351.25 353.75 356.25 358.75\n",
       "  * lat      (lat) float32 -88.75 -86.25 -83.75 -81.25 ... 83.75 86.25 88.75\n",
       "Dimensions without coordinates: time"
      ]
     },
     "execution_count": 68,
     "metadata": {},
     "output_type": "execute_result"
    }
   ],
   "source": [
    "# Compute anomalies by removing the time-mean.\n",
    "mean = matrix.mean(axis=0)\n",
    "anom = matrix - mean\n",
    "anom"
   ]
  },
  {
   "cell_type": "code",
   "execution_count": 69,
   "metadata": {},
   "outputs": [
    {
     "data": {
      "text/html": [
       "<pre>&lt;xarray.DataArray &#x27;pr&#x27; (time: 103, lat: 72, lon: 144)&gt;\n",
       "dask.array&lt;mul, shape=(103, 72, 144), dtype=float64, chunksize=(1, 72, 144), chunktype=numpy.ndarray&gt;\n",
       "Coordinates:\n",
       "  * lon      (lon) float32 1.25 3.75 6.25 8.75 ... 351.25 353.75 356.25 358.75\n",
       "  * lat      (lat) float32 -88.75 -86.25 -83.75 -81.25 ... 83.75 86.25 88.75\n",
       "Dimensions without coordinates: time</pre>"
      ],
      "text/plain": [
       "<xarray.DataArray 'pr' (time: 103, lat: 72, lon: 144)>\n",
       "dask.array<mul, shape=(103, 72, 144), dtype=float64, chunksize=(1, 72, 144), chunktype=numpy.ndarray>\n",
       "Coordinates:\n",
       "  * lon      (lon) float32 1.25 3.75 6.25 8.75 ... 351.25 353.75 356.25 358.75\n",
       "  * lat      (lat) float32 -88.75 -86.25 -83.75 -81.25 ... 83.75 86.25 88.75\n",
       "Dimensions without coordinates: time"
      ]
     },
     "execution_count": 69,
     "metadata": {},
     "output_type": "execute_result"
    }
   ],
   "source": [
    "anom_w = (anom*W_eof_3D)#.to_array()\n",
    "anom_w"
   ]
  },
  {
   "cell_type": "code",
   "execution_count": 70,
   "metadata": {},
   "outputs": [],
   "source": [
    "# Create an EOF solver to do the EOF analysis. \n",
    "solver = Eof(anom_w, center=False, weights=None)"
   ]
  },
  {
   "cell_type": "code",
   "execution_count": 71,
   "metadata": {},
   "outputs": [],
   "source": [
    "eof = solver.eofsAsCovariance(neofs=102, pcscaling=1)\n",
    "pc = solver.pcs(npcs=102, pcscaling=1)"
   ]
  },
  {
   "cell_type": "code",
   "execution_count": 72,
   "metadata": {},
   "outputs": [],
   "source": [
    "varFrac = solver.varianceFraction(neigs=102)\n",
    "#varFrac"
   ]
  },
  {
   "cell_type": "markdown",
   "metadata": {},
   "source": [
    "### Save"
   ]
  },
  {
   "cell_type": "code",
   "execution_count": 73,
   "metadata": {},
   "outputs": [],
   "source": [
    "for i in range(0,len(eof),1) : \n",
    "    j = i+1\n",
    "    # EOFmap\n",
    "    EOF_df = eof[i].to_dataframe().drop(labels = 'mode', axis=1)\n",
    "    EOF_df.to_pickle(path_files+\"npy/CNRMppe_decomposition_EOFmap\"+str(j)+\"_\"+str(variable)+\".npy\")"
   ]
  },
  {
   "cell_type": "code",
   "execution_count": 74,
   "metadata": {},
   "outputs": [],
   "source": [
    "## --Save the pc_p1 and pc_PPE in a .nc files\n",
    "path_file = path_files+'nc/'\n",
    "filename = 'CNRMppe_decomposition_p1_EOFpc_'+str(variable)+'.nc'\n",
    "pc[0, :].to_netcdf(path=path_file+filename)\n",
    "filename = 'CNRMppe_decomposition_EOFpc_'+str(variable)+'.nc'\n",
    "pc[1:, :].to_netcdf(path=path_file+filename)"
   ]
  },
  {
   "cell_type": "code",
   "execution_count": 76,
   "metadata": {},
   "outputs": [],
   "source": [
    "mean_df = mean.to_dataframe(name=str(variable)+'mean')#.drop(labels = 'height', axis=1)\n",
    "mean_df.to_pickle(path_files+'npy/CNRMppe_decomposition_mean_'+str(variable)+'.npy')"
   ]
  },
  {
   "cell_type": "markdown",
   "metadata": {},
   "source": [
    "## Get the observations"
   ]
  },
  {
   "cell_type": "code",
   "execution_count": 77,
   "metadata": {},
   "outputs": [
    {
     "data": {
      "text/html": [
       "<pre>&lt;xarray.DataArray (lat: 72, lon: 144)&gt;\n",
       "array([[ 0.21530193,  0.20915794,  0.20215914, ...,  0.2225998 ,\n",
       "         0.24728342,  0.25367096],\n",
       "       [ 0.10038923,  0.11304911,  0.11442808, ...,  0.04652772,\n",
       "         0.11140484,  0.10982534],\n",
       "       [-0.03441254, -0.01669172, -0.02804782, ...,  0.02419897,\n",
       "         0.03342621, -0.00757957],\n",
       "       ...,\n",
       "       [-0.24803298, -0.20961378, -0.19601679, ..., -0.22616075,\n",
       "        -0.25307823, -0.27062767],\n",
       "       [-0.1958444 , -0.20742561, -0.30165128, ..., -0.01764741,\n",
       "        -0.15600054, -0.19333844],\n",
       "       [-0.05161947, -0.04879934, -0.06595569, ..., -0.06376233,\n",
       "        -0.06129205, -0.06165558]])\n",
       "Coordinates:\n",
       "  * lat      (lat) float64 -88.75 -86.25 -83.75 -81.25 ... 83.75 86.25 88.75\n",
       "  * lon      (lon) float64 1.25 3.75 6.25 8.75 11.25 ... 351.2 353.8 356.2 358.8\n",
       "    mode     &lt;U6 &#x27;prmean&#x27;</pre>"
      ],
      "text/plain": [
       "<xarray.DataArray (lat: 72, lon: 144)>\n",
       "array([[ 0.21530193,  0.20915794,  0.20215914, ...,  0.2225998 ,\n",
       "         0.24728342,  0.25367096],\n",
       "       [ 0.10038923,  0.11304911,  0.11442808, ...,  0.04652772,\n",
       "         0.11140484,  0.10982534],\n",
       "       [-0.03441254, -0.01669172, -0.02804782, ...,  0.02419897,\n",
       "         0.03342621, -0.00757957],\n",
       "       ...,\n",
       "       [-0.24803298, -0.20961378, -0.19601679, ..., -0.22616075,\n",
       "        -0.25307823, -0.27062767],\n",
       "       [-0.1958444 , -0.20742561, -0.30165128, ..., -0.01764741,\n",
       "        -0.15600054, -0.19333844],\n",
       "       [-0.05161947, -0.04879934, -0.06595569, ..., -0.06376233,\n",
       "        -0.06129205, -0.06165558]])\n",
       "Coordinates:\n",
       "  * lat      (lat) float64 -88.75 -86.25 -83.75 -81.25 ... 83.75 86.25 88.75\n",
       "  * lon      (lon) float64 1.25 3.75 6.25 8.75 11.25 ... 351.2 353.8 356.2 358.8\n",
       "    mode     <U6 'prmean'"
      ]
     },
     "execution_count": 77,
     "metadata": {},
     "output_type": "execute_result"
    }
   ],
   "source": [
    "Mean =  pd.read_pickle(path_files+'npy/CNRMppe_decomposition_mean_'+str(variable)+'.npy').to_xarray().to_array()\n",
    "Mean = Mean[0,:,:].rename({'variable':'mode'})\n",
    "X_obs_anom = X_obs[variable_obs] - Mean\n",
    "X_obs_anom"
   ]
  },
  {
   "cell_type": "markdown",
   "metadata": {},
   "source": [
    "## Parametric component of the error for different q"
   ]
  },
  {
   "cell_type": "code",
   "execution_count": 78,
   "metadata": {},
   "outputs": [],
   "source": [
    "def Error_PPE_param_component(path_files, variable, Mean, W_eof_2D, W_rmse_2D, q) :\n",
    "    ## --Get the eofs\n",
    "    eofs=[]\n",
    "    for j in range(1,q+1,1) :\n",
    "        eof_tmp = pd.read_pickle(path_files+\"npy/CNRMppe_decomposition_EOFmap\"+str(j)+\"_\"+str(variable)+\".npy\").to_xarray().to_array()\n",
    "        eof_tmp = eof_tmp[0,:,:].rename({'variable':'mode'})\n",
    "        eofs.append(eof_tmp)      \n",
    "    ## --Combine the modes for reconstruction\n",
    "    eofs_combined = xr.combine_nested(eofs, concat_dim='eofs')\n",
    "    \n",
    "    ## --Get the pc_PPE\n",
    "    path_file = path_files+'nc/'\n",
    "    filename = 'CNRMppe_decomposition_EOFpc_'+str(variable)+'.nc'\n",
    "    pc_PPE = xr.open_dataset(path_file+filename)\n",
    "    pc_PPE_trunc = pc_PPE['pcs'][:,0:q]\n",
    "\n",
    "    ## -- Project the observations :\n",
    "    X_obs_W = X_obs_anom*W_eof_2D\n",
    "    U_obs = solver.projectField(X_obs_W, neofs=q, weighted=False, eofscaling=1)\n",
    "\n",
    "    ## -- reconstruct X_obs_rec : \n",
    "    pc=U_obs\n",
    "    nb_dims = 2\n",
    "    X_obs_rec = reconstruct_X(eofs_combined, pc, nb_dims)\n",
    "    ## -- reconstruct X_mod_rec : \n",
    "    pc=pc_PPE_trunc\n",
    "    nb_dims = 3\n",
    "    X_mod_rec = reconstruct_X(eofs_combined, pc.transpose(), nb_dims)\n",
    "\n",
    "    pj_list = MSE_rec(X_mod_rec, X_obs_rec, Mean, W_rmse_2D)\n",
    "\n",
    "    return pj_list"
   ]
  },
  {
   "cell_type": "code",
   "execution_count": 79,
   "metadata": {},
   "outputs": [],
   "source": [
    "df_fig = pd.DataFrame(ej_list, columns=['ej'])\n",
    "\n",
    "## -- 5 modes :\n",
    "q = 5\n",
    "pj_list = Error_PPE_param_component(path_files, variable, Mean, W_eof_2D, W_rmse_2D, q)\n",
    "df_fig['pj ' +str(q)+' modes'] = pj_list\n",
    "df_fig['uj ' +str(q)+' modes'] = abs(df_fig['ej'] - df_fig['pj ' +str(q)+' modes'])\n",
    "\n",
    "## -- 20 modes :\n",
    "q = 20\n",
    "pj_list = Error_PPE_param_component(path_files, variable, Mean, W_eof_2D, W_rmse_2D, q)\n",
    "df_fig['pj ' +str(q)+' modes'] = pj_list\n",
    "df_fig['uj ' +str(q)+' modes'] = abs(df_fig['ej'] - df_fig['pj ' +str(q)+' modes'])\n",
    "\n",
    "## -- 50 modes :\n",
    "q = 50\n",
    "pj_list = Error_PPE_param_component(path_files, variable, Mean, W_eof_2D, W_rmse_2D, q)\n",
    "df_fig['pj ' +str(q)+' modes'] = pj_list\n",
    "df_fig['uj ' +str(q)+' modes'] = abs(df_fig['ej'] - df_fig['pj ' +str(q)+' modes'])\n",
    "\n",
    "## -- 102 modes :\n",
    "q = 102\n",
    "pj_list = Error_PPE_param_component(path_files, variable, Mean, W_eof_2D, W_rmse_2D, q)\n",
    "df_fig['pj ' +str(q)+' modes'] = pj_list\n",
    "df_fig['uj ' +str(q)+' modes'] = abs(df_fig['ej'] - df_fig['pj ' +str(q)+' modes'])\n",
    "\n",
    "#df_fig"
   ]
  },
  {
   "cell_type": "code",
   "execution_count": 80,
   "metadata": {},
   "outputs": [
    {
     "data": {
      "text/html": [
       "<div>\n",
       "<style scoped>\n",
       "    .dataframe tbody tr th:only-of-type {\n",
       "        vertical-align: middle;\n",
       "    }\n",
       "\n",
       "    .dataframe tbody tr th {\n",
       "        vertical-align: top;\n",
       "    }\n",
       "\n",
       "    .dataframe thead th {\n",
       "        text-align: right;\n",
       "    }\n",
       "</style>\n",
       "<table border=\"1\" class=\"dataframe\">\n",
       "  <thead>\n",
       "    <tr style=\"text-align: right;\">\n",
       "      <th></th>\n",
       "      <th>ej</th>\n",
       "      <th>pj 5 modes</th>\n",
       "      <th>uj 5 modes</th>\n",
       "      <th>pj 20 modes</th>\n",
       "      <th>uj 20 modes</th>\n",
       "      <th>pj 50 modes</th>\n",
       "      <th>uj 50 modes</th>\n",
       "      <th>pj 102 modes</th>\n",
       "      <th>uj 102 modes</th>\n",
       "      <th>members</th>\n",
       "    </tr>\n",
       "  </thead>\n",
       "  <tbody>\n",
       "    <tr>\n",
       "      <th>55</th>\n",
       "      <td>1.443607</td>\n",
       "      <td>0.258860</td>\n",
       "      <td>1.184747</td>\n",
       "      <td>0.563592</td>\n",
       "      <td>0.880015</td>\n",
       "      <td>0.738717</td>\n",
       "      <td>0.704890</td>\n",
       "      <td>0.810402</td>\n",
       "      <td>0.633205</td>\n",
       "      <td>1</td>\n",
       "    </tr>\n",
       "    <tr>\n",
       "      <th>23</th>\n",
       "      <td>1.582254</td>\n",
       "      <td>0.301429</td>\n",
       "      <td>1.280825</td>\n",
       "      <td>0.685216</td>\n",
       "      <td>0.897038</td>\n",
       "      <td>0.818603</td>\n",
       "      <td>0.763651</td>\n",
       "      <td>0.949049</td>\n",
       "      <td>0.633205</td>\n",
       "      <td>2</td>\n",
       "    </tr>\n",
       "    <tr>\n",
       "      <th>17</th>\n",
       "      <td>1.807895</td>\n",
       "      <td>0.670313</td>\n",
       "      <td>1.137582</td>\n",
       "      <td>1.016779</td>\n",
       "      <td>0.791116</td>\n",
       "      <td>1.072012</td>\n",
       "      <td>0.735883</td>\n",
       "      <td>1.174690</td>\n",
       "      <td>0.633205</td>\n",
       "      <td>3</td>\n",
       "    </tr>\n",
       "    <tr>\n",
       "      <th>43</th>\n",
       "      <td>1.856190</td>\n",
       "      <td>0.780189</td>\n",
       "      <td>1.076001</td>\n",
       "      <td>0.983891</td>\n",
       "      <td>0.872299</td>\n",
       "      <td>1.120303</td>\n",
       "      <td>0.735887</td>\n",
       "      <td>1.222985</td>\n",
       "      <td>0.633205</td>\n",
       "      <td>4</td>\n",
       "    </tr>\n",
       "    <tr>\n",
       "      <th>101</th>\n",
       "      <td>1.896372</td>\n",
       "      <td>0.364043</td>\n",
       "      <td>1.532328</td>\n",
       "      <td>0.982227</td>\n",
       "      <td>0.914144</td>\n",
       "      <td>1.149090</td>\n",
       "      <td>0.747281</td>\n",
       "      <td>1.263166</td>\n",
       "      <td>0.633205</td>\n",
       "      <td>5</td>\n",
       "    </tr>\n",
       "    <tr>\n",
       "      <th>...</th>\n",
       "      <td>...</td>\n",
       "      <td>...</td>\n",
       "      <td>...</td>\n",
       "      <td>...</td>\n",
       "      <td>...</td>\n",
       "      <td>...</td>\n",
       "      <td>...</td>\n",
       "      <td>...</td>\n",
       "      <td>...</td>\n",
       "      <td>...</td>\n",
       "    </tr>\n",
       "    <tr>\n",
       "      <th>28</th>\n",
       "      <td>5.070134</td>\n",
       "      <td>3.582537</td>\n",
       "      <td>1.487597</td>\n",
       "      <td>4.147270</td>\n",
       "      <td>0.922864</td>\n",
       "      <td>4.369252</td>\n",
       "      <td>0.700881</td>\n",
       "      <td>4.436929</td>\n",
       "      <td>0.633205</td>\n",
       "      <td>98</td>\n",
       "    </tr>\n",
       "    <tr>\n",
       "      <th>6</th>\n",
       "      <td>5.090247</td>\n",
       "      <td>3.766628</td>\n",
       "      <td>1.323619</td>\n",
       "      <td>4.111492</td>\n",
       "      <td>0.978755</td>\n",
       "      <td>4.368383</td>\n",
       "      <td>0.721865</td>\n",
       "      <td>4.457042</td>\n",
       "      <td>0.633205</td>\n",
       "      <td>99</td>\n",
       "    </tr>\n",
       "    <tr>\n",
       "      <th>57</th>\n",
       "      <td>5.601402</td>\n",
       "      <td>3.970430</td>\n",
       "      <td>1.630972</td>\n",
       "      <td>4.689913</td>\n",
       "      <td>0.911488</td>\n",
       "      <td>4.867104</td>\n",
       "      <td>0.734298</td>\n",
       "      <td>4.968196</td>\n",
       "      <td>0.633205</td>\n",
       "      <td>100</td>\n",
       "    </tr>\n",
       "    <tr>\n",
       "      <th>48</th>\n",
       "      <td>5.812588</td>\n",
       "      <td>4.353049</td>\n",
       "      <td>1.459539</td>\n",
       "      <td>4.955697</td>\n",
       "      <td>0.856891</td>\n",
       "      <td>5.078757</td>\n",
       "      <td>0.733831</td>\n",
       "      <td>5.179383</td>\n",
       "      <td>0.633205</td>\n",
       "      <td>101</td>\n",
       "    </tr>\n",
       "    <tr>\n",
       "      <th>78</th>\n",
       "      <td>6.207372</td>\n",
       "      <td>4.484051</td>\n",
       "      <td>1.723321</td>\n",
       "      <td>5.302262</td>\n",
       "      <td>0.905110</td>\n",
       "      <td>5.497420</td>\n",
       "      <td>0.709952</td>\n",
       "      <td>5.574167</td>\n",
       "      <td>0.633205</td>\n",
       "      <td>102</td>\n",
       "    </tr>\n",
       "  </tbody>\n",
       "</table>\n",
       "<p>102 rows × 10 columns</p>\n",
       "</div>"
      ],
      "text/plain": [
       "           ej  pj 5 modes  uj 5 modes  pj 20 modes  uj 20 modes  pj 50 modes  \\\n",
       "55   1.443607    0.258860    1.184747     0.563592     0.880015     0.738717   \n",
       "23   1.582254    0.301429    1.280825     0.685216     0.897038     0.818603   \n",
       "17   1.807895    0.670313    1.137582     1.016779     0.791116     1.072012   \n",
       "43   1.856190    0.780189    1.076001     0.983891     0.872299     1.120303   \n",
       "101  1.896372    0.364043    1.532328     0.982227     0.914144     1.149090   \n",
       "..        ...         ...         ...          ...          ...          ...   \n",
       "28   5.070134    3.582537    1.487597     4.147270     0.922864     4.369252   \n",
       "6    5.090247    3.766628    1.323619     4.111492     0.978755     4.368383   \n",
       "57   5.601402    3.970430    1.630972     4.689913     0.911488     4.867104   \n",
       "48   5.812588    4.353049    1.459539     4.955697     0.856891     5.078757   \n",
       "78   6.207372    4.484051    1.723321     5.302262     0.905110     5.497420   \n",
       "\n",
       "     uj 50 modes  pj 102 modes  uj 102 modes  members  \n",
       "55      0.704890      0.810402      0.633205        1  \n",
       "23      0.763651      0.949049      0.633205        2  \n",
       "17      0.735883      1.174690      0.633205        3  \n",
       "43      0.735887      1.222985      0.633205        4  \n",
       "101     0.747281      1.263166      0.633205        5  \n",
       "..           ...           ...           ...      ...  \n",
       "28      0.700881      4.436929      0.633205       98  \n",
       "6       0.721865      4.457042      0.633205       99  \n",
       "57      0.734298      4.968196      0.633205      100  \n",
       "48      0.733831      5.179383      0.633205      101  \n",
       "78      0.709952      5.574167      0.633205      102  \n",
       "\n",
       "[102 rows x 10 columns]"
      ]
     },
     "execution_count": 80,
     "metadata": {},
     "output_type": "execute_result"
    }
   ],
   "source": [
    "df_fig_sort = df_fig.sort_values(by='ej')\n",
    "df_fig_sort['members'] = range(1, len(ej_list)+1,1)\n",
    "df_fig_sort"
   ]
  },
  {
   "cell_type": "markdown",
   "metadata": {},
   "source": [
    "## Error components ratio"
   ]
  },
  {
   "cell_type": "code",
   "execution_count": 81,
   "metadata": {},
   "outputs": [],
   "source": [
    "q_list = [5,20,50,102]\n",
    "ratio_p = {}\n",
    "ratio_u = {}\n",
    "for q in q_list :\n",
    "    ratio_p[str(q)+' modes'] = (df_fig['pj ' +str(q)+' modes'].mean()/df_fig['ej'].mean())*100\n",
    "    ratio_u[str(q)+' modes'] = (df_fig['uj ' +str(q)+' modes'].mean()/df_fig['ej'].mean())*100"
   ]
  },
  {
   "cell_type": "code",
   "execution_count": 82,
   "metadata": {},
   "outputs": [
    {
     "data": {
      "text/plain": [
       "{'5 modes': 55.89956977375758,\n",
       " '20 modes': 71.24473137337897,\n",
       " '50 modes': 76.63290860572315,\n",
       " '102 modes': 80.00693945330478}"
      ]
     },
     "execution_count": 82,
     "metadata": {},
     "output_type": "execute_result"
    }
   ],
   "source": [
    "ratio_p"
   ]
  },
  {
   "cell_type": "code",
   "execution_count": 83,
   "metadata": {},
   "outputs": [
    {
     "data": {
      "text/plain": [
       "{'5 modes': 44.10043022624244,\n",
       " '20 modes': 28.75526862662102,\n",
       " '50 modes': 23.36709139427684,\n",
       " '102 modes': 19.99306054669521}"
      ]
     },
     "execution_count": 83,
     "metadata": {},
     "output_type": "execute_result"
    }
   ],
   "source": [
    "ratio_u"
   ]
  },
  {
   "cell_type": "markdown",
   "metadata": {},
   "source": [
    "# Figure - error decomposition"
   ]
  },
  {
   "cell_type": "code",
   "execution_count": 84,
   "metadata": {},
   "outputs": [
    {
     "data": {
      "image/png": "[encoded data removed]",
      "text/plain": [
       "<Figure size 864x720 with 1 Axes>"
      ]
     },
     "metadata": {
      "needs_background": "light"
     },
     "output_type": "display_data"
    }
   ],
   "source": [
    "fig, ax = plt.subplots(figsize=(12,10))\n",
    "\n",
    "df_fig_sort.plot(kind='scatter', x='members', y='ej', \n",
    "                           color='black', alpha=1, marker='o', ax = ax)\n",
    "\n",
    "\n",
    "df_fig_sort.plot(kind='scatter', x='members', y='pj 5 modes', \n",
    "                           color='darkred', alpha=1, marker='o', ax = ax)  \n",
    "\n",
    "df_fig_sort.plot(kind='scatter', x='members', y='pj 20 modes', \n",
    "                           color='teal', alpha=1, marker='o', ax = ax) \n",
    "\n",
    "df_fig_sort.plot(kind='scatter', x='members', y='pj 50 modes', \n",
    "                           color='plum', alpha=1, marker='o', ax = ax) \n",
    "\n",
    "df_fig_sort.plot(kind='scatter', x='members', y='pj 102 modes', \n",
    "                           color='coral', alpha=1, marker='o', ax = ax) \n",
    "    \n",
    "cpt=1\n",
    "for i in df_fig_sort['ej'] : \n",
    "    plt.vlines(cpt,ymin = 0,ymax = i, colors='gray',\n",
    "           linestyles='dashed')\n",
    "    cpt+=1\n",
    "\n",
    " \n",
    "cpt=1\n",
    "for i in df_fig_sort['pj 102 modes'] : \n",
    "    plt.vlines(cpt,ymin = 0,ymax = i, colors='coral', label='_nolegend_',\n",
    "           linestyles='dashed')\n",
    "    cpt+=1\n",
    "\n",
    "cpt=1\n",
    "for i in df_fig_sort['pj 50 modes'] : \n",
    "    plt.vlines(cpt,ymin = 0,ymax = i, colors='plum', label='_nolegend_',\n",
    "           linestyles='dashed')\n",
    "    cpt+=1\n",
    "    \n",
    "cpt=1\n",
    "for i in df_fig_sort['pj 20 modes'] : \n",
    "    plt.vlines(cpt,ymin = 0,ymax = i, colors='teal', label='_nolegend_',\n",
    "           linestyles='dashed')\n",
    "    cpt+=1\n",
    "    \n",
    "cpt=1\n",
    "for i in df_fig_sort['pj 5 modes'] : \n",
    "    plt.vlines(cpt,ymin = 0,ymax = i, colors='darkred', label='_nolegend_',\n",
    "           linestyles='dashed')\n",
    "    cpt+=1\n",
    "\n",
    "legend=['Full error $e_{tas}(\\\\theta_i)$', \n",
    "        'Param. error $p_{tas}(\\\\theta_i)$ ($q=5$)', \n",
    "        'Param. error $p_{tas}(\\\\theta_i)$ ($q=20$)',\n",
    "        'Param. error $p_{tas}(\\\\theta_i)$ ($q=50$)',\n",
    "        'Param. error $p_{tas}(\\\\theta_i)$ ($q=102$)',\n",
    "        'Non-param. error $u_{tas}$ ($q=102$)']\n",
    "ax.tick_params(axis='both', which='major', labelsize=15)\n",
    "plt.legend(legend, fontsize=18, loc='upper left') #, bbox_to_anchor=(1.5, 1.02))\n",
    "plt.title('Precipitation ($mm/day$)', fontsize = 25)\n",
    "plt.xlabel('Models - ranked from best to worst',fontsize=20)\n",
    "plt.ylabel('Integrative model error (RMSE)', fontsize=20)\n",
    "ax.tick_params(axis='both', which='major', labelsize=15)\n",
    "plt.legend(legend, fontsize=16, loc='upper left') #, bbox_to_anchor=(1.5, 1.02))\n",
    "plt.title('Precipitation ($mm/day$)', fontsize = 25)\n",
    "plt.xlabel('PPE members $f(\\\\theta_i)$ - ranked from best to worst',fontsize=20)\n",
    "plt.ylabel('Integrative model error (MSE)', fontsize=20)\n",
    "\n",
    "# Enregistrer la figure ...........\n",
    "\n",
    "plt.savefig(\"/data/home/globc/peatier/figures/PPE_ej_decompo_example_\"+variable+\".png\", \n",
    "        orientation='portrait', bbox_inches='tight', pad_inches=0.1)\n",
    "\n",
    "# Display the figure \n",
    "plt.show()"
   ]
  },
  {
   "cell_type": "markdown",
   "metadata": {},
   "source": [
    "# Figure - correlation"
   ]
  },
  {
   "cell_type": "code",
   "execution_count": 85,
   "metadata": {},
   "outputs": [],
   "source": [
    "def correlation(df_fig, q) :\n",
    "    res = stats.linregress(df_fig['pj '+str(q)+' modes'], df_fig['ej'])\n",
    "    x = np.arange(0.2,5.8,0.02)\n",
    "    line = res.intercept + res.slope*x\n",
    "    \n",
    "    r = res.rvalue\n",
    "    r_round = round(r,3)\n",
    "    \n",
    "    return [line, r_round]"
   ]
  },
  {
   "cell_type": "code",
   "execution_count": 86,
   "metadata": {},
   "outputs": [],
   "source": [
    "corr = {}\n",
    "## -- 5 modes :\n",
    "q = 5\n",
    "corr[str(q)+' modes'] = correlation(df_fig, q)\n",
    "\n",
    "## -- 20 modes :\n",
    "q = 20\n",
    "corr[str(q)+' modes'] = correlation(df_fig, q)\n",
    "\n",
    "## -- 50 modes :\n",
    "q = 50\n",
    "corr[str(q)+' modes'] = correlation(df_fig, q)\n",
    "\n",
    "## -- 102 modes :\n",
    "q = 102\n",
    "corr[str(q)+' modes'] = correlation(df_fig, q)"
   ]
  },
  {
   "cell_type": "code",
   "execution_count": 87,
   "metadata": {},
   "outputs": [
    {
     "data": {
      "image/png": "[encoded data removed]",
      "text/plain": [
       "<Figure size 864x720 with 1 Axes>"
      ]
     },
     "metadata": {
      "needs_background": "light"
     },
     "output_type": "display_data"
    }
   ],
   "source": [
    "fig, ax = plt.subplots(figsize=(12,10))\n",
    "\n",
    "## -- Regression line for different q\n",
    "q=5\n",
    "ax.plot(np.arange(0.2,5.8,0.02), corr[str(q)+' modes'][0], \n",
    "        linestyle='--', alpha=0.5,  color='darkred', \n",
    "        label='_nolegend_', zorder =20)\n",
    "q=20\n",
    "ax.plot(np.arange(0.2,5.8,0.02), corr[str(q)+' modes'][0], \n",
    "        linestyle='--', alpha=0.5,  color='teal', \n",
    "        label='_nolegend_', zorder =20)\n",
    "q=50\n",
    "ax.plot(np.arange(0.2,5.8,0.02), corr[str(q)+' modes'][0], linestyle='--', alpha=0.5,  \n",
    "        color='plum', \n",
    "        label='_nolegend_', zorder =20)\n",
    "q=102\n",
    "ax.plot(np.arange(0.2,5.8,0.02), corr[str(q)+' modes'][0], linestyle='--', alpha=0.5,  \n",
    "        color='coral', \n",
    "        label='_nolegend_', zorder =20)\n",
    "\n",
    "## -- Scatter plot for different q\n",
    "q=5\n",
    "df_fig_sort.plot(kind='scatter', x='pj 5 modes', y='ej', \n",
    "                           color='darkred', alpha=1, marker='o', ax = ax, zorder =1)\n",
    "q=20\n",
    "df_fig_sort.plot(kind='scatter', x='pj 20 modes', y='ej', \n",
    "                           color='teal', alpha=1, marker='o', ax = ax, zorder =1)\n",
    "q=50\n",
    "df_fig_sort.plot(kind='scatter', x='pj 50 modes', y='ej', \n",
    "                           color='plum', alpha=1, marker='o', ax = ax, zorder =1)\n",
    "q=102\n",
    "df_fig_sort.plot(kind='scatter', x='pj 102 modes', y='ej', \n",
    "                           color='coral', alpha=1, marker='o', ax = ax, zorder =1)\n",
    "\n",
    "\n",
    "\n",
    "## -- Regression line for the diagonal (0,0)\n",
    "ax.plot(np.arange(0.0,10.0,0.02), np.arange(0.0,10.0,0.02), \n",
    "        linestyle=\"-\", alpha=0.3,  color='gray', \n",
    "        label='_nolegend_')\n",
    "\n",
    "## -- Legend and settings\n",
    "legend=['5 EOF modes retained ($q=5$)', \n",
    "        '20 EOF modes retained ($q=20$)', \n",
    "        '50 EOF modes retained ($q=50$)', \n",
    "        '102 EOF modes retained ($q=102$)']\n",
    "#ax.text(x=1.6, y=0.7, s='Pearson correlation coefficients :', fontsize=16)\n",
    "ax.text(x=0.05, y=7.0, s='$r = $'+str(corr['5 modes'][1]), fontsize=16, \n",
    "        color='darkred', fontweight='bold')\n",
    "ax.text(x=0.05, y=6.7, s='$r = $'+str(corr['20 modes'][1]), fontsize=16, \n",
    "        color='teal', fontweight='bold')\n",
    "ax.text(x=0.05, y=6.4, s='$r = $'+str(corr['50 modes'][1]), fontsize=16, \n",
    "        color='plum', fontweight='bold')\n",
    "ax.text(x=0.05, y=6.1, s='$r = $'+str(corr['102 modes'][1]), fontsize=16, \n",
    "        color='coral', fontweight='bold')\n",
    "ax.tick_params(axis='both', which='major', labelsize=15)\n",
    "plt.legend(legend, fontsize=18, loc='lower right') #, bbox_to_anchor=(1.5, 1.02))\n",
    "plt.title('Precipitation ($mm/day$)', fontsize = 25)\n",
    "plt.xlabel('Parametric component of the error $p_{tas}(\\\\theta_i)$',fontsize=20)\n",
    "plt.ylabel('Full error $e_{tas}(\\\\theta_i)$',fontsize=20)\n",
    "plt.ylim(0,7.2)\n",
    "plt.xlim(0,7.2)\n",
    "\n",
    "# Enregistrer la figure ...........\n",
    "\n",
    "plt.savefig(\"/data/home/globc/peatier/figures/Corr_decompo_example_\"+variable+\".png\", \n",
    "        orientation='portrait', bbox_inches='tight', pad_inches=0.1)\n",
    "\n",
    "# Display the figure \n",
    "plt.show()"
   ]
  },
  {
   "cell_type": "code",
   "execution_count": null,
   "metadata": {},
   "outputs": [],
   "source": []
  },
  {
   "cell_type": "code",
   "execution_count": null,
   "metadata": {},
   "outputs": [],
   "source": []
  }
 ],
 "metadata": {
  "kernelspec": {
   "display_name": "Python 3",
   "language": "python",
   "name": "python3"
  },
  "language_info": {
   "codemirror_mode": {
    "name": "ipython",
    "version": 3
   },
   "file_extension": ".py",
   "mimetype": "text/x-python",
   "name": "python",
   "nbconvert_exporter": "python",
   "pygments_lexer": "ipython3",
   "version": "3.7.6"
  }
 },
 "nbformat": 4,
 "nbformat_minor": 2
}
