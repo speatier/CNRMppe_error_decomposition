{
 "cells": [
  {
   "cell_type": "markdown",
   "metadata": {},
   "source": [
    "# Import Module"
   ]
  },
  {
   "cell_type": "code",
   "execution_count": 1,
   "metadata": {},
   "outputs": [],
   "source": [
    "# Computational modules \n",
    "%matplotlib inline\n",
    "import xarray as xr\n",
    "import glob\n",
    "import os\n",
    "import numpy as np\n",
    "import netCDF4\n",
    "from netCDF4 import Dataset\n",
    "import pandas as pd\n",
    "import re\n",
    "from array import array\n",
    "from pylab import *\n",
    "#import geopandas\n",
    "from eofs.xarray import Eof\n",
    "from eofs.multivariate.standard import MultivariateEof\n",
    "\n",
    "# Plotting modules \n",
    "import matplotlib.pyplot as plt\n",
    "from mpl_toolkits.basemap import Basemap\n",
    "import pandas.plotting\n",
    "import matplotlib.ticker as ticker\n",
    "import seaborn as sns\n",
    "import cartopy.crs as ccrs\n",
    "import cartopy.feature as cfeature\n",
    "from matplotlib.colors import BoundaryNorm\n",
    "\n",
    "# Scikit-learn\n",
    "from sklearn import linear_model\n",
    "from sklearn.linear_model import LassoCV, LassoLarsCV, LassoLarsIC\n",
    "from sklearn.linear_model import Lasso\n",
    "from sklearn.metrics import r2_score\n",
    "from sklearn import preprocessing\n",
    "from sklearn import tree\n",
    "from sklearn.ensemble import RandomForestClassifier\n",
    "from sklearn.metrics import confusion_matrix\n",
    "from sklearn import metrics\n",
    "from sklearn.neural_network import MLPRegressor\n",
    "from scipy.optimize import minimize\n",
    "from scipy.optimize import dual_annealing\n",
    "from sklearn.decomposition import PCA"
   ]
  },
  {
   "cell_type": "markdown",
   "metadata": {},
   "source": [
    "# Settings"
   ]
  },
  {
   "cell_type": "markdown",
   "metadata": {},
   "source": [
    "### Variables"
   ]
  },
  {
   "cell_type": "code",
   "execution_count": 14,
   "metadata": {},
   "outputs": [],
   "source": [
    "variables = ['rlut']\n",
    "variable = 'LW'\n",
    "TITLE = 'Long Wave fluxes'\n",
    "ylabel = '$E_{LW}$ ($W.m^{-2}.K^{-1}$)'"
   ]
  },
  {
   "cell_type": "markdown",
   "metadata": {},
   "source": [
    "### Paths"
   ]
  },
  {
   "cell_type": "code",
   "execution_count": 3,
   "metadata": {},
   "outputs": [],
   "source": [
    "path_official='/data/scratch/globc/peatier/CMIP6/CNRM-CM6-1/CFMIP/amip/'\n",
    "path_PPE='/data/scratch/globc/peatier/CNRM-CM6-1_PPE/'\n",
    "path_files='/data/home/globc/peatier/CNRMppe/PPE/ENSEMBLE2/files/'"
   ]
  },
  {
   "cell_type": "markdown",
   "metadata": {},
   "source": [
    "### List of members"
   ]
  },
  {
   "cell_type": "code",
   "execution_count": 4,
   "metadata": {},
   "outputs": [
    {
     "data": {
      "text/plain": [
       "102"
      ]
     },
     "execution_count": 4,
     "metadata": {},
     "output_type": "execute_result"
    }
   ],
   "source": [
    "nb_p_list = ['p311', 'p312', 'p314', 'p316',\n",
    "                    'p317', 'p319', 'p320', 'p321', 'p322', 'p324', 'p325', 'p326', \n",
    "                    'p329', 'p330', 'p331', 'p332', 'p335', 'p336', 'p337' ,'p338', \n",
    "                    'p340', 'p341', 'p343', 'p344', 'p346', 'p347', 'p348', 'p349', \n",
    "                    'p350', 'p353', 'p355', 'p357', 'p359', 'p360', \n",
    "                    'p361', 'p363', 'p365', 'p367', 'p368', 'p369', \n",
    "                    'p372', 'p373', 'p374', 'p375', 'p376', 'p378', 'p381', 'p382', \n",
    "                    'p384', 'p386', 'p388', 'p389', 'p391', 'p392', 'p393', \n",
    "                    'p394', 'p395', 'p396', 'p398', 'p399', 'p400', 'p404', \n",
    "                    'p406', 'p407', 'p409', 'p410', 'p411', 'p412',\n",
    "                    'p414','p416',\n",
    "                    'p413','p419','p424','p426','p428','p421','p423',\n",
    "                    'p425','p427','p429','p430','p436','p438','p431','p433',\n",
    "                    'p442','p446','p443','p445','p447',\n",
    "                    'p452','p454','p456','p458','p457','p459',\n",
    "                    'p460','p465','p467','p469',\n",
    "                    'p470','p471']\n",
    "\n",
    "len(nb_p_list)"
   ]
  },
  {
   "cell_type": "markdown",
   "metadata": {},
   "source": [
    "# Functions"
   ]
  },
  {
   "cell_type": "code",
   "execution_count": 6,
   "metadata": {},
   "outputs": [],
   "source": [
    "def get_3D_LW_xarr(path, filename, variables):\n",
    "\n",
    "    # First step : download the data into dataframe\n",
    "    file = xr.open_mfdataset(path+filename,combine='by_coords')\n",
    "    \n",
    "    # Second step : compute the annual average \n",
    "    df = file[variables].mean('time', keep_attrs=True)\n",
    "    LW = df['rlut']\n",
    "    \n",
    "    return LW"
   ]
  },
  {
   "cell_type": "code",
   "execution_count": 7,
   "metadata": {},
   "outputs": [],
   "source": [
    "def load_monthly_clim(path, filename, variables) :\n",
    "    \n",
    "    file = xr.open_mfdataset(path+filename,combine='by_coords')\n",
    "    df=file[variables].to_dataframe()\n",
    "    \n",
    "    # Compute Climatological Annual Cycle :\n",
    "    df1=df.reset_index(level=['time', 'lat', 'lon'])\n",
    "    df1['year']=pd.DatetimeIndex(df1['time']).year\n",
    "    df1['month']=pd.DatetimeIndex(df1['time']).month\n",
    "    \n",
    "    #list_ind = []\n",
    "    #cpt=0\n",
    "    #for i in df1['year'] : \n",
    "    #    if i>1981 :\n",
    "    #        list_ind.append(cpt)\n",
    "    #        cpt+=1\n",
    "    #    else : \n",
    "    #        cpt+=1\n",
    "            \n",
    "    #df2 = df1.drop(list_ind)\n",
    "    df_mean=df1.groupby(['month', 'lat', 'lon']).mean()\n",
    "    df_mean=df_mean.drop(columns='year')\n",
    "    \n",
    "    return df_mean"
   ]
  },
  {
   "cell_type": "markdown",
   "metadata": {},
   "source": [
    "# Get data : obs, PPE, p1"
   ]
  },
  {
   "cell_type": "code",
   "execution_count": 10,
   "metadata": {},
   "outputs": [],
   "source": [
    "path_observation = '/data/scratch/globc/peatier/obs_data/CERES/'\n",
    "filename = 'CERES_EBAF-TOA_Ed4.1_Subset_200003-201910_regrid.nc'"
   ]
  },
  {
   "cell_type": "code",
   "execution_count": 11,
   "metadata": {},
   "outputs": [
    {
     "data": {
      "text/html": [
       "<div>\n",
       "<style scoped>\n",
       "    .dataframe tbody tr th:only-of-type {\n",
       "        vertical-align: middle;\n",
       "    }\n",
       "\n",
       "    .dataframe tbody tr th {\n",
       "        vertical-align: top;\n",
       "    }\n",
       "\n",
       "    .dataframe thead th {\n",
       "        text-align: right;\n",
       "    }\n",
       "</style>\n",
       "<table border=\"1\" class=\"dataframe\">\n",
       "  <thead>\n",
       "    <tr style=\"text-align: right;\">\n",
       "      <th></th>\n",
       "      <th></th>\n",
       "      <th></th>\n",
       "      <th>toa_sw_all_mon</th>\n",
       "      <th>toa_lw_all_mon</th>\n",
       "      <th>toa_net_all_mon</th>\n",
       "    </tr>\n",
       "    <tr>\n",
       "      <th>month</th>\n",
       "      <th>lat</th>\n",
       "      <th>lon</th>\n",
       "      <th></th>\n",
       "      <th></th>\n",
       "      <th></th>\n",
       "    </tr>\n",
       "  </thead>\n",
       "  <tbody>\n",
       "    <tr>\n",
       "      <th rowspan=\"5\" valign=\"top\">1</th>\n",
       "      <th rowspan=\"5\" valign=\"top\">-88.927735</th>\n",
       "      <th>0.00000</th>\n",
       "      <td>344.953522</td>\n",
       "      <td>189.246185</td>\n",
       "      <td>-38.599289</td>\n",
       "    </tr>\n",
       "    <tr>\n",
       "      <th>1.40625</th>\n",
       "      <td>344.953522</td>\n",
       "      <td>189.246185</td>\n",
       "      <td>-38.599289</td>\n",
       "    </tr>\n",
       "    <tr>\n",
       "      <th>2.81250</th>\n",
       "      <td>344.953522</td>\n",
       "      <td>189.246185</td>\n",
       "      <td>-38.599289</td>\n",
       "    </tr>\n",
       "    <tr>\n",
       "      <th>4.21875</th>\n",
       "      <td>344.992493</td>\n",
       "      <td>189.144440</td>\n",
       "      <td>-38.531315</td>\n",
       "    </tr>\n",
       "    <tr>\n",
       "      <th>5.62500</th>\n",
       "      <td>345.007721</td>\n",
       "      <td>189.104630</td>\n",
       "      <td>-38.504715</td>\n",
       "    </tr>\n",
       "    <tr>\n",
       "      <th>...</th>\n",
       "      <th>...</th>\n",
       "      <th>...</th>\n",
       "      <td>...</td>\n",
       "      <td>...</td>\n",
       "      <td>...</td>\n",
       "    </tr>\n",
       "    <tr>\n",
       "      <th rowspan=\"5\" valign=\"top\">12</th>\n",
       "      <th rowspan=\"5\" valign=\"top\">88.927735</th>\n",
       "      <th>352.96875</th>\n",
       "      <td>0.000000</td>\n",
       "      <td>171.476639</td>\n",
       "      <td>-171.476639</td>\n",
       "    </tr>\n",
       "    <tr>\n",
       "      <th>354.37500</th>\n",
       "      <td>0.000000</td>\n",
       "      <td>171.476639</td>\n",
       "      <td>-171.476639</td>\n",
       "    </tr>\n",
       "    <tr>\n",
       "      <th>355.78125</th>\n",
       "      <td>0.000000</td>\n",
       "      <td>171.500351</td>\n",
       "      <td>-171.500351</td>\n",
       "    </tr>\n",
       "    <tr>\n",
       "      <th>357.18750</th>\n",
       "      <td>0.000000</td>\n",
       "      <td>171.560974</td>\n",
       "      <td>-171.560974</td>\n",
       "    </tr>\n",
       "    <tr>\n",
       "      <th>358.59375</th>\n",
       "      <td>0.000000</td>\n",
       "      <td>171.560974</td>\n",
       "      <td>-171.560974</td>\n",
       "    </tr>\n",
       "  </tbody>\n",
       "</table>\n",
       "<p>393216 rows × 3 columns</p>\n",
       "</div>"
      ],
      "text/plain": [
       "                            toa_sw_all_mon  toa_lw_all_mon  toa_net_all_mon\n",
       "month lat        lon                                                       \n",
       "1     -88.927735 0.00000        344.953522      189.246185       -38.599289\n",
       "                 1.40625        344.953522      189.246185       -38.599289\n",
       "                 2.81250        344.953522      189.246185       -38.599289\n",
       "                 4.21875        344.992493      189.144440       -38.531315\n",
       "                 5.62500        345.007721      189.104630       -38.504715\n",
       "...                                    ...             ...              ...\n",
       "12     88.927735 352.96875        0.000000      171.476639      -171.476639\n",
       "                 354.37500        0.000000      171.476639      -171.476639\n",
       "                 355.78125        0.000000      171.500351      -171.500351\n",
       "                 357.18750        0.000000      171.560974      -171.560974\n",
       "                 358.59375        0.000000      171.560974      -171.560974\n",
       "\n",
       "[393216 rows x 3 columns]"
      ]
     },
     "execution_count": 11,
     "metadata": {},
     "output_type": "execute_result"
    }
   ],
   "source": [
    "# Load data and compute Annual Cycle :\n",
    "file = xr.open_mfdataset(path_observation+filename,combine='by_coords')\n",
    "#file\n",
    "variables = ['toa_sw_all_mon','toa_lw_all_mon', 'toa_net_all_mon']\n",
    "df_obs = load_monthly_clim(path_observation, filename, variables)\n",
    "df_obs"
   ]
  },
  {
   "cell_type": "code",
   "execution_count": 12,
   "metadata": {},
   "outputs": [
    {
     "data": {
      "text/html": [
       "<pre>&lt;xarray.Dataset&gt;\n",
       "Dimensions:          (lat: 128, lon: 256)\n",
       "Coordinates:\n",
       "  * lat              (lat) float64 -88.93 -87.54 -86.14 ... 86.14 87.54 88.93\n",
       "  * lon              (lon) float64 0.0 1.406 2.812 4.219 ... 355.8 357.2 358.6\n",
       "Data variables:\n",
       "    toa_sw_all_mon   (lat, lon) float32 121.35958 121.35958 ... 103.85324\n",
       "    toa_lw_all_mon   (lat, lon) float32 142.8201 142.8201 ... 194.14125\n",
       "    toa_net_all_mon  (lat, lon) float32 -91.40278 -91.40278 ... -126.49493\n",
       "    LW               (lat, lon) float32 142.8201 142.8201 ... 194.14125</pre>"
      ],
      "text/plain": [
       "<xarray.Dataset>\n",
       "Dimensions:          (lat: 128, lon: 256)\n",
       "Coordinates:\n",
       "  * lat              (lat) float64 -88.93 -87.54 -86.14 ... 86.14 87.54 88.93\n",
       "  * lon              (lon) float64 0.0 1.406 2.812 4.219 ... 355.8 357.2 358.6\n",
       "Data variables:\n",
       "    toa_sw_all_mon   (lat, lon) float32 121.35958 121.35958 ... 103.85324\n",
       "    toa_lw_all_mon   (lat, lon) float32 142.8201 142.8201 ... 194.14125\n",
       "    toa_net_all_mon  (lat, lon) float32 -91.40278 -91.40278 ... -126.49493\n",
       "    LW               (lat, lon) float32 142.8201 142.8201 ... 194.14125"
      ]
     },
     "execution_count": 12,
     "metadata": {},
     "output_type": "execute_result"
    }
   ],
   "source": [
    "df_obs[variable] =  df_obs['toa_lw_all_mon']\n",
    "obs = df_obs.groupby(['lat','lon']).mean().to_xarray()\n",
    "obs"
   ]
  },
  {
   "cell_type": "code",
   "execution_count": 15,
   "metadata": {},
   "outputs": [],
   "source": [
    "# Default simulation\n",
    "path = path_PPE+'ENSEMBLE1/CNRM-CM6-1_amip_PPE/CNRM-CM6-1_amip_r1i1p1f2/'\n",
    "filename = '*_CNRM-CM6-1_amip_*.nc'\n",
    "p1_amip = get_3D_LW_xarr(path, filename, variables)"
   ]
  },
  {
   "cell_type": "code",
   "execution_count": 16,
   "metadata": {},
   "outputs": [],
   "source": [
    "# PPE amip simulations \n",
    "filename='*_amip_*.nc'\n",
    "\n",
    "N=len(nb_p_list)\n",
    "amip={}\n",
    "i = 0\n",
    "while i<N:\n",
    "    nb_p = nb_p_list[i]\n",
    "    #print(nb_p)\n",
    "    path=path_PPE+'ENSEMBLE2/CNRM-CM6-1_amip_LHS500_PPE/CNRM-CM6-1_amip_r1i1'+str(nb_p)+'f2/'\n",
    "    amip[str(nb_p)] = get_3D_LW_xarr(path, filename, variables)\n",
    "    i=i+1"
   ]
  },
  {
   "cell_type": "code",
   "execution_count": 17,
   "metadata": {},
   "outputs": [],
   "source": [
    "amip['p1'] = p1_amip"
   ]
  },
  {
   "cell_type": "markdown",
   "metadata": {},
   "source": [
    "# Calcule full RMSE (ej)"
   ]
  },
  {
   "cell_type": "code",
   "execution_count": 19,
   "metadata": {},
   "outputs": [
    {
     "data": {
      "text/plain": [
       "6.591000819987966"
      ]
     },
     "execution_count": 19,
     "metadata": {},
     "output_type": "execute_result"
    }
   ],
   "source": [
    "# Reference p1\n",
    "diff = (amip['p1'].values - obs[variable].values)**2\n",
    "diff_p1 = sqrt(sum(diff)/(128*256))\n",
    "diff_p1"
   ]
  },
  {
   "cell_type": "code",
   "execution_count": 21,
   "metadata": {},
   "outputs": [],
   "source": [
    "ej = {}\n",
    "#ej['p1'] = diff_p1\n",
    "\n",
    "for p in nb_p_list :\n",
    "    diff_tmp = (amip[p] - obs[variable])**2\n",
    "    diff = sqrt(diff_tmp.sum(dim=['lat', 'lon'])/(128*256))\n",
    "    ej[p] = diff\n"
   ]
  },
  {
   "cell_type": "markdown",
   "metadata": {},
   "source": [
    "### Save"
   ]
  },
  {
   "cell_type": "code",
   "execution_count": 22,
   "metadata": {},
   "outputs": [],
   "source": [
    "np.save(path_files+'npy/CNRMppe_decomposition_ej_'+str(variable)+'.npy', ej)"
   ]
  },
  {
   "cell_type": "markdown",
   "metadata": {},
   "source": [
    "# EOF + truncated RMSE (rj)"
   ]
  },
  {
   "cell_type": "markdown",
   "metadata": {},
   "source": [
    "## EOF"
   ]
  },
  {
   "cell_type": "code",
   "execution_count": 23,
   "metadata": {},
   "outputs": [],
   "source": [
    "n=len(nb_p_list)\n",
    "amip_list=[0]*(n+1)\n",
    "\n",
    "amip_list[0] = amip['p1']\n",
    "\n",
    "i = 0\n",
    "while i<n:\n",
    "    nb_p = nb_p_list[i]\n",
    "    #print(nb_p)\n",
    "    tmp = amip[str(nb_p)]\n",
    "    amip_list[i+1] = tmp\n",
    "    i+=1"
   ]
  },
  {
   "cell_type": "code",
   "execution_count": 24,
   "metadata": {},
   "outputs": [],
   "source": [
    "matrix = xr.combine_nested(amip_list, concat_dim=['time'])"
   ]
  },
  {
   "cell_type": "code",
   "execution_count": 25,
   "metadata": {},
   "outputs": [],
   "source": [
    "# Mean wheigted with cos(lat) : \n",
    "lats = matrix['lat'][:]\n",
    "coslat = np.cos(np.deg2rad(lats)).clip(0., 1.)\n",
    "wgts = np.sqrt(coslat).drop(labels='height').values\n",
    "W =wgts[np.newaxis,:,np.newaxis]\n",
    "#W"
   ]
  },
  {
   "cell_type": "code",
   "execution_count": 26,
   "metadata": {
    "scrolled": true
   },
   "outputs": [],
   "source": [
    "# Compute anomalies by removing the ensemble-mean.\n",
    "mean = matrix.mean(axis=0)\n",
    "anom = matrix - mean"
   ]
  },
  {
   "cell_type": "code",
   "execution_count": 27,
   "metadata": {},
   "outputs": [],
   "source": [
    "# Create an EOF solver to do the EOF analysis. \n",
    "solver = Eof(anom, center=False)"
   ]
  },
  {
   "cell_type": "code",
   "execution_count": 28,
   "metadata": {},
   "outputs": [],
   "source": [
    "eof = solver.eofsAsCovariance(neofs=100, pcscaling=1)\n",
    "pc = solver.pcs(npcs=100, pcscaling=0)"
   ]
  },
  {
   "cell_type": "code",
   "execution_count": 29,
   "metadata": {},
   "outputs": [],
   "source": [
    "varFrac = solver.varianceFraction(neigs=100)"
   ]
  },
  {
   "cell_type": "code",
   "execution_count": 30,
   "metadata": {},
   "outputs": [
    {
     "data": {
      "text/html": [
       "<pre>&lt;xarray.DataArray &#x27;pcs&#x27; (mode: 100)&gt;\n",
       "array([-2.46116455e+02,  5.71886536e+02,  2.83039001e+02,  2.46283007e+00,\n",
       "       -7.40725937e+01,  7.81285629e+01, -9.88859482e+01,  5.18345566e+01,\n",
       "       -1.00228531e+02,  8.18764801e+01, -5.68014793e+01,  7.27935104e+01,\n",
       "        4.85296869e+00,  1.67291855e+02, -1.81810303e+01, -5.99562359e+00,\n",
       "        1.91162834e+01, -3.80173836e+01,  6.15145798e+01,  1.23202370e+02,\n",
       "       -1.62933028e+00, -8.00783157e+00, -7.54813814e+00, -6.09687805e+01,\n",
       "       -3.05552616e+01, -6.25806236e+01, -4.68775482e+01, -1.18942118e+00,\n",
       "        2.80956306e+01,  9.65362549e+00,  3.45130653e+01,  5.46252584e+00,\n",
       "        1.22734761e+00, -6.81694603e+00,  8.47153664e+00,  6.54831123e+00,\n",
       "        3.99735184e+01,  5.98014412e+01,  8.52442837e+00,  2.20195866e+01,\n",
       "        3.75102844e+01,  2.13650761e+01,  6.39484119e+00,  3.52704287e+00,\n",
       "       -2.49569878e-01, -2.72992802e+01,  2.34332829e+01, -1.52564116e+01,\n",
       "       -2.03162766e+01,  5.23096514e+00, -2.07524471e+01, -1.29445820e+01,\n",
       "       -8.65583344e+01, -2.57180290e+01,  3.28996658e+00, -4.52851009e+00,\n",
       "       -1.10133286e+01, -3.61209345e+00,  4.46274796e+01,  7.21441364e+00,\n",
       "        1.24906759e+01, -2.17550354e+01, -1.56533003e+01,  1.10934486e+01,\n",
       "        2.57806091e+01, -3.15507069e+01, -1.65718918e+01,  6.00480413e+00,\n",
       "       -7.95729494e+00,  6.91541719e+00, -2.10597763e+01, -3.84751534e+00,\n",
       "        9.98885441e+00, -3.27043037e+01, -2.51806755e+01, -1.55857611e+00,\n",
       "       -1.67171612e+01, -2.98243141e+01,  1.04944210e+01, -1.48753614e+01,\n",
       "        5.22171497e+00, -1.60595226e+01, -5.47338247e+00,  1.24733925e+01,\n",
       "       -2.84918213e+01,  1.59060946e+01, -1.17291250e+01,  1.08025846e+01,\n",
       "        1.14371595e+01,  6.10729074e+00, -1.27233896e+01,  1.18721313e+01,\n",
       "        3.94244766e+00, -8.79495716e+00,  3.95048866e+01,  5.88093996e+00,\n",
       "        1.50139647e+01,  1.92999992e+01, -4.01856422e+01, -3.84042430e+00],\n",
       "      dtype=float32)\n",
       "Coordinates:\n",
       "    time     int64 0\n",
       "  * mode     (mode) int64 0 1 2 3 4 5 6 7 8 9 ... 90 91 92 93 94 95 96 97 98 99</pre>"
      ],
      "text/plain": [
       "<xarray.DataArray 'pcs' (mode: 100)>\n",
       "array([-2.46116455e+02,  5.71886536e+02,  2.83039001e+02,  2.46283007e+00,\n",
       "       -7.40725937e+01,  7.81285629e+01, -9.88859482e+01,  5.18345566e+01,\n",
       "       -1.00228531e+02,  8.18764801e+01, -5.68014793e+01,  7.27935104e+01,\n",
       "        4.85296869e+00,  1.67291855e+02, -1.81810303e+01, -5.99562359e+00,\n",
       "        1.91162834e+01, -3.80173836e+01,  6.15145798e+01,  1.23202370e+02,\n",
       "       -1.62933028e+00, -8.00783157e+00, -7.54813814e+00, -6.09687805e+01,\n",
       "       -3.05552616e+01, -6.25806236e+01, -4.68775482e+01, -1.18942118e+00,\n",
       "        2.80956306e+01,  9.65362549e+00,  3.45130653e+01,  5.46252584e+00,\n",
       "        1.22734761e+00, -6.81694603e+00,  8.47153664e+00,  6.54831123e+00,\n",
       "        3.99735184e+01,  5.98014412e+01,  8.52442837e+00,  2.20195866e+01,\n",
       "        3.75102844e+01,  2.13650761e+01,  6.39484119e+00,  3.52704287e+00,\n",
       "       -2.49569878e-01, -2.72992802e+01,  2.34332829e+01, -1.52564116e+01,\n",
       "       -2.03162766e+01,  5.23096514e+00, -2.07524471e+01, -1.29445820e+01,\n",
       "       -8.65583344e+01, -2.57180290e+01,  3.28996658e+00, -4.52851009e+00,\n",
       "       -1.10133286e+01, -3.61209345e+00,  4.46274796e+01,  7.21441364e+00,\n",
       "        1.24906759e+01, -2.17550354e+01, -1.56533003e+01,  1.10934486e+01,\n",
       "        2.57806091e+01, -3.15507069e+01, -1.65718918e+01,  6.00480413e+00,\n",
       "       -7.95729494e+00,  6.91541719e+00, -2.10597763e+01, -3.84751534e+00,\n",
       "        9.98885441e+00, -3.27043037e+01, -2.51806755e+01, -1.55857611e+00,\n",
       "       -1.67171612e+01, -2.98243141e+01,  1.04944210e+01, -1.48753614e+01,\n",
       "        5.22171497e+00, -1.60595226e+01, -5.47338247e+00,  1.24733925e+01,\n",
       "       -2.84918213e+01,  1.59060946e+01, -1.17291250e+01,  1.08025846e+01,\n",
       "        1.14371595e+01,  6.10729074e+00, -1.27233896e+01,  1.18721313e+01,\n",
       "        3.94244766e+00, -8.79495716e+00,  3.95048866e+01,  5.88093996e+00,\n",
       "        1.50139647e+01,  1.92999992e+01, -4.01856422e+01, -3.84042430e+00],\n",
       "      dtype=float32)\n",
       "Coordinates:\n",
       "    time     int64 0\n",
       "  * mode     (mode) int64 0 1 2 3 4 5 6 7 8 9 ... 90 91 92 93 94 95 96 97 98 99"
      ]
     },
     "execution_count": 30,
     "metadata": {},
     "output_type": "execute_result"
    }
   ],
   "source": [
    "pc[0]"
   ]
  },
  {
   "cell_type": "markdown",
   "metadata": {},
   "source": [
    "### Save"
   ]
  },
  {
   "cell_type": "code",
   "execution_count": 31,
   "metadata": {},
   "outputs": [],
   "source": [
    "for i in range(0,len(eof),1) : \n",
    "    j = i+1\n",
    "    # EOFmap\n",
    "    EOF_df = eof[i].to_dataframe().drop(labels = 'mode', axis=1)\n",
    "    EOF_df.to_pickle(path_files+\"npy/CNRMppe_decomposition_EOFmap\"+str(j)+\"_\"+str(variable)+\".npy\")\n",
    "    \n",
    "    #EOFpc\n",
    "    pc_p1 = pc[0, i]\n",
    "    pc_mb = pc[1:, i]\n",
    "    np.save(path_files+'npy/CNRMppe_decomposition_p1_EOF'+str(j)+'pc_'+str(variable)+'.npy', pc_p1)\n",
    "    np.save(path_files+'npy/CNRMppe_decomposition_EOF'+str(j)+'pc_'+str(variable)+'.npy', pc_mb)"
   ]
  },
  {
   "cell_type": "code",
   "execution_count": 32,
   "metadata": {},
   "outputs": [],
   "source": [
    "mean_df = mean.to_dataframe(name=str(variable)+'mean').drop(labels = 'height', axis=1)\n",
    "mean_df.to_pickle(path_files+'npy/CNRMppe_decomposition_mean_'+str(variable)+'.npy')"
   ]
  },
  {
   "cell_type": "markdown",
   "metadata": {},
   "source": [
    "## Get the observations"
   ]
  },
  {
   "cell_type": "code",
   "execution_count": 34,
   "metadata": {},
   "outputs": [
    {
     "data": {
      "text/html": [
       "<pre>&lt;xarray.DataArray (lat: 128, lon: 256)&gt;\n",
       "array([[1.3436279 , 1.3436279 , 1.3436279 , ..., 1.5608673 , 1.3436279 ,\n",
       "        1.3436279 ],\n",
       "       [0.6392975 , 0.6392975 , 0.6392975 , ..., 1.3332672 , 0.6392975 ,\n",
       "        0.6392975 ],\n",
       "       [0.79974365, 0.79974365, 0.79974365, ..., 1.3285065 , 0.79974365,\n",
       "        0.79974365],\n",
       "       ...,\n",
       "       [5.537903  , 5.537903  , 5.537903  , ..., 5.31102   , 5.537903  ,\n",
       "        5.537903  ],\n",
       "       [4.882019  , 4.882019  , 4.882019  , ..., 4.798538  , 4.882019  ,\n",
       "        4.882019  ],\n",
       "       [6.381012  , 6.381012  , 6.381012  , ..., 6.3507233 , 6.381012  ,\n",
       "        6.381012  ]], dtype=float32)\n",
       "Coordinates:\n",
       "  * lat      (lat) float64 -88.93 -87.54 -86.14 -84.74 ... 86.14 87.54 88.93\n",
       "  * lon      (lon) float64 0.0 1.406 2.812 4.219 ... 354.4 355.8 357.2 358.6\n",
       "    mode     &lt;U6 &#x27;LWmean&#x27;</pre>"
      ],
      "text/plain": [
       "<xarray.DataArray (lat: 128, lon: 256)>\n",
       "array([[1.3436279 , 1.3436279 , 1.3436279 , ..., 1.5608673 , 1.3436279 ,\n",
       "        1.3436279 ],\n",
       "       [0.6392975 , 0.6392975 , 0.6392975 , ..., 1.3332672 , 0.6392975 ,\n",
       "        0.6392975 ],\n",
       "       [0.79974365, 0.79974365, 0.79974365, ..., 1.3285065 , 0.79974365,\n",
       "        0.79974365],\n",
       "       ...,\n",
       "       [5.537903  , 5.537903  , 5.537903  , ..., 5.31102   , 5.537903  ,\n",
       "        5.537903  ],\n",
       "       [4.882019  , 4.882019  , 4.882019  , ..., 4.798538  , 4.882019  ,\n",
       "        4.882019  ],\n",
       "       [6.381012  , 6.381012  , 6.381012  , ..., 6.3507233 , 6.381012  ,\n",
       "        6.381012  ]], dtype=float32)\n",
       "Coordinates:\n",
       "  * lat      (lat) float64 -88.93 -87.54 -86.14 -84.74 ... 86.14 87.54 88.93\n",
       "  * lon      (lon) float64 0.0 1.406 2.812 4.219 ... 354.4 355.8 357.2 358.6\n",
       "    mode     <U6 'LWmean'"
      ]
     },
     "execution_count": 34,
     "metadata": {},
     "output_type": "execute_result"
    }
   ],
   "source": [
    "Mean =  pd.read_pickle(path_files+'npy/CNRMppe_decomposition_mean_'+str(variable)+'.npy').to_xarray().to_array()\n",
    "Mean = Mean[0,:,:].rename({'variable':'mode'})\n",
    "X_obs = obs[variable] - Mean\n",
    "#X_obs = obs.expand_dims(dim={'dummy':range(0,102,1)})\n",
    "#X_obs = obs.fillna(0.0)\n",
    "X_obs"
   ]
  },
  {
   "cell_type": "code",
   "execution_count": 35,
   "metadata": {},
   "outputs": [],
   "source": [
    "def Error_rj(cpt, U_obs, variable):\n",
    "    rj_list = []\n",
    "    for i in range(0,len(U_obs),1) :\n",
    "        j=i+1\n",
    "        pc = np.load(path_files+'npy/CNRMppe_decomposition_EOF'+str(j)+'pc_'+str(variable)+'.npy')\n",
    "        diff = (pc[cpt]-U_obs[i])**2\n",
    "        rj_list.append(diff)\n",
    "        #print(pc[cpt])\n",
    "        #print(U_obs[i])\n",
    "        #print(diff)\n",
    "    rj_E = sqrt(sum(rj_list)/(128*256))\n",
    "    return rj_E"
   ]
  },
  {
   "cell_type": "markdown",
   "metadata": {},
   "source": [
    "## Emulation"
   ]
  },
  {
   "cell_type": "code",
   "execution_count": 36,
   "metadata": {},
   "outputs": [],
   "source": [
    "def MultiLinReg(limit_train, EOF_nb, x, variable) :\n",
    "    X = np.load(file=\"/data/home/globc/peatier/CNRMppe/PPE/ENSEMBLE2/files/npy/X_EmulateurFeedbacksN.npy\")\n",
    "    y = np.load(file=path_files+'npy/CNRMppe_decomposition_EOF'+str(EOF_nb)+'pc_'+str(variable)+'.npy')\n",
    "    param_names = np.load(file=\"/data/home/globc/peatier/CNRMppe/PPE/ENSEMBLE2/files/npy/LHS_paramNames.npy\")\n",
    "    \n",
    "    # Let's use the model equation : \n",
    "\n",
    "    X_df = pd.DataFrame(data=X)\n",
    "    regr = linear_model.LinearRegression()\n",
    "    regr.fit(X[0:limit_train], y[0:limit_train])\n",
    "    R = regr.intercept_\n",
    "    Coeffs = pd.DataFrame([regr.coef_]*30, columns=param_names).iloc[0]\n",
    "  \n",
    "    tmp = Coeffs.values*x\n",
    "    y_pred = tmp.sum()+R\n",
    "    \n",
    "    return y_pred"
   ]
  },
  {
   "cell_type": "code",
   "execution_count": 37,
   "metadata": {},
   "outputs": [],
   "source": [
    "X = np.load(file=\"/data/home/globc/peatier/CNRMppe/PPE/ENSEMBLE2/files/npy/X_EmulateurFeedbacksN.npy\")\n",
    "pc_OS={}\n",
    "pc={}\n",
    "\n",
    "\n",
    "def predict_OS(X, EOF_nb) :\n",
    "    tmp_list = []\n",
    "    for x in X[80:] :\n",
    "        tmp = MultiLinReg(80, EOF_nb, x, variable)\n",
    "        tmp_list.append(tmp)\n",
    "    return tmp_list\n",
    "\n",
    "def predict_train(X, EOF_nb) :\n",
    "    tmp_list = []\n",
    "    for x in X[:80] :\n",
    "        tmp = MultiLinReg(80, EOF_nb, x, variable)\n",
    "        tmp_list.append(tmp)\n",
    "    return tmp_list\n",
    "    \n",
    "for i in range(1,101,1) : \n",
    "    pc_OS['modes_'+str(i)] = predict_OS(X, i)\n",
    "    pc['modes_'+str(i)] = predict_train(X,i)\n",
    "\n",
    "#pc_pred"
   ]
  },
  {
   "cell_type": "code",
   "execution_count": 38,
   "metadata": {},
   "outputs": [],
   "source": [
    "df_pc_OS = pd.DataFrame(pc_OS['modes_1'], columns=['modes_1'])\n",
    "df_pc = pd.DataFrame(pc['modes_1'], columns=['modes_1'])\n",
    "for i in range(1,101,1) :\n",
    "    df_pc_OS['modes_'+str(i)] = pc_OS['modes_'+str(i)]\n",
    "    df_pc['modes_'+str(i)] = pc['modes_'+str(i)]"
   ]
  },
  {
   "cell_type": "code",
   "execution_count": 39,
   "metadata": {},
   "outputs": [],
   "source": [
    "def Error_rj_pred(df_pc_pred, U_obs, variable, p):\n",
    "    rj_pred_list = []\n",
    "    for i in range(0,len(U_obs),1) :\n",
    "        j=i+1\n",
    "        pc_pred = df_pc_pred['modes_'+str(i+1)] \n",
    "        diff = (pc_pred[p]-U_obs[i])**2\n",
    "        rj_pred_list.append(diff)\n",
    "        \n",
    "    rj_pred = sqrt(sum(rj_pred_list)/(128*256))\n",
    "    return rj_pred"
   ]
  },
  {
   "cell_type": "markdown",
   "metadata": {},
   "source": [
    "# 4, 10 and 100 modes considered"
   ]
  },
  {
   "cell_type": "code",
   "execution_count": 40,
   "metadata": {},
   "outputs": [],
   "source": [
    "ej_list = []\n",
    "for p in nb_p_list :\n",
    "    ej_tmp = ej[p]\n",
    "    ej_list.append(ej_tmp)"
   ]
  },
  {
   "cell_type": "code",
   "execution_count": 66,
   "metadata": {},
   "outputs": [
    {
     "data": {
      "text/html": [
       "<pre>&lt;xarray.DataArray &#x27;pseudo_pcs&#x27; (mode: 100)&gt;\n",
       "array([ 2.77096519e+01,  3.88572998e+02,  8.21904480e+02, -8.93179321e+01,\n",
       "       -2.32159576e+02,  2.60290241e+01,  2.57582458e+02, -7.97027969e+01,\n",
       "       -2.97300995e+02,  2.80094299e+02, -5.97204494e+00,  2.01661377e+02,\n",
       "        2.02878220e+02,  1.24493851e+02, -6.48531723e+01,  7.59058533e+01,\n",
       "       -3.08992672e+01, -1.20337318e+02, -2.70789307e+02, -5.19278717e+01,\n",
       "       -7.38786774e+01, -7.75228577e+01, -1.44321259e+02,  1.61586044e+02,\n",
       "       -8.92378311e+01, -5.30126915e+01, -6.38695412e+01,  1.45238743e+01,\n",
       "        8.00761795e+01,  7.17918015e+01, -5.06692543e+01,  9.17912064e+01,\n",
       "       -3.52204781e+01,  9.36749458e+00,  2.02846775e+01,  9.78892517e+01,\n",
       "       -8.94072647e+01, -3.04818964e+00,  2.39620171e+01,  1.66111069e+01,\n",
       "        4.62200241e+01,  5.88390312e+01,  3.86238899e+01,  2.04781876e+01,\n",
       "        1.12561646e+02, -1.95413399e+01,  1.94405251e+01, -5.69561768e+01,\n",
       "       -5.36085052e+01, -3.74117317e+01, -1.81566162e+01, -1.48881817e+01,\n",
       "        1.34478569e+01,  5.44581146e+01,  1.84045219e+01,  2.86047592e+01,\n",
       "       -4.01847184e-01, -3.59025536e+01,  3.53771935e+01,  3.54706421e+01,\n",
       "        4.44595413e+01,  4.95463676e+01, -1.57733421e+01, -5.53117418e+00,\n",
       "       -3.21502647e+01,  3.27923431e+01, -2.66904049e+01, -4.87711906e+01,\n",
       "       -1.62543907e+01, -3.49227562e+01, -2.76010685e+01,  4.76273727e+01,\n",
       "       -7.00379944e+00,  1.53114204e+01,  5.75012732e+00,  2.30917339e+01,\n",
       "        3.58490334e+01, -2.00211449e+01,  8.81464767e+00, -2.64186325e+01,\n",
       "       -1.97192535e+01,  1.82315578e+01,  9.35978508e+00,  1.65574360e+01,\n",
       "        2.88651943e+00, -2.15637341e+01,  5.94144897e+01,  1.44256630e+01,\n",
       "        5.77416191e+01, -1.13087683e+01, -1.45169544e+01, -1.48503208e+01,\n",
       "       -1.08633995e+01, -3.33749084e+01,  3.77838173e+01,  8.39228439e+00,\n",
       "       -2.17586994e+01,  1.74618874e+01, -2.00907726e+01, -4.44377022e+01],\n",
       "      dtype=float32)\n",
       "Coordinates:\n",
       "  * mode     (mode) int64 0 1 2 3 4 5 6 7 8 9 ... 90 91 92 93 94 95 96 97 98 99\n",
       "Attributes:\n",
       "    long_name:  None_pseudo_pcs</pre>"
      ],
      "text/plain": [
       "<xarray.DataArray 'pseudo_pcs' (mode: 100)>\n",
       "array([ 2.77096519e+01,  3.88572998e+02,  8.21904480e+02, -8.93179321e+01,\n",
       "       -2.32159576e+02,  2.60290241e+01,  2.57582458e+02, -7.97027969e+01,\n",
       "       -2.97300995e+02,  2.80094299e+02, -5.97204494e+00,  2.01661377e+02,\n",
       "        2.02878220e+02,  1.24493851e+02, -6.48531723e+01,  7.59058533e+01,\n",
       "       -3.08992672e+01, -1.20337318e+02, -2.70789307e+02, -5.19278717e+01,\n",
       "       -7.38786774e+01, -7.75228577e+01, -1.44321259e+02,  1.61586044e+02,\n",
       "       -8.92378311e+01, -5.30126915e+01, -6.38695412e+01,  1.45238743e+01,\n",
       "        8.00761795e+01,  7.17918015e+01, -5.06692543e+01,  9.17912064e+01,\n",
       "       -3.52204781e+01,  9.36749458e+00,  2.02846775e+01,  9.78892517e+01,\n",
       "       -8.94072647e+01, -3.04818964e+00,  2.39620171e+01,  1.66111069e+01,\n",
       "        4.62200241e+01,  5.88390312e+01,  3.86238899e+01,  2.04781876e+01,\n",
       "        1.12561646e+02, -1.95413399e+01,  1.94405251e+01, -5.69561768e+01,\n",
       "       -5.36085052e+01, -3.74117317e+01, -1.81566162e+01, -1.48881817e+01,\n",
       "        1.34478569e+01,  5.44581146e+01,  1.84045219e+01,  2.86047592e+01,\n",
       "       -4.01847184e-01, -3.59025536e+01,  3.53771935e+01,  3.54706421e+01,\n",
       "        4.44595413e+01,  4.95463676e+01, -1.57733421e+01, -5.53117418e+00,\n",
       "       -3.21502647e+01,  3.27923431e+01, -2.66904049e+01, -4.87711906e+01,\n",
       "       -1.62543907e+01, -3.49227562e+01, -2.76010685e+01,  4.76273727e+01,\n",
       "       -7.00379944e+00,  1.53114204e+01,  5.75012732e+00,  2.30917339e+01,\n",
       "        3.58490334e+01, -2.00211449e+01,  8.81464767e+00, -2.64186325e+01,\n",
       "       -1.97192535e+01,  1.82315578e+01,  9.35978508e+00,  1.65574360e+01,\n",
       "        2.88651943e+00, -2.15637341e+01,  5.94144897e+01,  1.44256630e+01,\n",
       "        5.77416191e+01, -1.13087683e+01, -1.45169544e+01, -1.48503208e+01,\n",
       "       -1.08633995e+01, -3.33749084e+01,  3.77838173e+01,  8.39228439e+00,\n",
       "       -2.17586994e+01,  1.74618874e+01, -2.00907726e+01, -4.44377022e+01],\n",
       "      dtype=float32)\n",
       "Coordinates:\n",
       "  * mode     (mode) int64 0 1 2 3 4 5 6 7 8 9 ... 90 91 92 93 94 95 96 97 98 99\n",
       "Attributes:\n",
       "    long_name:  None_pseudo_pcs"
      ]
     },
     "execution_count": 66,
     "metadata": {},
     "output_type": "execute_result"
    }
   ],
   "source": [
    "neofs = 100\n",
    "U_obs = solver.projectField(X_obs, neofs=neofs, weighted=False, eofscaling=0)\n",
    "#U_obs = U_obs[0:4]\n",
    "U_obs"
   ]
  },
  {
   "cell_type": "code",
   "execution_count": 67,
   "metadata": {},
   "outputs": [],
   "source": [
    "df_fig = pd.DataFrame(ej_list, columns=['ej'])\n",
    "df_fig_pred = pd.DataFrame(ej_list[:80], columns=['ej'])\n",
    "df_fig_pred_OS = pd.DataFrame(ej_list[80:], columns=['ej'])\n",
    "\n",
    "  \n",
    "rj_list=[]\n",
    "cpt=0\n",
    "for p in nb_p_list:\n",
    "    tmp = Error_rj(cpt, U_obs, variable)\n",
    "    rj_list.append(tmp)\n",
    "    cpt+=1\n",
    "        \n",
    "df_fig['rj'] = rj_list\n",
    "df_fig['frac'] = abs(df_fig['rj']-df_fig['ej'])   \n",
    "        \n",
    "rj_pred_OS_list = []\n",
    "for p in range(0,22,1) : \n",
    "    tmp = Error_rj_pred(df_pc_OS, U_obs, variable, p)\n",
    "    rj_pred_OS_list.append(tmp)   \n",
    "    \n",
    "df_fig_pred_OS['rj_pred'] = rj_pred_OS_list\n",
    "\n",
    "rj_pred_list = []\n",
    "for p in range(0,80,1) : \n",
    "    tmp = Error_rj_pred(df_pc, U_obs, variable, p)\n",
    "    rj_pred_list.append(tmp)   \n",
    "    \n",
    "df_fig_pred['rj_pred'] = rj_pred_list"
   ]
  },
  {
   "cell_type": "code",
   "execution_count": 68,
   "metadata": {},
   "outputs": [
    {
     "data": {
      "text/html": [
       "<div>\n",
       "<style scoped>\n",
       "    .dataframe tbody tr th:only-of-type {\n",
       "        vertical-align: middle;\n",
       "    }\n",
       "\n",
       "    .dataframe tbody tr th {\n",
       "        vertical-align: top;\n",
       "    }\n",
       "\n",
       "    .dataframe thead th {\n",
       "        text-align: right;\n",
       "    }\n",
       "</style>\n",
       "<table border=\"1\" class=\"dataframe\">\n",
       "  <thead>\n",
       "    <tr style=\"text-align: right;\">\n",
       "      <th></th>\n",
       "      <th>ej</th>\n",
       "      <th>rj</th>\n",
       "      <th>frac</th>\n",
       "    </tr>\n",
       "  </thead>\n",
       "  <tbody>\n",
       "    <tr>\n",
       "      <th>0</th>\n",
       "      <td>9.524349</td>\n",
       "      <td>8.985488</td>\n",
       "      <td>0.538861</td>\n",
       "    </tr>\n",
       "    <tr>\n",
       "      <th>1</th>\n",
       "      <td>9.409581</td>\n",
       "      <td>8.860860</td>\n",
       "      <td>0.548721</td>\n",
       "    </tr>\n",
       "    <tr>\n",
       "      <th>2</th>\n",
       "      <td>11.885672</td>\n",
       "      <td>11.455817</td>\n",
       "      <td>0.429855</td>\n",
       "    </tr>\n",
       "    <tr>\n",
       "      <th>3</th>\n",
       "      <td>10.792089</td>\n",
       "      <td>10.318208</td>\n",
       "      <td>0.473881</td>\n",
       "    </tr>\n",
       "    <tr>\n",
       "      <th>4</th>\n",
       "      <td>8.820747</td>\n",
       "      <td>8.235436</td>\n",
       "      <td>0.585311</td>\n",
       "    </tr>\n",
       "    <tr>\n",
       "      <th>...</th>\n",
       "      <td>...</td>\n",
       "      <td>...</td>\n",
       "      <td>...</td>\n",
       "    </tr>\n",
       "    <tr>\n",
       "      <th>97</th>\n",
       "      <td>9.207104</td>\n",
       "      <td>8.645818</td>\n",
       "      <td>0.561286</td>\n",
       "    </tr>\n",
       "    <tr>\n",
       "      <th>98</th>\n",
       "      <td>10.507280</td>\n",
       "      <td>10.020881</td>\n",
       "      <td>0.486399</td>\n",
       "    </tr>\n",
       "    <tr>\n",
       "      <th>99</th>\n",
       "      <td>8.645027</td>\n",
       "      <td>8.043117</td>\n",
       "      <td>0.601910</td>\n",
       "    </tr>\n",
       "    <tr>\n",
       "      <th>100</th>\n",
       "      <td>9.193319</td>\n",
       "      <td>8.630033</td>\n",
       "      <td>0.563287</td>\n",
       "    </tr>\n",
       "    <tr>\n",
       "      <th>101</th>\n",
       "      <td>6.444417</td>\n",
       "      <td>5.616813</td>\n",
       "      <td>0.827604</td>\n",
       "    </tr>\n",
       "  </tbody>\n",
       "</table>\n",
       "<p>102 rows × 3 columns</p>\n",
       "</div>"
      ],
      "text/plain": [
       "            ej         rj      frac\n",
       "0     9.524349   8.985488  0.538861\n",
       "1     9.409581   8.860860  0.548721\n",
       "2    11.885672  11.455817  0.429855\n",
       "3    10.792089  10.318208  0.473881\n",
       "4     8.820747   8.235436  0.585311\n",
       "..         ...        ...       ...\n",
       "97    9.207104   8.645818  0.561286\n",
       "98   10.507280  10.020881  0.486399\n",
       "99    8.645027   8.043117  0.601910\n",
       "100   9.193319   8.630033  0.563287\n",
       "101   6.444417   5.616813  0.827604\n",
       "\n",
       "[102 rows x 3 columns]"
      ]
     },
     "execution_count": 68,
     "metadata": {},
     "output_type": "execute_result"
    }
   ],
   "source": [
    "df_fig['frac'] =  abs(df_fig['rj']-df_fig['ej'])\n",
    "df_fig"
   ]
  },
  {
   "cell_type": "code",
   "execution_count": 69,
   "metadata": {},
   "outputs": [
    {
     "data": {
      "text/plain": [
       "0.555833635862717"
      ]
     },
     "execution_count": 69,
     "metadata": {},
     "output_type": "execute_result"
    }
   ],
   "source": [
    "Un = df_fig['frac'].mean()\n",
    "#max_rj = df_fig['rj'].max()#/10\n",
    "#Unresolved = (Unresolved_frac/max_rj)*100\n",
    "#Unresolved = Un/diff_p1\n",
    "Un#resolved"
   ]
  },
  {
   "cell_type": "code",
   "execution_count": 70,
   "metadata": {},
   "outputs": [],
   "source": [
    "df_fig['test'] = df_fig['rj']# / 10\n",
    "df_fig_pred['test'] = df_fig_pred['rj_pred']# / 10\n",
    "df_fig_pred_OS['test'] = df_fig_pred_OS['rj_pred']# / 10"
   ]
  },
  {
   "cell_type": "code",
   "execution_count": 71,
   "metadata": {},
   "outputs": [],
   "source": [
    "coeff = (df_fig['ej'][90] - df_fig['ej'][5])/(df_fig['test'][90] - df_fig['test'][5])\n",
    "line_tmp = df_fig['test']*coeff\n",
    "intercept = df_fig['ej'].mean() - line_tmp.mean()\n",
    "line = range(0,1000,1)*coeff \n",
    "line = line + intercept"
   ]
  },
  {
   "cell_type": "code",
   "execution_count": 72,
   "metadata": {},
   "outputs": [
    {
     "data": {
      "text/plain": [
       "5.786997644361007"
      ]
     },
     "execution_count": 72,
     "metadata": {},
     "output_type": "execute_result"
    }
   ],
   "source": [
    "rj_list = []\n",
    "for i in range(0,len(U_obs),1) :\n",
    "    j=i+1\n",
    "    pc = np.load(path_files+'npy/CNRMppe_decomposition_p1_EOF'+str(j)+'pc_'+str(variable)+'.npy')\n",
    "    diff = (U_obs[i]-pc)**2\n",
    "    rj_list.append(diff)\n",
    "p1_rj = sqrt(sum(rj_list)/(128*256))#/10\n",
    "p1_rj"
   ]
  },
  {
   "cell_type": "code",
   "execution_count": 73,
   "metadata": {},
   "outputs": [
    {
     "data": {
      "text/plain": [
       "[6.591000819987966, 5.786997644361007]"
      ]
     },
     "execution_count": 73,
     "metadata": {},
     "output_type": "execute_result"
    }
   ],
   "source": [
    "#p1_vec={}\n",
    "#p1_vec['ej'] = diff_p1\n",
    "#p1_vec['rj'] = p1_rj\n",
    "p1_vec = []\n",
    "p1_vec.append(diff_p1)\n",
    "p1_vec.append(p1_rj)\n",
    "p1_vec"
   ]
  },
  {
   "cell_type": "code",
   "execution_count": 74,
   "metadata": {},
   "outputs": [
    {
     "data": {
      "text/plain": [
       "0.804003175626959"
      ]
     },
     "execution_count": 74,
     "metadata": {},
     "output_type": "execute_result"
    }
   ],
   "source": [
    "Unresolved = abs(p1_rj-diff_p1)#*diff_p1\n",
    "Unresolved"
   ]
  },
  {
   "cell_type": "markdown",
   "metadata": {},
   "source": [
    "# Figure"
   ]
  },
  {
   "cell_type": "code",
   "execution_count": 53,
   "metadata": {},
   "outputs": [
    {
     "data": {
      "image/png": "[encoded data removed]",
      "text/plain": [
       "<Figure size 720x720 with 1 Axes>"
      ]
     },
     "metadata": {
      "needs_background": "light"
     },
     "output_type": "display_data"
    }
   ],
   "source": [
    "plt.figure(figsize=(10, 10))\n",
    "    \n",
    "\n",
    "ax = plt.gca()\n",
    "#ax2 = ax.twinx()\n",
    "\n",
    "\n",
    "ax.axvspan(0, Unresolved, alpha=0.3, color='gray')\n",
    "ax.plot(range(0,1000,1), line, linestyle=\"-.\", alpha=0.7,  color='black')\n",
    "# ------- PLOT p1 sur la figure : work in progress --------\n",
    "ax.plot(p1_vec[1], p1_vec[0], marker='o', color='white', markeredgecolor='black', markeredgewidth=4, \n",
    "        markersize=20)\n",
    "#---------------------------\n",
    "df_fig.plot(kind='scatter', x='test', y='ej', color = 'black', alpha=1, ax=ax)\n",
    "df_fig_pred.plot(kind='scatter', x='test', y='ej', color = 'blue', alpha=1, ax=ax)\n",
    "df_fig_pred_OS.plot(kind='scatter', x='test', y='ej', color = 'red', alpha=1, ax=ax)\n",
    "\n",
    "#ax.axhline(0, color='k', alpha=0.5)\n",
    "#ax.set_ylim(0, 1.1)\n",
    "ax.set_xlabel('EOF reconstruction', size = 20)\n",
    "ax.set_ylabel('GM RMSE', size = 20)\n",
    "ax.set_title('Long Wave fluxes - '+str(neofs)+' modes', fontsize=20, \n",
    "             fontweight = 'bold')\n",
    "#ax.set_xscale('log')\n",
    "ax.tick_params(axis='y', which='major', labelsize=20)\n",
    "ax.tick_params(axis='x', which='major', labelsize=20)\n",
    "\n",
    "plt.xlim([0, 30])\n",
    "plt.ylim([0, 30])\n",
    "\n",
    "# Legend .................\n",
    "\n",
    "#legend = [ 'Correlation', 'Unresolved fraction']\n",
    "#ax.get_legend().remove()\n",
    "#ax.legend(legend, fontsize=25, bbox_to_anchor=(1.65, 0.83)) #bbox_to_anchor=(1.05, 1)\n",
    "#fig.subplots_adjust(right=0.8)\n",
    "\n",
    "# Grid .................\n",
    "#ax.grid(True, which=\"both\", axis='x')\n",
    "\n",
    "# Save la figure .................\n",
    "plt.savefig(\"/data/home/globc/peatier/figures/Fig3_\"+variable+\"_\"+str(neofs)+\"modes.png\", \n",
    "            orientation='portrait', bbox_inches='tight', pad_inches=0.1)\n",
    "\n",
    "# Show la figure .................\n",
    "plt.show()"
   ]
  },
  {
   "cell_type": "code",
   "execution_count": 65,
   "metadata": {},
   "outputs": [
    {
     "data": {
      "image/png": "[encoded data removed]",
      "text/plain": [
       "<Figure size 720x720 with 1 Axes>"
      ]
     },
     "metadata": {
      "needs_background": "light"
     },
     "output_type": "display_data"
    }
   ],
   "source": [
    "plt.figure(figsize=(10, 10))\n",
    "    \n",
    "\n",
    "ax = plt.gca()\n",
    "#ax2 = ax.twinx()\n",
    "\n",
    "\n",
    "ax.axvspan(0, Unresolved, alpha=0.3, color='gray')\n",
    "ax.plot(range(0,1000,1), line, linestyle=\"-.\", alpha=0.7,  color='black')\n",
    "# ------- PLOT p1 sur la figure : work in progress --------\n",
    "ax.plot(p1_vec[1], p1_vec[0], marker='o', color='white', markeredgecolor='black', markeredgewidth=4, \n",
    "        markersize=20)\n",
    "#---------------------------\n",
    "df_fig.plot(kind='scatter', x='test', y='ej', color = 'black', alpha=1, ax=ax)\n",
    "df_fig_pred.plot(kind='scatter', x='test', y='ej', color = 'blue', alpha=1, ax=ax)\n",
    "df_fig_pred_OS.plot(kind='scatter', x='test', y='ej', color = 'red', alpha=1, ax=ax)\n",
    "\n",
    "#ax.axhline(0, color='k', alpha=0.5)\n",
    "#ax.set_ylim(0, 1.1)\n",
    "ax.set_xlabel('EOF reconstruction', size = 20)\n",
    "ax.set_ylabel('GM RMSE', size = 20)\n",
    "ax.set_title('Long Wave fluxes - '+str(neofs)+' modes', fontsize=20, \n",
    "             fontweight = 'bold')\n",
    "#ax.set_xscale('log')\n",
    "ax.tick_params(axis='y', which='major', labelsize=20)\n",
    "ax.tick_params(axis='x', which='major', labelsize=20)\n",
    "\n",
    "plt.xlim([0, 30])\n",
    "plt.ylim([0, 30])\n",
    "\n",
    "# Legend .................\n",
    "\n",
    "#legend = [ 'Correlation', 'Unresolved fraction']\n",
    "#ax.get_legend().remove()\n",
    "#ax.legend(legend, fontsize=25, bbox_to_anchor=(1.65, 0.83)) #bbox_to_anchor=(1.05, 1)\n",
    "#fig.subplots_adjust(right=0.8)\n",
    "\n",
    "# Grid .................\n",
    "#ax.grid(True, which=\"both\", axis='x')\n",
    "\n",
    "# Save la figure .................\n",
    "plt.savefig(\"/data/home/globc/peatier/figures/Fig3_\"+variable+\"_\"+str(neofs)+\"modes.png\", \n",
    "            orientation='portrait', bbox_inches='tight', pad_inches=0.1)\n",
    "\n",
    "# Show la figure .................\n",
    "plt.show()"
   ]
  },
  {
   "cell_type": "code",
   "execution_count": 76,
   "metadata": {},
   "outputs": [
    {
     "data": {
      "image/png": "[encoded data removed]",
      "text/plain": [
       "<Figure size 720x720 with 1 Axes>"
      ]
     },
     "metadata": {
      "needs_background": "light"
     },
     "output_type": "display_data"
    }
   ],
   "source": [
    "plt.figure(figsize=(10, 10))\n",
    "    \n",
    "\n",
    "ax = plt.gca()\n",
    "#ax2 = ax.twinx()\n",
    "\n",
    "\n",
    "ax.axvspan(0, Unresolved, alpha=0.3, color='gray')\n",
    "ax.plot(range(0,1000,1), line, linestyle=\"-.\", alpha=0.7,  color='black')\n",
    "# ------- PLOT p1 sur la figure : work in progress --------\n",
    "ax.plot(p1_vec[1], p1_vec[0], marker='o', color='white', markeredgecolor='black', markeredgewidth=4, \n",
    "        markersize=20)\n",
    "#---------------------------\n",
    "df_fig.plot(kind='scatter', x='test', y='ej', color = 'black', alpha=1, ax=ax)\n",
    "df_fig_pred.plot(kind='scatter', x='test', y='ej', color = 'blue', alpha=1, ax=ax)\n",
    "df_fig_pred_OS.plot(kind='scatter', x='test', y='ej', color = 'red', alpha=1, ax=ax)\n",
    "\n",
    "#ax.axhline(0, color='k', alpha=0.5)\n",
    "#ax.set_ylim(0, 1.1)\n",
    "ax.set_xlabel('EOF reconstruction', size = 20)\n",
    "ax.set_ylabel('GM RMSE', size = 20)\n",
    "ax.set_title('Long Wave fluxes - '+str(neofs)+' modes', fontsize=20, \n",
    "             fontweight = 'bold')\n",
    "#ax.set_xscale('log')\n",
    "ax.tick_params(axis='y', which='major', labelsize=20)\n",
    "ax.tick_params(axis='x', which='major', labelsize=20)\n",
    "\n",
    "plt.xlim([0, 30])\n",
    "plt.ylim([0, 30])\n",
    "\n",
    "# Legend .................\n",
    "\n",
    "#legend = [ 'Correlation', 'Unresolved fraction']\n",
    "#ax.get_legend().remove()\n",
    "#ax.legend(legend, fontsize=25, bbox_to_anchor=(1.65, 0.83)) #bbox_to_anchor=(1.05, 1)\n",
    "#fig.subplots_adjust(right=0.8)\n",
    "\n",
    "# Grid .................\n",
    "#ax.grid(True, which=\"both\", axis='x')\n",
    "\n",
    "# Save la figure .................\n",
    "plt.savefig(\"/data/home/globc/peatier/figures/Fig3_\"+variable+\"_\"+str(neofs)+\"modes.png\", \n",
    "            orientation='portrait', bbox_inches='tight', pad_inches=0.1)\n",
    "\n",
    "# Show la figure .................\n",
    "plt.show()"
   ]
  },
  {
   "cell_type": "code",
   "execution_count": null,
   "metadata": {},
   "outputs": [],
   "source": []
  }
 ],
 "metadata": {
  "kernelspec": {
   "display_name": "Python 3",
   "language": "python",
   "name": "python3"
  },
  "language_info": {
   "codemirror_mode": {
    "name": "ipython",
    "version": 3
   },
   "file_extension": ".py",
   "mimetype": "text/x-python",
   "name": "python",
   "nbconvert_exporter": "python",
   "pygments_lexer": "ipython3",
   "version": "3.7.6"
  }
 },
 "nbformat": 4,
 "nbformat_minor": 2
}
