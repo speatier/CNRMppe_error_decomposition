{
 "cells": [
  {
   "cell_type": "markdown",
   "metadata": {},
   "source": [
    "# Import Module"
   ]
  },
  {
   "cell_type": "code",
   "execution_count": 33,
   "metadata": {},
   "outputs": [],
   "source": [
    "# Computational modules \n",
    "%matplotlib inline\n",
    "import xarray as xr\n",
    "import glob\n",
    "import os\n",
    "import numpy as np\n",
    "import netCDF4\n",
    "from netCDF4 import Dataset\n",
    "import pandas as pd\n",
    "import re\n",
    "from array import array\n",
    "from pylab import *\n",
    "#import geopandas\n",
    "from eofs.xarray import Eof\n",
    "from eofs.multivariate.standard import MultivariateEof\n",
    "\n",
    "# Plotting modules \n",
    "import matplotlib.pyplot as plt\n",
    "from mpl_toolkits.basemap import Basemap\n",
    "import pandas.plotting\n",
    "import matplotlib.ticker as ticker\n",
    "import seaborn as sns\n",
    "import cartopy.crs as ccrs\n",
    "import cartopy.feature as cfeature\n",
    "from matplotlib.colors import BoundaryNorm\n",
    "\n",
    "# Scikit-learn\n",
    "from sklearn import linear_model\n",
    "from sklearn.linear_model import LassoCV, LassoLarsCV, LassoLarsIC\n",
    "from sklearn.linear_model import Lasso\n",
    "from sklearn.metrics import r2_score\n",
    "from sklearn import preprocessing\n",
    "from sklearn import tree\n",
    "from sklearn.ensemble import RandomForestClassifier\n",
    "from sklearn.metrics import confusion_matrix\n",
    "from sklearn import metrics\n",
    "from sklearn.neural_network import MLPRegressor\n",
    "from scipy.optimize import minimize\n",
    "from scipy.optimize import dual_annealing\n",
    "from scipy import stats\n",
    "from sklearn.decomposition import PCA"
   ]
  },
  {
   "cell_type": "markdown",
   "metadata": {},
   "source": [
    "# Settings"
   ]
  },
  {
   "cell_type": "markdown",
   "metadata": {},
   "source": [
    "### Variables"
   ]
  },
  {
   "cell_type": "code",
   "execution_count": 2,
   "metadata": {},
   "outputs": [],
   "source": [
    "variables = ['psl']\n",
    "variable = 'psl'\n",
    "TITLE = 'Sea Level Pressure'\n",
    "ylabel = '$E_{psl}$ ($Pa$)'"
   ]
  },
  {
   "cell_type": "markdown",
   "metadata": {},
   "source": [
    "### Paths"
   ]
  },
  {
   "cell_type": "code",
   "execution_count": 3,
   "metadata": {},
   "outputs": [],
   "source": [
    "path_official='/data/scratch/globc/peatier/CMIP6/CNRM-CM6-1/CFMIP/amip/'\n",
    "path_PPE='/data/scratch/globc/peatier/CNRM-CM6-1_PPE/'\n",
    "path_files='/data/home/globc/peatier/CNRMppe_error_decomposition/files/'"
   ]
  },
  {
   "cell_type": "markdown",
   "metadata": {},
   "source": [
    "### List of members"
   ]
  },
  {
   "cell_type": "code",
   "execution_count": 4,
   "metadata": {},
   "outputs": [
    {
     "data": {
      "text/plain": [
       "102"
      ]
     },
     "execution_count": 4,
     "metadata": {},
     "output_type": "execute_result"
    }
   ],
   "source": [
    "nb_p_list = ['p311', 'p312', 'p314', 'p316',\n",
    "                    'p317', 'p319', 'p320', 'p321', 'p322', 'p324', 'p325', 'p326', \n",
    "                    'p329', 'p330', 'p331', 'p332', 'p335', 'p336', 'p337' ,'p338', \n",
    "                    'p340', 'p341', 'p343', 'p344', 'p346', 'p347', 'p348', 'p349', \n",
    "                    'p350', 'p353', 'p355', 'p357', 'p359', 'p360', \n",
    "                    'p361', 'p363', 'p365', 'p367', 'p368', 'p369', \n",
    "                    'p372', 'p373', 'p374', 'p375', 'p376', 'p378', 'p381', 'p382', \n",
    "                    'p384', 'p386', 'p388', 'p389', 'p391', 'p392', 'p393', \n",
    "                    'p394', 'p395', 'p396', 'p398', 'p399', 'p400', 'p404', \n",
    "                    'p406', 'p407', 'p409', 'p410', 'p411', 'p412',\n",
    "                    'p414','p416',\n",
    "                    'p413','p419','p424','p426','p428','p421','p423',\n",
    "                    'p425','p427','p429','p430','p436','p438','p431','p433',\n",
    "                    'p442','p446','p443','p445','p447',\n",
    "                    'p452','p454','p456','p458','p457','p459',\n",
    "                    'p460','p465','p467','p469',\n",
    "                    'p470','p471']\n",
    "\n",
    "len(nb_p_list)"
   ]
  },
  {
   "cell_type": "markdown",
   "metadata": {},
   "source": [
    "# Functions"
   ]
  },
  {
   "cell_type": "code",
   "execution_count": 5,
   "metadata": {},
   "outputs": [],
   "source": [
    "def MSE(mod, obs, W_rmse_2D) :\n",
    "    diff_tmp = (mod - obs)**2 * W_rmse_2D\n",
    "    diff = (diff_tmp.sum(['lat', 'lon']))\n",
    "    return diff"
   ]
  },
  {
   "cell_type": "code",
   "execution_count": 6,
   "metadata": {},
   "outputs": [],
   "source": [
    "def reconstruct_X(eofs_combined, pc, nb_dims) :\n",
    "    X_rec_tmp = np.dot(eofs_combined.transpose(),pc)\n",
    "    if nb_dims == 3 :\n",
    "        X_rec = xr.DataArray(X_rec_tmp, \n",
    "                        dims=[\"lon\", \"lat\", \"time\"]).transpose('time', 'lat', 'lon')\n",
    "    if nb_dims == 2 :\n",
    "        X_rec = xr.DataArray(X_rec_tmp, \n",
    "                        dims=[\"lon\", \"lat\"]).transpose('lat', 'lon')\n",
    "    \n",
    "    X_rec['lat'] = eofs_combined['lat']\n",
    "    X_rec['lon'] = eofs_combined['lon']\n",
    "    return X_rec"
   ]
  },
  {
   "cell_type": "code",
   "execution_count": 7,
   "metadata": {},
   "outputs": [],
   "source": [
    "def MSE_rec(rec_anom_mod_w, rec_anom_obs_w, Mean, W_rmse_2D) :\n",
    "    mod = rec_anom_mod_w/W_eof_2D + Mean\n",
    "    obs = rec_anom_obs_w/W_eof_2D + Mean\n",
    "    diff = MSE(mod, obs, W_rmse_2D)\n",
    "    return diff"
   ]
  },
  {
   "cell_type": "code",
   "execution_count": 23,
   "metadata": {},
   "outputs": [],
   "source": [
    "def get_3D_psl_xarr(path, filename, variables):\n",
    "\n",
    "    # First step : download the data into dataframe\n",
    "    file = xr.open_mfdataset(path+filename,combine='by_coords')\n",
    "    \n",
    "    # Second step : compute the annual average \n",
    "    df = file[variables].mean('time', keep_attrs=True)\n",
    "    psl = df['psl']\n",
    "    \n",
    "    return psl"
   ]
  },
  {
   "cell_type": "code",
   "execution_count": 9,
   "metadata": {},
   "outputs": [],
   "source": [
    "def load_monthly_clim(path, filename, variables) :\n",
    "    \n",
    "    file = xr.open_mfdataset(path+filename,combine='by_coords')\n",
    "    df=file[variables].to_dataframe()\n",
    "    \n",
    "    # Compute Climatological Annual Cycle :\n",
    "    df1=df.reset_index(level=['time', 'lat', 'lon'])\n",
    "    df1['year']=pd.DatetimeIndex(df1['time']).year\n",
    "    df1['month']=pd.DatetimeIndex(df1['time']).month\n",
    "    \n",
    "    #list_ind = []\n",
    "    #cpt=0\n",
    "    #for i in df1['year'] : \n",
    "    #    if i>1981 :\n",
    "    #        list_ind.append(cpt)\n",
    "    #        cpt+=1\n",
    "    #    else : \n",
    "    #        cpt+=1\n",
    "            \n",
    "    #df2 = df1.drop(list_ind)\n",
    "    df_mean=df1.groupby(['month', 'lat', 'lon']).mean()\n",
    "    df_mean=df_mean.drop(columns='year')\n",
    "    \n",
    "    return df_mean"
   ]
  },
  {
   "cell_type": "markdown",
   "metadata": {},
   "source": [
    "# Get data : obs, PPE, p1"
   ]
  },
  {
   "cell_type": "code",
   "execution_count": 10,
   "metadata": {},
   "outputs": [],
   "source": [
    "path_PPE='/data/scratch/globc/peatier/CNRM-CM6-1_PPE/ENSEMBLE2/'\n",
    "group_name='CNRM-CM6-1_amip_PPE_regrid/' #'CNRM-CM6-1_amip_LHS500_PPE/' #\n",
    "\n",
    "path_official=path_PPE+group_name+'reference/CNRM-CM6-1_amip_r1i1p1f2/'\n",
    "path_files='/data/home/globc/peatier/CNRMppe/PPE/ENSEMBLE2/files/'\n",
    "\n",
    "path_observation ='/data/scratch/globc/peatier/obs_data/NCEP/' #'/data/scratch/globc/peatier/obs_data/NCEP/regrid_CNRM/' #\n",
    "filename_obs ='psl_1m_1979-1981_NCEP.nc' #'psl_1m_1979-1981_NCEP_regrid.nc' #"
   ]
  },
  {
   "cell_type": "code",
   "execution_count": 11,
   "metadata": {},
   "outputs": [
    {
     "data": {
      "text/html": [
       "<div>\n",
       "<style scoped>\n",
       "    .dataframe tbody tr th:only-of-type {\n",
       "        vertical-align: middle;\n",
       "    }\n",
       "\n",
       "    .dataframe tbody tr th {\n",
       "        vertical-align: top;\n",
       "    }\n",
       "\n",
       "    .dataframe thead th {\n",
       "        text-align: right;\n",
       "    }\n",
       "</style>\n",
       "<table border=\"1\" class=\"dataframe\">\n",
       "  <thead>\n",
       "    <tr style=\"text-align: right;\">\n",
       "      <th></th>\n",
       "      <th></th>\n",
       "      <th></th>\n",
       "      <th>psl</th>\n",
       "    </tr>\n",
       "    <tr>\n",
       "      <th>month</th>\n",
       "      <th>lat</th>\n",
       "      <th>lon</th>\n",
       "      <th></th>\n",
       "    </tr>\n",
       "  </thead>\n",
       "  <tbody>\n",
       "    <tr>\n",
       "      <th rowspan=\"5\" valign=\"top\">1</th>\n",
       "      <th rowspan=\"5\" valign=\"top\">-90.0</th>\n",
       "      <th>0.0</th>\n",
       "      <td>99419.859375</td>\n",
       "    </tr>\n",
       "    <tr>\n",
       "      <th>2.5</th>\n",
       "      <td>99419.859375</td>\n",
       "    </tr>\n",
       "    <tr>\n",
       "      <th>5.0</th>\n",
       "      <td>99419.859375</td>\n",
       "    </tr>\n",
       "    <tr>\n",
       "      <th>7.5</th>\n",
       "      <td>99419.859375</td>\n",
       "    </tr>\n",
       "    <tr>\n",
       "      <th>10.0</th>\n",
       "      <td>99419.859375</td>\n",
       "    </tr>\n",
       "    <tr>\n",
       "      <th>...</th>\n",
       "      <th>...</th>\n",
       "      <th>...</th>\n",
       "      <td>...</td>\n",
       "    </tr>\n",
       "    <tr>\n",
       "      <th rowspan=\"5\" valign=\"top\">12</th>\n",
       "      <th rowspan=\"5\" valign=\"top\">90.0</th>\n",
       "      <th>347.5</th>\n",
       "      <td>101227.125000</td>\n",
       "    </tr>\n",
       "    <tr>\n",
       "      <th>350.0</th>\n",
       "      <td>101227.125000</td>\n",
       "    </tr>\n",
       "    <tr>\n",
       "      <th>352.5</th>\n",
       "      <td>101227.125000</td>\n",
       "    </tr>\n",
       "    <tr>\n",
       "      <th>355.0</th>\n",
       "      <td>101227.125000</td>\n",
       "    </tr>\n",
       "    <tr>\n",
       "      <th>357.5</th>\n",
       "      <td>101227.125000</td>\n",
       "    </tr>\n",
       "  </tbody>\n",
       "</table>\n",
       "<p>126144 rows × 1 columns</p>\n",
       "</div>"
      ],
      "text/plain": [
       "                             psl\n",
       "month lat   lon                 \n",
       "1     -90.0 0.0     99419.859375\n",
       "            2.5     99419.859375\n",
       "            5.0     99419.859375\n",
       "            7.5     99419.859375\n",
       "            10.0    99419.859375\n",
       "...                          ...\n",
       "12     90.0 347.5  101227.125000\n",
       "            350.0  101227.125000\n",
       "            352.5  101227.125000\n",
       "            355.0  101227.125000\n",
       "            357.5  101227.125000\n",
       "\n",
       "[126144 rows x 1 columns]"
      ]
     },
     "execution_count": 11,
     "metadata": {},
     "output_type": "execute_result"
    }
   ],
   "source": [
    "# Load data and compute Annual Cycle :\n",
    "file = xr.open_mfdataset(path_observation+filename_obs,combine='by_coords')\n",
    "#file\n",
    "variables = ['psl']\n",
    "df_obs = load_monthly_clim(path_observation, filename_obs, variables)\n",
    "df_obs"
   ]
  },
  {
   "cell_type": "code",
   "execution_count": 12,
   "metadata": {},
   "outputs": [
    {
     "data": {
      "text/html": [
       "<pre>&lt;xarray.Dataset&gt;\n",
       "Dimensions:  (lat: 73, lon: 144)\n",
       "Coordinates:\n",
       "  * lat      (lat) float64 -90.0 -87.5 -85.0 -82.5 -80.0 ... 82.5 85.0 87.5 90.0\n",
       "  * lon      (lon) float64 0.0 2.5 5.0 7.5 10.0 ... 350.0 352.5 355.0 357.5\n",
       "Data variables:\n",
       "    psl      (lat, lon) float32 102494.18 102494.18 ... 101510.38 101510.38</pre>"
      ],
      "text/plain": [
       "<xarray.Dataset>\n",
       "Dimensions:  (lat: 73, lon: 144)\n",
       "Coordinates:\n",
       "  * lat      (lat) float64 -90.0 -87.5 -85.0 -82.5 -80.0 ... 82.5 85.0 87.5 90.0\n",
       "  * lon      (lon) float64 0.0 2.5 5.0 7.5 10.0 ... 350.0 352.5 355.0 357.5\n",
       "Data variables:\n",
       "    psl      (lat, lon) float32 102494.18 102494.18 ... 101510.38 101510.38"
      ]
     },
     "execution_count": 12,
     "metadata": {},
     "output_type": "execute_result"
    }
   ],
   "source": [
    "X_obs = df_obs.groupby(['lat','lon']).mean().to_xarray()\n",
    "X_obs"
   ]
  },
  {
   "cell_type": "code",
   "execution_count": 24,
   "metadata": {},
   "outputs": [],
   "source": [
    "# Default simulation\n",
    "path = path_official\n",
    "filename = variable+'*_CNRM-CM6-1_amip_*.nc'\n",
    "p1_amip = get_3D_psl_xarr(path, filename, variables)"
   ]
  },
  {
   "cell_type": "code",
   "execution_count": 26,
   "metadata": {},
   "outputs": [],
   "source": [
    "# PPE amip simulations \n",
    "filename= variable+'*_amip_*.nc'\n",
    "\n",
    "N=len(nb_p_list)\n",
    "amip={}\n",
    "i = 0\n",
    "while i<N:\n",
    "    nb_p = nb_p_list[i]\n",
    "    #print(nb_p)\n",
    "    path=path_PPE+group_name+'CNRM-CM6-1_amip_r1i1'+str(nb_p)+'f2/'\n",
    "    amip[str(nb_p)] = get_3D_psl_xarr(path, filename, variables)\n",
    "    i=i+1"
   ]
  },
  {
   "cell_type": "code",
   "execution_count": 27,
   "metadata": {},
   "outputs": [],
   "source": [
    "amip['p1'] = p1_amip"
   ]
  },
  {
   "cell_type": "markdown",
   "metadata": {},
   "source": [
    "# Calcule full MSE (ej)"
   ]
  },
  {
   "cell_type": "code",
   "execution_count": 28,
   "metadata": {},
   "outputs": [],
   "source": [
    "n=len(nb_p_list)\n",
    "amip_list=[0]*(n+1)\n",
    "\n",
    "amip_list[0] = amip['p1']\n",
    "\n",
    "i = 0\n",
    "while i<n:\n",
    "    nb_p = nb_p_list[i]\n",
    "    #print(nb_p)\n",
    "    tmp = amip[str(nb_p)]\n",
    "    amip_list[i+1] = tmp\n",
    "    i+=1"
   ]
  },
  {
   "cell_type": "code",
   "execution_count": 36,
   "metadata": {},
   "outputs": [],
   "source": [
    "matrix = xr.combine_nested(amip_list, concat_dim=['time'])"
   ]
  },
  {
   "cell_type": "code",
   "execution_count": 50,
   "metadata": {},
   "outputs": [
    {
     "data": {
      "text/plain": [
       "array([-4.3711388e-08,  4.3619454e-02,  8.7155797e-02,  1.3052624e-01,\n",
       "        1.7364822e-01,  2.1643965e-01,  2.5881907e-01,  3.0070582e-01,\n",
       "        3.4202015e-01,  3.8268346e-01,  4.2261827e-01,  4.6174860e-01,\n",
       "        4.9999997e-01,  5.3729957e-01,  5.7357645e-01,  6.0876143e-01,\n",
       "        6.4278758e-01,  6.7559016e-01,  7.0710677e-01,  7.3727733e-01,\n",
       "        7.6604444e-01,  7.9335332e-01,  8.1915206e-01,  8.4339142e-01,\n",
       "        8.6602539e-01,  8.8701081e-01,  9.0630776e-01,  9.2387950e-01,\n",
       "        9.3969262e-01,  9.5371693e-01,  9.6592581e-01,  9.7629601e-01,\n",
       "        9.8480773e-01,  9.9144489e-01,  9.9619472e-01,  9.9904823e-01,\n",
       "        1.0000000e+00,  9.9904823e-01,  9.9619472e-01,  9.9144489e-01,\n",
       "        9.8480773e-01,  9.7629601e-01,  9.6592581e-01,  9.5371693e-01,\n",
       "        9.3969262e-01,  9.2387950e-01,  9.0630776e-01,  8.8701081e-01,\n",
       "        8.6602539e-01,  8.4339142e-01,  8.1915206e-01,  7.9335332e-01,\n",
       "        7.6604444e-01,  7.3727733e-01,  7.0710677e-01,  6.7559016e-01,\n",
       "        6.4278758e-01,  6.0876143e-01,  5.7357645e-01,  5.3729957e-01,\n",
       "        4.9999997e-01,  4.6174860e-01,  4.2261827e-01,  3.8268346e-01,\n",
       "        3.4202015e-01,  3.0070582e-01,  2.5881907e-01,  2.1643965e-01,\n",
       "        1.7364822e-01,  1.3052624e-01,  8.7155797e-02,  4.3619454e-02,\n",
       "       -4.3711388e-08], dtype=float32)"
      ]
     },
     "execution_count": 50,
     "metadata": {},
     "output_type": "execute_result"
    }
   ],
   "source": [
    "wgts"
   ]
  },
  {
   "cell_type": "code",
   "execution_count": 51,
   "metadata": {},
   "outputs": [],
   "source": [
    "## --Get weights : \n",
    "lats = matrix['lat'].values\n",
    "\n",
    "wgts = np.cos(np.deg2rad(lats))\n",
    "W_eof_2D = sqrt(abs(wgts))[:,np.newaxis] ## --Wqts before EOF analysis - 2D (lat x lon)\n",
    "W_eof_3D = sqrt(abs(wgts))[np.newaxis,:,np.newaxis] ## --Wqts before EOF analysis - 3D (time x lat x lon)\n",
    "\n",
    "S = wgts.sum()*144  #*256 ## --Sum of wgts over the whole grid\n",
    "wgts_sum = wgts/S\n",
    "W_rmse_2D = wgts_sum[:,np.newaxis] ## -- Wgts before RMSE, divided by sum of wgts - 2D (lat x lon)"
   ]
  },
  {
   "cell_type": "code",
   "execution_count": 52,
   "metadata": {},
   "outputs": [],
   "source": [
    "variable_obs='psl'\n",
    "# Reference p1\n",
    "mod = amip['p1']\n",
    "obs = X_obs[variable_obs]\n",
    "diff_p1 = MSE(mod, obs, W_rmse_2D)"
   ]
  },
  {
   "cell_type": "code",
   "execution_count": 53,
   "metadata": {},
   "outputs": [],
   "source": [
    "ej_list = []\n",
    "#ej['p1'] = diff_p1\n",
    "\n",
    "for p in nb_p_list :\n",
    "    mod = amip[p]\n",
    "    obs = X_obs[variable_obs]\n",
    "    diff = MSE(mod, obs, W_rmse_2D)\n",
    "    ej_list.append(diff)\n"
   ]
  },
  {
   "cell_type": "markdown",
   "metadata": {},
   "source": [
    "### Save"
   ]
  },
  {
   "cell_type": "code",
   "execution_count": 54,
   "metadata": {},
   "outputs": [],
   "source": [
    "np.save(path_files+'npy/CNRMppe_decomposition_ej_'+str(variable)+'.npy', ej_list)"
   ]
  },
  {
   "cell_type": "markdown",
   "metadata": {},
   "source": [
    "# EOF + truncated RMSE (rj)"
   ]
  },
  {
   "cell_type": "markdown",
   "metadata": {},
   "source": [
    "## EOF"
   ]
  },
  {
   "cell_type": "code",
   "execution_count": 55,
   "metadata": {},
   "outputs": [
    {
     "data": {
      "text/html": [
       "<pre>&lt;xarray.DataArray &#x27;psl&#x27; (time: 103, lat: 73, lon: 144)&gt;\n",
       "dask.array&lt;sub, shape=(103, 73, 144), dtype=float32, chunksize=(1, 73, 144), chunktype=numpy.ndarray&gt;\n",
       "Coordinates:\n",
       "  * lon      (lon) float32 0.0 2.5 5.0 7.5 10.0 ... 350.0 352.5 355.0 357.5\n",
       "  * lat      (lat) float32 90.0 87.5 85.0 82.5 80.0 ... -82.5 -85.0 -87.5 -90.0\n",
       "Dimensions without coordinates: time</pre>"
      ],
      "text/plain": [
       "<xarray.DataArray 'psl' (time: 103, lat: 73, lon: 144)>\n",
       "dask.array<sub, shape=(103, 73, 144), dtype=float32, chunksize=(1, 73, 144), chunktype=numpy.ndarray>\n",
       "Coordinates:\n",
       "  * lon      (lon) float32 0.0 2.5 5.0 7.5 10.0 ... 350.0 352.5 355.0 357.5\n",
       "  * lat      (lat) float32 90.0 87.5 85.0 82.5 80.0 ... -82.5 -85.0 -87.5 -90.0\n",
       "Dimensions without coordinates: time"
      ]
     },
     "execution_count": 55,
     "metadata": {},
     "output_type": "execute_result"
    }
   ],
   "source": [
    "# Compute anomalies by removing the time-mean.\n",
    "mean = matrix.mean(axis=0)\n",
    "anom = matrix - mean\n",
    "anom"
   ]
  },
  {
   "cell_type": "code",
   "execution_count": 56,
   "metadata": {},
   "outputs": [
    {
     "data": {
      "text/html": [
       "<pre>&lt;xarray.DataArray &#x27;psl&#x27; (time: 103, lat: 73, lon: 144)&gt;\n",
       "dask.array&lt;mul, shape=(103, 73, 144), dtype=float32, chunksize=(1, 73, 144), chunktype=numpy.ndarray&gt;\n",
       "Coordinates:\n",
       "  * lon      (lon) float32 0.0 2.5 5.0 7.5 10.0 ... 350.0 352.5 355.0 357.5\n",
       "  * lat      (lat) float32 90.0 87.5 85.0 82.5 80.0 ... -82.5 -85.0 -87.5 -90.0\n",
       "Dimensions without coordinates: time</pre>"
      ],
      "text/plain": [
       "<xarray.DataArray 'psl' (time: 103, lat: 73, lon: 144)>\n",
       "dask.array<mul, shape=(103, 73, 144), dtype=float32, chunksize=(1, 73, 144), chunktype=numpy.ndarray>\n",
       "Coordinates:\n",
       "  * lon      (lon) float32 0.0 2.5 5.0 7.5 10.0 ... 350.0 352.5 355.0 357.5\n",
       "  * lat      (lat) float32 90.0 87.5 85.0 82.5 80.0 ... -82.5 -85.0 -87.5 -90.0\n",
       "Dimensions without coordinates: time"
      ]
     },
     "execution_count": 56,
     "metadata": {},
     "output_type": "execute_result"
    }
   ],
   "source": [
    "anom_w = (anom*W_eof_3D)#.to_array()\n",
    "anom_w"
   ]
  },
  {
   "cell_type": "code",
   "execution_count": 57,
   "metadata": {},
   "outputs": [],
   "source": [
    "# Create an EOF solver to do the EOF analysis. \n",
    "solver = Eof(anom_w, center=False, weights=None)"
   ]
  },
  {
   "cell_type": "code",
   "execution_count": 58,
   "metadata": {},
   "outputs": [],
   "source": [
    "eof = solver.eofsAsCovariance(neofs=102, pcscaling=1)\n",
    "pc = solver.pcs(npcs=102, pcscaling=1)"
   ]
  },
  {
   "cell_type": "code",
   "execution_count": 59,
   "metadata": {},
   "outputs": [
    {
     "data": {
      "text/html": [
       "<pre>&lt;xarray.DataArray &#x27;variance_fractions&#x27; (mode: 102)&gt;\n",
       "array([7.2095704e-01, 9.2259154e-02, 3.2218367e-02, 2.2929465e-02,\n",
       "       2.0697599e-02, 1.3578045e-02, 9.9043986e-03, 8.5547063e-03,\n",
       "       7.6193307e-03, 5.8542406e-03, 5.8043944e-03, 5.1699057e-03,\n",
       "       3.9064419e-03, 3.8596941e-03, 3.4436812e-03, 2.9867885e-03,\n",
       "       2.7955223e-03, 2.3942015e-03, 2.2839787e-03, 2.1705194e-03,\n",
       "       1.9867001e-03, 1.6923813e-03, 1.6408102e-03, 1.5590321e-03,\n",
       "       1.4470423e-03, 1.4296202e-03, 1.2665991e-03, 1.1789507e-03,\n",
       "       1.0951262e-03, 9.9459535e-04, 9.4434310e-04, 8.7502884e-04,\n",
       "       7.7578489e-04, 7.1504107e-04, 7.0492906e-04, 6.4129295e-04,\n",
       "       5.9460651e-04, 5.8454601e-04, 5.4725318e-04, 5.0857838e-04,\n",
       "       4.7908991e-04, 4.5701725e-04, 4.2008972e-04, 4.0331457e-04,\n",
       "       3.7073513e-04, 3.3511274e-04, 3.2104508e-04, 3.1313126e-04,\n",
       "       2.9384065e-04, 2.8094422e-04, 2.7144799e-04, 2.6287607e-04,\n",
       "       2.6041281e-04, 2.4735200e-04, 2.1938189e-04, 2.1795975e-04,\n",
       "       2.0587114e-04, 1.9791884e-04, 1.9174951e-04, 1.7851054e-04,\n",
       "       1.7426770e-04, 1.6665652e-04, 1.6255873e-04, 1.5383259e-04,\n",
       "       1.5224202e-04, 1.4079899e-04, 1.3303410e-04, 1.2839984e-04,\n",
       "       1.2135680e-04, 1.1455223e-04, 1.1004748e-04, 1.0811099e-04,\n",
       "       1.0398117e-04, 9.8890501e-05, 9.6471551e-05, 9.3562405e-05,\n",
       "       8.8782086e-05, 8.3223058e-05, 7.9525489e-05, 7.8000339e-05,\n",
       "       7.6037570e-05, 7.1743467e-05, 7.0353657e-05, 6.8375957e-05,\n",
       "       6.5014654e-05, 6.2180377e-05, 5.8909493e-05, 5.8275793e-05,\n",
       "       5.6887900e-05, 5.4295531e-05, 5.1028863e-05, 4.8301452e-05,\n",
       "       4.5991430e-05, 4.5760335e-05, 4.1920146e-05, 4.0751594e-05,\n",
       "       3.7858325e-05, 3.6038538e-05, 3.5520887e-05, 3.1705556e-05,\n",
       "       2.9200672e-05, 2.7882243e-05], dtype=float32)\n",
       "Coordinates:\n",
       "  * mode     (mode) int64 0 1 2 3 4 5 6 7 8 9 ... 93 94 95 96 97 98 99 100 101\n",
       "Attributes:\n",
       "    long_name:  variance_fractions</pre>"
      ],
      "text/plain": [
       "<xarray.DataArray 'variance_fractions' (mode: 102)>\n",
       "array([7.2095704e-01, 9.2259154e-02, 3.2218367e-02, 2.2929465e-02,\n",
       "       2.0697599e-02, 1.3578045e-02, 9.9043986e-03, 8.5547063e-03,\n",
       "       7.6193307e-03, 5.8542406e-03, 5.8043944e-03, 5.1699057e-03,\n",
       "       3.9064419e-03, 3.8596941e-03, 3.4436812e-03, 2.9867885e-03,\n",
       "       2.7955223e-03, 2.3942015e-03, 2.2839787e-03, 2.1705194e-03,\n",
       "       1.9867001e-03, 1.6923813e-03, 1.6408102e-03, 1.5590321e-03,\n",
       "       1.4470423e-03, 1.4296202e-03, 1.2665991e-03, 1.1789507e-03,\n",
       "       1.0951262e-03, 9.9459535e-04, 9.4434310e-04, 8.7502884e-04,\n",
       "       7.7578489e-04, 7.1504107e-04, 7.0492906e-04, 6.4129295e-04,\n",
       "       5.9460651e-04, 5.8454601e-04, 5.4725318e-04, 5.0857838e-04,\n",
       "       4.7908991e-04, 4.5701725e-04, 4.2008972e-04, 4.0331457e-04,\n",
       "       3.7073513e-04, 3.3511274e-04, 3.2104508e-04, 3.1313126e-04,\n",
       "       2.9384065e-04, 2.8094422e-04, 2.7144799e-04, 2.6287607e-04,\n",
       "       2.6041281e-04, 2.4735200e-04, 2.1938189e-04, 2.1795975e-04,\n",
       "       2.0587114e-04, 1.9791884e-04, 1.9174951e-04, 1.7851054e-04,\n",
       "       1.7426770e-04, 1.6665652e-04, 1.6255873e-04, 1.5383259e-04,\n",
       "       1.5224202e-04, 1.4079899e-04, 1.3303410e-04, 1.2839984e-04,\n",
       "       1.2135680e-04, 1.1455223e-04, 1.1004748e-04, 1.0811099e-04,\n",
       "       1.0398117e-04, 9.8890501e-05, 9.6471551e-05, 9.3562405e-05,\n",
       "       8.8782086e-05, 8.3223058e-05, 7.9525489e-05, 7.8000339e-05,\n",
       "       7.6037570e-05, 7.1743467e-05, 7.0353657e-05, 6.8375957e-05,\n",
       "       6.5014654e-05, 6.2180377e-05, 5.8909493e-05, 5.8275793e-05,\n",
       "       5.6887900e-05, 5.4295531e-05, 5.1028863e-05, 4.8301452e-05,\n",
       "       4.5991430e-05, 4.5760335e-05, 4.1920146e-05, 4.0751594e-05,\n",
       "       3.7858325e-05, 3.6038538e-05, 3.5520887e-05, 3.1705556e-05,\n",
       "       2.9200672e-05, 2.7882243e-05], dtype=float32)\n",
       "Coordinates:\n",
       "  * mode     (mode) int64 0 1 2 3 4 5 6 7 8 9 ... 93 94 95 96 97 98 99 100 101\n",
       "Attributes:\n",
       "    long_name:  variance_fractions"
      ]
     },
     "execution_count": 59,
     "metadata": {},
     "output_type": "execute_result"
    }
   ],
   "source": [
    "varFrac = solver.varianceFraction(neigs=102)\n",
    "varFrac"
   ]
  },
  {
   "cell_type": "markdown",
   "metadata": {},
   "source": [
    "### Save"
   ]
  },
  {
   "cell_type": "code",
   "execution_count": 68,
   "metadata": {},
   "outputs": [],
   "source": [
    "path_files='/data/home/globc/peatier/CNRMppe_error_decomposition/files/'\n",
    "for i in range(0,len(eof),1) : \n",
    "    j = i+1\n",
    "    # EOFmap\n",
    "    EOF_df = eof[i].to_dataframe().drop(labels = 'mode', axis=1)\n",
    "    EOF_df.to_pickle(path_files+\"npy/CNRMppe_decomposition_EOFmap\"+str(j)+\"_\"+str(variable)+\".npy\")"
   ]
  },
  {
   "cell_type": "code",
   "execution_count": 69,
   "metadata": {},
   "outputs": [],
   "source": [
    "## --Save the pc_p1 and pc_PPE in a .nc files\n",
    "path_file = path_files+'nc/'\n",
    "filename = 'CNRMppe_decomposition_p1_EOFpc_'+str(variable)+'.nc'\n",
    "pc[0, :].to_netcdf(path=path_file+filename)\n",
    "filename = 'CNRMppe_decomposition_EOFpc_'+str(variable)+'.nc'\n",
    "pc[1:, :].to_netcdf(path=path_file+filename)"
   ]
  },
  {
   "cell_type": "code",
   "execution_count": 70,
   "metadata": {},
   "outputs": [],
   "source": [
    "mean_df = mean.to_dataframe(name=str(variable)+'mean')#.drop(labels = 'height', axis=1)\n",
    "mean_df.to_pickle(path_files+'npy/CNRMppe_decomposition_mean_'+str(variable)+'.npy')"
   ]
  },
  {
   "cell_type": "markdown",
   "metadata": {},
   "source": [
    "## Get the observations"
   ]
  },
  {
   "cell_type": "code",
   "execution_count": 65,
   "metadata": {},
   "outputs": [
    {
     "data": {
      "text/html": [
       "<pre>&lt;xarray.DataArray (lat: 73, lon: 144)&gt;\n",
       "array([[ 477.14844,  477.14844,  477.14844, ...,  477.14844,  477.14844,\n",
       "         477.14844],\n",
       "       [ 559.46875,  602.41406,  634.9844 , ...,  449.07812,  471.10938,\n",
       "         513.28906],\n",
       "       [ 640.78906,  668.96875,  532.9219 , ...,  649.6875 ,  708.46875,\n",
       "         598.6094 ],\n",
       "       ...,\n",
       "       [-227.96094, -233.39844, -233.49219, ..., -233.     , -235.     ,\n",
       "        -222.78906],\n",
       "       [-218.86719, -217.53906, -214.39062, ..., -247.90625, -225.39062,\n",
       "        -220.40625],\n",
       "       [-275.10156, -275.10156, -275.10156, ..., -275.10156, -275.10156,\n",
       "        -275.10156]], dtype=float32)\n",
       "Coordinates:\n",
       "  * lat      (lat) float64 -90.0 -87.5 -85.0 -82.5 -80.0 ... 82.5 85.0 87.5 90.0\n",
       "  * lon      (lon) float64 0.0 2.5 5.0 7.5 10.0 ... 350.0 352.5 355.0 357.5\n",
       "    mode     &lt;U7 &#x27;pslmean&#x27;</pre>"
      ],
      "text/plain": [
       "<xarray.DataArray (lat: 73, lon: 144)>\n",
       "array([[ 477.14844,  477.14844,  477.14844, ...,  477.14844,  477.14844,\n",
       "         477.14844],\n",
       "       [ 559.46875,  602.41406,  634.9844 , ...,  449.07812,  471.10938,\n",
       "         513.28906],\n",
       "       [ 640.78906,  668.96875,  532.9219 , ...,  649.6875 ,  708.46875,\n",
       "         598.6094 ],\n",
       "       ...,\n",
       "       [-227.96094, -233.39844, -233.49219, ..., -233.     , -235.     ,\n",
       "        -222.78906],\n",
       "       [-218.86719, -217.53906, -214.39062, ..., -247.90625, -225.39062,\n",
       "        -220.40625],\n",
       "       [-275.10156, -275.10156, -275.10156, ..., -275.10156, -275.10156,\n",
       "        -275.10156]], dtype=float32)\n",
       "Coordinates:\n",
       "  * lat      (lat) float64 -90.0 -87.5 -85.0 -82.5 -80.0 ... 82.5 85.0 87.5 90.0\n",
       "  * lon      (lon) float64 0.0 2.5 5.0 7.5 10.0 ... 350.0 352.5 355.0 357.5\n",
       "    mode     <U7 'pslmean'"
      ]
     },
     "execution_count": 65,
     "metadata": {},
     "output_type": "execute_result"
    }
   ],
   "source": [
    "Mean =  pd.read_pickle(path_files+'npy/CNRMppe_decomposition_mean_'+str(variable)+'.npy').to_xarray().to_array()\n",
    "Mean = Mean[0,:,:].rename({'variable':'mode'})\n",
    "X_obs_anom = X_obs[variable_obs] - Mean\n",
    "X_obs_anom"
   ]
  },
  {
   "cell_type": "markdown",
   "metadata": {},
   "source": [
    "## Parametric component of the error for different q"
   ]
  },
  {
   "cell_type": "code",
   "execution_count": 66,
   "metadata": {},
   "outputs": [],
   "source": [
    "def Error_PPE_param_component(path_files, variable, Mean, W_eof_2D, W_rmse_2D, q) :\n",
    "    ## --Get the eofs\n",
    "    eofs=[]\n",
    "    for j in range(1,q+1,1) :\n",
    "        eof_tmp = pd.read_pickle(path_files+\"npy/CNRMppe_decomposition_EOFmap\"+str(j)+\"_\"+str(variable)+\".npy\").to_xarray().to_array()\n",
    "        eof_tmp = eof_tmp[0,:,:].rename({'variable':'mode'})\n",
    "        eofs.append(eof_tmp)      \n",
    "    ## --Combine the modes for reconstruction\n",
    "    eofs_combined = xr.combine_nested(eofs, concat_dim='eofs')\n",
    "    \n",
    "    ## --Get the pc_PPE\n",
    "    path_file = path_files+'nc/'\n",
    "    filename = 'CNRMppe_decomposition_EOFpc_'+str(variable)+'.nc'\n",
    "    pc_PPE = xr.open_dataset(path_file+filename)\n",
    "    pc_PPE_trunc = pc_PPE['pcs'][:,0:q]\n",
    "\n",
    "    ## -- Project the observations :\n",
    "    X_obs_W = X_obs_anom*W_eof_2D\n",
    "    U_obs = solver.projectField(X_obs_W, neofs=q, weighted=False, eofscaling=1)\n",
    "\n",
    "    ## -- reconstruct X_obs_rec : \n",
    "    pc=U_obs\n",
    "    nb_dims = 2\n",
    "    X_obs_rec = reconstruct_X(eofs_combined, pc, nb_dims)\n",
    "    ## -- reconstruct X_mod_rec : \n",
    "    pc=pc_PPE_trunc\n",
    "    nb_dims = 3\n",
    "    X_mod_rec = reconstruct_X(eofs_combined, pc.transpose(), nb_dims)\n",
    "\n",
    "    pj_list = MSE_rec(X_mod_rec, X_obs_rec, Mean, W_rmse_2D)\n",
    "\n",
    "    return pj_list"
   ]
  },
  {
   "cell_type": "code",
   "execution_count": 71,
   "metadata": {},
   "outputs": [],
   "source": [
    "df_fig = pd.DataFrame(ej_list, columns=['ej'])\n",
    "\n",
    "## -- 5 modes :\n",
    "q = 5\n",
    "pj_list = Error_PPE_param_component(path_files, variable, Mean, W_eof_2D, W_rmse_2D, q)\n",
    "df_fig['pj ' +str(q)+' modes'] = pj_list\n",
    "df_fig['uj ' +str(q)+' modes'] = abs(df_fig['ej'] - df_fig['pj ' +str(q)+' modes'])\n",
    "\n",
    "## -- 20 modes :\n",
    "q = 20\n",
    "pj_list = Error_PPE_param_component(path_files, variable, Mean, W_eof_2D, W_rmse_2D, q)\n",
    "df_fig['pj ' +str(q)+' modes'] = pj_list\n",
    "df_fig['uj ' +str(q)+' modes'] = abs(df_fig['ej'] - df_fig['pj ' +str(q)+' modes'])\n",
    "\n",
    "## -- 50 modes :\n",
    "q = 50\n",
    "pj_list = Error_PPE_param_component(path_files, variable, Mean, W_eof_2D, W_rmse_2D, q)\n",
    "df_fig['pj ' +str(q)+' modes'] = pj_list\n",
    "df_fig['uj ' +str(q)+' modes'] = abs(df_fig['ej'] - df_fig['pj ' +str(q)+' modes'])\n",
    "\n",
    "## -- 102 modes :\n",
    "q = 102\n",
    "pj_list = Error_PPE_param_component(path_files, variable, Mean, W_eof_2D, W_rmse_2D, q)\n",
    "df_fig['pj ' +str(q)+' modes'] = pj_list\n",
    "df_fig['uj ' +str(q)+' modes'] = abs(df_fig['ej'] - df_fig['pj ' +str(q)+' modes'])\n",
    "\n",
    "#df_fig"
   ]
  },
  {
   "cell_type": "code",
   "execution_count": 72,
   "metadata": {},
   "outputs": [
    {
     "data": {
      "text/html": [
       "<div>\n",
       "<style scoped>\n",
       "    .dataframe tbody tr th:only-of-type {\n",
       "        vertical-align: middle;\n",
       "    }\n",
       "\n",
       "    .dataframe tbody tr th {\n",
       "        vertical-align: top;\n",
       "    }\n",
       "\n",
       "    .dataframe thead th {\n",
       "        text-align: right;\n",
       "    }\n",
       "</style>\n",
       "<table border=\"1\" class=\"dataframe\">\n",
       "  <thead>\n",
       "    <tr style=\"text-align: right;\">\n",
       "      <th></th>\n",
       "      <th>ej</th>\n",
       "      <th>pj 5 modes</th>\n",
       "      <th>uj 5 modes</th>\n",
       "      <th>pj 20 modes</th>\n",
       "      <th>uj 20 modes</th>\n",
       "      <th>pj 50 modes</th>\n",
       "      <th>uj 50 modes</th>\n",
       "      <th>pj 102 modes</th>\n",
       "      <th>uj 102 modes</th>\n",
       "      <th>members</th>\n",
       "    </tr>\n",
       "  </thead>\n",
       "  <tbody>\n",
       "    <tr>\n",
       "      <th>87</th>\n",
       "      <td>28196.683594</td>\n",
       "      <td>4940.633301</td>\n",
       "      <td>23256.050781</td>\n",
       "      <td>15964.437500</td>\n",
       "      <td>12232.246094</td>\n",
       "      <td>26063.771484</td>\n",
       "      <td>2132.912109</td>\n",
       "      <td>31578.646484</td>\n",
       "      <td>3381.962891</td>\n",
       "      <td>1</td>\n",
       "    </tr>\n",
       "    <tr>\n",
       "      <th>39</th>\n",
       "      <td>30078.968750</td>\n",
       "      <td>4671.749512</td>\n",
       "      <td>25407.218750</td>\n",
       "      <td>10057.628906</td>\n",
       "      <td>20021.339844</td>\n",
       "      <td>19061.378906</td>\n",
       "      <td>11017.589844</td>\n",
       "      <td>24784.939453</td>\n",
       "      <td>5294.029297</td>\n",
       "      <td>2</td>\n",
       "    </tr>\n",
       "    <tr>\n",
       "      <th>59</th>\n",
       "      <td>31154.015625</td>\n",
       "      <td>9863.151367</td>\n",
       "      <td>21290.863281</td>\n",
       "      <td>17489.066406</td>\n",
       "      <td>13664.949219</td>\n",
       "      <td>24737.158203</td>\n",
       "      <td>6416.857422</td>\n",
       "      <td>30315.863281</td>\n",
       "      <td>838.152344</td>\n",
       "      <td>3</td>\n",
       "    </tr>\n",
       "    <tr>\n",
       "      <th>17</th>\n",
       "      <td>31386.714844</td>\n",
       "      <td>12056.756836</td>\n",
       "      <td>19329.957031</td>\n",
       "      <td>23139.683594</td>\n",
       "      <td>8247.031250</td>\n",
       "      <td>30961.056641</td>\n",
       "      <td>425.658203</td>\n",
       "      <td>36686.519531</td>\n",
       "      <td>5299.804688</td>\n",
       "      <td>4</td>\n",
       "    </tr>\n",
       "    <tr>\n",
       "      <th>60</th>\n",
       "      <td>31432.476562</td>\n",
       "      <td>6962.323730</td>\n",
       "      <td>24470.152344</td>\n",
       "      <td>16369.275391</td>\n",
       "      <td>15063.201172</td>\n",
       "      <td>24597.910156</td>\n",
       "      <td>6834.566406</td>\n",
       "      <td>30068.179688</td>\n",
       "      <td>1364.296875</td>\n",
       "      <td>5</td>\n",
       "    </tr>\n",
       "    <tr>\n",
       "      <th>...</th>\n",
       "      <td>...</td>\n",
       "      <td>...</td>\n",
       "      <td>...</td>\n",
       "      <td>...</td>\n",
       "      <td>...</td>\n",
       "      <td>...</td>\n",
       "      <td>...</td>\n",
       "      <td>...</td>\n",
       "      <td>...</td>\n",
       "      <td>...</td>\n",
       "    </tr>\n",
       "    <tr>\n",
       "      <th>36</th>\n",
       "      <td>145846.171875</td>\n",
       "      <td>100739.179688</td>\n",
       "      <td>45106.992188</td>\n",
       "      <td>109781.484375</td>\n",
       "      <td>36064.687500</td>\n",
       "      <td>120032.273438</td>\n",
       "      <td>25813.898438</td>\n",
       "      <td>126071.671875</td>\n",
       "      <td>19774.500000</td>\n",
       "      <td>98</td>\n",
       "    </tr>\n",
       "    <tr>\n",
       "      <th>48</th>\n",
       "      <td>163755.750000</td>\n",
       "      <td>105799.625000</td>\n",
       "      <td>57956.125000</td>\n",
       "      <td>111158.507812</td>\n",
       "      <td>52597.242188</td>\n",
       "      <td>120998.914062</td>\n",
       "      <td>42756.835938</td>\n",
       "      <td>126473.703125</td>\n",
       "      <td>37282.046875</td>\n",
       "      <td>99</td>\n",
       "    </tr>\n",
       "    <tr>\n",
       "      <th>11</th>\n",
       "      <td>197173.093750</td>\n",
       "      <td>148643.953125</td>\n",
       "      <td>48529.140625</td>\n",
       "      <td>155489.531250</td>\n",
       "      <td>41683.562500</td>\n",
       "      <td>163989.843750</td>\n",
       "      <td>33183.250000</td>\n",
       "      <td>168887.640625</td>\n",
       "      <td>28285.453125</td>\n",
       "      <td>100</td>\n",
       "    </tr>\n",
       "    <tr>\n",
       "      <th>62</th>\n",
       "      <td>201715.125000</td>\n",
       "      <td>154402.093750</td>\n",
       "      <td>47313.031250</td>\n",
       "      <td>163492.921875</td>\n",
       "      <td>38222.203125</td>\n",
       "      <td>174031.984375</td>\n",
       "      <td>27683.140625</td>\n",
       "      <td>179339.421875</td>\n",
       "      <td>22375.703125</td>\n",
       "      <td>101</td>\n",
       "    </tr>\n",
       "    <tr>\n",
       "      <th>78</th>\n",
       "      <td>247974.109375</td>\n",
       "      <td>188087.578125</td>\n",
       "      <td>59886.531250</td>\n",
       "      <td>194382.343750</td>\n",
       "      <td>53591.765625</td>\n",
       "      <td>203309.359375</td>\n",
       "      <td>44664.750000</td>\n",
       "      <td>208867.859375</td>\n",
       "      <td>39106.250000</td>\n",
       "      <td>102</td>\n",
       "    </tr>\n",
       "  </tbody>\n",
       "</table>\n",
       "<p>102 rows × 10 columns</p>\n",
       "</div>"
      ],
      "text/plain": [
       "               ej     pj 5 modes    uj 5 modes    pj 20 modes   uj 20 modes  \\\n",
       "87   28196.683594    4940.633301  23256.050781   15964.437500  12232.246094   \n",
       "39   30078.968750    4671.749512  25407.218750   10057.628906  20021.339844   \n",
       "59   31154.015625    9863.151367  21290.863281   17489.066406  13664.949219   \n",
       "17   31386.714844   12056.756836  19329.957031   23139.683594   8247.031250   \n",
       "60   31432.476562    6962.323730  24470.152344   16369.275391  15063.201172   \n",
       "..            ...            ...           ...            ...           ...   \n",
       "36  145846.171875  100739.179688  45106.992188  109781.484375  36064.687500   \n",
       "48  163755.750000  105799.625000  57956.125000  111158.507812  52597.242188   \n",
       "11  197173.093750  148643.953125  48529.140625  155489.531250  41683.562500   \n",
       "62  201715.125000  154402.093750  47313.031250  163492.921875  38222.203125   \n",
       "78  247974.109375  188087.578125  59886.531250  194382.343750  53591.765625   \n",
       "\n",
       "      pj 50 modes   uj 50 modes   pj 102 modes  uj 102 modes  members  \n",
       "87   26063.771484   2132.912109   31578.646484   3381.962891        1  \n",
       "39   19061.378906  11017.589844   24784.939453   5294.029297        2  \n",
       "59   24737.158203   6416.857422   30315.863281    838.152344        3  \n",
       "17   30961.056641    425.658203   36686.519531   5299.804688        4  \n",
       "60   24597.910156   6834.566406   30068.179688   1364.296875        5  \n",
       "..            ...           ...            ...           ...      ...  \n",
       "36  120032.273438  25813.898438  126071.671875  19774.500000       98  \n",
       "48  120998.914062  42756.835938  126473.703125  37282.046875       99  \n",
       "11  163989.843750  33183.250000  168887.640625  28285.453125      100  \n",
       "62  174031.984375  27683.140625  179339.421875  22375.703125      101  \n",
       "78  203309.359375  44664.750000  208867.859375  39106.250000      102  \n",
       "\n",
       "[102 rows x 10 columns]"
      ]
     },
     "execution_count": 72,
     "metadata": {},
     "output_type": "execute_result"
    }
   ],
   "source": [
    "df_fig_sort = df_fig.sort_values(by='ej')\n",
    "df_fig_sort['members'] = range(1, len(ej_list)+1,1)\n",
    "df_fig_sort"
   ]
  },
  {
   "cell_type": "markdown",
   "metadata": {},
   "source": [
    "## Error components ratio"
   ]
  },
  {
   "cell_type": "code",
   "execution_count": 73,
   "metadata": {},
   "outputs": [],
   "source": [
    "q_list = [5,20,50,102]\n",
    "ratio_p = {}\n",
    "ratio_u = {}\n",
    "for q in q_list :\n",
    "    ratio_p[str(q)+' modes'] = (df_fig['pj ' +str(q)+' modes'].mean()/df_fig['ej'].mean())*100\n",
    "    ratio_u[str(q)+' modes'] = (df_fig['uj ' +str(q)+' modes'].mean()/df_fig['ej'].mean())*100"
   ]
  },
  {
   "cell_type": "code",
   "execution_count": 74,
   "metadata": {},
   "outputs": [
    {
     "data": {
      "text/plain": [
       "{'5 modes': 48.59589636325836,\n",
       " '20 modes': 60.269325971603394,\n",
       " '50 modes': 72.27965593338013,\n",
       " '102 modes': 79.97470498085022}"
      ]
     },
     "execution_count": 74,
     "metadata": {},
     "output_type": "execute_result"
    }
   ],
   "source": [
    "ratio_p"
   ]
  },
  {
   "cell_type": "code",
   "execution_count": 75,
   "metadata": {},
   "outputs": [
    {
     "data": {
      "text/plain": [
       "{'5 modes': 51.4041006565094,\n",
       " '20 modes': 39.730679988861084,\n",
       " '50 modes': 27.888843417167664,\n",
       " '102 modes': 20.711755752563477}"
      ]
     },
     "execution_count": 75,
     "metadata": {},
     "output_type": "execute_result"
    }
   ],
   "source": [
    "ratio_u"
   ]
  },
  {
   "cell_type": "markdown",
   "metadata": {},
   "source": [
    "# Figure - error decomposition"
   ]
  },
  {
   "cell_type": "code",
   "execution_count": 76,
   "metadata": {},
   "outputs": [
    {
     "data": {
      "image/png": "[encoded data removed]",
      "text/plain": [
       "<Figure size 864x720 with 1 Axes>"
      ]
     },
     "metadata": {
      "needs_background": "light"
     },
     "output_type": "display_data"
    }
   ],
   "source": [
    "fig, ax = plt.subplots(figsize=(12,10))\n",
    "\n",
    "df_fig_sort.plot(kind='scatter', x='members', y='ej', \n",
    "                           color='black', alpha=1, marker='o', ax = ax)\n",
    "\n",
    "\n",
    "df_fig_sort.plot(kind='scatter', x='members', y='pj 5 modes', \n",
    "                           color='darkred', alpha=1, marker='o', ax = ax)  \n",
    "\n",
    "df_fig_sort.plot(kind='scatter', x='members', y='pj 20 modes', \n",
    "                           color='teal', alpha=1, marker='o', ax = ax) \n",
    "\n",
    "df_fig_sort.plot(kind='scatter', x='members', y='pj 50 modes', \n",
    "                           color='plum', alpha=1, marker='o', ax = ax) \n",
    "\n",
    "df_fig_sort.plot(kind='scatter', x='members', y='pj 102 modes', \n",
    "                           color='coral', alpha=1, marker='o', ax = ax) \n",
    "    \n",
    "cpt=1\n",
    "for i in df_fig_sort['ej'] : \n",
    "    plt.vlines(cpt,ymin = 0,ymax = i, colors='gray',\n",
    "           linestyles='dashed')\n",
    "    cpt+=1\n",
    "\n",
    " \n",
    "cpt=1\n",
    "for i in df_fig_sort['pj 102 modes'] : \n",
    "    plt.vlines(cpt,ymin = 0,ymax = i, colors='coral', label='_nolegend_',\n",
    "           linestyles='dashed')\n",
    "    cpt+=1\n",
    "\n",
    "cpt=1\n",
    "for i in df_fig_sort['pj 50 modes'] : \n",
    "    plt.vlines(cpt,ymin = 0,ymax = i, colors='plum', label='_nolegend_',\n",
    "           linestyles='dashed')\n",
    "    cpt+=1\n",
    "    \n",
    "cpt=1\n",
    "for i in df_fig_sort['pj 20 modes'] : \n",
    "    plt.vlines(cpt,ymin = 0,ymax = i, colors='teal', label='_nolegend_',\n",
    "           linestyles='dashed')\n",
    "    cpt+=1\n",
    "    \n",
    "cpt=1\n",
    "for i in df_fig_sort['pj 5 modes'] : \n",
    "    plt.vlines(cpt,ymin = 0,ymax = i, colors='darkred', label='_nolegend_',\n",
    "           linestyles='dashed')\n",
    "    cpt+=1\n",
    "\n",
    "legend=['Full error $e_{tas}(\\\\theta_i)$', \n",
    "        'Param. error $p_{tas}(\\\\theta_i)$ ($q=5$)', \n",
    "        'Param. error $p_{tas}(\\\\theta_i)$ ($q=20$)',\n",
    "        'Param. error $p_{tas}(\\\\theta_i)$ ($q=50$)',\n",
    "        'Param. error $p_{tas}(\\\\theta_i)$ ($q=102$)',\n",
    "        'Non-param. error $u_{tas}$ ($q=102$)']\n",
    "ax.tick_params(axis='both', which='major', labelsize=15)\n",
    "plt.legend(legend, fontsize=18, loc='upper left') #, bbox_to_anchor=(1.5, 1.02))\n",
    "plt.title('Surface temperature ($K$)', fontsize = 25)\n",
    "plt.xlabel('Models - ranked from best to worst',fontsize=20)\n",
    "plt.ylabel('Integrative model error (RMSE)', fontsize=20)\n",
    "ax.tick_params(axis='both', which='major', labelsize=15)\n",
    "plt.legend(legend, fontsize=16, loc='upper left') #, bbox_to_anchor=(1.5, 1.02))\n",
    "plt.title('Surface temperature ($K$)', fontsize = 25)\n",
    "plt.xlabel('PPE members $f(\\\\theta_i)$ - ranked from best to worst',fontsize=20)\n",
    "plt.ylabel('Integrative model error (MSE)', fontsize=20)\n",
    "\n",
    "# Enregistrer la figure ...........\n",
    "\n",
    "plt.savefig(\"/data/home/globc/peatier/figures/PPE_ej_decompo_example_\"+variable+\".png\", \n",
    "        orientation='portrait', bbox_inches='tight', pad_inches=0.1)\n",
    "\n",
    "# Display the figure \n",
    "plt.show()"
   ]
  },
  {
   "cell_type": "markdown",
   "metadata": {},
   "source": [
    "# Figure - correlation"
   ]
  },
  {
   "cell_type": "code",
   "execution_count": 77,
   "metadata": {},
   "outputs": [],
   "source": [
    "def correlation(df_fig, q) :\n",
    "    res = stats.linregress(df_fig['pj '+str(q)+' modes'], df_fig['ej'])\n",
    "    x = np.arange(0.2,5.8,0.02)\n",
    "    line = res.intercept + res.slope*x\n",
    "    \n",
    "    r = res.rvalue\n",
    "    r_round = round(r,3)\n",
    "    \n",
    "    return [line, r_round]"
   ]
  },
  {
   "cell_type": "code",
   "execution_count": 78,
   "metadata": {},
   "outputs": [],
   "source": [
    "corr = {}\n",
    "## -- 5 modes :\n",
    "q = 5\n",
    "corr[str(q)+' modes'] = correlation(df_fig, q)\n",
    "\n",
    "## -- 20 modes :\n",
    "q = 20\n",
    "corr[str(q)+' modes'] = correlation(df_fig, q)\n",
    "\n",
    "## -- 50 modes :\n",
    "q = 50\n",
    "corr[str(q)+' modes'] = correlation(df_fig, q)\n",
    "\n",
    "## -- 102 modes :\n",
    "q = 102\n",
    "corr[str(q)+' modes'] = correlation(df_fig, q)"
   ]
  },
  {
   "cell_type": "code",
   "execution_count": 79,
   "metadata": {},
   "outputs": [
    {
     "data": {
      "image/png": "[encoded data removed]",
      "text/plain": [
       "<Figure size 864x720 with 1 Axes>"
      ]
     },
     "metadata": {
      "needs_background": "light"
     },
     "output_type": "display_data"
    }
   ],
   "source": [
    "fig, ax = plt.subplots(figsize=(12,10))\n",
    "\n",
    "## -- Regression line for different q\n",
    "q=5\n",
    "ax.plot(np.arange(0.2,5.8,0.02), corr[str(q)+' modes'][0], \n",
    "        linestyle='--', alpha=0.5,  color='darkred', \n",
    "        label='_nolegend_', zorder =20)\n",
    "q=20\n",
    "ax.plot(np.arange(0.2,5.8,0.02), corr[str(q)+' modes'][0], \n",
    "        linestyle='--', alpha=0.5,  color='teal', \n",
    "        label='_nolegend_', zorder =20)\n",
    "q=50\n",
    "ax.plot(np.arange(0.2,5.8,0.02), corr[str(q)+' modes'][0], linestyle='--', alpha=0.5,  \n",
    "        color='plum', \n",
    "        label='_nolegend_', zorder =20)\n",
    "q=102\n",
    "ax.plot(np.arange(0.2,5.8,0.02), corr[str(q)+' modes'][0], linestyle='--', alpha=0.5,  \n",
    "        color='coral', \n",
    "        label='_nolegend_', zorder =20)\n",
    "\n",
    "## -- Scatter plot for different q\n",
    "q=5\n",
    "df_fig_sort.plot(kind='scatter', x='pj 5 modes', y='ej', \n",
    "                           color='darkred', alpha=1, marker='o', ax = ax, zorder =1)\n",
    "q=20\n",
    "df_fig_sort.plot(kind='scatter', x='pj 20 modes', y='ej', \n",
    "                           color='teal', alpha=1, marker='o', ax = ax, zorder =1)\n",
    "q=50\n",
    "df_fig_sort.plot(kind='scatter', x='pj 50 modes', y='ej', \n",
    "                           color='plum', alpha=1, marker='o', ax = ax, zorder =1)\n",
    "q=102\n",
    "df_fig_sort.plot(kind='scatter', x='pj 102 modes', y='ej', \n",
    "                           color='coral', alpha=1, marker='o', ax = ax, zorder =1)\n",
    "\n",
    "\n",
    "\n",
    "## -- Regression line for the diagonal (0,0)\n",
    "ax.plot(np.arange(0.0,10.0,0.02), np.arange(0.0,10.0,0.02), \n",
    "        linestyle=\"-\", alpha=0.3,  color='gray', \n",
    "        label='_nolegend_')\n",
    "\n",
    "## -- Legend and settings\n",
    "legend=['5 EOF modes retained ($q=5$)', \n",
    "        '20 EOF modes retained ($q=20$)', \n",
    "        '50 EOF modes retained ($q=50$)', \n",
    "        '102 EOF modes retained ($q=102$)']\n",
    "#ax.text(x=1.6, y=0.7, s='Pearson correlation coefficients :', fontsize=16)\n",
    "ax.text(x=0.05, y=7.0, s='$r = $'+str(corr['5 modes'][1]), fontsize=16, \n",
    "        color='darkred', fontweight='bold')\n",
    "ax.text(x=0.05, y=6.7, s='$r = $'+str(corr['20 modes'][1]), fontsize=16, \n",
    "        color='teal', fontweight='bold')\n",
    "ax.text(x=0.05, y=6.4, s='$r = $'+str(corr['50 modes'][1]), fontsize=16, \n",
    "        color='plum', fontweight='bold')\n",
    "ax.text(x=0.05, y=6.1, s='$r = $'+str(corr['102 modes'][1]), fontsize=16, \n",
    "        color='coral', fontweight='bold')\n",
    "ax.tick_params(axis='both', which='major', labelsize=15)\n",
    "plt.legend(legend, fontsize=18, loc='lower right') #, bbox_to_anchor=(1.5, 1.02))\n",
    "plt.title('Surface temperature ($K$)', fontsize = 25)\n",
    "plt.xlabel('Parametric component of the error $p_{tas}(\\\\theta_i)$',fontsize=20)\n",
    "plt.ylabel('Full error $e_{tas}(\\\\theta_i)$',fontsize=20)\n",
    "plt.ylim(0,7.2)\n",
    "plt.xlim(0,7.2)\n",
    "\n",
    "# Enregistrer la figure ...........\n",
    "\n",
    "plt.savefig(\"/data/home/globc/peatier/figures/Corr_decompo_example_\"+variable+\".png\", \n",
    "        orientation='portrait', bbox_inches='tight', pad_inches=0.1)\n",
    "\n",
    "# Display the figure \n",
    "plt.show()"
   ]
  },
  {
   "cell_type": "code",
   "execution_count": null,
   "metadata": {},
   "outputs": [],
   "source": []
  },
  {
   "cell_type": "code",
   "execution_count": null,
   "metadata": {},
   "outputs": [],
   "source": []
  }
 ],
 "metadata": {
  "kernelspec": {
   "display_name": "Python 3",
   "language": "python",
   "name": "python3"
  },
  "language_info": {
   "codemirror_mode": {
    "name": "ipython",
    "version": 3
   },
   "file_extension": ".py",
   "mimetype": "text/x-python",
   "name": "python",
   "nbconvert_exporter": "python",
   "pygments_lexer": "ipython3",
   "version": "3.7.6"
  }
 },
 "nbformat": 4,
 "nbformat_minor": 2
}
