{
 "cells": [
  {
   "cell_type": "markdown",
   "metadata": {},
   "source": [
    "# Import Module"
   ]
  },
  {
   "cell_type": "code",
   "execution_count": 1,
   "metadata": {},
   "outputs": [],
   "source": [
    "# Computational modules \n",
    "%matplotlib inline\n",
    "import xarray as xr\n",
    "import glob\n",
    "import os\n",
    "import numpy as np\n",
    "import netCDF4\n",
    "from netCDF4 import Dataset\n",
    "import pandas as pd\n",
    "import re\n",
    "from array import array\n",
    "from pylab import *\n",
    "#import geopandas\n",
    "from eofs.xarray import Eof\n",
    "from eofs.multivariate.standard import MultivariateEof\n",
    "\n",
    "# Plotting modules \n",
    "import matplotlib.pyplot as plt\n",
    "from mpl_toolkits.basemap import Basemap\n",
    "import pandas.plotting\n",
    "import matplotlib.ticker as ticker\n",
    "import seaborn as sns\n",
    "import cartopy.crs as ccrs\n",
    "import cartopy.feature as cfeature\n",
    "from matplotlib.colors import BoundaryNorm\n",
    "\n",
    "# Scikit-learn\n",
    "from sklearn import linear_model\n",
    "from sklearn.linear_model import LassoCV, LassoLarsCV, LassoLarsIC\n",
    "from sklearn.linear_model import Lasso\n",
    "from sklearn.metrics import r2_score\n",
    "from sklearn import preprocessing\n",
    "from sklearn import tree\n",
    "from sklearn.ensemble import RandomForestClassifier\n",
    "from sklearn.metrics import confusion_matrix\n",
    "from sklearn import metrics\n",
    "from sklearn.neural_network import MLPRegressor\n",
    "from scipy.optimize import minimize\n",
    "from scipy.optimize import dual_annealing"
   ]
  },
  {
   "cell_type": "markdown",
   "metadata": {},
   "source": [
    "# Settings"
   ]
  },
  {
   "cell_type": "markdown",
   "metadata": {},
   "source": [
    "### Variables"
   ]
  },
  {
   "cell_type": "code",
   "execution_count": 11,
   "metadata": {},
   "outputs": [],
   "source": [
    "variables = ['rsut', 'rsdt']\n",
    "variable = 'SW'\n",
    "TITLE = 'Short Wave fluxes'\n",
    "ylabel = '$E_{SW}$ ($W.m^{-2}.K^{-1}$)'"
   ]
  },
  {
   "cell_type": "markdown",
   "metadata": {},
   "source": [
    "### Paths"
   ]
  },
  {
   "cell_type": "code",
   "execution_count": 3,
   "metadata": {},
   "outputs": [],
   "source": [
    "path_official='/data/scratch/globc/peatier/CMIP6/CNRM-CM6-1/CFMIP/amip/'\n",
    "path_PPE='/data/scratch/globc/peatier/CNRM-CM6-1_PPE/'\n",
    "path_files='/data/home/globc/peatier/CNRMppe/PPE/ENSEMBLE2/files/'"
   ]
  },
  {
   "cell_type": "markdown",
   "metadata": {},
   "source": [
    "### List of members"
   ]
  },
  {
   "cell_type": "code",
   "execution_count": 4,
   "metadata": {},
   "outputs": [
    {
     "data": {
      "text/plain": [
       "102"
      ]
     },
     "execution_count": 4,
     "metadata": {},
     "output_type": "execute_result"
    }
   ],
   "source": [
    "nb_p_list = ['p311', 'p312', 'p314', 'p316',\n",
    "                    'p317', 'p319', 'p320', 'p321', 'p322', 'p324', 'p325', 'p326', \n",
    "                    'p329', 'p330', 'p331', 'p332', 'p335', 'p336', 'p337' ,'p338', \n",
    "                    'p340', 'p341', 'p343', 'p344', 'p346', 'p347', 'p348', 'p349', \n",
    "                    'p350', 'p353', 'p355', 'p357', 'p359', 'p360', \n",
    "                    'p361', 'p363', 'p365', 'p367', 'p368', 'p369', \n",
    "                    'p372', 'p373', 'p374', 'p375', 'p376', 'p378', 'p381', 'p382', \n",
    "                    'p384', 'p386', 'p388', 'p389', 'p391', 'p392', 'p393', \n",
    "                    'p394', 'p395', 'p396', 'p398', 'p399', 'p400', 'p404', \n",
    "                    'p406', 'p407', 'p409', 'p410', 'p411', 'p412',\n",
    "                    'p414','p416',\n",
    "                    'p413','p419','p424','p426','p428','p421','p423',\n",
    "                    'p425','p427','p429','p430','p436','p438','p431','p433',\n",
    "                    'p442','p446','p443','p445','p447',\n",
    "                    'p452','p454','p456','p458','p457','p459',\n",
    "                    'p460','p465','p467','p469',\n",
    "                    'p470','p471']\n",
    "\n",
    "len(nb_p_list)"
   ]
  },
  {
   "cell_type": "markdown",
   "metadata": {},
   "source": [
    "# Functions"
   ]
  },
  {
   "cell_type": "code",
   "execution_count": 5,
   "metadata": {},
   "outputs": [],
   "source": [
    "def get_3D_SW_xarr(path, filename, variables):\n",
    "\n",
    "    # First step : download the data into dataframe\n",
    "    file = xr.open_mfdataset(path+filename,combine='by_coords')\n",
    "    \n",
    "    # Second step : compute the annual average \n",
    "    df = file[variables].mean('time', keep_attrs=True)\n",
    "    SW = df['rsdt'] - df['rsut']\n",
    "    \n",
    "    return SW"
   ]
  },
  {
   "cell_type": "code",
   "execution_count": 6,
   "metadata": {},
   "outputs": [],
   "source": [
    "def load_monthly_clim(path, filename, variables) :\n",
    "    \n",
    "    file = xr.open_mfdataset(path+filename,combine='by_coords')\n",
    "    df=file[variables].to_dataframe()\n",
    "    \n",
    "    # Compute Climatological Annual Cycle :\n",
    "    df1=df.reset_index(level=['time', 'lat', 'lon'])\n",
    "    df1['year']=pd.DatetimeIndex(df1['time']).year\n",
    "    df1['month']=pd.DatetimeIndex(df1['time']).month\n",
    "    \n",
    "    #list_ind = []\n",
    "    #cpt=0\n",
    "    #for i in df1['year'] : \n",
    "    #    if i>1981 :\n",
    "    #        list_ind.append(cpt)\n",
    "    #        cpt+=1\n",
    "    #    else : \n",
    "    #        cpt+=1\n",
    "            \n",
    "    #df2 = df1.drop(list_ind)\n",
    "    df_mean=df1.groupby(['month', 'lat', 'lon']).mean()\n",
    "    df_mean=df_mean.drop(columns='year')\n",
    "    \n",
    "    return df_mean"
   ]
  },
  {
   "cell_type": "markdown",
   "metadata": {},
   "source": [
    "# Get data : obs, PPE, p1"
   ]
  },
  {
   "cell_type": "code",
   "execution_count": 7,
   "metadata": {},
   "outputs": [],
   "source": [
    "path_observation = '/data/scratch/globc/peatier/obs_data/CERES/'\n",
    "filename = 'CERES_EBAF-TOA_Ed4.1_Subset_200003-201910_regrid.nc'"
   ]
  },
  {
   "cell_type": "code",
   "execution_count": 8,
   "metadata": {},
   "outputs": [
    {
     "data": {
      "text/html": [
       "<div>\n",
       "<style scoped>\n",
       "    .dataframe tbody tr th:only-of-type {\n",
       "        vertical-align: middle;\n",
       "    }\n",
       "\n",
       "    .dataframe tbody tr th {\n",
       "        vertical-align: top;\n",
       "    }\n",
       "\n",
       "    .dataframe thead th {\n",
       "        text-align: right;\n",
       "    }\n",
       "</style>\n",
       "<table border=\"1\" class=\"dataframe\">\n",
       "  <thead>\n",
       "    <tr style=\"text-align: right;\">\n",
       "      <th></th>\n",
       "      <th></th>\n",
       "      <th></th>\n",
       "      <th>toa_sw_all_mon</th>\n",
       "      <th>toa_lw_all_mon</th>\n",
       "      <th>toa_net_all_mon</th>\n",
       "    </tr>\n",
       "    <tr>\n",
       "      <th>month</th>\n",
       "      <th>lat</th>\n",
       "      <th>lon</th>\n",
       "      <th></th>\n",
       "      <th></th>\n",
       "      <th></th>\n",
       "    </tr>\n",
       "  </thead>\n",
       "  <tbody>\n",
       "    <tr>\n",
       "      <th rowspan=\"5\" valign=\"top\">1</th>\n",
       "      <th rowspan=\"5\" valign=\"top\">-88.927735</th>\n",
       "      <th>0.00000</th>\n",
       "      <td>344.953522</td>\n",
       "      <td>189.246185</td>\n",
       "      <td>-38.599289</td>\n",
       "    </tr>\n",
       "    <tr>\n",
       "      <th>1.40625</th>\n",
       "      <td>344.953522</td>\n",
       "      <td>189.246185</td>\n",
       "      <td>-38.599289</td>\n",
       "    </tr>\n",
       "    <tr>\n",
       "      <th>2.81250</th>\n",
       "      <td>344.953522</td>\n",
       "      <td>189.246185</td>\n",
       "      <td>-38.599289</td>\n",
       "    </tr>\n",
       "    <tr>\n",
       "      <th>4.21875</th>\n",
       "      <td>344.992493</td>\n",
       "      <td>189.144440</td>\n",
       "      <td>-38.531315</td>\n",
       "    </tr>\n",
       "    <tr>\n",
       "      <th>5.62500</th>\n",
       "      <td>345.007721</td>\n",
       "      <td>189.104630</td>\n",
       "      <td>-38.504715</td>\n",
       "    </tr>\n",
       "    <tr>\n",
       "      <th>...</th>\n",
       "      <th>...</th>\n",
       "      <th>...</th>\n",
       "      <td>...</td>\n",
       "      <td>...</td>\n",
       "      <td>...</td>\n",
       "    </tr>\n",
       "    <tr>\n",
       "      <th rowspan=\"5\" valign=\"top\">12</th>\n",
       "      <th rowspan=\"5\" valign=\"top\">88.927735</th>\n",
       "      <th>352.96875</th>\n",
       "      <td>0.000000</td>\n",
       "      <td>171.476639</td>\n",
       "      <td>-171.476639</td>\n",
       "    </tr>\n",
       "    <tr>\n",
       "      <th>354.37500</th>\n",
       "      <td>0.000000</td>\n",
       "      <td>171.476639</td>\n",
       "      <td>-171.476639</td>\n",
       "    </tr>\n",
       "    <tr>\n",
       "      <th>355.78125</th>\n",
       "      <td>0.000000</td>\n",
       "      <td>171.500351</td>\n",
       "      <td>-171.500351</td>\n",
       "    </tr>\n",
       "    <tr>\n",
       "      <th>357.18750</th>\n",
       "      <td>0.000000</td>\n",
       "      <td>171.560974</td>\n",
       "      <td>-171.560974</td>\n",
       "    </tr>\n",
       "    <tr>\n",
       "      <th>358.59375</th>\n",
       "      <td>0.000000</td>\n",
       "      <td>171.560974</td>\n",
       "      <td>-171.560974</td>\n",
       "    </tr>\n",
       "  </tbody>\n",
       "</table>\n",
       "<p>393216 rows × 3 columns</p>\n",
       "</div>"
      ],
      "text/plain": [
       "                            toa_sw_all_mon  toa_lw_all_mon  toa_net_all_mon\n",
       "month lat        lon                                                       \n",
       "1     -88.927735 0.00000        344.953522      189.246185       -38.599289\n",
       "                 1.40625        344.953522      189.246185       -38.599289\n",
       "                 2.81250        344.953522      189.246185       -38.599289\n",
       "                 4.21875        344.992493      189.144440       -38.531315\n",
       "                 5.62500        345.007721      189.104630       -38.504715\n",
       "...                                    ...             ...              ...\n",
       "12     88.927735 352.96875        0.000000      171.476639      -171.476639\n",
       "                 354.37500        0.000000      171.476639      -171.476639\n",
       "                 355.78125        0.000000      171.500351      -171.500351\n",
       "                 357.18750        0.000000      171.560974      -171.560974\n",
       "                 358.59375        0.000000      171.560974      -171.560974\n",
       "\n",
       "[393216 rows x 3 columns]"
      ]
     },
     "execution_count": 8,
     "metadata": {},
     "output_type": "execute_result"
    }
   ],
   "source": [
    "# Load data and compute Annual Cycle :\n",
    "file = xr.open_mfdataset(path_observation+filename,combine='by_coords')\n",
    "#file\n",
    "#variables = ['toa_sw_all_mon','toa_lw_all_mon', 'toa_net_all_mon']\n",
    "df_obs = load_monthly_clim(path_observation, filename, variables)\n",
    "df_obs"
   ]
  },
  {
   "cell_type": "code",
   "execution_count": 9,
   "metadata": {},
   "outputs": [
    {
     "data": {
      "text/html": [
       "<pre>&lt;xarray.Dataset&gt;\n",
       "Dimensions:          (lat: 128, lon: 256)\n",
       "Coordinates:\n",
       "  * lat              (lat) float64 -88.93 -87.54 -86.14 ... 86.14 87.54 88.93\n",
       "  * lon              (lon) float64 0.0 1.406 2.812 4.219 ... 355.8 357.2 358.6\n",
       "Data variables:\n",
       "    toa_sw_all_mon   (lat, lon) float32 121.35958 121.35958 ... 103.85324\n",
       "    toa_lw_all_mon   (lat, lon) float32 142.8201 142.8201 ... 194.14125\n",
       "    toa_net_all_mon  (lat, lon) float32 -91.40278 -91.40278 ... -126.49493\n",
       "    SW               (lat, lon) float32 51.417324 51.417324 ... 67.64632</pre>"
      ],
      "text/plain": [
       "<xarray.Dataset>\n",
       "Dimensions:          (lat: 128, lon: 256)\n",
       "Coordinates:\n",
       "  * lat              (lat) float64 -88.93 -87.54 -86.14 ... 86.14 87.54 88.93\n",
       "  * lon              (lon) float64 0.0 1.406 2.812 4.219 ... 355.8 357.2 358.6\n",
       "Data variables:\n",
       "    toa_sw_all_mon   (lat, lon) float32 121.35958 121.35958 ... 103.85324\n",
       "    toa_lw_all_mon   (lat, lon) float32 142.8201 142.8201 ... 194.14125\n",
       "    toa_net_all_mon  (lat, lon) float32 -91.40278 -91.40278 ... -126.49493\n",
       "    SW               (lat, lon) float32 51.417324 51.417324 ... 67.64632"
      ]
     },
     "execution_count": 9,
     "metadata": {},
     "output_type": "execute_result"
    }
   ],
   "source": [
    "df_obs['SW'] =  df_obs['toa_net_all_mon'] + df_obs['toa_lw_all_mon']\n",
    "obs = df_obs.groupby(['lat','lon']).mean().to_xarray()\n",
    "obs"
   ]
  },
  {
   "cell_type": "code",
   "execution_count": 12,
   "metadata": {},
   "outputs": [],
   "source": [
    "# Default simulation\n",
    "path = path_PPE+'ENSEMBLE1/CNRM-CM6-1_amip_PPE/CNRM-CM6-1_amip_r1i1p1f2/'\n",
    "filename = '*_CNRM-CM6-1_amip_*.nc'\n",
    "p1_amip = get_3D_SW_xarr(path, filename, variables)"
   ]
  },
  {
   "cell_type": "code",
   "execution_count": 13,
   "metadata": {},
   "outputs": [],
   "source": [
    "# PPE amip simulations \n",
    "filename='*_amip_*.nc'\n",
    "\n",
    "N=len(nb_p_list)\n",
    "amip={}\n",
    "i = 0\n",
    "while i<N:\n",
    "    nb_p = nb_p_list[i]\n",
    "    #print(nb_p)\n",
    "    path=path_PPE+'ENSEMBLE2/CNRM-CM6-1_amip_LHS500_PPE/CNRM-CM6-1_amip_r1i1'+str(nb_p)+'f2/'\n",
    "    amip[str(nb_p)] = get_3D_SW_xarr(path, filename, variables)\n",
    "    i=i+1"
   ]
  },
  {
   "cell_type": "code",
   "execution_count": 14,
   "metadata": {},
   "outputs": [],
   "source": [
    "amip['p1'] = p1_amip"
   ]
  },
  {
   "cell_type": "markdown",
   "metadata": {},
   "source": [
    "# Calcule full RMSE (ej)"
   ]
  },
  {
   "cell_type": "code",
   "execution_count": 15,
   "metadata": {},
   "outputs": [
    {
     "data": {
      "text/html": [
       "<pre>&lt;xarray.DataArray &#x27;SW&#x27; ()&gt;\n",
       "array(12.1602008)</pre>"
      ],
      "text/plain": [
       "<xarray.DataArray 'SW' ()>\n",
       "array(12.1602008)"
      ]
     },
     "execution_count": 15,
     "metadata": {},
     "output_type": "execute_result"
    }
   ],
   "source": [
    "# Reference p1\n",
    "diff = (amip['p1'].values - obs['SW'])**2\n",
    "diff_p1 = sqrt(sum(diff)/(128*256))\n",
    "diff_p1"
   ]
  },
  {
   "cell_type": "code",
   "execution_count": 16,
   "metadata": {},
   "outputs": [],
   "source": [
    "ej = {}\n",
    "ej['p1'] = diff_p1\n",
    "\n",
    "for p in nb_p_list :\n",
    "    diff = (amip[p].values - obs['SW'])**2\n",
    "    diff = sqrt(sum(diff)/(128*256))\n",
    "    ej[p] = diff"
   ]
  },
  {
   "cell_type": "markdown",
   "metadata": {},
   "source": [
    "### Save"
   ]
  },
  {
   "cell_type": "code",
   "execution_count": 17,
   "metadata": {},
   "outputs": [],
   "source": [
    "np.save(path_files+'npy/CNRMppe_decomposition_ej_'+str(variable)+'.npy', ej)"
   ]
  },
  {
   "cell_type": "markdown",
   "metadata": {},
   "source": [
    "# EOF + truncated RMSE (rj)"
   ]
  },
  {
   "cell_type": "markdown",
   "metadata": {},
   "source": [
    "## EOF"
   ]
  },
  {
   "cell_type": "code",
   "execution_count": 15,
   "metadata": {},
   "outputs": [],
   "source": [
    "n=len(nb_p_list)\n",
    "amip_list=[0]*(n+1)\n",
    "\n",
    "amip_list[0] = amip['p1']\n",
    "\n",
    "i = 0\n",
    "while i<n:\n",
    "    nb_p = nb_p_list[i]\n",
    "    #print(nb_p)\n",
    "    tmp = amip[str(nb_p)]\n",
    "    amip_list[i+1] = tmp\n",
    "    i+=1"
   ]
  },
  {
   "cell_type": "code",
   "execution_count": 16,
   "metadata": {},
   "outputs": [],
   "source": [
    "matrix = xr.combine_nested(amip_list, concat_dim=['time'])"
   ]
  },
  {
   "cell_type": "code",
   "execution_count": 17,
   "metadata": {},
   "outputs": [],
   "source": [
    "# Mean wheigted with cos(lat) : \n",
    "lats = matrix['lat'][:]\n",
    "coslat = np.cos(np.deg2rad(lats)).clip(0., 1.)\n",
    "wgts = np.sqrt(coslat).drop(labels='height').values\n",
    "W =wgts[np.newaxis,:,np.newaxis]\n",
    "#W"
   ]
  },
  {
   "cell_type": "code",
   "execution_count": 18,
   "metadata": {},
   "outputs": [
    {
     "data": {
      "text/html": [
       "<pre>&lt;xarray.DataArray (time: 103, lat: 128, lon: 256)&gt;\n",
       "dask.array&lt;sub, shape=(103, 128, 256), dtype=float32, chunksize=(1, 128, 256), chunktype=numpy.ndarray&gt;\n",
       "Coordinates:\n",
       "    height   float64 2.0\n",
       "  * lon      (lon) float64 0.0 1.406 2.812 4.219 ... 354.4 355.8 357.2 358.6\n",
       "  * lat      (lat) float64 -88.93 -87.54 -86.14 -84.74 ... 86.14 87.54 88.93\n",
       "Dimensions without coordinates: time</pre>"
      ],
      "text/plain": [
       "<xarray.DataArray (time: 103, lat: 128, lon: 256)>\n",
       "dask.array<sub, shape=(103, 128, 256), dtype=float32, chunksize=(1, 128, 256), chunktype=numpy.ndarray>\n",
       "Coordinates:\n",
       "    height   float64 2.0\n",
       "  * lon      (lon) float64 0.0 1.406 2.812 4.219 ... 354.4 355.8 357.2 358.6\n",
       "  * lat      (lat) float64 -88.93 -87.54 -86.14 -84.74 ... 86.14 87.54 88.93\n",
       "Dimensions without coordinates: time"
      ]
     },
     "execution_count": 18,
     "metadata": {},
     "output_type": "execute_result"
    }
   ],
   "source": [
    "# Compute anomalies by removing the ensemble-mean.\n",
    "mean = matrix.mean(axis=0)\n",
    "anom = matrix - mean\n",
    "anom"
   ]
  },
  {
   "cell_type": "code",
   "execution_count": 62,
   "metadata": {},
   "outputs": [],
   "source": [
    "# Create an EOF solver to do the EOF analysis. \n",
    "solver = Eof(anom, weights=W)\n",
    "\n",
    "eof = solver.eofsAsCovariance(neofs=100, pcscaling=1)\n",
    "pc = solver.pcs(pcscaling=1)"
   ]
  },
  {
   "cell_type": "code",
   "execution_count": null,
   "metadata": {},
   "outputs": [],
   "source": []
  },
  {
   "cell_type": "code",
   "execution_count": 63,
   "metadata": {},
   "outputs": [
    {
     "data": {
      "text/html": [
       "<pre>&lt;xarray.DataArray &#x27;variance_fractions&#x27; (mode: 100)&gt;\n",
       "array([6.60489202e-01, 1.13612585e-01, 8.03174973e-02, 2.67597474e-02,\n",
       "       1.88243669e-02, 1.11831445e-02, 9.21894144e-03, 7.59233534e-03,\n",
       "       6.28123758e-03, 5.27289929e-03, 4.74120304e-03, 3.26231704e-03,\n",
       "       2.92682508e-03, 2.76281452e-03, 2.49266648e-03, 2.22179736e-03,\n",
       "       2.04403815e-03, 1.73105532e-03, 1.68026681e-03, 1.47870288e-03,\n",
       "       1.38389587e-03, 1.20784342e-03, 1.10150955e-03, 1.07990997e-03,\n",
       "       1.02017622e-03, 9.40946629e-04, 9.21466737e-04, 8.76303937e-04,\n",
       "       8.21321853e-04, 7.78056798e-04, 7.66080222e-04, 7.25412217e-04,\n",
       "       7.05554674e-04, 6.89886336e-04, 6.77252538e-04, 6.37238496e-04,\n",
       "       6.17543701e-04, 5.97013626e-04, 5.81701926e-04, 5.68828371e-04,\n",
       "       5.54935657e-04, 5.26473043e-04, 5.03476476e-04, 4.91259911e-04,\n",
       "       4.87244630e-04, 4.80960065e-04, 4.56700363e-04, 4.53257409e-04,\n",
       "       4.40605858e-04, 4.33051726e-04, 4.16363386e-04, 4.07920452e-04,\n",
       "       4.02990379e-04, 3.91083246e-04, 3.75933450e-04, 3.69508372e-04,\n",
       "       3.64372885e-04, 3.55418655e-04, 3.50805261e-04, 3.43489606e-04,\n",
       "       3.41303705e-04, 3.31161486e-04, 3.23791843e-04, 3.11480544e-04,\n",
       "       3.07870447e-04, 3.02143482e-04, 3.00343236e-04, 2.90183641e-04,\n",
       "       2.87511531e-04, 2.81560235e-04, 2.77423736e-04, 2.67826865e-04,\n",
       "       2.65628536e-04, 2.62210902e-04, 2.60722154e-04, 2.54199287e-04,\n",
       "       2.51130463e-04, 2.41227579e-04, 2.37842120e-04, 2.34752122e-04,\n",
       "       2.32021892e-04, 2.27233948e-04, 2.23028037e-04, 2.18025016e-04,\n",
       "       2.14131811e-04, 2.08511323e-04, 2.03753021e-04, 2.00977272e-04,\n",
       "       1.95860848e-04, 1.93385888e-04, 1.90738123e-04, 1.87649362e-04,\n",
       "       1.86362464e-04, 1.83007025e-04, 1.77029913e-04, 1.76536618e-04,\n",
       "       1.70596570e-04, 1.64757468e-04, 1.63128789e-04, 1.56570110e-04],\n",
       "      dtype=float32)\n",
       "Coordinates:\n",
       "  * mode     (mode) int64 0 1 2 3 4 5 6 7 8 9 ... 90 91 92 93 94 95 96 97 98 99\n",
       "Attributes:\n",
       "    long_name:  variance_fractions</pre>"
      ],
      "text/plain": [
       "<xarray.DataArray 'variance_fractions' (mode: 100)>\n",
       "array([6.60489202e-01, 1.13612585e-01, 8.03174973e-02, 2.67597474e-02,\n",
       "       1.88243669e-02, 1.11831445e-02, 9.21894144e-03, 7.59233534e-03,\n",
       "       6.28123758e-03, 5.27289929e-03, 4.74120304e-03, 3.26231704e-03,\n",
       "       2.92682508e-03, 2.76281452e-03, 2.49266648e-03, 2.22179736e-03,\n",
       "       2.04403815e-03, 1.73105532e-03, 1.68026681e-03, 1.47870288e-03,\n",
       "       1.38389587e-03, 1.20784342e-03, 1.10150955e-03, 1.07990997e-03,\n",
       "       1.02017622e-03, 9.40946629e-04, 9.21466737e-04, 8.76303937e-04,\n",
       "       8.21321853e-04, 7.78056798e-04, 7.66080222e-04, 7.25412217e-04,\n",
       "       7.05554674e-04, 6.89886336e-04, 6.77252538e-04, 6.37238496e-04,\n",
       "       6.17543701e-04, 5.97013626e-04, 5.81701926e-04, 5.68828371e-04,\n",
       "       5.54935657e-04, 5.26473043e-04, 5.03476476e-04, 4.91259911e-04,\n",
       "       4.87244630e-04, 4.80960065e-04, 4.56700363e-04, 4.53257409e-04,\n",
       "       4.40605858e-04, 4.33051726e-04, 4.16363386e-04, 4.07920452e-04,\n",
       "       4.02990379e-04, 3.91083246e-04, 3.75933450e-04, 3.69508372e-04,\n",
       "       3.64372885e-04, 3.55418655e-04, 3.50805261e-04, 3.43489606e-04,\n",
       "       3.41303705e-04, 3.31161486e-04, 3.23791843e-04, 3.11480544e-04,\n",
       "       3.07870447e-04, 3.02143482e-04, 3.00343236e-04, 2.90183641e-04,\n",
       "       2.87511531e-04, 2.81560235e-04, 2.77423736e-04, 2.67826865e-04,\n",
       "       2.65628536e-04, 2.62210902e-04, 2.60722154e-04, 2.54199287e-04,\n",
       "       2.51130463e-04, 2.41227579e-04, 2.37842120e-04, 2.34752122e-04,\n",
       "       2.32021892e-04, 2.27233948e-04, 2.23028037e-04, 2.18025016e-04,\n",
       "       2.14131811e-04, 2.08511323e-04, 2.03753021e-04, 2.00977272e-04,\n",
       "       1.95860848e-04, 1.93385888e-04, 1.90738123e-04, 1.87649362e-04,\n",
       "       1.86362464e-04, 1.83007025e-04, 1.77029913e-04, 1.76536618e-04,\n",
       "       1.70596570e-04, 1.64757468e-04, 1.63128789e-04, 1.56570110e-04],\n",
       "      dtype=float32)\n",
       "Coordinates:\n",
       "  * mode     (mode) int64 0 1 2 3 4 5 6 7 8 9 ... 90 91 92 93 94 95 96 97 98 99\n",
       "Attributes:\n",
       "    long_name:  variance_fractions"
      ]
     },
     "execution_count": 63,
     "metadata": {},
     "output_type": "execute_result"
    }
   ],
   "source": [
    "varFrac = solver.varianceFraction(neigs=100)\n",
    "varFrac"
   ]
  },
  {
   "cell_type": "code",
   "execution_count": 64,
   "metadata": {
    "scrolled": true
   },
   "outputs": [
    {
     "data": {
      "text/plain": [
       "array([[[-0.78857803, -0.78857803, -0.78857803, ..., -0.78857803,\n",
       "         -0.78857803, -0.78857803],\n",
       "        [-0.8032341 , -0.8032341 , -0.8032341 , ..., -0.8032341 ,\n",
       "         -0.8032341 , -0.8032341 ],\n",
       "        [-1.8073769 , -1.8073769 , -1.8073769 , ..., -1.3850365 ,\n",
       "         -1.8073769 , -1.8073769 ],\n",
       "        ...,\n",
       "        [-1.5505028 , -1.5505028 , -1.5505028 , ..., -1.5387421 ,\n",
       "         -1.5505028 , -1.5505028 ],\n",
       "        [-0.8894577 , -0.8894577 , -0.8894577 , ..., -0.8894577 ,\n",
       "         -0.8894577 , -0.8894577 ],\n",
       "        [ 1.3391495 ,  1.3391495 ,  1.3391495 , ...,  1.3391495 ,\n",
       "          1.3391495 ,  1.3391495 ]],\n",
       "\n",
       "       [[ 1.2826347 ,  1.2826347 ,  1.2826347 , ...,  1.2826347 ,\n",
       "          1.2826347 ,  1.2826347 ],\n",
       "        [-0.15719986, -0.15719986, -0.15719986, ..., -0.15719986,\n",
       "         -0.15719986, -0.15719986],\n",
       "        [ 1.7153435 ,  1.7153435 ,  1.7153435 , ...,  0.8431816 ,\n",
       "          1.7153435 ,  1.7153435 ],\n",
       "        ...,\n",
       "        [-0.91319656, -0.91319656, -0.91319656, ..., -0.85782623,\n",
       "         -0.91319656, -0.91319656],\n",
       "        [-1.190094  , -1.190094  , -1.190094  , ..., -1.190094  ,\n",
       "         -1.190094  , -1.190094  ],\n",
       "        [-1.3114548 , -1.3114548 , -1.3114548 , ..., -1.3114548 ,\n",
       "         -1.3114548 , -1.3114548 ]],\n",
       "\n",
       "       [[-0.40401077, -0.40401077, -0.40401077, ..., -0.40401077,\n",
       "         -0.40401077, -0.40401077],\n",
       "        [-0.30661392, -0.30661392, -0.30661392, ..., -0.30661392,\n",
       "         -0.30661392, -0.30661392],\n",
       "        [-1.1773262 , -1.1773262 , -1.1773262 , ..., -1.0164375 ,\n",
       "         -1.1773262 , -1.1773262 ],\n",
       "        ...,\n",
       "        [-0.41508102, -0.41508102, -0.41508102, ..., -0.16795349,\n",
       "         -0.41508102, -0.41508102],\n",
       "        [ 0.45339966,  0.45339966,  0.45339966, ...,  0.45339966,\n",
       "          0.45339966,  0.45339966],\n",
       "        [-0.7481384 , -0.7481384 , -0.7481384 , ..., -0.7481384 ,\n",
       "         -0.7481384 , -0.7481384 ]],\n",
       "\n",
       "       ...,\n",
       "\n",
       "       [[-0.65324783, -0.65324783, -0.65324783, ..., -0.65324783,\n",
       "         -0.65324783, -0.65324783],\n",
       "        [-1.1616936 , -1.1616936 , -1.1616936 , ..., -1.1616936 ,\n",
       "         -1.1616936 , -1.1616936 ],\n",
       "        [-0.91033554, -0.91033554, -0.91033554, ..., -0.9844246 ,\n",
       "         -0.91033554, -0.91033554],\n",
       "        ...,\n",
       "        [ 0.3243904 ,  0.3243904 ,  0.3243904 , ..., -0.01740265,\n",
       "          0.3243904 ,  0.3243904 ],\n",
       "        [-0.04766846, -0.04766846, -0.04766846, ..., -0.04766846,\n",
       "         -0.04766846, -0.04766846],\n",
       "        [-0.5948868 , -0.5948868 , -0.5948868 , ..., -0.5948868 ,\n",
       "         -0.5948868 , -0.5948868 ]],\n",
       "\n",
       "       [[ 0.60573196,  0.60573196,  0.60573196, ...,  0.60573196,\n",
       "          0.60573196,  0.60573196],\n",
       "        [ 0.6195717 ,  0.6195717 ,  0.6195717 , ...,  0.6195717 ,\n",
       "          0.6195717 ,  0.6195717 ],\n",
       "        [-0.38921738, -0.38921738, -0.38921738, ...,  0.5461998 ,\n",
       "         -0.38921738, -0.38921738],\n",
       "        ...,\n",
       "        [-0.01687241, -0.01687241, -0.01687241, ..., -0.41627502,\n",
       "         -0.01687241, -0.01687241],\n",
       "        [-0.43460083, -0.43460083, -0.43460083, ..., -0.43460083,\n",
       "         -0.43460083, -0.43460083],\n",
       "        [-0.8652878 , -0.8652878 , -0.8652878 , ..., -0.8652878 ,\n",
       "         -0.8652878 , -0.8652878 ]],\n",
       "\n",
       "       [[-0.714756  , -0.714756  , -0.714756  , ..., -0.714756  ,\n",
       "         -0.714756  , -0.714756  ],\n",
       "        [-0.48958206, -0.48958206, -0.48958206, ..., -0.48958206,\n",
       "         -0.48958206, -0.48958206],\n",
       "        [ 0.76311874,  0.76311874,  0.76311874, ...,  0.42936325,\n",
       "          0.76311874,  0.76311874],\n",
       "        ...,\n",
       "        [ 0.58211136,  0.58211136,  0.58211136, ...,  0.23672485,\n",
       "          0.58211136,  0.58211136],\n",
       "        [ 0.4499054 ,  0.4499054 ,  0.4499054 , ...,  0.4499054 ,\n",
       "          0.4499054 ,  0.4499054 ],\n",
       "        [ 0.18649292,  0.18649292,  0.18649292, ...,  0.18649292,\n",
       "          0.18649292,  0.18649292]]], dtype=float32)"
      ]
     },
     "execution_count": 64,
     "metadata": {},
     "output_type": "execute_result"
    }
   ],
   "source": [
    "anom.values"
   ]
  },
  {
   "cell_type": "code",
   "execution_count": 65,
   "metadata": {},
   "outputs": [
    {
     "data": {
      "text/plain": [
       "array([[[-0.7552143 , -0.7552143 , -0.7552143 , ..., -0.7552143 ,\n",
       "         -0.7552143 , -0.7552143 ],\n",
       "        [-0.74487585, -0.74487585, -0.74487585, ..., -0.74487585,\n",
       "         -0.74487585, -0.74487585],\n",
       "        [-1.7063015 , -1.7063015 , -1.7063015 , ..., -1.3251894 ,\n",
       "         -1.7063015 , -1.7063015 ],\n",
       "        ...,\n",
       "        [-1.3412898 , -1.3412898 , -1.3412898 , ..., -1.2902204 ,\n",
       "         -1.3412898 , -1.3412898 ],\n",
       "        [-1.1412404 , -1.1412404 , -1.1412404 , ..., -1.1412404 ,\n",
       "         -1.1412404 , -1.1412404 ],\n",
       "        [ 1.0107684 ,  1.0107684 ,  1.0107684 , ...,  1.0107684 ,\n",
       "          1.0107684 ,  1.0107684 ]],\n",
       "\n",
       "       [[ 1.282547  ,  1.282547  ,  1.282547  , ...,  1.282547  ,\n",
       "          1.282547  ,  1.282547  ],\n",
       "        [-0.12052376, -0.12052376, -0.12052376, ..., -0.12052376,\n",
       "         -0.12052376, -0.12052376],\n",
       "        [ 1.6877463 ,  1.6877463 ,  1.6877463 , ...,  0.80318904,\n",
       "          1.6877463 ,  1.6877463 ],\n",
       "        ...,\n",
       "        [-0.888285  , -0.888285  , -0.888285  , ..., -0.8134382 ,\n",
       "         -0.888285  , -0.888285  ],\n",
       "        [-1.2186275 , -1.2186275 , -1.2186275 , ..., -1.2186275 ,\n",
       "         -1.2186275 , -1.2186275 ],\n",
       "        [-1.2883066 , -1.2883066 , -1.2883066 , ..., -1.2883066 ,\n",
       "         -1.2883066 , -1.2883066 ]],\n",
       "\n",
       "       [[-0.4312892 , -0.4312892 , -0.4312892 , ..., -0.4312892 ,\n",
       "         -0.4312892 , -0.4312892 ],\n",
       "        [-0.35050938, -0.35050938, -0.35050938, ..., -0.35050938,\n",
       "         -0.35050938, -0.35050938],\n",
       "        [-1.2628013 , -1.2628013 , -1.2628013 , ..., -1.0695004 ,\n",
       "         -1.2628013 , -1.2628013 ],\n",
       "        ...,\n",
       "        [-0.58349526, -0.58349526, -0.58349526, ..., -0.3664855 ,\n",
       "         -0.58349526, -0.58349526],\n",
       "        [ 0.6562312 ,  0.6562312 ,  0.6562312 , ...,  0.6562312 ,\n",
       "          0.6562312 ,  0.6562312 ],\n",
       "        [-0.47734442, -0.47734442, -0.47734442, ..., -0.47734442,\n",
       "         -0.47734442, -0.47734442]],\n",
       "\n",
       "       ...,\n",
       "\n",
       "       [[-0.6409664 , -0.6409664 , -0.6409664 , ..., -0.6409664 ,\n",
       "         -0.6409664 , -0.6409664 ],\n",
       "        [-1.1145593 , -1.1145593 , -1.1145593 , ..., -1.1145593 ,\n",
       "         -1.1145593 , -1.1145593 ],\n",
       "        [-0.8921655 , -0.8921655 , -0.8921655 , ..., -0.9901396 ,\n",
       "         -0.8921655 , -0.8921655 ],\n",
       "        ...,\n",
       "        [ 0.4191384 ,  0.4191384 ,  0.4191384 , ...,  0.10545361,\n",
       "          0.4191384 ,  0.4191384 ],\n",
       "        [-0.16068804, -0.16068804, -0.16068804, ..., -0.16068804,\n",
       "         -0.16068804, -0.16068804],\n",
       "        [-0.70024645, -0.70024645, -0.70024645, ..., -0.70024645,\n",
       "         -0.70024645, -0.70024645]],\n",
       "\n",
       "       [[ 0.5824922 ,  0.5824922 ,  0.5824922 , ...,  0.5824922 ,\n",
       "          0.5824922 ,  0.5824922 ],\n",
       "        [ 0.6973652 ,  0.6973652 ,  0.6973652 , ...,  0.6973652 ,\n",
       "          0.6973652 ,  0.6973652 ],\n",
       "        [-0.5475213 , -0.5475213 , -0.5475213 , ...,  0.3764037 ,\n",
       "         -0.5475213 , -0.5475213 ],\n",
       "        ...,\n",
       "        [-0.0807169 , -0.0807169 , -0.0807169 , ..., -0.44452122,\n",
       "         -0.0807169 , -0.0807169 ],\n",
       "        [-0.35311574, -0.35311574, -0.35311574, ..., -0.35311574,\n",
       "         -0.35311574, -0.35311574],\n",
       "        [-0.5648828 , -0.5648828 , -0.5648828 , ..., -0.5648828 ,\n",
       "         -0.5648828 , -0.5648828 ]],\n",
       "\n",
       "       [[-0.72461057, -0.72461057, -0.72461057, ..., -0.72461057,\n",
       "         -0.72461057, -0.72461057],\n",
       "        [-0.48624077, -0.48624077, -0.48624077, ..., -0.48624077,\n",
       "         -0.48624077, -0.48624077],\n",
       "        [ 0.71799344,  0.71799344,  0.71799344, ...,  0.38942888,\n",
       "          0.71799344,  0.71799344],\n",
       "        ...,\n",
       "        [ 0.5345442 ,  0.5345442 ,  0.5345442 , ...,  0.18848386,\n",
       "          0.5345442 ,  0.5345442 ],\n",
       "        [ 0.5079589 ,  0.5079589 ,  0.5079589 , ...,  0.5079589 ,\n",
       "          0.5079589 ,  0.5079589 ],\n",
       "        [ 0.29593328,  0.29593328,  0.29593328, ...,  0.29593328,\n",
       "          0.29593328,  0.29593328]]], dtype=float32)"
      ]
     },
     "execution_count": 65,
     "metadata": {},
     "output_type": "execute_result"
    }
   ],
   "source": [
    "anom_bis = solver.reconstructedField(100)\n",
    "anom_bis.values"
   ]
  },
  {
   "cell_type": "markdown",
   "metadata": {},
   "source": [
    "### Save"
   ]
  },
  {
   "cell_type": "code",
   "execution_count": 24,
   "metadata": {},
   "outputs": [],
   "source": [
    "for i in range(0,len(eof),1) : \n",
    "    j = i+1\n",
    "    # EOFmap\n",
    "    EOF_df = eof[i].to_dataframe().drop(labels = 'mode', axis=1)\n",
    "    EOF_df.to_pickle(path_files+\"npy/CNRMppe_decomposition_EOFmap\"+str(j)+\"_\"+str(variable)+\".npy\")\n",
    "    \n",
    "    #EOFpc\n",
    "    pc_p1 = pc[0, i]\n",
    "    pc_mb = pc[1:, i]\n",
    "    np.save(path_files+'npy/CNRMppe_decomposition_p1_EOF'+str(j)+'pc_'+str(variable)+'.npy', pc_p1)\n",
    "    np.save(path_files+'npy/CNRMppe_decomposition_EOF'+str(j)+'pc_'+str(variable)+'.npy', pc_mb)"
   ]
  },
  {
   "cell_type": "code",
   "execution_count": 25,
   "metadata": {},
   "outputs": [],
   "source": [
    "mean_df = mean.to_dataframe(name=str(variable)+'mean').drop(labels = 'height', axis=1)\n",
    "mean_df.to_pickle(path_files+'npy/CNRMppe_decomposition_mean_'+str(variable)+'.npy')"
   ]
  },
  {
   "cell_type": "markdown",
   "metadata": {},
   "source": [
    "## Projection des obs"
   ]
  },
  {
   "cell_type": "code",
   "execution_count": 49,
   "metadata": {},
   "outputs": [],
   "source": [
    "eofs = []\n",
    "pc1 = np.load(path_files+'npy/CNRMppe_decomposition_EOF1pc_'+str(variable)+'.npy')\n",
    "PC_df = pd.DataFrame(pc1)\n",
    "PC_df['pc1'] = pc1\n",
    "\n",
    "for i in range(0,5, 1) :\n",
    "    j=i+1\n",
    "    tmp = pd.read_pickle(path_files+'npy/CNRMppe_decomposition_EOFmap'+str(j)+'_'+str(variable)+'.npy').to_xarray().to_array()\n",
    "    tmp_bis = tmp[0,:,:].rename({'variable':'mode'})\n",
    "    eofs.append(tmp_bis)\n",
    "\n",
    "    pc = np.load(path_files+'npy/CNRMppe_decomposition_EOF'+str(j)+'pc_'+str(variable)+'.npy')\n",
    "    PC_df['pc'+str(j)] = pc\n",
    "\n",
    "eofs_combined = xr.combine_nested(eofs, concat_dim='eofs')\n",
    "PC_df = PC_df.drop(labels = 0, axis=1)"
   ]
  },
  {
   "cell_type": "code",
   "execution_count": 50,
   "metadata": {},
   "outputs": [],
   "source": [
    "eofs_inv = np.linalg.pinv(eofs_combined.transpose())"
   ]
  },
  {
   "cell_type": "code",
   "execution_count": 55,
   "metadata": {},
   "outputs": [
    {
     "data": {
      "text/html": [
       "<pre>&lt;xarray.Dataset&gt;\n",
       "Dimensions:          (lat: 128, lon: 256)\n",
       "Coordinates:\n",
       "  * lat              (lat) float64 -88.93 -87.54 -86.14 ... 86.14 87.54 88.93\n",
       "  * lon              (lon) float64 0.0 1.406 2.812 4.219 ... 355.8 357.2 358.6\n",
       "    mode             &lt;U6 &#x27;SWmean&#x27;\n",
       "Data variables:\n",
       "    toa_sw_all_mon   (lat, lon) float32 75.14928 75.14928 ... 48.00441 48.00441\n",
       "    toa_lw_all_mon   (lat, lon) float32 96.6098 96.6098 ... 138.29242 138.29242\n",
       "    toa_net_all_mon  (lat, lon) float32 -137.61308 -137.61308 ... -182.34375\n",
       "    SW               (lat, lon) float32 5.2070236 5.2070236 ... 11.797485</pre>"
      ],
      "text/plain": [
       "<xarray.Dataset>\n",
       "Dimensions:          (lat: 128, lon: 256)\n",
       "Coordinates:\n",
       "  * lat              (lat) float64 -88.93 -87.54 -86.14 ... 86.14 87.54 88.93\n",
       "  * lon              (lon) float64 0.0 1.406 2.812 4.219 ... 355.8 357.2 358.6\n",
       "    mode             <U6 'SWmean'\n",
       "Data variables:\n",
       "    toa_sw_all_mon   (lat, lon) float32 75.14928 75.14928 ... 48.00441 48.00441\n",
       "    toa_lw_all_mon   (lat, lon) float32 96.6098 96.6098 ... 138.29242 138.29242\n",
       "    toa_net_all_mon  (lat, lon) float32 -137.61308 -137.61308 ... -182.34375\n",
       "    SW               (lat, lon) float32 5.2070236 5.2070236 ... 11.797485"
      ]
     },
     "execution_count": 55,
     "metadata": {},
     "output_type": "execute_result"
    }
   ],
   "source": [
    "Mean =  pd.read_pickle(path_files+'npy/CNRMppe_decomposition_mean_'+str(variable)+'.npy').to_xarray().to_array()\n",
    "Mean = Mean[0,:,:].rename({'variable':'mode'})\n",
    "X_obs = obs - Mean\n",
    "X_obs_bis = X_obs.expand_dims(dim={'dummy':range(0,102,1)})\n",
    "X_obs"
   ]
  },
  {
   "cell_type": "code",
   "execution_count": 29,
   "metadata": {},
   "outputs": [
    {
     "data": {
      "text/html": [
       "<pre>&lt;xarray.DataArray (eofs: 50)&gt;\n",
       "array([ 0.1263048 ,  1.8742523 ,  0.6132565 , -1.3518723 , -0.84207034,\n",
       "        2.43599   ,  4.302594  , -1.4547896 , -2.987392  ,  0.9646888 ,\n",
       "       -9.21082   ,  7.8416777 , -2.2350533 ,  2.0518746 ,  7.263737  ,\n",
       "       -4.9878488 ,  5.8016315 , -4.2721004 , -9.834402  ,  6.157132  ,\n",
       "        1.0935563 ,  4.363311  , -2.4725127 , -2.0371933 , -9.449759  ,\n",
       "        1.6607959 ,  0.6309592 , -2.5861425 ,  8.171105  , -5.8805842 ,\n",
       "       -4.425437  ,  1.3368164 , -0.97553456,  9.088718  ,  5.826811  ,\n",
       "        1.2552418 , -0.49661353, -3.3404255 , -3.3881464 , -2.4905655 ,\n",
       "       -4.7094364 ,  5.91739   ,  0.49460986,  0.20518497, -8.267524  ,\n",
       "        2.5803397 ,  1.0572534 , 11.509592  ,  3.0779722 ,  0.5017561 ],\n",
       "      dtype=float32)\n",
       "Dimensions without coordinates: eofs</pre>"
      ],
      "text/plain": [
       "<xarray.DataArray (eofs: 50)>\n",
       "array([ 0.1263048 ,  1.8742523 ,  0.6132565 , -1.3518723 , -0.84207034,\n",
       "        2.43599   ,  4.302594  , -1.4547896 , -2.987392  ,  0.9646888 ,\n",
       "       -9.21082   ,  7.8416777 , -2.2350533 ,  2.0518746 ,  7.263737  ,\n",
       "       -4.9878488 ,  5.8016315 , -4.2721004 , -9.834402  ,  6.157132  ,\n",
       "        1.0935563 ,  4.363311  , -2.4725127 , -2.0371933 , -9.449759  ,\n",
       "        1.6607959 ,  0.6309592 , -2.5861425 ,  8.171105  , -5.8805842 ,\n",
       "       -4.425437  ,  1.3368164 , -0.97553456,  9.088718  ,  5.826811  ,\n",
       "        1.2552418 , -0.49661353, -3.3404255 , -3.3881464 , -2.4905655 ,\n",
       "       -4.7094364 ,  5.91739   ,  0.49460986,  0.20518497, -8.267524  ,\n",
       "        2.5803397 ,  1.0572534 , 11.509592  ,  3.0779722 ,  0.5017561 ],\n",
       "      dtype=float32)\n",
       "Dimensions without coordinates: eofs"
      ]
     },
     "execution_count": 29,
     "metadata": {},
     "output_type": "execute_result"
    }
   ],
   "source": [
    "U_obs = np.dot(eofs_inv,X_obs_bis['SW'].transpose('lon','lat', 'dummy'))\n",
    "U_obs_bis = xr.DataArray(U_obs, dims=['lon','eofs','lon2', 'dummy'])\n",
    "U_obs_avg = U_obs_bis[0,:,0,0].transpose()\n",
    "U_obs_avg"
   ]
  },
  {
   "cell_type": "code",
   "execution_count": 91,
   "metadata": {},
   "outputs": [
    {
     "ename": "ValueError",
     "evalue": "field and EOFs have different missing value locations",
     "output_type": "error",
     "traceback": [
      "\u001b[0;31m---------------------------------------------------------------------------\u001b[0m",
      "\u001b[0;31mValueError\u001b[0m                                Traceback (most recent call last)",
      "\u001b[0;32m<ipython-input-91-1601924bdc4d>\u001b[0m in \u001b[0;36m<module>\u001b[0;34m\u001b[0m\n\u001b[0;32m----> 1\u001b[0;31m \u001b[0mU_obs\u001b[0m \u001b[0;34m=\u001b[0m \u001b[0msolver\u001b[0m\u001b[0;34m.\u001b[0m\u001b[0mprojectField\u001b[0m\u001b[0;34m(\u001b[0m\u001b[0mX_obs\u001b[0m\u001b[0;34m[\u001b[0m\u001b[0;34m'SW'\u001b[0m\u001b[0;34m]\u001b[0m\u001b[0;34m.\u001b[0m\u001b[0mdrop\u001b[0m\u001b[0;34m(\u001b[0m\u001b[0;34m'mode'\u001b[0m\u001b[0;34m)\u001b[0m\u001b[0;34m.\u001b[0m\u001b[0mfillna\u001b[0m\u001b[0;34m(\u001b[0m\u001b[0;36m0\u001b[0m\u001b[0;34m)\u001b[0m\u001b[0;34m)\u001b[0m\u001b[0;34m\u001b[0m\u001b[0;34m\u001b[0m\u001b[0m\n\u001b[0m\u001b[1;32m      2\u001b[0m \u001b[0mU_obs\u001b[0m\u001b[0;34m\u001b[0m\u001b[0;34m\u001b[0m\u001b[0m\n",
      "\u001b[0;32m~/.local/lib/python3.7/site-packages/eofs/xarray.py\u001b[0m in \u001b[0;36mprojectField\u001b[0;34m(self, array, neofs, eofscaling, weighted)\u001b[0m\n\u001b[1;32m    619\u001b[0m                                         \u001b[0mneofs\u001b[0m\u001b[0;34m=\u001b[0m\u001b[0mneofs\u001b[0m\u001b[0;34m,\u001b[0m\u001b[0;34m\u001b[0m\u001b[0;34m\u001b[0m\u001b[0m\n\u001b[1;32m    620\u001b[0m                                         \u001b[0meofscaling\u001b[0m\u001b[0;34m=\u001b[0m\u001b[0meofscaling\u001b[0m\u001b[0;34m,\u001b[0m\u001b[0;34m\u001b[0m\u001b[0;34m\u001b[0m\u001b[0m\n\u001b[0;32m--> 621\u001b[0;31m                                         weighted=weighted)\n\u001b[0m\u001b[1;32m    622\u001b[0m         \u001b[0;31m# Create the PCs DataArray.\u001b[0m\u001b[0;34m\u001b[0m\u001b[0;34m\u001b[0m\u001b[0;34m\u001b[0m\u001b[0m\n\u001b[1;32m    623\u001b[0m         \u001b[0;32mif\u001b[0m \u001b[0mpcs\u001b[0m\u001b[0;34m.\u001b[0m\u001b[0mndim\u001b[0m \u001b[0;34m==\u001b[0m \u001b[0;36m2\u001b[0m\u001b[0;34m:\u001b[0m\u001b[0;34m\u001b[0m\u001b[0;34m\u001b[0m\u001b[0m\n",
      "\u001b[0;32m~/.local/lib/python3.7/site-packages/eofs/standard.py\u001b[0m in \u001b[0;36mprojectField\u001b[0;34m(self, field, neofs, eofscaling, weighted)\u001b[0m\n\u001b[1;32m    750\u001b[0m         \u001b[0;32mif\u001b[0m \u001b[0meofNonMissingIndex\u001b[0m\u001b[0;34m.\u001b[0m\u001b[0mshape\u001b[0m \u001b[0;34m!=\u001b[0m \u001b[0mnonMissingIndex\u001b[0m\u001b[0;34m.\u001b[0m\u001b[0mshape\u001b[0m \u001b[0;32mor\u001b[0m\u001b[0;31m \u001b[0m\u001b[0;31m\\\u001b[0m\u001b[0;34m\u001b[0m\u001b[0;34m\u001b[0m\u001b[0m\n\u001b[1;32m    751\u001b[0m                 \u001b[0;34m(\u001b[0m\u001b[0meofNonMissingIndex\u001b[0m \u001b[0;34m!=\u001b[0m \u001b[0mnonMissingIndex\u001b[0m\u001b[0;34m)\u001b[0m\u001b[0;34m.\u001b[0m\u001b[0many\u001b[0m\u001b[0;34m(\u001b[0m\u001b[0;34m)\u001b[0m\u001b[0;34m:\u001b[0m\u001b[0;34m\u001b[0m\u001b[0;34m\u001b[0m\u001b[0m\n\u001b[0;32m--> 752\u001b[0;31m             raise ValueError('field and EOFs have different '\n\u001b[0m\u001b[1;32m    753\u001b[0m                              'missing value locations')\n\u001b[1;32m    754\u001b[0m         \u001b[0meofs_flat\u001b[0m \u001b[0;34m=\u001b[0m \u001b[0mself\u001b[0m\u001b[0;34m.\u001b[0m\u001b[0m_flatE\u001b[0m\u001b[0;34m[\u001b[0m\u001b[0mslicer\u001b[0m\u001b[0;34m,\u001b[0m \u001b[0meofNonMissingIndex\u001b[0m\u001b[0;34m]\u001b[0m\u001b[0;34m\u001b[0m\u001b[0;34m\u001b[0m\u001b[0m\n",
      "\u001b[0;31mValueError\u001b[0m: field and EOFs have different missing value locations"
     ]
    }
   ],
   "source": [
    "U_obs = solver.projectField(X_obs['SW'].drop('mode').fillna(0))\n",
    "U_obs"
   ]
  },
  {
   "cell_type": "markdown",
   "metadata": {},
   "source": [
    "### Save"
   ]
  },
  {
   "cell_type": "code",
   "execution_count": 291,
   "metadata": {},
   "outputs": [],
   "source": [
    "np.save(path_files+'npy/CNRMppe_decomposition_U_'+str(product)+'.npy', U_obs_avg)"
   ]
  },
  {
   "cell_type": "markdown",
   "metadata": {},
   "source": [
    "## Calcule de rj"
   ]
  },
  {
   "cell_type": "code",
   "execution_count": 292,
   "metadata": {},
   "outputs": [
    {
     "data": {
      "text/plain": [
       "50"
      ]
     },
     "execution_count": 292,
     "metadata": {},
     "output_type": "execute_result"
    }
   ],
   "source": [
    "U_obs = np.load(path_files+'npy/CNRMppe_decomposition_U_'+str(product)+'.npy')\n",
    "len(U_obs)"
   ]
  },
  {
   "cell_type": "code",
   "execution_count": 293,
   "metadata": {},
   "outputs": [],
   "source": [
    "def Error_rj(cpt, U_obs, variable):\n",
    "    rj_list = []\n",
    "    for i in range(0,50,1) :\n",
    "        j=i+1\n",
    "        pc = np.load(path_files+'npy/CNRMppe_decomposition_EOF'+str(j)+'pc_'+str(variable)+'.npy')\n",
    "        diff = (U_obs[i]-pc[cpt])**2\n",
    "        rj_list.append(diff)\n",
    "        #print(pc[cpt])\n",
    "        #print(U_obs[i])\n",
    "        #print(diff)\n",
    "    rj_E = sqrt(sum(rj_list)/len(rj_list))\n",
    "    return rj_E"
   ]
  },
  {
   "cell_type": "code",
   "execution_count": 294,
   "metadata": {},
   "outputs": [],
   "source": [
    "U_obs = np.load(path_files+'npy/CNRMppe_decomposition_U_'+str(product)+'.npy')\n",
    "rj = {}\n",
    "cpt=0\n",
    "for p in nb_p_list:\n",
    "    tmp = Error_rj(cpt, U_obs, variable)\n",
    "    rj[p] = tmp\n",
    "    cpt+=1"
   ]
  },
  {
   "cell_type": "markdown",
   "metadata": {},
   "source": [
    "# Emulation"
   ]
  },
  {
   "cell_type": "markdown",
   "metadata": {},
   "source": [
    "# Figure"
   ]
  },
  {
   "cell_type": "code",
   "execution_count": 295,
   "metadata": {},
   "outputs": [
    {
     "data": {
      "text/html": [
       "<div>\n",
       "<style scoped>\n",
       "    .dataframe tbody tr th:only-of-type {\n",
       "        vertical-align: middle;\n",
       "    }\n",
       "\n",
       "    .dataframe tbody tr th {\n",
       "        vertical-align: top;\n",
       "    }\n",
       "\n",
       "    .dataframe thead th {\n",
       "        text-align: right;\n",
       "    }\n",
       "</style>\n",
       "<table border=\"1\" class=\"dataframe\">\n",
       "  <thead>\n",
       "    <tr style=\"text-align: right;\">\n",
       "      <th></th>\n",
       "      <th>ej</th>\n",
       "      <th>rj</th>\n",
       "    </tr>\n",
       "  </thead>\n",
       "  <tbody>\n",
       "    <tr>\n",
       "      <th>0</th>\n",
       "      <td>26.278687</td>\n",
       "      <td>4.848649</td>\n",
       "    </tr>\n",
       "    <tr>\n",
       "      <th>1</th>\n",
       "      <td>14.981816</td>\n",
       "      <td>4.979319</td>\n",
       "    </tr>\n",
       "    <tr>\n",
       "      <th>2</th>\n",
       "      <td>13.467274</td>\n",
       "      <td>5.151243</td>\n",
       "    </tr>\n",
       "    <tr>\n",
       "      <th>3</th>\n",
       "      <td>16.068522</td>\n",
       "      <td>5.037233</td>\n",
       "    </tr>\n",
       "    <tr>\n",
       "      <th>4</th>\n",
       "      <td>17.602648</td>\n",
       "      <td>4.767978</td>\n",
       "    </tr>\n",
       "    <tr>\n",
       "      <th>...</th>\n",
       "      <td>...</td>\n",
       "      <td>...</td>\n",
       "    </tr>\n",
       "    <tr>\n",
       "      <th>97</th>\n",
       "      <td>16.563418</td>\n",
       "      <td>4.542360</td>\n",
       "    </tr>\n",
       "    <tr>\n",
       "      <th>98</th>\n",
       "      <td>13.081649</td>\n",
       "      <td>4.631326</td>\n",
       "    </tr>\n",
       "    <tr>\n",
       "      <th>99</th>\n",
       "      <td>13.428798</td>\n",
       "      <td>4.856376</td>\n",
       "    </tr>\n",
       "    <tr>\n",
       "      <th>100</th>\n",
       "      <td>15.903199</td>\n",
       "      <td>5.132111</td>\n",
       "    </tr>\n",
       "    <tr>\n",
       "      <th>101</th>\n",
       "      <td>18.164729</td>\n",
       "      <td>4.868658</td>\n",
       "    </tr>\n",
       "  </tbody>\n",
       "</table>\n",
       "<p>102 rows × 2 columns</p>\n",
       "</div>"
      ],
      "text/plain": [
       "            ej        rj\n",
       "0    26.278687  4.848649\n",
       "1    14.981816  4.979319\n",
       "2    13.467274  5.151243\n",
       "3    16.068522  5.037233\n",
       "4    17.602648  4.767978\n",
       "..         ...       ...\n",
       "97   16.563418  4.542360\n",
       "98   13.081649  4.631326\n",
       "99   13.428798  4.856376\n",
       "100  15.903199  5.132111\n",
       "101  18.164729  4.868658\n",
       "\n",
       "[102 rows x 2 columns]"
      ]
     },
     "execution_count": 295,
     "metadata": {},
     "output_type": "execute_result"
    }
   ],
   "source": [
    "ej_list = []\n",
    "rj_list = []\n",
    "for p in nb_p_list :\n",
    "    ej_tmp = ej[p]\n",
    "    rj_tmp = rj[p]\n",
    "    ej_list.append(ej_tmp)\n",
    "    rj_list.append(rj_tmp)\n",
    "    \n",
    "df_corr = pd.DataFrame(ej_list, columns=['ej'])\n",
    "df_corr['rj'] = rj_list\n",
    "df_corr"
   ]
  },
  {
   "cell_type": "code",
   "execution_count": 296,
   "metadata": {},
   "outputs": [
    {
     "data": {
      "text/plain": [
       "array([[1.        , 0.13144711],\n",
       "       [0.13144711, 1.        ]])"
      ]
     },
     "execution_count": 296,
     "metadata": {},
     "output_type": "execute_result"
    }
   ],
   "source": [
    "r_corr = np.corrcoef(df_corr['ej'], df_corr['rj'])\n",
    "r_corr"
   ]
  },
  {
   "cell_type": "code",
   "execution_count": 297,
   "metadata": {},
   "outputs": [
    {
     "data": {
      "text/plain": [
       "<matplotlib.axes._subplots.AxesSubplot at 0x2b9449c9bc90>"
      ]
     },
     "execution_count": 297,
     "metadata": {},
     "output_type": "execute_result"
    },
    {
     "data": {
      "image/png": "[encoded data removed]",
      "text/plain": [
       "<Figure size 1080x864 with 1 Axes>"
      ]
     },
     "metadata": {
      "needs_background": "light"
     },
     "output_type": "display_data"
    }
   ],
   "source": [
    "df_corr.plot(kind='scatter', x='ej', y='rj', color = 'gray', alpha=1, linewidth=5, figsize=(15, 12))"
   ]
  },
  {
   "cell_type": "code",
   "execution_count": null,
   "metadata": {},
   "outputs": [],
   "source": []
  }
 ],
 "metadata": {
  "kernelspec": {
   "display_name": "Python 3",
   "language": "python",
   "name": "python3"
  },
  "language_info": {
   "codemirror_mode": {
    "name": "ipython",
    "version": 3
   },
   "file_extension": ".py",
   "mimetype": "text/x-python",
   "name": "python",
   "nbconvert_exporter": "python",
   "pygments_lexer": "ipython3",
   "version": "3.7.6"
  }
 },
 "nbformat": 4,
 "nbformat_minor": 2
}
