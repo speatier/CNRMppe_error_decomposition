{
 "cells": [
  {
   "cell_type": "markdown",
   "metadata": {},
   "source": [
    "# Import Module"
   ]
  },
  {
   "cell_type": "code",
   "execution_count": 1,
   "metadata": {},
   "outputs": [],
   "source": [
    "# Computational modules \n",
    "%matplotlib inline\n",
    "import xarray as xr\n",
    "import glob\n",
    "import os\n",
    "import numpy as np\n",
    "import netCDF4\n",
    "from netCDF4 import Dataset\n",
    "import pandas as pd\n",
    "import re\n",
    "from array import array\n",
    "from pylab import *\n",
    "#import geopandas\n",
    "from eofs.xarray import Eof\n",
    "from eofs.multivariate.standard import MultivariateEof\n",
    "\n",
    "# Plotting modules \n",
    "import matplotlib.pyplot as plt\n",
    "from mpl_toolkits.basemap import Basemap\n",
    "import pandas.plotting\n",
    "import matplotlib.ticker as ticker\n",
    "import seaborn as sns\n",
    "import cartopy.crs as ccrs\n",
    "import cartopy.feature as cfeature\n",
    "from matplotlib.colors import BoundaryNorm\n",
    "\n",
    "# Scikit-learn\n",
    "from sklearn import linear_model\n",
    "from sklearn.linear_model import LassoCV, LassoLarsCV, LassoLarsIC\n",
    "from sklearn.linear_model import Lasso\n",
    "from sklearn.metrics import r2_score\n",
    "from sklearn import preprocessing\n",
    "from sklearn import tree\n",
    "from sklearn.ensemble import RandomForestClassifier\n",
    "from sklearn.metrics import confusion_matrix\n",
    "from sklearn import metrics\n",
    "from sklearn.neural_network import MLPRegressor\n",
    "from scipy.optimize import minimize\n",
    "from scipy.optimize import dual_annealing\n",
    "from scipy import stats\n",
    "from sklearn.decomposition import PCA"
   ]
  },
  {
   "cell_type": "markdown",
   "metadata": {},
   "source": [
    "# Settings"
   ]
  },
  {
   "cell_type": "markdown",
   "metadata": {},
   "source": [
    "### Variables"
   ]
  },
  {
   "cell_type": "code",
   "execution_count": 2,
   "metadata": {},
   "outputs": [],
   "source": [
    "variables = ['rlut']\n",
    "variable = 'LW'\n",
    "TITLE = 'Long Wave fluxes'\n",
    "ylabel = '$E_{LW}$ ($W.m^{-2}.K^{-1}$)'"
   ]
  },
  {
   "cell_type": "markdown",
   "metadata": {},
   "source": [
    "### Paths"
   ]
  },
  {
   "cell_type": "code",
   "execution_count": 3,
   "metadata": {},
   "outputs": [],
   "source": [
    "path_official='/data/scratch/globc/peatier/CMIP6/CNRM-CM6-1/CFMIP/amip/'\n",
    "path_PPE='/data/scratch/globc/peatier/CNRM-CM6-1_PPE/'\n",
    "path_files='/data/home/globc/peatier/CNRMppe_error_decomposition/files/'"
   ]
  },
  {
   "cell_type": "markdown",
   "metadata": {},
   "source": [
    "### List of members"
   ]
  },
  {
   "cell_type": "code",
   "execution_count": 4,
   "metadata": {},
   "outputs": [
    {
     "data": {
      "text/plain": [
       "102"
      ]
     },
     "execution_count": 4,
     "metadata": {},
     "output_type": "execute_result"
    }
   ],
   "source": [
    "nb_p_list = ['p311', 'p312', 'p314', 'p316',\n",
    "                    'p317', 'p319', 'p320', 'p321', 'p322', 'p324', 'p325', 'p326', \n",
    "                    'p329', 'p330', 'p331', 'p332', 'p335', 'p336', 'p337' ,'p338', \n",
    "                    'p340', 'p341', 'p343', 'p344', 'p346', 'p347', 'p348', 'p349', \n",
    "                    'p350', 'p353', 'p355', 'p357', 'p359', 'p360', \n",
    "                    'p361', 'p363', 'p365', 'p367', 'p368', 'p369', \n",
    "                    'p372', 'p373', 'p374', 'p375', 'p376', 'p378', 'p381', 'p382', \n",
    "                    'p384', 'p386', 'p388', 'p389', 'p391', 'p392', 'p393', \n",
    "                    'p394', 'p395', 'p396', 'p398', 'p399', 'p400', 'p404', \n",
    "                    'p406', 'p407', 'p409', 'p410', 'p411', 'p412',\n",
    "                    'p414','p416',\n",
    "                    'p413','p419','p424','p426','p428','p421','p423',\n",
    "                    'p425','p427','p429','p430','p436','p438','p431','p433',\n",
    "                    'p442','p446','p443','p445','p447',\n",
    "                    'p452','p454','p456','p458','p457','p459',\n",
    "                    'p460','p465','p467','p469',\n",
    "                    'p470','p471']\n",
    "\n",
    "len(nb_p_list)"
   ]
  },
  {
   "cell_type": "markdown",
   "metadata": {},
   "source": [
    "# Functions"
   ]
  },
  {
   "cell_type": "code",
   "execution_count": 5,
   "metadata": {},
   "outputs": [],
   "source": [
    "def MSE(mod, obs, W_rmse_2D) :\n",
    "    diff_tmp = (mod - obs)**2 * W_rmse_2D\n",
    "    diff = (diff_tmp.sum(['lat', 'lon']))\n",
    "    return diff"
   ]
  },
  {
   "cell_type": "code",
   "execution_count": 6,
   "metadata": {},
   "outputs": [],
   "source": [
    "def reconstruct_X(eofs_combined, pc, nb_dims) :\n",
    "    X_rec_tmp = np.dot(eofs_combined.transpose(),pc)\n",
    "    if nb_dims == 3 :\n",
    "        X_rec = xr.DataArray(X_rec_tmp, \n",
    "                        dims=[\"lon\", \"lat\", \"time\"]).transpose('time', 'lat', 'lon')\n",
    "    if nb_dims == 2 :\n",
    "        X_rec = xr.DataArray(X_rec_tmp, \n",
    "                        dims=[\"lon\", \"lat\"]).transpose('lat', 'lon')\n",
    "    \n",
    "    X_rec['lat'] = eofs_combined['lat']\n",
    "    X_rec['lon'] = eofs_combined['lon']\n",
    "    return X_rec"
   ]
  },
  {
   "cell_type": "code",
   "execution_count": 7,
   "metadata": {},
   "outputs": [],
   "source": [
    "def MSE_rec(rec_anom_mod_w, rec_anom_obs_w, Mean, W_rmse_2D) :\n",
    "    mod = rec_anom_mod_w/W_eof_2D + Mean\n",
    "    obs = rec_anom_obs_w/W_eof_2D + Mean\n",
    "    diff = MSE(mod, obs, W_rmse_2D)\n",
    "    return diff"
   ]
  },
  {
   "cell_type": "code",
   "execution_count": 8,
   "metadata": {},
   "outputs": [],
   "source": [
    "def get_3D_LW_xarr(path, filename, variables):\n",
    "\n",
    "    # First step : download the data into dataframe\n",
    "    file = xr.open_mfdataset(path+filename,combine='by_coords')\n",
    "    \n",
    "    # Second step : compute the annual average \n",
    "    df = file[variables].mean('time', keep_attrs=True)\n",
    "    LW = df['rlut']\n",
    "    \n",
    "    return LW"
   ]
  },
  {
   "cell_type": "code",
   "execution_count": 9,
   "metadata": {},
   "outputs": [],
   "source": [
    "def load_monthly_clim(path, filename, variables) :\n",
    "    \n",
    "    file = xr.open_mfdataset(path+filename,combine='by_coords')\n",
    "    df=file[variables].to_dataframe()\n",
    "    \n",
    "    # Compute Climatological Annual Cycle :\n",
    "    df1=df.reset_index(level=['time', 'lat', 'lon'])\n",
    "    df1['year']=pd.DatetimeIndex(df1['time']).year\n",
    "    df1['month']=pd.DatetimeIndex(df1['time']).month\n",
    "    \n",
    "    #list_ind = []\n",
    "    #cpt=0\n",
    "    #for i in df1['year'] : \n",
    "    #    if i>1981 :\n",
    "    #        list_ind.append(cpt)\n",
    "    #        cpt+=1\n",
    "    #    else : \n",
    "    #        cpt+=1\n",
    "            \n",
    "    #df2 = df1.drop(list_ind)\n",
    "    df_mean=df1.groupby(['month', 'lat', 'lon']).mean()\n",
    "    df_mean=df_mean.drop(columns='year')\n",
    "    \n",
    "    return df_mean"
   ]
  },
  {
   "cell_type": "markdown",
   "metadata": {},
   "source": [
    "# Get data : obs, PPE, p1"
   ]
  },
  {
   "cell_type": "code",
   "execution_count": 10,
   "metadata": {},
   "outputs": [],
   "source": [
    "path_observation = '/data/scratch/globc/peatier/obs_data/CERES/'\n",
    "filename = 'CERES_EBAF-TOA_Ed4.1_Subset_200003-201910_regrid.nc'"
   ]
  },
  {
   "cell_type": "code",
   "execution_count": 11,
   "metadata": {},
   "outputs": [
    {
     "data": {
      "text/html": [
       "<div>\n",
       "<style scoped>\n",
       "    .dataframe tbody tr th:only-of-type {\n",
       "        vertical-align: middle;\n",
       "    }\n",
       "\n",
       "    .dataframe tbody tr th {\n",
       "        vertical-align: top;\n",
       "    }\n",
       "\n",
       "    .dataframe thead th {\n",
       "        text-align: right;\n",
       "    }\n",
       "</style>\n",
       "<table border=\"1\" class=\"dataframe\">\n",
       "  <thead>\n",
       "    <tr style=\"text-align: right;\">\n",
       "      <th></th>\n",
       "      <th></th>\n",
       "      <th></th>\n",
       "      <th>toa_sw_all_mon</th>\n",
       "      <th>toa_lw_all_mon</th>\n",
       "      <th>toa_net_all_mon</th>\n",
       "    </tr>\n",
       "    <tr>\n",
       "      <th>month</th>\n",
       "      <th>lat</th>\n",
       "      <th>lon</th>\n",
       "      <th></th>\n",
       "      <th></th>\n",
       "      <th></th>\n",
       "    </tr>\n",
       "  </thead>\n",
       "  <tbody>\n",
       "    <tr>\n",
       "      <th rowspan=\"5\" valign=\"top\">1</th>\n",
       "      <th rowspan=\"5\" valign=\"top\">-88.927735</th>\n",
       "      <th>0.00000</th>\n",
       "      <td>344.953522</td>\n",
       "      <td>189.246185</td>\n",
       "      <td>-38.599289</td>\n",
       "    </tr>\n",
       "    <tr>\n",
       "      <th>1.40625</th>\n",
       "      <td>344.953522</td>\n",
       "      <td>189.246185</td>\n",
       "      <td>-38.599289</td>\n",
       "    </tr>\n",
       "    <tr>\n",
       "      <th>2.81250</th>\n",
       "      <td>344.953522</td>\n",
       "      <td>189.246185</td>\n",
       "      <td>-38.599289</td>\n",
       "    </tr>\n",
       "    <tr>\n",
       "      <th>4.21875</th>\n",
       "      <td>344.992493</td>\n",
       "      <td>189.144440</td>\n",
       "      <td>-38.531315</td>\n",
       "    </tr>\n",
       "    <tr>\n",
       "      <th>5.62500</th>\n",
       "      <td>345.007721</td>\n",
       "      <td>189.104630</td>\n",
       "      <td>-38.504715</td>\n",
       "    </tr>\n",
       "    <tr>\n",
       "      <th>...</th>\n",
       "      <th>...</th>\n",
       "      <th>...</th>\n",
       "      <td>...</td>\n",
       "      <td>...</td>\n",
       "      <td>...</td>\n",
       "    </tr>\n",
       "    <tr>\n",
       "      <th rowspan=\"5\" valign=\"top\">12</th>\n",
       "      <th rowspan=\"5\" valign=\"top\">88.927735</th>\n",
       "      <th>352.96875</th>\n",
       "      <td>0.000000</td>\n",
       "      <td>171.476639</td>\n",
       "      <td>-171.476639</td>\n",
       "    </tr>\n",
       "    <tr>\n",
       "      <th>354.37500</th>\n",
       "      <td>0.000000</td>\n",
       "      <td>171.476639</td>\n",
       "      <td>-171.476639</td>\n",
       "    </tr>\n",
       "    <tr>\n",
       "      <th>355.78125</th>\n",
       "      <td>0.000000</td>\n",
       "      <td>171.500351</td>\n",
       "      <td>-171.500351</td>\n",
       "    </tr>\n",
       "    <tr>\n",
       "      <th>357.18750</th>\n",
       "      <td>0.000000</td>\n",
       "      <td>171.560974</td>\n",
       "      <td>-171.560974</td>\n",
       "    </tr>\n",
       "    <tr>\n",
       "      <th>358.59375</th>\n",
       "      <td>0.000000</td>\n",
       "      <td>171.560974</td>\n",
       "      <td>-171.560974</td>\n",
       "    </tr>\n",
       "  </tbody>\n",
       "</table>\n",
       "<p>393216 rows × 3 columns</p>\n",
       "</div>"
      ],
      "text/plain": [
       "                            toa_sw_all_mon  toa_lw_all_mon  toa_net_all_mon\n",
       "month lat        lon                                                       \n",
       "1     -88.927735 0.00000        344.953522      189.246185       -38.599289\n",
       "                 1.40625        344.953522      189.246185       -38.599289\n",
       "                 2.81250        344.953522      189.246185       -38.599289\n",
       "                 4.21875        344.992493      189.144440       -38.531315\n",
       "                 5.62500        345.007721      189.104630       -38.504715\n",
       "...                                    ...             ...              ...\n",
       "12     88.927735 352.96875        0.000000      171.476639      -171.476639\n",
       "                 354.37500        0.000000      171.476639      -171.476639\n",
       "                 355.78125        0.000000      171.500351      -171.500351\n",
       "                 357.18750        0.000000      171.560974      -171.560974\n",
       "                 358.59375        0.000000      171.560974      -171.560974\n",
       "\n",
       "[393216 rows x 3 columns]"
      ]
     },
     "execution_count": 11,
     "metadata": {},
     "output_type": "execute_result"
    }
   ],
   "source": [
    "# Load data and compute Annual Cycle :\n",
    "file = xr.open_mfdataset(path_observation+filename,combine='by_coords')\n",
    "#file\n",
    "variables = ['toa_sw_all_mon','toa_lw_all_mon', 'toa_net_all_mon']\n",
    "df_obs = load_monthly_clim(path_observation, filename, variables)\n",
    "df_obs"
   ]
  },
  {
   "cell_type": "code",
   "execution_count": 12,
   "metadata": {},
   "outputs": [
    {
     "data": {
      "text/html": [
       "<pre>&lt;xarray.Dataset&gt;\n",
       "Dimensions:          (lat: 128, lon: 256)\n",
       "Coordinates:\n",
       "  * lat              (lat) float64 -88.93 -87.54 -86.14 ... 86.14 87.54 88.93\n",
       "  * lon              (lon) float64 0.0 1.406 2.812 4.219 ... 355.8 357.2 358.6\n",
       "Data variables:\n",
       "    toa_sw_all_mon   (lat, lon) float32 121.35958 121.35958 ... 103.85324\n",
       "    toa_lw_all_mon   (lat, lon) float32 142.8201 142.8201 ... 194.14125\n",
       "    toa_net_all_mon  (lat, lon) float32 -91.40278 -91.40278 ... -126.49493\n",
       "    LW               (lat, lon) float32 142.8201 142.8201 ... 194.14125</pre>"
      ],
      "text/plain": [
       "<xarray.Dataset>\n",
       "Dimensions:          (lat: 128, lon: 256)\n",
       "Coordinates:\n",
       "  * lat              (lat) float64 -88.93 -87.54 -86.14 ... 86.14 87.54 88.93\n",
       "  * lon              (lon) float64 0.0 1.406 2.812 4.219 ... 355.8 357.2 358.6\n",
       "Data variables:\n",
       "    toa_sw_all_mon   (lat, lon) float32 121.35958 121.35958 ... 103.85324\n",
       "    toa_lw_all_mon   (lat, lon) float32 142.8201 142.8201 ... 194.14125\n",
       "    toa_net_all_mon  (lat, lon) float32 -91.40278 -91.40278 ... -126.49493\n",
       "    LW               (lat, lon) float32 142.8201 142.8201 ... 194.14125"
      ]
     },
     "execution_count": 12,
     "metadata": {},
     "output_type": "execute_result"
    }
   ],
   "source": [
    "df_obs[variable] =  df_obs['toa_lw_all_mon']\n",
    "X_obs = df_obs.groupby(['lat','lon']).mean().to_xarray()\n",
    "X_obs"
   ]
  },
  {
   "cell_type": "code",
   "execution_count": 13,
   "metadata": {},
   "outputs": [],
   "source": [
    "variables = ['rlut']"
   ]
  },
  {
   "cell_type": "code",
   "execution_count": 14,
   "metadata": {},
   "outputs": [],
   "source": [
    "# Default simulation\n",
    "path = path_PPE+'ENSEMBLE1/CNRM-CM6-1_amip_PPE/CNRM-CM6-1_amip_r1i1p1f2/'\n",
    "filename = '*_CNRM-CM6-1_amip_*.nc'\n",
    "p1_amip = get_3D_LW_xarr(path, filename, variables)"
   ]
  },
  {
   "cell_type": "code",
   "execution_count": 15,
   "metadata": {},
   "outputs": [],
   "source": [
    "# PPE amip simulations \n",
    "filename='*_amip_*.nc'\n",
    "\n",
    "N=len(nb_p_list)\n",
    "amip={}\n",
    "i = 0\n",
    "while i<N:\n",
    "    nb_p = nb_p_list[i]\n",
    "    #print(nb_p)\n",
    "    path=path_PPE+'ENSEMBLE2/CNRM-CM6-1_amip_LHS500_PPE/CNRM-CM6-1_amip_r1i1'+str(nb_p)+'f2/'\n",
    "    amip[str(nb_p)] = get_3D_LW_xarr(path, filename, variables)\n",
    "    i=i+1"
   ]
  },
  {
   "cell_type": "code",
   "execution_count": 16,
   "metadata": {},
   "outputs": [],
   "source": [
    "amip['p1'] = p1_amip"
   ]
  },
  {
   "cell_type": "markdown",
   "metadata": {},
   "source": [
    "# Calcule full MSE (ej)"
   ]
  },
  {
   "cell_type": "code",
   "execution_count": 17,
   "metadata": {},
   "outputs": [],
   "source": [
    "n=len(nb_p_list)\n",
    "amip_list=[0]*(n+1)\n",
    "\n",
    "amip_list[0] = amip['p1']\n",
    "\n",
    "i = 0\n",
    "while i<n:\n",
    "    nb_p = nb_p_list[i]\n",
    "    #print(nb_p)\n",
    "    tmp = amip[str(nb_p)]\n",
    "    amip_list[i+1] = tmp\n",
    "    i+=1"
   ]
  },
  {
   "cell_type": "code",
   "execution_count": 18,
   "metadata": {},
   "outputs": [],
   "source": [
    "matrix = xr.combine_nested(amip_list, concat_dim=['time'])"
   ]
  },
  {
   "cell_type": "code",
   "execution_count": 19,
   "metadata": {},
   "outputs": [],
   "source": [
    "## --Get weights : \n",
    "lats = matrix['lat'].values\n",
    "\n",
    "wgts = np.cos(np.deg2rad(lats))\n",
    "W_eof_2D = sqrt(wgts)[:,np.newaxis] ## --Wqts before EOF analysis - 2D (lat x lon)\n",
    "W_eof_3D = sqrt(wgts)[np.newaxis,:,np.newaxis] ## --Wqts before EOF analysis - 3D (time x lat x lon)\n",
    "\n",
    "S = wgts.sum()*256 ## --Sum of wgts over the whole grid\n",
    "wgts_sum = wgts/S\n",
    "W_rmse_2D = wgts_sum[:,np.newaxis] ## -- Wgts before RMSE, divided by sum of wgts - 2D (lat x lon)"
   ]
  },
  {
   "cell_type": "code",
   "execution_count": 20,
   "metadata": {},
   "outputs": [],
   "source": [
    "variable_obs='LW'\n",
    "# Reference p1\n",
    "mod = amip['p1']\n",
    "obs = X_obs[variable_obs]\n",
    "diff_p1 = MSE(mod, obs, W_rmse_2D)"
   ]
  },
  {
   "cell_type": "code",
   "execution_count": 21,
   "metadata": {},
   "outputs": [],
   "source": [
    "ej_list = []\n",
    "#ej['p1'] = diff_p1\n",
    "\n",
    "for p in nb_p_list :\n",
    "    mod = amip[p]\n",
    "    obs = X_obs[variable_obs]\n",
    "    diff = MSE(mod, obs, W_rmse_2D)\n",
    "    ej_list.append(diff)\n"
   ]
  },
  {
   "cell_type": "markdown",
   "metadata": {},
   "source": [
    "### Save"
   ]
  },
  {
   "cell_type": "code",
   "execution_count": 22,
   "metadata": {},
   "outputs": [],
   "source": [
    "np.save(path_files+'npy/CNRMppe_decomposition_ej_'+str(variable)+'.npy', ej_list)"
   ]
  },
  {
   "cell_type": "markdown",
   "metadata": {},
   "source": [
    "# EOF + truncated RMSE (rj)"
   ]
  },
  {
   "cell_type": "markdown",
   "metadata": {},
   "source": [
    "## EOF"
   ]
  },
  {
   "cell_type": "code",
   "execution_count": 23,
   "metadata": {},
   "outputs": [
    {
     "data": {
      "text/html": [
       "<pre>&lt;xarray.DataArray &#x27;rlut&#x27; (time: 103, lat: 128, lon: 256)&gt;\n",
       "dask.array&lt;sub, shape=(103, 128, 256), dtype=float32, chunksize=(1, 128, 256), chunktype=numpy.ndarray&gt;\n",
       "Coordinates:\n",
       "    height   float64 2.0\n",
       "  * lat      (lat) float64 -88.93 -87.54 -86.14 -84.74 ... 86.14 87.54 88.93\n",
       "  * lon      (lon) float64 0.0 1.406 2.812 4.219 ... 354.4 355.8 357.2 358.6\n",
       "Dimensions without coordinates: time</pre>"
      ],
      "text/plain": [
       "<xarray.DataArray 'rlut' (time: 103, lat: 128, lon: 256)>\n",
       "dask.array<sub, shape=(103, 128, 256), dtype=float32, chunksize=(1, 128, 256), chunktype=numpy.ndarray>\n",
       "Coordinates:\n",
       "    height   float64 2.0\n",
       "  * lat      (lat) float64 -88.93 -87.54 -86.14 -84.74 ... 86.14 87.54 88.93\n",
       "  * lon      (lon) float64 0.0 1.406 2.812 4.219 ... 354.4 355.8 357.2 358.6\n",
       "Dimensions without coordinates: time"
      ]
     },
     "execution_count": 23,
     "metadata": {},
     "output_type": "execute_result"
    }
   ],
   "source": [
    "# Compute anomalies by removing the time-mean.\n",
    "mean = matrix.mean(axis=0)\n",
    "anom = matrix - mean\n",
    "anom"
   ]
  },
  {
   "cell_type": "code",
   "execution_count": 24,
   "metadata": {},
   "outputs": [
    {
     "data": {
      "text/html": [
       "<pre>&lt;xarray.DataArray &#x27;rlut&#x27; (time: 103, lat: 128, lon: 256)&gt;\n",
       "dask.array&lt;mul, shape=(103, 128, 256), dtype=float64, chunksize=(1, 128, 256), chunktype=numpy.ndarray&gt;\n",
       "Coordinates:\n",
       "    height   float64 2.0\n",
       "  * lat      (lat) float64 -88.93 -87.54 -86.14 -84.74 ... 86.14 87.54 88.93\n",
       "  * lon      (lon) float64 0.0 1.406 2.812 4.219 ... 354.4 355.8 357.2 358.6\n",
       "Dimensions without coordinates: time</pre>"
      ],
      "text/plain": [
       "<xarray.DataArray 'rlut' (time: 103, lat: 128, lon: 256)>\n",
       "dask.array<mul, shape=(103, 128, 256), dtype=float64, chunksize=(1, 128, 256), chunktype=numpy.ndarray>\n",
       "Coordinates:\n",
       "    height   float64 2.0\n",
       "  * lat      (lat) float64 -88.93 -87.54 -86.14 -84.74 ... 86.14 87.54 88.93\n",
       "  * lon      (lon) float64 0.0 1.406 2.812 4.219 ... 354.4 355.8 357.2 358.6\n",
       "Dimensions without coordinates: time"
      ]
     },
     "execution_count": 24,
     "metadata": {},
     "output_type": "execute_result"
    }
   ],
   "source": [
    "anom_w = (anom*W_eof_3D)#.to_array()\n",
    "anom_w"
   ]
  },
  {
   "cell_type": "code",
   "execution_count": 25,
   "metadata": {},
   "outputs": [],
   "source": [
    "# Create an EOF solver to do the EOF analysis. \n",
    "solver = Eof(anom_w, center=False, weights=None)"
   ]
  },
  {
   "cell_type": "code",
   "execution_count": 26,
   "metadata": {},
   "outputs": [],
   "source": [
    "eof = solver.eofsAsCovariance(neofs=102, pcscaling=1)\n",
    "pc = solver.pcs(npcs=102, pcscaling=1)"
   ]
  },
  {
   "cell_type": "code",
   "execution_count": 27,
   "metadata": {},
   "outputs": [],
   "source": [
    "varFrac = solver.varianceFraction(neigs=102)\n",
    "#varFrac"
   ]
  },
  {
   "cell_type": "markdown",
   "metadata": {},
   "source": [
    "### Save"
   ]
  },
  {
   "cell_type": "code",
   "execution_count": 28,
   "metadata": {},
   "outputs": [],
   "source": [
    "for i in range(0,len(eof),1) : \n",
    "    j = i+1\n",
    "    # EOFmap\n",
    "    EOF_df = eof[i].to_dataframe().drop(labels = 'mode', axis=1)\n",
    "    EOF_df.to_pickle(path_files+\"npy/CNRMppe_decomposition_EOFmap\"+str(j)+\"_\"+str(variable)+\".npy\")"
   ]
  },
  {
   "cell_type": "code",
   "execution_count": 29,
   "metadata": {},
   "outputs": [],
   "source": [
    "## --Save the pc_p1 and pc_PPE in a .nc files\n",
    "path_file = path_files+'nc/'\n",
    "filename = 'CNRMppe_decomposition_p1_EOFpc_'+str(variable)+'.nc'\n",
    "pc[0, :].to_netcdf(path=path_file+filename)\n",
    "filename = 'CNRMppe_decomposition_EOFpc_'+str(variable)+'.nc'\n",
    "pc[1:, :].to_netcdf(path=path_file+filename)"
   ]
  },
  {
   "cell_type": "code",
   "execution_count": 30,
   "metadata": {},
   "outputs": [],
   "source": [
    "mean_df = mean.to_dataframe(name=str(variable)+'mean').drop(labels = 'height', axis=1)\n",
    "mean_df.to_pickle(path_files+'npy/CNRMppe_decomposition_mean_'+str(variable)+'.npy')"
   ]
  },
  {
   "cell_type": "markdown",
   "metadata": {},
   "source": [
    "## Get the observations"
   ]
  },
  {
   "cell_type": "code",
   "execution_count": 31,
   "metadata": {},
   "outputs": [
    {
     "data": {
      "text/html": [
       "<pre>&lt;xarray.DataArray (lat: 128, lon: 256)&gt;\n",
       "array([[1.3436279 , 1.3436279 , 1.3436279 , ..., 1.5608673 , 1.3436279 ,\n",
       "        1.3436279 ],\n",
       "       [0.6392975 , 0.6392975 , 0.6392975 , ..., 1.3332672 , 0.6392975 ,\n",
       "        0.6392975 ],\n",
       "       [0.79974365, 0.79974365, 0.79974365, ..., 1.3285065 , 0.79974365,\n",
       "        0.79974365],\n",
       "       ...,\n",
       "       [5.537903  , 5.537903  , 5.537903  , ..., 5.31102   , 5.537903  ,\n",
       "        5.537903  ],\n",
       "       [4.882019  , 4.882019  , 4.882019  , ..., 4.798538  , 4.882019  ,\n",
       "        4.882019  ],\n",
       "       [6.381012  , 6.381012  , 6.381012  , ..., 6.3507233 , 6.381012  ,\n",
       "        6.381012  ]], dtype=float32)\n",
       "Coordinates:\n",
       "  * lat      (lat) float64 -88.93 -87.54 -86.14 -84.74 ... 86.14 87.54 88.93\n",
       "  * lon      (lon) float64 0.0 1.406 2.812 4.219 ... 354.4 355.8 357.2 358.6\n",
       "    mode     &lt;U6 &#x27;LWmean&#x27;</pre>"
      ],
      "text/plain": [
       "<xarray.DataArray (lat: 128, lon: 256)>\n",
       "array([[1.3436279 , 1.3436279 , 1.3436279 , ..., 1.5608673 , 1.3436279 ,\n",
       "        1.3436279 ],\n",
       "       [0.6392975 , 0.6392975 , 0.6392975 , ..., 1.3332672 , 0.6392975 ,\n",
       "        0.6392975 ],\n",
       "       [0.79974365, 0.79974365, 0.79974365, ..., 1.3285065 , 0.79974365,\n",
       "        0.79974365],\n",
       "       ...,\n",
       "       [5.537903  , 5.537903  , 5.537903  , ..., 5.31102   , 5.537903  ,\n",
       "        5.537903  ],\n",
       "       [4.882019  , 4.882019  , 4.882019  , ..., 4.798538  , 4.882019  ,\n",
       "        4.882019  ],\n",
       "       [6.381012  , 6.381012  , 6.381012  , ..., 6.3507233 , 6.381012  ,\n",
       "        6.381012  ]], dtype=float32)\n",
       "Coordinates:\n",
       "  * lat      (lat) float64 -88.93 -87.54 -86.14 -84.74 ... 86.14 87.54 88.93\n",
       "  * lon      (lon) float64 0.0 1.406 2.812 4.219 ... 354.4 355.8 357.2 358.6\n",
       "    mode     <U6 'LWmean'"
      ]
     },
     "execution_count": 31,
     "metadata": {},
     "output_type": "execute_result"
    }
   ],
   "source": [
    "Mean =  pd.read_pickle(path_files+'npy/CNRMppe_decomposition_mean_'+str(variable)+'.npy').to_xarray().to_array()\n",
    "Mean = Mean[0,:,:].rename({'variable':'mode'})\n",
    "X_obs_anom = X_obs[variable_obs] - Mean\n",
    "X_obs_anom"
   ]
  },
  {
   "cell_type": "markdown",
   "metadata": {},
   "source": [
    "## Parametric component of the error for different q"
   ]
  },
  {
   "cell_type": "code",
   "execution_count": 32,
   "metadata": {},
   "outputs": [],
   "source": [
    "def Error_PPE_param_component(path_files, variable, Mean, W_eof_2D, W_rmse_2D, q) :\n",
    "    ## --Get the eofs\n",
    "    eofs=[]\n",
    "    for j in range(1,q+1,1) :\n",
    "        eof_tmp = pd.read_pickle(path_files+\"npy/CNRMppe_decomposition_EOFmap\"+str(j)+\"_\"+str(variable)+\".npy\").to_xarray().to_array()\n",
    "        eof_tmp = eof_tmp[0,:,:].rename({'variable':'mode'})\n",
    "        eofs.append(eof_tmp)      \n",
    "    ## --Combine the modes for reconstruction\n",
    "    eofs_combined = xr.combine_nested(eofs, concat_dim='eofs')\n",
    "    \n",
    "    ## --Get the pc_PPE\n",
    "    path_file = path_files+'nc/'\n",
    "    filename = 'CNRMppe_decomposition_EOFpc_'+str(variable)+'.nc'\n",
    "    pc_PPE = xr.open_dataset(path_file+filename)\n",
    "    pc_PPE_trunc = pc_PPE['pcs'][:,0:q]\n",
    "\n",
    "    ## -- Project the observations :\n",
    "    X_obs_W = X_obs_anom*W_eof_2D\n",
    "    U_obs = solver.projectField(X_obs_W, neofs=q, weighted=False, eofscaling=1)\n",
    "\n",
    "    ## -- reconstruct X_obs_rec : \n",
    "    pc=U_obs\n",
    "    nb_dims = 2\n",
    "    X_obs_rec = reconstruct_X(eofs_combined, pc, nb_dims)\n",
    "    ## -- reconstruct X_mod_rec : \n",
    "    pc=pc_PPE_trunc\n",
    "    nb_dims = 3\n",
    "    X_mod_rec = reconstruct_X(eofs_combined, pc.transpose(), nb_dims)\n",
    "\n",
    "    pj_list = MSE_rec(X_mod_rec, X_obs_rec, Mean, W_rmse_2D)\n",
    "\n",
    "    return pj_list"
   ]
  },
  {
   "cell_type": "code",
   "execution_count": 33,
   "metadata": {},
   "outputs": [],
   "source": [
    "df_fig = pd.DataFrame(ej_list, columns=['ej'])\n",
    "\n",
    "## -- 5 modes :\n",
    "q = 5\n",
    "pj_list = Error_PPE_param_component(path_files, variable, Mean, W_eof_2D, W_rmse_2D, q)\n",
    "df_fig['pj ' +str(q)+' modes'] = pj_list\n",
    "df_fig['uj ' +str(q)+' modes'] = abs(df_fig['ej'] - df_fig['pj ' +str(q)+' modes'])\n",
    "\n",
    "## -- 20 modes :\n",
    "q = 20\n",
    "pj_list = Error_PPE_param_component(path_files, variable, Mean, W_eof_2D, W_rmse_2D, q)\n",
    "df_fig['pj ' +str(q)+' modes'] = pj_list\n",
    "df_fig['uj ' +str(q)+' modes'] = abs(df_fig['ej'] - df_fig['pj ' +str(q)+' modes'])\n",
    "\n",
    "## -- 50 modes :\n",
    "q = 50\n",
    "pj_list = Error_PPE_param_component(path_files, variable, Mean, W_eof_2D, W_rmse_2D, q)\n",
    "df_fig['pj ' +str(q)+' modes'] = pj_list\n",
    "df_fig['uj ' +str(q)+' modes'] = abs(df_fig['ej'] - df_fig['pj ' +str(q)+' modes'])\n",
    "\n",
    "## -- 102 modes :\n",
    "q = 102\n",
    "pj_list = Error_PPE_param_component(path_files, variable, Mean, W_eof_2D, W_rmse_2D, q)\n",
    "df_fig['pj ' +str(q)+' modes'] = pj_list\n",
    "df_fig['uj ' +str(q)+' modes'] = abs(df_fig['ej'] - df_fig['pj ' +str(q)+' modes'])\n",
    "\n",
    "#df_fig"
   ]
  },
  {
   "cell_type": "code",
   "execution_count": 34,
   "metadata": {},
   "outputs": [
    {
     "data": {
      "text/html": [
       "<div>\n",
       "<style scoped>\n",
       "    .dataframe tbody tr th:only-of-type {\n",
       "        vertical-align: middle;\n",
       "    }\n",
       "\n",
       "    .dataframe tbody tr th {\n",
       "        vertical-align: top;\n",
       "    }\n",
       "\n",
       "    .dataframe thead th {\n",
       "        text-align: right;\n",
       "    }\n",
       "</style>\n",
       "<table border=\"1\" class=\"dataframe\">\n",
       "  <thead>\n",
       "    <tr style=\"text-align: right;\">\n",
       "      <th></th>\n",
       "      <th>ej</th>\n",
       "      <th>pj 5 modes</th>\n",
       "      <th>uj 5 modes</th>\n",
       "      <th>pj 20 modes</th>\n",
       "      <th>uj 20 modes</th>\n",
       "      <th>pj 50 modes</th>\n",
       "      <th>uj 50 modes</th>\n",
       "      <th>pj 102 modes</th>\n",
       "      <th>uj 102 modes</th>\n",
       "      <th>members</th>\n",
       "    </tr>\n",
       "  </thead>\n",
       "  <tbody>\n",
       "    <tr>\n",
       "      <th>101</th>\n",
       "      <td>54.438661</td>\n",
       "      <td>10.281768</td>\n",
       "      <td>44.156893</td>\n",
       "      <td>32.021445</td>\n",
       "      <td>22.417216</td>\n",
       "      <td>40.385939</td>\n",
       "      <td>14.052722</td>\n",
       "      <td>42.530088</td>\n",
       "      <td>11.908572</td>\n",
       "      <td>1</td>\n",
       "    </tr>\n",
       "    <tr>\n",
       "      <th>60</th>\n",
       "      <td>57.344718</td>\n",
       "      <td>16.748221</td>\n",
       "      <td>40.596497</td>\n",
       "      <td>32.914282</td>\n",
       "      <td>24.430436</td>\n",
       "      <td>43.240310</td>\n",
       "      <td>14.104408</td>\n",
       "      <td>45.436146</td>\n",
       "      <td>11.908572</td>\n",
       "      <td>2</td>\n",
       "    </tr>\n",
       "    <tr>\n",
       "      <th>74</th>\n",
       "      <td>57.822180</td>\n",
       "      <td>23.581256</td>\n",
       "      <td>34.240925</td>\n",
       "      <td>36.269372</td>\n",
       "      <td>21.552808</td>\n",
       "      <td>43.167676</td>\n",
       "      <td>14.654504</td>\n",
       "      <td>45.913608</td>\n",
       "      <td>11.908572</td>\n",
       "      <td>3</td>\n",
       "    </tr>\n",
       "    <tr>\n",
       "      <th>34</th>\n",
       "      <td>58.692920</td>\n",
       "      <td>16.680190</td>\n",
       "      <td>42.012729</td>\n",
       "      <td>35.965981</td>\n",
       "      <td>22.726939</td>\n",
       "      <td>44.117047</td>\n",
       "      <td>14.575873</td>\n",
       "      <td>46.784347</td>\n",
       "      <td>11.908572</td>\n",
       "      <td>4</td>\n",
       "    </tr>\n",
       "    <tr>\n",
       "      <th>51</th>\n",
       "      <td>60.913580</td>\n",
       "      <td>10.141571</td>\n",
       "      <td>50.772009</td>\n",
       "      <td>36.955905</td>\n",
       "      <td>23.957675</td>\n",
       "      <td>45.985786</td>\n",
       "      <td>14.927794</td>\n",
       "      <td>49.005008</td>\n",
       "      <td>11.908572</td>\n",
       "      <td>5</td>\n",
       "    </tr>\n",
       "    <tr>\n",
       "      <th>...</th>\n",
       "      <td>...</td>\n",
       "      <td>...</td>\n",
       "      <td>...</td>\n",
       "      <td>...</td>\n",
       "      <td>...</td>\n",
       "      <td>...</td>\n",
       "      <td>...</td>\n",
       "      <td>...</td>\n",
       "      <td>...</td>\n",
       "      <td>...</td>\n",
       "    </tr>\n",
       "    <tr>\n",
       "      <th>39</th>\n",
       "      <td>255.627986</td>\n",
       "      <td>217.581609</td>\n",
       "      <td>38.046377</td>\n",
       "      <td>231.649435</td>\n",
       "      <td>23.978551</td>\n",
       "      <td>241.642690</td>\n",
       "      <td>13.985297</td>\n",
       "      <td>243.719414</td>\n",
       "      <td>11.908572</td>\n",
       "      <td>98</td>\n",
       "    </tr>\n",
       "    <tr>\n",
       "      <th>57</th>\n",
       "      <td>263.131234</td>\n",
       "      <td>216.744846</td>\n",
       "      <td>46.386388</td>\n",
       "      <td>240.788342</td>\n",
       "      <td>22.342893</td>\n",
       "      <td>249.124303</td>\n",
       "      <td>14.006931</td>\n",
       "      <td>251.222662</td>\n",
       "      <td>11.908572</td>\n",
       "      <td>99</td>\n",
       "    </tr>\n",
       "    <tr>\n",
       "      <th>43</th>\n",
       "      <td>280.376656</td>\n",
       "      <td>234.952717</td>\n",
       "      <td>45.423940</td>\n",
       "      <td>255.536460</td>\n",
       "      <td>24.840196</td>\n",
       "      <td>266.296991</td>\n",
       "      <td>14.079665</td>\n",
       "      <td>268.468084</td>\n",
       "      <td>11.908572</td>\n",
       "      <td>100</td>\n",
       "    </tr>\n",
       "    <tr>\n",
       "      <th>47</th>\n",
       "      <td>306.206712</td>\n",
       "      <td>256.890470</td>\n",
       "      <td>49.316242</td>\n",
       "      <td>285.361398</td>\n",
       "      <td>20.845314</td>\n",
       "      <td>292.135875</td>\n",
       "      <td>14.070837</td>\n",
       "      <td>294.298139</td>\n",
       "      <td>11.908572</td>\n",
       "      <td>101</td>\n",
       "    </tr>\n",
       "    <tr>\n",
       "      <th>55</th>\n",
       "      <td>478.329369</td>\n",
       "      <td>440.003993</td>\n",
       "      <td>38.325376</td>\n",
       "      <td>456.957492</td>\n",
       "      <td>21.371877</td>\n",
       "      <td>464.551759</td>\n",
       "      <td>13.777610</td>\n",
       "      <td>466.420797</td>\n",
       "      <td>11.908572</td>\n",
       "      <td>102</td>\n",
       "    </tr>\n",
       "  </tbody>\n",
       "</table>\n",
       "<p>102 rows × 10 columns</p>\n",
       "</div>"
      ],
      "text/plain": [
       "             ej  pj 5 modes  uj 5 modes  pj 20 modes  uj 20 modes  \\\n",
       "101   54.438661   10.281768   44.156893    32.021445    22.417216   \n",
       "60    57.344718   16.748221   40.596497    32.914282    24.430436   \n",
       "74    57.822180   23.581256   34.240925    36.269372    21.552808   \n",
       "34    58.692920   16.680190   42.012729    35.965981    22.726939   \n",
       "51    60.913580   10.141571   50.772009    36.955905    23.957675   \n",
       "..          ...         ...         ...          ...          ...   \n",
       "39   255.627986  217.581609   38.046377   231.649435    23.978551   \n",
       "57   263.131234  216.744846   46.386388   240.788342    22.342893   \n",
       "43   280.376656  234.952717   45.423940   255.536460    24.840196   \n",
       "47   306.206712  256.890470   49.316242   285.361398    20.845314   \n",
       "55   478.329369  440.003993   38.325376   456.957492    21.371877   \n",
       "\n",
       "     pj 50 modes  uj 50 modes  pj 102 modes  uj 102 modes  members  \n",
       "101    40.385939    14.052722     42.530088     11.908572        1  \n",
       "60     43.240310    14.104408     45.436146     11.908572        2  \n",
       "74     43.167676    14.654504     45.913608     11.908572        3  \n",
       "34     44.117047    14.575873     46.784347     11.908572        4  \n",
       "51     45.985786    14.927794     49.005008     11.908572        5  \n",
       "..           ...          ...           ...           ...      ...  \n",
       "39    241.642690    13.985297    243.719414     11.908572       98  \n",
       "57    249.124303    14.006931    251.222662     11.908572       99  \n",
       "43    266.296991    14.079665    268.468084     11.908572      100  \n",
       "47    292.135875    14.070837    294.298139     11.908572      101  \n",
       "55    464.551759    13.777610    466.420797     11.908572      102  \n",
       "\n",
       "[102 rows x 10 columns]"
      ]
     },
     "execution_count": 34,
     "metadata": {},
     "output_type": "execute_result"
    }
   ],
   "source": [
    "df_fig_sort = df_fig.sort_values(by='ej')\n",
    "df_fig_sort['members'] = range(1, len(ej_list)+1,1)\n",
    "df_fig_sort"
   ]
  },
  {
   "cell_type": "markdown",
   "metadata": {},
   "source": [
    "## Error components ratio"
   ]
  },
  {
   "cell_type": "code",
   "execution_count": 35,
   "metadata": {},
   "outputs": [],
   "source": [
    "q_list = [5,20,50,102]\n",
    "ratio_p = {}\n",
    "ratio_u = {}\n",
    "for q in q_list :\n",
    "    ratio_p[str(q)+' modes'] = (df_fig['pj ' +str(q)+' modes'].mean()/df_fig['ej'].mean())*100\n",
    "    ratio_u[str(q)+' modes'] = (df_fig['uj ' +str(q)+' modes'].mean()/df_fig['ej'].mean())*100"
   ]
  },
  {
   "cell_type": "code",
   "execution_count": 36,
   "metadata": {},
   "outputs": [
    {
     "data": {
      "text/plain": [
       "{'5 modes': 66.51989508964942,\n",
       " '20 modes': 82.75011790604044,\n",
       " '50 modes': 88.9044683036789,\n",
       " '102 modes': 90.85255927793033}"
      ]
     },
     "execution_count": 36,
     "metadata": {},
     "output_type": "execute_result"
    }
   ],
   "source": [
    "ratio_p"
   ]
  },
  {
   "cell_type": "code",
   "execution_count": 37,
   "metadata": {},
   "outputs": [
    {
     "data": {
      "text/plain": [
       "{'5 modes': 33.48010491035058,\n",
       " '20 modes': 17.24988209395958,\n",
       " '50 modes': 11.095531696321094,\n",
       " '102 modes': 9.147440722069664}"
      ]
     },
     "execution_count": 37,
     "metadata": {},
     "output_type": "execute_result"
    }
   ],
   "source": [
    "ratio_u"
   ]
  },
  {
   "cell_type": "markdown",
   "metadata": {},
   "source": [
    "# Figure - error decomposition"
   ]
  },
  {
   "cell_type": "code",
   "execution_count": 52,
   "metadata": {},
   "outputs": [
    {
     "data": {
      "image/png": "[encoded data removed]",
      "text/plain": [
       "<Figure size 864x720 with 1 Axes>"
      ]
     },
     "metadata": {
      "needs_background": "light"
     },
     "output_type": "display_data"
    }
   ],
   "source": [
    "fig, ax = plt.subplots(figsize=(12,10))\n",
    "\n",
    "df_fig_sort.plot(kind='scatter', x='members', y='ej', \n",
    "                           color='black', alpha=1, marker='o', ax = ax)\n",
    "\n",
    "\n",
    "df_fig_sort.plot(kind='scatter', x='members', y='pj 5 modes', \n",
    "                           color='darkred', alpha=1, marker='o', ax = ax)  \n",
    "\n",
    "df_fig_sort.plot(kind='scatter', x='members', y='pj 20 modes', \n",
    "                           color='teal', alpha=1, marker='o', ax = ax) \n",
    "\n",
    "df_fig_sort.plot(kind='scatter', x='members', y='pj 50 modes', \n",
    "                           color='plum', alpha=1, marker='o', ax = ax) \n",
    "\n",
    "df_fig_sort.plot(kind='scatter', x='members', y='pj 102 modes', \n",
    "                           color='coral', alpha=1, marker='o', ax = ax) \n",
    "    \n",
    "cpt=1\n",
    "for i in df_fig_sort['ej'] : \n",
    "    plt.vlines(cpt,ymin = 0,ymax = i, colors='gray',\n",
    "           linestyles='dashed')\n",
    "    cpt+=1\n",
    "\n",
    " \n",
    "cpt=1\n",
    "for i in df_fig_sort['pj 102 modes'] : \n",
    "    plt.vlines(cpt,ymin = 0,ymax = i, colors='coral', label='_nolegend_',\n",
    "           linestyles='dashed')\n",
    "    cpt+=1\n",
    "\n",
    "cpt=1\n",
    "for i in df_fig_sort['pj 50 modes'] : \n",
    "    plt.vlines(cpt,ymin = 0,ymax = i, colors='plum', label='_nolegend_',\n",
    "           linestyles='dashed')\n",
    "    cpt+=1\n",
    "    \n",
    "cpt=1\n",
    "for i in df_fig_sort['pj 20 modes'] : \n",
    "    plt.vlines(cpt,ymin = 0,ymax = i, colors='teal', label='_nolegend_',\n",
    "           linestyles='dashed')\n",
    "    cpt+=1\n",
    "    \n",
    "cpt=1\n",
    "for i in df_fig_sort['pj 5 modes'] : \n",
    "    plt.vlines(cpt,ymin = 0,ymax = i, colors='darkred', label='_nolegend_',\n",
    "           linestyles='dashed')\n",
    "    cpt+=1\n",
    "\n",
    "legend=['Full error $e_{tas}(\\\\theta_i)$', \n",
    "        'Param. error $p_{tas}(\\\\theta_i)$ ($q=5$)', \n",
    "        'Param. error $p_{tas}(\\\\theta_i)$ ($q=20$)',\n",
    "        'Param. error $p_{tas}(\\\\theta_i)$ ($q=50$)',\n",
    "        'Param. error $p_{tas}(\\\\theta_i)$ ($q=102$)',\n",
    "        'Non-param. error $u_{tas}$ ($q=102$)']\n",
    "ax.tick_params(axis='both', which='major', labelsize=15)\n",
    "plt.legend(legend, fontsize=18, loc='upper left') #, bbox_to_anchor=(1.5, 1.02))\n",
    "plt.title('Surface temperature ($K$)', fontsize = 25)\n",
    "plt.xlabel('Models - ranked from best to worst',fontsize=20)\n",
    "plt.ylabel('Integrative model error (RMSE)', fontsize=20)\n",
    "ax.tick_params(axis='both', which='major', labelsize=15)\n",
    "plt.legend(legend, fontsize=16, loc='upper left') #, bbox_to_anchor=(1.5, 1.02))\n",
    "plt.title('TOA Long wave fluxes ($W/m^2$)', fontsize = 25)\n",
    "plt.xlabel('PPE members $f(\\\\theta_i)$ - ranked from best to worst',fontsize=20)\n",
    "plt.ylabel('Integrative model error (MSE)', fontsize=20)\n",
    "\n",
    "# Enregistrer la figure ...........\n",
    "\n",
    "plt.savefig(\"/data/home/globc/peatier/figures/PPE_ej_decompo_example_\"+variable+\".png\", \n",
    "        orientation='portrait', bbox_inches='tight', pad_inches=0.1)\n",
    "\n",
    "# Display the figure \n",
    "plt.show()"
   ]
  },
  {
   "cell_type": "markdown",
   "metadata": {},
   "source": [
    "# Figure - correlation"
   ]
  },
  {
   "cell_type": "code",
   "execution_count": 42,
   "metadata": {},
   "outputs": [],
   "source": [
    "def correlation(df_fig, q) :\n",
    "    res = stats.linregress(df_fig['pj '+str(q)+' modes'], df_fig['ej'])\n",
    "    x = np.arange(0.0,500,10)\n",
    "    line = res.intercept + res.slope*x\n",
    "    \n",
    "    r = res.rvalue\n",
    "    r_round = round(r,3)\n",
    "    \n",
    "    return [line, r_round]"
   ]
  },
  {
   "cell_type": "code",
   "execution_count": 43,
   "metadata": {},
   "outputs": [],
   "source": [
    "corr = {}\n",
    "## -- 5 modes :\n",
    "q = 5\n",
    "corr[str(q)+' modes'] = correlation(df_fig, q)\n",
    "\n",
    "## -- 20 modes :\n",
    "q = 20\n",
    "corr[str(q)+' modes'] = correlation(df_fig, q)\n",
    "\n",
    "## -- 50 modes :\n",
    "q = 50\n",
    "corr[str(q)+' modes'] = correlation(df_fig, q)\n",
    "\n",
    "## -- 102 modes :\n",
    "q = 102\n",
    "corr[str(q)+' modes'] = correlation(df_fig, q)"
   ]
  },
  {
   "cell_type": "code",
   "execution_count": 51,
   "metadata": {},
   "outputs": [
    {
     "data": {
      "image/png": "[encoded data removed]",
      "text/plain": [
       "<Figure size 864x720 with 1 Axes>"
      ]
     },
     "metadata": {
      "needs_background": "light"
     },
     "output_type": "display_data"
    }
   ],
   "source": [
    "fig, ax = plt.subplots(figsize=(12,10))\n",
    "\n",
    "## -- Regression line for different q\n",
    "q=5\n",
    "ax.plot(np.arange(0.0,500.0,10.0), corr[str(q)+' modes'][0], \n",
    "        linestyle='--', alpha=0.5,  color='darkred', \n",
    "        label='_nolegend_', zorder =20)\n",
    "q=20\n",
    "ax.plot(np.arange(0.0,500.0,10.0), corr[str(q)+' modes'][0], \n",
    "        linestyle='--', alpha=0.5,  color='teal', \n",
    "        label='_nolegend_', zorder =20)\n",
    "q=50\n",
    "ax.plot(np.arange(0.0,500.0,10.0), corr[str(q)+' modes'][0], linestyle='--', alpha=0.5,  \n",
    "        color='plum', \n",
    "        label='_nolegend_', zorder =20)\n",
    "q=102\n",
    "ax.plot(np.arange(0.0,500.0,10.0), corr[str(q)+' modes'][0], linestyle='--', alpha=0.5,  \n",
    "        color='coral', \n",
    "        label='_nolegend_', zorder =20)\n",
    "\n",
    "## -- Scatter plot for different q\n",
    "q=5\n",
    "df_fig_sort.plot(kind='scatter', x='pj 5 modes', y='ej', \n",
    "                           color='darkred', alpha=1, marker='o', ax = ax, zorder =1)\n",
    "q=20\n",
    "df_fig_sort.plot(kind='scatter', x='pj 20 modes', y='ej', \n",
    "                           color='teal', alpha=1, marker='o', ax = ax, zorder =1)\n",
    "q=50\n",
    "df_fig_sort.plot(kind='scatter', x='pj 50 modes', y='ej', \n",
    "                           color='plum', alpha=1, marker='o', ax = ax, zorder =1)\n",
    "q=102\n",
    "df_fig_sort.plot(kind='scatter', x='pj 102 modes', y='ej', \n",
    "                           color='coral', alpha=1, marker='o', ax = ax, zorder =1)\n",
    "\n",
    "\n",
    "\n",
    "## -- Regression line for the diagonal (0,0)\n",
    "ax.plot(np.arange(0.0,510.0,10.0), np.arange(0.0,510.0,10.0), \n",
    "        linestyle=\"-\", alpha=0.3,  color='gray', \n",
    "        label='_nolegend_')\n",
    "\n",
    "## -- Legend and settings\n",
    "legend=['5 EOF modes retained ($q=5$)', \n",
    "        '20 EOF modes retained ($q=20$)', \n",
    "        '50 EOF modes retained ($q=50$)', \n",
    "        '102 EOF modes retained ($q=102$)']\n",
    "#ax.text(x=1.6, y=0.7, s='Pearson correlation coefficients :', fontsize=16)\n",
    "ax.text(x=1.0, y=485.0, s='$r = $'+str(corr['5 modes'][1]), fontsize=16, \n",
    "        color='darkred', fontweight='bold')\n",
    "ax.text(x=1.0, y=470.0, s='$r = $'+str(corr['20 modes'][1]), fontsize=16, \n",
    "        color='teal', fontweight='bold')\n",
    "ax.text(x=1.0, y=455.0, s='$r = $'+str(corr['50 modes'][1]), fontsize=16, \n",
    "        color='plum', fontweight='bold')\n",
    "ax.text(x=1.0, y=440.0, s='$r = $'+str(corr['102 modes'][1]), fontsize=16, \n",
    "        color='coral', fontweight='bold')\n",
    "ax.tick_params(axis='both', which='major', labelsize=15)\n",
    "plt.legend(legend, fontsize=18, loc='lower right') #, bbox_to_anchor=(1.5, 1.02))\n",
    "plt.title('TOA Long wave fluxes ($W/m^2$)', fontsize = 25)\n",
    "plt.xlabel('Parametric component of the error $p_{tas}(\\\\theta_i)$',fontsize=20)\n",
    "plt.ylabel('Full error $e_{tas}(\\\\theta_i)$',fontsize=20)\n",
    "plt.ylim(0,500)\n",
    "plt.xlim(0,500)\n",
    "\n",
    "# Enregistrer la figure ...........\n",
    "\n",
    "plt.savefig(\"/data/home/globc/peatier/figures/Corr_decompo_example_\"+variable+\".png\", \n",
    "        orientation='portrait', bbox_inches='tight', pad_inches=0.1)\n",
    "\n",
    "# Display the figure \n",
    "plt.show()"
   ]
  },
  {
   "cell_type": "code",
   "execution_count": null,
   "metadata": {},
   "outputs": [],
   "source": []
  },
  {
   "cell_type": "code",
   "execution_count": null,
   "metadata": {},
   "outputs": [],
   "source": []
  }
 ],
 "metadata": {
  "kernelspec": {
   "display_name": "Python 3",
   "language": "python",
   "name": "python3"
  },
  "language_info": {
   "codemirror_mode": {
    "name": "ipython",
    "version": 3
   },
   "file_extension": ".py",
   "mimetype": "text/x-python",
   "name": "python",
   "nbconvert_exporter": "python",
   "pygments_lexer": "ipython3",
   "version": "3.7.6"
  }
 },
 "nbformat": 4,
 "nbformat_minor": 2
}
