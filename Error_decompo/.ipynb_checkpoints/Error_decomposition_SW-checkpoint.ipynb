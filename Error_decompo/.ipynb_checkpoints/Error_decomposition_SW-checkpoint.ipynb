{
 "cells": [
  {
   "cell_type": "markdown",
   "metadata": {},
   "source": [
    "# Import Module"
   ]
  },
  {
   "cell_type": "code",
   "execution_count": 2,
   "metadata": {},
   "outputs": [],
   "source": [
    "# Computational modules \n",
    "%matplotlib inline\n",
    "import xarray as xr\n",
    "import glob\n",
    "import os\n",
    "import numpy as np\n",
    "import netCDF4\n",
    "from netCDF4 import Dataset\n",
    "import pandas as pd\n",
    "import re\n",
    "from array import array\n",
    "from pylab import *\n",
    "#import geopandas\n",
    "from eofs.xarray import Eof\n",
    "from eofs.multivariate.standard import MultivariateEof\n",
    "\n",
    "# Plotting modules \n",
    "import matplotlib.pyplot as plt\n",
    "from mpl_toolkits.basemap import Basemap\n",
    "import pandas.plotting\n",
    "import matplotlib.ticker as ticker\n",
    "import seaborn as sns\n",
    "import cartopy.crs as ccrs\n",
    "import cartopy.feature as cfeature\n",
    "from matplotlib.colors import BoundaryNorm\n",
    "from matplotlib.ticker import (AutoMinorLocator, MultipleLocator)\n",
    "\n",
    "# Scikit-learn\n",
    "from sklearn import linear_model\n",
    "from sklearn.linear_model import LassoCV, LassoLarsCV, LassoLarsIC\n",
    "from sklearn.linear_model import Lasso\n",
    "from sklearn.metrics import r2_score\n",
    "from sklearn import preprocessing\n",
    "from sklearn import tree\n",
    "from sklearn.ensemble import RandomForestClassifier\n",
    "from sklearn.metrics import confusion_matrix\n",
    "from sklearn import metrics\n",
    "from sklearn.neural_network import MLPRegressor\n",
    "from scipy.optimize import minimize\n",
    "from scipy.optimize import dual_annealing\n",
    "from sklearn.decomposition import PCA"
   ]
  },
  {
   "cell_type": "markdown",
   "metadata": {},
   "source": [
    "# Settings"
   ]
  },
  {
   "cell_type": "markdown",
   "metadata": {},
   "source": [
    "### Variables"
   ]
  },
  {
   "cell_type": "code",
   "execution_count": 3,
   "metadata": {},
   "outputs": [],
   "source": [
    "variables = ['rsut', 'rsdt']\n",
    "variable = 'SW'\n",
    "TITLE = 'Short Wave fluxes'\n",
    "ylabel = '$E_{SW}$ ($W.m^{-2}.K^{-1}$)'"
   ]
  },
  {
   "cell_type": "markdown",
   "metadata": {},
   "source": [
    "### Paths"
   ]
  },
  {
   "cell_type": "code",
   "execution_count": 4,
   "metadata": {},
   "outputs": [],
   "source": [
    "path_official='/data/scratch/globc/peatier/CMIP6/CNRM-CM6-1/CFMIP/amip/'\n",
    "path_PPE='/data/scratch/globc/peatier/CNRM-CM6-1_PPE/'\n",
    "path_files='/data/home/globc/peatier/CNRMppe_error_decomposition/files/'\n",
    "path_file_npy = '/data/home/globc/peatier/CNRMppe_save/PPE/ENSEMBLE2/files/npy/'"
   ]
  },
  {
   "cell_type": "markdown",
   "metadata": {},
   "source": [
    "### List of members"
   ]
  },
  {
   "cell_type": "code",
   "execution_count": 4,
   "metadata": {},
   "outputs": [
    {
     "data": {
      "text/plain": [
       "102"
      ]
     },
     "execution_count": 4,
     "metadata": {},
     "output_type": "execute_result"
    }
   ],
   "source": [
    "nb_p_list = ['p311', 'p312', 'p314', 'p316',\n",
    "                    'p317', 'p319', 'p320', 'p321', 'p322', 'p324', 'p325', 'p326', \n",
    "                    'p329', 'p330', 'p331', 'p332', 'p335', 'p336', 'p337' ,'p338', \n",
    "                    'p340', 'p341', 'p343', 'p344', 'p346', 'p347', 'p348', 'p349', \n",
    "                    'p350', 'p353', 'p355', 'p357', 'p359', 'p360', \n",
    "                    'p361', 'p363', 'p365', 'p367', 'p368', 'p369', \n",
    "                    'p372', 'p373', 'p374', 'p375', 'p376', 'p378', 'p381', 'p382', \n",
    "                    'p384', 'p386', 'p388', 'p389', 'p391', 'p392', 'p393', \n",
    "                    'p394', 'p395', 'p396', 'p398', 'p399', 'p400', 'p404', \n",
    "                    'p406', 'p407', 'p409', 'p410', 'p411', 'p412',\n",
    "                    'p414','p416',\n",
    "                    'p413','p419','p424','p426','p428','p421','p423',\n",
    "                    'p425','p427','p429','p430','p436','p438','p431','p433',\n",
    "                    'p442','p446','p443','p445','p447',\n",
    "                    'p452','p454','p456','p458','p457','p459',\n",
    "                    'p460','p465','p467','p469',\n",
    "                    'p470','p471']\n",
    "\n",
    "len(nb_p_list)"
   ]
  },
  {
   "cell_type": "markdown",
   "metadata": {},
   "source": [
    "# Functions"
   ]
  },
  {
   "cell_type": "code",
   "execution_count": 5,
   "metadata": {},
   "outputs": [],
   "source": [
    "def get_3D_SW_xarr(path, filename, variables):\n",
    "\n",
    "    # First step : download the data into dataframe\n",
    "    file = xr.open_mfdataset(path+filename,combine='by_coords')\n",
    "    \n",
    "    # Second step : compute the annual average \n",
    "    df = file[variables].mean('time', keep_attrs=True)\n",
    "    SW = df['rsdt'] - df['rsut']\n",
    "    \n",
    "    return SW"
   ]
  },
  {
   "cell_type": "markdown",
   "metadata": {},
   "source": [
    "# Get data "
   ]
  },
  {
   "cell_type": "markdown",
   "metadata": {},
   "source": [
    "### Reference simulation p1"
   ]
  },
  {
   "cell_type": "code",
   "execution_count": 6,
   "metadata": {},
   "outputs": [],
   "source": [
    "# Reference simulation\n",
    "path = path_PPE+'ENSEMBLE1/CNRM-CM6-1_amip_PPE/CNRM-CM6-1_amip_r1i1p1f2/'\n",
    "filename = '*_CNRM-CM6-1_amip_*.nc'\n",
    "p1_amip = get_3D_SW_xarr(path, filename, variables)"
   ]
  },
  {
   "cell_type": "code",
   "execution_count": 7,
   "metadata": {},
   "outputs": [],
   "source": [
    "amip={}\n",
    "amip['p1'] = p1_amip"
   ]
  },
  {
   "cell_type": "markdown",
   "metadata": {},
   "source": [
    "### PPE simulations "
   ]
  },
  {
   "cell_type": "code",
   "execution_count": 8,
   "metadata": {},
   "outputs": [],
   "source": [
    "# PPE amip simulations \n",
    "filename='*_amip_*.nc'\n",
    "N=len(nb_p_list)\n",
    "\n",
    "i = 0\n",
    "while i<N:\n",
    "    nb_p = nb_p_list[i]\n",
    "    #print(nb_p)\n",
    "    path=path_PPE+'ENSEMBLE2/CNRM-CM6-1_amip_LHS500_PPE/CNRM-CM6-1_amip_r1i1'+str(nb_p)+'f2/'\n",
    "    amip[str(nb_p)] = get_3D_SW_xarr(path, filename, variables)\n",
    "    i=i+1"
   ]
  },
  {
   "cell_type": "code",
   "execution_count": 9,
   "metadata": {},
   "outputs": [],
   "source": [
    "n=len(nb_p_list)\n",
    "amip_list=[0]*(n+1)\n",
    "\n",
    "amip_list[0] = amip['p1']\n",
    "\n",
    "i = 0\n",
    "while i<n:\n",
    "    nb_p = nb_p_list[i]\n",
    "    #print(nb_p)\n",
    "    tmp = amip[str(nb_p)]\n",
    "    amip_list[i+1] = tmp\n",
    "    i+=1"
   ]
  },
  {
   "cell_type": "code",
   "execution_count": 10,
   "metadata": {},
   "outputs": [],
   "source": [
    "matrix = xr.combine_nested(amip_list, concat_dim=['time'])"
   ]
  },
  {
   "cell_type": "markdown",
   "metadata": {},
   "source": [
    "### GMMIP simulations"
   ]
  },
  {
   "cell_type": "code",
   "execution_count": 11,
   "metadata": {},
   "outputs": [],
   "source": [
    "path_GMMIP = '/data/scratch/globc/peatier/CMIP6/CNRM-CM6-1/GMMIP/CNRM/'\n",
    "filename = 'rs*t_Amon*.nc'"
   ]
  },
  {
   "cell_type": "code",
   "execution_count": 12,
   "metadata": {},
   "outputs": [],
   "source": [
    "def get_3D_SW_xarr(path, filename, variables):\n",
    "\n",
    "    # First step : download the data into dataframe\n",
    "    file = xr.open_mfdataset(path+filename,combine='by_coords')\n",
    "    \n",
    "    # Second step : compute the annual average \n",
    "    df = file[variables].mean('time', keep_attrs=True)\n",
    "    SW = df['rsdt'] - df['rsut']\n",
    "    \n",
    "    return SW"
   ]
  },
  {
   "cell_type": "code",
   "execution_count": 13,
   "metadata": {},
   "outputs": [
    {
     "name": "stderr",
     "output_type": "stream",
     "text": [
      "/data/scratch/globc/peatier/conda/lib/python3.7/site-packages/ipykernel_launcher.py:1: FutureWarning: In xarray version 0.15 the default behaviour of `open_mfdataset`\n",
      "will change. To retain the existing behavior, pass\n",
      "combine='nested'. To use future default behavior, pass\n",
      "combine='by_coords'. See\n",
      "http://xarray.pydata.org/en/stable/combining.html#combining-multi\n",
      "\n",
      "  \"\"\"Entry point for launching an IPython kernel.\n",
      "/data/scratch/globc/peatier/conda/lib/python3.7/site-packages/xarray/backends/api.py:933: FutureWarning: Also `open_mfdataset` will no longer accept a `concat_dim` argument.\n",
      "To get equivalent behaviour from now on please use the new\n",
      "`combine_nested` function instead (or the `combine='nested'` option to\n",
      "`open_mfdataset`).The datasets supplied do not have global dimension coordinates. In\n",
      "future, to continue concatenating without supplying dimension\n",
      "coordinates, please use the new `combine_nested` function (or the\n",
      "`combine='nested'` option to open_mfdataset.The datasets supplied require both concatenation and merging. From\n",
      "xarray version 0.15 this will operation will require either using the\n",
      "new `combine_nested` function (or the `combine='nested'` option to\n",
      "open_mfdataset), with a nested list structure such that you can combine\n",
      "along the dimensions None. Alternatively if your datasets have global\n",
      "dimension coordinates then you can use the new `combine_by_coords`\n",
      "function.\n",
      "  from_openmfds=True,\n"
     ]
    },
    {
     "data": {
      "text/html": [
       "<pre>&lt;xarray.DataArray (time: 9, lat: 128, lon: 256)&gt;\n",
       "dask.array&lt;sub, shape=(9, 128, 256), dtype=float32, chunksize=(1, 128, 256), chunktype=numpy.ndarray&gt;\n",
       "Coordinates:\n",
       "  * lon      (lon) float64 0.0 1.406 2.812 4.219 ... 354.4 355.8 357.2 358.6\n",
       "  * lat      (lat) float64 -88.93 -87.54 -86.14 -84.74 ... 86.14 87.54 88.93\n",
       "Dimensions without coordinates: time</pre>"
      ],
      "text/plain": [
       "<xarray.DataArray (time: 9, lat: 128, lon: 256)>\n",
       "dask.array<sub, shape=(9, 128, 256), dtype=float32, chunksize=(1, 128, 256), chunktype=numpy.ndarray>\n",
       "Coordinates:\n",
       "  * lon      (lon) float64 0.0 1.406 2.812 4.219 ... 354.4 355.8 357.2 358.6\n",
       "  * lat      (lat) float64 -88.93 -87.54 -86.14 -84.74 ... 86.14 87.54 88.93\n",
       "Dimensions without coordinates: time"
      ]
     },
     "execution_count": 13,
     "metadata": {},
     "output_type": "execute_result"
    }
   ],
   "source": [
    "file = xr.open_mfdataset(path_GMMIP+filename,concat_dim='member')\n",
    "X_GMMIP_tmp = file[variables].mean('time', keep_attrs=True) \n",
    "SW = X_GMMIP_tmp['rsdt'] - X_GMMIP_tmp['rsut']\n",
    "X_GMMIP = SW.rename({'member' : 'time'})\n",
    "X_GMMIP"
   ]
  },
  {
   "cell_type": "markdown",
   "metadata": {},
   "source": [
    "### CERES observations"
   ]
  },
  {
   "cell_type": "code",
   "execution_count": 14,
   "metadata": {},
   "outputs": [],
   "source": [
    "def load_monthly_clim(path, filename, variables) :\n",
    "    \n",
    "    file = xr.open_mfdataset(path+filename,combine='by_coords')\n",
    "    df=file[variables].to_dataframe()\n",
    "    \n",
    "    # Compute Climatological Annual Cycle :\n",
    "    df1=df.reset_index(level=['time', 'lat', 'lon'])\n",
    "    df1['year']=pd.DatetimeIndex(df1['time']).year\n",
    "    df1['month']=pd.DatetimeIndex(df1['time']).month\n",
    "    \n",
    "    #list_ind = []\n",
    "    #cpt=0\n",
    "    #for i in df1['year'] : \n",
    "    #    if i>1981 :\n",
    "    #        list_ind.append(cpt)\n",
    "    #        cpt+=1\n",
    "    #    else : \n",
    "    #        cpt+=1\n",
    "            \n",
    "    #df2 = df1.drop(list_ind)\n",
    "    df_mean=df1.groupby(['month', 'lat', 'lon']).mean()\n",
    "    df_mean=df_mean.drop(columns='year')\n",
    "    \n",
    "    return df_mean"
   ]
  },
  {
   "cell_type": "code",
   "execution_count": 15,
   "metadata": {},
   "outputs": [],
   "source": [
    "path_observation = '/data/scratch/globc/peatier/obs_data/CERES/'\n",
    "filename = 'CERES_EBAF-TOA_Ed4.1_Subset_200003-201910_regrid.nc'"
   ]
  },
  {
   "cell_type": "code",
   "execution_count": 16,
   "metadata": {},
   "outputs": [
    {
     "data": {
      "text/html": [
       "<div>\n",
       "<style scoped>\n",
       "    .dataframe tbody tr th:only-of-type {\n",
       "        vertical-align: middle;\n",
       "    }\n",
       "\n",
       "    .dataframe tbody tr th {\n",
       "        vertical-align: top;\n",
       "    }\n",
       "\n",
       "    .dataframe thead th {\n",
       "        text-align: right;\n",
       "    }\n",
       "</style>\n",
       "<table border=\"1\" class=\"dataframe\">\n",
       "  <thead>\n",
       "    <tr style=\"text-align: right;\">\n",
       "      <th></th>\n",
       "      <th></th>\n",
       "      <th></th>\n",
       "      <th>toa_sw_all_mon</th>\n",
       "      <th>toa_lw_all_mon</th>\n",
       "      <th>toa_net_all_mon</th>\n",
       "    </tr>\n",
       "    <tr>\n",
       "      <th>month</th>\n",
       "      <th>lat</th>\n",
       "      <th>lon</th>\n",
       "      <th></th>\n",
       "      <th></th>\n",
       "      <th></th>\n",
       "    </tr>\n",
       "  </thead>\n",
       "  <tbody>\n",
       "    <tr>\n",
       "      <th rowspan=\"5\" valign=\"top\">1</th>\n",
       "      <th rowspan=\"5\" valign=\"top\">-88.927735</th>\n",
       "      <th>0.00000</th>\n",
       "      <td>344.953522</td>\n",
       "      <td>189.246185</td>\n",
       "      <td>-38.599289</td>\n",
       "    </tr>\n",
       "    <tr>\n",
       "      <th>1.40625</th>\n",
       "      <td>344.953522</td>\n",
       "      <td>189.246185</td>\n",
       "      <td>-38.599289</td>\n",
       "    </tr>\n",
       "    <tr>\n",
       "      <th>2.81250</th>\n",
       "      <td>344.953522</td>\n",
       "      <td>189.246185</td>\n",
       "      <td>-38.599289</td>\n",
       "    </tr>\n",
       "    <tr>\n",
       "      <th>4.21875</th>\n",
       "      <td>344.992493</td>\n",
       "      <td>189.144440</td>\n",
       "      <td>-38.531315</td>\n",
       "    </tr>\n",
       "    <tr>\n",
       "      <th>5.62500</th>\n",
       "      <td>345.007721</td>\n",
       "      <td>189.104630</td>\n",
       "      <td>-38.504715</td>\n",
       "    </tr>\n",
       "    <tr>\n",
       "      <th>...</th>\n",
       "      <th>...</th>\n",
       "      <th>...</th>\n",
       "      <td>...</td>\n",
       "      <td>...</td>\n",
       "      <td>...</td>\n",
       "    </tr>\n",
       "    <tr>\n",
       "      <th rowspan=\"5\" valign=\"top\">12</th>\n",
       "      <th rowspan=\"5\" valign=\"top\">88.927735</th>\n",
       "      <th>352.96875</th>\n",
       "      <td>0.000000</td>\n",
       "      <td>171.476639</td>\n",
       "      <td>-171.476639</td>\n",
       "    </tr>\n",
       "    <tr>\n",
       "      <th>354.37500</th>\n",
       "      <td>0.000000</td>\n",
       "      <td>171.476639</td>\n",
       "      <td>-171.476639</td>\n",
       "    </tr>\n",
       "    <tr>\n",
       "      <th>355.78125</th>\n",
       "      <td>0.000000</td>\n",
       "      <td>171.500351</td>\n",
       "      <td>-171.500351</td>\n",
       "    </tr>\n",
       "    <tr>\n",
       "      <th>357.18750</th>\n",
       "      <td>0.000000</td>\n",
       "      <td>171.560974</td>\n",
       "      <td>-171.560974</td>\n",
       "    </tr>\n",
       "    <tr>\n",
       "      <th>358.59375</th>\n",
       "      <td>0.000000</td>\n",
       "      <td>171.560974</td>\n",
       "      <td>-171.560974</td>\n",
       "    </tr>\n",
       "  </tbody>\n",
       "</table>\n",
       "<p>393216 rows × 3 columns</p>\n",
       "</div>"
      ],
      "text/plain": [
       "                            toa_sw_all_mon  toa_lw_all_mon  toa_net_all_mon\n",
       "month lat        lon                                                       \n",
       "1     -88.927735 0.00000        344.953522      189.246185       -38.599289\n",
       "                 1.40625        344.953522      189.246185       -38.599289\n",
       "                 2.81250        344.953522      189.246185       -38.599289\n",
       "                 4.21875        344.992493      189.144440       -38.531315\n",
       "                 5.62500        345.007721      189.104630       -38.504715\n",
       "...                                    ...             ...              ...\n",
       "12     88.927735 352.96875        0.000000      171.476639      -171.476639\n",
       "                 354.37500        0.000000      171.476639      -171.476639\n",
       "                 355.78125        0.000000      171.500351      -171.500351\n",
       "                 357.18750        0.000000      171.560974      -171.560974\n",
       "                 358.59375        0.000000      171.560974      -171.560974\n",
       "\n",
       "[393216 rows x 3 columns]"
      ]
     },
     "execution_count": 16,
     "metadata": {},
     "output_type": "execute_result"
    }
   ],
   "source": [
    "# Load data and compute Annual Cycle :\n",
    "file = xr.open_mfdataset(path_observation+filename,combine='by_coords')\n",
    "#file\n",
    "variables = ['toa_sw_all_mon','toa_lw_all_mon', 'toa_net_all_mon']\n",
    "df_obs = load_monthly_clim(path_observation, filename, variables)\n",
    "df_obs"
   ]
  },
  {
   "cell_type": "code",
   "execution_count": 17,
   "metadata": {},
   "outputs": [
    {
     "data": {
      "text/html": [
       "<pre>&lt;xarray.Dataset&gt;\n",
       "Dimensions:          (lat: 128, lon: 256)\n",
       "Coordinates:\n",
       "  * lat              (lat) float64 -88.93 -87.54 -86.14 ... 86.14 87.54 88.93\n",
       "  * lon              (lon) float64 0.0 1.406 2.812 4.219 ... 355.8 357.2 358.6\n",
       "Data variables:\n",
       "    toa_sw_all_mon   (lat, lon) float32 121.35958 121.35958 ... 103.85324\n",
       "    toa_lw_all_mon   (lat, lon) float32 142.8201 142.8201 ... 194.14125\n",
       "    toa_net_all_mon  (lat, lon) float32 -91.40278 -91.40278 ... -126.49493\n",
       "    SW               (lat, lon) float32 51.417324 51.417324 ... 67.64632</pre>"
      ],
      "text/plain": [
       "<xarray.Dataset>\n",
       "Dimensions:          (lat: 128, lon: 256)\n",
       "Coordinates:\n",
       "  * lat              (lat) float64 -88.93 -87.54 -86.14 ... 86.14 87.54 88.93\n",
       "  * lon              (lon) float64 0.0 1.406 2.812 4.219 ... 355.8 357.2 358.6\n",
       "Data variables:\n",
       "    toa_sw_all_mon   (lat, lon) float32 121.35958 121.35958 ... 103.85324\n",
       "    toa_lw_all_mon   (lat, lon) float32 142.8201 142.8201 ... 194.14125\n",
       "    toa_net_all_mon  (lat, lon) float32 -91.40278 -91.40278 ... -126.49493\n",
       "    SW               (lat, lon) float32 51.417324 51.417324 ... 67.64632"
      ]
     },
     "execution_count": 17,
     "metadata": {},
     "output_type": "execute_result"
    }
   ],
   "source": [
    "df_obs['SW'] =  df_obs['toa_net_all_mon'] + df_obs['toa_lw_all_mon']\n",
    "obs = df_obs.groupby(['lat','lon']).mean().to_xarray()\n",
    "obs"
   ]
  },
  {
   "cell_type": "markdown",
   "metadata": {},
   "source": [
    "### Remove mean and multiply by spatial weights"
   ]
  },
  {
   "cell_type": "code",
   "execution_count": 18,
   "metadata": {},
   "outputs": [],
   "source": [
    "## --Get weights : \n",
    "lats = matrix['lat'].values\n",
    "\n",
    "wgts = np.cos(np.deg2rad(lats))\n",
    "W_eof_2D = sqrt(wgts)[:,np.newaxis] ## --Wqts before EOF analysis - 2D (lat x lon)\n",
    "W_eof_3D = sqrt(wgts)[np.newaxis,:,np.newaxis] ## --Wqts before EOF analysis - 3D (time x lat x lon)\n",
    "\n",
    "S = wgts.sum()*256 ## --Sum of wgts over the whole grid\n",
    "wgts_sum = wgts/S\n",
    "W_rmse_2D = wgts_sum[:,np.newaxis] ## -- Wgts before RMSE, divided by sum of wgts - 2D (lat x lon)"
   ]
  },
  {
   "cell_type": "code",
   "execution_count": 19,
   "metadata": {},
   "outputs": [],
   "source": [
    "## --PPE simulations\n",
    "mean = matrix.mean(axis=0)\n",
    "anom = matrix - mean\n",
    "anom_w = (anom*W_eof_3D)"
   ]
  },
  {
   "cell_type": "code",
   "execution_count": 20,
   "metadata": {},
   "outputs": [],
   "source": [
    "## --Reference simulation p1\n",
    "p1_amip_anom = p1_amip - mean\n",
    "p1_amip_w = p1_amip_anom*W_eof_2D"
   ]
  },
  {
   "cell_type": "code",
   "execution_count": 21,
   "metadata": {},
   "outputs": [],
   "source": [
    "## --GMMIP simulations\n",
    "X_GMMIP = X_GMMIP - mean\n",
    "X_GMMIP_w = X_GMMIP*W_eof_3D"
   ]
  },
  {
   "cell_type": "code",
   "execution_count": 22,
   "metadata": {},
   "outputs": [],
   "source": [
    "## --Observations\n",
    "X_obs = obs[variable] - mean\n",
    "X_obs_w = X_obs*W_eof_2D"
   ]
  },
  {
   "cell_type": "markdown",
   "metadata": {},
   "source": [
    "# Calcule full MSE (ej)"
   ]
  },
  {
   "cell_type": "code",
   "execution_count": 23,
   "metadata": {},
   "outputs": [],
   "source": [
    "def MSE(mod, obs, W_rmse_2D) :\n",
    "    diff_tmp = (mod - obs)**2 * W_rmse_2D\n",
    "    diff = (diff_tmp.sum(['lat', 'lon']))\n",
    "    return diff\n",
    "\n",
    "def RMSE(mod, obs, W_rmse_2D) :\n",
    "    diff_tmp = (mod - obs)**2 * W_rmse_2D\n",
    "    diff = sqrt(diff_tmp.sum(['lat', 'lon']))\n",
    "    return diff"
   ]
  },
  {
   "cell_type": "code",
   "execution_count": 24,
   "metadata": {},
   "outputs": [
    {
     "name": "stdout",
     "output_type": "stream",
     "text": [
      "181.42953652335763\n"
     ]
    }
   ],
   "source": [
    "# Reference p1\n",
    "mod = amip['p1']\n",
    "observation = obs[variable]\n",
    "\n",
    "diff_p1 = MSE(mod, observation, W_rmse_2D)\n",
    "print(float(diff_p1))"
   ]
  },
  {
   "cell_type": "code",
   "execution_count": 25,
   "metadata": {},
   "outputs": [
    {
     "name": "stdout",
     "output_type": "stream",
     "text": [
      "13.469578186541613\n"
     ]
    }
   ],
   "source": [
    "test = RMSE(mod, observation, W_rmse_2D)\n",
    "print(float(test))"
   ]
  },
  {
   "cell_type": "code",
   "execution_count": 26,
   "metadata": {},
   "outputs": [
    {
     "name": "stdout",
     "output_type": "stream",
     "text": [
      "13.469578186541613\n"
     ]
    }
   ],
   "source": [
    "print(float(sqrt(diff_p1)))"
   ]
  },
  {
   "cell_type": "code",
   "execution_count": 27,
   "metadata": {},
   "outputs": [],
   "source": [
    "observation = obs[variable]\n",
    "ej_list = []\n",
    "\n",
    "for p in nb_p_list :\n",
    "    mod = amip[p]\n",
    "    ej_tmp = MSE(mod, observation, W_rmse_2D)\n",
    "    ej_list.append(ej_tmp)"
   ]
  },
  {
   "cell_type": "markdown",
   "metadata": {},
   "source": [
    "### Save"
   ]
  },
  {
   "cell_type": "code",
   "execution_count": 28,
   "metadata": {},
   "outputs": [],
   "source": [
    "np.save(path_files+'npy/CNRMppe_decomposition_ej_'+str(variable)+'.npy', ej_list)"
   ]
  },
  {
   "cell_type": "markdown",
   "metadata": {},
   "source": [
    "# EOF "
   ]
  },
  {
   "cell_type": "code",
   "execution_count": 29,
   "metadata": {},
   "outputs": [
    {
     "ename": "KeyboardInterrupt",
     "evalue": "",
     "output_type": "error",
     "traceback": [
      "\u001b[0;31m---------------------------------------------------------------------------\u001b[0m",
      "\u001b[0;31mKeyboardInterrupt\u001b[0m                         Traceback (most recent call last)",
      "\u001b[0;32m<ipython-input-29-65a613deea9a>\u001b[0m in \u001b[0;36m<module>\u001b[0;34m\u001b[0m\n\u001b[1;32m      1\u001b[0m \u001b[0;31m# Create an EOF solver to do the EOF analysis.\u001b[0m\u001b[0;34m\u001b[0m\u001b[0;34m\u001b[0m\u001b[0;34m\u001b[0m\u001b[0m\n\u001b[0;32m----> 2\u001b[0;31m \u001b[0msolver\u001b[0m \u001b[0;34m=\u001b[0m \u001b[0mEof\u001b[0m\u001b[0;34m(\u001b[0m\u001b[0manom_w\u001b[0m\u001b[0;34m,\u001b[0m \u001b[0mcenter\u001b[0m\u001b[0;34m=\u001b[0m\u001b[0;32mFalse\u001b[0m\u001b[0;34m,\u001b[0m \u001b[0mweights\u001b[0m\u001b[0;34m=\u001b[0m\u001b[0;32mNone\u001b[0m\u001b[0;34m)\u001b[0m\u001b[0;34m\u001b[0m\u001b[0;34m\u001b[0m\u001b[0m\n\u001b[0m",
      "\u001b[0;32m~/.local/lib/python3.7/site-packages/eofs/xarray.py\u001b[0m in \u001b[0;36m__init__\u001b[0;34m(self, array, weights, center, ddof)\u001b[0m\n\u001b[1;32m    131\u001b[0m                                     \u001b[0mweights\u001b[0m\u001b[0;34m=\u001b[0m\u001b[0mwtarray\u001b[0m\u001b[0;34m,\u001b[0m\u001b[0;34m\u001b[0m\u001b[0;34m\u001b[0m\u001b[0m\n\u001b[1;32m    132\u001b[0m                                     \u001b[0mcenter\u001b[0m\u001b[0;34m=\u001b[0m\u001b[0mcenter\u001b[0m\u001b[0;34m,\u001b[0m\u001b[0;34m\u001b[0m\u001b[0;34m\u001b[0m\u001b[0m\n\u001b[0;32m--> 133\u001b[0;31m                                     ddof=ddof)\n\u001b[0m\u001b[1;32m    134\u001b[0m         \u001b[0;31m# Name of the input DataArray.\u001b[0m\u001b[0;34m\u001b[0m\u001b[0;34m\u001b[0m\u001b[0;34m\u001b[0m\u001b[0m\n\u001b[1;32m    135\u001b[0m         \u001b[0mself\u001b[0m\u001b[0;34m.\u001b[0m\u001b[0m_name\u001b[0m \u001b[0;34m=\u001b[0m \u001b[0marray\u001b[0m\u001b[0;34m.\u001b[0m\u001b[0mname\u001b[0m\u001b[0;34m\u001b[0m\u001b[0;34m\u001b[0m\u001b[0m\n",
      "\u001b[0;32m~/.local/lib/python3.7/site-packages/eofs/standard.py\u001b[0m in \u001b[0;36m__init__\u001b[0;34m(self, dataset, weights, center, ddof)\u001b[0m\n\u001b[1;32m    164\u001b[0m                 \u001b[0;31m# Use the parallel Dask algorithm\u001b[0m\u001b[0;34m\u001b[0m\u001b[0;34m\u001b[0m\u001b[0;34m\u001b[0m\u001b[0m\n\u001b[1;32m    165\u001b[0m                 \u001b[0mdsvd\u001b[0m \u001b[0;34m=\u001b[0m \u001b[0mdask\u001b[0m\u001b[0;34m.\u001b[0m\u001b[0marray\u001b[0m\u001b[0;34m.\u001b[0m\u001b[0mlinalg\u001b[0m\u001b[0;34m.\u001b[0m\u001b[0msvd\u001b[0m\u001b[0;34m(\u001b[0m\u001b[0mdataNoMissing\u001b[0m\u001b[0;34m)\u001b[0m\u001b[0;34m\u001b[0m\u001b[0;34m\u001b[0m\u001b[0m\n\u001b[0;32m--> 166\u001b[0;31m                 \u001b[0mA\u001b[0m\u001b[0;34m,\u001b[0m \u001b[0mLh\u001b[0m\u001b[0;34m,\u001b[0m \u001b[0mE\u001b[0m \u001b[0;34m=\u001b[0m \u001b[0;34m(\u001b[0m\u001b[0mx\u001b[0m\u001b[0;34m.\u001b[0m\u001b[0mcompute\u001b[0m\u001b[0;34m(\u001b[0m\u001b[0;34m)\u001b[0m \u001b[0;32mfor\u001b[0m \u001b[0mx\u001b[0m \u001b[0;32min\u001b[0m \u001b[0mdsvd\u001b[0m\u001b[0;34m)\u001b[0m\u001b[0;34m\u001b[0m\u001b[0;34m\u001b[0m\u001b[0m\n\u001b[0m\u001b[1;32m    167\u001b[0m \u001b[0;34m\u001b[0m\u001b[0m\n\u001b[1;32m    168\u001b[0m                 \u001b[0;31m# Trim the arrays (since Dask doesn't support\u001b[0m\u001b[0;34m\u001b[0m\u001b[0;34m\u001b[0m\u001b[0;34m\u001b[0m\u001b[0m\n",
      "\u001b[0;32m~/.local/lib/python3.7/site-packages/eofs/standard.py\u001b[0m in \u001b[0;36m<genexpr>\u001b[0;34m(.0)\u001b[0m\n\u001b[1;32m    164\u001b[0m                 \u001b[0;31m# Use the parallel Dask algorithm\u001b[0m\u001b[0;34m\u001b[0m\u001b[0;34m\u001b[0m\u001b[0;34m\u001b[0m\u001b[0m\n\u001b[1;32m    165\u001b[0m                 \u001b[0mdsvd\u001b[0m \u001b[0;34m=\u001b[0m \u001b[0mdask\u001b[0m\u001b[0;34m.\u001b[0m\u001b[0marray\u001b[0m\u001b[0;34m.\u001b[0m\u001b[0mlinalg\u001b[0m\u001b[0;34m.\u001b[0m\u001b[0msvd\u001b[0m\u001b[0;34m(\u001b[0m\u001b[0mdataNoMissing\u001b[0m\u001b[0;34m)\u001b[0m\u001b[0;34m\u001b[0m\u001b[0;34m\u001b[0m\u001b[0m\n\u001b[0;32m--> 166\u001b[0;31m                 \u001b[0mA\u001b[0m\u001b[0;34m,\u001b[0m \u001b[0mLh\u001b[0m\u001b[0;34m,\u001b[0m \u001b[0mE\u001b[0m \u001b[0;34m=\u001b[0m \u001b[0;34m(\u001b[0m\u001b[0mx\u001b[0m\u001b[0;34m.\u001b[0m\u001b[0mcompute\u001b[0m\u001b[0;34m(\u001b[0m\u001b[0;34m)\u001b[0m \u001b[0;32mfor\u001b[0m \u001b[0mx\u001b[0m \u001b[0;32min\u001b[0m \u001b[0mdsvd\u001b[0m\u001b[0;34m)\u001b[0m\u001b[0;34m\u001b[0m\u001b[0;34m\u001b[0m\u001b[0m\n\u001b[0m\u001b[1;32m    167\u001b[0m \u001b[0;34m\u001b[0m\u001b[0m\n\u001b[1;32m    168\u001b[0m                 \u001b[0;31m# Trim the arrays (since Dask doesn't support\u001b[0m\u001b[0;34m\u001b[0m\u001b[0;34m\u001b[0m\u001b[0;34m\u001b[0m\u001b[0m\n",
      "\u001b[0;32m/data/scratch/globc/peatier/conda/lib/python3.7/site-packages/dask/base.py\u001b[0m in \u001b[0;36mcompute\u001b[0;34m(self, **kwargs)\u001b[0m\n\u001b[1;32m    163\u001b[0m         \u001b[0mdask\u001b[0m\u001b[0;34m.\u001b[0m\u001b[0mbase\u001b[0m\u001b[0;34m.\u001b[0m\u001b[0mcompute\u001b[0m\u001b[0;34m\u001b[0m\u001b[0;34m\u001b[0m\u001b[0m\n\u001b[1;32m    164\u001b[0m         \"\"\"\n\u001b[0;32m--> 165\u001b[0;31m         \u001b[0;34m(\u001b[0m\u001b[0mresult\u001b[0m\u001b[0;34m,\u001b[0m\u001b[0;34m)\u001b[0m \u001b[0;34m=\u001b[0m \u001b[0mcompute\u001b[0m\u001b[0;34m(\u001b[0m\u001b[0mself\u001b[0m\u001b[0;34m,\u001b[0m \u001b[0mtraverse\u001b[0m\u001b[0;34m=\u001b[0m\u001b[0;32mFalse\u001b[0m\u001b[0;34m,\u001b[0m \u001b[0;34m**\u001b[0m\u001b[0mkwargs\u001b[0m\u001b[0;34m)\u001b[0m\u001b[0;34m\u001b[0m\u001b[0;34m\u001b[0m\u001b[0m\n\u001b[0m\u001b[1;32m    166\u001b[0m         \u001b[0;32mreturn\u001b[0m \u001b[0mresult\u001b[0m\u001b[0;34m\u001b[0m\u001b[0;34m\u001b[0m\u001b[0m\n\u001b[1;32m    167\u001b[0m \u001b[0;34m\u001b[0m\u001b[0m\n",
      "\u001b[0;32m/data/scratch/globc/peatier/conda/lib/python3.7/site-packages/dask/base.py\u001b[0m in \u001b[0;36mcompute\u001b[0;34m(*args, **kwargs)\u001b[0m\n\u001b[1;32m    434\u001b[0m     \u001b[0mkeys\u001b[0m \u001b[0;34m=\u001b[0m \u001b[0;34m[\u001b[0m\u001b[0mx\u001b[0m\u001b[0;34m.\u001b[0m\u001b[0m__dask_keys__\u001b[0m\u001b[0;34m(\u001b[0m\u001b[0;34m)\u001b[0m \u001b[0;32mfor\u001b[0m \u001b[0mx\u001b[0m \u001b[0;32min\u001b[0m \u001b[0mcollections\u001b[0m\u001b[0;34m]\u001b[0m\u001b[0;34m\u001b[0m\u001b[0;34m\u001b[0m\u001b[0m\n\u001b[1;32m    435\u001b[0m     \u001b[0mpostcomputes\u001b[0m \u001b[0;34m=\u001b[0m \u001b[0;34m[\u001b[0m\u001b[0mx\u001b[0m\u001b[0;34m.\u001b[0m\u001b[0m__dask_postcompute__\u001b[0m\u001b[0;34m(\u001b[0m\u001b[0;34m)\u001b[0m \u001b[0;32mfor\u001b[0m \u001b[0mx\u001b[0m \u001b[0;32min\u001b[0m \u001b[0mcollections\u001b[0m\u001b[0;34m]\u001b[0m\u001b[0;34m\u001b[0m\u001b[0;34m\u001b[0m\u001b[0m\n\u001b[0;32m--> 436\u001b[0;31m     \u001b[0mresults\u001b[0m \u001b[0;34m=\u001b[0m \u001b[0mschedule\u001b[0m\u001b[0;34m(\u001b[0m\u001b[0mdsk\u001b[0m\u001b[0;34m,\u001b[0m \u001b[0mkeys\u001b[0m\u001b[0;34m,\u001b[0m \u001b[0;34m**\u001b[0m\u001b[0mkwargs\u001b[0m\u001b[0;34m)\u001b[0m\u001b[0;34m\u001b[0m\u001b[0;34m\u001b[0m\u001b[0m\n\u001b[0m\u001b[1;32m    437\u001b[0m     \u001b[0;32mreturn\u001b[0m \u001b[0mrepack\u001b[0m\u001b[0;34m(\u001b[0m\u001b[0;34m[\u001b[0m\u001b[0mf\u001b[0m\u001b[0;34m(\u001b[0m\u001b[0mr\u001b[0m\u001b[0;34m,\u001b[0m \u001b[0;34m*\u001b[0m\u001b[0ma\u001b[0m\u001b[0;34m)\u001b[0m \u001b[0;32mfor\u001b[0m \u001b[0mr\u001b[0m\u001b[0;34m,\u001b[0m \u001b[0;34m(\u001b[0m\u001b[0mf\u001b[0m\u001b[0;34m,\u001b[0m \u001b[0ma\u001b[0m\u001b[0;34m)\u001b[0m \u001b[0;32min\u001b[0m \u001b[0mzip\u001b[0m\u001b[0;34m(\u001b[0m\u001b[0mresults\u001b[0m\u001b[0;34m,\u001b[0m \u001b[0mpostcomputes\u001b[0m\u001b[0;34m)\u001b[0m\u001b[0;34m]\u001b[0m\u001b[0;34m)\u001b[0m\u001b[0;34m\u001b[0m\u001b[0;34m\u001b[0m\u001b[0m\n\u001b[1;32m    438\u001b[0m \u001b[0;34m\u001b[0m\u001b[0m\n",
      "\u001b[0;32m/data/scratch/globc/peatier/conda/lib/python3.7/site-packages/dask/threaded.py\u001b[0m in \u001b[0;36mget\u001b[0;34m(dsk, result, cache, num_workers, pool, **kwargs)\u001b[0m\n\u001b[1;32m     79\u001b[0m         \u001b[0mget_id\u001b[0m\u001b[0;34m=\u001b[0m\u001b[0m_thread_get_id\u001b[0m\u001b[0;34m,\u001b[0m\u001b[0;34m\u001b[0m\u001b[0;34m\u001b[0m\u001b[0m\n\u001b[1;32m     80\u001b[0m         \u001b[0mpack_exception\u001b[0m\u001b[0;34m=\u001b[0m\u001b[0mpack_exception\u001b[0m\u001b[0;34m,\u001b[0m\u001b[0;34m\u001b[0m\u001b[0;34m\u001b[0m\u001b[0m\n\u001b[0;32m---> 81\u001b[0;31m         \u001b[0;34m**\u001b[0m\u001b[0mkwargs\u001b[0m\u001b[0;34m\u001b[0m\u001b[0;34m\u001b[0m\u001b[0m\n\u001b[0m\u001b[1;32m     82\u001b[0m     )\n\u001b[1;32m     83\u001b[0m \u001b[0;34m\u001b[0m\u001b[0m\n",
      "\u001b[0;32m/data/scratch/globc/peatier/conda/lib/python3.7/site-packages/dask/local.py\u001b[0m in \u001b[0;36mget_async\u001b[0;34m(apply_async, num_workers, dsk, result, cache, get_id, rerun_exceptions_locally, pack_exception, raise_exception, callbacks, dumps, loads, **kwargs)\u001b[0m\n\u001b[1;32m    473\u001b[0m             \u001b[0;31m# Main loop, wait on tasks to finish, insert new ones\u001b[0m\u001b[0;34m\u001b[0m\u001b[0;34m\u001b[0m\u001b[0;34m\u001b[0m\u001b[0m\n\u001b[1;32m    474\u001b[0m             \u001b[0;32mwhile\u001b[0m \u001b[0mstate\u001b[0m\u001b[0;34m[\u001b[0m\u001b[0;34m\"waiting\"\u001b[0m\u001b[0;34m]\u001b[0m \u001b[0;32mor\u001b[0m \u001b[0mstate\u001b[0m\u001b[0;34m[\u001b[0m\u001b[0;34m\"ready\"\u001b[0m\u001b[0;34m]\u001b[0m \u001b[0;32mor\u001b[0m \u001b[0mstate\u001b[0m\u001b[0;34m[\u001b[0m\u001b[0;34m\"running\"\u001b[0m\u001b[0;34m]\u001b[0m\u001b[0;34m:\u001b[0m\u001b[0;34m\u001b[0m\u001b[0;34m\u001b[0m\u001b[0m\n\u001b[0;32m--> 475\u001b[0;31m                 \u001b[0mkey\u001b[0m\u001b[0;34m,\u001b[0m \u001b[0mres_info\u001b[0m\u001b[0;34m,\u001b[0m \u001b[0mfailed\u001b[0m \u001b[0;34m=\u001b[0m \u001b[0mqueue_get\u001b[0m\u001b[0;34m(\u001b[0m\u001b[0mqueue\u001b[0m\u001b[0;34m)\u001b[0m\u001b[0;34m\u001b[0m\u001b[0;34m\u001b[0m\u001b[0m\n\u001b[0m\u001b[1;32m    476\u001b[0m                 \u001b[0;32mif\u001b[0m \u001b[0mfailed\u001b[0m\u001b[0;34m:\u001b[0m\u001b[0;34m\u001b[0m\u001b[0;34m\u001b[0m\u001b[0m\n\u001b[1;32m    477\u001b[0m                     \u001b[0mexc\u001b[0m\u001b[0;34m,\u001b[0m \u001b[0mtb\u001b[0m \u001b[0;34m=\u001b[0m \u001b[0mloads\u001b[0m\u001b[0;34m(\u001b[0m\u001b[0mres_info\u001b[0m\u001b[0;34m)\u001b[0m\u001b[0;34m\u001b[0m\u001b[0;34m\u001b[0m\u001b[0m\n",
      "\u001b[0;32m/data/scratch/globc/peatier/conda/lib/python3.7/site-packages/dask/local.py\u001b[0m in \u001b[0;36mqueue_get\u001b[0;34m(q)\u001b[0m\n\u001b[1;32m    131\u001b[0m \u001b[0;34m\u001b[0m\u001b[0m\n\u001b[1;32m    132\u001b[0m     \u001b[0;32mdef\u001b[0m \u001b[0mqueue_get\u001b[0m\u001b[0;34m(\u001b[0m\u001b[0mq\u001b[0m\u001b[0;34m)\u001b[0m\u001b[0;34m:\u001b[0m\u001b[0;34m\u001b[0m\u001b[0;34m\u001b[0m\u001b[0m\n\u001b[0;32m--> 133\u001b[0;31m         \u001b[0;32mreturn\u001b[0m \u001b[0mq\u001b[0m\u001b[0;34m.\u001b[0m\u001b[0mget\u001b[0m\u001b[0;34m(\u001b[0m\u001b[0;34m)\u001b[0m\u001b[0;34m\u001b[0m\u001b[0;34m\u001b[0m\u001b[0m\n\u001b[0m\u001b[1;32m    134\u001b[0m \u001b[0;34m\u001b[0m\u001b[0m\n\u001b[1;32m    135\u001b[0m \u001b[0;34m\u001b[0m\u001b[0m\n",
      "\u001b[0;32m/data/scratch/globc/peatier/conda/lib/python3.7/queue.py\u001b[0m in \u001b[0;36mget\u001b[0;34m(self, block, timeout)\u001b[0m\n\u001b[1;32m    168\u001b[0m             \u001b[0;32melif\u001b[0m \u001b[0mtimeout\u001b[0m \u001b[0;32mis\u001b[0m \u001b[0;32mNone\u001b[0m\u001b[0;34m:\u001b[0m\u001b[0;34m\u001b[0m\u001b[0;34m\u001b[0m\u001b[0m\n\u001b[1;32m    169\u001b[0m                 \u001b[0;32mwhile\u001b[0m \u001b[0;32mnot\u001b[0m \u001b[0mself\u001b[0m\u001b[0;34m.\u001b[0m\u001b[0m_qsize\u001b[0m\u001b[0;34m(\u001b[0m\u001b[0;34m)\u001b[0m\u001b[0;34m:\u001b[0m\u001b[0;34m\u001b[0m\u001b[0;34m\u001b[0m\u001b[0m\n\u001b[0;32m--> 170\u001b[0;31m                     \u001b[0mself\u001b[0m\u001b[0;34m.\u001b[0m\u001b[0mnot_empty\u001b[0m\u001b[0;34m.\u001b[0m\u001b[0mwait\u001b[0m\u001b[0;34m(\u001b[0m\u001b[0;34m)\u001b[0m\u001b[0;34m\u001b[0m\u001b[0;34m\u001b[0m\u001b[0m\n\u001b[0m\u001b[1;32m    171\u001b[0m             \u001b[0;32melif\u001b[0m \u001b[0mtimeout\u001b[0m \u001b[0;34m<\u001b[0m \u001b[0;36m0\u001b[0m\u001b[0;34m:\u001b[0m\u001b[0;34m\u001b[0m\u001b[0;34m\u001b[0m\u001b[0m\n\u001b[1;32m    172\u001b[0m                 \u001b[0;32mraise\u001b[0m \u001b[0mValueError\u001b[0m\u001b[0;34m(\u001b[0m\u001b[0;34m\"'timeout' must be a non-negative number\"\u001b[0m\u001b[0;34m)\u001b[0m\u001b[0;34m\u001b[0m\u001b[0;34m\u001b[0m\u001b[0m\n",
      "\u001b[0;32m/data/scratch/globc/peatier/conda/lib/python3.7/threading.py\u001b[0m in \u001b[0;36mwait\u001b[0;34m(self, timeout)\u001b[0m\n\u001b[1;32m    294\u001b[0m         \u001b[0;32mtry\u001b[0m\u001b[0;34m:\u001b[0m    \u001b[0;31m# restore state no matter what (e.g., KeyboardInterrupt)\u001b[0m\u001b[0;34m\u001b[0m\u001b[0;34m\u001b[0m\u001b[0m\n\u001b[1;32m    295\u001b[0m             \u001b[0;32mif\u001b[0m \u001b[0mtimeout\u001b[0m \u001b[0;32mis\u001b[0m \u001b[0;32mNone\u001b[0m\u001b[0;34m:\u001b[0m\u001b[0;34m\u001b[0m\u001b[0;34m\u001b[0m\u001b[0m\n\u001b[0;32m--> 296\u001b[0;31m                 \u001b[0mwaiter\u001b[0m\u001b[0;34m.\u001b[0m\u001b[0macquire\u001b[0m\u001b[0;34m(\u001b[0m\u001b[0;34m)\u001b[0m\u001b[0;34m\u001b[0m\u001b[0;34m\u001b[0m\u001b[0m\n\u001b[0m\u001b[1;32m    297\u001b[0m                 \u001b[0mgotit\u001b[0m \u001b[0;34m=\u001b[0m \u001b[0;32mTrue\u001b[0m\u001b[0;34m\u001b[0m\u001b[0;34m\u001b[0m\u001b[0m\n\u001b[1;32m    298\u001b[0m             \u001b[0;32melse\u001b[0m\u001b[0;34m:\u001b[0m\u001b[0;34m\u001b[0m\u001b[0;34m\u001b[0m\u001b[0m\n",
      "\u001b[0;31mKeyboardInterrupt\u001b[0m: "
     ]
    }
   ],
   "source": [
    "# Create an EOF solver to do the EOF analysis. \n",
    "solver = Eof(anom_w, center=False, weights=None)"
   ]
  },
  {
   "cell_type": "code",
   "execution_count": null,
   "metadata": {},
   "outputs": [],
   "source": [
    "eof = solver.eofsAsCovariance(neofs=100, pcscaling=1)\n",
    "pc = solver.pcs(npcs=100, pcscaling=1)"
   ]
  },
  {
   "cell_type": "code",
   "execution_count": null,
   "metadata": {},
   "outputs": [],
   "source": [
    "varFrac = solver.varianceFraction(neigs=100)\n",
    "#varFrac"
   ]
  },
  {
   "cell_type": "markdown",
   "metadata": {},
   "source": [
    "### Save"
   ]
  },
  {
   "cell_type": "code",
   "execution_count": null,
   "metadata": {},
   "outputs": [],
   "source": [
    "for i in range(0,len(eof),1) : \n",
    "    j = i+1\n",
    "    # EOFmap\n",
    "    EOF_df = eof[i].to_dataframe().drop(labels = 'mode', axis=1)\n",
    "    EOF_df.to_pickle(path_files+\"npy/CNRMppe_decomposition_EOFmap\"+str(j)+\"_\"+str(variable)+\".npy\")"
   ]
  },
  {
   "cell_type": "code",
   "execution_count": null,
   "metadata": {},
   "outputs": [],
   "source": [
    "## --Save the pc_p1 and pc_PPE in a .nc files\n",
    "path_file = path_files+'nc/'\n",
    "filename = 'CNRMppe_decomposition_p1_EOFpc_'+str(variable)+'.nc'\n",
    "pc[0, :].to_netcdf(path=path_file+filename)\n",
    "filename = 'CNRMppe_decomposition_EOFpc_'+str(variable)+'.nc'\n",
    "pc[1:, :].to_netcdf(path=path_file+filename)"
   ]
  },
  {
   "cell_type": "code",
   "execution_count": null,
   "metadata": {},
   "outputs": [],
   "source": [
    "mean_df = mean.to_dataframe(name=str(variable)+'mean').drop(labels = 'height', axis=1)\n",
    "mean_df.to_pickle(path_files+'npy/CNRMppe_decomposition_mean_'+str(variable)+'.npy')"
   ]
  },
  {
   "cell_type": "code",
   "execution_count": null,
   "metadata": {},
   "outputs": [],
   "source": [
    "np.save(path_files+'npy/W_eof_2D_'+str(variable)+'.npy', W_eof_2D)\n",
    "np.save(path_files+'npy/W_eof_3D_'+str(variable)+'.npy', W_eof_3D)\n",
    "np.save(path_files+'npy/W_rmse_2D_'+str(variable)+'.npy', W_rmse_2D)"
   ]
  },
  {
   "cell_type": "markdown",
   "metadata": {},
   "source": [
    "# Compute error"
   ]
  },
  {
   "cell_type": "markdown",
   "metadata": {},
   "source": [
    "### Functions"
   ]
  },
  {
   "cell_type": "code",
   "execution_count": null,
   "metadata": {},
   "outputs": [],
   "source": [
    "def reconstruct_X(eofs_combined, pc, nb_dims) :\n",
    "    X_rec_tmp = np.dot(eofs_combined.transpose(),pc)\n",
    "    if nb_dims == 3 :\n",
    "        X_rec = xr.DataArray(X_rec_tmp, \n",
    "                        dims=[\"lon\", \"lat\", \"time\"]).transpose('time', 'lat', 'lon')\n",
    "    if nb_dims == 2 :\n",
    "        X_rec = xr.DataArray(X_rec_tmp, \n",
    "                        dims=[\"lon\", \"lat\"]).transpose('lat', 'lon')\n",
    "    \n",
    "    X_rec['lat'] = eofs_combined['lat']\n",
    "    X_rec['lon'] = eofs_combined['lon']\n",
    "    return X_rec"
   ]
  },
  {
   "cell_type": "code",
   "execution_count": null,
   "metadata": {},
   "outputs": [],
   "source": [
    "def MSE_rec(rec_anom_mod_w, rec_anom_obs_w, Mean, W_rmse_2D) :\n",
    "    mod = rec_anom_mod_w/W_eof_2D + Mean\n",
    "    obs = rec_anom_obs_w/W_eof_2D + Mean\n",
    "    diff = MSE(mod, obs, W_rmse_2D)\n",
    "    return diff"
   ]
  },
  {
   "cell_type": "code",
   "execution_count": null,
   "metadata": {},
   "outputs": [],
   "source": [
    "## --Get the pc_PPE\n",
    "path_file = path_files+'nc/'\n",
    "filename = 'CNRMppe_decomposition_EOFpc_'+str(variable)+'.nc'\n",
    "pc_PPE = xr.open_dataset(path_file+filename)\n",
    "EOF_nb=3\n",
    "pc_PPE_trunc = pc_PPE['pcs'][:,(EOF_nb-1)]\n",
    "pc_PPE_trunc"
   ]
  },
  {
   "cell_type": "markdown",
   "metadata": {},
   "source": [
    "### Emulation and optimization"
   ]
  },
  {
   "cell_type": "code",
   "execution_count": null,
   "metadata": {},
   "outputs": [],
   "source": [
    "def MultiLinReg_pred(x, EOF_nb, variable) :\n",
    "    \n",
    "    ## --Get the pc_PPE\n",
    "    path_file = path_files+'nc/'\n",
    "    filename = 'CNRMppe_decomposition_EOFpc_'+str(variable)+'.nc'\n",
    "    pc_PPE = xr.open_dataset(path_file+filename)\n",
    "    pc_PPE['pcs'][:,(EOF_nb-1)]\n",
    "\n",
    "    X = np.load(file=path_file_npy+\"/X_EmulateurFeedbacksN.npy\")\n",
    "    y = pc_PPE['pcs'][:,(EOF_nb-1)]\n",
    "    param_names = np.load(file=path_file_npy+\"/LHS_paramNames.npy\", allow_pickle=True)\n",
    "    \n",
    "    # Let's use the model equation : \n",
    "\n",
    "    X_df = pd.DataFrame(data=X)\n",
    "    regr = linear_model.LinearRegression()\n",
    "    regr.fit(X, y)\n",
    "    R = regr.intercept_\n",
    "    Coeffs = pd.DataFrame([regr.coef_]*30, columns=param_names).iloc[0]\n",
    "\n",
    "    np.save(path_file_npy+'/Beta'+str(EOF_nb)+'.npy', Coeffs)\n",
    "    np.save(path_file_npy+'/R'+str(EOF_nb)+'.npy', R)\n",
    "    \n",
    "    tmp = Coeffs.values*x\n",
    "    y_pred = tmp.sum()+R\n",
    "    \n",
    "    return y_pred"
   ]
  },
  {
   "cell_type": "code",
   "execution_count": null,
   "metadata": {},
   "outputs": [],
   "source": [
    "## --Full function predict PC from x + reconstruct 3D field + compute partial RMSE\n",
    "\n",
    "def function_MSE_emulator_std(x, variable, eofs_combined, X_rec_obs, Mean, \n",
    "                               W_eof_2D, W_rmse_2D, nb_modes): \n",
    "    pc=[]\n",
    "    for i in range(1,(nb_modes+1),1) :\n",
    "        tmp = MultiLinReg_pred(x, i, variable)\n",
    "        pc.append(tmp)\n",
    "    \n",
    "    X_rec_mod = reconstruct_X(eofs_combined, pc, nb_dims=2)\n",
    "    \n",
    "    E = MSE_rec(X_rec_mod, X_rec_obs, Mean, W_rmse_2D)\n",
    "    \n",
    "    return E\n",
    "\n",
    "def function_MSE_emulator(x, variable, eofs_combined, X_rec_obs, Mean, W_eof_2D, \n",
    "                           W_rmse_2D, nb_modes): \n",
    "    MEAN = np.load(path_file_npy+'/LHS100000_mean.npy')\n",
    "    STD = np.load(path_file_npy+'/LHS100000_std.npy')\n",
    "    \n",
    "    toto = x - MEAN\n",
    "    x_std = toto/STD\n",
    "    \n",
    "    E = function_MSE_emulator_std(x_std, variable, eofs_combined, \n",
    "                                   X_rec_obs, Mean, W_eof_2D, W_rmse_2D, nb_modes)\n",
    "    return float(E)"
   ]
  },
  {
   "cell_type": "code",
   "execution_count": null,
   "metadata": {},
   "outputs": [],
   "source": [
    "# -- FONCTION JACOBIAN RMSE\n",
    "\n",
    "def jacobian_RMSE(x, variable, eofs_combined, X_rec_obs, Mean, W_eof_2D, W_rmse_2D, nb_modes) :\n",
    "    \n",
    "    ## -- Data\n",
    "      \n",
    "    MEAN = np.load(path_file_npy+'/LHS100000_mean.npy')\n",
    "    STD = np.load(path_file_npy+'/LHS100000_std.npy')\n",
    "    \n",
    "    nb_dims = 2 \n",
    "    \n",
    "    ## -- A = RMSE_rec\n",
    "    A = function_RMSE_emulator(x, variable, eofs_combined, X_rec_obs, Mean, W_eof_2D, \n",
    "                               W_rmse_2D, nb_modes)\n",
    "    #print(A)\n",
    "    ## -- B = Sigma(2*(X_mod - X_rec_obs))\n",
    "    toto = x - MEAN\n",
    "    x_std = toto/STD\n",
    "    \n",
    "    pc=[]\n",
    "    for i in range(1,(nb_modes+1),1) :\n",
    "        tmp = MultiLinReg_pred(x, i, variable)\n",
    "        pc.append(tmp)\n",
    "        \n",
    "    X_mod = reconstruct_X(eofs_combined, pc, nb_dims)\n",
    "    \n",
    "    add = X_mod - X_rec_obs\n",
    "    tmp = 2*eofs_combined*add\n",
    "    B = tmp.sum(['lat', 'lon'])\n",
    "    \n",
    "    ## C = Beta*eofs_combined\n",
    "    pc_beta = []\n",
    "    for i in range(1,(nb_modes+1),1) :\n",
    "        tmp = np.load(path_file_npy+'/Beta'+str(i)+'.npy')\n",
    "        pc_beta.append(tmp)\n",
    "    C = xr.DataArray(pc_beta, dims = ['eofs', 'param']).transpose()\n",
    "    \n",
    "    ## -- jac = 1/(2*A) * B * C\n",
    "    tmp1 = 1/(2*float(A)) \n",
    "    tmp2 = np.dot(C, B)\n",
    "    jac = np.dot(tmp1, tmp2)\n",
    "    \n",
    "    return jac"
   ]
  },
  {
   "cell_type": "code",
   "execution_count": null,
   "metadata": {},
   "outputs": [],
   "source": [
    "# -- FONCTION JACOBIAN MSE\n",
    "\n",
    "def jacobian_MSE(x, variable, eofs_combined, X_rec_obs, Mean, W_eof_2D, W_rmse_2D, nb_modes) :\n",
    "    \n",
    "    ## -- Data\n",
    "      \n",
    "    MEAN = np.load(path_file_npy+'/LHS100000_mean.npy')\n",
    "    STD = np.load(path_file_npy+'/LHS100000_std.npy')\n",
    "    \n",
    "    nb_dims = 2 \n",
    "    \n",
    "    ## -- A = RMSE_rec\n",
    "    #A = function_RMSE_emulator(x, variable, eofs_combined, X_rec_obs, Mean, W_eof_2D, \n",
    "    #                           W_rmse_2D, nb_modes)\n",
    "    #print(A)\n",
    "    ## -- B = Sigma(2*(X_mod - X_rec_obs))\n",
    "    toto = x - MEAN\n",
    "    x_std = toto/STD\n",
    "    \n",
    "    pc=[]\n",
    "    for i in range(1,(nb_modes+1),1) :\n",
    "        tmp = MultiLinReg_pred(x, i, variable)\n",
    "        pc.append(tmp)\n",
    "        \n",
    "    X_mod = reconstruct_X(eofs_combined, pc, nb_dims)\n",
    "    \n",
    "    add = X_mod - X_rec_obs\n",
    "    tmp = 2*eofs_combined*add\n",
    "    B = tmp.sum(['lat', 'lon'])\n",
    "    \n",
    "    ## C = Beta*eofs_combined\n",
    "    pc_beta = []\n",
    "    for i in range(1,(nb_modes+1),1) :\n",
    "        tmp = np.load(path_file_npy+'/Beta'+str(i)+'.npy')\n",
    "        pc_beta.append(tmp)\n",
    "    C = xr.DataArray(pc_beta, dims = ['eofs', 'param']).transpose()\n",
    "    \n",
    "    ## -- jac = 1/(2*A) * B * C\n",
    "    #tmp1 = 1/(2*float(A)) \n",
    "    tmp2 = np.dot(C, B)\n",
    "    #jac = np.dot(tmp1, tmp2)\n",
    "    jac=tmp2\n",
    "    \n",
    "    return jac"
   ]
  },
  {
   "cell_type": "code",
   "execution_count": null,
   "metadata": {},
   "outputs": [],
   "source": [
    "## --Functions optimization\n",
    "\n",
    "def Optimization(x_best, ind, xlim, variable, eofs_combined, X_rec_obs, \n",
    "                 Mean, W_eof_2D, W_rmse_2D, nb_modes) :\n",
    "    \n",
    "    sol_list=[]\n",
    "    sol_fdbck=[]\n",
    "    sol_x=[]\n",
    "    cpt=0\n",
    "    \n",
    "    fun_x0 = function_MSE_emulator(x0, variable, eofs_combined, X_rec_obs, \n",
    "                                        Mean, W_eof_2D, W_rmse_2D, nb_modes)\n",
    "    print('fun_x0 = '+str(fun_x0))\n",
    "  \n",
    "    sol = minimize(function_MSE_emulator,  x0, \n",
    "                    args=(variable, eofs_combined, X_rec_obs, Mean, W_eof_2D, \n",
    "                          W_rmse_2D, nb_modes), \n",
    "                    method='SLSQP', jac = jacobian_MSE,\n",
    "                    bounds=xlim, \n",
    "                    options={'disp': True, 'ftol' : 0.001, 'maxiter' : 100})    \n",
    "    \n",
    "    fun_x = function_MSE_emulator(sol.x, variable, eofs_combined, X_rec_obs, \n",
    "                                         Mean, W_eof_2D, W_rmse_2D, nb_modes)\n",
    "    \n",
    "    return fun_x"
   ]
  },
  {
   "cell_type": "markdown",
   "metadata": {},
   "source": [
    "### Initial guess for Optimization 1"
   ]
  },
  {
   "cell_type": "code",
   "execution_count": null,
   "metadata": {},
   "outputs": [],
   "source": [
    "path_file_csv = \"/data/home/globc/peatier/CNRMppe/PPE/ENSEMBLE2/files/csv\"\n",
    "param = pd.read_csv(path_file_csv+\"/param.csv\",sep=' ', header=None)\n",
    "param_int = param.set_index(0).transpose()\n",
    "param_names = param[0]\n",
    "#param_names"
   ]
  },
  {
   "cell_type": "code",
   "execution_count": null,
   "metadata": {},
   "outputs": [],
   "source": [
    "# READ FROM ROMAIN REF NAMELIST \n",
    "p1_params = {}\n",
    "p1_params['AKN'] = 0.16997374320907874\n",
    "p1_params['ALPHAT'] = 1.7500958814177299\n",
    "p1_params['ALD'] = 1.750291056519555\n",
    "p1_params['ALMAVE'] = 15.00068477221974\n",
    "p1_params['AGREF'] = -0.036\n",
    "p1_params['AGRE1'] = 5.5\n",
    "p1_params['AGRE2'] = 0.0\n",
    "p1_params['RAUTEFR'] = 0.001\n",
    "p1_params['RQLCR'] = 0.0005249804129062814\n",
    "p1_params['RAUTEFS'] = 0.0052\n",
    "p1_params['RQICRMIN'] = 0.0000001\n",
    "p1_params['RQICRMAX'] = 0.000021\n",
    "p1_params['TFVL'] = 0.02\n",
    "p1_params['TFVI'] = 0.04\n",
    "p1_params['TFVR'] = 3.0\n",
    "p1_params['TFVS'] = 0.6\n",
    "p1_params['RKDN'] = 0.00005\n",
    "p1_params['RKDX'] = 0.0001\n",
    "p1_params['TENTR'] = 0.000004\n",
    "p1_params['TENTRX'] = 0.000057\n",
    "p1_params['VVN'] = -2.0\n",
    "p1_params['VVX'] = -35.0\n",
    "p1_params['ALFX'] = 0.04\n",
    "p1_params['FNEBC'] = 10.0\n",
    "p1_params['GCTURB'] = 0.00005\n",
    "p1_params['RLWINHF_ICE'] = 0.9\n",
    "p1_params['RLWINHF_LIQ'] = 0.9\n",
    "p1_params['RSWINHF_ICE'] = 0.71\n",
    "p1_params['RSWINHF_LIQ'] = 0.71\n",
    "p1_params['REFLCAPE'] = 2.0\n",
    "\n",
    "p1_params_list = []\n",
    "for i in param_names : \n",
    "    tmp = p1_params[i]\n",
    "    p1_params_list.append(tmp)\n",
    "\n",
    "## Save data p1 params\n",
    "np.save('/data/home/globc/peatier/CNRMppe/PPE/ENSEMBLE2/files/npy/p1_params.npy', p1_params_list)"
   ]
  },
  {
   "cell_type": "code",
   "execution_count": null,
   "metadata": {},
   "outputs": [],
   "source": [
    "x0 = p1_params_list\n",
    "#x0"
   ]
  },
  {
   "cell_type": "code",
   "execution_count": null,
   "metadata": {
    "scrolled": true
   },
   "outputs": [],
   "source": [
    "param = pd.read_csv(path_file_csv+\"/param.csv\",sep=' ', header=None)\n",
    "param_int = param.set_index(0).transpose()\n",
    "param_names = param[0]\n",
    "\n",
    "N=len(param_names)\n",
    "xlimits=[[1,1]]*N\n",
    "i=0\n",
    "while i<N:\n",
    "    name = param_names[i]\n",
    "    xmin = param_int[name].iloc[0]\n",
    "    xmax = param_int[name].iloc[1]\n",
    "    if xmin<xmax:\n",
    "        limit = [xmin, xmax]\n",
    "    else:\n",
    "        limit = [xmax, xmin]\n",
    "    xlimits[i] = limit\n",
    "    i+=1\n",
    "    \n",
    "xlim = np.array(xlimits)\n",
    "#xlim"
   ]
  },
  {
   "cell_type": "markdown",
   "metadata": {},
   "source": [
    "# Loop over 1 to 100 modes considered"
   ]
  },
  {
   "cell_type": "code",
   "execution_count": null,
   "metadata": {},
   "outputs": [],
   "source": [
    "path_file = path_files+'npy/'\n",
    "filename = 'CNRMppe_decomposition_mean_'+str(variable)+'.npy'\n",
    "Mean =  pd.read_pickle(path_file+filename).to_xarray().to_array()\n",
    "Mean = Mean[0,:,:].rename({'variable':'mode'})"
   ]
  },
  {
   "cell_type": "markdown",
   "metadata": {},
   "source": [
    "### Evolution of errors depending on EOF modes number"
   ]
  },
  {
   "cell_type": "code",
   "execution_count": null,
   "metadata": {},
   "outputs": [],
   "source": [
    "## --Get the pc_PPE\n",
    "path_file = path_files+'nc/'\n",
    "filename = 'CNRMppe_decomposition_EOFpc_'+str(variable)+'.nc'\n",
    "pc_PPE = xr.open_dataset(path_file+filename)\n",
    "\n",
    "## --Get the pc_pred \n",
    "#path_file = path_files+'nc/'\n",
    "#filename = 'CNRMppe_decomposition_EOFpc_pred_test_'+str(variable)+'.nc'\n",
    "#pc_pred = xr.open_dataset(path_file+filename)\n",
    "\n",
    "df_PPE = pd.DataFrame(ej_list, columns=['e'])\n",
    "#df_pred = pd.DataFrame(ej_list[80:], columns=['e'])\n",
    "df_GMMIP = pd.DataFrame()"
   ]
  },
  {
   "cell_type": "code",
   "execution_count": null,
   "metadata": {
    "scrolled": true
   },
   "outputs": [],
   "source": [
    "p_mean_PPE = []\n",
    "p_std_PPE = []\n",
    "\n",
    "p_mean_GMMIP = []\n",
    "p_std_GMMIP = []\n",
    "\n",
    "p_p1 = []\n",
    "\n",
    "u_mean = []\n",
    "u_std = []\n",
    "\n",
    "eta = []\n",
    "\n",
    "delta_mean =[]\n",
    "delta_std = []\n",
    "\n",
    "for i in range(2,101,1) :\n",
    "    print(i)\n",
    "    ## --Get the data\n",
    "    eofs=[]\n",
    "    for j in range(1,i+1,1) :\n",
    "        ## --Get the eofs\n",
    "        eof_tmp = pd.read_pickle(path_files+\"npy/CNRMppe_decomposition_EOFmap\"+str(j)+\"_\"+str(variable)+\".npy\").to_xarray().to_array()\n",
    "        eof_tmp = eof_tmp[0,:,:].rename({'variable':'mode'})\n",
    "        eofs.append(eof_tmp)\n",
    "        \n",
    "    ## --Combine the modes for reconstruction\n",
    "    eofs_combined = xr.combine_nested(eofs, concat_dim='eofs')\n",
    "    \n",
    "    ## --Get and reconstruct the pc_PPE\n",
    "    pc_PPE_trunc = pc_PPE['pcs'][:,0:i]\n",
    "    X_PPE_rec = reconstruct_X(eofs_combined, pc=pc_PPE_trunc.transpose(), nb_dims=3)\n",
    "    \n",
    "    ## --Project and reconstruct the observations\n",
    "    U_obs = solver.projectField(X_obs_w, neofs=i, weighted=False, eofscaling=1)\n",
    "    X_obs_rec = reconstruct_X(eofs_combined, pc=U_obs, nb_dims=2)\n",
    "    \n",
    "    ## --Project and reconstruct the GMMIP data\n",
    "    U_GMMIP = solver.projectField(X_GMMIP_w, neofs=i, weighted=False, eofscaling=1)\n",
    "    X_GMMIP_rec = reconstruct_X(eofs_combined, pc=U_GMMIP.transpose(), nb_dims=3)\n",
    "    \n",
    "    ## --Project and reconstruct p1\n",
    "    U_p1 = solver.projectField(p1_amip_w, neofs=i, weighted=False, eofscaling=1)\n",
    "    X_p1_rec = reconstruct_X(eofs_combined, pc=U_p1, nb_dims=2)\n",
    "    \n",
    "    ## --Compute reconstructed RMSE r\n",
    "    p_PPE = MSE_rec(X_PPE_rec, X_obs_rec, Mean, W_rmse_2D)\n",
    "    p_GMMIP = MSE_rec(X_GMMIP_rec, X_obs_rec, Mean, W_rmse_2D)\n",
    "    p_p1_tmp = MSE_rec(X_p1_rec, X_obs_rec, Mean, W_rmse_2D)\n",
    "      \n",
    "    ## -- Optimization \n",
    "    #sol_fun = Optimization(x0, 0.001, xlim, variable, eofs_combined, X_obs_rec, \n",
    "    #                  Mean, W_eof_2D, W_rmse_2D, nb_modes=i)\n",
    "     \n",
    "    ## --Build DataFrame and compute means and standard deviations \n",
    "    \n",
    "    ### -- Parametric\n",
    "    df_PPE['p_'+str(i)] = p_PPE\n",
    "    p_mean_PPE_tmp = df_PPE['p_'+str(i)].mean()\n",
    "    p_std_PPE_tmp = df_PPE['p_'+str(i)].std()\n",
    "    p_mean_PPE.append(p_mean_PPE_tmp)\n",
    "    p_std_PPE.append(p_std_PPE_tmp)\n",
    "    ## --p1\n",
    "    p_p1.append(p_p1_tmp)\n",
    "    ## --eta\n",
    "    #df_PPE['eta_'+str(i)] = sol_fun\n",
    "    #eta_tmp = df_PPE['eta_'+str(i)].mean()\n",
    "    #eta.append(eta_tmp)\n",
    "    \n",
    "    df_GMMIP['p_'+str(i)] = p_GMMIP\n",
    "    p_mean_GMMIP_tmp = df_GMMIP['p_'+str(i)].mean()\n",
    "    p_std_GMMIP_tmp = df_GMMIP['p_'+str(i)].std()\n",
    "    p_mean_GMMIP.append(p_mean_GMMIP_tmp)\n",
    "    p_std_GMMIP.append(p_std_GMMIP_tmp)\n",
    "    \n",
    "    ### -- Non-parametric\n",
    "    df_PPE['u_'+str(i)] = df_PPE['e'] - df_PPE['p_'+str(i)]\n",
    "    u_mean_tmp = df_PPE['u_'+str(i)].mean()\n",
    "    u_std_tmp = df_PPE['u_'+str(i)].std()\n",
    "    u_mean.append(u_mean_tmp)\n",
    "    u_std.append(u_std_tmp)\n",
    "    ## --delta\n",
    "    #df_PPE['delta_'+str(i)] =  df_PPE['p_'+str(i)] - df_PPE['eta_'+str(i)]\n",
    "    #delta_mean_tmp = df_PPE['delta_'+str(i)].mean()\n",
    "    #delta_std_tmp = df_PPE['delta_'+str(i)].std()\n",
    "    #delta_mean.append(delta_mean_tmp)\n",
    "    #delta_std.append(delta_std_tmp)\n",
    "    \n",
    "    "
   ]
  },
  {
   "cell_type": "markdown",
   "metadata": {},
   "source": [
    "### Build DataFrame for Figure"
   ]
  },
  {
   "cell_type": "code",
   "execution_count": null,
   "metadata": {},
   "outputs": [],
   "source": [
    "p_p1_list = []\n",
    "for i in p_p1 : \n",
    "    tmp = float(i)\n",
    "    p_p1_list.append(tmp)\n",
    "#p_p1_list"
   ]
  },
  {
   "cell_type": "code",
   "execution_count": null,
   "metadata": {},
   "outputs": [],
   "source": [
    "## --Mean and std of full RMSE \n",
    "ej_mean = df_PPE['e'].mean()\n",
    "ej_std = df_PPE['e'].std()\n",
    "\n",
    "## --Build DataFrame for figure\n",
    "df_fig = pd.DataFrame(p_mean_PPE, columns=['p_mean_PPE'])\n",
    "df_fig['p_std_PPE'] = p_std_PPE\n",
    "df_fig['u_mean_PPE'] = u_mean\n",
    "df_fig['u_std_PPE'] = u_std\n",
    "#df_fig['eta_mean_PPE'] = eta\n",
    "#df_fig['e_optim'] = df_fig['eta_mean_PPE'] + df_fig['u_mean_PPE']\n",
    "#df_fig['delta_mean_PPE'] = delta_mean\n",
    "#df_fig['delta_std_PPE'] = delta_std\n",
    "\n",
    "df_fig['p_p1'] = p_p1_list\n",
    "\n",
    "df_fig['p_mean_GMMIP'] = p_mean_GMMIP\n",
    "df_fig['p_std_GMMIP'] = p_std_GMMIP\n",
    "\n",
    "\n",
    "df_fig['modes'] = range(2,101,1)\n",
    "df_fig"
   ]
  },
  {
   "cell_type": "code",
   "execution_count": null,
   "metadata": {},
   "outputs": [],
   "source": [
    "## --Ratio of full error in PPE \n",
    "ratio_ej_mean = (ej_mean/ej_mean)*100\n",
    "ratio_ej_std = (ej_std/ej_mean)*100\n",
    "\n",
    "df_fig['ratio_ej_mean'] = [ratio_ej_mean]*99\n",
    "df_fig['ratio_ej_std'] = [ratio_ej_std]*99\n",
    "\n",
    "df_fig['ej_mean'] = [ej_mean]*99\n",
    "df_fig['ej_std'] = [ej_std]*99\n",
    "\n",
    "df_fig['ratio_p_mean'] = (df_fig['p_mean_PPE']/ej_mean)*100\n",
    "df_fig['ratio_p_std'] = (df_fig['p_std_PPE']/ej_mean)*100\n",
    "\n",
    "df_fig['ratio_p_mean_GMMIP'] = (df_fig['p_mean_GMMIP']/ej_mean)*100\n",
    "df_fig['ratio_p_std_GMMIP'] = (df_fig['p_std_GMMIP']/ej_mean)*100\n",
    "\n",
    "df_fig['ratio_u_mean'] = (df_fig['u_mean_PPE']/ej_mean)*100\n",
    "df_fig['ratio_u_std'] = (df_fig['u_std_PPE']/ej_mean)*100\n",
    "\n",
    "#df_fig['ratio_eta'] = (df_fig['eta_mean_PPE']/ej_mean)*100\n",
    "#df_fig['ratio_e_optim'] = (df_fig['e_optim']/ej_mean)*100\n",
    "\n",
    "#df_fig['ratio_delta_mean'] = (df_fig['delta_mean_PPE']/ej_mean)*100\n",
    "#df_fig['ratio_delta_std'] = (df_fig['delta_std_PPE']/ej_mean)*100\n",
    "\n",
    "df_fig['ratio_p_p1'] = (df_fig['p_p1']/ej_mean)*100\n",
    "df_fig"
   ]
  },
  {
   "cell_type": "markdown",
   "metadata": {},
   "source": [
    "# Figure"
   ]
  },
  {
   "cell_type": "code",
   "execution_count": 6,
   "metadata": {},
   "outputs": [
    {
     "data": {
      "text/plain": [
       "80.13350617515684"
      ]
     },
     "execution_count": 6,
     "metadata": {},
     "output_type": "execute_result"
    }
   ],
   "source": [
    "df_fig = load(path_files+'npy/Error_decomposition_df_'+variable+'.npy', allow_pickle=True)\n",
    "df_fig['ratio_p_mean'][28]"
   ]
  },
  {
   "cell_type": "code",
   "execution_count": 41,
   "metadata": {},
   "outputs": [
    {
     "data": {
      "image/png": "[encoded data removed]",
      "text/plain": [
       "<Figure size 864x576 with 1 Axes>"
      ]
     },
     "metadata": {
      "needs_background": "light"
     },
     "output_type": "display_data"
    }
   ],
   "source": [
    "plt.figure(figsize=(12, 8))\n",
    "ax = plt.gca()\n",
    "\n",
    "## --------- PPE simulations, full error e :\n",
    "df_fig.plot(kind='line', x='modes', y='ratio_ej_mean', color = 'forestgreen', \n",
    "            alpha=0.5, linewidth=2.5, ax=ax)\n",
    "xfit = df_fig['modes']\n",
    "yfit = df_fig['ratio_ej_mean']\n",
    "dyfit = df_fig['ratio_ej_std']#/2\n",
    "plt.fill_between(xfit, yfit - dyfit, yfit + dyfit, color='forestgreen', alpha=0.1)\n",
    "\n",
    "## --------- PPE simulations, param. p :\n",
    "df_fig.plot(kind='line', x='modes', y='ratio_p_mean', color = 'navy', \n",
    "            alpha=0.5, linewidth=2.5, ax=ax)\n",
    "xfit = df_fig['modes']\n",
    "yfit = df_fig['ratio_p_mean']\n",
    "dyfit = df_fig['ratio_p_std']#/2\n",
    "plt.fill_between(xfit, yfit - dyfit, yfit + dyfit, color='navy', alpha=0.2)\n",
    "## --------- PPE simulations, non-param. u :\n",
    "df_fig.plot(kind='line', x='modes', y='ratio_u_mean', color = 'teal', \n",
    "            alpha=0.5, linewidth=2.5, ax=ax)\n",
    "xfit = df_fig['modes']\n",
    "yfit = df_fig['ratio_u_mean']\n",
    "dyfit = df_fig['ratio_u_std']#/2\n",
    "plt.fill_between(xfit, yfit - dyfit, yfit + dyfit, color='teal', alpha=0.5)\n",
    "## --------- PPE simulations, p1 :\n",
    "df_fig.plot(kind='line', x='modes', y='ratio_p_p1', linestyle = 'dashed', \n",
    "            color = 'black', alpha=1, linewidth=2.5, ax=ax)\n",
    "## --------- Optim, eta :\n",
    "#df_fig.plot(kind='line', x='modes', y='ratio_eta', linestyle = 'dashed', \n",
    "#            color = 'red', alpha=0.7, linewidth=2.5, ax=ax)\n",
    "## --------- Optim, e :\n",
    "#df_fig.plot(kind='line', x='modes', y='ratio_e_optim', linestyle = 'solid', \n",
    "#            color = 'black', alpha=1, linewidth=2.5, ax=ax)\n",
    "## --------- Optim, delta :\n",
    "#df_fig.plot(kind='line', x='modes', y='ratio_delta_mean', color = 'brown', \n",
    "#            alpha=0.7, linewidth=3, ax=ax)\n",
    "#xfit = df_fig['modes']\n",
    "#yfit = df_fig['ratio_delta_mean']\n",
    "#dyfit = df_fig['ratio_delta_std']#/2\n",
    "#plt.fill_between(xfit, yfit - dyfit, yfit + dyfit, color='brown', alpha=0.1)\n",
    "\n",
    "## --------- GMMIP dataset :\n",
    "df_fig.plot(kind='line', x='modes', y='ratio_p_mean_GMMIP', color = 'orange', \n",
    "            alpha=0.5, linewidth=2.5, ax=ax)\n",
    "xfit = df_fig['modes']\n",
    "yfit = df_fig['ratio_p_mean_GMMIP']\n",
    "dyfit = df_fig['ratio_p_std_GMMIP']#/2\n",
    "plt.fill_between(xfit, yfit - dyfit, yfit + dyfit, color='orange', alpha=0.3)\n",
    "\n",
    "## ----- Truncation\n",
    "ax.axvline(28, color='black')\n",
    "\n",
    "## ----- Graphisme / Legend\n",
    "ax.set_ylim(-120, 200)\n",
    "ax.set_xlabel('EOF modes retained', size = 25)\n",
    "ax.set_ylabel('Error components % \\n compared to the full error $e_{SW}(\\\\theta_i)$', size = 25)\n",
    "ax.set_title('TOA Short Wave fluxes ($W.m^{-2}.K^{-1}$)', fontsize=25)\n",
    "#ax.set_xscale('log')\n",
    "ax.tick_params(axis='y', which='both', labelsize=20)\n",
    "ax.tick_params(axis='x', which='both', labelsize=20)\n",
    "ax.yaxis.get_major_ticks()[0].label1.set_visible(False)\n",
    "\n",
    "\n",
    "\n",
    "# Legend .................\n",
    "\n",
    "legend = [ 'Full error $e_{SW}(\\\\theta_i)$',\n",
    "          'Param. error $p_{SW}(\\\\theta _i)$',\n",
    "          'Non-param. error $u_{SW}$', \n",
    "          'Ref. param. error $p_{SW}(\\\\theta_0)$', \n",
    "          #'Optim. param. error $p_{pr}(\\\\hat{\\\\theta})$',\n",
    "          #'Delta [PPE - optim] $p_{\\delta}(\\\\theta_i)$',\n",
    "          'Param. error GMMIP',\n",
    "          '$q=28$ - Truncation example']\n",
    "ax.get_legend().remove()\n",
    "ax.legend(legend, fontsize=16, loc='lower right')#bbox_to_anchor=(1.05, 1)    , bbox_to_anchor=(1.65, 0.83)\n",
    "#fig.subplots_adjust(right=0.8)\n",
    "\n",
    "# Grid .................\n",
    "#ax.grid(True, which=\"both\", axis='x')\n",
    "\n",
    "# Save la figure .................\n",
    "plt.savefig(\"/data/home/globc/peatier/figures/Decompo_error_\"+variable+\".png\", \n",
    "            orientation='portrait', bbox_inches='tight', pad_inches=0.1)\n",
    "\n",
    "# Show la figure .................\n",
    "plt.show()"
   ]
  },
  {
   "cell_type": "code",
   "execution_count": null,
   "metadata": {},
   "outputs": [],
   "source": [
    "## -- SAVE : \n",
    "df_fig.to_pickle(path_files+'npy/Error_decomposition_df_'+variable+'.npy')"
   ]
  },
  {
   "cell_type": "markdown",
   "metadata": {},
   "source": [
    "# Tests on the sum of the components"
   ]
  },
  {
   "cell_type": "code",
   "execution_count": 6,
   "metadata": {},
   "outputs": [
    {
     "data": {
      "text/html": [
       "<div>\n",
       "<style scoped>\n",
       "    .dataframe tbody tr th:only-of-type {\n",
       "        vertical-align: middle;\n",
       "    }\n",
       "\n",
       "    .dataframe tbody tr th {\n",
       "        vertical-align: top;\n",
       "    }\n",
       "\n",
       "    .dataframe thead th {\n",
       "        text-align: right;\n",
       "    }\n",
       "</style>\n",
       "<table border=\"1\" class=\"dataframe\">\n",
       "  <thead>\n",
       "    <tr style=\"text-align: right;\">\n",
       "      <th></th>\n",
       "      <th>p_mean_PPE</th>\n",
       "      <th>p_std_PPE</th>\n",
       "      <th>u_mean_PPE</th>\n",
       "      <th>u_std_PPE</th>\n",
       "      <th>eta_mean_PPE</th>\n",
       "      <th>e_optim</th>\n",
       "      <th>delta_mean_PPE</th>\n",
       "      <th>delta_std_PPE</th>\n",
       "      <th>p_p1</th>\n",
       "      <th>p_mean_GMMIP</th>\n",
       "      <th>...</th>\n",
       "      <th>ratio_p_std_GMMIP</th>\n",
       "      <th>ratio_u_mean</th>\n",
       "      <th>ratio_u_std</th>\n",
       "      <th>ratio_eta</th>\n",
       "      <th>ratio_e_optim</th>\n",
       "      <th>ratio_delta_mean</th>\n",
       "      <th>ratio_delta_std</th>\n",
       "      <th>ratio_p_p1</th>\n",
       "      <th>ej_mean</th>\n",
       "      <th>ej_std</th>\n",
       "    </tr>\n",
       "  </thead>\n",
       "  <tbody>\n",
       "    <tr>\n",
       "      <th>0</th>\n",
       "      <td>0.737982</td>\n",
       "      <td>0.775185</td>\n",
       "      <td>1.854433</td>\n",
       "      <td>0.250425</td>\n",
       "      <td>0.391054</td>\n",
       "      <td>2.245487</td>\n",
       "      <td>0.346927</td>\n",
       "      <td>0.775185</td>\n",
       "      <td>0.414253</td>\n",
       "      <td>0.368330</td>\n",
       "      <td>...</td>\n",
       "      <td>1.892347</td>\n",
       "      <td>71.533039</td>\n",
       "      <td>9.659903</td>\n",
       "      <td>15.084561</td>\n",
       "      <td>86.617600</td>\n",
       "      <td>13.382400</td>\n",
       "      <td>29.902064</td>\n",
       "      <td>15.979417</td>\n",
       "      <td>2.592414</td>\n",
       "      <td>0.805136</td>\n",
       "    </tr>\n",
       "    <tr>\n",
       "      <th>1</th>\n",
       "      <td>0.914878</td>\n",
       "      <td>0.785260</td>\n",
       "      <td>1.677536</td>\n",
       "      <td>0.192878</td>\n",
       "      <td>0.401808</td>\n",
       "      <td>2.079344</td>\n",
       "      <td>0.513070</td>\n",
       "      <td>0.785260</td>\n",
       "      <td>0.442127</td>\n",
       "      <td>0.406123</td>\n",
       "      <td>...</td>\n",
       "      <td>1.437395</td>\n",
       "      <td>64.709411</td>\n",
       "      <td>7.440087</td>\n",
       "      <td>15.499388</td>\n",
       "      <td>80.208800</td>\n",
       "      <td>19.791200</td>\n",
       "      <td>30.290696</td>\n",
       "      <td>17.054627</td>\n",
       "      <td>2.592414</td>\n",
       "      <td>0.805136</td>\n",
       "    </tr>\n",
       "    <tr>\n",
       "      <th>2</th>\n",
       "      <td>0.938077</td>\n",
       "      <td>0.790744</td>\n",
       "      <td>1.654338</td>\n",
       "      <td>0.185293</td>\n",
       "      <td>0.416869</td>\n",
       "      <td>2.071206</td>\n",
       "      <td>0.521208</td>\n",
       "      <td>0.790744</td>\n",
       "      <td>0.442817</td>\n",
       "      <td>0.410125</td>\n",
       "      <td>...</td>\n",
       "      <td>1.419276</td>\n",
       "      <td>63.814555</td>\n",
       "      <td>7.147500</td>\n",
       "      <td>16.080327</td>\n",
       "      <td>79.894883</td>\n",
       "      <td>20.105117</td>\n",
       "      <td>30.502231</td>\n",
       "      <td>17.081245</td>\n",
       "      <td>2.592414</td>\n",
       "      <td>0.805136</td>\n",
       "    </tr>\n",
       "    <tr>\n",
       "      <th>3</th>\n",
       "      <td>1.228846</td>\n",
       "      <td>0.817055</td>\n",
       "      <td>1.363568</td>\n",
       "      <td>0.102512</td>\n",
       "      <td>0.540980</td>\n",
       "      <td>1.904548</td>\n",
       "      <td>0.687866</td>\n",
       "      <td>0.817055</td>\n",
       "      <td>0.698785</td>\n",
       "      <td>0.649172</td>\n",
       "      <td>...</td>\n",
       "      <td>1.601059</td>\n",
       "      <td>52.598386</td>\n",
       "      <td>3.954290</td>\n",
       "      <td>20.867826</td>\n",
       "      <td>73.466212</td>\n",
       "      <td>26.533788</td>\n",
       "      <td>31.517137</td>\n",
       "      <td>26.954978</td>\n",
       "      <td>2.592414</td>\n",
       "      <td>0.805136</td>\n",
       "    </tr>\n",
       "    <tr>\n",
       "      <th>4</th>\n",
       "      <td>1.326109</td>\n",
       "      <td>0.812759</td>\n",
       "      <td>1.266305</td>\n",
       "      <td>0.083141</td>\n",
       "      <td>0.580232</td>\n",
       "      <td>1.846537</td>\n",
       "      <td>0.745877</td>\n",
       "      <td>0.812759</td>\n",
       "      <td>0.835055</td>\n",
       "      <td>0.772328</td>\n",
       "      <td>...</td>\n",
       "      <td>2.081424</td>\n",
       "      <td>48.846543</td>\n",
       "      <td>3.207105</td>\n",
       "      <td>22.381916</td>\n",
       "      <td>71.228459</td>\n",
       "      <td>28.771541</td>\n",
       "      <td>31.351433</td>\n",
       "      <td>32.211481</td>\n",
       "      <td>2.592414</td>\n",
       "      <td>0.805136</td>\n",
       "    </tr>\n",
       "    <tr>\n",
       "      <th>...</th>\n",
       "      <td>...</td>\n",
       "      <td>...</td>\n",
       "      <td>...</td>\n",
       "      <td>...</td>\n",
       "      <td>...</td>\n",
       "      <td>...</td>\n",
       "      <td>...</td>\n",
       "      <td>...</td>\n",
       "      <td>...</td>\n",
       "      <td>...</td>\n",
       "      <td>...</td>\n",
       "      <td>...</td>\n",
       "      <td>...</td>\n",
       "      <td>...</td>\n",
       "      <td>...</td>\n",
       "      <td>...</td>\n",
       "      <td>...</td>\n",
       "      <td>...</td>\n",
       "      <td>...</td>\n",
       "      <td>...</td>\n",
       "      <td>...</td>\n",
       "    </tr>\n",
       "    <tr>\n",
       "      <th>94</th>\n",
       "      <td>1.928924</td>\n",
       "      <td>0.805114</td>\n",
       "      <td>0.663490</td>\n",
       "      <td>0.001231</td>\n",
       "      <td>1.088099</td>\n",
       "      <td>1.751589</td>\n",
       "      <td>0.840825</td>\n",
       "      <td>0.805114</td>\n",
       "      <td>1.350003</td>\n",
       "      <td>1.289875</td>\n",
       "      <td>...</td>\n",
       "      <td>1.847354</td>\n",
       "      <td>25.593511</td>\n",
       "      <td>0.047491</td>\n",
       "      <td>41.972418</td>\n",
       "      <td>67.565930</td>\n",
       "      <td>32.434070</td>\n",
       "      <td>31.056525</td>\n",
       "      <td>52.075125</td>\n",
       "      <td>2.592414</td>\n",
       "      <td>0.805136</td>\n",
       "    </tr>\n",
       "    <tr>\n",
       "      <th>95</th>\n",
       "      <td>1.929716</td>\n",
       "      <td>0.805114</td>\n",
       "      <td>0.662698</td>\n",
       "      <td>0.001058</td>\n",
       "      <td>1.088784</td>\n",
       "      <td>1.751482</td>\n",
       "      <td>0.840932</td>\n",
       "      <td>0.805114</td>\n",
       "      <td>1.351125</td>\n",
       "      <td>1.291246</td>\n",
       "      <td>...</td>\n",
       "      <td>1.839488</td>\n",
       "      <td>25.562969</td>\n",
       "      <td>0.040794</td>\n",
       "      <td>41.998857</td>\n",
       "      <td>67.561826</td>\n",
       "      <td>32.438174</td>\n",
       "      <td>31.056524</td>\n",
       "      <td>52.118396</td>\n",
       "      <td>2.592414</td>\n",
       "      <td>0.805136</td>\n",
       "    </tr>\n",
       "    <tr>\n",
       "      <th>96</th>\n",
       "      <td>1.930111</td>\n",
       "      <td>0.805149</td>\n",
       "      <td>0.662303</td>\n",
       "      <td>0.000938</td>\n",
       "      <td>1.087598</td>\n",
       "      <td>1.749902</td>\n",
       "      <td>0.842512</td>\n",
       "      <td>0.805149</td>\n",
       "      <td>1.351288</td>\n",
       "      <td>1.291355</td>\n",
       "      <td>...</td>\n",
       "      <td>1.841645</td>\n",
       "      <td>25.547746</td>\n",
       "      <td>0.036192</td>\n",
       "      <td>41.953113</td>\n",
       "      <td>67.500860</td>\n",
       "      <td>32.499140</td>\n",
       "      <td>31.057895</td>\n",
       "      <td>52.124678</td>\n",
       "      <td>2.592414</td>\n",
       "      <td>0.805136</td>\n",
       "    </tr>\n",
       "    <tr>\n",
       "      <th>97</th>\n",
       "      <td>1.931230</td>\n",
       "      <td>0.805159</td>\n",
       "      <td>0.661184</td>\n",
       "      <td>0.000636</td>\n",
       "      <td>1.089686</td>\n",
       "      <td>1.750871</td>\n",
       "      <td>0.841543</td>\n",
       "      <td>0.805159</td>\n",
       "      <td>1.352162</td>\n",
       "      <td>1.293027</td>\n",
       "      <td>...</td>\n",
       "      <td>1.849695</td>\n",
       "      <td>25.504582</td>\n",
       "      <td>0.024542</td>\n",
       "      <td>42.033651</td>\n",
       "      <td>67.538233</td>\n",
       "      <td>32.461767</td>\n",
       "      <td>31.058254</td>\n",
       "      <td>52.158415</td>\n",
       "      <td>2.592414</td>\n",
       "      <td>0.805136</td>\n",
       "    </tr>\n",
       "    <tr>\n",
       "      <th>98</th>\n",
       "      <td>1.931341</td>\n",
       "      <td>0.805144</td>\n",
       "      <td>0.661073</td>\n",
       "      <td>0.000612</td>\n",
       "      <td>1.088323</td>\n",
       "      <td>1.749396</td>\n",
       "      <td>0.843018</td>\n",
       "      <td>0.805144</td>\n",
       "      <td>1.352239</td>\n",
       "      <td>1.293189</td>\n",
       "      <td>...</td>\n",
       "      <td>1.852881</td>\n",
       "      <td>25.500304</td>\n",
       "      <td>0.023600</td>\n",
       "      <td>41.981048</td>\n",
       "      <td>67.481351</td>\n",
       "      <td>32.518649</td>\n",
       "      <td>31.057705</td>\n",
       "      <td>52.161376</td>\n",
       "      <td>2.592414</td>\n",
       "      <td>0.805136</td>\n",
       "    </tr>\n",
       "  </tbody>\n",
       "</table>\n",
       "<p>99 rows × 27 columns</p>\n",
       "</div>"
      ],
      "text/plain": [
       "    p_mean_PPE  p_std_PPE  u_mean_PPE  u_std_PPE  eta_mean_PPE   e_optim  \\\n",
       "0     0.737982   0.775185    1.854433   0.250425      0.391054  2.245487   \n",
       "1     0.914878   0.785260    1.677536   0.192878      0.401808  2.079344   \n",
       "2     0.938077   0.790744    1.654338   0.185293      0.416869  2.071206   \n",
       "3     1.228846   0.817055    1.363568   0.102512      0.540980  1.904548   \n",
       "4     1.326109   0.812759    1.266305   0.083141      0.580232  1.846537   \n",
       "..         ...        ...         ...        ...           ...       ...   \n",
       "94    1.928924   0.805114    0.663490   0.001231      1.088099  1.751589   \n",
       "95    1.929716   0.805114    0.662698   0.001058      1.088784  1.751482   \n",
       "96    1.930111   0.805149    0.662303   0.000938      1.087598  1.749902   \n",
       "97    1.931230   0.805159    0.661184   0.000636      1.089686  1.750871   \n",
       "98    1.931341   0.805144    0.661073   0.000612      1.088323  1.749396   \n",
       "\n",
       "    delta_mean_PPE  delta_std_PPE      p_p1  p_mean_GMMIP  ...  \\\n",
       "0         0.346927       0.775185  0.414253      0.368330  ...   \n",
       "1         0.513070       0.785260  0.442127      0.406123  ...   \n",
       "2         0.521208       0.790744  0.442817      0.410125  ...   \n",
       "3         0.687866       0.817055  0.698785      0.649172  ...   \n",
       "4         0.745877       0.812759  0.835055      0.772328  ...   \n",
       "..             ...            ...       ...           ...  ...   \n",
       "94        0.840825       0.805114  1.350003      1.289875  ...   \n",
       "95        0.840932       0.805114  1.351125      1.291246  ...   \n",
       "96        0.842512       0.805149  1.351288      1.291355  ...   \n",
       "97        0.841543       0.805159  1.352162      1.293027  ...   \n",
       "98        0.843018       0.805144  1.352239      1.293189  ...   \n",
       "\n",
       "    ratio_p_std_GMMIP  ratio_u_mean  ratio_u_std  ratio_eta  ratio_e_optim  \\\n",
       "0            1.892347     71.533039     9.659903  15.084561      86.617600   \n",
       "1            1.437395     64.709411     7.440087  15.499388      80.208800   \n",
       "2            1.419276     63.814555     7.147500  16.080327      79.894883   \n",
       "3            1.601059     52.598386     3.954290  20.867826      73.466212   \n",
       "4            2.081424     48.846543     3.207105  22.381916      71.228459   \n",
       "..                ...           ...          ...        ...            ...   \n",
       "94           1.847354     25.593511     0.047491  41.972418      67.565930   \n",
       "95           1.839488     25.562969     0.040794  41.998857      67.561826   \n",
       "96           1.841645     25.547746     0.036192  41.953113      67.500860   \n",
       "97           1.849695     25.504582     0.024542  42.033651      67.538233   \n",
       "98           1.852881     25.500304     0.023600  41.981048      67.481351   \n",
       "\n",
       "    ratio_delta_mean  ratio_delta_std  ratio_p_p1   ej_mean    ej_std  \n",
       "0          13.382400        29.902064   15.979417  2.592414  0.805136  \n",
       "1          19.791200        30.290696   17.054627  2.592414  0.805136  \n",
       "2          20.105117        30.502231   17.081245  2.592414  0.805136  \n",
       "3          26.533788        31.517137   26.954978  2.592414  0.805136  \n",
       "4          28.771541        31.351433   32.211481  2.592414  0.805136  \n",
       "..               ...              ...         ...       ...       ...  \n",
       "94         32.434070        31.056525   52.075125  2.592414  0.805136  \n",
       "95         32.438174        31.056524   52.118396  2.592414  0.805136  \n",
       "96         32.499140        31.057895   52.124678  2.592414  0.805136  \n",
       "97         32.461767        31.058254   52.158415  2.592414  0.805136  \n",
       "98         32.518649        31.057705   52.161376  2.592414  0.805136  \n",
       "\n",
       "[99 rows x 27 columns]"
      ]
     },
     "execution_count": 6,
     "metadata": {},
     "output_type": "execute_result"
    }
   ],
   "source": [
    "df_fig = np.load(path_files+'npy/Error_decomposition_df.npy', allow_pickle=True)\n",
    "df_fig"
   ]
  },
  {
   "cell_type": "code",
   "execution_count": 36,
   "metadata": {},
   "outputs": [
    {
     "data": {
      "text/plain": [
       "p_mean_PPE              1.931341\n",
       "p_std_PPE               0.805144\n",
       "u_mean_PPE              0.661073\n",
       "u_std_PPE               0.000612\n",
       "eta_mean_PPE            1.088323\n",
       "e_optim                 1.749396\n",
       "delta_mean_PPE          0.843018\n",
       "delta_std_PPE           0.805144\n",
       "p_p1                    1.352239\n",
       "p_mean_GMMIP            1.293189\n",
       "p_std_GMMIP             0.048034\n",
       "modes                 100.000000\n",
       "ratio_ej_mean         100.000000\n",
       "ratio_ej_std           31.057399\n",
       "ratio_p_mean           74.499696\n",
       "ratio_p_std            31.057705\n",
       "ratio_p_mean_GMMIP     49.883581\n",
       "ratio_p_std_GMMIP       1.852881\n",
       "ratio_u_mean           25.500304\n",
       "ratio_u_std             0.023600\n",
       "ratio_eta              41.981048\n",
       "ratio_e_optim          67.481351\n",
       "ratio_delta_mean       32.518649\n",
       "ratio_delta_std        31.057705\n",
       "ratio_p_p1             52.161376\n",
       "ej_mean                 2.592414\n",
       "ej_std                  0.805136\n",
       "Name: 98, dtype: float64"
      ]
     },
     "execution_count": 36,
     "metadata": {},
     "output_type": "execute_result"
    }
   ],
   "source": [
    "df_fig.iloc[-1]"
   ]
  },
  {
   "cell_type": "code",
   "execution_count": null,
   "metadata": {},
   "outputs": [],
   "source": []
  }
 ],
 "metadata": {
  "kernelspec": {
   "display_name": "Python 3",
   "language": "python",
   "name": "python3"
  },
  "language_info": {
   "codemirror_mode": {
    "name": "ipython",
    "version": 3
   },
   "file_extension": ".py",
   "mimetype": "text/x-python",
   "name": "python",
   "nbconvert_exporter": "python",
   "pygments_lexer": "ipython3",
   "version": "3.6.7"
  }
 },
 "nbformat": 4,
 "nbformat_minor": 2
}
