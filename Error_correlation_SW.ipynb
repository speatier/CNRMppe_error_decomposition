{
 "cells": [
  {
   "cell_type": "markdown",
   "metadata": {},
   "source": [
    "# Import Module"
   ]
  },
  {
   "cell_type": "code",
   "execution_count": 8,
   "metadata": {},
   "outputs": [],
   "source": [
    "# Computational modules \n",
    "%matplotlib inline\n",
    "import xarray as xr\n",
    "import glob\n",
    "import os\n",
    "import numpy as np\n",
    "import netCDF4\n",
    "from netCDF4 import Dataset\n",
    "import pandas as pd\n",
    "import re\n",
    "from array import array\n",
    "from pylab import *\n",
    "#import geopandas\n",
    "from eofs.xarray import Eof\n",
    "from eofs.multivariate.standard import MultivariateEof\n",
    "\n",
    "# Plotting modules \n",
    "import matplotlib.pyplot as plt\n",
    "from mpl_toolkits.basemap import Basemap\n",
    "import pandas.plotting\n",
    "import matplotlib.ticker as ticker\n",
    "import seaborn as sns\n",
    "import cartopy.crs as ccrs\n",
    "import cartopy.feature as cfeature\n",
    "from matplotlib.colors import BoundaryNorm\n",
    "\n",
    "# Scikit-learn\n",
    "from sklearn import linear_model\n",
    "from sklearn.linear_model import LassoCV, LassoLarsCV, LassoLarsIC\n",
    "from sklearn.linear_model import Lasso\n",
    "from sklearn.metrics import r2_score\n",
    "from sklearn import preprocessing\n",
    "from sklearn import tree\n",
    "from sklearn.ensemble import RandomForestClassifier\n",
    "from sklearn.metrics import confusion_matrix\n",
    "from sklearn import metrics\n",
    "from sklearn.neural_network import MLPRegressor\n",
    "from scipy.optimize import minimize\n",
    "from scipy.optimize import dual_annealing\n",
    "from scipy import stats\n",
    "from sklearn.decomposition import PCA"
   ]
  },
  {
   "cell_type": "markdown",
   "metadata": {},
   "source": [
    "# Settings"
   ]
  },
  {
   "cell_type": "markdown",
   "metadata": {},
   "source": [
    "### Variables"
   ]
  },
  {
   "cell_type": "code",
   "execution_count": 2,
   "metadata": {},
   "outputs": [],
   "source": [
    "variables = ['rsut', 'rsdt']\n",
    "variable = 'SW'\n",
    "TITLE = 'Short Wave fluxes'\n",
    "ylabel = '$E_{SW}$ ($W.m^{-2}.K^{-1}$)'"
   ]
  },
  {
   "cell_type": "markdown",
   "metadata": {},
   "source": [
    "### Paths"
   ]
  },
  {
   "cell_type": "code",
   "execution_count": 2,
   "metadata": {},
   "outputs": [],
   "source": [
    "path_official='/data/scratch/globc/peatier/CMIP6/CNRM-CM6-1/CFMIP/amip/'\n",
    "path_PPE='/data/scratch/globc/peatier/CNRM-CM6-1_PPE/'\n",
    "path_files='/data/home/globc/peatier/CNRMppe_error_decomposition/files/'"
   ]
  },
  {
   "cell_type": "markdown",
   "metadata": {},
   "source": [
    "### List of members"
   ]
  },
  {
   "cell_type": "code",
   "execution_count": 4,
   "metadata": {},
   "outputs": [
    {
     "data": {
      "text/plain": [
       "102"
      ]
     },
     "execution_count": 4,
     "metadata": {},
     "output_type": "execute_result"
    }
   ],
   "source": [
    "nb_p_list = ['p311', 'p312', 'p314', 'p316',\n",
    "                    'p317', 'p319', 'p320', 'p321', 'p322', 'p324', 'p325', 'p326', \n",
    "                    'p329', 'p330', 'p331', 'p332', 'p335', 'p336', 'p337' ,'p338', \n",
    "                    'p340', 'p341', 'p343', 'p344', 'p346', 'p347', 'p348', 'p349', \n",
    "                    'p350', 'p353', 'p355', 'p357', 'p359', 'p360', \n",
    "                    'p361', 'p363', 'p365', 'p367', 'p368', 'p369', \n",
    "                    'p372', 'p373', 'p374', 'p375', 'p376', 'p378', 'p381', 'p382', \n",
    "                    'p384', 'p386', 'p388', 'p389', 'p391', 'p392', 'p393', \n",
    "                    'p394', 'p395', 'p396', 'p398', 'p399', 'p400', 'p404', \n",
    "                    'p406', 'p407', 'p409', 'p410', 'p411', 'p412',\n",
    "                    'p414','p416',\n",
    "                    'p413','p419','p424','p426','p428','p421','p423',\n",
    "                    'p425','p427','p429','p430','p436','p438','p431','p433',\n",
    "                    'p442','p446','p443','p445','p447',\n",
    "                    'p452','p454','p456','p458','p457','p459',\n",
    "                    'p460','p465','p467','p469',\n",
    "                    'p470','p471']\n",
    "\n",
    "len(nb_p_list)"
   ]
  },
  {
   "cell_type": "markdown",
   "metadata": {},
   "source": [
    "# Functions"
   ]
  },
  {
   "cell_type": "code",
   "execution_count": 5,
   "metadata": {},
   "outputs": [],
   "source": [
    "def MSE(mod, obs, W_rmse_2D) :\n",
    "    diff_tmp = (mod - obs)**2 * W_rmse_2D\n",
    "    diff = (diff_tmp.sum(['lat', 'lon']))\n",
    "    return diff"
   ]
  },
  {
   "cell_type": "code",
   "execution_count": 6,
   "metadata": {},
   "outputs": [],
   "source": [
    "def reconstruct_X(eofs_combined, pc, nb_dims) :\n",
    "    X_rec_tmp = np.dot(eofs_combined.transpose(),pc)\n",
    "    if nb_dims == 3 :\n",
    "        X_rec = xr.DataArray(X_rec_tmp, \n",
    "                        dims=[\"lon\", \"lat\", \"time\"]).transpose('time', 'lat', 'lon')\n",
    "    if nb_dims == 2 :\n",
    "        X_rec = xr.DataArray(X_rec_tmp, \n",
    "                        dims=[\"lon\", \"lat\"]).transpose('lat', 'lon')\n",
    "    \n",
    "    X_rec['lat'] = eofs_combined['lat']\n",
    "    X_rec['lon'] = eofs_combined['lon']\n",
    "    return X_rec"
   ]
  },
  {
   "cell_type": "code",
   "execution_count": 7,
   "metadata": {},
   "outputs": [],
   "source": [
    "def MSE_rec(rec_anom_mod_w, rec_anom_obs_w, Mean, W_rmse_2D) :\n",
    "    mod = rec_anom_mod_w/W_eof_2D + Mean\n",
    "    obs = rec_anom_obs_w/W_eof_2D + Mean\n",
    "    diff = MSE(mod, obs, W_rmse_2D)\n",
    "    return diff"
   ]
  },
  {
   "cell_type": "code",
   "execution_count": 3,
   "metadata": {},
   "outputs": [],
   "source": [
    "def get_3D_SW_xarr(path, filename, variables):\n",
    "\n",
    "    # First step : download the data into dataframe\n",
    "    file = xr.open_mfdataset(path+filename,combine='by_coords')\n",
    "    \n",
    "    # Second step : compute the annual average \n",
    "    df = file[variables].mean('time', keep_attrs=True)\n",
    "    SW = df['rsdt'] - df['rsut']\n",
    "    \n",
    "    return SW"
   ]
  },
  {
   "cell_type": "code",
   "execution_count": 4,
   "metadata": {},
   "outputs": [],
   "source": [
    "def load_monthly_clim(path, filename, variables) :\n",
    "    \n",
    "    file = xr.open_mfdataset(path+filename,combine='by_coords')\n",
    "    df=file[variables].to_dataframe()\n",
    "    \n",
    "    # Compute Climatological Annual Cycle :\n",
    "    df1=df.reset_index(level=['time', 'lat', 'lon'])\n",
    "    df1['year']=pd.DatetimeIndex(df1['time']).year\n",
    "    df1['month']=pd.DatetimeIndex(df1['time']).month\n",
    "    \n",
    "    #list_ind = []\n",
    "    #cpt=0\n",
    "    #for i in df1['year'] : \n",
    "    #    if i>1981 :\n",
    "    #        list_ind.append(cpt)\n",
    "    #        cpt+=1\n",
    "    #    else : \n",
    "    #        cpt+=1\n",
    "            \n",
    "    #df2 = df1.drop(list_ind)\n",
    "    df_mean=df1.groupby(['month', 'lat', 'lon']).mean()\n",
    "    df_mean=df_mean.drop(columns='year')\n",
    "    \n",
    "    return df_mean"
   ]
  },
  {
   "cell_type": "markdown",
   "metadata": {},
   "source": [
    "# Get data : obs, PPE, p1"
   ]
  },
  {
   "cell_type": "code",
   "execution_count": 10,
   "metadata": {},
   "outputs": [],
   "source": [
    "path_observation = '/data/scratch/globc/peatier/obs_data/CERES/'\n",
    "filename = 'CERES_EBAF-TOA_Ed4.1_Subset_200003-201910_regrid.nc'"
   ]
  },
  {
   "cell_type": "code",
   "execution_count": 11,
   "metadata": {},
   "outputs": [
    {
     "data": {
      "text/html": [
       "<div>\n",
       "<style scoped>\n",
       "    .dataframe tbody tr th:only-of-type {\n",
       "        vertical-align: middle;\n",
       "    }\n",
       "\n",
       "    .dataframe tbody tr th {\n",
       "        vertical-align: top;\n",
       "    }\n",
       "\n",
       "    .dataframe thead th {\n",
       "        text-align: right;\n",
       "    }\n",
       "</style>\n",
       "<table border=\"1\" class=\"dataframe\">\n",
       "  <thead>\n",
       "    <tr style=\"text-align: right;\">\n",
       "      <th></th>\n",
       "      <th></th>\n",
       "      <th></th>\n",
       "      <th>toa_sw_all_mon</th>\n",
       "      <th>toa_lw_all_mon</th>\n",
       "      <th>toa_net_all_mon</th>\n",
       "    </tr>\n",
       "    <tr>\n",
       "      <th>month</th>\n",
       "      <th>lat</th>\n",
       "      <th>lon</th>\n",
       "      <th></th>\n",
       "      <th></th>\n",
       "      <th></th>\n",
       "    </tr>\n",
       "  </thead>\n",
       "  <tbody>\n",
       "    <tr>\n",
       "      <th rowspan=\"5\" valign=\"top\">1</th>\n",
       "      <th rowspan=\"5\" valign=\"top\">-88.927735</th>\n",
       "      <th>0.00000</th>\n",
       "      <td>344.953522</td>\n",
       "      <td>189.246185</td>\n",
       "      <td>-38.599289</td>\n",
       "    </tr>\n",
       "    <tr>\n",
       "      <th>1.40625</th>\n",
       "      <td>344.953522</td>\n",
       "      <td>189.246185</td>\n",
       "      <td>-38.599289</td>\n",
       "    </tr>\n",
       "    <tr>\n",
       "      <th>2.81250</th>\n",
       "      <td>344.953522</td>\n",
       "      <td>189.246185</td>\n",
       "      <td>-38.599289</td>\n",
       "    </tr>\n",
       "    <tr>\n",
       "      <th>4.21875</th>\n",
       "      <td>344.992493</td>\n",
       "      <td>189.144440</td>\n",
       "      <td>-38.531315</td>\n",
       "    </tr>\n",
       "    <tr>\n",
       "      <th>5.62500</th>\n",
       "      <td>345.007721</td>\n",
       "      <td>189.104630</td>\n",
       "      <td>-38.504715</td>\n",
       "    </tr>\n",
       "    <tr>\n",
       "      <th>...</th>\n",
       "      <th>...</th>\n",
       "      <th>...</th>\n",
       "      <td>...</td>\n",
       "      <td>...</td>\n",
       "      <td>...</td>\n",
       "    </tr>\n",
       "    <tr>\n",
       "      <th rowspan=\"5\" valign=\"top\">12</th>\n",
       "      <th rowspan=\"5\" valign=\"top\">88.927735</th>\n",
       "      <th>352.96875</th>\n",
       "      <td>0.000000</td>\n",
       "      <td>171.476639</td>\n",
       "      <td>-171.476639</td>\n",
       "    </tr>\n",
       "    <tr>\n",
       "      <th>354.37500</th>\n",
       "      <td>0.000000</td>\n",
       "      <td>171.476639</td>\n",
       "      <td>-171.476639</td>\n",
       "    </tr>\n",
       "    <tr>\n",
       "      <th>355.78125</th>\n",
       "      <td>0.000000</td>\n",
       "      <td>171.500351</td>\n",
       "      <td>-171.500351</td>\n",
       "    </tr>\n",
       "    <tr>\n",
       "      <th>357.18750</th>\n",
       "      <td>0.000000</td>\n",
       "      <td>171.560974</td>\n",
       "      <td>-171.560974</td>\n",
       "    </tr>\n",
       "    <tr>\n",
       "      <th>358.59375</th>\n",
       "      <td>0.000000</td>\n",
       "      <td>171.560974</td>\n",
       "      <td>-171.560974</td>\n",
       "    </tr>\n",
       "  </tbody>\n",
       "</table>\n",
       "<p>393216 rows × 3 columns</p>\n",
       "</div>"
      ],
      "text/plain": [
       "                            toa_sw_all_mon  toa_lw_all_mon  toa_net_all_mon\n",
       "month lat        lon                                                       \n",
       "1     -88.927735 0.00000        344.953522      189.246185       -38.599289\n",
       "                 1.40625        344.953522      189.246185       -38.599289\n",
       "                 2.81250        344.953522      189.246185       -38.599289\n",
       "                 4.21875        344.992493      189.144440       -38.531315\n",
       "                 5.62500        345.007721      189.104630       -38.504715\n",
       "...                                    ...             ...              ...\n",
       "12     88.927735 352.96875        0.000000      171.476639      -171.476639\n",
       "                 354.37500        0.000000      171.476639      -171.476639\n",
       "                 355.78125        0.000000      171.500351      -171.500351\n",
       "                 357.18750        0.000000      171.560974      -171.560974\n",
       "                 358.59375        0.000000      171.560974      -171.560974\n",
       "\n",
       "[393216 rows x 3 columns]"
      ]
     },
     "execution_count": 11,
     "metadata": {},
     "output_type": "execute_result"
    }
   ],
   "source": [
    "# Load data and compute Annual Cycle :\n",
    "file = xr.open_mfdataset(path_observation+filename,combine='by_coords')\n",
    "#file\n",
    "variables = ['toa_sw_all_mon','toa_lw_all_mon', 'toa_net_all_mon']\n",
    "df_obs = load_monthly_clim(path_observation, filename, variables)\n",
    "df_obs"
   ]
  },
  {
   "cell_type": "code",
   "execution_count": 12,
   "metadata": {},
   "outputs": [
    {
     "data": {
      "text/html": [
       "<pre>&lt;xarray.Dataset&gt;\n",
       "Dimensions:          (lat: 128, lon: 256)\n",
       "Coordinates:\n",
       "  * lat              (lat) float64 -88.93 -87.54 -86.14 ... 86.14 87.54 88.93\n",
       "  * lon              (lon) float64 0.0 1.406 2.812 4.219 ... 355.8 357.2 358.6\n",
       "Data variables:\n",
       "    toa_sw_all_mon   (lat, lon) float32 121.35958 121.35958 ... 103.85324\n",
       "    toa_lw_all_mon   (lat, lon) float32 142.8201 142.8201 ... 194.14125\n",
       "    toa_net_all_mon  (lat, lon) float32 -91.40278 -91.40278 ... -126.49493\n",
       "    SW               (lat, lon) float32 51.417324 51.417324 ... 67.64632</pre>"
      ],
      "text/plain": [
       "<xarray.Dataset>\n",
       "Dimensions:          (lat: 128, lon: 256)\n",
       "Coordinates:\n",
       "  * lat              (lat) float64 -88.93 -87.54 -86.14 ... 86.14 87.54 88.93\n",
       "  * lon              (lon) float64 0.0 1.406 2.812 4.219 ... 355.8 357.2 358.6\n",
       "Data variables:\n",
       "    toa_sw_all_mon   (lat, lon) float32 121.35958 121.35958 ... 103.85324\n",
       "    toa_lw_all_mon   (lat, lon) float32 142.8201 142.8201 ... 194.14125\n",
       "    toa_net_all_mon  (lat, lon) float32 -91.40278 -91.40278 ... -126.49493\n",
       "    SW               (lat, lon) float32 51.417324 51.417324 ... 67.64632"
      ]
     },
     "execution_count": 12,
     "metadata": {},
     "output_type": "execute_result"
    }
   ],
   "source": [
    "df_obs['SW'] =  df_obs['toa_net_all_mon'] + df_obs['toa_lw_all_mon']\n",
    "X_obs = df_obs.groupby(['lat','lon']).mean().to_xarray()\n",
    "X_obs"
   ]
  },
  {
   "cell_type": "code",
   "execution_count": 6,
   "metadata": {},
   "outputs": [],
   "source": [
    "variables = ['rsut', 'rsdt']\n",
    "variable = 'SW'\n",
    "TITLE = 'Short Wave fluxes'\n",
    "ylabel = '$E_{SW}$ ($W.m^{-2}.K^{-1}$)'"
   ]
  },
  {
   "cell_type": "code",
   "execution_count": 9,
   "metadata": {},
   "outputs": [],
   "source": [
    "# Default simulation\n",
    "path = path_PPE+'ENSEMBLE1/CNRM-CM6-1_amip_PPE/CNRM-CM6-1_amip_r1i1p1f2/'\n",
    "filename = '*_CNRM-CM6-1_amip_*.nc'\n",
    "p1_amip = get_3D_SW_xarr(path, filename, variables)"
   ]
  },
  {
   "cell_type": "code",
   "execution_count": 10,
   "metadata": {},
   "outputs": [
    {
     "data": {
      "text/plain": [
       "'/data/scratch/globc/peatier/CNRM-CM6-1_PPE/ENSEMBLE1/CNRM-CM6-1_amip_PPE/CNRM-CM6-1_amip_r1i1p1f2/'"
      ]
     },
     "execution_count": 10,
     "metadata": {},
     "output_type": "execute_result"
    }
   ],
   "source": [
    "path"
   ]
  },
  {
   "cell_type": "code",
   "execution_count": 15,
   "metadata": {},
   "outputs": [],
   "source": [
    "# PPE amip simulations \n",
    "filename='*_amip_*.nc'\n",
    "\n",
    "N=len(nb_p_list)\n",
    "amip={}\n",
    "i = 0\n",
    "while i<N:\n",
    "    nb_p = nb_p_list[i]\n",
    "    #print(nb_p)\n",
    "    path=path_PPE+'ENSEMBLE2/CNRM-CM6-1_amip_LHS500_PPE/CNRM-CM6-1_amip_r1i1'+str(nb_p)+'f2/'\n",
    "    amip[str(nb_p)] = get_3D_SW_xarr(path, filename, variables)\n",
    "    i=i+1"
   ]
  },
  {
   "cell_type": "code",
   "execution_count": 16,
   "metadata": {},
   "outputs": [],
   "source": [
    "amip['p1'] = p1_amip"
   ]
  },
  {
   "cell_type": "markdown",
   "metadata": {},
   "source": [
    "# Calcule full MSE (ej)"
   ]
  },
  {
   "cell_type": "code",
   "execution_count": 17,
   "metadata": {},
   "outputs": [],
   "source": [
    "n=len(nb_p_list)\n",
    "amip_list=[0]*(n+1)\n",
    "\n",
    "amip_list[0] = amip['p1']\n",
    "\n",
    "i = 0\n",
    "while i<n:\n",
    "    nb_p = nb_p_list[i]\n",
    "    #print(nb_p)\n",
    "    tmp = amip[str(nb_p)]\n",
    "    amip_list[i+1] = tmp\n",
    "    i+=1"
   ]
  },
  {
   "cell_type": "code",
   "execution_count": 18,
   "metadata": {},
   "outputs": [],
   "source": [
    "matrix = xr.combine_nested(amip_list, concat_dim=['time'])"
   ]
  },
  {
   "cell_type": "code",
   "execution_count": 19,
   "metadata": {},
   "outputs": [],
   "source": [
    "## --Get weights : \n",
    "lats = matrix['lat'].values\n",
    "\n",
    "wgts = np.cos(np.deg2rad(lats))\n",
    "W_eof_2D = sqrt(wgts)[:,np.newaxis] ## --Wqts before EOF analysis - 2D (lat x lon)\n",
    "W_eof_3D = sqrt(wgts)[np.newaxis,:,np.newaxis] ## --Wqts before EOF analysis - 3D (time x lat x lon)\n",
    "\n",
    "S = wgts.sum()*256 ## --Sum of wgts over the whole grid\n",
    "wgts_sum = wgts/S\n",
    "W_rmse_2D = wgts_sum[:,np.newaxis] ## -- Wgts before RMSE, divided by sum of wgts - 2D (lat x lon)"
   ]
  },
  {
   "cell_type": "code",
   "execution_count": 20,
   "metadata": {},
   "outputs": [],
   "source": [
    "variable_obs='SW'\n",
    "# Reference p1\n",
    "mod = amip['p1']\n",
    "obs = X_obs[variable_obs]\n",
    "diff_p1 = MSE(mod, obs, W_rmse_2D)"
   ]
  },
  {
   "cell_type": "code",
   "execution_count": 21,
   "metadata": {},
   "outputs": [],
   "source": [
    "ej_list = []\n",
    "#ej['p1'] = diff_p1\n",
    "\n",
    "for p in nb_p_list :\n",
    "    mod = amip[p]\n",
    "    obs = X_obs[variable_obs]\n",
    "    diff = MSE(mod, obs, W_rmse_2D)\n",
    "    ej_list.append(diff)\n"
   ]
  },
  {
   "cell_type": "markdown",
   "metadata": {},
   "source": [
    "### Save"
   ]
  },
  {
   "cell_type": "code",
   "execution_count": 22,
   "metadata": {},
   "outputs": [],
   "source": [
    "np.save(path_files+'npy/CNRMppe_decomposition_ej_'+str(variable)+'.npy', ej_list)"
   ]
  },
  {
   "cell_type": "markdown",
   "metadata": {},
   "source": [
    "# EOF + truncated RMSE (rj)"
   ]
  },
  {
   "cell_type": "markdown",
   "metadata": {},
   "source": [
    "## EOF"
   ]
  },
  {
   "cell_type": "code",
   "execution_count": 23,
   "metadata": {},
   "outputs": [
    {
     "data": {
      "text/html": [
       "<pre>&lt;xarray.DataArray (time: 103, lat: 128, lon: 256)&gt;\n",
       "dask.array&lt;sub, shape=(103, 128, 256), dtype=float32, chunksize=(1, 128, 256), chunktype=numpy.ndarray&gt;\n",
       "Coordinates:\n",
       "    height   float64 2.0\n",
       "  * lat      (lat) float64 -88.93 -87.54 -86.14 -84.74 ... 86.14 87.54 88.93\n",
       "  * lon      (lon) float64 0.0 1.406 2.812 4.219 ... 354.4 355.8 357.2 358.6\n",
       "Dimensions without coordinates: time</pre>"
      ],
      "text/plain": [
       "<xarray.DataArray (time: 103, lat: 128, lon: 256)>\n",
       "dask.array<sub, shape=(103, 128, 256), dtype=float32, chunksize=(1, 128, 256), chunktype=numpy.ndarray>\n",
       "Coordinates:\n",
       "    height   float64 2.0\n",
       "  * lat      (lat) float64 -88.93 -87.54 -86.14 -84.74 ... 86.14 87.54 88.93\n",
       "  * lon      (lon) float64 0.0 1.406 2.812 4.219 ... 354.4 355.8 357.2 358.6\n",
       "Dimensions without coordinates: time"
      ]
     },
     "execution_count": 23,
     "metadata": {},
     "output_type": "execute_result"
    }
   ],
   "source": [
    "# Compute anomalies by removing the time-mean.\n",
    "mean = matrix.mean(axis=0)\n",
    "anom = matrix - mean\n",
    "anom"
   ]
  },
  {
   "cell_type": "code",
   "execution_count": 24,
   "metadata": {},
   "outputs": [
    {
     "data": {
      "text/html": [
       "<pre>&lt;xarray.DataArray (time: 103, lat: 128, lon: 256)&gt;\n",
       "dask.array&lt;mul, shape=(103, 128, 256), dtype=float64, chunksize=(1, 128, 256), chunktype=numpy.ndarray&gt;\n",
       "Coordinates:\n",
       "    height   float64 2.0\n",
       "  * lat      (lat) float64 -88.93 -87.54 -86.14 -84.74 ... 86.14 87.54 88.93\n",
       "  * lon      (lon) float64 0.0 1.406 2.812 4.219 ... 354.4 355.8 357.2 358.6\n",
       "Dimensions without coordinates: time</pre>"
      ],
      "text/plain": [
       "<xarray.DataArray (time: 103, lat: 128, lon: 256)>\n",
       "dask.array<mul, shape=(103, 128, 256), dtype=float64, chunksize=(1, 128, 256), chunktype=numpy.ndarray>\n",
       "Coordinates:\n",
       "    height   float64 2.0\n",
       "  * lat      (lat) float64 -88.93 -87.54 -86.14 -84.74 ... 86.14 87.54 88.93\n",
       "  * lon      (lon) float64 0.0 1.406 2.812 4.219 ... 354.4 355.8 357.2 358.6\n",
       "Dimensions without coordinates: time"
      ]
     },
     "execution_count": 24,
     "metadata": {},
     "output_type": "execute_result"
    }
   ],
   "source": [
    "anom_w = (anom*W_eof_3D)#.to_array()\n",
    "anom_w"
   ]
  },
  {
   "cell_type": "code",
   "execution_count": 25,
   "metadata": {},
   "outputs": [],
   "source": [
    "# Create an EOF solver to do the EOF analysis. \n",
    "solver = Eof(anom_w, center=False, weights=None)"
   ]
  },
  {
   "cell_type": "code",
   "execution_count": 26,
   "metadata": {},
   "outputs": [],
   "source": [
    "eof = solver.eofsAsCovariance(neofs=102, pcscaling=1)\n",
    "pc = solver.pcs(npcs=102, pcscaling=1)"
   ]
  },
  {
   "cell_type": "code",
   "execution_count": 27,
   "metadata": {},
   "outputs": [],
   "source": [
    "varFrac = solver.varianceFraction(neigs=102)\n",
    "#varFrac"
   ]
  },
  {
   "cell_type": "markdown",
   "metadata": {},
   "source": [
    "### Save"
   ]
  },
  {
   "cell_type": "code",
   "execution_count": 28,
   "metadata": {},
   "outputs": [],
   "source": [
    "for i in range(0,len(eof),1) : \n",
    "    j = i+1\n",
    "    # EOFmap\n",
    "    EOF_df = eof[i].to_dataframe().drop(labels = 'mode', axis=1)\n",
    "    EOF_df.to_pickle(path_files+\"npy/CNRMppe_decomposition_EOFmap\"+str(j)+\"_\"+str(variable)+\".npy\")"
   ]
  },
  {
   "cell_type": "code",
   "execution_count": 29,
   "metadata": {},
   "outputs": [],
   "source": [
    "## --Save the pc_p1 and pc_PPE in a .nc files\n",
    "path_file = path_files+'nc/'\n",
    "filename = 'CNRMppe_decomposition_p1_EOFpc_'+str(variable)+'.nc'\n",
    "pc[0, :].to_netcdf(path=path_file+filename)\n",
    "filename = 'CNRMppe_decomposition_EOFpc_'+str(variable)+'.nc'\n",
    "pc[1:, :].to_netcdf(path=path_file+filename)"
   ]
  },
  {
   "cell_type": "code",
   "execution_count": 30,
   "metadata": {},
   "outputs": [],
   "source": [
    "mean_df = mean.to_dataframe(name=str(variable)+'mean').drop(labels = 'height', axis=1)\n",
    "mean_df.to_pickle(path_files+'npy/CNRMppe_decomposition_mean_'+str(variable)+'.npy')"
   ]
  },
  {
   "cell_type": "markdown",
   "metadata": {},
   "source": [
    "## Get the observations"
   ]
  },
  {
   "cell_type": "code",
   "execution_count": 31,
   "metadata": {},
   "outputs": [
    {
     "data": {
      "text/html": [
       "<pre>&lt;xarray.DataArray (lat: 128, lon: 256)&gt;\n",
       "array([[ 5.2070236,  5.2070236,  5.2070236, ...,  5.226471 ,  5.2070236,\n",
       "         5.2070236],\n",
       "       [ 1.2220192,  1.2220192,  1.2220192, ...,  1.2446327,  1.2220192,\n",
       "         1.2220192],\n",
       "       [ 4.9539795,  4.9539795,  4.9539795, ...,  5.0742836,  4.9539795,\n",
       "         4.9539795],\n",
       "       ...,\n",
       "       [11.637173 , 11.637173 , 11.637173 , ..., 11.104774 , 11.637173 ,\n",
       "        11.637173 ],\n",
       "       [11.558968 , 11.558968 , 11.558968 , ..., 11.514648 , 11.558968 ,\n",
       "        11.558968 ],\n",
       "       [11.797485 , 11.797485 , 11.797485 , ..., 11.795776 , 11.797485 ,\n",
       "        11.797485 ]], dtype=float32)\n",
       "Coordinates:\n",
       "  * lat      (lat) float64 -88.93 -87.54 -86.14 -84.74 ... 86.14 87.54 88.93\n",
       "  * lon      (lon) float64 0.0 1.406 2.812 4.219 ... 354.4 355.8 357.2 358.6\n",
       "    mode     &lt;U6 &#x27;SWmean&#x27;</pre>"
      ],
      "text/plain": [
       "<xarray.DataArray (lat: 128, lon: 256)>\n",
       "array([[ 5.2070236,  5.2070236,  5.2070236, ...,  5.226471 ,  5.2070236,\n",
       "         5.2070236],\n",
       "       [ 1.2220192,  1.2220192,  1.2220192, ...,  1.2446327,  1.2220192,\n",
       "         1.2220192],\n",
       "       [ 4.9539795,  4.9539795,  4.9539795, ...,  5.0742836,  4.9539795,\n",
       "         4.9539795],\n",
       "       ...,\n",
       "       [11.637173 , 11.637173 , 11.637173 , ..., 11.104774 , 11.637173 ,\n",
       "        11.637173 ],\n",
       "       [11.558968 , 11.558968 , 11.558968 , ..., 11.514648 , 11.558968 ,\n",
       "        11.558968 ],\n",
       "       [11.797485 , 11.797485 , 11.797485 , ..., 11.795776 , 11.797485 ,\n",
       "        11.797485 ]], dtype=float32)\n",
       "Coordinates:\n",
       "  * lat      (lat) float64 -88.93 -87.54 -86.14 -84.74 ... 86.14 87.54 88.93\n",
       "  * lon      (lon) float64 0.0 1.406 2.812 4.219 ... 354.4 355.8 357.2 358.6\n",
       "    mode     <U6 'SWmean'"
      ]
     },
     "execution_count": 31,
     "metadata": {},
     "output_type": "execute_result"
    }
   ],
   "source": [
    "Mean =  pd.read_pickle(path_files+'npy/CNRMppe_decomposition_mean_'+str(variable)+'.npy').to_xarray().to_array()\n",
    "Mean = Mean[0,:,:].rename({'variable':'mode'})\n",
    "X_obs_anom = X_obs[variable_obs] - Mean\n",
    "X_obs_anom"
   ]
  },
  {
   "cell_type": "markdown",
   "metadata": {},
   "source": [
    "## Parametric component of the error for different q"
   ]
  },
  {
   "cell_type": "code",
   "execution_count": 32,
   "metadata": {},
   "outputs": [],
   "source": [
    "def Error_PPE_param_component(path_files, variable, Mean, W_eof_2D, W_rmse_2D, q) :\n",
    "    ## --Get the eofs\n",
    "    eofs=[]\n",
    "    for j in range(1,q+1,1) :\n",
    "        eof_tmp = pd.read_pickle(path_files+\"npy/CNRMppe_decomposition_EOFmap\"+str(j)+\"_\"+str(variable)+\".npy\").to_xarray().to_array()\n",
    "        eof_tmp = eof_tmp[0,:,:].rename({'variable':'mode'})\n",
    "        eofs.append(eof_tmp)      \n",
    "    ## --Combine the modes for reconstruction\n",
    "    eofs_combined = xr.combine_nested(eofs, concat_dim='eofs')\n",
    "    \n",
    "    ## --Get the pc_PPE\n",
    "    path_file = path_files+'nc/'\n",
    "    filename = 'CNRMppe_decomposition_EOFpc_'+str(variable)+'.nc'\n",
    "    pc_PPE = xr.open_dataset(path_file+filename)\n",
    "    pc_PPE_trunc = pc_PPE['pcs'][:,0:q]\n",
    "\n",
    "    ## -- Project the observations :\n",
    "    X_obs_W = X_obs_anom*W_eof_2D\n",
    "    U_obs = solver.projectField(X_obs_W, neofs=q, weighted=False, eofscaling=1)\n",
    "\n",
    "    ## -- reconstruct X_obs_rec : \n",
    "    pc=U_obs\n",
    "    nb_dims = 2\n",
    "    X_obs_rec = reconstruct_X(eofs_combined, pc, nb_dims)\n",
    "    ## -- reconstruct X_mod_rec : \n",
    "    pc=pc_PPE_trunc\n",
    "    nb_dims = 3\n",
    "    X_mod_rec = reconstruct_X(eofs_combined, pc.transpose(), nb_dims)\n",
    "\n",
    "    pj_list = MSE_rec(X_mod_rec, X_obs_rec, Mean, W_rmse_2D)\n",
    "\n",
    "    return pj_list"
   ]
  },
  {
   "cell_type": "code",
   "execution_count": 33,
   "metadata": {},
   "outputs": [],
   "source": [
    "df_fig = pd.DataFrame(ej_list, columns=['ej'])\n",
    "\n",
    "## -- 5 modes :\n",
    "q = 5\n",
    "pj_list = Error_PPE_param_component(path_files, variable, Mean, W_eof_2D, W_rmse_2D, q)\n",
    "df_fig['pj ' +str(q)+' modes'] = pj_list\n",
    "df_fig['uj ' +str(q)+' modes'] = abs(df_fig['ej'] - df_fig['pj ' +str(q)+' modes'])\n",
    "\n",
    "## -- 20 modes :\n",
    "q = 20\n",
    "pj_list = Error_PPE_param_component(path_files, variable, Mean, W_eof_2D, W_rmse_2D, q)\n",
    "df_fig['pj ' +str(q)+' modes'] = pj_list\n",
    "df_fig['uj ' +str(q)+' modes'] = abs(df_fig['ej'] - df_fig['pj ' +str(q)+' modes'])\n",
    "\n",
    "## -- 50 modes :\n",
    "q = 50\n",
    "pj_list = Error_PPE_param_component(path_files, variable, Mean, W_eof_2D, W_rmse_2D, q)\n",
    "df_fig['pj ' +str(q)+' modes'] = pj_list\n",
    "df_fig['uj ' +str(q)+' modes'] = abs(df_fig['ej'] - df_fig['pj ' +str(q)+' modes'])\n",
    "\n",
    "## -- 102 modes :\n",
    "q = 102\n",
    "pj_list = Error_PPE_param_component(path_files, variable, Mean, W_eof_2D, W_rmse_2D, q)\n",
    "df_fig['pj ' +str(q)+' modes'] = pj_list\n",
    "df_fig['uj ' +str(q)+' modes'] = abs(df_fig['ej'] - df_fig['pj ' +str(q)+' modes'])\n",
    "\n",
    "#df_fig"
   ]
  },
  {
   "cell_type": "code",
   "execution_count": 34,
   "metadata": {},
   "outputs": [
    {
     "data": {
      "text/html": [
       "<div>\n",
       "<style scoped>\n",
       "    .dataframe tbody tr th:only-of-type {\n",
       "        vertical-align: middle;\n",
       "    }\n",
       "\n",
       "    .dataframe tbody tr th {\n",
       "        vertical-align: top;\n",
       "    }\n",
       "\n",
       "    .dataframe thead th {\n",
       "        text-align: right;\n",
       "    }\n",
       "</style>\n",
       "<table border=\"1\" class=\"dataframe\">\n",
       "  <thead>\n",
       "    <tr style=\"text-align: right;\">\n",
       "      <th></th>\n",
       "      <th>ej</th>\n",
       "      <th>pj 5 modes</th>\n",
       "      <th>uj 5 modes</th>\n",
       "      <th>pj 20 modes</th>\n",
       "      <th>uj 20 modes</th>\n",
       "      <th>pj 50 modes</th>\n",
       "      <th>uj 50 modes</th>\n",
       "      <th>pj 102 modes</th>\n",
       "      <th>uj 102 modes</th>\n",
       "      <th>members</th>\n",
       "    </tr>\n",
       "  </thead>\n",
       "  <tbody>\n",
       "    <tr>\n",
       "      <th>85</th>\n",
       "      <td>140.497045</td>\n",
       "      <td>16.702097</td>\n",
       "      <td>123.794948</td>\n",
       "      <td>61.601654</td>\n",
       "      <td>78.895391</td>\n",
       "      <td>70.974208</td>\n",
       "      <td>69.522837</td>\n",
       "      <td>79.710045</td>\n",
       "      <td>60.787001</td>\n",
       "      <td>1</td>\n",
       "    </tr>\n",
       "    <tr>\n",
       "      <th>75</th>\n",
       "      <td>167.299351</td>\n",
       "      <td>44.147587</td>\n",
       "      <td>123.151764</td>\n",
       "      <td>82.452758</td>\n",
       "      <td>84.846593</td>\n",
       "      <td>98.484257</td>\n",
       "      <td>68.815094</td>\n",
       "      <td>106.512350</td>\n",
       "      <td>60.787001</td>\n",
       "      <td>2</td>\n",
       "    </tr>\n",
       "    <tr>\n",
       "      <th>37</th>\n",
       "      <td>172.773344</td>\n",
       "      <td>41.685023</td>\n",
       "      <td>131.088321</td>\n",
       "      <td>90.562503</td>\n",
       "      <td>82.210841</td>\n",
       "      <td>103.145724</td>\n",
       "      <td>69.627620</td>\n",
       "      <td>111.986343</td>\n",
       "      <td>60.787001</td>\n",
       "      <td>3</td>\n",
       "    </tr>\n",
       "    <tr>\n",
       "      <th>5</th>\n",
       "      <td>173.583678</td>\n",
       "      <td>54.687121</td>\n",
       "      <td>118.896558</td>\n",
       "      <td>94.883466</td>\n",
       "      <td>78.700213</td>\n",
       "      <td>105.093669</td>\n",
       "      <td>68.490009</td>\n",
       "      <td>112.796677</td>\n",
       "      <td>60.787001</td>\n",
       "      <td>4</td>\n",
       "    </tr>\n",
       "    <tr>\n",
       "      <th>18</th>\n",
       "      <td>181.468817</td>\n",
       "      <td>42.255484</td>\n",
       "      <td>139.213333</td>\n",
       "      <td>98.141470</td>\n",
       "      <td>83.327347</td>\n",
       "      <td>112.764941</td>\n",
       "      <td>68.703876</td>\n",
       "      <td>120.681817</td>\n",
       "      <td>60.787001</td>\n",
       "      <td>5</td>\n",
       "    </tr>\n",
       "    <tr>\n",
       "      <th>...</th>\n",
       "      <td>...</td>\n",
       "      <td>...</td>\n",
       "      <td>...</td>\n",
       "      <td>...</td>\n",
       "      <td>...</td>\n",
       "      <td>...</td>\n",
       "      <td>...</td>\n",
       "      <td>...</td>\n",
       "      <td>...</td>\n",
       "      <td>...</td>\n",
       "    </tr>\n",
       "    <tr>\n",
       "      <th>24</th>\n",
       "      <td>1024.007810</td>\n",
       "      <td>911.409816</td>\n",
       "      <td>112.597994</td>\n",
       "      <td>941.168415</td>\n",
       "      <td>82.839395</td>\n",
       "      <td>955.465566</td>\n",
       "      <td>68.542243</td>\n",
       "      <td>963.220809</td>\n",
       "      <td>60.787001</td>\n",
       "      <td>98</td>\n",
       "    </tr>\n",
       "    <tr>\n",
       "      <th>57</th>\n",
       "      <td>1030.393869</td>\n",
       "      <td>885.003708</td>\n",
       "      <td>145.390161</td>\n",
       "      <td>951.445894</td>\n",
       "      <td>78.947976</td>\n",
       "      <td>962.994226</td>\n",
       "      <td>67.399643</td>\n",
       "      <td>969.606868</td>\n",
       "      <td>60.787001</td>\n",
       "      <td>99</td>\n",
       "    </tr>\n",
       "    <tr>\n",
       "      <th>41</th>\n",
       "      <td>1262.691417</td>\n",
       "      <td>1147.885691</td>\n",
       "      <td>114.805726</td>\n",
       "      <td>1179.049206</td>\n",
       "      <td>83.642211</td>\n",
       "      <td>1194.345743</td>\n",
       "      <td>68.345675</td>\n",
       "      <td>1201.904417</td>\n",
       "      <td>60.787001</td>\n",
       "      <td>100</td>\n",
       "    </tr>\n",
       "    <tr>\n",
       "      <th>78</th>\n",
       "      <td>1475.104168</td>\n",
       "      <td>1314.727871</td>\n",
       "      <td>160.376297</td>\n",
       "      <td>1395.061478</td>\n",
       "      <td>80.042690</td>\n",
       "      <td>1406.978040</td>\n",
       "      <td>68.126128</td>\n",
       "      <td>1414.317167</td>\n",
       "      <td>60.787001</td>\n",
       "      <td>101</td>\n",
       "    </tr>\n",
       "    <tr>\n",
       "      <th>48</th>\n",
       "      <td>1595.640887</td>\n",
       "      <td>1463.350295</td>\n",
       "      <td>132.290592</td>\n",
       "      <td>1508.027064</td>\n",
       "      <td>87.613823</td>\n",
       "      <td>1528.924453</td>\n",
       "      <td>66.716433</td>\n",
       "      <td>1534.853885</td>\n",
       "      <td>60.787002</td>\n",
       "      <td>102</td>\n",
       "    </tr>\n",
       "  </tbody>\n",
       "</table>\n",
       "<p>102 rows × 10 columns</p>\n",
       "</div>"
      ],
      "text/plain": [
       "             ej   pj 5 modes  uj 5 modes  pj 20 modes  uj 20 modes  \\\n",
       "85   140.497045    16.702097  123.794948    61.601654    78.895391   \n",
       "75   167.299351    44.147587  123.151764    82.452758    84.846593   \n",
       "37   172.773344    41.685023  131.088321    90.562503    82.210841   \n",
       "5    173.583678    54.687121  118.896558    94.883466    78.700213   \n",
       "18   181.468817    42.255484  139.213333    98.141470    83.327347   \n",
       "..          ...          ...         ...          ...          ...   \n",
       "24  1024.007810   911.409816  112.597994   941.168415    82.839395   \n",
       "57  1030.393869   885.003708  145.390161   951.445894    78.947976   \n",
       "41  1262.691417  1147.885691  114.805726  1179.049206    83.642211   \n",
       "78  1475.104168  1314.727871  160.376297  1395.061478    80.042690   \n",
       "48  1595.640887  1463.350295  132.290592  1508.027064    87.613823   \n",
       "\n",
       "    pj 50 modes  uj 50 modes  pj 102 modes  uj 102 modes  members  \n",
       "85    70.974208    69.522837     79.710045     60.787001        1  \n",
       "75    98.484257    68.815094    106.512350     60.787001        2  \n",
       "37   103.145724    69.627620    111.986343     60.787001        3  \n",
       "5    105.093669    68.490009    112.796677     60.787001        4  \n",
       "18   112.764941    68.703876    120.681817     60.787001        5  \n",
       "..          ...          ...           ...           ...      ...  \n",
       "24   955.465566    68.542243    963.220809     60.787001       98  \n",
       "57   962.994226    67.399643    969.606868     60.787001       99  \n",
       "41  1194.345743    68.345675   1201.904417     60.787001      100  \n",
       "78  1406.978040    68.126128   1414.317167     60.787001      101  \n",
       "48  1528.924453    66.716433   1534.853885     60.787002      102  \n",
       "\n",
       "[102 rows x 10 columns]"
      ]
     },
     "execution_count": 34,
     "metadata": {},
     "output_type": "execute_result"
    }
   ],
   "source": [
    "df_fig_sort = df_fig.sort_values(by='ej')\n",
    "df_fig_sort['members'] = range(1, len(ej_list)+1,1)\n",
    "df_fig_sort"
   ]
  },
  {
   "cell_type": "markdown",
   "metadata": {},
   "source": [
    "## Error components ratio"
   ]
  },
  {
   "cell_type": "code",
   "execution_count": 35,
   "metadata": {},
   "outputs": [],
   "source": [
    "q_list = [5,20,50,102]\n",
    "ratio_p = {}\n",
    "ratio_u = {}\n",
    "for q in q_list :\n",
    "    ratio_p[str(q)+' modes'] = (df_fig['pj ' +str(q)+' modes'].mean()/df_fig['ej'].mean())*100\n",
    "    ratio_u[str(q)+' modes'] = (df_fig['uj ' +str(q)+' modes'].mean()/df_fig['ej'].mean())*100"
   ]
  },
  {
   "cell_type": "markdown",
   "metadata": {},
   "source": [
    "# Figure - error decomposition"
   ]
  },
  {
   "cell_type": "code",
   "execution_count": 40,
   "metadata": {},
   "outputs": [
    {
     "data": {
      "image/png": "[encoded data removed]",
      "text/plain": [
       "<Figure size 864x720 with 1 Axes>"
      ]
     },
     "metadata": {
      "needs_background": "light"
     },
     "output_type": "display_data"
    }
   ],
   "source": [
    "fig, ax = plt.subplots(figsize=(12,10))\n",
    "\n",
    "df_fig_sort.plot(kind='scatter', x='members', y='ej', \n",
    "                           color='black', alpha=1, marker='o', ax = ax)\n",
    "\n",
    "\n",
    "df_fig_sort.plot(kind='scatter', x='members', y='pj 5 modes', \n",
    "                           color='darkred', alpha=1, marker='o', ax = ax)  \n",
    "\n",
    "df_fig_sort.plot(kind='scatter', x='members', y='pj 20 modes', \n",
    "                           color='teal', alpha=1, marker='o', ax = ax) \n",
    "\n",
    "df_fig_sort.plot(kind='scatter', x='members', y='pj 50 modes', \n",
    "                           color='plum', alpha=1, marker='o', ax = ax) \n",
    "\n",
    "df_fig_sort.plot(kind='scatter', x='members', y='pj 102 modes', \n",
    "                           color='coral', alpha=1, marker='o', ax = ax) \n",
    "    \n",
    "cpt=1\n",
    "for i in df_fig_sort['ej'] : \n",
    "    plt.vlines(cpt,ymin = 0,ymax = i, colors='gray',\n",
    "           linestyles='dashed')\n",
    "    cpt+=1\n",
    "\n",
    " \n",
    "cpt=1\n",
    "for i in df_fig_sort['pj 102 modes'] : \n",
    "    plt.vlines(cpt,ymin = 0,ymax = i, colors='coral', label='_nolegend_',\n",
    "           linestyles='dashed')\n",
    "    cpt+=1\n",
    "\n",
    "cpt=1\n",
    "for i in df_fig_sort['pj 50 modes'] : \n",
    "    plt.vlines(cpt,ymin = 0,ymax = i, colors='plum', label='_nolegend_',\n",
    "           linestyles='dashed')\n",
    "    cpt+=1\n",
    "    \n",
    "cpt=1\n",
    "for i in df_fig_sort['pj 20 modes'] : \n",
    "    plt.vlines(cpt,ymin = 0,ymax = i, colors='teal', label='_nolegend_',\n",
    "           linestyles='dashed')\n",
    "    cpt+=1\n",
    "    \n",
    "cpt=1\n",
    "for i in df_fig_sort['pj 5 modes'] : \n",
    "    plt.vlines(cpt,ymin = 0,ymax = i, colors='darkred', label='_nolegend_',\n",
    "           linestyles='dashed')\n",
    "    cpt+=1\n",
    "\n",
    "legend=['Full error $e_{tas}(\\\\theta_i)$', \n",
    "        'Param. error $p_{tas}(\\\\theta_i)$ ($q=5$)', \n",
    "        'Param. error $p_{tas}(\\\\theta_i)$ ($q=20$)',\n",
    "        'Param. error $p_{tas}(\\\\theta_i)$ ($q=50$)',\n",
    "        'Param. error $p_{tas}(\\\\theta_i)$ ($q=102$)',\n",
    "        'Non-param. error $u_{tas}$ ($q=102$)']\n",
    "ax.tick_params(axis='both', which='major', labelsize=15)\n",
    "plt.legend(legend, fontsize=18, loc='upper left') #, bbox_to_anchor=(1.5, 1.02))\n",
    "plt.title('Surface temperature ($K$)', fontsize = 25)\n",
    "plt.xlabel('Models - ranked from best to worst',fontsize=20)\n",
    "plt.ylabel('Integrative model error (RMSE)', fontsize=20)\n",
    "ax.tick_params(axis='both', which='major', labelsize=15)\n",
    "plt.legend(legend, fontsize=16, loc='upper left') #, bbox_to_anchor=(1.5, 1.02))\n",
    "plt.title('TOA Short wave fluxes ($W/m^2$)', fontsize = 25)\n",
    "plt.xlabel('PPE members $f(\\\\theta_i)$ - ranked from best to worst',fontsize=20)\n",
    "plt.ylabel('Integrative model error (MSE)', fontsize=20)\n",
    "\n",
    "# Enregistrer la figure ...........\n",
    "\n",
    "plt.savefig(\"/data/home/globc/peatier/figures/PPE_ej_decompo_example_\"+variable+\".png\", \n",
    "        orientation='portrait', bbox_inches='tight', pad_inches=0.1)\n",
    "\n",
    "# Display the figure \n",
    "plt.show()"
   ]
  },
  {
   "cell_type": "markdown",
   "metadata": {},
   "source": [
    "# Figure - correlation"
   ]
  },
  {
   "cell_type": "code",
   "execution_count": 42,
   "metadata": {},
   "outputs": [],
   "source": [
    "def correlation(df_fig, q) :\n",
    "    res = stats.linregress(df_fig['pj '+str(q)+' modes'], df_fig['ej'])\n",
    "    x = np.arange(0.0,1600.0,10.0)\n",
    "    line = res.intercept + res.slope*x\n",
    "    \n",
    "    r = res.rvalue\n",
    "    r_round = round(r,3)\n",
    "    \n",
    "    return [line, r_round]"
   ]
  },
  {
   "cell_type": "code",
   "execution_count": 43,
   "metadata": {},
   "outputs": [],
   "source": [
    "corr = {}\n",
    "## -- 5 modes :\n",
    "q = 5\n",
    "corr[str(q)+' modes'] = correlation(df_fig, q)\n",
    "\n",
    "## -- 20 modes :\n",
    "q = 20\n",
    "corr[str(q)+' modes'] = correlation(df_fig, q)\n",
    "\n",
    "## -- 50 modes :\n",
    "q = 50\n",
    "corr[str(q)+' modes'] = correlation(df_fig, q)\n",
    "\n",
    "## -- 102 modes :\n",
    "q = 102\n",
    "corr[str(q)+' modes'] = correlation(df_fig, q)"
   ]
  },
  {
   "cell_type": "code",
   "execution_count": 48,
   "metadata": {},
   "outputs": [
    {
     "data": {
      "image/png": "[encoded data removed]",
      "text/plain": [
       "<Figure size 864x720 with 1 Axes>"
      ]
     },
     "metadata": {
      "needs_background": "light"
     },
     "output_type": "display_data"
    }
   ],
   "source": [
    "fig, ax = plt.subplots(figsize=(12,10))\n",
    "\n",
    "## -- Regression line for different q\n",
    "q=5\n",
    "ax.plot(np.arange(0.0,1600.0,10.0), corr[str(q)+' modes'][0], \n",
    "        linestyle='--', alpha=0.5,  color='darkred', \n",
    "        label='_nolegend_', zorder =20)\n",
    "q=20\n",
    "ax.plot(np.arange(0.0,1600.0,10.0), corr[str(q)+' modes'][0], \n",
    "        linestyle='--', alpha=0.5,  color='teal', \n",
    "        label='_nolegend_', zorder =20)\n",
    "q=50\n",
    "ax.plot(np.arange(0.0,1600.0,10.0), corr[str(q)+' modes'][0], linestyle='--', alpha=0.5,  \n",
    "        color='plum', \n",
    "        label='_nolegend_', zorder =20)\n",
    "q=102\n",
    "ax.plot(np.arange(0.0,1600.0,10.0), corr[str(q)+' modes'][0], linestyle='--', alpha=0.5,  \n",
    "        color='coral', \n",
    "        label='_nolegend_', zorder =20)\n",
    "\n",
    "## -- Scatter plot for different q\n",
    "q=5\n",
    "df_fig_sort.plot(kind='scatter', x='pj 5 modes', y='ej', \n",
    "                           color='darkred', alpha=1, marker='o', ax = ax, zorder =1)\n",
    "q=20\n",
    "df_fig_sort.plot(kind='scatter', x='pj 20 modes', y='ej', \n",
    "                           color='teal', alpha=1, marker='o', ax = ax, zorder =1)\n",
    "q=50\n",
    "df_fig_sort.plot(kind='scatter', x='pj 50 modes', y='ej', \n",
    "                           color='plum', alpha=1, marker='o', ax = ax, zorder =1)\n",
    "q=102\n",
    "df_fig_sort.plot(kind='scatter', x='pj 102 modes', y='ej', \n",
    "                           color='coral', alpha=1, marker='o', ax = ax, zorder =1)\n",
    "\n",
    "\n",
    "\n",
    "## -- Regression line for the diagonal (0,0)\n",
    "ax.plot(np.arange(0.0,1600.0,10.0), np.arange(0.0,1600.0,10.0), \n",
    "        linestyle=\"-\", alpha=0.3,  color='gray', \n",
    "        label='_nolegend_')\n",
    "\n",
    "## -- Legend and settings\n",
    "legend=['5 EOF modes retained ($q=5$)', \n",
    "        '20 EOF modes retained ($q=20$)', \n",
    "        '50 EOF modes retained ($q=50$)', \n",
    "        '102 EOF modes retained ($q=102$)']\n",
    "#ax.text(x=1.6, y=0.7, s='Pearson correlation coefficients :', fontsize=16)\n",
    "ax.text(x=0.05, y=1750.0, s='$r = $'+str(corr['5 modes'][1]), fontsize=16, \n",
    "        color='darkred', fontweight='bold')\n",
    "ax.text(x=0.05, y=1700.0, s='$r = $'+str(corr['20 modes'][1]), fontsize=16, \n",
    "        color='teal', fontweight='bold')\n",
    "ax.text(x=0.05, y=1650.0, s='$r = $'+str(corr['50 modes'][1]), fontsize=16, \n",
    "        color='plum', fontweight='bold')\n",
    "ax.text(x=0.05, y=1600.0, s='$r = $'+str(corr['102 modes'][1]), fontsize=16, \n",
    "        color='coral', fontweight='bold')\n",
    "ax.tick_params(axis='both', which='major', labelsize=15)\n",
    "plt.legend(legend, fontsize=18, loc='lower right') #, bbox_to_anchor=(1.5, 1.02))\n",
    "plt.title('TOA Short wave fluxes ($W/m^2$)', fontsize = 25)\n",
    "plt.xlabel('Parametric component of the error $p_{tas}(\\\\theta_i)$',fontsize=20)\n",
    "plt.ylabel('Full error $e_{tas}(\\\\theta_i)$',fontsize=20)\n",
    "#plt.ylim(0,7.2)\n",
    "#plt.xlim(0,7.2)\n",
    "\n",
    "# Enregistrer la figure ...........\n",
    "\n",
    "plt.savefig(\"/data/home/globc/peatier/figures/Corr_decompo_example_\"+variable+\".png\", \n",
    "        orientation='portrait', bbox_inches='tight', pad_inches=0.1)\n",
    "\n",
    "# Display the figure \n",
    "plt.show()"
   ]
  },
  {
   "cell_type": "code",
   "execution_count": 41,
   "metadata": {},
   "outputs": [
    {
     "data": {
      "text/plain": [
       "40.0"
      ]
     },
     "execution_count": 41,
     "metadata": {},
     "output_type": "execute_result"
    }
   ],
   "source": [
    "sqrt(1600)"
   ]
  },
  {
   "cell_type": "code",
   "execution_count": null,
   "metadata": {},
   "outputs": [],
   "source": []
  }
 ],
 "metadata": {
  "kernelspec": {
   "display_name": "Python 3",
   "language": "python",
   "name": "python3"
  },
  "language_info": {
   "codemirror_mode": {
    "name": "ipython",
    "version": 3
   },
   "file_extension": ".py",
   "mimetype": "text/x-python",
   "name": "python",
   "nbconvert_exporter": "python",
   "pygments_lexer": "ipython3",
   "version": "3.7.6"
  }
 },
 "nbformat": 4,
 "nbformat_minor": 2
}
