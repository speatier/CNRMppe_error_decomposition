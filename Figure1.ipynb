{
 "cells": [
  {
   "cell_type": "markdown",
   "metadata": {},
   "source": [
    "# Import Module"
   ]
  },
  {
   "cell_type": "code",
   "execution_count": 14,
   "metadata": {},
   "outputs": [],
   "source": [
    "# Computational modules \n",
    "%matplotlib inline\n",
    "import xarray as xr\n",
    "import glob\n",
    "import os\n",
    "import numpy as np\n",
    "import netCDF4\n",
    "from netCDF4 import Dataset\n",
    "import pandas as pd\n",
    "import re\n",
    "from array import array\n",
    "from pylab import *\n",
    "#import geopandas\n",
    "from eofs.xarray import Eof\n",
    "from eofs.multivariate.standard import MultivariateEof\n",
    "\n",
    "# Plotting modules \n",
    "import matplotlib.pyplot as plt\n",
    "from mpl_toolkits.basemap import Basemap\n",
    "import pandas.plotting\n",
    "import matplotlib.ticker as ticker\n",
    "import seaborn as sns\n",
    "import cartopy.crs as ccrs\n",
    "import cartopy.feature as cfeature\n",
    "from matplotlib.colors import BoundaryNorm\n",
    "\n",
    "# Scikit-learn\n",
    "from sklearn import linear_model\n",
    "from sklearn.linear_model import LassoCV, LassoLarsCV, LassoLarsIC\n",
    "from sklearn.linear_model import Lasso\n",
    "from sklearn.metrics import r2_score\n",
    "from sklearn import preprocessing\n",
    "from sklearn import tree\n",
    "from sklearn.ensemble import RandomForestClassifier\n",
    "from sklearn.metrics import confusion_matrix\n",
    "from sklearn import metrics\n",
    "from sklearn.neural_network import MLPRegressor\n",
    "from scipy.optimize import minimize\n",
    "from scipy.optimize import dual_annealing"
   ]
  },
  {
   "cell_type": "markdown",
   "metadata": {},
   "source": [
    "# Settings"
   ]
  },
  {
   "cell_type": "markdown",
   "metadata": {},
   "source": [
    "### Variables"
   ]
  },
  {
   "cell_type": "code",
   "execution_count": 2,
   "metadata": {},
   "outputs": [],
   "source": [
    "variables = ['tas']\n",
    "variable = 'tas'\n",
    "TITLE = 'Surface Temperature'\n",
    "ylabel = '$E_{tas}$ (K)'"
   ]
  },
  {
   "cell_type": "markdown",
   "metadata": {},
   "source": [
    "### Paths"
   ]
  },
  {
   "cell_type": "code",
   "execution_count": 3,
   "metadata": {},
   "outputs": [],
   "source": [
    "path_official='/data/scratch/globc/peatier/CMIP6/CNRM-CM6-1/CFMIP/amip/'\n",
    "path_PPE='/data/scratch/globc/peatier/CNRM-CM6-1_PPE/'\n",
    "path_files='/data/home/globc/peatier/CNRMppe/PPE/ENSEMBLE2/files/'"
   ]
  },
  {
   "cell_type": "markdown",
   "metadata": {},
   "source": [
    "### List of members"
   ]
  },
  {
   "cell_type": "code",
   "execution_count": 4,
   "metadata": {},
   "outputs": [
    {
     "data": {
      "text/plain": [
       "102"
      ]
     },
     "execution_count": 4,
     "metadata": {},
     "output_type": "execute_result"
    }
   ],
   "source": [
    "nb_p_list = ['p311', 'p312', 'p314', 'p316',\n",
    "                    'p317', 'p319', 'p320', 'p321', 'p322', 'p324', 'p325', 'p326', \n",
    "                    'p329', 'p330', 'p331', 'p332', 'p335', 'p336', 'p337' ,'p338', \n",
    "                    'p340', 'p341', 'p343', 'p344', 'p346', 'p347', 'p348', 'p349', \n",
    "                    'p350', 'p353', 'p355', 'p357', 'p359', 'p360', \n",
    "                    'p361', 'p363', 'p365', 'p367', 'p368', 'p369', \n",
    "                    'p372', 'p373', 'p374', 'p375', 'p376', 'p378', 'p381', 'p382', \n",
    "                    'p384', 'p386', 'p388', 'p389', 'p391', 'p392', 'p393', \n",
    "                    'p394', 'p395', 'p396', 'p398', 'p399', 'p400', 'p404', \n",
    "                    'p406', 'p407', 'p409', 'p410', 'p411', 'p412',\n",
    "                    'p414','p416',\n",
    "                    'p413','p419','p424','p426','p428','p421','p423',\n",
    "                    'p425','p427','p429','p430','p436','p438','p431','p433',\n",
    "                    'p442','p446','p443','p445','p447',\n",
    "                    'p452','p454','p456','p458','p457','p459',\n",
    "                    'p460','p465','p467','p469',\n",
    "                    'p470','p471']\n",
    "\n",
    "len(nb_p_list)"
   ]
  },
  {
   "cell_type": "markdown",
   "metadata": {},
   "source": [
    "# Functions"
   ]
  },
  {
   "cell_type": "code",
   "execution_count": 5,
   "metadata": {},
   "outputs": [],
   "source": [
    "def get_3D_tas_xarr(path, filename, variables):\n",
    "\n",
    "    # First step : download the data into dataframe\n",
    "    file = xr.open_mfdataset(path+filename,combine='by_coords')\n",
    "    \n",
    "    # Second step : compute the annual average \n",
    "    df = file[variables].mean('time', keep_attrs=True)\n",
    "    tas = df['tas']\n",
    "    \n",
    "    return tas"
   ]
  },
  {
   "cell_type": "markdown",
   "metadata": {},
   "source": [
    "# Get data : obs, PPE, p1"
   ]
  },
  {
   "cell_type": "code",
   "execution_count": 6,
   "metadata": {},
   "outputs": [],
   "source": [
    "product = 'BEST'\n",
    "path_observation = '/data/scratch/globc/peatier/obs_data/BEST/'\n",
    "filename = 'Land_and_Ocean_LatLong1_regrid_1979-1981.nc'\n",
    "variable_obs = ['climatology', 'temperature']"
   ]
  },
  {
   "cell_type": "code",
   "execution_count": 7,
   "metadata": {},
   "outputs": [
    {
     "data": {
      "text/html": [
       "<div>\n",
       "<style scoped>\n",
       "    .dataframe tbody tr th:only-of-type {\n",
       "        vertical-align: middle;\n",
       "    }\n",
       "\n",
       "    .dataframe tbody tr th {\n",
       "        vertical-align: top;\n",
       "    }\n",
       "\n",
       "    .dataframe thead th {\n",
       "        text-align: right;\n",
       "    }\n",
       "</style>\n",
       "<table border=\"1\" class=\"dataframe\">\n",
       "  <thead>\n",
       "    <tr style=\"text-align: right;\">\n",
       "      <th></th>\n",
       "      <th></th>\n",
       "      <th>time</th>\n",
       "      <th>temperature</th>\n",
       "      <th>clim</th>\n",
       "      <th>ta</th>\n",
       "    </tr>\n",
       "    <tr>\n",
       "      <th>lat</th>\n",
       "      <th>lon</th>\n",
       "      <th></th>\n",
       "      <th></th>\n",
       "      <th></th>\n",
       "      <th></th>\n",
       "    </tr>\n",
       "  </thead>\n",
       "  <tbody>\n",
       "    <tr>\n",
       "      <th rowspan=\"5\" valign=\"top\">-88.927735</th>\n",
       "      <th>0.00000</th>\n",
       "      <td>1979.0</td>\n",
       "      <td>0.768801</td>\n",
       "      <td>247.956879</td>\n",
       "      <td>248.725677</td>\n",
       "    </tr>\n",
       "    <tr>\n",
       "      <th>1.40625</th>\n",
       "      <td>1979.0</td>\n",
       "      <td>0.769734</td>\n",
       "      <td>247.934448</td>\n",
       "      <td>248.704178</td>\n",
       "    </tr>\n",
       "    <tr>\n",
       "      <th>2.81250</th>\n",
       "      <td>1979.0</td>\n",
       "      <td>0.770550</td>\n",
       "      <td>247.913254</td>\n",
       "      <td>248.683807</td>\n",
       "    </tr>\n",
       "    <tr>\n",
       "      <th>4.21875</th>\n",
       "      <td>1979.0</td>\n",
       "      <td>0.771259</td>\n",
       "      <td>247.893265</td>\n",
       "      <td>248.664520</td>\n",
       "    </tr>\n",
       "    <tr>\n",
       "      <th>5.62500</th>\n",
       "      <td>1979.0</td>\n",
       "      <td>0.771860</td>\n",
       "      <td>247.873901</td>\n",
       "      <td>248.645767</td>\n",
       "    </tr>\n",
       "    <tr>\n",
       "      <th>...</th>\n",
       "      <th>...</th>\n",
       "      <td>...</td>\n",
       "      <td>...</td>\n",
       "      <td>...</td>\n",
       "      <td>...</td>\n",
       "    </tr>\n",
       "    <tr>\n",
       "      <th rowspan=\"5\" valign=\"top\">88.927735</th>\n",
       "      <th>352.96875</th>\n",
       "      <td>1981.0</td>\n",
       "      <td>0.004460</td>\n",
       "      <td>242.438736</td>\n",
       "      <td>242.443192</td>\n",
       "    </tr>\n",
       "    <tr>\n",
       "      <th>354.37500</th>\n",
       "      <td>1981.0</td>\n",
       "      <td>-0.004911</td>\n",
       "      <td>242.415558</td>\n",
       "      <td>242.410645</td>\n",
       "    </tr>\n",
       "    <tr>\n",
       "      <th>355.78125</th>\n",
       "      <td>1981.0</td>\n",
       "      <td>-0.016334</td>\n",
       "      <td>242.421768</td>\n",
       "      <td>242.405441</td>\n",
       "    </tr>\n",
       "    <tr>\n",
       "      <th>357.18750</th>\n",
       "      <td>1981.0</td>\n",
       "      <td>-0.024906</td>\n",
       "      <td>242.446747</td>\n",
       "      <td>242.421844</td>\n",
       "    </tr>\n",
       "    <tr>\n",
       "      <th>358.59375</th>\n",
       "      <td>1981.0</td>\n",
       "      <td>-0.041427</td>\n",
       "      <td>242.496857</td>\n",
       "      <td>242.455429</td>\n",
       "    </tr>\n",
       "  </tbody>\n",
       "</table>\n",
       "<p>1179648 rows × 4 columns</p>\n",
       "</div>"
      ],
      "text/plain": [
       "                        time  temperature        clim          ta\n",
       "lat        lon                                                   \n",
       "-88.927735 0.00000    1979.0     0.768801  247.956879  248.725677\n",
       "           1.40625    1979.0     0.769734  247.934448  248.704178\n",
       "           2.81250    1979.0     0.770550  247.913254  248.683807\n",
       "           4.21875    1979.0     0.771259  247.893265  248.664520\n",
       "           5.62500    1979.0     0.771860  247.873901  248.645767\n",
       "...                      ...          ...         ...         ...\n",
       " 88.927735 352.96875  1981.0     0.004460  242.438736  242.443192\n",
       "           354.37500  1981.0    -0.004911  242.415558  242.410645\n",
       "           355.78125  1981.0    -0.016334  242.421768  242.405441\n",
       "           357.18750  1981.0    -0.024906  242.446747  242.421844\n",
       "           358.59375  1981.0    -0.041427  242.496857  242.455429\n",
       "\n",
       "[1179648 rows x 4 columns]"
      ]
     },
     "execution_count": 7,
     "metadata": {},
     "output_type": "execute_result"
    }
   ],
   "source": [
    "# POUR LES OBSERVATIONS BEST\n",
    "\n",
    "path = path_observation\n",
    "\n",
    "file =  xr.open_mfdataset(path+filename,combine='by_coords')\n",
    "clim = file['climatology'].to_dataframe()#.drop(columns='month_number')\n",
    "clim = pd.concat([clim, clim, clim]).reset_index('month_number')\n",
    "\n",
    "df_obs=file['temperature'].to_dataframe().reset_index('time')\n",
    "df_obs['temperature'] = df_obs['temperature']\n",
    "df_obs['clim'] = clim['climatology']+273.15\n",
    "df_obs['ta'] = df_obs['temperature']+df_obs['clim']\n",
    "variable_obs = 'ta'\n",
    "df_obs"
   ]
  },
  {
   "cell_type": "code",
   "execution_count": 8,
   "metadata": {},
   "outputs": [
    {
     "data": {
      "text/html": [
       "<pre>&lt;xarray.Dataset&gt;\n",
       "Dimensions:      (lat: 128, lon: 256)\n",
       "Coordinates:\n",
       "  * lat          (lat) float64 -88.93 -87.54 -86.14 -84.74 ... 86.14 87.54 88.93\n",
       "  * lon          (lon) float64 0.0 1.406 2.812 4.219 ... 354.4 355.8 357.2 358.6\n",
       "Data variables:\n",
       "    time         (lat, lon) float64 1.98e+03 1.98e+03 ... 1.98e+03 1.98e+03\n",
       "    temperature  (lat, lon) float32 0.17527 0.17550375 ... -0.16200545\n",
       "    clim         (lat, lon) float32 226.26932 226.22813 ... 253.36414 253.36504\n",
       "    ta           (lat, lon) float32 226.4446 226.40364 ... 253.20612 253.20302</pre>"
      ],
      "text/plain": [
       "<xarray.Dataset>\n",
       "Dimensions:      (lat: 128, lon: 256)\n",
       "Coordinates:\n",
       "  * lat          (lat) float64 -88.93 -87.54 -86.14 -84.74 ... 86.14 87.54 88.93\n",
       "  * lon          (lon) float64 0.0 1.406 2.812 4.219 ... 354.4 355.8 357.2 358.6\n",
       "Data variables:\n",
       "    time         (lat, lon) float64 1.98e+03 1.98e+03 ... 1.98e+03 1.98e+03\n",
       "    temperature  (lat, lon) float32 0.17527 0.17550375 ... -0.16200545\n",
       "    clim         (lat, lon) float32 226.26932 226.22813 ... 253.36414 253.36504\n",
       "    ta           (lat, lon) float32 226.4446 226.40364 ... 253.20612 253.20302"
      ]
     },
     "execution_count": 8,
     "metadata": {},
     "output_type": "execute_result"
    }
   ],
   "source": [
    "obs = df_obs.groupby(['lat','lon']).mean().to_xarray()\n",
    "obs"
   ]
  },
  {
   "cell_type": "code",
   "execution_count": 9,
   "metadata": {},
   "outputs": [],
   "source": [
    "# Default simulation\n",
    "path = path_PPE+'ENSEMBLE1/CNRM-CM6-1_amip_PPE/CNRM-CM6-1_amip_r1i1p1f2/'\n",
    "filename = '*_CNRM-CM6-1_amip_*.nc'\n",
    "p1_amip = get_3D_tas_xarr(path, filename, variables)"
   ]
  },
  {
   "cell_type": "code",
   "execution_count": 10,
   "metadata": {},
   "outputs": [],
   "source": [
    "# PPE amip simulations \n",
    "filename='*_amip_*.nc'\n",
    "\n",
    "N=len(nb_p_list)\n",
    "amip={}\n",
    "i = 0\n",
    "while i<N:\n",
    "    nb_p = nb_p_list[i]\n",
    "    #print(nb_p)\n",
    "    path=path_PPE+'ENSEMBLE2/CNRM-CM6-1_amip_LHS500_PPE/CNRM-CM6-1_amip_r1i1'+str(nb_p)+'f2/'\n",
    "    amip[str(nb_p)] = get_3D_tas_xarr(path, filename, variables)\n",
    "    i=i+1"
   ]
  },
  {
   "cell_type": "code",
   "execution_count": 11,
   "metadata": {},
   "outputs": [],
   "source": [
    "amip['p1'] = p1_amip"
   ]
  },
  {
   "cell_type": "markdown",
   "metadata": {},
   "source": [
    "# Calcule full RMSE (ej)"
   ]
  },
  {
   "cell_type": "code",
   "execution_count": 59,
   "metadata": {},
   "outputs": [],
   "source": [
    "# Reference p1\n",
    "diff = (amip['p1'].values - obs['ta'].values)**2\n",
    "diff_p1 = sqrt(sum(diff)/(128*256))"
   ]
  },
  {
   "cell_type": "code",
   "execution_count": 60,
   "metadata": {},
   "outputs": [],
   "source": [
    "ej = {}\n",
    "ej['p1'] = diff_p1\n",
    "\n",
    "for p in nb_p_list :\n",
    "    diff = (amip[p].values - obs['ta'].values)**2\n",
    "    diff = sqrt(sum(diff)/(128*256))\n",
    "    ej[p] = diff"
   ]
  },
  {
   "cell_type": "markdown",
   "metadata": {},
   "source": [
    "### Save"
   ]
  },
  {
   "cell_type": "code",
   "execution_count": 63,
   "metadata": {},
   "outputs": [],
   "source": [
    "np.save(path_files+'npy/CNRMppe_decomposition_ej_'+str(variable)+'.npy', ej)"
   ]
  },
  {
   "cell_type": "markdown",
   "metadata": {},
   "source": [
    "# EOF + truncated RMSE (rj)"
   ]
  },
  {
   "cell_type": "markdown",
   "metadata": {},
   "source": [
    "## EOF"
   ]
  },
  {
   "cell_type": "code",
   "execution_count": 23,
   "metadata": {},
   "outputs": [],
   "source": [
    "n=len(nb_p_list)\n",
    "amip_list=[0]*(n+1)\n",
    "\n",
    "amip_list[0] = amip['p1']\n",
    "\n",
    "i = 0\n",
    "while i<n:\n",
    "    nb_p = nb_p_list[i]\n",
    "    #print(nb_p)\n",
    "    tmp = amip[str(nb_p)]\n",
    "    amip_list[i+1] = tmp\n",
    "    i+=1"
   ]
  },
  {
   "cell_type": "code",
   "execution_count": 24,
   "metadata": {},
   "outputs": [],
   "source": [
    "matrix = xr.combine_nested(amip_list, concat_dim=['time'])"
   ]
  },
  {
   "cell_type": "code",
   "execution_count": 25,
   "metadata": {},
   "outputs": [],
   "source": [
    "# Mean wheigted with cos(lat) : \n",
    "lats = matrix['lat'][:]\n",
    "coslat = np.cos(np.deg2rad(lats)).clip(0., 1.)\n",
    "wgts = np.sqrt(coslat).drop(labels='height').values\n",
    "W =wgts[np.newaxis,:,np.newaxis]\n",
    "#W"
   ]
  },
  {
   "cell_type": "code",
   "execution_count": 26,
   "metadata": {},
   "outputs": [
    {
     "data": {
      "text/html": [
       "<pre>&lt;xarray.DataArray &#x27;tas&#x27; (time: 103, lat: 128, lon: 256)&gt;\n",
       "dask.array&lt;sub, shape=(103, 128, 256), dtype=float32, chunksize=(1, 128, 256), chunktype=numpy.ndarray&gt;\n",
       "Coordinates:\n",
       "    height   float64 2.0\n",
       "  * lon      (lon) float64 0.0 1.406 2.812 4.219 ... 354.4 355.8 357.2 358.6\n",
       "  * lat      (lat) float64 -88.93 -87.54 -86.14 -84.74 ... 86.14 87.54 88.93\n",
       "Dimensions without coordinates: time</pre>"
      ],
      "text/plain": [
       "<xarray.DataArray 'tas' (time: 103, lat: 128, lon: 256)>\n",
       "dask.array<sub, shape=(103, 128, 256), dtype=float32, chunksize=(1, 128, 256), chunktype=numpy.ndarray>\n",
       "Coordinates:\n",
       "    height   float64 2.0\n",
       "  * lon      (lon) float64 0.0 1.406 2.812 4.219 ... 354.4 355.8 357.2 358.6\n",
       "  * lat      (lat) float64 -88.93 -87.54 -86.14 -84.74 ... 86.14 87.54 88.93\n",
       "Dimensions without coordinates: time"
      ]
     },
     "execution_count": 26,
     "metadata": {},
     "output_type": "execute_result"
    }
   ],
   "source": [
    "# Compute anomalies by removing the ensemble-mean.\n",
    "mean = matrix.mean(axis=0)\n",
    "anom = matrix - mean\n",
    "anom"
   ]
  },
  {
   "cell_type": "code",
   "execution_count": 37,
   "metadata": {},
   "outputs": [],
   "source": [
    "# Create an EOF solver to do the EOF analysis. \n",
    "solver = Eof(anom, weights=W)\n",
    "\n",
    "eof = solver.eofsAsCovariance(neofs=100, pcscaling=1)\n",
    "pc = solver.pcs(pcscaling=1)"
   ]
  },
  {
   "cell_type": "code",
   "execution_count": 38,
   "metadata": {
    "collapsed": true
   },
   "outputs": [
    {
     "data": {
      "text/html": [
       "<pre>&lt;xarray.DataArray &#x27;variance_fractions&#x27; (mode: 100)&gt;\n",
       "array([5.9029305e-01, 1.4316060e-01, 5.8639932e-02, 3.0417012e-02,\n",
       "       2.7830809e-02, 2.0018833e-02, 1.5256711e-02, 9.8949242e-03,\n",
       "       7.9678707e-03, 7.0996899e-03, 6.3989810e-03, 5.5999518e-03,\n",
       "       4.5344974e-03, 4.2321393e-03, 4.0031751e-03, 3.8185476e-03,\n",
       "       3.4057831e-03, 2.7416931e-03, 2.6190148e-03, 2.5470916e-03,\n",
       "       2.3622308e-03, 2.2444220e-03, 2.1581822e-03, 1.9745117e-03,\n",
       "       1.7877818e-03, 1.7275190e-03, 1.6221184e-03, 1.4282162e-03,\n",
       "       1.3880377e-03, 1.3315770e-03, 1.2468399e-03, 1.2089929e-03,\n",
       "       1.0711218e-03, 1.0115474e-03, 9.8803267e-04, 9.7136275e-04,\n",
       "       9.5645763e-04, 8.6397066e-04, 8.3875482e-04, 8.0711144e-04,\n",
       "       7.7542005e-04, 7.6765771e-04, 7.4538821e-04, 7.1873807e-04,\n",
       "       7.1063492e-04, 6.3767197e-04, 6.3141389e-04, 5.9365534e-04,\n",
       "       5.8057794e-04, 5.6045078e-04, 5.5315130e-04, 5.2859902e-04,\n",
       "       5.1176507e-04, 4.8493716e-04, 4.7884620e-04, 4.6637168e-04,\n",
       "       4.5231136e-04, 4.4672732e-04, 4.1803138e-04, 3.9737250e-04,\n",
       "       3.9587688e-04, 3.8457071e-04, 3.7593566e-04, 3.5383605e-04,\n",
       "       3.4611364e-04, 3.3720530e-04, 3.2054540e-04, 3.1028417e-04,\n",
       "       3.0553038e-04, 3.0291095e-04, 2.9174765e-04, 2.8806971e-04,\n",
       "       2.8438025e-04, 2.7652876e-04, 2.7166307e-04, 2.6456689e-04,\n",
       "       2.6163520e-04, 2.5807711e-04, 2.4699260e-04, 2.4326787e-04,\n",
       "       2.3946667e-04, 2.3011430e-04, 2.2056579e-04, 2.1784770e-04,\n",
       "       2.1345174e-04, 2.0408374e-04, 2.0285790e-04, 1.8960644e-04,\n",
       "       1.8809702e-04, 1.8457975e-04, 1.8199846e-04, 1.7813584e-04,\n",
       "       1.7138205e-04, 1.6767626e-04, 1.5783962e-04, 1.5509324e-04,\n",
       "       1.5256063e-04, 1.4869872e-04, 1.4154168e-04, 1.4047862e-04],\n",
       "      dtype=float32)\n",
       "Coordinates:\n",
       "  * mode     (mode) int64 0 1 2 3 4 5 6 7 8 9 ... 90 91 92 93 94 95 96 97 98 99\n",
       "Attributes:\n",
       "    long_name:  variance_fractions</pre>"
      ],
      "text/plain": [
       "<xarray.DataArray 'variance_fractions' (mode: 100)>\n",
       "array([5.9029305e-01, 1.4316060e-01, 5.8639932e-02, 3.0417012e-02,\n",
       "       2.7830809e-02, 2.0018833e-02, 1.5256711e-02, 9.8949242e-03,\n",
       "       7.9678707e-03, 7.0996899e-03, 6.3989810e-03, 5.5999518e-03,\n",
       "       4.5344974e-03, 4.2321393e-03, 4.0031751e-03, 3.8185476e-03,\n",
       "       3.4057831e-03, 2.7416931e-03, 2.6190148e-03, 2.5470916e-03,\n",
       "       2.3622308e-03, 2.2444220e-03, 2.1581822e-03, 1.9745117e-03,\n",
       "       1.7877818e-03, 1.7275190e-03, 1.6221184e-03, 1.4282162e-03,\n",
       "       1.3880377e-03, 1.3315770e-03, 1.2468399e-03, 1.2089929e-03,\n",
       "       1.0711218e-03, 1.0115474e-03, 9.8803267e-04, 9.7136275e-04,\n",
       "       9.5645763e-04, 8.6397066e-04, 8.3875482e-04, 8.0711144e-04,\n",
       "       7.7542005e-04, 7.6765771e-04, 7.4538821e-04, 7.1873807e-04,\n",
       "       7.1063492e-04, 6.3767197e-04, 6.3141389e-04, 5.9365534e-04,\n",
       "       5.8057794e-04, 5.6045078e-04, 5.5315130e-04, 5.2859902e-04,\n",
       "       5.1176507e-04, 4.8493716e-04, 4.7884620e-04, 4.6637168e-04,\n",
       "       4.5231136e-04, 4.4672732e-04, 4.1803138e-04, 3.9737250e-04,\n",
       "       3.9587688e-04, 3.8457071e-04, 3.7593566e-04, 3.5383605e-04,\n",
       "       3.4611364e-04, 3.3720530e-04, 3.2054540e-04, 3.1028417e-04,\n",
       "       3.0553038e-04, 3.0291095e-04, 2.9174765e-04, 2.8806971e-04,\n",
       "       2.8438025e-04, 2.7652876e-04, 2.7166307e-04, 2.6456689e-04,\n",
       "       2.6163520e-04, 2.5807711e-04, 2.4699260e-04, 2.4326787e-04,\n",
       "       2.3946667e-04, 2.3011430e-04, 2.2056579e-04, 2.1784770e-04,\n",
       "       2.1345174e-04, 2.0408374e-04, 2.0285790e-04, 1.8960644e-04,\n",
       "       1.8809702e-04, 1.8457975e-04, 1.8199846e-04, 1.7813584e-04,\n",
       "       1.7138205e-04, 1.6767626e-04, 1.5783962e-04, 1.5509324e-04,\n",
       "       1.5256063e-04, 1.4869872e-04, 1.4154168e-04, 1.4047862e-04],\n",
       "      dtype=float32)\n",
       "Coordinates:\n",
       "  * mode     (mode) int64 0 1 2 3 4 5 6 7 8 9 ... 90 91 92 93 94 95 96 97 98 99\n",
       "Attributes:\n",
       "    long_name:  variance_fractions"
      ]
     },
     "execution_count": 38,
     "metadata": {},
     "output_type": "execute_result"
    }
   ],
   "source": [
    "varFrac = solver.varianceFraction(neigs=100)\n",
    "varFrac"
   ]
  },
  {
   "cell_type": "markdown",
   "metadata": {},
   "source": [
    "### Save"
   ]
  },
  {
   "cell_type": "code",
   "execution_count": 40,
   "metadata": {},
   "outputs": [],
   "source": [
    "for i in range(0,len(eof),1) : \n",
    "    j = i+1\n",
    "    # EOFmap\n",
    "    EOF_df = eof[i].to_dataframe().drop(labels = 'mode', axis=1)\n",
    "    EOF_df.to_pickle(path_files+\"npy/CNRMppe_decomposition_EOFmap\"+str(j)+\"_\"+str(variable)+\".npy\")\n",
    "    \n",
    "    #EOFpc\n",
    "    pc_p1 = pc[0, i]\n",
    "    pc_mb = pc[1:, i]\n",
    "    np.save(path_files+'npy/CNRMppe_decomposition_p1_EOF'+str(j)+'pc_'+str(variable)+'.npy', pc_p1)\n",
    "    np.save(path_files+'npy/CNRMppe_decomposition_EOF'+str(j)+'pc_'+str(variable)+'.npy', pc_mb)"
   ]
  },
  {
   "cell_type": "code",
   "execution_count": 168,
   "metadata": {},
   "outputs": [],
   "source": [
    "mean_df = mean.to_dataframe(name=str(variable)+'mean').drop(labels = 'height', axis=1)\n",
    "mean_df.to_pickle(path_files+'npy/CNRMppe_decomposition_mean_'+str(variable)+'.npy')"
   ]
  },
  {
   "cell_type": "markdown",
   "metadata": {},
   "source": [
    "## Projection des obs"
   ]
  },
  {
   "cell_type": "code",
   "execution_count": 187,
   "metadata": {},
   "outputs": [],
   "source": [
    "eofs = []\n",
    "pc1 = np.load(path_files+'npy/CNRMppe_decomposition_EOF1pc_'+str(variable)+'.npy')\n",
    "PC_df = pd.DataFrame(pc1)\n",
    "PC_df['pc1'] = pc1\n",
    "\n",
    "for i in range(0,5, 1) :\n",
    "    j=i+1\n",
    "    tmp = pd.read_pickle(path_files+'npy/CNRMppe_decomposition_EOFmap'+str(j)+'_'+str(variable)+'.npy').to_xarray().to_array()\n",
    "    tmp_bis = tmp[0,:,:].rename({'variable':'mode'})\n",
    "    eofs.append(tmp_bis)\n",
    "\n",
    "    pc = np.load(path_files+'npy/CNRMppe_decomposition_EOF'+str(j)+'pc_'+str(variable)+'.npy')\n",
    "    PC_df['pc'+str(j)] = pc\n",
    "\n",
    "eofs_combined = xr.combine_nested(eofs, concat_dim='eofs')\n",
    "PC_df = PC_df.drop(labels = 0, axis=1)"
   ]
  },
  {
   "cell_type": "code",
   "execution_count": 188,
   "metadata": {},
   "outputs": [],
   "source": [
    "eofs_inv = np.linalg.pinv(eofs_combined.transpose())"
   ]
  },
  {
   "cell_type": "code",
   "execution_count": 189,
   "metadata": {},
   "outputs": [
    {
     "data": {
      "text/html": [
       "<pre>&lt;xarray.DataArray (dummy: 102, lat: 128, lon: 256)&gt;\n",
       "array([[[ 0.9802704 ,  0.9393158 ,  0.90057373, ...,  1.1010437 ,\n",
       "          1.0620728 ,  1.0218506 ],\n",
       "        [ 0.33155823,  0.24545288,  0.11924744, ...,  0.5418396 ,\n",
       "          0.4684906 ,  0.4024353 ],\n",
       "        [ 1.2012634 ,  1.1326752 ,  1.0542145 , ...,  1.0857544 ,\n",
       "          1.3535614 ,  1.2684479 ],\n",
       "        ...,\n",
       "        [-3.0155945 , -3.000702  , -2.9854126 , ..., -3.0026093 ,\n",
       "         -3.0451965 , -3.030716  ],\n",
       "        [-2.5655518 , -2.5644073 , -2.5596313 , ..., -2.5480347 ,\n",
       "         -2.5565033 , -2.563202  ],\n",
       "        [-1.0388489 , -1.040863  , -1.0423584 , ..., -1.029602  ,\n",
       "         -1.0331879 , -1.0362854 ]],\n",
       "\n",
       "       [[ 0.9802704 ,  0.9393158 ,  0.90057373, ...,  1.1010437 ,\n",
       "          1.0620728 ,  1.0218506 ],\n",
       "        [ 0.33155823,  0.24545288,  0.11924744, ...,  0.5418396 ,\n",
       "          0.4684906 ,  0.4024353 ],\n",
       "        [ 1.2012634 ,  1.1326752 ,  1.0542145 , ...,  1.0857544 ,\n",
       "          1.3535614 ,  1.2684479 ],\n",
       "        ...,\n",
       "        [-3.0155945 , -3.000702  , -2.9854126 , ..., -3.0026093 ,\n",
       "         -3.0451965 , -3.030716  ],\n",
       "        [-2.5655518 , -2.5644073 , -2.5596313 , ..., -2.5480347 ,\n",
       "         -2.5565033 , -2.563202  ],\n",
       "        [-1.0388489 , -1.040863  , -1.0423584 , ..., -1.029602  ,\n",
       "         -1.0331879 , -1.0362854 ]],\n",
       "\n",
       "       [[ 0.9802704 ,  0.9393158 ,  0.90057373, ...,  1.1010437 ,\n",
       "          1.0620728 ,  1.0218506 ],\n",
       "        [ 0.33155823,  0.24545288,  0.11924744, ...,  0.5418396 ,\n",
       "          0.4684906 ,  0.4024353 ],\n",
       "        [ 1.2012634 ,  1.1326752 ,  1.0542145 , ...,  1.0857544 ,\n",
       "          1.3535614 ,  1.2684479 ],\n",
       "        ...,\n",
       "        [-3.0155945 , -3.000702  , -2.9854126 , ..., -3.0026093 ,\n",
       "         -3.0451965 , -3.030716  ],\n",
       "        [-2.5655518 , -2.5644073 , -2.5596313 , ..., -2.5480347 ,\n",
       "         -2.5565033 , -2.563202  ],\n",
       "        [-1.0388489 , -1.040863  , -1.0423584 , ..., -1.029602  ,\n",
       "         -1.0331879 , -1.0362854 ]],\n",
       "\n",
       "       ...,\n",
       "\n",
       "       [[ 0.9802704 ,  0.9393158 ,  0.90057373, ...,  1.1010437 ,\n",
       "          1.0620728 ,  1.0218506 ],\n",
       "        [ 0.33155823,  0.24545288,  0.11924744, ...,  0.5418396 ,\n",
       "          0.4684906 ,  0.4024353 ],\n",
       "        [ 1.2012634 ,  1.1326752 ,  1.0542145 , ...,  1.0857544 ,\n",
       "          1.3535614 ,  1.2684479 ],\n",
       "        ...,\n",
       "        [-3.0155945 , -3.000702  , -2.9854126 , ..., -3.0026093 ,\n",
       "         -3.0451965 , -3.030716  ],\n",
       "        [-2.5655518 , -2.5644073 , -2.5596313 , ..., -2.5480347 ,\n",
       "         -2.5565033 , -2.563202  ],\n",
       "        [-1.0388489 , -1.040863  , -1.0423584 , ..., -1.029602  ,\n",
       "         -1.0331879 , -1.0362854 ]],\n",
       "\n",
       "       [[ 0.9802704 ,  0.9393158 ,  0.90057373, ...,  1.1010437 ,\n",
       "          1.0620728 ,  1.0218506 ],\n",
       "        [ 0.33155823,  0.24545288,  0.11924744, ...,  0.5418396 ,\n",
       "          0.4684906 ,  0.4024353 ],\n",
       "        [ 1.2012634 ,  1.1326752 ,  1.0542145 , ...,  1.0857544 ,\n",
       "          1.3535614 ,  1.2684479 ],\n",
       "        ...,\n",
       "        [-3.0155945 , -3.000702  , -2.9854126 , ..., -3.0026093 ,\n",
       "         -3.0451965 , -3.030716  ],\n",
       "        [-2.5655518 , -2.5644073 , -2.5596313 , ..., -2.5480347 ,\n",
       "         -2.5565033 , -2.563202  ],\n",
       "        [-1.0388489 , -1.040863  , -1.0423584 , ..., -1.029602  ,\n",
       "         -1.0331879 , -1.0362854 ]],\n",
       "\n",
       "       [[ 0.9802704 ,  0.9393158 ,  0.90057373, ...,  1.1010437 ,\n",
       "          1.0620728 ,  1.0218506 ],\n",
       "        [ 0.33155823,  0.24545288,  0.11924744, ...,  0.5418396 ,\n",
       "          0.4684906 ,  0.4024353 ],\n",
       "        [ 1.2012634 ,  1.1326752 ,  1.0542145 , ...,  1.0857544 ,\n",
       "          1.3535614 ,  1.2684479 ],\n",
       "        ...,\n",
       "        [-3.0155945 , -3.000702  , -2.9854126 , ..., -3.0026093 ,\n",
       "         -3.0451965 , -3.030716  ],\n",
       "        [-2.5655518 , -2.5644073 , -2.5596313 , ..., -2.5480347 ,\n",
       "         -2.5565033 , -2.563202  ],\n",
       "        [-1.0388489 , -1.040863  , -1.0423584 , ..., -1.029602  ,\n",
       "         -1.0331879 , -1.0362854 ]]], dtype=float32)\n",
       "Coordinates:\n",
       "  * dummy    (dummy) int64 0 1 2 3 4 5 6 7 8 9 ... 93 94 95 96 97 98 99 100 101\n",
       "  * lat      (lat) float64 -88.93 -87.54 -86.14 -84.74 ... 86.14 87.54 88.93\n",
       "  * lon      (lon) float64 0.0 1.406 2.812 4.219 ... 354.4 355.8 357.2 358.6\n",
       "    mode     &lt;U7 &#x27;tasmean&#x27;</pre>"
      ],
      "text/plain": [
       "<xarray.DataArray (dummy: 102, lat: 128, lon: 256)>\n",
       "array([[[ 0.9802704 ,  0.9393158 ,  0.90057373, ...,  1.1010437 ,\n",
       "          1.0620728 ,  1.0218506 ],\n",
       "        [ 0.33155823,  0.24545288,  0.11924744, ...,  0.5418396 ,\n",
       "          0.4684906 ,  0.4024353 ],\n",
       "        [ 1.2012634 ,  1.1326752 ,  1.0542145 , ...,  1.0857544 ,\n",
       "          1.3535614 ,  1.2684479 ],\n",
       "        ...,\n",
       "        [-3.0155945 , -3.000702  , -2.9854126 , ..., -3.0026093 ,\n",
       "         -3.0451965 , -3.030716  ],\n",
       "        [-2.5655518 , -2.5644073 , -2.5596313 , ..., -2.5480347 ,\n",
       "         -2.5565033 , -2.563202  ],\n",
       "        [-1.0388489 , -1.040863  , -1.0423584 , ..., -1.029602  ,\n",
       "         -1.0331879 , -1.0362854 ]],\n",
       "\n",
       "       [[ 0.9802704 ,  0.9393158 ,  0.90057373, ...,  1.1010437 ,\n",
       "          1.0620728 ,  1.0218506 ],\n",
       "        [ 0.33155823,  0.24545288,  0.11924744, ...,  0.5418396 ,\n",
       "          0.4684906 ,  0.4024353 ],\n",
       "        [ 1.2012634 ,  1.1326752 ,  1.0542145 , ...,  1.0857544 ,\n",
       "          1.3535614 ,  1.2684479 ],\n",
       "        ...,\n",
       "        [-3.0155945 , -3.000702  , -2.9854126 , ..., -3.0026093 ,\n",
       "         -3.0451965 , -3.030716  ],\n",
       "        [-2.5655518 , -2.5644073 , -2.5596313 , ..., -2.5480347 ,\n",
       "         -2.5565033 , -2.563202  ],\n",
       "        [-1.0388489 , -1.040863  , -1.0423584 , ..., -1.029602  ,\n",
       "         -1.0331879 , -1.0362854 ]],\n",
       "\n",
       "       [[ 0.9802704 ,  0.9393158 ,  0.90057373, ...,  1.1010437 ,\n",
       "          1.0620728 ,  1.0218506 ],\n",
       "        [ 0.33155823,  0.24545288,  0.11924744, ...,  0.5418396 ,\n",
       "          0.4684906 ,  0.4024353 ],\n",
       "        [ 1.2012634 ,  1.1326752 ,  1.0542145 , ...,  1.0857544 ,\n",
       "          1.3535614 ,  1.2684479 ],\n",
       "        ...,\n",
       "        [-3.0155945 , -3.000702  , -2.9854126 , ..., -3.0026093 ,\n",
       "         -3.0451965 , -3.030716  ],\n",
       "        [-2.5655518 , -2.5644073 , -2.5596313 , ..., -2.5480347 ,\n",
       "         -2.5565033 , -2.563202  ],\n",
       "        [-1.0388489 , -1.040863  , -1.0423584 , ..., -1.029602  ,\n",
       "         -1.0331879 , -1.0362854 ]],\n",
       "\n",
       "       ...,\n",
       "\n",
       "       [[ 0.9802704 ,  0.9393158 ,  0.90057373, ...,  1.1010437 ,\n",
       "          1.0620728 ,  1.0218506 ],\n",
       "        [ 0.33155823,  0.24545288,  0.11924744, ...,  0.5418396 ,\n",
       "          0.4684906 ,  0.4024353 ],\n",
       "        [ 1.2012634 ,  1.1326752 ,  1.0542145 , ...,  1.0857544 ,\n",
       "          1.3535614 ,  1.2684479 ],\n",
       "        ...,\n",
       "        [-3.0155945 , -3.000702  , -2.9854126 , ..., -3.0026093 ,\n",
       "         -3.0451965 , -3.030716  ],\n",
       "        [-2.5655518 , -2.5644073 , -2.5596313 , ..., -2.5480347 ,\n",
       "         -2.5565033 , -2.563202  ],\n",
       "        [-1.0388489 , -1.040863  , -1.0423584 , ..., -1.029602  ,\n",
       "         -1.0331879 , -1.0362854 ]],\n",
       "\n",
       "       [[ 0.9802704 ,  0.9393158 ,  0.90057373, ...,  1.1010437 ,\n",
       "          1.0620728 ,  1.0218506 ],\n",
       "        [ 0.33155823,  0.24545288,  0.11924744, ...,  0.5418396 ,\n",
       "          0.4684906 ,  0.4024353 ],\n",
       "        [ 1.2012634 ,  1.1326752 ,  1.0542145 , ...,  1.0857544 ,\n",
       "          1.3535614 ,  1.2684479 ],\n",
       "        ...,\n",
       "        [-3.0155945 , -3.000702  , -2.9854126 , ..., -3.0026093 ,\n",
       "         -3.0451965 , -3.030716  ],\n",
       "        [-2.5655518 , -2.5644073 , -2.5596313 , ..., -2.5480347 ,\n",
       "         -2.5565033 , -2.563202  ],\n",
       "        [-1.0388489 , -1.040863  , -1.0423584 , ..., -1.029602  ,\n",
       "         -1.0331879 , -1.0362854 ]],\n",
       "\n",
       "       [[ 0.9802704 ,  0.9393158 ,  0.90057373, ...,  1.1010437 ,\n",
       "          1.0620728 ,  1.0218506 ],\n",
       "        [ 0.33155823,  0.24545288,  0.11924744, ...,  0.5418396 ,\n",
       "          0.4684906 ,  0.4024353 ],\n",
       "        [ 1.2012634 ,  1.1326752 ,  1.0542145 , ...,  1.0857544 ,\n",
       "          1.3535614 ,  1.2684479 ],\n",
       "        ...,\n",
       "        [-3.0155945 , -3.000702  , -2.9854126 , ..., -3.0026093 ,\n",
       "         -3.0451965 , -3.030716  ],\n",
       "        [-2.5655518 , -2.5644073 , -2.5596313 , ..., -2.5480347 ,\n",
       "         -2.5565033 , -2.563202  ],\n",
       "        [-1.0388489 , -1.040863  , -1.0423584 , ..., -1.029602  ,\n",
       "         -1.0331879 , -1.0362854 ]]], dtype=float32)\n",
       "Coordinates:\n",
       "  * dummy    (dummy) int64 0 1 2 3 4 5 6 7 8 9 ... 93 94 95 96 97 98 99 100 101\n",
       "  * lat      (lat) float64 -88.93 -87.54 -86.14 -84.74 ... 86.14 87.54 88.93\n",
       "  * lon      (lon) float64 0.0 1.406 2.812 4.219 ... 354.4 355.8 357.2 358.6\n",
       "    mode     <U7 'tasmean'"
      ]
     },
     "execution_count": 189,
     "metadata": {},
     "output_type": "execute_result"
    }
   ],
   "source": [
    "Mean =  pd.read_pickle(path_files+'npy/CNRMppe_decomposition_mean_'+str(variable)+'.npy').to_xarray().to_array()\n",
    "Mean = Mean[0,:,:].rename({'variable':'mode'})\n",
    "X_obs = obs['ta'] - Mean\n",
    "X_obs_bis = X_obs.expand_dims(dim={'dummy':range(0,102,1)})\n",
    "X_obs_bis"
   ]
  },
  {
   "cell_type": "code",
   "execution_count": 190,
   "metadata": {},
   "outputs": [
    {
     "data": {
      "text/html": [
       "<pre>&lt;xarray.DataArray (eofs: 5)&gt;\n",
       "array([-0.09274242, -1.3749883 , -0.09347625,  1.5416942 ,  3.8224268 ],\n",
       "      dtype=float32)\n",
       "Dimensions without coordinates: eofs</pre>"
      ],
      "text/plain": [
       "<xarray.DataArray (eofs: 5)>\n",
       "array([-0.09274242, -1.3749883 , -0.09347625,  1.5416942 ,  3.8224268 ],\n",
       "      dtype=float32)\n",
       "Dimensions without coordinates: eofs"
      ]
     },
     "execution_count": 190,
     "metadata": {},
     "output_type": "execute_result"
    }
   ],
   "source": [
    "U_obs = np.dot(eofs_inv,X_obs_bis.transpose('lon','lat', 'dummy'))\n",
    "U_obs_bis = xr.DataArray(U_obs, dims=['lon','eofs','lon2', 'dummy'])\n",
    "U_obs_avg = U_obs_bis[0,:,0,0].transpose()\n",
    "U_obs_avg"
   ]
  },
  {
   "cell_type": "markdown",
   "metadata": {},
   "source": [
    "### Save"
   ]
  },
  {
   "cell_type": "code",
   "execution_count": 191,
   "metadata": {},
   "outputs": [],
   "source": [
    "np.save(path_files+'npy/CNRMppe_decomposition_U_'+str(product)+'.npy', U_obs_avg)"
   ]
  },
  {
   "cell_type": "markdown",
   "metadata": {},
   "source": [
    "## Calcule de rj"
   ]
  },
  {
   "cell_type": "code",
   "execution_count": 192,
   "metadata": {},
   "outputs": [
    {
     "data": {
      "text/plain": [
       "5"
      ]
     },
     "execution_count": 192,
     "metadata": {},
     "output_type": "execute_result"
    }
   ],
   "source": [
    "U_obs = np.load(path_files+'npy/CNRMppe_decomposition_U_'+str(product)+'.npy')\n",
    "len(U_obs)"
   ]
  },
  {
   "cell_type": "code",
   "execution_count": 193,
   "metadata": {},
   "outputs": [],
   "source": [
    "def Error_rj(cpt, U_obs, variable):\n",
    "    rj_list = []\n",
    "    for i in range(0,5,1) :\n",
    "        j=i+1\n",
    "        pc = np.load(path_files+'npy/CNRMppe_decomposition_EOF'+str(j)+'pc_'+str(variable)+'.npy')\n",
    "        diff = (pc[cpt]-U_obs[i])**2\n",
    "        rj_list.append(diff)\n",
    "        #print(pc[cpt])\n",
    "        #print(U_obs[i])\n",
    "        #print(diff)\n",
    "    rj_E = sqrt(sum(rj_list)/len(rj_list))\n",
    "    return rj_E"
   ]
  },
  {
   "cell_type": "code",
   "execution_count": 194,
   "metadata": {},
   "outputs": [],
   "source": [
    "U_obs = np.load(path_files+'npy/CNRMppe_decomposition_U_'+str(product)+'.npy')\n",
    "rj = {}\n",
    "cpt=0\n",
    "for p in nb_p_list:\n",
    "    tmp = Error_rj(cpt, U_obs, variable)\n",
    "    rj[p] = tmp\n",
    "    cpt+=1"
   ]
  },
  {
   "cell_type": "markdown",
   "metadata": {},
   "source": [
    "# Emulation"
   ]
  },
  {
   "cell_type": "markdown",
   "metadata": {},
   "source": [
    "# Figure"
   ]
  },
  {
   "cell_type": "code",
   "execution_count": 195,
   "metadata": {},
   "outputs": [
    {
     "data": {
      "text/html": [
       "<div>\n",
       "<style scoped>\n",
       "    .dataframe tbody tr th:only-of-type {\n",
       "        vertical-align: middle;\n",
       "    }\n",
       "\n",
       "    .dataframe tbody tr th {\n",
       "        vertical-align: top;\n",
       "    }\n",
       "\n",
       "    .dataframe thead th {\n",
       "        text-align: right;\n",
       "    }\n",
       "</style>\n",
       "<table border=\"1\" class=\"dataframe\">\n",
       "  <thead>\n",
       "    <tr style=\"text-align: right;\">\n",
       "      <th></th>\n",
       "      <th>ej</th>\n",
       "      <th>rj</th>\n",
       "    </tr>\n",
       "  </thead>\n",
       "  <tbody>\n",
       "    <tr>\n",
       "      <th>0</th>\n",
       "      <td>1.596653</td>\n",
       "      <td>1.055966</td>\n",
       "    </tr>\n",
       "    <tr>\n",
       "      <th>1</th>\n",
       "      <td>1.800415</td>\n",
       "      <td>2.821711</td>\n",
       "    </tr>\n",
       "    <tr>\n",
       "      <th>2</th>\n",
       "      <td>2.357326</td>\n",
       "      <td>1.710921</td>\n",
       "    </tr>\n",
       "    <tr>\n",
       "      <th>3</th>\n",
       "      <td>1.808246</td>\n",
       "      <td>2.530649</td>\n",
       "    </tr>\n",
       "    <tr>\n",
       "      <th>4</th>\n",
       "      <td>1.684001</td>\n",
       "      <td>1.557580</td>\n",
       "    </tr>\n",
       "    <tr>\n",
       "      <th>...</th>\n",
       "      <td>...</td>\n",
       "      <td>...</td>\n",
       "    </tr>\n",
       "    <tr>\n",
       "      <th>97</th>\n",
       "      <td>1.893827</td>\n",
       "      <td>2.522954</td>\n",
       "    </tr>\n",
       "    <tr>\n",
       "      <th>98</th>\n",
       "      <td>2.256450</td>\n",
       "      <td>2.755906</td>\n",
       "    </tr>\n",
       "    <tr>\n",
       "      <th>99</th>\n",
       "      <td>1.812770</td>\n",
       "      <td>2.746495</td>\n",
       "    </tr>\n",
       "    <tr>\n",
       "      <th>100</th>\n",
       "      <td>2.245847</td>\n",
       "      <td>2.584486</td>\n",
       "    </tr>\n",
       "    <tr>\n",
       "      <th>101</th>\n",
       "      <td>1.950817</td>\n",
       "      <td>2.277169</td>\n",
       "    </tr>\n",
       "  </tbody>\n",
       "</table>\n",
       "<p>102 rows × 2 columns</p>\n",
       "</div>"
      ],
      "text/plain": [
       "           ej        rj\n",
       "0    1.596653  1.055966\n",
       "1    1.800415  2.821711\n",
       "2    2.357326  1.710921\n",
       "3    1.808246  2.530649\n",
       "4    1.684001  1.557580\n",
       "..        ...       ...\n",
       "97   1.893827  2.522954\n",
       "98   2.256450  2.755906\n",
       "99   1.812770  2.746495\n",
       "100  2.245847  2.584486\n",
       "101  1.950817  2.277169\n",
       "\n",
       "[102 rows x 2 columns]"
      ]
     },
     "execution_count": 195,
     "metadata": {},
     "output_type": "execute_result"
    }
   ],
   "source": [
    "ej_list = []\n",
    "rj_list = []\n",
    "for p in nb_p_list :\n",
    "    ej_tmp = ej[p]\n",
    "    rj_tmp = rj[p]\n",
    "    ej_list.append(ej_tmp)\n",
    "    rj_list.append(rj_tmp)\n",
    "    \n",
    "df_corr = pd.DataFrame(ej_list, columns=['ej'])\n",
    "df_corr['rj'] = rj_list\n",
    "df_corr"
   ]
  },
  {
   "cell_type": "code",
   "execution_count": 196,
   "metadata": {},
   "outputs": [
    {
     "data": {
      "text/plain": [
       "array([[1.        , 0.43731862],\n",
       "       [0.43731862, 1.        ]])"
      ]
     },
     "execution_count": 196,
     "metadata": {},
     "output_type": "execute_result"
    }
   ],
   "source": [
    "r_corr = np.corrcoef(df_corr['ej'], df_corr['rj'])\n",
    "r_corr"
   ]
  },
  {
   "cell_type": "code",
   "execution_count": 197,
   "metadata": {},
   "outputs": [
    {
     "data": {
      "text/plain": [
       "<matplotlib.axes._subplots.AxesSubplot at 0x2b1e58a84110>"
      ]
     },
     "execution_count": 197,
     "metadata": {},
     "output_type": "execute_result"
    },
    {
     "data": {
      "image/png": "[encoded data removed]",
      "text/plain": [
       "<Figure size 1080x864 with 1 Axes>"
      ]
     },
     "metadata": {
      "needs_background": "light"
     },
     "output_type": "display_data"
    }
   ],
   "source": [
    "df_corr.plot(kind='scatter', x='ej', y='rj', color = 'gray', alpha=1, linewidth=5, figsize=(15, 12))"
   ]
  },
  {
   "cell_type": "code",
   "execution_count": null,
   "metadata": {},
   "outputs": [],
   "source": []
  }
 ],
 "metadata": {
  "kernelspec": {
   "display_name": "Python 3",
   "language": "python",
   "name": "python3"
  },
  "language_info": {
   "codemirror_mode": {
    "name": "ipython",
    "version": 3
   },
   "file_extension": ".py",
   "mimetype": "text/x-python",
   "name": "python",
   "nbconvert_exporter": "python",
   "pygments_lexer": "ipython3",
   "version": "3.7.6"
  }
 },
 "nbformat": 4,
 "nbformat_minor": 2
}
