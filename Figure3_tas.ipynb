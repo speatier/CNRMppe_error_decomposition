{
 "cells": [
  {
   "cell_type": "markdown",
   "metadata": {},
   "source": [
    "# Import Module"
   ]
  },
  {
   "cell_type": "code",
   "execution_count": 1,
   "metadata": {},
   "outputs": [],
   "source": [
    "# Computational modules \n",
    "%matplotlib inline\n",
    "import xarray as xr\n",
    "import glob\n",
    "import os\n",
    "import numpy as np\n",
    "import netCDF4\n",
    "from netCDF4 import Dataset\n",
    "import pandas as pd\n",
    "import re\n",
    "from array import array\n",
    "from pylab import *\n",
    "#import geopandas\n",
    "from eofs.xarray import Eof\n",
    "from eofs.multivariate.standard import MultivariateEof\n",
    "\n",
    "# Plotting modules \n",
    "import matplotlib.pyplot as plt\n",
    "from mpl_toolkits.basemap import Basemap\n",
    "import pandas.plotting\n",
    "import matplotlib.ticker as ticker\n",
    "import seaborn as sns\n",
    "import cartopy.crs as ccrs\n",
    "import cartopy.feature as cfeature\n",
    "from matplotlib.colors import BoundaryNorm\n",
    "\n",
    "# Scikit-learn\n",
    "from sklearn import linear_model\n",
    "from sklearn.linear_model import LassoCV, LassoLarsCV, LassoLarsIC\n",
    "from sklearn.linear_model import Lasso\n",
    "from sklearn.metrics import r2_score\n",
    "from sklearn import preprocessing\n",
    "from sklearn import tree\n",
    "from sklearn.ensemble import RandomForestClassifier\n",
    "from sklearn.metrics import confusion_matrix\n",
    "from sklearn import metrics\n",
    "from sklearn.neural_network import MLPRegressor\n",
    "from scipy.optimize import minimize\n",
    "from scipy.optimize import dual_annealing\n",
    "from sklearn.decomposition import PCA"
   ]
  },
  {
   "cell_type": "markdown",
   "metadata": {},
   "source": [
    "# Settings"
   ]
  },
  {
   "cell_type": "markdown",
   "metadata": {},
   "source": [
    "### Variables"
   ]
  },
  {
   "cell_type": "code",
   "execution_count": 2,
   "metadata": {},
   "outputs": [],
   "source": [
    "variables = ['tas']\n",
    "variable = 'tas'\n",
    "TITLE = 'Surface Temperature'\n",
    "ylabel = '$E_{tas}$ ($K$)'"
   ]
  },
  {
   "cell_type": "markdown",
   "metadata": {},
   "source": [
    "### Paths"
   ]
  },
  {
   "cell_type": "code",
   "execution_count": 3,
   "metadata": {},
   "outputs": [],
   "source": [
    "path_official='/data/scratch/globc/peatier/CMIP6/CNRM-CM6-1/CFMIP/amip/'\n",
    "path_PPE='/data/scratch/globc/peatier/CNRM-CM6-1_PPE/'\n",
    "path_files='/data/home/globc/peatier/CNRMppe/PPE/ENSEMBLE2/files/'"
   ]
  },
  {
   "cell_type": "markdown",
   "metadata": {},
   "source": [
    "### List of members"
   ]
  },
  {
   "cell_type": "code",
   "execution_count": 4,
   "metadata": {},
   "outputs": [
    {
     "data": {
      "text/plain": [
       "102"
      ]
     },
     "execution_count": 4,
     "metadata": {},
     "output_type": "execute_result"
    }
   ],
   "source": [
    "nb_p_list = ['p311', 'p312', 'p314', 'p316',\n",
    "                    'p317', 'p319', 'p320', 'p321', 'p322', 'p324', 'p325', 'p326', \n",
    "                    'p329', 'p330', 'p331', 'p332', 'p335', 'p336', 'p337' ,'p338', \n",
    "                    'p340', 'p341', 'p343', 'p344', 'p346', 'p347', 'p348', 'p349', \n",
    "                    'p350', 'p353', 'p355', 'p357', 'p359', 'p360', \n",
    "                    'p361', 'p363', 'p365', 'p367', 'p368', 'p369', \n",
    "                    'p372', 'p373', 'p374', 'p375', 'p376', 'p378', 'p381', 'p382', \n",
    "                    'p384', 'p386', 'p388', 'p389', 'p391', 'p392', 'p393', \n",
    "                    'p394', 'p395', 'p396', 'p398', 'p399', 'p400', 'p404', \n",
    "                    'p406', 'p407', 'p409', 'p410', 'p411', 'p412',\n",
    "                    'p414','p416',\n",
    "                    'p413','p419','p424','p426','p428','p421','p423',\n",
    "                    'p425','p427','p429','p430','p436','p438','p431','p433',\n",
    "                    'p442','p446','p443','p445','p447',\n",
    "                    'p452','p454','p456','p458','p457','p459',\n",
    "                    'p460','p465','p467','p469',\n",
    "                    'p470','p471']\n",
    "\n",
    "len(nb_p_list)"
   ]
  },
  {
   "cell_type": "markdown",
   "metadata": {},
   "source": [
    "# Functions"
   ]
  },
  {
   "cell_type": "code",
   "execution_count": 5,
   "metadata": {},
   "outputs": [],
   "source": [
    "def get_3D_tas_xarr(path, filename, variables):\n",
    "#    “”\"\n",
    "#    This function read the netCDF file of monthly data, compute the radiative budget, perform a yearly mean and \n",
    "#    return a dataframe\n",
    "#    “”\"\n",
    "    # First step : download the data into dataframe\n",
    "    file = xr.open_mfdataset(path+filename,combine='by_coords')\n",
    "    #\n",
    "    # Second step : compute the annual average \n",
    "    df = file[variables].mean('time', keep_attrs=True)\n",
    "    tas = df['tas']\n",
    "    #\n",
    "    return tas"
   ]
  },
  {
   "cell_type": "markdown",
   "metadata": {},
   "source": [
    "# Get data : obs, PPE, p1"
   ]
  },
  {
   "cell_type": "code",
   "execution_count": 6,
   "metadata": {},
   "outputs": [],
   "source": [
    "path_observation = '/data/scratch/globc/peatier/obs_data/BEST/'\n",
    "filename = 'Land_and_Ocean_LatLong1_regrid_1979-1981.nc'"
   ]
  },
  {
   "cell_type": "code",
   "execution_count": 7,
   "metadata": {},
   "outputs": [
    {
     "data": {
      "text/html": [
       "<div>\n",
       "<style scoped>\n",
       "    .dataframe tbody tr th:only-of-type {\n",
       "        vertical-align: middle;\n",
       "    }\n",
       "\n",
       "    .dataframe tbody tr th {\n",
       "        vertical-align: top;\n",
       "    }\n",
       "\n",
       "    .dataframe thead th {\n",
       "        text-align: right;\n",
       "    }\n",
       "</style>\n",
       "<table border=\"1\" class=\"dataframe\">\n",
       "  <thead>\n",
       "    <tr style=\"text-align: right;\">\n",
       "      <th></th>\n",
       "      <th></th>\n",
       "      <th>time</th>\n",
       "      <th>temperature</th>\n",
       "      <th>clim</th>\n",
       "      <th>ta</th>\n",
       "    </tr>\n",
       "    <tr>\n",
       "      <th>lat</th>\n",
       "      <th>lon</th>\n",
       "      <th></th>\n",
       "      <th></th>\n",
       "      <th></th>\n",
       "      <th></th>\n",
       "    </tr>\n",
       "  </thead>\n",
       "  <tbody>\n",
       "    <tr>\n",
       "      <th rowspan=\"5\" valign=\"top\">-88.927735</th>\n",
       "      <th>0.00000</th>\n",
       "      <td>1979.0</td>\n",
       "      <td>0.768801</td>\n",
       "      <td>-25.193111</td>\n",
       "      <td>248.725677</td>\n",
       "    </tr>\n",
       "    <tr>\n",
       "      <th>1.40625</th>\n",
       "      <td>1979.0</td>\n",
       "      <td>0.769734</td>\n",
       "      <td>-25.215549</td>\n",
       "      <td>248.704178</td>\n",
       "    </tr>\n",
       "    <tr>\n",
       "      <th>2.81250</th>\n",
       "      <td>1979.0</td>\n",
       "      <td>0.770550</td>\n",
       "      <td>-25.236740</td>\n",
       "      <td>248.683807</td>\n",
       "    </tr>\n",
       "    <tr>\n",
       "      <th>4.21875</th>\n",
       "      <td>1979.0</td>\n",
       "      <td>0.771259</td>\n",
       "      <td>-25.256731</td>\n",
       "      <td>248.664520</td>\n",
       "    </tr>\n",
       "    <tr>\n",
       "      <th>5.62500</th>\n",
       "      <td>1979.0</td>\n",
       "      <td>0.771860</td>\n",
       "      <td>-25.276089</td>\n",
       "      <td>248.645767</td>\n",
       "    </tr>\n",
       "    <tr>\n",
       "      <th>...</th>\n",
       "      <th>...</th>\n",
       "      <td>...</td>\n",
       "      <td>...</td>\n",
       "      <td>...</td>\n",
       "      <td>...</td>\n",
       "    </tr>\n",
       "    <tr>\n",
       "      <th rowspan=\"5\" valign=\"top\">88.927735</th>\n",
       "      <th>352.96875</th>\n",
       "      <td>1981.0</td>\n",
       "      <td>0.004460</td>\n",
       "      <td>-30.711264</td>\n",
       "      <td>242.443192</td>\n",
       "    </tr>\n",
       "    <tr>\n",
       "      <th>354.37500</th>\n",
       "      <td>1981.0</td>\n",
       "      <td>-0.004911</td>\n",
       "      <td>-30.734428</td>\n",
       "      <td>242.410660</td>\n",
       "    </tr>\n",
       "    <tr>\n",
       "      <th>355.78125</th>\n",
       "      <td>1981.0</td>\n",
       "      <td>-0.016334</td>\n",
       "      <td>-30.728228</td>\n",
       "      <td>242.405426</td>\n",
       "    </tr>\n",
       "    <tr>\n",
       "      <th>357.18750</th>\n",
       "      <td>1981.0</td>\n",
       "      <td>-0.024906</td>\n",
       "      <td>-30.703251</td>\n",
       "      <td>242.421844</td>\n",
       "    </tr>\n",
       "    <tr>\n",
       "      <th>358.59375</th>\n",
       "      <td>1981.0</td>\n",
       "      <td>-0.041427</td>\n",
       "      <td>-30.653141</td>\n",
       "      <td>242.455429</td>\n",
       "    </tr>\n",
       "  </tbody>\n",
       "</table>\n",
       "<p>1179648 rows × 4 columns</p>\n",
       "</div>"
      ],
      "text/plain": [
       "                        time  temperature       clim          ta\n",
       "lat        lon                                                  \n",
       "-88.927735 0.00000    1979.0     0.768801 -25.193111  248.725677\n",
       "           1.40625    1979.0     0.769734 -25.215549  248.704178\n",
       "           2.81250    1979.0     0.770550 -25.236740  248.683807\n",
       "           4.21875    1979.0     0.771259 -25.256731  248.664520\n",
       "           5.62500    1979.0     0.771860 -25.276089  248.645767\n",
       "...                      ...          ...        ...         ...\n",
       " 88.927735 352.96875  1981.0     0.004460 -30.711264  242.443192\n",
       "           354.37500  1981.0    -0.004911 -30.734428  242.410660\n",
       "           355.78125  1981.0    -0.016334 -30.728228  242.405426\n",
       "           357.18750  1981.0    -0.024906 -30.703251  242.421844\n",
       "           358.59375  1981.0    -0.041427 -30.653141  242.455429\n",
       "\n",
       "[1179648 rows x 4 columns]"
      ]
     },
     "execution_count": 7,
     "metadata": {},
     "output_type": "execute_result"
    }
   ],
   "source": [
    "# POUR LES OBSERVATIONS BEST\n",
    "\n",
    "path = path_observation\n",
    "\n",
    "file =  xr.open_mfdataset(path+filename,combine='by_coords')\n",
    "clim = file['climatology'].to_dataframe()#.drop(columns='month_number')\n",
    "clim = pd.concat([clim, clim, clim]).reset_index('month_number')\n",
    "\n",
    "df_obs=file['temperature'].to_dataframe().reset_index('time')\n",
    "df_obs['temperature'] = df_obs['temperature']\n",
    "df_obs['clim'] = clim['climatology']\n",
    "df_obs['ta'] = df_obs['temperature']+df_obs['clim']+273.15\n",
    "variable_obs = 'ta'\n",
    "df_obs"
   ]
  },
  {
   "cell_type": "code",
   "execution_count": 8,
   "metadata": {},
   "outputs": [
    {
     "data": {
      "text/html": [
       "<pre>&lt;xarray.Dataset&gt;\n",
       "Dimensions:      (lat: 128, lon: 256)\n",
       "Coordinates:\n",
       "  * lat          (lat) float64 -88.93 -87.54 -86.14 -84.74 ... 86.14 87.54 88.93\n",
       "  * lon          (lon) float64 0.0 1.406 2.812 4.219 ... 354.4 355.8 357.2 358.6\n",
       "Data variables:\n",
       "    time         (lat, lon) float64 1.98e+03 1.98e+03 ... 1.98e+03 1.98e+03\n",
       "    temperature  (lat, lon) float32 0.17527 0.17550375 ... -0.16200545\n",
       "    clim         (lat, lon) float32 -46.88067 -46.921864 ... -19.784966\n",
       "    ta           (lat, lon) float32 226.4446 226.40364 ... 253.20612 253.20302</pre>"
      ],
      "text/plain": [
       "<xarray.Dataset>\n",
       "Dimensions:      (lat: 128, lon: 256)\n",
       "Coordinates:\n",
       "  * lat          (lat) float64 -88.93 -87.54 -86.14 -84.74 ... 86.14 87.54 88.93\n",
       "  * lon          (lon) float64 0.0 1.406 2.812 4.219 ... 354.4 355.8 357.2 358.6\n",
       "Data variables:\n",
       "    time         (lat, lon) float64 1.98e+03 1.98e+03 ... 1.98e+03 1.98e+03\n",
       "    temperature  (lat, lon) float32 0.17527 0.17550375 ... -0.16200545\n",
       "    clim         (lat, lon) float32 -46.88067 -46.921864 ... -19.784966\n",
       "    ta           (lat, lon) float32 226.4446 226.40364 ... 253.20612 253.20302"
      ]
     },
     "execution_count": 8,
     "metadata": {},
     "output_type": "execute_result"
    }
   ],
   "source": [
    "obs = df_obs.groupby(['lat','lon']).mean().to_xarray()\n",
    "obs"
   ]
  },
  {
   "cell_type": "code",
   "execution_count": 9,
   "metadata": {},
   "outputs": [],
   "source": [
    "# Default simulation\n",
    "path = path_PPE+'ENSEMBLE1/CNRM-CM6-1_amip_PPE/CNRM-CM6-1_amip_r1i1p1f2/'\n",
    "filename = '*_CNRM-CM6-1_amip_*.nc'\n",
    "p1_amip = get_3D_tas_xarr(path, filename, variables)"
   ]
  },
  {
   "cell_type": "code",
   "execution_count": 10,
   "metadata": {},
   "outputs": [],
   "source": [
    "# PPE amip simulations \n",
    "filename='*_amip_*.nc'\n",
    "\n",
    "N=len(nb_p_list)\n",
    "amip={}\n",
    "i = 0\n",
    "while i<N:\n",
    "    nb_p = nb_p_list[i]\n",
    "    #print(nb_p)\n",
    "    path=path_PPE+'ENSEMBLE2/CNRM-CM6-1_amip_LHS500_PPE/CNRM-CM6-1_amip_r1i1'+str(nb_p)+'f2/'\n",
    "    amip[str(nb_p)] = get_3D_tas_xarr(path, filename, variables)\n",
    "    i=i+1"
   ]
  },
  {
   "cell_type": "code",
   "execution_count": 11,
   "metadata": {},
   "outputs": [],
   "source": [
    "amip['p1'] = p1_amip"
   ]
  },
  {
   "cell_type": "markdown",
   "metadata": {},
   "source": [
    "# Calcule full RMSE (ej)"
   ]
  },
  {
   "cell_type": "code",
   "execution_count": 167,
   "metadata": {},
   "outputs": [
    {
     "data": {
      "text/plain": [
       "1.655165983330085"
      ]
     },
     "execution_count": 167,
     "metadata": {},
     "output_type": "execute_result"
    }
   ],
   "source": [
    "# Reference p1\n",
    "diff = (amip['p1'].values - obs[variable_obs].values)**2\n",
    "diff_p1 = sqrt(sum(diff)/(128*256))\n",
    "diff_p1"
   ]
  },
  {
   "cell_type": "code",
   "execution_count": 13,
   "metadata": {},
   "outputs": [],
   "source": [
    "ej = {}\n",
    "#ej['p1'] = diff_p1\n",
    "\n",
    "for p in nb_p_list :\n",
    "    diff_tmp = (amip[p] - obs[variable_obs])**2\n",
    "    diff = sqrt(diff_tmp.sum(dim=['lat', 'lon'])/(128*256))\n",
    "    ej[p] = diff\n"
   ]
  },
  {
   "cell_type": "markdown",
   "metadata": {},
   "source": [
    "### Save"
   ]
  },
  {
   "cell_type": "code",
   "execution_count": 14,
   "metadata": {},
   "outputs": [],
   "source": [
    "np.save(path_files+'npy/CNRMppe_decomposition_ej_'+str(variable)+'.npy', ej)"
   ]
  },
  {
   "cell_type": "markdown",
   "metadata": {},
   "source": [
    "# EOF + truncated RMSE (rj)"
   ]
  },
  {
   "cell_type": "markdown",
   "metadata": {},
   "source": [
    "## EOF"
   ]
  },
  {
   "cell_type": "code",
   "execution_count": 15,
   "metadata": {},
   "outputs": [],
   "source": [
    "n=len(nb_p_list)\n",
    "amip_list=[0]*(n+1)\n",
    "\n",
    "amip_list[0] = amip['p1']\n",
    "\n",
    "i = 0\n",
    "while i<n:\n",
    "    nb_p = nb_p_list[i]\n",
    "    #print(nb_p)\n",
    "    tmp = amip[str(nb_p)]\n",
    "    amip_list[i+1] = tmp\n",
    "    i+=1"
   ]
  },
  {
   "cell_type": "code",
   "execution_count": 16,
   "metadata": {},
   "outputs": [],
   "source": [
    "matrix = xr.combine_nested(amip_list, concat_dim=['time'])"
   ]
  },
  {
   "cell_type": "code",
   "execution_count": 17,
   "metadata": {},
   "outputs": [],
   "source": [
    "# Mean wheigted with cos(lat) : \n",
    "lats = matrix['lat'][:]\n",
    "coslat = np.cos(np.deg2rad(lats)).clip(0., 1.)\n",
    "wgts = np.sqrt(coslat).drop(labels='height').values\n",
    "W =wgts[np.newaxis,:,np.newaxis]\n",
    "#W"
   ]
  },
  {
   "cell_type": "code",
   "execution_count": 18,
   "metadata": {
    "scrolled": true
   },
   "outputs": [],
   "source": [
    "# Compute anomalies by removing the ensemble-mean.\n",
    "mean = matrix.mean(axis=0)\n",
    "anom = matrix - mean"
   ]
  },
  {
   "cell_type": "code",
   "execution_count": 19,
   "metadata": {},
   "outputs": [],
   "source": [
    "# Create an EOF solver to do the EOF analysis. \n",
    "solver = Eof(anom, center=False)"
   ]
  },
  {
   "cell_type": "code",
   "execution_count": 20,
   "metadata": {},
   "outputs": [],
   "source": [
    "eof = solver.eofsAsCovariance(neofs=100, pcscaling=1)\n",
    "pc = solver.pcs(npcs=100, pcscaling=0)"
   ]
  },
  {
   "cell_type": "code",
   "execution_count": 21,
   "metadata": {},
   "outputs": [
    {
     "data": {
      "text/html": [
       "<pre>&lt;xarray.DataArray &#x27;variance_fractions&#x27; (mode: 100)&gt;\n",
       "array([6.56784177e-01, 1.54534772e-01, 4.81291413e-02, 2.24357937e-02,\n",
       "       1.34819904e-02, 1.17000183e-02, 9.32523794e-03, 7.62655726e-03,\n",
       "       6.51649013e-03, 5.15513355e-03, 4.38585877e-03, 4.13991790e-03,\n",
       "       3.47407302e-03, 3.07554239e-03, 2.78379046e-03, 2.52102455e-03,\n",
       "       2.46943417e-03, 2.13645864e-03, 2.02180166e-03, 1.89516949e-03,\n",
       "       1.77026598e-03, 1.61383254e-03, 1.54585566e-03, 1.36644777e-03,\n",
       "       1.27781730e-03, 1.26427296e-03, 1.15022203e-03, 1.10271806e-03,\n",
       "       1.06184441e-03, 9.93427122e-04, 8.91534961e-04, 8.53077450e-04,\n",
       "       8.31844460e-04, 7.32483226e-04, 7.18125550e-04, 6.95940980e-04,\n",
       "       6.72717346e-04, 6.53983559e-04, 6.31015806e-04, 5.91562537e-04,\n",
       "       5.64071757e-04, 5.38148684e-04, 4.98946349e-04, 4.83534939e-04,\n",
       "       4.76295187e-04, 4.64211189e-04, 4.50259016e-04, 4.29214764e-04,\n",
       "       4.19535732e-04, 3.97650088e-04, 3.93297611e-04, 3.66354448e-04,\n",
       "       3.56384204e-04, 3.45624721e-04, 3.35160119e-04, 3.26713489e-04,\n",
       "       3.21559986e-04, 2.90323049e-04, 2.84527516e-04, 2.76376435e-04,\n",
       "       2.73351528e-04, 2.59565655e-04, 2.58570333e-04, 2.54377839e-04,\n",
       "       2.46501062e-04, 2.40410096e-04, 2.28031873e-04, 2.18655230e-04,\n",
       "       2.15826978e-04, 2.09198275e-04, 2.06583572e-04, 2.00733513e-04,\n",
       "       1.95920758e-04, 1.92326072e-04, 1.85435812e-04, 1.79767085e-04,\n",
       "       1.79057126e-04, 1.72804124e-04, 1.67953040e-04, 1.61789256e-04,\n",
       "       1.60119365e-04, 1.55258196e-04, 1.52653738e-04, 1.49641506e-04,\n",
       "       1.48272622e-04, 1.46111022e-04, 1.40491567e-04, 1.32908011e-04,\n",
       "       1.31997906e-04, 1.28621206e-04, 1.25330116e-04, 1.24288781e-04,\n",
       "       1.16654628e-04, 1.12032183e-04, 1.09852517e-04, 1.08952845e-04,\n",
       "       1.03971455e-04, 1.02116952e-04, 9.95451264e-05, 9.74649884e-05],\n",
       "      dtype=float32)\n",
       "Coordinates:\n",
       "  * mode     (mode) int64 0 1 2 3 4 5 6 7 8 9 ... 90 91 92 93 94 95 96 97 98 99\n",
       "Attributes:\n",
       "    long_name:  variance_fractions</pre>"
      ],
      "text/plain": [
       "<xarray.DataArray 'variance_fractions' (mode: 100)>\n",
       "array([6.56784177e-01, 1.54534772e-01, 4.81291413e-02, 2.24357937e-02,\n",
       "       1.34819904e-02, 1.17000183e-02, 9.32523794e-03, 7.62655726e-03,\n",
       "       6.51649013e-03, 5.15513355e-03, 4.38585877e-03, 4.13991790e-03,\n",
       "       3.47407302e-03, 3.07554239e-03, 2.78379046e-03, 2.52102455e-03,\n",
       "       2.46943417e-03, 2.13645864e-03, 2.02180166e-03, 1.89516949e-03,\n",
       "       1.77026598e-03, 1.61383254e-03, 1.54585566e-03, 1.36644777e-03,\n",
       "       1.27781730e-03, 1.26427296e-03, 1.15022203e-03, 1.10271806e-03,\n",
       "       1.06184441e-03, 9.93427122e-04, 8.91534961e-04, 8.53077450e-04,\n",
       "       8.31844460e-04, 7.32483226e-04, 7.18125550e-04, 6.95940980e-04,\n",
       "       6.72717346e-04, 6.53983559e-04, 6.31015806e-04, 5.91562537e-04,\n",
       "       5.64071757e-04, 5.38148684e-04, 4.98946349e-04, 4.83534939e-04,\n",
       "       4.76295187e-04, 4.64211189e-04, 4.50259016e-04, 4.29214764e-04,\n",
       "       4.19535732e-04, 3.97650088e-04, 3.93297611e-04, 3.66354448e-04,\n",
       "       3.56384204e-04, 3.45624721e-04, 3.35160119e-04, 3.26713489e-04,\n",
       "       3.21559986e-04, 2.90323049e-04, 2.84527516e-04, 2.76376435e-04,\n",
       "       2.73351528e-04, 2.59565655e-04, 2.58570333e-04, 2.54377839e-04,\n",
       "       2.46501062e-04, 2.40410096e-04, 2.28031873e-04, 2.18655230e-04,\n",
       "       2.15826978e-04, 2.09198275e-04, 2.06583572e-04, 2.00733513e-04,\n",
       "       1.95920758e-04, 1.92326072e-04, 1.85435812e-04, 1.79767085e-04,\n",
       "       1.79057126e-04, 1.72804124e-04, 1.67953040e-04, 1.61789256e-04,\n",
       "       1.60119365e-04, 1.55258196e-04, 1.52653738e-04, 1.49641506e-04,\n",
       "       1.48272622e-04, 1.46111022e-04, 1.40491567e-04, 1.32908011e-04,\n",
       "       1.31997906e-04, 1.28621206e-04, 1.25330116e-04, 1.24288781e-04,\n",
       "       1.16654628e-04, 1.12032183e-04, 1.09852517e-04, 1.08952845e-04,\n",
       "       1.03971455e-04, 1.02116952e-04, 9.95451264e-05, 9.74649884e-05],\n",
       "      dtype=float32)\n",
       "Coordinates:\n",
       "  * mode     (mode) int64 0 1 2 3 4 5 6 7 8 9 ... 90 91 92 93 94 95 96 97 98 99\n",
       "Attributes:\n",
       "    long_name:  variance_fractions"
      ]
     },
     "execution_count": 21,
     "metadata": {},
     "output_type": "execute_result"
    }
   ],
   "source": [
    "varFrac = solver.varianceFraction(neigs=100)\n",
    "varFrac"
   ]
  },
  {
   "cell_type": "markdown",
   "metadata": {},
   "source": [
    "### Save"
   ]
  },
  {
   "cell_type": "code",
   "execution_count": 22,
   "metadata": {},
   "outputs": [],
   "source": [
    "for i in range(0,len(eof),1) : \n",
    "    j = i+1\n",
    "    # EOFmap\n",
    "    EOF_df = eof[i].to_dataframe().drop(labels = 'mode', axis=1)\n",
    "    EOF_df.to_pickle(path_files+\"npy/CNRMppe_decomposition_EOFmap\"+str(j)+\"_\"+str(variable)+\".npy\")\n",
    "    \n",
    "    #EOFpc\n",
    "    pc_p1 = pc[0, i]\n",
    "    pc_mb = pc[1:, i]\n",
    "    np.save(path_files+'npy/CNRMppe_decomposition_p1_EOF'+str(j)+'pc_'+str(variable)+'.npy', pc_p1)\n",
    "    np.save(path_files+'npy/CNRMppe_decomposition_EOF'+str(j)+'pc_'+str(variable)+'.npy', pc_mb)"
   ]
  },
  {
   "cell_type": "code",
   "execution_count": 23,
   "metadata": {},
   "outputs": [],
   "source": [
    "mean_df = mean.to_dataframe(name=str(variable)+'mean').drop(labels = 'height', axis=1)\n",
    "mean_df.to_pickle(path_files+'npy/CNRMppe_decomposition_mean_'+str(variable)+'.npy')"
   ]
  },
  {
   "cell_type": "markdown",
   "metadata": {},
   "source": [
    "## Get the observations"
   ]
  },
  {
   "cell_type": "code",
   "execution_count": 24,
   "metadata": {},
   "outputs": [
    {
     "data": {
      "text/html": [
       "<pre>&lt;xarray.DataArray (lat: 128, lon: 256)&gt;\n",
       "array([[ 0.9802704 ,  0.9393158 ,  0.90057373, ...,  1.1010437 ,\n",
       "         1.0620728 ,  1.0218506 ],\n",
       "       [ 0.33155823,  0.24545288,  0.11924744, ...,  0.5418396 ,\n",
       "         0.4684906 ,  0.4024353 ],\n",
       "       [ 1.2012787 ,  1.1326904 ,  1.0542145 , ...,  1.0857544 ,\n",
       "         1.3535614 ,  1.2684479 ],\n",
       "       ...,\n",
       "       [-3.0155945 , -3.000702  , -2.9854126 , ..., -3.0026093 ,\n",
       "        -3.0451965 , -3.030716  ],\n",
       "       [-2.565567  , -2.5644073 , -2.5596466 , ..., -2.5480347 ,\n",
       "        -2.5565033 , -2.563202  ],\n",
       "       [-1.0388489 , -1.040863  , -1.0423584 , ..., -1.029602  ,\n",
       "        -1.0331879 , -1.0362854 ]], dtype=float32)\n",
       "Coordinates:\n",
       "  * lat      (lat) float64 -88.93 -87.54 -86.14 -84.74 ... 86.14 87.54 88.93\n",
       "  * lon      (lon) float64 0.0 1.406 2.812 4.219 ... 354.4 355.8 357.2 358.6\n",
       "    mode     &lt;U7 &#x27;tasmean&#x27;</pre>"
      ],
      "text/plain": [
       "<xarray.DataArray (lat: 128, lon: 256)>\n",
       "array([[ 0.9802704 ,  0.9393158 ,  0.90057373, ...,  1.1010437 ,\n",
       "         1.0620728 ,  1.0218506 ],\n",
       "       [ 0.33155823,  0.24545288,  0.11924744, ...,  0.5418396 ,\n",
       "         0.4684906 ,  0.4024353 ],\n",
       "       [ 1.2012787 ,  1.1326904 ,  1.0542145 , ...,  1.0857544 ,\n",
       "         1.3535614 ,  1.2684479 ],\n",
       "       ...,\n",
       "       [-3.0155945 , -3.000702  , -2.9854126 , ..., -3.0026093 ,\n",
       "        -3.0451965 , -3.030716  ],\n",
       "       [-2.565567  , -2.5644073 , -2.5596466 , ..., -2.5480347 ,\n",
       "        -2.5565033 , -2.563202  ],\n",
       "       [-1.0388489 , -1.040863  , -1.0423584 , ..., -1.029602  ,\n",
       "        -1.0331879 , -1.0362854 ]], dtype=float32)\n",
       "Coordinates:\n",
       "  * lat      (lat) float64 -88.93 -87.54 -86.14 -84.74 ... 86.14 87.54 88.93\n",
       "  * lon      (lon) float64 0.0 1.406 2.812 4.219 ... 354.4 355.8 357.2 358.6\n",
       "    mode     <U7 'tasmean'"
      ]
     },
     "execution_count": 24,
     "metadata": {},
     "output_type": "execute_result"
    }
   ],
   "source": [
    "Mean =  pd.read_pickle(path_files+'npy/CNRMppe_decomposition_mean_'+str(variable)+'.npy').to_xarray().to_array()\n",
    "Mean = Mean[0,:,:].rename({'variable':'mode'})\n",
    "X_obs = obs[variable_obs] - Mean\n",
    "#X_obs = obs.expand_dims(dim={'dummy':range(0,102,1)})\n",
    "#X_obs = obs.fillna(0.0)\n",
    "X_obs"
   ]
  },
  {
   "cell_type": "code",
   "execution_count": 25,
   "metadata": {},
   "outputs": [],
   "source": [
    "def Error_rj(cpt, U_obs, variable):\n",
    "    rj_list = []\n",
    "    for i in range(0,len(U_obs),1) :\n",
    "        j=i+1\n",
    "        pc = np.load(path_files+'npy/CNRMppe_decomposition_EOF'+str(j)+'pc_'+str(variable)+'.npy')\n",
    "        diff = (U_obs[i]-pc[cpt])**2\n",
    "        rj_list.append(diff)\n",
    "        #print(pc[cpt])\n",
    "        #print(U_obs[i])\n",
    "        #print(diff)\n",
    "    rj_E = sqrt(sum(rj_list)/len(rj_list))\n",
    "    return rj_E"
   ]
  },
  {
   "cell_type": "markdown",
   "metadata": {},
   "source": [
    "## Emulation"
   ]
  },
  {
   "cell_type": "code",
   "execution_count": 26,
   "metadata": {},
   "outputs": [],
   "source": [
    "def MultiLinReg(limit_train, EOF_nb, x, variable) :\n",
    "    X = np.load(file=\"/data/home/globc/peatier/CNRMppe/PPE/ENSEMBLE2/files/npy/X_EmulateurFeedbacksN.npy\")\n",
    "    y = np.load(file=path_files+'npy/CNRMppe_decomposition_EOF'+str(EOF_nb)+'pc_'+str(variable)+'.npy')\n",
    "    param_names = np.load(file=\"/data/home/globc/peatier/CNRMppe/PPE/ENSEMBLE2/files/npy/LHS_paramNames.npy\")\n",
    "    \n",
    "    # Let's use the model equation : \n",
    "\n",
    "    X_df = pd.DataFrame(data=X)\n",
    "    regr = linear_model.LinearRegression()\n",
    "    regr.fit(X[0:limit_train], y[0:limit_train])\n",
    "    R = regr.intercept_\n",
    "    Coeffs = pd.DataFrame([regr.coef_]*30, columns=param_names).iloc[0]\n",
    "  \n",
    "    tmp = Coeffs.values*x\n",
    "    y_pred = tmp.sum()+R\n",
    "    \n",
    "    return y_pred"
   ]
  },
  {
   "cell_type": "code",
   "execution_count": 78,
   "metadata": {},
   "outputs": [],
   "source": [
    "X = np.load(file=\"/data/home/globc/peatier/CNRMppe/PPE/ENSEMBLE2/files/npy/X_EmulateurFeedbacksN.npy\")\n",
    "pc_OS={}\n",
    "pc={}\n",
    "\n",
    "\n",
    "def predict_OS(X, EOF_nb) :\n",
    "    tmp_list = []\n",
    "    for x in X[80:] :\n",
    "        tmp = MultiLinReg(80, EOF_nb, x, variable)\n",
    "        tmp_list.append(tmp)\n",
    "    return tmp_list\n",
    "\n",
    "def predict_train(X, EOF_nb) :\n",
    "    tmp_list = []\n",
    "    for x in X[:80] :\n",
    "        tmp = MultiLinReg(80, EOF_nb, x, variable)\n",
    "        tmp_list.append(tmp)\n",
    "    return tmp_list\n",
    "    \n",
    "for i in range(1,101,1) : \n",
    "    pc_OS['modes_'+str(i)] = predict_OS(X, i)\n",
    "    pc['modes_'+str(i)] = predict_train(X,i)\n",
    "\n",
    "#pc_pred"
   ]
  },
  {
   "cell_type": "code",
   "execution_count": 79,
   "metadata": {},
   "outputs": [],
   "source": [
    "df_pc_OS = pd.DataFrame(pc_OS['modes_1'], columns=['modes_1'])\n",
    "df_pc = pd.DataFrame(pc['modes_1'], columns=['modes_1'])\n",
    "for i in range(1,101,1) :\n",
    "    df_pc_OS['modes_'+str(i)] = pc_OS['modes_'+str(i)]\n",
    "    df_pc['modes_'+str(i)] = pc['modes_'+str(i)]"
   ]
  },
  {
   "cell_type": "code",
   "execution_count": 80,
   "metadata": {},
   "outputs": [],
   "source": [
    "def Error_rj_pred(df_pc_pred, U_obs, variable, p):\n",
    "    rj_pred_list = []\n",
    "    for i in range(0,len(U_obs),1) :\n",
    "        j=i+1\n",
    "        pc_pred = df_pc_pred['modes_'+str(i+1)] \n",
    "        diff = (U_obs[i]-pc_pred[p])**2\n",
    "        rj_pred_list.append(diff)\n",
    "        \n",
    "    rj_pred = sqrt(sum(rj_pred_list)/len(rj_pred_list))\n",
    "    return rj_pred"
   ]
  },
  {
   "cell_type": "markdown",
   "metadata": {},
   "source": [
    "# 4, 10 and 100 modes considered"
   ]
  },
  {
   "cell_type": "code",
   "execution_count": 82,
   "metadata": {},
   "outputs": [],
   "source": [
    "ej_list = []\n",
    "for p in nb_p_list :\n",
    "    ej_tmp = ej[p]\n",
    "    ej_list.append(ej_tmp)"
   ]
  },
  {
   "cell_type": "code",
   "execution_count": 84,
   "metadata": {},
   "outputs": [],
   "source": [
    "df_fig = pd.DataFrame(ej_list, columns=['ej'])\n",
    "df_fig_pred = pd.DataFrame(ej_list[:80], columns=['ej'])\n",
    "df_fig_pred_OS = pd.DataFrame(ej_list[80:], columns=['ej'])\n",
    "\n",
    "U_obs = solver.projectField(X_obs, neofs=100, weighted=False, eofscaling=0)\n",
    "    \n",
    "rj_list=[]\n",
    "cpt=0\n",
    "for p in nb_p_list:\n",
    "    tmp = Error_rj(cpt, U_obs, variable)\n",
    "    rj_list.append(tmp)\n",
    "    cpt+=1\n",
    "        \n",
    "df_fig['rj'] = rj_list\n",
    "df_fig['frac'] = abs(df_corr['rj']/df_corr['ej'])*0.01    \n",
    "        \n",
    "rj_pred_OS_list = []\n",
    "for p in range(0,22,1) : \n",
    "    tmp = Error_rj_pred(df_pc_OS, U_obs, variable, p)\n",
    "    rj_pred_OS_list.append(tmp)   \n",
    "    \n",
    "df_fig_pred_OS['rj_pred'] = rj_pred_OS_list\n",
    "\n",
    "rj_pred_list = []\n",
    "for p in range(0,80,1) : \n",
    "    tmp = Error_rj_pred(df_pc, U_obs, variable, p)\n",
    "    rj_pred_list.append(tmp)   \n",
    "    \n",
    "df_fig_pred['rj_pred'] = rj_pred_list"
   ]
  },
  {
   "cell_type": "code",
   "execution_count": 85,
   "metadata": {},
   "outputs": [
    {
     "data": {
      "text/html": [
       "<div>\n",
       "<style scoped>\n",
       "    .dataframe tbody tr th:only-of-type {\n",
       "        vertical-align: middle;\n",
       "    }\n",
       "\n",
       "    .dataframe tbody tr th {\n",
       "        vertical-align: top;\n",
       "    }\n",
       "\n",
       "    .dataframe thead th {\n",
       "        text-align: right;\n",
       "    }\n",
       "</style>\n",
       "<table border=\"1\" class=\"dataframe\">\n",
       "  <thead>\n",
       "    <tr style=\"text-align: right;\">\n",
       "      <th></th>\n",
       "      <th>ej</th>\n",
       "      <th>rj</th>\n",
       "      <th>frac</th>\n",
       "    </tr>\n",
       "  </thead>\n",
       "  <tbody>\n",
       "    <tr>\n",
       "      <th>0</th>\n",
       "      <td>1.596653</td>\n",
       "      <td>22.748207</td>\n",
       "      <td>0.142474</td>\n",
       "    </tr>\n",
       "    <tr>\n",
       "      <th>1</th>\n",
       "      <td>1.800415</td>\n",
       "      <td>27.273659</td>\n",
       "      <td>0.151485</td>\n",
       "    </tr>\n",
       "    <tr>\n",
       "      <th>2</th>\n",
       "      <td>2.357326</td>\n",
       "      <td>38.767756</td>\n",
       "      <td>0.164457</td>\n",
       "    </tr>\n",
       "    <tr>\n",
       "      <th>3</th>\n",
       "      <td>1.808246</td>\n",
       "      <td>27.451131</td>\n",
       "      <td>0.151811</td>\n",
       "    </tr>\n",
       "    <tr>\n",
       "      <th>4</th>\n",
       "      <td>1.684001</td>\n",
       "      <td>24.726650</td>\n",
       "      <td>0.146833</td>\n",
       "    </tr>\n",
       "    <tr>\n",
       "      <th>...</th>\n",
       "      <td>...</td>\n",
       "      <td>...</td>\n",
       "      <td>...</td>\n",
       "    </tr>\n",
       "    <tr>\n",
       "      <th>97</th>\n",
       "      <td>1.893827</td>\n",
       "      <td>29.280596</td>\n",
       "      <td>0.154611</td>\n",
       "    </tr>\n",
       "    <tr>\n",
       "      <th>98</th>\n",
       "      <td>2.256450</td>\n",
       "      <td>36.743203</td>\n",
       "      <td>0.162836</td>\n",
       "    </tr>\n",
       "    <tr>\n",
       "      <th>99</th>\n",
       "      <td>1.812770</td>\n",
       "      <td>27.550839</td>\n",
       "      <td>0.151982</td>\n",
       "    </tr>\n",
       "    <tr>\n",
       "      <th>100</th>\n",
       "      <td>2.245847</td>\n",
       "      <td>36.536591</td>\n",
       "      <td>0.162685</td>\n",
       "    </tr>\n",
       "    <tr>\n",
       "      <th>101</th>\n",
       "      <td>1.950817</td>\n",
       "      <td>30.481192</td>\n",
       "      <td>0.156248</td>\n",
       "    </tr>\n",
       "  </tbody>\n",
       "</table>\n",
       "<p>102 rows × 3 columns</p>\n",
       "</div>"
      ],
      "text/plain": [
       "           ej         rj      frac\n",
       "0    1.596653  22.748207  0.142474\n",
       "1    1.800415  27.273659  0.151485\n",
       "2    2.357326  38.767756  0.164457\n",
       "3    1.808246  27.451131  0.151811\n",
       "4    1.684001  24.726650  0.146833\n",
       "..        ...        ...       ...\n",
       "97   1.893827  29.280596  0.154611\n",
       "98   2.256450  36.743203  0.162836\n",
       "99   1.812770  27.550839  0.151982\n",
       "100  2.245847  36.536591  0.162685\n",
       "101  1.950817  30.481192  0.156248\n",
       "\n",
       "[102 rows x 3 columns]"
      ]
     },
     "execution_count": 85,
     "metadata": {},
     "output_type": "execute_result"
    }
   ],
   "source": [
    "df_fig"
   ]
  },
  {
   "cell_type": "code",
   "execution_count": 101,
   "metadata": {},
   "outputs": [
    {
     "data": {
      "text/plain": [
       "0.8229786945827724"
      ]
     },
     "execution_count": 101,
     "metadata": {},
     "output_type": "execute_result"
    }
   ],
   "source": [
    "Unresolved_frac = df_fig['frac'].mean()\n",
    "max_rj = df_fig['rj'].max()/10\n",
    "Unresolved = (Unresolved_frac*max_rj)\n",
    "Unresolved"
   ]
  },
  {
   "cell_type": "code",
   "execution_count": 102,
   "metadata": {},
   "outputs": [],
   "source": [
    "df_fig['test'] = df_fig['rj'] / 10\n",
    "df_fig_pred['test'] = df_fig_pred['rj_pred'] / 10\n",
    "df_fig_pred_OS['test'] = df_fig_pred_OS['rj_pred'] / 10"
   ]
  },
  {
   "cell_type": "code",
   "execution_count": 132,
   "metadata": {},
   "outputs": [],
   "source": [
    "coeff = (df_fig['ej'][90] - df_fig['ej'][5])/(df_fig['test'][90] - df_fig['test'][5])\n",
    "line_tmp = df_fig['test']*coeff\n",
    "intercept = df_fig['ej'].mean() - line_tmp.mean()\n",
    "line = range(0,6,1)*coeff \n",
    "line = line + intercept"
   ]
  },
  {
   "cell_type": "code",
   "execution_count": 168,
   "metadata": {},
   "outputs": [
    {
     "data": {
      "text/plain": [
       "2.4080639266846715"
      ]
     },
     "execution_count": 168,
     "metadata": {},
     "output_type": "execute_result"
    }
   ],
   "source": [
    "rj_list = []\n",
    "for i in range(0,len(U_obs),1) :\n",
    "    j=i+1\n",
    "    pc = np.load(path_files+'npy/CNRMppe_decomposition_p1_EOF'+str(j)+'pc_'+str(variable)+'.npy')\n",
    "    diff = (U_obs[i]-pc)**2\n",
    "    rj_list.append(diff)\n",
    "p1_rj = sqrt(sum(rj_list)/len(rj_list))/10\n",
    "p1_rj"
   ]
  },
  {
   "cell_type": "code",
   "execution_count": 169,
   "metadata": {},
   "outputs": [
    {
     "data": {
      "text/plain": [
       "{'ej': 1.655165983330085, 'rj': 2.4080639266846715}"
      ]
     },
     "execution_count": 169,
     "metadata": {},
     "output_type": "execute_result"
    }
   ],
   "source": [
    "p1_vec={}\n",
    "p1_vec['ej'] = diff_p1\n",
    "p1_vec['rj'] = p1_rj\n",
    "p1_vec"
   ]
  },
  {
   "cell_type": "markdown",
   "metadata": {},
   "source": [
    "# Figure"
   ]
  },
  {
   "cell_type": "code",
   "execution_count": 176,
   "metadata": {},
   "outputs": [
    {
     "data": {
      "image/png": "[encoded data removed]",
      "text/plain": [
       "<Figure size 720x720 with 1 Axes>"
      ]
     },
     "metadata": {
      "needs_background": "light"
     },
     "output_type": "display_data"
    }
   ],
   "source": [
    "plt.figure(figsize=(10, 10))\n",
    "    \n",
    "\n",
    "ax = plt.gca()\n",
    "#ax2 = ax.twinx()\n",
    "\n",
    "\n",
    "ax.axvspan(0, Unresolved, alpha=0.3, color='gray')\n",
    "ax.plot(range(0,6,1), line, linestyle=\"-.\", alpha=0.7,  color='black')\n",
    "# ------- PLOT p1 sur la figure : work in progress --------\n",
    "#ax.plot(p1_vec['rj'], p1_vec['ej'], color='red')\n",
    "#---------------------------\n",
    "df_fig.plot(kind='scatter', x='test', y='ej', color = 'black', alpha=1, ax=ax)\n",
    "df_fig_pred.plot(kind='scatter', x='test', y='ej', color = 'blue', alpha=1, ax=ax)\n",
    "df_fig_pred_OS.plot(kind='scatter', x='test', y='ej', color = 'red', alpha=1, ax=ax)\n",
    "\n",
    "#ax.axhline(0, color='k', alpha=0.5)\n",
    "#ax.set_ylim(0, 1.1)\n",
    "ax.set_xlabel('EOF reconstruction', size = 20)\n",
    "ax.set_ylabel('GM RMSE', size = 20)\n",
    "ax.set_title('(o) Surface Temperature - 100 modes', fontsize=20, \n",
    "             fontweight = 'bold')\n",
    "#ax.set_xscale('log')\n",
    "ax.tick_params(axis='y', which='major', labelsize=20)\n",
    "ax.tick_params(axis='x', which='major', labelsize=20)\n",
    "\n",
    "plt.xlim([0, 5])\n",
    "plt.ylim([0, 5])\n",
    "\n",
    "# Legend .................\n",
    "\n",
    "#legend = [ 'Correlation', 'Unresolved fraction']\n",
    "#ax.get_legend().remove()\n",
    "#ax.legend(legend, fontsize=25, bbox_to_anchor=(1.65, 0.83)) #bbox_to_anchor=(1.05, 1)\n",
    "#fig.subplots_adjust(right=0.8)\n",
    "\n",
    "# Grid .................\n",
    "#ax.grid(True, which=\"both\", axis='x')\n",
    "\n",
    "# Save la figure .................\n",
    "plt.savefig(\"/data/home/globc/peatier/figures/Fig3_\"+variable+\".png\", \n",
    "            orientation='portrait', bbox_inches='tight', pad_inches=0.1)\n",
    "\n",
    "# Show la figure .................\n",
    "plt.show()"
   ]
  },
  {
   "cell_type": "code",
   "execution_count": null,
   "metadata": {},
   "outputs": [],
   "source": []
  }
 ],
 "metadata": {
  "kernelspec": {
   "display_name": "Python 3",
   "language": "python",
   "name": "python3"
  },
  "language_info": {
   "codemirror_mode": {
    "name": "ipython",
    "version": 3
   },
   "file_extension": ".py",
   "mimetype": "text/x-python",
   "name": "python",
   "nbconvert_exporter": "python",
   "pygments_lexer": "ipython3",
   "version": "3.7.6"
  }
 },
 "nbformat": 4,
 "nbformat_minor": 2
}
