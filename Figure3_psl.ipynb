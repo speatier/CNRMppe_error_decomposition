{
 "cells": [
  {
   "cell_type": "markdown",
   "metadata": {},
   "source": [
    "# Import Module"
   ]
  },
  {
   "cell_type": "code",
   "execution_count": 1,
   "metadata": {},
   "outputs": [],
   "source": [
    "# Computational modules \n",
    "%matplotlib inline\n",
    "import xarray as xr\n",
    "import glob\n",
    "import os\n",
    "import numpy as np\n",
    "import netCDF4\n",
    "from netCDF4 import Dataset\n",
    "import pandas as pd\n",
    "import re\n",
    "from array import array\n",
    "from pylab import *\n",
    "#import geopandas\n",
    "from eofs.xarray import Eof\n",
    "from eofs.multivariate.standard import MultivariateEof\n",
    "\n",
    "# Plotting modules \n",
    "import matplotlib.pyplot as plt\n",
    "from mpl_toolkits.basemap import Basemap\n",
    "import pandas.plotting\n",
    "import matplotlib.ticker as ticker\n",
    "import seaborn as sns\n",
    "import cartopy.crs as ccrs\n",
    "import cartopy.feature as cfeature\n",
    "from matplotlib.colors import BoundaryNorm\n",
    "\n",
    "# Scikit-learn\n",
    "from sklearn import linear_model\n",
    "from sklearn.linear_model import LassoCV, LassoLarsCV, LassoLarsIC\n",
    "from sklearn.linear_model import Lasso\n",
    "from sklearn.metrics import r2_score\n",
    "from sklearn import preprocessing\n",
    "from sklearn import tree\n",
    "from sklearn.ensemble import RandomForestClassifier\n",
    "from sklearn.metrics import confusion_matrix\n",
    "from sklearn import metrics\n",
    "from sklearn.neural_network import MLPRegressor\n",
    "from scipy.optimize import minimize\n",
    "from scipy.optimize import dual_annealing\n",
    "from sklearn.decomposition import PCA"
   ]
  },
  {
   "cell_type": "markdown",
   "metadata": {},
   "source": [
    "# Settings"
   ]
  },
  {
   "cell_type": "markdown",
   "metadata": {},
   "source": [
    "### Variables"
   ]
  },
  {
   "cell_type": "code",
   "execution_count": 2,
   "metadata": {},
   "outputs": [],
   "source": [
    "variables = ['psl']\n",
    "variable = 'psl'\n",
    "TITLE = 'Sea Level Pressure'\n",
    "ylabel = '$E_{psl}$ ($Pa$)'"
   ]
  },
  {
   "cell_type": "markdown",
   "metadata": {},
   "source": [
    "### Paths"
   ]
  },
  {
   "cell_type": "code",
   "execution_count": 3,
   "metadata": {},
   "outputs": [],
   "source": [
    "path_official='/data/scratch/globc/peatier/CMIP6/CNRM-CM6-1/CFMIP/amip/'\n",
    "path_PPE='/data/scratch/globc/peatier/CNRM-CM6-1_PPE/'\n",
    "path_files='/data/home/globc/peatier/CNRMppe/PPE/ENSEMBLE2/files/'"
   ]
  },
  {
   "cell_type": "markdown",
   "metadata": {},
   "source": [
    "### List of members"
   ]
  },
  {
   "cell_type": "code",
   "execution_count": 4,
   "metadata": {},
   "outputs": [
    {
     "data": {
      "text/plain": [
       "102"
      ]
     },
     "execution_count": 4,
     "metadata": {},
     "output_type": "execute_result"
    }
   ],
   "source": [
    "nb_p_list = ['p311', 'p312', 'p314', 'p316',\n",
    "                    'p317', 'p319', 'p320', 'p321', 'p322', 'p324', 'p325', 'p326', \n",
    "                    'p329', 'p330', 'p331', 'p332', 'p335', 'p336', 'p337' ,'p338', \n",
    "                    'p340', 'p341', 'p343', 'p344', 'p346', 'p347', 'p348', 'p349', \n",
    "                    'p350', 'p353', 'p355', 'p357', 'p359', 'p360', \n",
    "                    'p361', 'p363', 'p365', 'p367', 'p368', 'p369', \n",
    "                    'p372', 'p373', 'p374', 'p375', 'p376', 'p378', 'p381', 'p382', \n",
    "                    'p384', 'p386', 'p388', 'p389', 'p391', 'p392', 'p393', \n",
    "                    'p394', 'p395', 'p396', 'p398', 'p399', 'p400', 'p404', \n",
    "                    'p406', 'p407', 'p409', 'p410', 'p411', 'p412',\n",
    "                    'p414','p416',\n",
    "                    'p413','p419','p424','p426','p428','p421','p423',\n",
    "                    'p425','p427','p429','p430','p436','p438','p431','p433',\n",
    "                    'p442','p446','p443','p445','p447',\n",
    "                    'p452','p454','p456','p458','p457','p459',\n",
    "                    'p460','p465','p467','p469',\n",
    "                    'p470','p471']\n",
    "\n",
    "len(nb_p_list)"
   ]
  },
  {
   "cell_type": "markdown",
   "metadata": {},
   "source": [
    "# Functions"
   ]
  },
  {
   "cell_type": "code",
   "execution_count": 5,
   "metadata": {},
   "outputs": [],
   "source": [
    "def get_3D_psl_xarr(path, filename, variables):\n",
    "\n",
    "    # First step : download the data into dataframe\n",
    "    file = xr.open_mfdataset(path+filename,combine='by_coords')\n",
    "    \n",
    "    # Second step : compute the annual average \n",
    "    df = file[variables].mean('time', keep_attrs=True)\n",
    "    psl = df['psl']\n",
    "    \n",
    "    return psl"
   ]
  },
  {
   "cell_type": "code",
   "execution_count": 6,
   "metadata": {},
   "outputs": [],
   "source": [
    "def load_monthly_clim(path, filename, variables) :\n",
    "    \n",
    "    file = xr.open_mfdataset(path+filename,combine='by_coords')\n",
    "    df=file[variables].to_dataframe()\n",
    "    \n",
    "    # Compute Climatological Annual Cycle :\n",
    "    df1=df.reset_index(level=['time', 'lat', 'lon'])\n",
    "    df1['year']=pd.DatetimeIndex(df1['time']).year\n",
    "    df1['month']=pd.DatetimeIndex(df1['time']).month\n",
    "    \n",
    "    #list_ind = []\n",
    "    #cpt=0\n",
    "    #for i in df1['year'] : \n",
    "    #    if i>1981 :\n",
    "    #        list_ind.append(cpt)\n",
    "    #        cpt+=1\n",
    "    #    else : \n",
    "    #        cpt+=1\n",
    "            \n",
    "    #df2 = df1.drop(list_ind)\n",
    "    df_mean=df1.groupby(['month', 'lat', 'lon']).mean()\n",
    "    df_mean=df_mean.drop(columns='year')\n",
    "    \n",
    "    return df_mean"
   ]
  },
  {
   "cell_type": "markdown",
   "metadata": {},
   "source": [
    "# Get data : obs, PPE, p1"
   ]
  },
  {
   "cell_type": "code",
   "execution_count": 7,
   "metadata": {},
   "outputs": [],
   "source": [
    "path_observation = '/data/scratch/globc/peatier/obs_data/NCEP/'\n",
    "filename = 'psl_1m_194801-202001_NCEP_regrid.nc'"
   ]
  },
  {
   "cell_type": "code",
   "execution_count": 8,
   "metadata": {},
   "outputs": [
    {
     "data": {
      "text/html": [
       "<div>\n",
       "<style scoped>\n",
       "    .dataframe tbody tr th:only-of-type {\n",
       "        vertical-align: middle;\n",
       "    }\n",
       "\n",
       "    .dataframe tbody tr th {\n",
       "        vertical-align: top;\n",
       "    }\n",
       "\n",
       "    .dataframe thead th {\n",
       "        text-align: right;\n",
       "    }\n",
       "</style>\n",
       "<table border=\"1\" class=\"dataframe\">\n",
       "  <thead>\n",
       "    <tr style=\"text-align: right;\">\n",
       "      <th></th>\n",
       "      <th></th>\n",
       "      <th></th>\n",
       "      <th>psl</th>\n",
       "    </tr>\n",
       "    <tr>\n",
       "      <th>month</th>\n",
       "      <th>lat</th>\n",
       "      <th>lon</th>\n",
       "      <th></th>\n",
       "    </tr>\n",
       "  </thead>\n",
       "  <tbody>\n",
       "    <tr>\n",
       "      <th rowspan=\"5\" valign=\"top\">1</th>\n",
       "      <th rowspan=\"5\" valign=\"top\">-88.927735</th>\n",
       "      <th>0.00000</th>\n",
       "      <td>100023.507812</td>\n",
       "    </tr>\n",
       "    <tr>\n",
       "      <th>1.40625</th>\n",
       "      <td>100023.250000</td>\n",
       "    </tr>\n",
       "    <tr>\n",
       "      <th>2.81250</th>\n",
       "      <td>100022.960938</td>\n",
       "    </tr>\n",
       "    <tr>\n",
       "      <th>4.21875</th>\n",
       "      <td>100022.539062</td>\n",
       "    </tr>\n",
       "    <tr>\n",
       "      <th>5.62500</th>\n",
       "      <td>100022.070312</td>\n",
       "    </tr>\n",
       "    <tr>\n",
       "      <th>...</th>\n",
       "      <th>...</th>\n",
       "      <th>...</th>\n",
       "      <td>...</td>\n",
       "    </tr>\n",
       "    <tr>\n",
       "      <th rowspan=\"5\" valign=\"top\">12</th>\n",
       "      <th rowspan=\"5\" valign=\"top\">88.927735</th>\n",
       "      <th>352.96875</th>\n",
       "      <td>101233.906250</td>\n",
       "    </tr>\n",
       "    <tr>\n",
       "      <th>354.37500</th>\n",
       "      <td>101234.257812</td>\n",
       "    </tr>\n",
       "    <tr>\n",
       "      <th>355.78125</th>\n",
       "      <td>101234.617188</td>\n",
       "    </tr>\n",
       "    <tr>\n",
       "      <th>357.18750</th>\n",
       "      <td>101234.992188</td>\n",
       "    </tr>\n",
       "    <tr>\n",
       "      <th>358.59375</th>\n",
       "      <td>101235.359375</td>\n",
       "    </tr>\n",
       "  </tbody>\n",
       "</table>\n",
       "<p>393216 rows × 1 columns</p>\n",
       "</div>"
      ],
      "text/plain": [
       "                                      psl\n",
       "month lat        lon                     \n",
       "1     -88.927735 0.00000    100023.507812\n",
       "                 1.40625    100023.250000\n",
       "                 2.81250    100022.960938\n",
       "                 4.21875    100022.539062\n",
       "                 5.62500    100022.070312\n",
       "...                                   ...\n",
       "12     88.927735 352.96875  101233.906250\n",
       "                 354.37500  101234.257812\n",
       "                 355.78125  101234.617188\n",
       "                 357.18750  101234.992188\n",
       "                 358.59375  101235.359375\n",
       "\n",
       "[393216 rows x 1 columns]"
      ]
     },
     "execution_count": 8,
     "metadata": {},
     "output_type": "execute_result"
    }
   ],
   "source": [
    "# Load data and compute Annual Cycle :\n",
    "file = xr.open_mfdataset(path_observation+filename,combine='by_coords')\n",
    "#file\n",
    "variables = ['psl']\n",
    "df_obs = load_monthly_clim(path_observation, filename, variables)\n",
    "df_obs"
   ]
  },
  {
   "cell_type": "code",
   "execution_count": 9,
   "metadata": {},
   "outputs": [
    {
     "data": {
      "text/html": [
       "<pre>&lt;xarray.Dataset&gt;\n",
       "Dimensions:  (lat: 128, lon: 256)\n",
       "Coordinates:\n",
       "  * lat      (lat) float64 -88.93 -87.54 -86.14 -84.74 ... 86.14 87.54 88.93\n",
       "  * lon      (lon) float64 0.0 1.406 2.812 4.219 ... 354.4 355.8 357.2 358.6\n",
       "Data variables:\n",
       "    psl      (lat, lon) float32 102612.0 102623.33 ... 101308.24 101308.586</pre>"
      ],
      "text/plain": [
       "<xarray.Dataset>\n",
       "Dimensions:  (lat: 128, lon: 256)\n",
       "Coordinates:\n",
       "  * lat      (lat) float64 -88.93 -87.54 -86.14 -84.74 ... 86.14 87.54 88.93\n",
       "  * lon      (lon) float64 0.0 1.406 2.812 4.219 ... 354.4 355.8 357.2 358.6\n",
       "Data variables:\n",
       "    psl      (lat, lon) float32 102612.0 102623.33 ... 101308.24 101308.586"
      ]
     },
     "execution_count": 9,
     "metadata": {},
     "output_type": "execute_result"
    }
   ],
   "source": [
    "df_obs[variable] =  df_obs['psl']\n",
    "obs = df_obs.groupby(['lat','lon']).mean().to_xarray()\n",
    "obs"
   ]
  },
  {
   "cell_type": "code",
   "execution_count": 10,
   "metadata": {},
   "outputs": [],
   "source": [
    "# Default simulation\n",
    "path = path_PPE+'ENSEMBLE1/CNRM-CM6-1_amip_PPE/CNRM-CM6-1_amip_r1i1p1f2/'\n",
    "filename = '*_CNRM-CM6-1_amip_*.nc'\n",
    "p1_amip = get_3D_psl_xarr(path, filename, variables)"
   ]
  },
  {
   "cell_type": "code",
   "execution_count": 11,
   "metadata": {},
   "outputs": [],
   "source": [
    "# PPE amip simulations \n",
    "filename='*_amip_*.nc'\n",
    "\n",
    "N=len(nb_p_list)\n",
    "amip={}\n",
    "i = 0\n",
    "while i<N:\n",
    "    nb_p = nb_p_list[i]\n",
    "    #print(nb_p)\n",
    "    path=path_PPE+'ENSEMBLE2/CNRM-CM6-1_amip_LHS500_PPE/CNRM-CM6-1_amip_r1i1'+str(nb_p)+'f2/'\n",
    "    amip[str(nb_p)] = get_3D_psl_xarr(path, filename, variables)\n",
    "    i=i+1"
   ]
  },
  {
   "cell_type": "code",
   "execution_count": 12,
   "metadata": {},
   "outputs": [],
   "source": [
    "amip['p1'] = p1_amip"
   ]
  },
  {
   "cell_type": "markdown",
   "metadata": {},
   "source": [
    "# Calcule full RMSE (ej)"
   ]
  },
  {
   "cell_type": "code",
   "execution_count": 13,
   "metadata": {},
   "outputs": [
    {
     "data": {
      "text/plain": [
       "307.9932020353696"
      ]
     },
     "execution_count": 13,
     "metadata": {},
     "output_type": "execute_result"
    }
   ],
   "source": [
    "# Reference p1\n",
    "diff = (amip['p1'].values - obs[variable].values)**2\n",
    "diff_p1 = sqrt(sum(diff)/(128*256))\n",
    "diff_p1"
   ]
  },
  {
   "cell_type": "code",
   "execution_count": 14,
   "metadata": {},
   "outputs": [],
   "source": [
    "ej = {}\n",
    "#ej['p1'] = diff_p1\n",
    "\n",
    "for p in nb_p_list :\n",
    "    diff_tmp = (amip[p] - obs[variable])**2\n",
    "    diff = sqrt(diff_tmp.sum(dim=['lat', 'lon'])/(128*256))\n",
    "    ej[p] = diff\n"
   ]
  },
  {
   "cell_type": "markdown",
   "metadata": {},
   "source": [
    "### Save"
   ]
  },
  {
   "cell_type": "code",
   "execution_count": 15,
   "metadata": {},
   "outputs": [],
   "source": [
    "np.save(path_files+'npy/CNRMppe_decomposition_ej_'+str(variable)+'.npy', ej)"
   ]
  },
  {
   "cell_type": "markdown",
   "metadata": {},
   "source": [
    "# EOF + truncated RMSE (rj)"
   ]
  },
  {
   "cell_type": "markdown",
   "metadata": {},
   "source": [
    "## EOF"
   ]
  },
  {
   "cell_type": "code",
   "execution_count": 16,
   "metadata": {},
   "outputs": [],
   "source": [
    "n=len(nb_p_list)\n",
    "amip_list=[0]*(n+1)\n",
    "\n",
    "amip_list[0] = amip['p1']\n",
    "\n",
    "i = 0\n",
    "while i<n:\n",
    "    nb_p = nb_p_list[i]\n",
    "    #print(nb_p)\n",
    "    tmp = amip[str(nb_p)]\n",
    "    amip_list[i+1] = tmp\n",
    "    i+=1"
   ]
  },
  {
   "cell_type": "code",
   "execution_count": 17,
   "metadata": {},
   "outputs": [],
   "source": [
    "matrix = xr.combine_nested(amip_list, concat_dim=['time'])"
   ]
  },
  {
   "cell_type": "code",
   "execution_count": 18,
   "metadata": {},
   "outputs": [],
   "source": [
    "# Mean wheigted with cos(lat) : \n",
    "lats = matrix['lat'][:]\n",
    "coslat = np.cos(np.deg2rad(lats)).clip(0., 1.)\n",
    "wgts = np.sqrt(coslat).drop(labels='height').values\n",
    "W =wgts[np.newaxis,:,np.newaxis]\n",
    "#W"
   ]
  },
  {
   "cell_type": "code",
   "execution_count": 19,
   "metadata": {
    "scrolled": true
   },
   "outputs": [],
   "source": [
    "# Compute anomalies by removing the ensemble-mean.\n",
    "mean = matrix.mean(axis=0)\n",
    "anom = matrix - mean"
   ]
  },
  {
   "cell_type": "code",
   "execution_count": 20,
   "metadata": {},
   "outputs": [],
   "source": [
    "# Create an EOF solver to do the EOF analysis. \n",
    "solver = Eof(anom, center=False)"
   ]
  },
  {
   "cell_type": "code",
   "execution_count": 21,
   "metadata": {},
   "outputs": [],
   "source": [
    "eof = solver.eofsAsCovariance(neofs=100, pcscaling=1)\n",
    "pc = solver.pcs(npcs=100, pcscaling=0)"
   ]
  },
  {
   "cell_type": "code",
   "execution_count": 22,
   "metadata": {},
   "outputs": [],
   "source": [
    "varFrac = solver.varianceFraction(neigs=100)"
   ]
  },
  {
   "cell_type": "markdown",
   "metadata": {},
   "source": [
    "### Save"
   ]
  },
  {
   "cell_type": "code",
   "execution_count": 23,
   "metadata": {},
   "outputs": [],
   "source": [
    "for i in range(0,len(eof),1) : \n",
    "    j = i+1\n",
    "    # EOFmap\n",
    "    EOF_df = eof[i].to_dataframe().drop(labels = 'mode', axis=1)\n",
    "    EOF_df.to_pickle(path_files+\"npy/CNRMppe_decomposition_EOFmap\"+str(j)+\"_\"+str(variable)+\".npy\")\n",
    "    \n",
    "    #EOFpc\n",
    "    pc_p1 = pc[0, i]\n",
    "    pc_mb = pc[1:, i]\n",
    "    np.save(path_files+'npy/CNRMppe_decomposition_p1_EOF'+str(j)+'pc_'+str(variable)+'.npy', pc_p1)\n",
    "    np.save(path_files+'npy/CNRMppe_decomposition_EOF'+str(j)+'pc_'+str(variable)+'.npy', pc_mb)"
   ]
  },
  {
   "cell_type": "code",
   "execution_count": 24,
   "metadata": {},
   "outputs": [],
   "source": [
    "mean_df = mean.to_dataframe(name=str(variable)+'mean').drop(labels = 'height', axis=1)\n",
    "mean_df.to_pickle(path_files+'npy/CNRMppe_decomposition_mean_'+str(variable)+'.npy')"
   ]
  },
  {
   "cell_type": "markdown",
   "metadata": {},
   "source": [
    "## Get the observations"
   ]
  },
  {
   "cell_type": "code",
   "execution_count": 25,
   "metadata": {},
   "outputs": [
    {
     "data": {
      "text/html": [
       "<pre>&lt;xarray.DataArray (lat: 128, lon: 256)&gt;\n",
       "array([[ 594.96875,  606.2969 ,  617.4297 , ...,  557.35156,  570.39844,\n",
       "         582.78125],\n",
       "       [ 881.8047 ,  907.8047 ,  933.3672 , ...,  795.46094,  825.40625,\n",
       "         853.8281 ],\n",
       "       [ 904.2656 ,  925.8203 ,  946.4531 , ...,  859.6875 ,  849.4297 ,\n",
       "         877.53125],\n",
       "       ...,\n",
       "       [-452.4297 , -454.1328 , -455.85938, ..., -452.75   , -449.33594,\n",
       "        -450.8672 ],\n",
       "       [-423.90625, -423.1797 , -422.46875, ..., -426.2578 , -425.46094,\n",
       "        -424.6797 ],\n",
       "       [-476.5625 , -476.2422 , -475.9375 , ..., -477.58594, -477.2422 ,\n",
       "        -476.89844]], dtype=float32)\n",
       "Coordinates:\n",
       "  * lat      (lat) float64 -88.93 -87.54 -86.14 -84.74 ... 86.14 87.54 88.93\n",
       "  * lon      (lon) float64 0.0 1.406 2.812 4.219 ... 354.4 355.8 357.2 358.6\n",
       "    mode     &lt;U7 &#x27;pslmean&#x27;</pre>"
      ],
      "text/plain": [
       "<xarray.DataArray (lat: 128, lon: 256)>\n",
       "array([[ 594.96875,  606.2969 ,  617.4297 , ...,  557.35156,  570.39844,\n",
       "         582.78125],\n",
       "       [ 881.8047 ,  907.8047 ,  933.3672 , ...,  795.46094,  825.40625,\n",
       "         853.8281 ],\n",
       "       [ 904.2656 ,  925.8203 ,  946.4531 , ...,  859.6875 ,  849.4297 ,\n",
       "         877.53125],\n",
       "       ...,\n",
       "       [-452.4297 , -454.1328 , -455.85938, ..., -452.75   , -449.33594,\n",
       "        -450.8672 ],\n",
       "       [-423.90625, -423.1797 , -422.46875, ..., -426.2578 , -425.46094,\n",
       "        -424.6797 ],\n",
       "       [-476.5625 , -476.2422 , -475.9375 , ..., -477.58594, -477.2422 ,\n",
       "        -476.89844]], dtype=float32)\n",
       "Coordinates:\n",
       "  * lat      (lat) float64 -88.93 -87.54 -86.14 -84.74 ... 86.14 87.54 88.93\n",
       "  * lon      (lon) float64 0.0 1.406 2.812 4.219 ... 354.4 355.8 357.2 358.6\n",
       "    mode     <U7 'pslmean'"
      ]
     },
     "execution_count": 25,
     "metadata": {},
     "output_type": "execute_result"
    }
   ],
   "source": [
    "Mean =  pd.read_pickle(path_files+'npy/CNRMppe_decomposition_mean_'+str(variable)+'.npy').to_xarray().to_array()\n",
    "Mean = Mean[0,:,:].rename({'variable':'mode'})\n",
    "X_obs = obs[variable] - Mean\n",
    "#X_obs = obs.expand_dims(dim={'dummy':range(0,102,1)})\n",
    "#X_obs = obs.fillna(0.0)\n",
    "X_obs"
   ]
  },
  {
   "cell_type": "code",
   "execution_count": 26,
   "metadata": {},
   "outputs": [],
   "source": [
    "def Error_rj(cpt, U_obs, variable):\n",
    "    rj_list = []\n",
    "    for i in range(0,len(U_obs),1) :\n",
    "        j=i+1\n",
    "        pc = np.load(path_files+'npy/CNRMppe_decomposition_EOF'+str(j)+'pc_'+str(variable)+'.npy')\n",
    "        diff = (pc[cpt]-U_obs[i])**2\n",
    "        rj_list.append(diff)\n",
    "        #print(pc[cpt])\n",
    "        #print(U_obs[i])\n",
    "        #print(diff)\n",
    "    rj_E = sqrt(sum(rj_list)/(128*256))\n",
    "    return rj_E"
   ]
  },
  {
   "cell_type": "markdown",
   "metadata": {},
   "source": [
    "## Emulation"
   ]
  },
  {
   "cell_type": "code",
   "execution_count": 27,
   "metadata": {},
   "outputs": [],
   "source": [
    "def MultiLinReg(limit_train, EOF_nb, x, variable) :\n",
    "    X = np.load(file=\"/data/home/globc/peatier/CNRMppe/PPE/ENSEMBLE2/files/npy/X_EmulateurFeedbacksN.npy\")\n",
    "    y = np.load(file=path_files+'npy/CNRMppe_decomposition_EOF'+str(EOF_nb)+'pc_'+str(variable)+'.npy')\n",
    "    param_names = np.load(file=\"/data/home/globc/peatier/CNRMppe/PPE/ENSEMBLE2/files/npy/LHS_paramNames.npy\")\n",
    "    \n",
    "    # Let's use the model equation : \n",
    "\n",
    "    X_df = pd.DataFrame(data=X)\n",
    "    regr = linear_model.LinearRegression()\n",
    "    regr.fit(X[0:limit_train], y[0:limit_train])\n",
    "    R = regr.intercept_\n",
    "    Coeffs = pd.DataFrame([regr.coef_]*30, columns=param_names).iloc[0]\n",
    "  \n",
    "    tmp = Coeffs.values*x\n",
    "    y_pred = tmp.sum()+R\n",
    "    \n",
    "    return y_pred"
   ]
  },
  {
   "cell_type": "code",
   "execution_count": 28,
   "metadata": {},
   "outputs": [],
   "source": [
    "X = np.load(file=\"/data/home/globc/peatier/CNRMppe/PPE/ENSEMBLE2/files/npy/X_EmulateurFeedbacksN.npy\")\n",
    "pc_OS={}\n",
    "pc={}\n",
    "\n",
    "\n",
    "def predict_OS(X, EOF_nb) :\n",
    "    tmp_list = []\n",
    "    for x in X[80:] :\n",
    "        tmp = MultiLinReg(80, EOF_nb, x, variable)\n",
    "        tmp_list.append(tmp)\n",
    "    return tmp_list\n",
    "\n",
    "def predict_train(X, EOF_nb) :\n",
    "    tmp_list = []\n",
    "    for x in X[:80] :\n",
    "        tmp = MultiLinReg(80, EOF_nb, x, variable)\n",
    "        tmp_list.append(tmp)\n",
    "    return tmp_list\n",
    "    \n",
    "for i in range(1,101,1) : \n",
    "    pc_OS['modes_'+str(i)] = predict_OS(X, i)\n",
    "    pc['modes_'+str(i)] = predict_train(X,i)\n",
    "\n",
    "#pc_pred"
   ]
  },
  {
   "cell_type": "code",
   "execution_count": 29,
   "metadata": {},
   "outputs": [],
   "source": [
    "df_pc_OS = pd.DataFrame(pc_OS['modes_1'], columns=['modes_1'])\n",
    "df_pc = pd.DataFrame(pc['modes_1'], columns=['modes_1'])\n",
    "for i in range(1,101,1) :\n",
    "    df_pc_OS['modes_'+str(i)] = pc_OS['modes_'+str(i)]\n",
    "    df_pc['modes_'+str(i)] = pc['modes_'+str(i)]"
   ]
  },
  {
   "cell_type": "code",
   "execution_count": 30,
   "metadata": {},
   "outputs": [],
   "source": [
    "def Error_rj_pred(df_pc_pred, U_obs, variable, p):\n",
    "    rj_pred_list = []\n",
    "    for i in range(0,len(U_obs),1) :\n",
    "        j=i+1\n",
    "        pc_pred = df_pc_pred['modes_'+str(i+1)] \n",
    "        diff = (pc_pred[p]-U_obs[i])**2\n",
    "        rj_pred_list.append(diff)\n",
    "        \n",
    "    rj_pred = sqrt(sum(rj_pred_list)/(128*256))\n",
    "    return rj_pred"
   ]
  },
  {
   "cell_type": "markdown",
   "metadata": {},
   "source": [
    "# 4, 10 and 100 modes considered"
   ]
  },
  {
   "cell_type": "code",
   "execution_count": 31,
   "metadata": {},
   "outputs": [],
   "source": [
    "ej_list = []\n",
    "for p in nb_p_list :\n",
    "    ej_tmp = ej[p]\n",
    "    ej_list.append(ej_tmp)"
   ]
  },
  {
   "cell_type": "code",
   "execution_count": 61,
   "metadata": {},
   "outputs": [
    {
     "data": {
      "text/html": [
       "<pre>&lt;xarray.DataArray &#x27;pseudo_pcs&#x27; (mode: 10)&gt;\n",
       "array([ 17916.693 ,  10520.148 ,  22854.988 , -17135.393 ,  -9038.127 ,\n",
       "         5061.389 ,   7354.995 ,   1413.0966,   2540.218 , -15235.537 ],\n",
       "      dtype=float32)\n",
       "Coordinates:\n",
       "  * mode     (mode) int64 0 1 2 3 4 5 6 7 8 9\n",
       "Attributes:\n",
       "    long_name:  None_pseudo_pcs</pre>"
      ],
      "text/plain": [
       "<xarray.DataArray 'pseudo_pcs' (mode: 10)>\n",
       "array([ 17916.693 ,  10520.148 ,  22854.988 , -17135.393 ,  -9038.127 ,\n",
       "         5061.389 ,   7354.995 ,   1413.0966,   2540.218 , -15235.537 ],\n",
       "      dtype=float32)\n",
       "Coordinates:\n",
       "  * mode     (mode) int64 0 1 2 3 4 5 6 7 8 9\n",
       "Attributes:\n",
       "    long_name:  None_pseudo_pcs"
      ]
     },
     "execution_count": 61,
     "metadata": {},
     "output_type": "execute_result"
    }
   ],
   "source": [
    "neofs = 10\n",
    "U_obs = solver.projectField(X_obs, neofs=neofs, weighted=False, eofscaling=0)\n",
    "#U_obs = U_obs[0:4]\n",
    "U_obs"
   ]
  },
  {
   "cell_type": "code",
   "execution_count": 62,
   "metadata": {},
   "outputs": [],
   "source": [
    "df_fig = pd.DataFrame(ej_list, columns=['ej'])\n",
    "df_fig_pred = pd.DataFrame(ej_list[:80], columns=['ej'])\n",
    "df_fig_pred_OS = pd.DataFrame(ej_list[80:], columns=['ej'])\n",
    "\n",
    "  \n",
    "rj_list=[]\n",
    "cpt=0\n",
    "for p in nb_p_list:\n",
    "    tmp = Error_rj(cpt, U_obs, variable)\n",
    "    rj_list.append(tmp)\n",
    "    cpt+=1\n",
    "        \n",
    "df_fig['rj'] = rj_list\n",
    "df_fig['frac'] = abs(df_fig['rj']-df_fig['ej'])   \n",
    "        \n",
    "rj_pred_OS_list = []\n",
    "for p in range(0,22,1) : \n",
    "    tmp = Error_rj_pred(df_pc_OS, U_obs, variable, p)\n",
    "    rj_pred_OS_list.append(tmp)   \n",
    "    \n",
    "df_fig_pred_OS['rj_pred'] = rj_pred_OS_list\n",
    "\n",
    "rj_pred_list = []\n",
    "for p in range(0,80,1) : \n",
    "    tmp = Error_rj_pred(df_pc, U_obs, variable, p)\n",
    "    rj_pred_list.append(tmp)   \n",
    "    \n",
    "df_fig_pred['rj_pred'] = rj_pred_list"
   ]
  },
  {
   "cell_type": "code",
   "execution_count": 63,
   "metadata": {},
   "outputs": [
    {
     "data": {
      "text/plain": [
       "190.9290403199576"
      ]
     },
     "execution_count": 63,
     "metadata": {},
     "output_type": "execute_result"
    }
   ],
   "source": [
    "rj_list = []\n",
    "for i in range(0,len(U_obs),1) :\n",
    "    j=i+1\n",
    "    pc = np.load(path_files+'npy/CNRMppe_decomposition_p1_EOF'+str(j)+'pc_'+str(variable)+'.npy')\n",
    "    diff = (U_obs[i]-pc)**2\n",
    "    rj_list.append(diff)\n",
    "p1_rj = sqrt(sum(rj_list)/(128*256))#/10\n",
    "p1_rj"
   ]
  },
  {
   "cell_type": "code",
   "execution_count": 64,
   "metadata": {},
   "outputs": [
    {
     "data": {
      "text/plain": [
       "[307.9932020353696, 190.9290403199576]"
      ]
     },
     "execution_count": 64,
     "metadata": {},
     "output_type": "execute_result"
    }
   ],
   "source": [
    "#p1_vec={}\n",
    "#p1_vec['ej'] = diff_p1\n",
    "#p1_vec['rj'] = p1_rj\n",
    "p1_vec = []\n",
    "p1_vec.append(diff_p1)\n",
    "p1_vec.append(p1_rj)\n",
    "p1_vec"
   ]
  },
  {
   "cell_type": "code",
   "execution_count": 65,
   "metadata": {},
   "outputs": [
    {
     "data": {
      "text/plain": [
       "117.06416171541201"
      ]
     },
     "execution_count": 65,
     "metadata": {},
     "output_type": "execute_result"
    }
   ],
   "source": [
    "Unresolved = abs(p1_rj-diff_p1)#*diff_p1\n",
    "Unresolved"
   ]
  },
  {
   "cell_type": "code",
   "execution_count": 66,
   "metadata": {},
   "outputs": [],
   "source": [
    "df_fig['test'] = df_fig['rj'] + Unresolved\n",
    "df_fig_pred['test'] = df_fig_pred['rj_pred'] + Unresolved\n",
    "df_fig_pred_OS['test'] = df_fig_pred_OS['rj_pred'] + Unresolved"
   ]
  },
  {
   "cell_type": "code",
   "execution_count": 67,
   "metadata": {},
   "outputs": [],
   "source": [
    "p1_vec[1] = p1_vec[1] + Unresolved"
   ]
  },
  {
   "cell_type": "code",
   "execution_count": 68,
   "metadata": {},
   "outputs": [],
   "source": [
    "coeff = (df_fig['ej'][90] - df_fig['ej'][5])/(df_fig['test'][90] - df_fig['test'][5])\n",
    "line_tmp = df_fig['test']*coeff\n",
    "intercept = df_fig['ej'].mean() - line_tmp.mean()\n",
    "line = range(0,1000,1)*coeff \n",
    "line = line + intercept"
   ]
  },
  {
   "cell_type": "markdown",
   "metadata": {},
   "source": [
    "# Figure"
   ]
  },
  {
   "cell_type": "code",
   "execution_count": 60,
   "metadata": {},
   "outputs": [
    {
     "data": {
      "image/png": "[encoded data removed]",
      "text/plain": [
       "<Figure size 720x720 with 1 Axes>"
      ]
     },
     "metadata": {
      "needs_background": "light"
     },
     "output_type": "display_data"
    }
   ],
   "source": [
    "plt.figure(figsize=(10, 10))\n",
    "    \n",
    "\n",
    "ax = plt.gca()\n",
    "#ax2 = ax.twinx()\n",
    "\n",
    "\n",
    "ax.axvspan(0, Unresolved, alpha=0.3, color='gray')\n",
    "ax.plot(range(0,1000,1), line, linestyle=\"-.\", alpha=0.7,  color='black')\n",
    "# ------- PLOT p1 sur la figure : work in progress --------\n",
    "ax.plot(p1_vec[1], p1_vec[0], marker='o', color='white', markeredgecolor='black', markeredgewidth=4, \n",
    "        markersize=20)\n",
    "#---------------------------\n",
    "df_fig.plot(kind='scatter', x='test', y='ej', color = 'black', alpha=1, ax=ax)\n",
    "df_fig_pred.plot(kind='scatter', x='test', y='ej', color = 'blue', alpha=1, ax=ax)\n",
    "df_fig_pred_OS.plot(kind='scatter', x='test', y='ej', color = 'red', alpha=1, ax=ax)\n",
    "\n",
    "#ax.axhline(0, color='k', alpha=0.5)\n",
    "#ax.set_ylim(0, 1.1)\n",
    "ax.set_xlabel('EOF reconstruction', size = 20)\n",
    "ax.set_ylabel('GM RMSE', size = 20)\n",
    "ax.set_title('Surface Pressure - '+str(neofs)+' modes', fontsize=20, \n",
    "             fontweight = 'bold')\n",
    "#ax.set_xscale('log')\n",
    "ax.tick_params(axis='y', which='major', labelsize=20)\n",
    "ax.tick_params(axis='x', which='major', labelsize=20)\n",
    "\n",
    "plt.xlim([0, 1000])\n",
    "plt.ylim([0, 1000])\n",
    "\n",
    "# Legend .................\n",
    "\n",
    "#legend = [ 'Correlation', 'Unresolved fraction']\n",
    "#ax.get_legend().remove()\n",
    "#ax.legend(legend, fontsize=25, bbox_to_anchor=(1.65, 0.83)) #bbox_to_anchor=(1.05, 1)\n",
    "#fig.subplots_adjust(right=0.8)\n",
    "\n",
    "# Grid .................\n",
    "#ax.grid(True, which=\"both\", axis='x')\n",
    "\n",
    "# Save la figure .................\n",
    "plt.savefig(\"/data/home/globc/peatier/figures/Fig3_\"+variable+\"_\"+str(neofs)+\"modes.png\", \n",
    "            orientation='portrait', bbox_inches='tight', pad_inches=0.1)\n",
    "\n",
    "# Show la figure .................\n",
    "plt.show()"
   ]
  },
  {
   "cell_type": "code",
   "execution_count": 69,
   "metadata": {},
   "outputs": [
    {
     "data": {
      "image/png": "[encoded data removed]",
      "text/plain": [
       "<Figure size 720x720 with 1 Axes>"
      ]
     },
     "metadata": {
      "needs_background": "light"
     },
     "output_type": "display_data"
    }
   ],
   "source": [
    "plt.figure(figsize=(10, 10))\n",
    "    \n",
    "\n",
    "ax = plt.gca()\n",
    "#ax2 = ax.twinx()\n",
    "\n",
    "\n",
    "ax.axvspan(0, Unresolved, alpha=0.3, color='gray')\n",
    "ax.plot(range(0,1000,1), line, linestyle=\"-.\", alpha=0.7,  color='black')\n",
    "# ------- PLOT p1 sur la figure : work in progress --------\n",
    "ax.plot(p1_vec[1], p1_vec[0], marker='o', color='white', markeredgecolor='black', markeredgewidth=4, \n",
    "        markersize=20)\n",
    "#---------------------------\n",
    "df_fig.plot(kind='scatter', x='test', y='ej', color = 'black', alpha=1, ax=ax)\n",
    "df_fig_pred.plot(kind='scatter', x='test', y='ej', color = 'blue', alpha=1, ax=ax)\n",
    "df_fig_pred_OS.plot(kind='scatter', x='test', y='ej', color = 'red', alpha=1, ax=ax)\n",
    "\n",
    "#ax.axhline(0, color='k', alpha=0.5)\n",
    "#ax.set_ylim(0, 1.1)\n",
    "ax.set_xlabel('EOF reconstruction', size = 20)\n",
    "ax.set_ylabel('GM RMSE', size = 20)\n",
    "ax.set_title('Surface Pressure - '+str(neofs)+' modes', fontsize=20, \n",
    "             fontweight = 'bold')\n",
    "#ax.set_xscale('log')\n",
    "ax.tick_params(axis='y', which='major', labelsize=20)\n",
    "ax.tick_params(axis='x', which='major', labelsize=20)\n",
    "\n",
    "plt.xlim([0, 1000])\n",
    "plt.ylim([0, 1000])\n",
    "\n",
    "# Legend .................\n",
    "\n",
    "#legend = [ 'Correlation', 'Unresolved fraction']\n",
    "#ax.get_legend().remove()\n",
    "#ax.legend(legend, fontsize=25, bbox_to_anchor=(1.65, 0.83)) #bbox_to_anchor=(1.05, 1)\n",
    "#fig.subplots_adjust(right=0.8)\n",
    "\n",
    "# Grid .................\n",
    "#ax.grid(True, which=\"both\", axis='x')\n",
    "\n",
    "# Save la figure .................\n",
    "plt.savefig(\"/data/home/globc/peatier/figures/Fig3_\"+variable+\"_\"+str(neofs)+\"modes.png\", \n",
    "            orientation='portrait', bbox_inches='tight', pad_inches=0.1)\n",
    "\n",
    "# Show la figure .................\n",
    "plt.show()"
   ]
  },
  {
   "cell_type": "code",
   "execution_count": 51,
   "metadata": {},
   "outputs": [
    {
     "data": {
      "image/png": "[encoded data removed]",
      "text/plain": [
       "<Figure size 720x720 with 1 Axes>"
      ]
     },
     "metadata": {
      "needs_background": "light"
     },
     "output_type": "display_data"
    }
   ],
   "source": [
    "plt.figure(figsize=(10, 10))\n",
    "    \n",
    "\n",
    "ax = plt.gca()\n",
    "#ax2 = ax.twinx()\n",
    "\n",
    "\n",
    "ax.axvspan(0, Unresolved, alpha=0.3, color='gray')\n",
    "ax.plot(range(0,1000,1), line, linestyle=\"-.\", alpha=0.7,  color='black')\n",
    "# ------- PLOT p1 sur la figure : work in progress --------\n",
    "ax.plot(p1_vec[1], p1_vec[0], marker='o', color='white', markeredgecolor='black', markeredgewidth=4, \n",
    "        markersize=20)\n",
    "#---------------------------\n",
    "df_fig.plot(kind='scatter', x='test', y='ej', color = 'black', alpha=1, ax=ax)\n",
    "df_fig_pred.plot(kind='scatter', x='test', y='ej', color = 'blue', alpha=1, ax=ax)\n",
    "df_fig_pred_OS.plot(kind='scatter', x='test', y='ej', color = 'red', alpha=1, ax=ax)\n",
    "\n",
    "#ax.axhline(0, color='k', alpha=0.5)\n",
    "#ax.set_ylim(0, 1.1)\n",
    "ax.set_xlabel('EOF reconstruction', size = 20)\n",
    "ax.set_ylabel('GM RMSE', size = 20)\n",
    "ax.set_title('Surface Pressure - '+str(neofs)+' modes', fontsize=20, \n",
    "             fontweight = 'bold')\n",
    "#ax.set_xscale('log')\n",
    "ax.tick_params(axis='y', which='major', labelsize=20)\n",
    "ax.tick_params(axis='x', which='major', labelsize=20)\n",
    "\n",
    "plt.xlim([0, 1000])\n",
    "plt.ylim([0, 1000])\n",
    "\n",
    "# Legend .................\n",
    "\n",
    "#legend = [ 'Correlation', 'Unresolved fraction']\n",
    "#ax.get_legend().remove()\n",
    "#ax.legend(legend, fontsize=25, bbox_to_anchor=(1.65, 0.83)) #bbox_to_anchor=(1.05, 1)\n",
    "#fig.subplots_adjust(right=0.8)\n",
    "\n",
    "# Grid .................\n",
    "#ax.grid(True, which=\"both\", axis='x')\n",
    "\n",
    "# Save la figure .................\n",
    "plt.savefig(\"/data/home/globc/peatier/figures/Fig3_\"+variable+\"_\"+str(neofs)+\"modes.png\", \n",
    "            orientation='portrait', bbox_inches='tight', pad_inches=0.1)\n",
    "\n",
    "# Show la figure .................\n",
    "plt.show()"
   ]
  },
  {
   "cell_type": "code",
   "execution_count": null,
   "metadata": {},
   "outputs": [],
   "source": []
  }
 ],
 "metadata": {
  "kernelspec": {
   "display_name": "Python 3",
   "language": "python",
   "name": "python3"
  },
  "language_info": {
   "codemirror_mode": {
    "name": "ipython",
    "version": 3
   },
   "file_extension": ".py",
   "mimetype": "text/x-python",
   "name": "python",
   "nbconvert_exporter": "python",
   "pygments_lexer": "ipython3",
   "version": "3.7.6"
  }
 },
 "nbformat": 4,
 "nbformat_minor": 2
}
